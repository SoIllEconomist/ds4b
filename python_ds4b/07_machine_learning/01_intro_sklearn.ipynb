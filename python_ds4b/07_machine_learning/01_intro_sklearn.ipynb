{
  "nbformat": 4,
  "nbformat_minor": 0,
  "metadata": {
    "kernelspec": {
      "display_name": "PyCharm (ds4b)",
      "language": "python",
      "name": "pycharm-d7086c1b"
    },
    "language_info": {
      "codemirror_mode": {
        "name": "ipython",
        "version": 3
      },
      "file_extension": ".py",
      "mimetype": "text/x-python",
      "name": "python",
      "nbconvert_exporter": "python",
      "pygments_lexer": "ipython3",
      "version": "3.7.4"
    },
    "pycharm": {
      "stem_cell": {
        "cell_type": "raw",
        "metadata": {
          "collapsed": false
        },
        "source": []
      }
    },
    "colab": {
      "name": "01_intro_sklearn.ipynb",
      "provenance": [],
      "include_colab_link": true
    }
  },
  "cells": [
    {
      "cell_type": "markdown",
      "metadata": {
        "id": "view-in-github",
        "colab_type": "text"
      },
      "source": [
        "<a href=\"https://colab.research.google.com/github/SoIllEconomist/ds4b/blob/master/python_ds4b/07_machine_learning/01_intro_sklearn.ipynb\" target=\"_parent\"><img src=\"https://colab.research.google.com/assets/colab-badge.svg\" alt=\"Open In Colab\"/></a>"
      ]
    },
    {
      "cell_type": "markdown",
      "metadata": {
        "id": "yifoyqFlMwv6",
        "colab_type": "text"
      },
      "source": [
        "# Introduction to Machine Learning"
      ]
    },
    {
      "cell_type": "markdown",
      "metadata": {
        "id": "hNMLMPn9Mwv8",
        "colab_type": "text"
      },
      "source": [
        "Here we'll dive into the basic principles of machine learning, and how to\n",
        "utilize them via the Scikit-Learn API.\n",
        "\n",
        "After briefly introducing scikit-learn's *Estimator* object, we'll cover **supervised learning**, including *classification* and *regression* problems, and **unsupervised learning**, including *dimensinoality reduction* and *clustering* problems."
      ]
    },
    {
      "cell_type": "code",
      "metadata": {
        "pycharm": {
          "name": "#%%\n"
        },
        "id": "a-gAMYlfMwv9",
        "colab_type": "code",
        "colab": {}
      },
      "source": [
        "import numpy as np\n",
        "import matplotlib.pyplot as plt\n",
        "%matplotlib inline"
      ],
      "execution_count": 0,
      "outputs": []
    },
    {
      "cell_type": "markdown",
      "metadata": {
        "id": "SMj0Q3cqMwwD",
        "colab_type": "text"
      },
      "source": [
        "## The Scikit-learn Estimator Object\n",
        "\n",
        "Every algorithm is exposed in scikit-learn via an ''Estimator'' object. For instance a linear regression is implemented as so:"
      ]
    },
    {
      "cell_type": "code",
      "metadata": {
        "pycharm": {
          "name": "#%%\n"
        },
        "id": "VWndsgYZMwwE",
        "colab_type": "code",
        "colab": {}
      },
      "source": [
        "from sklearn.linear_model import LinearRegression"
      ],
      "execution_count": 0,
      "outputs": []
    },
    {
      "cell_type": "markdown",
      "metadata": {
        "id": "Ld6qXeWRMwwH",
        "colab_type": "text"
      },
      "source": [
        "**Estimator parameters**: All the parameters of an estimator can be set when it is instantiated, and have suitable default values:"
      ]
    },
    {
      "cell_type": "code",
      "metadata": {
        "pycharm": {
          "name": "#%%\n"
        },
        "id": "POYdRjExMwwI",
        "colab_type": "code",
        "outputId": "ba31e670-d926-4609-ced2-1399c85c4f90",
        "colab": {}
      },
      "source": [
        "model = LinearRegression(normalize=True)\n",
        "print(model.normalize)"
      ],
      "execution_count": 0,
      "outputs": [
        {
          "output_type": "stream",
          "text": [
            "True\n"
          ],
          "name": "stdout"
        }
      ]
    },
    {
      "cell_type": "code",
      "metadata": {
        "pycharm": {
          "name": "#%%\n"
        },
        "id": "HYjy9U51MwwL",
        "colab_type": "code",
        "outputId": "ace08ef4-87de-4e1b-b492-1792f1cc8f0b",
        "colab": {}
      },
      "source": [
        "print(model)"
      ],
      "execution_count": 0,
      "outputs": [
        {
          "output_type": "stream",
          "text": [
            "LinearRegression(copy_X=True, fit_intercept=True, n_jobs=None, normalize=True)\n"
          ],
          "name": "stdout"
        }
      ]
    },
    {
      "cell_type": "markdown",
      "metadata": {
        "id": "U_8t_BUjMwwO",
        "colab_type": "text"
      },
      "source": [
        "**Estimated Model parameters**: When data is *fit* with an estimator, parameters are estimated from the data at hand. All the estimated parameters are attributes of the estimator object ending by an underscore:"
      ]
    },
    {
      "cell_type": "code",
      "metadata": {
        "pycharm": {
          "name": "#%%\n"
        },
        "id": "Wn7kivCQMwwP",
        "colab_type": "code",
        "colab": {}
      },
      "source": [
        "np.random.seed(42)\n",
        "x = np.arange(10)\n",
        "y = 2 * x + 1"
      ],
      "execution_count": 0,
      "outputs": []
    },
    {
      "cell_type": "code",
      "metadata": {
        "pycharm": {
          "name": "#%%\n"
        },
        "id": "QmLvzkNQMwwU",
        "colab_type": "code",
        "outputId": "17f01f65-bae9-4dc5-f728-b874aad7b178",
        "colab": {}
      },
      "source": [
        "print(x)\n",
        "print(y)"
      ],
      "execution_count": 0,
      "outputs": [
        {
          "output_type": "stream",
          "text": [
            "[0 1 2 3 4 5 6 7 8 9]\n",
            "[ 1  3  5  7  9 11 13 15 17 19]\n"
          ],
          "name": "stdout"
        }
      ]
    },
    {
      "cell_type": "code",
      "metadata": {
        "pycharm": {
          "name": "#%%\n"
        },
        "id": "3jvb_HAaMwwW",
        "colab_type": "code",
        "outputId": "e9994d73-9c1e-4212-95c6-41c0d78083c3",
        "colab": {}
      },
      "source": [
        "plt.plot(x, y, 'o');"
      ],
      "execution_count": 0,
      "outputs": [
        {
          "output_type": "display_data",
          "data": {
            "image/png": "[encoded data removed]",
            "text/plain": [
              "<Figure size 432x288 with 1 Axes>"
            ]
          },
          "metadata": {
            "tags": [],
            "needs_background": "light"
          }
        }
      ]
    },
    {
      "cell_type": "code",
      "metadata": {
        "pycharm": {
          "name": "#%%\n"
        },
        "id": "R5Ce7k9uMwwZ",
        "colab_type": "code",
        "outputId": "c465fee2-e251-40f3-9372-ace9c801f7a9",
        "colab": {}
      },
      "source": [
        "# The input data for sklearn is 2D: (samples == 10 x features == 1)\n",
        "X = x[:, np.newaxis]\n",
        "print(X)\n",
        "print(y)"
      ],
      "execution_count": 0,
      "outputs": [
        {
          "output_type": "stream",
          "text": [
            "[[0]\n",
            " [1]\n",
            " [2]\n",
            " [3]\n",
            " [4]\n",
            " [5]\n",
            " [6]\n",
            " [7]\n",
            " [8]\n",
            " [9]]\n",
            "[ 1  3  5  7  9 11 13 15 17 19]\n"
          ],
          "name": "stdout"
        }
      ]
    },
    {
      "cell_type": "code",
      "metadata": {
        "pycharm": {
          "name": "#%%\n"
        },
        "id": "5L_gc6wzMwwc",
        "colab_type": "code",
        "outputId": "59a25cad-2c5f-44a7-ae31-bf685b326d8c",
        "colab": {}
      },
      "source": [
        "# fit the model on our data\n",
        "model.fit(X, y)"
      ],
      "execution_count": 0,
      "outputs": [
        {
          "output_type": "execute_result",
          "data": {
            "text/plain": [
              "LinearRegression(copy_X=True, fit_intercept=True, n_jobs=None, normalize=True)"
            ]
          },
          "metadata": {
            "tags": []
          },
          "execution_count": 16
        }
      ]
    },
    {
      "cell_type": "code",
      "metadata": {
        "pycharm": {
          "name": "#%%\n"
        },
        "id": "uPHkdb3pMwwg",
        "colab_type": "code",
        "outputId": "570970de-6096-4c92-bfbe-aad386a3bfbb",
        "colab": {}
      },
      "source": [
        "# underscore at the end indicates a fit parameter\n",
        "print(model.coef_)\n",
        "print(model.intercept_)"
      ],
      "execution_count": 0,
      "outputs": [
        {
          "output_type": "stream",
          "text": [
            "[2.]\n",
            "1.0\n"
          ],
          "name": "stdout"
        }
      ]
    },
    {
      "cell_type": "markdown",
      "metadata": {
        "id": "gUQ7AeHlMwwi",
        "colab_type": "text"
      },
      "source": [
        "The model found a line with a slope 2 and intercept 1, as we'd expect."
      ]
    },
    {
      "cell_type": "markdown",
      "metadata": {
        "id": "EDsU6O5MMwwj",
        "colab_type": "text"
      },
      "source": [
        "## Supervised Learning: Classification and Regression\n",
        "\n",
        "In **Supervised Learning**, we have a dataset consisting of both features and labels.\n",
        "The task is to construct an estimator which is able to predict the label of an object\n",
        "given the set of features. A relatively simple example is predicting the species of \n",
        "iris given a set of measurements of its flower. This is a relatively simple task. \n",
        "Some more complicated examples are:\n",
        "\n",
        "- given a multicolor image of an object through a telescope, determine\n",
        "  whether that object is a star, a quasar, or a galaxy.\n",
        "- given a photograph of a person, identify the person in the photo.\n",
        "- given a list of movies a person has watched and their personal rating\n",
        "  of the movie, recommend a list of movies they would like\n",
        "  (So-called *recommender systems*: a famous example is the [Netflix Prize](http://en.wikipedia.org/wiki/Netflix_prize)).\n",
        "\n",
        "What these tasks have in common is that there is one or more unknown\n",
        "quantities associated with the object which needs to be determined from other\n",
        "observed quantities.\n",
        "\n",
        "Supervised learning is further broken down into two categories, **classification** and **regression**.\n",
        "In classification, the label is discrete, while in regression, the label is continuous. For example,\n",
        "in astronomy, the task of determining whether an object is a star, a galaxy, or a quasar is a\n",
        "classification problem: the label is from three distinct categories. On the other hand, we might\n",
        "wish to estimate the age of an object based on such observations: this would be a regression problem,\n",
        "because the label (age) is a continuous quantity."
      ]
    },
    {
      "cell_type": "markdown",
      "metadata": {
        "id": "CmVg6_JvMwwk",
        "colab_type": "text"
      },
      "source": [
        "### Classification Example\n",
        "K nearest neighbors (kNN) is one of the simplest learning strategies: given a new, unknown observation, look up in your reference database which ones have the closest features and assign the predominant class.\n",
        "\n",
        "Let's try it out on our iris classification problem:"
      ]
    },
    {
      "cell_type": "code",
      "metadata": {
        "pycharm": {
          "name": "#%%\n"
        },
        "id": "lEpUc4QgMwwl",
        "colab_type": "code",
        "outputId": "e5fb875e-6b39-4bda-a5c9-0a94631d5dc2",
        "colab": {}
      },
      "source": [
        "from sklearn import datasets\n",
        "from sklearn.neighbors import KNeighborsClassifier\n",
        "\n",
        "iris = datasets.load_iris()\n",
        "X, y = iris.data, iris.target\n",
        "\n",
        "# create the model\n",
        "knn = KNeighborsClassifier(n_neighbors=5)\n",
        "\n",
        "# fit the model\n",
        "knn.fit(X, y)\n",
        "\n",
        "# What kind of iris has 3cm x 5cm sepal and 4cm x 2cm petal?\n",
        "# call the \"predict\" method:\n",
        "result = knn.predict([[3, 5, 4, 2],])\n",
        "\n",
        "print(iris.target_names[result])"
      ],
      "execution_count": 0,
      "outputs": [
        {
          "output_type": "stream",
          "text": [
            "['versicolor']\n"
          ],
          "name": "stdout"
        }
      ]
    },
    {
      "cell_type": "markdown",
      "metadata": {
        "id": "QjeLboEXMwwn",
        "colab_type": "text"
      },
      "source": [
        "You can also do probabilistic predictions:"
      ]
    },
    {
      "cell_type": "code",
      "metadata": {
        "pycharm": {
          "name": "#%%\n"
        },
        "id": "xzw9DFTUMwwo",
        "colab_type": "code",
        "outputId": "04200ddf-17e4-4573-cde3-b8cc1746eba5",
        "colab": {}
      },
      "source": [
        "knn.predict_proba([[3, 5, 4, 2],])"
      ],
      "execution_count": 0,
      "outputs": [
        {
          "output_type": "execute_result",
          "data": {
            "text/plain": [
              "array([[0. , 0.8, 0.2]])"
            ]
          },
          "metadata": {
            "tags": []
          },
          "execution_count": 2
        }
      ]
    },
    {
      "cell_type": "code",
      "metadata": {
        "pycharm": {
          "name": "#%%\n"
        },
        "id": "7-wQJmMMMwwr",
        "colab_type": "code",
        "outputId": "26d3dfb6-2228-495d-c666-639bd9c497cc",
        "colab": {}
      },
      "source": [
        "from fig_code import plot_iris_knn\n",
        "plot_iris_knn()"
      ],
      "execution_count": 0,
      "outputs": [
        {
          "output_type": "display_data",
          "data": {
            "image/png": "[encoded data removed]",
            "text/plain": [
              "<Figure size 432x288 with 1 Axes>"
            ]
          },
          "metadata": {
            "tags": [],
            "needs_background": "light"
          }
        }
      ]
    },
    {
      "cell_type": "markdown",
      "metadata": {
        "id": "PIOx-9IwMwwv",
        "colab_type": "text"
      },
      "source": [
        "---\n",
        "\n",
        "#### Exercise\n",
        "\n",
        "Use a different estimator on the same problem: ``sklearn.svm.SVC``.\n",
        "\n",
        "*Note that you don't have to know what it is do use it. We're simply trying out the interface here*"
      ]
    },
    {
      "cell_type": "code",
      "metadata": {
        "pycharm": {
          "name": "#%%\n"
        },
        "id": "LuMkqqmOMwwv",
        "colab_type": "code",
        "outputId": "cfa0aa71-ff92-48f5-c2f5-88d7d4272ce1",
        "colab": {}
      },
      "source": [
        "# Imports\n",
        "from sklearn import datasets\n",
        "from sklearn.svm import SVC\n",
        "\n",
        "# Load Data\n",
        "iris = datasets.load_iris()\n",
        "X, y = iris.data, iris.target\n",
        "\n",
        "# create/instantiate the model\n",
        "svc = SVC(probability=True, gamma='auto', random_state=42)\n",
        "\n",
        "# fit the model\n",
        "svc.fit(X, y)\n",
        "\n",
        "# What kind of iris has 3cm x 5cm sepal and 4cm x 2cm petal?\n",
        "# call the \"predict\" method:\n",
        "result = svc.predict([[3, 5, 4, 2],])\n",
        "\n",
        "# Print the Results\n",
        "print(iris.target_names[result])\n",
        "print(svc.predict_proba([[3, 5, 4, 2],]))"
      ],
      "execution_count": 0,
      "outputs": [
        {
          "output_type": "stream",
          "text": [
            "['virginica']\n",
            "[[0.21981777 0.30703834 0.47314389]]\n"
          ],
          "name": "stdout"
        }
      ]
    },
    {
      "cell_type": "markdown",
      "metadata": {
        "id": "XeVZ5-JlMwwy",
        "colab_type": "text"
      },
      "source": [
        "### Regression Example\n",
        "\n",
        "One of the simplest regression problems is fitting a line to data, which we saw above.\n",
        "Scikit-learn also contains more sophisticated regression algorithms"
      ]
    },
    {
      "cell_type": "code",
      "metadata": {
        "pycharm": {
          "name": "#%%\n"
        },
        "id": "2Zp4g1jqMwwz",
        "colab_type": "code",
        "outputId": "98ff6d81-4a91-4f35-bae5-78101e15042a",
        "colab": {}
      },
      "source": [
        "# Create some simple data\n",
        "import numpy as np\n",
        "import matplotlib.pyplot as plt\n",
        "np.random.seed(0)\n",
        "X = np.random.random(size=(20, 1))\n",
        "y = 3 * X.squeeze() + 2 + np.random.randn(20)\n",
        "\n",
        "plt.plot(X.squeeze(), y, 'o');"
      ],
      "execution_count": 0,
      "outputs": [
        {
          "output_type": "display_data",
          "data": {
            "image/png": "[encoded data removed]",
            "text/plain": [
              "<Figure size 432x288 with 1 Axes>"
            ]
          },
          "metadata": {
            "tags": [],
            "needs_background": "light"
          }
        }
      ]
    },
    {
      "cell_type": "markdown",
      "metadata": {
        "id": "TI9OlPLnMww2",
        "colab_type": "text"
      },
      "source": [
        "As above, we can plot a line of best fit:"
      ]
    },
    {
      "cell_type": "code",
      "metadata": {
        "pycharm": {
          "name": "#%%\n"
        },
        "id": "bJQhpcZPMww3",
        "colab_type": "code",
        "outputId": "54c962bd-ac8e-408b-9da2-49af8b19ee6a",
        "colab": {}
      },
      "source": [
        "from sklearn.linear_model import LinearRegression\n",
        "model = LinearRegression()\n",
        "model.fit(X, y)\n",
        "\n",
        "# Plot the data and the model prediction\n",
        "X_fit = np.linspace(0, 1, 100)[:, np.newaxis]\n",
        "y_fit = model.predict(X_fit)\n",
        "\n",
        "plt.plot(X.squeeze(), y, 'o')\n",
        "plt.plot(X_fit.squeeze(), y_fit);"
      ],
      "execution_count": 0,
      "outputs": [
        {
          "output_type": "display_data",
          "data": {
            "image/png": "[encoded data removed]",
            "text/plain": [
              "<Figure size 432x288 with 1 Axes>"
            ]
          },
          "metadata": {
            "tags": [],
            "needs_background": "light"
          }
        }
      ]
    },
    {
      "cell_type": "markdown",
      "metadata": {
        "id": "aiWxGKSpMww6",
        "colab_type": "text"
      },
      "source": [
        "Scikit-learn also has some more sophisticated models, which can respond to finer features in the data:"
      ]
    },
    {
      "cell_type": "code",
      "metadata": {
        "pycharm": {
          "name": "#%%\n"
        },
        "id": "yogRkeckMww7",
        "colab_type": "code",
        "outputId": "9181d827-9b27-4c04-a678-355430b396b0",
        "colab": {}
      },
      "source": [
        "# Fit a Random Forest\n",
        "from sklearn.ensemble import RandomForestRegressor\n",
        "model = RandomForestRegressor()\n",
        "model.fit(X, y)\n",
        "\n",
        "# Plot the data and the model prediction\n",
        "X_fit = np.linspace(0, 1, 100)[:, np.newaxis]\n",
        "y_fit = model.predict(X_fit)\n",
        "\n",
        "plt.plot(X.squeeze(), y, 'o')\n",
        "plt.plot(X_fit.squeeze(), y_fit);"
      ],
      "execution_count": 0,
      "outputs": [
        {
          "output_type": "stream",
          "text": [
            "/home/markumreed/anaconda3/envs/ds4b/lib/python3.7/site-packages/sklearn/ensemble/forest.py:245: FutureWarning: The default value of n_estimators will change from 10 in version 0.20 to 100 in 0.22.\n",
            "  \"10 in version 0.20 to 100 in 0.22.\", FutureWarning)\n"
          ],
          "name": "stderr"
        },
        {
          "output_type": "display_data",
          "data": {
            "image/png": "[encoded data removed]",
            "text/plain": [
              "<Figure size 432x288 with 1 Axes>"
            ]
          },
          "metadata": {
            "tags": [],
            "needs_background": "light"
          }
        }
      ]
    },
    {
      "cell_type": "markdown",
      "metadata": {
        "id": "7JReLpgHMww_",
        "colab_type": "text"
      },
      "source": [
        "Whether either of these is a \"good\" fit or not depends on a number of things; we'll discuss details of how to choose a model later in the tutorial."
      ]
    },
    {
      "cell_type": "markdown",
      "metadata": {
        "id": "W4AC4q9fMwxA",
        "colab_type": "text"
      },
      "source": [
        "---\n",
        "\n",
        "#### Exercise\n",
        "\n",
        "Explore the ``RandomForestRegressor`` object using IPython's help features (i.e. put a question mark after the object).\n",
        "What arguments are available to ``RandomForestRegressor``?\n",
        "How does the above plot change if you change these arguments?\n",
        "\n",
        "These class-level arguments are known as *hyperparameters*, and we will discuss later how you to select hyperparameters in the model validation section.\n",
        "\n",
        "---"
      ]
    },
    {
      "cell_type": "markdown",
      "metadata": {
        "id": "AmSwqd1CMwxB",
        "colab_type": "text"
      },
      "source": [
        "## Unsupervised Learning: Dimensionality Reduction and Clustering\n",
        "\n",
        "**Unsupervised Learning** addresses a different sort of problem. Here the data has no labels,\n",
        "and we are interested in finding similarities between the objects in question. In a sense,\n",
        "you can think of unsupervised learning as a means of discovering labels from the data itself.\n",
        "Unsupervised learning comprises tasks such as *dimensionality reduction*, *clustering*, and\n",
        "*density estimation*. For example, in the iris data discussed above, we can used unsupervised\n",
        "methods to determine combinations of the measurements which best display the structure of the\n",
        "data. As we'll see below, such a projection of the data can be used to visualize the\n",
        "four-dimensional dataset in two dimensions. Some more involved unsupervised learning problems are:\n",
        "\n",
        "- given detailed observations of distant galaxies, determine which features or combinations of\n",
        "  features best summarize the information.\n",
        "- given a mixture of two sound sources (for example, a person talking over some music),\n",
        "  separate the two (this is called the [blind source separation](http://en.wikipedia.org/wiki/Blind_signal_separation) problem).\n",
        "- given a video, isolate a moving object and categorize in relation to other moving objects which have been seen.\n",
        "\n",
        "Sometimes the two may even be combined: e.g. Unsupervised learning can be used to find useful\n",
        "features in heterogeneous data, and then these features can be used within a supervised\n",
        "framework."
      ]
    },
    {
      "cell_type": "markdown",
      "metadata": {
        "id": "1SJuF4bsMwxC",
        "colab_type": "text"
      },
      "source": [
        "### Dimensionality Reduction: PCA\n",
        "\n",
        "Principle Component Analysis (PCA) is a dimension reduction technique that can find the combinations of variables that explain the most variance.\n",
        "\n",
        "Consider the iris dataset. It cannot be visualized in a single 2D plot, as it has 4 features. We are going to extract 2 combinations of sepal and petal dimensions to visualize it:"
      ]
    },
    {
      "cell_type": "code",
      "metadata": {
        "pycharm": {
          "name": "#%%\n"
        },
        "id": "EIkzf31bMwxD",
        "colab_type": "code",
        "colab": {}
      },
      "source": [
        "X, y = iris.data, iris.target\n",
        "\n",
        "from sklearn.decomposition import PCA\n",
        "pca = PCA(n_components=0.95)\n",
        "pca.fit(X)\n",
        "X_reduced = pca.transform(X)\n",
        "print(\"Reduced dataset shape:\", X_reduced.shape)"
      ],
      "execution_count": 0,
      "outputs": []
    },
    {
      "cell_type": "code",
      "metadata": {
        "pycharm": {
          "name": "#%%\n"
        },
        "id": "_ncnNcMiMwxF",
        "colab_type": "code",
        "colab": {}
      },
      "source": [
        "import pylab as plt\n",
        "plt.scatter(X_reduced[:, 0], X_reduced[:, 1], c=y,\n",
        "           cmap='RdYlBu')\n",
        "\n",
        "print(\"Meaning of the 2 components:\")\n",
        "for component in pca.components_:\n",
        "    print(\" + \".join(\"%.3f x %s\" % (value, name)\n",
        "                     for value, name in zip(component,\n",
        "                                            iris.feature_names)))"
      ],
      "execution_count": 0,
      "outputs": []
    },
    {
      "cell_type": "markdown",
      "metadata": {
        "id": "C8Qcw5d6MwxI",
        "colab_type": "text"
      },
      "source": [
        "#### Clustering: K-means\n",
        "\n",
        "Clustering groups together observations that are homogeneous with respect to a given criterion, finding ''clusters'' in the data.\n",
        "\n",
        "Note that these clusters will uncover relevent hidden structure of the data only if the criterion used highlights it."
      ]
    },
    {
      "cell_type": "code",
      "metadata": {
        "pycharm": {
          "name": "#%%\n"
        },
        "id": "6QvuwSf6MwxI",
        "colab_type": "code",
        "colab": {}
      },
      "source": [
        "from sklearn.cluster import KMeans\n",
        "k_means = KMeans(n_clusters=3, random_state=0) # Fixing the RNG in kmeans\n",
        "k_means.fit(X)\n",
        "y_pred = k_means.predict(X)\n",
        "\n",
        "plt.scatter(X_reduced[:, 0], X_reduced[:, 1], c=y_pred,\n",
        "           cmap='RdYlBu');"
      ],
      "execution_count": 0,
      "outputs": []
    },
    {
      "cell_type": "markdown",
      "metadata": {
        "id": "PwyrrwSdMwxL",
        "colab_type": "text"
      },
      "source": [
        "### Recap: Scikit-learn's estimator interface\n",
        "\n",
        "Scikit-learn strives to have a uniform interface across all methods,\n",
        "and we'll see examples of these below. Given a scikit-learn *estimator*\n",
        "object named `model`, the following methods are available:\n",
        "\n",
        "- Available in **all Estimators**\n",
        "  + `model.fit()` : fit training data. For supervised learning applications,\n",
        "    this accepts two arguments: the data `X` and the labels `y` (e.g. `model.fit(X, y)`).\n",
        "    For unsupervised learning applications, this accepts only a single argument,\n",
        "    the data `X` (e.g. `model.fit(X)`).\n",
        "- Available in **supervised estimators**\n",
        "  + `model.predict()` : given a trained model, predict the label of a new set of data.\n",
        "    This method accepts one argument, the new data `X_new` (e.g. `model.predict(X_new)`),\n",
        "    and returns the learned label for each object in the array.\n",
        "  + `model.predict_proba()` : For classification problems, some estimators also provide\n",
        "    this method, which returns the probability that a new observation has each categorical label.\n",
        "    In this case, the label with the highest probability is returned by `model.predict()`.\n",
        "  + `model.score()` : for classification or regression problems, most (all?) estimators implement\n",
        "    a score method.  Scores are between 0 and 1, with a larger score indicating a better fit.\n",
        "- Available in **unsupervised estimators**\n",
        "  + `model.predict()` : predict labels in clustering algorithms.\n",
        "  + `model.transform()` : given an unsupervised model, transform new data into the new basis.\n",
        "    This also accepts one argument `X_new`, and returns the new representation of the data based\n",
        "    on the unsupervised model.\n",
        "  + `model.fit_transform()` : some estimators implement this method,\n",
        "    which more efficiently performs a fit and a transform on the same input data."
      ]
    },
    {
      "cell_type": "markdown",
      "metadata": {
        "id": "9Bbj96smMwxM",
        "colab_type": "text"
      },
      "source": [
        "## Model Validation\n",
        "\n",
        "An important piece of machine learning is **model validation**: that is, determining how well your model will generalize from the training data to future unlabeled data. Let's look at an example using the *nearest neighbor classifier*. This is a very simple classifier: it simply stores all training data, and for any unknown quantity, simply returns the label of the closest training point.\n",
        "\n",
        "With the iris data, it very easily returns the correct prediction for each of the input points:"
      ]
    },
    {
      "cell_type": "code",
      "metadata": {
        "pycharm": {
          "name": "#%%\n"
        },
        "id": "BO3sf1-zMwxM",
        "colab_type": "code",
        "colab": {}
      },
      "source": [
        "from sklearn.neighbors import KNeighborsClassifier\n",
        "X, y = iris.data, iris.target\n",
        "clf = KNeighborsClassifier(n_neighbors=1)\n",
        "clf.fit(X, y)\n",
        "y_pred = clf.predict(X)\n",
        "print(np.all(y == y_pred))"
      ],
      "execution_count": 0,
      "outputs": []
    },
    {
      "cell_type": "markdown",
      "metadata": {
        "id": "pLU-gKFjMwxO",
        "colab_type": "text"
      },
      "source": [
        "A more useful way to look at the results is to view the **confusion matrix**, or the matrix showing the frequency of inputs and outputs:"
      ]
    },
    {
      "cell_type": "code",
      "metadata": {
        "pycharm": {
          "name": "#%%\n"
        },
        "id": "IByb9ZoAMwxQ",
        "colab_type": "code",
        "colab": {}
      },
      "source": [
        "from sklearn.metrics import confusion_matrix\n",
        "print(confusion_matrix(y, y_pred))"
      ],
      "execution_count": 0,
      "outputs": []
    },
    {
      "cell_type": "markdown",
      "metadata": {
        "id": "fIZJMQxKMwxS",
        "colab_type": "text"
      },
      "source": [
        "For each class, all 50 training samples are correctly identified. But this **does not mean that our model is perfect!** In particular, such a model generalizes extremely poorly to new data. We can simulate this by splitting our data into a *training set* and a *testing set*. Scikit-learn contains some convenient routines to do this:"
      ]
    },
    {
      "cell_type": "code",
      "metadata": {
        "pycharm": {
          "name": "#%%\n"
        },
        "id": "MICSx2TKMwxT",
        "colab_type": "code",
        "colab": {}
      },
      "source": [
        "from sklearn.model_selection import train_test_split\n",
        "Xtrain, Xtest, ytrain, ytest = train_test_split(X, y)\n",
        "clf.fit(Xtrain, ytrain)\n",
        "ypred = clf.predict(Xtest)\n",
        "print(confusion_matrix(ytest, ypred))"
      ],
      "execution_count": 0,
      "outputs": []
    },
    {
      "cell_type": "markdown",
      "metadata": {
        "id": "RDQ5LaeDMwxV",
        "colab_type": "text"
      },
      "source": [
        "This paints a better picture of the true performance of our classifier: apparently there is some confusion between the second and third species, which we might anticipate given what we've seen of the data above.\n",
        "\n",
        "This is why it's **extremely important** to use a train/test split when evaluating your models.  We'll go into more depth on model evaluation later in this tutorial."
      ]
    },
    {
      "cell_type": "markdown",
      "metadata": {
        "id": "Us0kDMb1MwxW",
        "colab_type": "text"
      },
      "source": [
        "## Flow Chart: How to Choose your Estimator\n",
        "\n",
        "This is a flow chart created by scikit-learn super-contributor [Andreas Mueller](https://github.com/amueller) which gives a nice summary of which algorithms to choose in various situations. Keep it around as a handy reference!"
      ]
    },
    {
      "cell_type": "code",
      "metadata": {
        "pycharm": {
          "name": "#%%\n"
        },
        "id": "w1xoMXSdMwxX",
        "colab_type": "code",
        "colab": {}
      },
      "source": [
        "from IPython.display import Image\n",
        "Image(\"http://scikit-learn.org/dev/_static/ml_map.png\")"
      ],
      "execution_count": 0,
      "outputs": []
    },
    {
      "cell_type": "markdown",
      "metadata": {
        "id": "dsIZYQMNMwxZ",
        "colab_type": "text"
      },
      "source": [
        "Original source on the [scikit-learn website](http://scikit-learn.org/stable/tutorial/machine_learning_map/)"
      ]
    },
    {
      "cell_type": "markdown",
      "metadata": {
        "id": "8TRaUYOcMwxa",
        "colab_type": "text"
      },
      "source": [
        "## Quick Application: Optical Character Recognition"
      ]
    },
    {
      "cell_type": "markdown",
      "metadata": {
        "id": "UrIrNHBTMwxb",
        "colab_type": "text"
      },
      "source": [
        "To demonstrate the above principles on a more interesting problem, let's consider OCR (Optical Character Recognition) – that is, recognizing hand-written digits.\n",
        "In the wild, this problem involves both locating and identifying characters in an image. Here we'll take a shortcut and use scikit-learn's set of pre-formatted digits, which is built-in to the library."
      ]
    },
    {
      "cell_type": "markdown",
      "metadata": {
        "id": "-8XlO0hhMwxc",
        "colab_type": "text"
      },
      "source": [
        "### Loading and visualizing the digits data\n",
        "\n",
        "We'll use scikit-learn's data access interface and take a look at this data:"
      ]
    },
    {
      "cell_type": "code",
      "metadata": {
        "pycharm": {
          "name": "#%%\n"
        },
        "id": "fy94erpUMwxc",
        "colab_type": "code",
        "colab": {}
      },
      "source": [
        "from sklearn import datasets\n",
        "digits = datasets.load_digits()\n",
        "digits.images.shape"
      ],
      "execution_count": 0,
      "outputs": []
    },
    {
      "cell_type": "markdown",
      "metadata": {
        "id": "dWfmAod1Mwxf",
        "colab_type": "text"
      },
      "source": [
        "Let's plot a few of these:"
      ]
    },
    {
      "cell_type": "code",
      "metadata": {
        "pycharm": {
          "name": "#%%\n"
        },
        "id": "jVqG77eVMwxg",
        "colab_type": "code",
        "colab": {}
      },
      "source": [
        "fig, axes = plt.subplots(10, 10, figsize=(8, 8))\n",
        "fig.subplots_adjust(hspace=0.1, wspace=0.1)\n",
        "\n",
        "for i, ax in enumerate(axes.flat):\n",
        "    ax.imshow(digits.images[i], cmap='binary', interpolation='nearest')\n",
        "    ax.text(0.05, 0.05, str(digits.target[i]),\n",
        "            transform=ax.transAxes, color='green')\n",
        "    ax.set_xticks([])\n",
        "    ax.set_yticks([])"
      ],
      "execution_count": 0,
      "outputs": []
    },
    {
      "cell_type": "markdown",
      "metadata": {
        "id": "L1TjJhJoMwxh",
        "colab_type": "text"
      },
      "source": [
        "Here the data is simply each pixel value within an 8x8 grid:"
      ]
    },
    {
      "cell_type": "code",
      "metadata": {
        "pycharm": {
          "name": "#%%\n"
        },
        "id": "wsSA6uGUMwxi",
        "colab_type": "code",
        "colab": {}
      },
      "source": [
        "# The images themselves\n",
        "print(digits.images.shape)\n",
        "print(digits.images[0])"
      ],
      "execution_count": 0,
      "outputs": []
    },
    {
      "cell_type": "code",
      "metadata": {
        "pycharm": {
          "name": "#%%\n"
        },
        "id": "wEshteVDMwxl",
        "colab_type": "code",
        "colab": {}
      },
      "source": [
        "# The data for use in our algorithms\n",
        "print(digits.data.shape)\n",
        "print(digits.data[0])"
      ],
      "execution_count": 0,
      "outputs": []
    },
    {
      "cell_type": "code",
      "metadata": {
        "pycharm": {
          "name": "#%%\n"
        },
        "id": "yEeIf30KMwxn",
        "colab_type": "code",
        "colab": {}
      },
      "source": [
        "# The target label\n",
        "print(digits.target)"
      ],
      "execution_count": 0,
      "outputs": []
    },
    {
      "cell_type": "markdown",
      "metadata": {
        "id": "Dpal_l5DMwxp",
        "colab_type": "text"
      },
      "source": [
        "So our data have 1797 samples in 64 dimensions."
      ]
    },
    {
      "cell_type": "markdown",
      "metadata": {
        "id": "ge14IwcQMwxq",
        "colab_type": "text"
      },
      "source": [
        "### Unsupervised Learning: Dimensionality Reduction\n",
        "\n",
        "We'd like to visualize our points within the 64-dimensional parameter space, but it's difficult to plot points in 64 dimensions!\n",
        "Instead we'll reduce the dimensions to 2, using an unsupervised method.\n",
        "Here, we'll make use of a manifold learning algorithm called *Isomap*, and transform the data to two dimensions."
      ]
    },
    {
      "cell_type": "code",
      "metadata": {
        "pycharm": {
          "name": "#%%\n"
        },
        "id": "ij2ry_XmMwxq",
        "colab_type": "code",
        "colab": {}
      },
      "source": [
        "from sklearn.manifold import Isomap"
      ],
      "execution_count": 0,
      "outputs": []
    },
    {
      "cell_type": "code",
      "metadata": {
        "pycharm": {
          "name": "#%%\n"
        },
        "id": "q06P3qBzMwxs",
        "colab_type": "code",
        "colab": {}
      },
      "source": [
        "iso = Isomap(n_components=2)\n",
        "data_projected = iso.fit_transform(digits.data)"
      ],
      "execution_count": 0,
      "outputs": []
    },
    {
      "cell_type": "code",
      "metadata": {
        "pycharm": {
          "name": "#%%\n"
        },
        "id": "WfWY4bgIMwxt",
        "colab_type": "code",
        "colab": {}
      },
      "source": [
        "data_projected.shape"
      ],
      "execution_count": 0,
      "outputs": []
    },
    {
      "cell_type": "code",
      "metadata": {
        "pycharm": {
          "name": "#%%\n"
        },
        "id": "Mini8VlCMwxw",
        "colab_type": "code",
        "colab": {}
      },
      "source": [
        "plt.scatter(data_projected[:, 0], data_projected[:, 1], c=digits.target,\n",
        "            edgecolor='none', alpha=0.5, cmap=plt.cm.get_cmap('nipy_spectral', 10));\n",
        "plt.colorbar(label='digit label', ticks=range(10))\n",
        "plt.clim(-0.5, 9.5)"
      ],
      "execution_count": 0,
      "outputs": []
    },
    {
      "cell_type": "markdown",
      "metadata": {
        "id": "-lOOC0iFMwxz",
        "colab_type": "text"
      },
      "source": [
        "We see here that the digits are fairly well-separated in the parameter space; this tells us that a supervised classification algorithm should perform fairly well. Let's give it a try."
      ]
    },
    {
      "cell_type": "markdown",
      "metadata": {
        "id": "vO-b_5NRMwx0",
        "colab_type": "text"
      },
      "source": [
        "### Classification on Digits\n",
        "\n",
        "Let's try a classification task on the digits. The first thing we'll want to do is split the digits into a training and testing sample:"
      ]
    },
    {
      "cell_type": "code",
      "metadata": {
        "pycharm": {
          "name": "#%%\n"
        },
        "id": "o0660BHfMwx0",
        "colab_type": "code",
        "colab": {}
      },
      "source": [
        "from sklearn.model_selection import train_test_split\n",
        "Xtrain, Xtest, ytrain, ytest = train_test_split(digits.data, digits.target,\n",
        "                                                random_state=2)\n",
        "print(Xtrain.shape, Xtest.shape)"
      ],
      "execution_count": 0,
      "outputs": []
    },
    {
      "cell_type": "markdown",
      "metadata": {
        "id": "Nw7XwP9EMwx4",
        "colab_type": "text"
      },
      "source": [
        "Let's use a simple logistic regression which (despite its confusing name) is a classification algorithm:"
      ]
    },
    {
      "cell_type": "code",
      "metadata": {
        "pycharm": {
          "name": "#%%\n"
        },
        "id": "twkUKHYLMwx4",
        "colab_type": "code",
        "colab": {}
      },
      "source": [
        "from sklearn.linear_model import LogisticRegression\n",
        "clf = LogisticRegression(penalty='l2')\n",
        "clf.fit(Xtrain, ytrain)\n",
        "ypred = clf.predict(Xtest)"
      ],
      "execution_count": 0,
      "outputs": []
    },
    {
      "cell_type": "markdown",
      "metadata": {
        "id": "OPBse-kJMwx6",
        "colab_type": "text"
      },
      "source": [
        "We can check our classification accuracy by comparing the true values of the test set to the predictions:"
      ]
    },
    {
      "cell_type": "code",
      "metadata": {
        "pycharm": {
          "name": "#%%\n"
        },
        "id": "FSgOvg9SMwx7",
        "colab_type": "code",
        "colab": {}
      },
      "source": [
        "from sklearn.metrics import accuracy_score\n",
        "accuracy_score(ytest, ypred)"
      ],
      "execution_count": 0,
      "outputs": []
    },
    {
      "cell_type": "markdown",
      "metadata": {
        "id": "TtSahI4yMwx9",
        "colab_type": "text"
      },
      "source": [
        "This single number doesn't tell us **where** we've gone wrong: one nice way to do this is to use the *confusion matrix*"
      ]
    },
    {
      "cell_type": "code",
      "metadata": {
        "pycharm": {
          "name": "#%%\n"
        },
        "id": "b7f5YrLAMwx9",
        "colab_type": "code",
        "colab": {}
      },
      "source": [
        "from sklearn.metrics import confusion_matrix\n",
        "print(confusion_matrix(ytest, ypred))"
      ],
      "execution_count": 0,
      "outputs": []
    },
    {
      "cell_type": "code",
      "metadata": {
        "pycharm": {
          "name": "#%%\n"
        },
        "id": "DR1sdRYBMwx_",
        "colab_type": "code",
        "colab": {}
      },
      "source": [
        "plt.imshow(np.log(confusion_matrix(ytest, ypred)),\n",
        "           cmap='Blues', interpolation='nearest')\n",
        "plt.grid(False)\n",
        "plt.ylabel('true')\n",
        "plt.xlabel('predicted');"
      ],
      "execution_count": 0,
      "outputs": []
    },
    {
      "cell_type": "markdown",
      "metadata": {
        "id": "nwPIHdFNMwyC",
        "colab_type": "text"
      },
      "source": [
        "We might also take a look at some of the outputs along with their predicted labels. We'll make the bad labels red:"
      ]
    },
    {
      "cell_type": "code",
      "metadata": {
        "pycharm": {
          "name": "#%%\n"
        },
        "id": "LbhI_dYnMwyC",
        "colab_type": "code",
        "colab": {}
      },
      "source": [
        "fig, axes = plt.subplots(10, 10, figsize=(8, 8))\n",
        "fig.subplots_adjust(hspace=0.1, wspace=0.1)\n",
        "\n",
        "for i, ax in enumerate(axes.flat):\n",
        "    ax.imshow(Xtest[i].reshape(8, 8), cmap='binary')\n",
        "    ax.text(0.05, 0.05, str(ypred[i]),\n",
        "            transform=ax.transAxes,\n",
        "            color='green' if (ytest[i] == ypred[i]) else 'red')\n",
        "    ax.set_xticks([])\n",
        "    ax.set_yticks([])"
      ],
      "execution_count": 0,
      "outputs": []
    },
    {
      "cell_type": "markdown",
      "metadata": {
        "id": "LpZai6xzMwyF",
        "colab_type": "text"
      },
      "source": [
        "The interesting thing is that even with this simple logistic regression algorithm, many of the mislabeled cases are ones that we ourselves might get wrong!\n",
        "\n",
        "There are many ways to improve this classifier, but we're out of time here. To go further, we could use a more sophisticated model, use cross validation, or apply other techniques.\n",
        "We'll cover some of these topics later in the tutorial."
      ]
    }
  ]
}