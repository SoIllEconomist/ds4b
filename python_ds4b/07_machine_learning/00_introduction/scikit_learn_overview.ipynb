{
  "nbformat": 4,
  "nbformat_minor": 0,
  "metadata": {
    "colab": {
      "name": "scikit_learn.ipynb",
      "provenance": [],
      "include_colab_link": true
    },
    "kernelspec": {
      "name": "python3",
      "display_name": "Python 3"
    }
  },
  "cells": [
    {
      "cell_type": "markdown",
      "metadata": {
        "id": "view-in-github",
        "colab_type": "text"
      },
      "source": [
        "<a href=\"https://colab.research.google.com/github/SoIllEconomist/ds4b/blob/master/python_ds4b/07_machine_learning/scikit_learn_overview.ipynb\" target=\"_parent\"><img src=\"https://colab.research.google.com/assets/colab-badge.svg\" alt=\"Open In Colab\"/></a>"
      ]
    },
    {
      "cell_type": "markdown",
      "metadata": {
        "id": "v_R3-e2562Sy",
        "colab_type": "text"
      },
      "source": [
        "# Scikit-learn\n",
        "Scikit-learn is an open source Python library that implements a range of machine learning, preprocessing, cross-validation and visualization algorithms using an unified interface.\n",
        "\n",
        "## Loading Data\n",
        "Your data needs to be numeric and stored as NumPy arrays or SciPy sparse\n",
        "matrices. Other types that are convertible to numeric arrays, such as Pandas\n",
        "DataFrame, are also acceptable.\n"
      ]
    },
    {
      "cell_type": "code",
      "metadata": {
        "id": "h4ZKP5vR6tRy",
        "colab_type": "code",
        "colab": {}
      },
      "source": [
        "import numpy as np\n",
        "X = np.random.random((11,5))\n",
        "y = np.array(['M','M','F','F','M','F','M','M','F','F','F'])\n",
        "X[X < 0.7] = 0"
      ],
      "execution_count": 0,
      "outputs": []
    },
    {
      "cell_type": "markdown",
      "metadata": {
        "id": "zVvLHagI7qi5",
        "colab_type": "text"
      },
      "source": [
        "## Train-Test-Split"
      ]
    },
    {
      "cell_type": "code",
      "metadata": {
        "id": "UTKmqh7b7jTX",
        "colab_type": "code",
        "colab": {}
      },
      "source": [
        "from sklearn.model_selection import train_test_split\n",
        "X_train, X_test, y_train, y_test = train_test_split(X,y,random_state=42)"
      ],
      "execution_count": 0,
      "outputs": []
    },
    {
      "cell_type": "markdown",
      "metadata": {
        "id": "l8WAfp_T8CWO",
        "colab_type": "text"
      },
      "source": [
        "## Preprocessing Data\n",
        "### Standardization"
      ]
    },
    {
      "cell_type": "code",
      "metadata": {
        "id": "ZiUzcrah708U",
        "colab_type": "code",
        "colab": {}
      },
      "source": [
        "from sklearn.preprocessing import StandardScaler\n",
        "scaler = StandardScaler().fit(X_train)\n",
        "standardized_X = scaler.transform(X_train)\n",
        "standardized_X_test = scaler.transform(X_test)"
      ],
      "execution_count": 0,
      "outputs": []
    },
    {
      "cell_type": "markdown",
      "metadata": {
        "id": "rUHf00qy8HV-",
        "colab_type": "text"
      },
      "source": [
        "### Normalization"
      ]
    },
    {
      "cell_type": "code",
      "metadata": {
        "id": "2-EUDOcz8Iof",
        "colab_type": "code",
        "colab": {}
      },
      "source": [
        "from sklearn.preprocessing import Normalizer\n",
        "scaler = Normalizer().fit(X_train)\n",
        "normalized_X = scaler.transform(X_train)\n",
        "normalized_X_test = scaler.transform(X_test)"
      ],
      "execution_count": 0,
      "outputs": []
    },
    {
      "cell_type": "markdown",
      "metadata": {
        "id": "jkJ6JaNT8JKD",
        "colab_type": "text"
      },
      "source": [
        "Binarization"
      ]
    },
    {
      "cell_type": "code",
      "metadata": {
        "id": "u4nORlge8LkQ",
        "colab_type": "code",
        "colab": {}
      },
      "source": [
        "from sklearn.preprocessing import Binarizer\n",
        "binarizer = Binarizer(threshold=0.0).fit(X)\n",
        "binary_X = binarizer.transform(X)"
      ],
      "execution_count": 0,
      "outputs": []
    },
    {
      "cell_type": "markdown",
      "metadata": {
        "id": "kNExnzDM8MCP",
        "colab_type": "text"
      },
      "source": [
        "### Encoding Categorical Features"
      ]
    },
    {
      "cell_type": "code",
      "metadata": {
        "id": "kZO0LqQ78O6P",
        "colab_type": "code",
        "colab": {}
      },
      "source": [
        "from sklearn.preprocessing import LabelEncoder\n",
        "enc = LabelEncoder()\n",
        "y = enc.fit_transform(y)"
      ],
      "execution_count": 0,
      "outputs": []
    },
    {
      "cell_type": "markdown",
      "metadata": {
        "id": "FgK7Mei48Pg0",
        "colab_type": "text"
      },
      "source": [
        "### Imputing Missing Values"
      ]
    },
    {
      "cell_type": "code",
      "metadata": {
        "id": "zFsJF8YL8RId",
        "colab_type": "code",
        "colab": {
          "base_uri": "https://localhost:8080/",
          "height": 161
        },
        "outputId": "35b3481c-66de-4eed-e482-b5827551d5e3"
      },
      "source": [
        "from sklearn.impute import SimpleImputer\n",
        "imp = SimpleImputer(missing_values=0, strategy='mean')\n",
        "imp.fit_transform(X_train)"
      ],
      "execution_count": 22,
      "outputs": [
        {
          "output_type": "execute_result",
          "data": {
            "text/plain": [
              "array([[0.86497596, 0.74907852, 0.86589987, 0.87571712, 0.78348697],\n",
              "       [0.86497596, 0.74354756, 0.86589987, 0.88807105, 0.75515521],\n",
              "       [0.95158784, 0.75460947, 0.86589987, 0.88807105, 0.96974819],\n",
              "       [0.86497596, 0.74907852, 0.86589987, 0.88807105, 0.88198792],\n",
              "       [0.77836408, 0.74907852, 0.86589987, 0.88807105, 0.88198792],\n",
              "       [0.86497596, 0.74907852, 0.85387203, 0.88807105, 0.94367797],\n",
              "       [0.86497596, 0.74907852, 0.86589987, 0.88807105, 0.93636999],\n",
              "       [0.86497596, 0.74907852, 0.8779277 , 0.90042499, 0.90348922]])"
            ]
          },
          "metadata": {
            "tags": []
          },
          "execution_count": 22
        }
      ]
    },
    {
      "cell_type": "markdown",
      "metadata": {
        "id": "RbBLJHac8R6X",
        "colab_type": "text"
      },
      "source": [
        "### Generating Polynomial Features"
      ]
    },
    {
      "cell_type": "code",
      "metadata": {
        "id": "lbKU2nfZ8UeP",
        "colab_type": "code",
        "colab": {
          "base_uri": "https://localhost:8080/",
          "height": 251
        },
        "outputId": "d306d595-1db9-4aa3-ba38-b2cc7d9d034b"
      },
      "source": [
        "from sklearn.preprocessing import PolynomialFeatures\n",
        "poly = PolynomialFeatures(5)\n",
        "poly.fit_transform(X) "
      ],
      "execution_count": 23,
      "outputs": [
        {
          "output_type": "execute_result",
          "data": {
            "text/plain": [
              "array([[1.        , 0.        , 0.        , ..., 0.        , 0.        ,\n",
              "        0.        ],\n",
              "       [1.        , 0.95158784, 0.75460947, ..., 0.        , 0.        ,\n",
              "        0.85761999],\n",
              "       [1.        , 0.        , 0.74354756, ..., 0.        , 0.        ,\n",
              "        0.24557328],\n",
              "       ...,\n",
              "       [1.        , 0.        , 0.        , ..., 0.        , 0.        ,\n",
              "        0.        ],\n",
              "       [1.        , 0.        , 0.90880191, ..., 0.        , 0.        ,\n",
              "        0.31298558],\n",
              "       [1.        , 0.        , 0.        , ..., 0.36882726, 0.32998253,\n",
              "        0.29522892]])"
            ]
          },
          "metadata": {
            "tags": []
          },
          "execution_count": 23
        }
      ]
    },
    {
      "cell_type": "markdown",
      "metadata": {
        "id": "S4Talk2V8X8j",
        "colab_type": "text"
      },
      "source": [
        "## Model Creation\n",
        "### Supervised Learning Estimators\n",
        "#### Linear Regression"
      ]
    },
    {
      "cell_type": "code",
      "metadata": {
        "id": "kh_5vlsT8d01",
        "colab_type": "code",
        "colab": {}
      },
      "source": [
        "from sklearn.linear_model import LinearRegression\n",
        "lr = LinearRegression(normalize=True)"
      ],
      "execution_count": 0,
      "outputs": []
    },
    {
      "cell_type": "markdown",
      "metadata": {
        "id": "RQCpOMNg8eUN",
        "colab_type": "text"
      },
      "source": [
        "#### Support Vector Machines (SVM)"
      ]
    },
    {
      "cell_type": "code",
      "metadata": {
        "id": "zAooCHZW8hCl",
        "colab_type": "code",
        "colab": {}
      },
      "source": [
        "from sklearn.svm import SVC\n",
        "svc = SVC(kernel='linear')"
      ],
      "execution_count": 0,
      "outputs": []
    },
    {
      "cell_type": "markdown",
      "metadata": {
        "id": "baaZHrX98h2U",
        "colab_type": "text"
      },
      "source": [
        "#### Naive Bayes"
      ]
    },
    {
      "cell_type": "code",
      "metadata": {
        "id": "kKnLFxPw8jX0",
        "colab_type": "code",
        "colab": {}
      },
      "source": [
        "from sklearn.naive_bayes import GaussianNB\n",
        "gnb = GaussianNB()"
      ],
      "execution_count": 0,
      "outputs": []
    },
    {
      "cell_type": "markdown",
      "metadata": {
        "id": "M1xPSCKh8j2v",
        "colab_type": "text"
      },
      "source": [
        "#### KNN"
      ]
    },
    {
      "cell_type": "code",
      "metadata": {
        "id": "FHdDFxWN8kxX",
        "colab_type": "code",
        "colab": {}
      },
      "source": [
        "from sklearn import neighbors\n",
        "knn = neighbors.KNeighborsClassifier(n_neighbors=5)"
      ],
      "execution_count": 0,
      "outputs": []
    },
    {
      "cell_type": "markdown",
      "metadata": {
        "id": "yumYXkgV8lqN",
        "colab_type": "text"
      },
      "source": [
        "### Unsupervised Learning Estimators\n",
        "#### Principal Component Analysis (PCA)"
      ]
    },
    {
      "cell_type": "code",
      "metadata": {
        "id": "oeV2V4ti8rid",
        "colab_type": "code",
        "colab": {}
      },
      "source": [
        "from sklearn.decomposition import PCA\n",
        "pca = PCA(n_components=0.95)"
      ],
      "execution_count": 0,
      "outputs": []
    },
    {
      "cell_type": "markdown",
      "metadata": {
        "id": "efwlVP-Z8sOw",
        "colab_type": "text"
      },
      "source": [
        "#### K Means"
      ]
    },
    {
      "cell_type": "code",
      "metadata": {
        "id": "b34khXY_8uVL",
        "colab_type": "code",
        "colab": {}
      },
      "source": [
        "from sklearn.cluster import KMeans\n",
        "k_means = KMeans(n_clusters=3, random_state=0)"
      ],
      "execution_count": 0,
      "outputs": []
    },
    {
      "cell_type": "markdown",
      "metadata": {
        "id": "_ecJQ9858vFN",
        "colab_type": "text"
      },
      "source": [
        "## Model Fitting\n",
        "### Supervised Learning\n",
        "Fit the model to the data"
      ]
    },
    {
      "cell_type": "code",
      "metadata": {
        "id": "m8AaCsHt83At",
        "colab_type": "code",
        "colab": {
          "base_uri": "https://localhost:8080/",
          "height": 89
        },
        "outputId": "834f9aa1-f608-44f7-89c8-ae32303c1872"
      },
      "source": [
        "lr.fit(X, y)\n",
        "knn.fit(X_train, y_train)\n",
        "svc.fit(X_train, y_train)"
      ],
      "execution_count": 30,
      "outputs": [
        {
          "output_type": "execute_result",
          "data": {
            "text/plain": [
              "SVC(C=1.0, break_ties=False, cache_size=200, class_weight=None, coef0=0.0,\n",
              "    decision_function_shape='ovr', degree=3, gamma='scale', kernel='linear',\n",
              "    max_iter=-1, probability=False, random_state=None, shrinking=True,\n",
              "    tol=0.001, verbose=False)"
            ]
          },
          "metadata": {
            "tags": []
          },
          "execution_count": 30
        }
      ]
    },
    {
      "cell_type": "markdown",
      "metadata": {
        "id": "BOfuOpo483hg",
        "colab_type": "text"
      },
      "source": [
        "### Unsupervised Learning\n",
        "Fit the model to the data"
      ]
    },
    {
      "cell_type": "code",
      "metadata": {
        "id": "u02flLGU85DQ",
        "colab_type": "code",
        "colab": {
          "base_uri": "https://localhost:8080/",
          "height": 71
        },
        "outputId": "5e94c669-ab00-4451-ea65-fa55902a842b"
      },
      "source": [
        "k_means.fit(X_train)"
      ],
      "execution_count": 31,
      "outputs": [
        {
          "output_type": "execute_result",
          "data": {
            "text/plain": [
              "KMeans(algorithm='auto', copy_x=True, init='k-means++', max_iter=300,\n",
              "       n_clusters=3, n_init=10, n_jobs=None, precompute_distances='auto',\n",
              "       random_state=0, tol=0.0001, verbose=0)"
            ]
          },
          "metadata": {
            "tags": []
          },
          "execution_count": 31
        }
      ]
    },
    {
      "cell_type": "markdown",
      "metadata": {
        "id": "RHOR3qKq_P5T",
        "colab_type": "text"
      },
      "source": [
        "Fit to data, then transform it"
      ]
    },
    {
      "cell_type": "code",
      "metadata": {
        "id": "qt6v_i5m_Q_V",
        "colab_type": "code",
        "colab": {}
      },
      "source": [
        "pca_model = pca.fit_transform(X_train)"
      ],
      "execution_count": 0,
      "outputs": []
    },
    {
      "cell_type": "markdown",
      "metadata": {
        "id": "oqLMxuvD86VD",
        "colab_type": "text"
      },
      "source": [
        "## Prediction\n",
        "### Supervised Estimators\n",
        "Predict Labels"
      ]
    },
    {
      "cell_type": "code",
      "metadata": {
        "id": "gJE4FT-c89Rb",
        "colab_type": "code",
        "colab": {}
      },
      "source": [
        "y_pred = svc.predict(np.random.random((2,5)))\n",
        "y_pred = lr.predict(X_test)"
      ],
      "execution_count": 0,
      "outputs": []
    },
    {
      "cell_type": "markdown",
      "metadata": {
        "id": "h1WXzw5X_rw-",
        "colab_type": "text"
      },
      "source": [
        "Estimate probability of a label"
      ]
    },
    {
      "cell_type": "code",
      "metadata": {
        "id": "BvUIrAUZ_uKv",
        "colab_type": "code",
        "colab": {}
      },
      "source": [
        "y_pred = knn.predict_proba(X_test)"
      ],
      "execution_count": 0,
      "outputs": []
    },
    {
      "cell_type": "markdown",
      "metadata": {
        "id": "-oez3uDf89-n",
        "colab_type": "text"
      },
      "source": [
        "### Unsupervised Estimators\n",
        "Predict labels in clustering algorithms"
      ]
    },
    {
      "cell_type": "code",
      "metadata": {
        "id": "AevYDFyy9FOP",
        "colab_type": "code",
        "colab": {}
      },
      "source": [
        "y_pred = k_means.predict(X_test)"
      ],
      "execution_count": 0,
      "outputs": []
    },
    {
      "cell_type": "markdown",
      "metadata": {
        "id": "yzjXznY89F_E",
        "colab_type": "text"
      },
      "source": [
        "## Evaluate Model Performance\n",
        "### Classification Metrics\n",
        "#### Accuracy Score\n",
        "Estimator score method"
      ]
    },
    {
      "cell_type": "code",
      "metadata": {
        "id": "8uuxHaBq9LNm",
        "colab_type": "code",
        "colab": {
          "base_uri": "https://localhost:8080/",
          "height": 91
        },
        "outputId": "887aa90f-caae-4eb1-fbd1-96be3b6be9e9"
      },
      "source": [
        "knn.score(X_test, y_test)"
      ],
      "execution_count": 60,
      "outputs": [
        {
          "output_type": "stream",
          "text": [
            "/usr/local/lib/python3.6/dist-packages/sklearn/metrics/_classification.py:191: FutureWarning: elementwise comparison failed; returning scalar instead, but in the future will perform elementwise comparison\n",
            "  score = y_true == y_pred\n"
          ],
          "name": "stderr"
        },
        {
          "output_type": "execute_result",
          "data": {
            "text/plain": [
              "0.0"
            ]
          },
          "metadata": {
            "tags": []
          },
          "execution_count": 60
        }
      ]
    },
    {
      "cell_type": "markdown",
      "metadata": {
        "id": "V12kvBoxAM5j",
        "colab_type": "text"
      },
      "source": [
        "Metric scoring functions"
      ]
    },
    {
      "cell_type": "code",
      "metadata": {
        "id": "e4AsI4NuANN5",
        "colab_type": "code",
        "colab": {
          "base_uri": "https://localhost:8080/",
          "height": 35
        },
        "outputId": "3578ed2e-9111-46f3-8019-96233111aa70"
      },
      "source": [
        "from sklearn.metrics import accuracy_score\n",
        "accuracy_score(y_test, y_pred)"
      ],
      "execution_count": 61,
      "outputs": [
        {
          "output_type": "execute_result",
          "data": {
            "text/plain": [
              "0.3333333333333333"
            ]
          },
          "metadata": {
            "tags": []
          },
          "execution_count": 61
        }
      ]
    },
    {
      "cell_type": "markdown",
      "metadata": {
        "id": "1oohA8hm9Lsj",
        "colab_type": "text"
      },
      "source": [
        "#### Classification\n",
        "Precision, recall, f1-score\n",
        "and support"
      ]
    },
    {
      "cell_type": "code",
      "metadata": {
        "id": "ENkidbW-9N5b",
        "colab_type": "code",
        "colab": {
          "base_uri": "https://localhost:8080/",
          "height": 289
        },
        "outputId": "46cacc1a-4fc8-4b77-898d-204f05e3a76a"
      },
      "source": [
        "from sklearn.metrics import classification_report\n",
        "print(classification_report(y_test, y_pred))"
      ],
      "execution_count": 62,
      "outputs": [
        {
          "output_type": "stream",
          "text": [
            "              precision    recall  f1-score   support\n",
            "\n",
            "           0       1.00      0.50      0.67         2\n",
            "           1       0.00      0.00      0.00         1\n",
            "           2       0.00      0.00      0.00         0\n",
            "\n",
            "    accuracy                           0.33         3\n",
            "   macro avg       0.33      0.17      0.22         3\n",
            "weighted avg       0.67      0.33      0.44         3\n",
            "\n"
          ],
          "name": "stdout"
        },
        {
          "output_type": "stream",
          "text": [
            "/usr/local/lib/python3.6/dist-packages/sklearn/metrics/_classification.py:1272: UndefinedMetricWarning: Precision and F-score are ill-defined and being set to 0.0 in labels with no predicted samples. Use `zero_division` parameter to control this behavior.\n",
            "  _warn_prf(average, modifier, msg_start, len(result))\n",
            "/usr/local/lib/python3.6/dist-packages/sklearn/metrics/_classification.py:1272: UndefinedMetricWarning: Recall and F-score are ill-defined and being set to 0.0 in labels with no true samples. Use `zero_division` parameter to control this behavior.\n",
            "  _warn_prf(average, modifier, msg_start, len(result))\n"
          ],
          "name": "stderr"
        }
      ]
    },
    {
      "cell_type": "markdown",
      "metadata": {
        "id": "uULD7iXI9Oot",
        "colab_type": "text"
      },
      "source": [
        "#### Confusion Matrix"
      ]
    },
    {
      "cell_type": "code",
      "metadata": {
        "id": "UIwux3a49QTm",
        "colab_type": "code",
        "colab": {
          "base_uri": "https://localhost:8080/",
          "height": 71
        },
        "outputId": "7aca897c-95d0-4e74-d1b4-7ca0aff25455"
      },
      "source": [
        "from sklearn.metrics import confusion_matrix\n",
        "print(confusion_matrix(y_test, y_pred))"
      ],
      "execution_count": 63,
      "outputs": [
        {
          "output_type": "stream",
          "text": [
            "[[1 0 1]\n",
            " [0 0 1]\n",
            " [0 0 0]]\n"
          ],
          "name": "stdout"
        }
      ]
    },
    {
      "cell_type": "markdown",
      "metadata": {
        "id": "mlx8PIdo9RWJ",
        "colab_type": "text"
      },
      "source": [
        "### Regression Metrics\n",
        "#### Mean Absolute Error"
      ]
    },
    {
      "cell_type": "code",
      "metadata": {
        "id": "fW3euKlz9Uwi",
        "colab_type": "code",
        "colab": {
          "base_uri": "https://localhost:8080/",
          "height": 35
        },
        "outputId": "cc7645c0-4c38-490c-fa09-867f98a5d798"
      },
      "source": [
        "from sklearn.metrics import mean_absolute_error\n",
        "y_true = [3, -0.5, 2]\n",
        "mean_absolute_error(y_true, y_pred)"
      ],
      "execution_count": 41,
      "outputs": [
        {
          "output_type": "execute_result",
          "data": {
            "text/plain": [
              "1.8333333333333333"
            ]
          },
          "metadata": {
            "tags": []
          },
          "execution_count": 41
        }
      ]
    },
    {
      "cell_type": "markdown",
      "metadata": {
        "id": "7IirwWW09VT3",
        "colab_type": "text"
      },
      "source": [
        "#### Mean Squared Error"
      ]
    },
    {
      "cell_type": "code",
      "metadata": {
        "id": "_YmSFqOc9X2F",
        "colab_type": "code",
        "colab": {
          "base_uri": "https://localhost:8080/",
          "height": 35
        },
        "outputId": "eee25939-c189-4d82-eda3-6c33faf5b647"
      },
      "source": [
        "from sklearn.metrics import mean_squared_error\n",
        "mean_squared_error(y_test, y_pred)"
      ],
      "execution_count": 64,
      "outputs": [
        {
          "output_type": "execute_result",
          "data": {
            "text/plain": [
              "1.6666666666666667"
            ]
          },
          "metadata": {
            "tags": []
          },
          "execution_count": 64
        }
      ]
    },
    {
      "cell_type": "markdown",
      "metadata": {
        "id": "Cl23DhqY9YWY",
        "colab_type": "text"
      },
      "source": [
        "#### $R^2$ Score"
      ]
    },
    {
      "cell_type": "code",
      "metadata": {
        "id": "ibKE8uE49eUc",
        "colab_type": "code",
        "colab": {
          "base_uri": "https://localhost:8080/",
          "height": 35
        },
        "outputId": "b6967faa-c725-42e7-c2ed-2431412d23a5"
      },
      "source": [
        "from sklearn.metrics import r2_score\n",
        "r2_score(y_true, y_pred)"
      ],
      "execution_count": 43,
      "outputs": [
        {
          "output_type": "execute_result",
          "data": {
            "text/plain": [
              "-0.7307692307692308"
            ]
          },
          "metadata": {
            "tags": []
          },
          "execution_count": 43
        }
      ]
    },
    {
      "cell_type": "markdown",
      "metadata": {
        "id": "7qmCj8JR9fPH",
        "colab_type": "text"
      },
      "source": [
        "### Cluster Metrics\n",
        "#### Adjusted Rand Index"
      ]
    },
    {
      "cell_type": "code",
      "metadata": {
        "id": "qDrHaJvi9i1E",
        "colab_type": "code",
        "colab": {
          "base_uri": "https://localhost:8080/",
          "height": 35
        },
        "outputId": "21803028-0276-4846-f5b1-3532895a5f39"
      },
      "source": [
        "from sklearn.metrics import adjusted_rand_score\n",
        "adjusted_rand_score(y_true, y_pred) "
      ],
      "execution_count": 44,
      "outputs": [
        {
          "output_type": "execute_result",
          "data": {
            "text/plain": [
              "0.0"
            ]
          },
          "metadata": {
            "tags": []
          },
          "execution_count": 44
        }
      ]
    },
    {
      "cell_type": "markdown",
      "metadata": {
        "id": "K-zjC5gE9jaf",
        "colab_type": "text"
      },
      "source": [
        "#### Homogeneity"
      ]
    },
    {
      "cell_type": "code",
      "metadata": {
        "id": "ru7KQ_Zu9lgi",
        "colab_type": "code",
        "colab": {
          "base_uri": "https://localhost:8080/",
          "height": 35
        },
        "outputId": "3ee48eed-52a3-432e-b6ce-1d1008e07699"
      },
      "source": [
        "from sklearn.metrics import homogeneity_score\n",
        "homogeneity_score(y_true, y_pred) "
      ],
      "execution_count": 45,
      "outputs": [
        {
          "output_type": "execute_result",
          "data": {
            "text/plain": [
              "0.5793801642856952"
            ]
          },
          "metadata": {
            "tags": []
          },
          "execution_count": 45
        }
      ]
    },
    {
      "cell_type": "markdown",
      "metadata": {
        "id": "zh2h0hgG9mGV",
        "colab_type": "text"
      },
      "source": [
        "#### V-measure"
      ]
    },
    {
      "cell_type": "code",
      "metadata": {
        "id": "mAivCQhK9oxZ",
        "colab_type": "code",
        "colab": {
          "base_uri": "https://localhost:8080/",
          "height": 35
        },
        "outputId": "5a1b6075-1b50-4290-fbb6-b8bb094a702c"
      },
      "source": [
        "from sklearn.metrics import v_measure_score\n",
        "v_measure_score(y_true, y_pred) "
      ],
      "execution_count": 51,
      "outputs": [
        {
          "output_type": "execute_result",
          "data": {
            "text/plain": [
              "0.7336804366512111"
            ]
          },
          "metadata": {
            "tags": []
          },
          "execution_count": 51
        }
      ]
    },
    {
      "cell_type": "markdown",
      "metadata": {
        "id": "awgeWCPJ9pSe",
        "colab_type": "text"
      },
      "source": [
        "### Cross-Validation"
      ]
    },
    {
      "cell_type": "code",
      "metadata": {
        "id": "6sbah0wH9sZw",
        "colab_type": "code",
        "colab": {
          "base_uri": "https://localhost:8080/",
          "height": 53
        },
        "outputId": "50e7b371-d0ef-450d-d5d7-ae02060106b8"
      },
      "source": [
        "from sklearn.model_selection import cross_val_score\n",
        "print(cross_val_score(knn, X_train, y_train, cv=4))\n",
        "print(cross_val_score(lr, X, y, cv=2))"
      ],
      "execution_count": 50,
      "outputs": [
        {
          "output_type": "stream",
          "text": [
            "[0.5 0.5 0.5 0.5]\n",
            "[-1.02289061 -0.54391998]\n"
          ],
          "name": "stdout"
        }
      ]
    },
    {
      "cell_type": "markdown",
      "metadata": {
        "id": "2DwaTOzp9tcH",
        "colab_type": "text"
      },
      "source": [
        "## Model Tuning\n",
        "### Grid Search"
      ]
    },
    {
      "cell_type": "code",
      "metadata": {
        "id": "7E6n8JCV9u-1",
        "colab_type": "code",
        "colab": {
          "base_uri": "https://localhost:8080/",
          "height": 287
        },
        "outputId": "61a72143-5267-4b42-e2d3-7d6cc67732b3"
      },
      "source": [
        "from sklearn import svm, datasets\n",
        "from sklearn.model_selection import GridSearchCV\n",
        "iris = datasets.load_iris()\n",
        "parameters = {'kernel':('linear', 'rbf'), 'C':[1, 10]}\n",
        "svc = svm.SVC()\n",
        "clf = GridSearchCV(svc, parameters)\n",
        "clf.fit(iris.data, iris.target)\n",
        "GridSearchCV(estimator=SVC(),\n",
        "             param_grid={'C': [1, 10], 'kernel': ('linear', 'rbf')})\n",
        "sorted(clf.cv_results_.keys())"
      ],
      "execution_count": 76,
      "outputs": [
        {
          "output_type": "execute_result",
          "data": {
            "text/plain": [
              "['mean_fit_time',\n",
              " 'mean_score_time',\n",
              " 'mean_test_score',\n",
              " 'param_C',\n",
              " 'param_kernel',\n",
              " 'params',\n",
              " 'rank_test_score',\n",
              " 'split0_test_score',\n",
              " 'split1_test_score',\n",
              " 'split2_test_score',\n",
              " 'split3_test_score',\n",
              " 'split4_test_score',\n",
              " 'std_fit_time',\n",
              " 'std_score_time',\n",
              " 'std_test_score']"
            ]
          },
          "metadata": {
            "tags": []
          },
          "execution_count": 76
        }
      ]
    },
    {
      "cell_type": "markdown",
      "metadata": {
        "id": "tRVIatRS9xZg",
        "colab_type": "text"
      },
      "source": [
        "### Randomized Parameter Optimization"
      ]
    },
    {
      "cell_type": "code",
      "metadata": {
        "id": "EvdFDUz_91Ge",
        "colab_type": "code",
        "colab": {
          "base_uri": "https://localhost:8080/",
          "height": 35
        },
        "outputId": "a7b0f097-3f67-41dd-dd68-c768b34a73a1"
      },
      "source": [
        "from sklearn.model_selection import RandomizedSearchCV\n",
        "params = {\"n_neighbors\": range(1,5), \"weights\": [\"uniform\", \"distance\"]}\n",
        "rsearch = RandomizedSearchCV(estimator=knn,\n",
        "                             param_distributions=params,\n",
        "                             cv=4,\n",
        "                             n_iter=8,\n",
        "                             random_state=5)\n",
        "rsearch.fit(X_train, y_train)\n",
        "print(rsearch.best_score_)"
      ],
      "execution_count": 78,
      "outputs": [
        {
          "output_type": "stream",
          "text": [
            "0.5\n"
          ],
          "name": "stdout"
        }
      ]
    },
    {
      "cell_type": "code",
      "metadata": {
        "id": "--krPpvqHx60",
        "colab_type": "code",
        "colab": {}
      },
      "source": [
        ""
      ],
      "execution_count": 0,
      "outputs": []
    }
  ]
}