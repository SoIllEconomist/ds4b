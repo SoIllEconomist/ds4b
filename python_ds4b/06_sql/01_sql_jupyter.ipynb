{
  "nbformat": 4,
  "nbformat_minor": 0,
  "metadata": {
    "kernelspec": {
      "display_name": "PyCharm (ds4b)",
      "language": "python",
      "name": "pycharm-d7086c1b"
    },
    "language_info": {
      "codemirror_mode": {
        "name": "ipython",
        "version": 3
      },
      "file_extension": ".py",
      "mimetype": "text/x-python",
      "name": "python",
      "nbconvert_exporter": "python",
      "pygments_lexer": "ipython3",
      "version": "3.7.4"
    },
    "colab": {
      "name": "01_sql_jupyter.ipynb",
      "provenance": [],
      "include_colab_link": true
    }
  },
  "cells": [
    {
      "cell_type": "markdown",
      "metadata": {
        "id": "view-in-github",
        "colab_type": "text"
      },
      "source": [
        "<a href=\"https://colab.research.google.com/github/SoIllEconomist/ds4b/blob/master/python_ds4b/06_sql/01_sql_jupyter.ipynb\" target=\"_parent\"><img src=\"https://colab.research.google.com/assets/colab-badge.svg\" alt=\"Open In Colab\"/></a>"
      ]
    },
    {
      "cell_type": "markdown",
      "metadata": {
        "id": "7JdSqLEq9kJf",
        "colab_type": "text"
      },
      "source": [
        "# Introduction to SQL in Jupyter Notebooks\n",
        "In this section I'll illustrate how to utlize SQL within  a Jupyter Notebook environment. "
      ]
    },
    {
      "cell_type": "code",
      "metadata": {
        "id": "-Lpvdqs29f6Y",
        "colab_type": "code",
        "colab": {}
      },
      "source": [
        "#!pip install ipython-sql"
      ],
      "execution_count": 0,
      "outputs": []
    },
    {
      "cell_type": "code",
      "metadata": {
        "id": "esij0pVa9f6e",
        "colab_type": "code",
        "colab": {}
      },
      "source": [
        "%load_ext sql"
      ],
      "execution_count": 0,
      "outputs": []
    },
    {
      "cell_type": "code",
      "metadata": {
        "id": "GRVI2zeM9f6h",
        "colab_type": "code",
        "colab": {},
        "outputId": "b38dbdb6-3c82-48ef-fbfa-09aa74fecada"
      },
      "source": [
        "%sql sqlite://"
      ],
      "execution_count": 0,
      "outputs": [
        {
          "output_type": "execute_result",
          "data": {
            "text/plain": [
              "'Connected: @None'"
            ]
          },
          "metadata": {
            "tags": []
          },
          "execution_count": 2
        }
      ]
    },
    {
      "cell_type": "code",
      "metadata": {
        "id": "WxDCWvuY9f6l",
        "colab_type": "code",
        "colab": {},
        "outputId": "fffaeaa8-72a9-4a57-ff5d-9580f93d029f"
      },
      "source": [
        "%%sql   \n",
        "CREATE TABLE EMPLOYEE(firstname varchar(50),lastname varchar(50));  \n",
        "INSERT INTO EMPLOYEE VALUES('Tom','Mitchell');  \n",
        "INSERT INTO EMPLOYEE VALUES('Jack','Ryan');"
      ],
      "execution_count": 0,
      "outputs": [
        {
          "output_type": "stream",
          "text": [
            " * sqlite://\n",
            "Done.\n",
            "1 rows affected.\n",
            "1 rows affected.\n"
          ],
          "name": "stdout"
        },
        {
          "output_type": "execute_result",
          "data": {
            "text/plain": [
              "[]"
            ]
          },
          "metadata": {
            "tags": []
          },
          "execution_count": 3
        }
      ]
    },
    {
      "cell_type": "code",
      "metadata": {
        "id": "VMjJMdb79f6o",
        "colab_type": "code",
        "colab": {},
        "outputId": "54d8245a-daff-4b98-8461-9baa756b9cf5"
      },
      "source": [
        "%sql SELECT * from EMPLOYEE; "
      ],
      "execution_count": 0,
      "outputs": [
        {
          "output_type": "stream",
          "text": [
            " * sqlite://\n",
            "Done.\n"
          ],
          "name": "stdout"
        },
        {
          "output_type": "execute_result",
          "data": {
            "text/html": [
              "<table>\n",
              "    <tr>\n",
              "        <th>firstname</th>\n",
              "        <th>lastname</th>\n",
              "    </tr>\n",
              "    <tr>\n",
              "        <td>Tom</td>\n",
              "        <td>Mitchell</td>\n",
              "    </tr>\n",
              "    <tr>\n",
              "        <td>Jack</td>\n",
              "        <td>Ryan</td>\n",
              "    </tr>\n",
              "</table>"
            ],
            "text/plain": [
              "[('Tom', 'Mitchell'), ('Jack', 'Ryan')]"
            ]
          },
          "metadata": {
            "tags": []
          },
          "execution_count": 4
        }
      ]
    },
    {
      "cell_type": "code",
      "metadata": {
        "id": "2fgfSeR49f6r",
        "colab_type": "code",
        "colab": {},
        "outputId": "f5a75eb5-23f1-4fb8-f40e-8694955ab886"
      },
      "source": [
        "!git clone https://github.com/thomasnield/oreilly_getting_started_with_sql.git"
      ],
      "execution_count": 0,
      "outputs": [
        {
          "output_type": "stream",
          "text": [
            "fatal: destination path 'oreilly_getting_started_with_sql' already exists and is not an empty directory.\r\n"
          ],
          "name": "stdout"
        }
      ]
    },
    {
      "cell_type": "code",
      "metadata": {
        "id": "3NLZPbRn9f6u",
        "colab_type": "code",
        "colab": {},
        "outputId": "df9c9119-2be3-42e1-bbd7-614ac622d218"
      },
      "source": [
        "%ls"
      ],
      "execution_count": 0,
      "outputs": [
        {
          "output_type": "stream",
          "text": [
            "00_sql_intro.ipynb  01_sql_jupyter.ipynb  \u001b[0m\u001b[01;34moreilly_getting_started_with_sql\u001b[0m/\r\n"
          ],
          "name": "stdout"
        }
      ]
    },
    {
      "cell_type": "code",
      "metadata": {
        "id": "JF5IKjVg9f6x",
        "colab_type": "code",
        "colab": {},
        "outputId": "f3664755-9bc1-46d2-9741-a5afb9755ff6"
      },
      "source": [
        "%sql sqlite:///oreilly_getting_started_with_sql/rexon_metals.db"
      ],
      "execution_count": 0,
      "outputs": [
        {
          "output_type": "execute_result",
          "data": {
            "text/plain": [
              "'Connected: @oreilly_getting_started_with_sql/rexon_metals.db'"
            ]
          },
          "metadata": {
            "tags": []
          },
          "execution_count": 8
        }
      ]
    }
  ]
}