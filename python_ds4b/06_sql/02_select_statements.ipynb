{
 "cells": [
  {
   "cell_type": "code",
   "execution_count": 1,
   "metadata": {},
   "outputs": [],
   "source": [
    "#!pip install ipython-sql\n",
    "#!git clone https://github.com/thomasnield/oreilly_getting_started_with_sql.git"
   ]
  },
  {
   "cell_type": "code",
   "execution_count": 2,
   "metadata": {},
   "outputs": [],
   "source": [
    "%load_ext sql"
   ]
  },
  {
   "cell_type": "code",
   "execution_count": 3,
   "metadata": {},
   "outputs": [
    {
     "data": {
      "text/plain": [
       "'Connected: @oreilly_getting_started_with_sql/rexon_metals.db'"
      ]
     },
     "execution_count": 3,
     "metadata": {},
     "output_type": "execute_result"
    }
   ],
   "source": [
    "%sql sqlite:///oreilly_getting_started_with_sql/rexon_metals.db"
   ]
  },
  {
   "cell_type": "markdown",
   "metadata": {},
   "source": [
    "# SELECT\n",
    "\n",
    "When working with databases and SQL, the most common task is to request data from one or more tables and display it. \n",
    "\n",
    "The `SELECT` statement accomplishes this. "
   ]
  },
  {
   "cell_type": "markdown",
   "metadata": {},
   "source": [
    "## Retrieving Data with SQL\n",
    "\n",
    "Let’s write our first SQL statement. The most common SQL operation is a `SELECT` statement, which pulls data from a table and then displays the results. \n",
    "\n",
    "Write the following statement:"
   ]
  },
  {
   "cell_type": "code",
   "execution_count": 4,
   "metadata": {},
   "outputs": [
    {
     "name": "stdout",
     "output_type": "stream",
     "text": [
      " * sqlite:///oreilly_getting_started_with_sql/rexon_metals.db\n",
      "Done.\n"
     ]
    },
    {
     "data": {
      "text/html": [
       "<table>\n",
       "    <tr>\n",
       "        <th>CUSTOMER_ID</th>\n",
       "        <th>NAME</th>\n",
       "        <th>REGION</th>\n",
       "        <th>STREET_ADDRESS</th>\n",
       "        <th>CITY</th>\n",
       "        <th>STATE</th>\n",
       "        <th>ZIP</th>\n",
       "    </tr>\n",
       "    <tr>\n",
       "        <td>1</td>\n",
       "        <td>LITE Industrial</td>\n",
       "        <td>Southwest</td>\n",
       "        <td>729 Ravine Way</td>\n",
       "        <td>Irving</td>\n",
       "        <td>TX</td>\n",
       "        <td>75014</td>\n",
       "    </tr>\n",
       "    <tr>\n",
       "        <td>2</td>\n",
       "        <td>Rex Tooling Inc</td>\n",
       "        <td>Southwest</td>\n",
       "        <td>6129 Collie Blvd</td>\n",
       "        <td>Dallas</td>\n",
       "        <td>TX</td>\n",
       "        <td>75201</td>\n",
       "    </tr>\n",
       "    <tr>\n",
       "        <td>3</td>\n",
       "        <td>Re-Barre Construction</td>\n",
       "        <td>Southwest</td>\n",
       "        <td>9043 Windy Dr</td>\n",
       "        <td>Irving</td>\n",
       "        <td>TX</td>\n",
       "        <td>75032</td>\n",
       "    </tr>\n",
       "    <tr>\n",
       "        <td>4</td>\n",
       "        <td>Prairie Construction</td>\n",
       "        <td>Southwest</td>\n",
       "        <td>264 Long Rd</td>\n",
       "        <td>Moore</td>\n",
       "        <td>OK</td>\n",
       "        <td>62104</td>\n",
       "    </tr>\n",
       "    <tr>\n",
       "        <td>5</td>\n",
       "        <td>Marsh Lane Metal Works</td>\n",
       "        <td>Southeast</td>\n",
       "        <td>9143 Marsh Ln</td>\n",
       "        <td>Avondale</td>\n",
       "        <td>LA</td>\n",
       "        <td>79782</td>\n",
       "    </tr>\n",
       "</table>"
      ],
      "text/plain": [
       "[(1, 'LITE Industrial', 'Southwest', '729 Ravine Way', 'Irving', 'TX', 75014),\n",
       " (2, 'Rex Tooling Inc', 'Southwest', '6129 Collie Blvd', 'Dallas', 'TX', 75201),\n",
       " (3, 'Re-Barre Construction', 'Southwest', '9043 Windy Dr', 'Irving', 'TX', 75032),\n",
       " (4, 'Prairie Construction', 'Southwest', '264 Long Rd', 'Moore', 'OK', 62104),\n",
       " (5, 'Marsh Lane Metal Works', 'Southeast', '9143 Marsh Ln', 'Avondale', 'LA', 79782)]"
      ]
     },
     "execution_count": 4,
     "metadata": {},
     "output_type": "execute_result"
    }
   ],
   "source": [
    "%sql SELECT * FROM CUSTOMER;"
   ]
  },
  {
   "cell_type": "markdown",
   "metadata": {},
   "source": [
    "Let’s break down exactly what happened. A SELECT statement allows you to choose which columns to pull from a table. So the first part of the SQL shown here should be read as “Select all columns,” where * is a placeholder to specify all columns.\n",
    "\n",
    "And you are getting these columns from the CUSTOMER table.\n",
    "\n",
    "You do not have to pull all columns in a SELECT statement. You can also pick and choose only the columns you are interested in. The following query will only pull the CUSTOMER_ID and NAME columns:"
   ]
  },
  {
   "cell_type": "code",
   "execution_count": 7,
   "metadata": {},
   "outputs": [
    {
     "name": "stdout",
     "output_type": "stream",
     "text": [
      " * sqlite:///oreilly_getting_started_with_sql/rexon_metals.db\n",
      "Done.\n"
     ]
    },
    {
     "data": {
      "text/html": [
       "<table>\n",
       "    <tr>\n",
       "        <th>CUSTOMER_ID</th>\n",
       "        <th>NAME</th>\n",
       "    </tr>\n",
       "    <tr>\n",
       "        <td>1</td>\n",
       "        <td>LITE Industrial</td>\n",
       "    </tr>\n",
       "    <tr>\n",
       "        <td>2</td>\n",
       "        <td>Rex Tooling Inc</td>\n",
       "    </tr>\n",
       "    <tr>\n",
       "        <td>3</td>\n",
       "        <td>Re-Barre Construction</td>\n",
       "    </tr>\n",
       "    <tr>\n",
       "        <td>4</td>\n",
       "        <td>Prairie Construction</td>\n",
       "    </tr>\n",
       "    <tr>\n",
       "        <td>5</td>\n",
       "        <td>Marsh Lane Metal Works</td>\n",
       "    </tr>\n",
       "</table>"
      ],
      "text/plain": [
       "[(1, 'LITE Industrial'),\n",
       " (2, 'Rex Tooling Inc'),\n",
       " (3, 'Re-Barre Construction'),\n",
       " (4, 'Prairie Construction'),\n",
       " (5, 'Marsh Lane Metal Works')]"
      ]
     },
     "execution_count": 7,
     "metadata": {},
     "output_type": "execute_result"
    }
   ],
   "source": [
    "%sql SELECT CUSTOMER_ID, NAME FROM CUSTOMER;"
   ]
  },
  {
   "cell_type": "markdown",
   "metadata": {},
   "source": [
    "## Expression in SELECT Statements\n",
    "\n",
    "The SELECT statement can do far more than simply select columns. You can also do calculations on one or more columns and include them in your query result. Let’s work with another table called PRODUCT."
   ]
  },
  {
   "cell_type": "code",
   "execution_count": 8,
   "metadata": {},
   "outputs": [
    {
     "name": "stdout",
     "output_type": "stream",
     "text": [
      " * sqlite:///oreilly_getting_started_with_sql/rexon_metals.db\n",
      "Done.\n"
     ]
    },
    {
     "data": {
      "text/html": [
       "<table>\n",
       "    <tr>\n",
       "        <th>PRODUCT_ID</th>\n",
       "        <th>DESCRIPTION</th>\n",
       "        <th>PRICE</th>\n",
       "    </tr>\n",
       "    <tr>\n",
       "        <td>1</td>\n",
       "        <td>Copper</td>\n",
       "        <td>7.51</td>\n",
       "    </tr>\n",
       "    <tr>\n",
       "        <td>2</td>\n",
       "        <td>Aluminum</td>\n",
       "        <td>2.58</td>\n",
       "    </tr>\n",
       "    <tr>\n",
       "        <td>3</td>\n",
       "        <td>Silver</td>\n",
       "        <td>15</td>\n",
       "    </tr>\n",
       "    <tr>\n",
       "        <td>4</td>\n",
       "        <td>Steel</td>\n",
       "        <td>12.31</td>\n",
       "    </tr>\n",
       "    <tr>\n",
       "        <td>5</td>\n",
       "        <td>Bronze</td>\n",
       "        <td>4</td>\n",
       "    </tr>\n",
       "    <tr>\n",
       "        <td>6</td>\n",
       "        <td>Duralumin</td>\n",
       "        <td>7.6</td>\n",
       "    </tr>\n",
       "    <tr>\n",
       "        <td>7</td>\n",
       "        <td>Solder</td>\n",
       "        <td>14.16</td>\n",
       "    </tr>\n",
       "    <tr>\n",
       "        <td>8</td>\n",
       "        <td>Stellite</td>\n",
       "        <td>13.31</td>\n",
       "    </tr>\n",
       "    <tr>\n",
       "        <td>9</td>\n",
       "        <td>Brass</td>\n",
       "        <td>4.75</td>\n",
       "    </tr>\n",
       "</table>"
      ],
      "text/plain": [
       "[(1, 'Copper', 7.51),\n",
       " (2, 'Aluminum', 2.58),\n",
       " (3, 'Silver', 15),\n",
       " (4, 'Steel', 12.31),\n",
       " (5, 'Bronze', 4),\n",
       " (6, 'Duralumin', 7.6),\n",
       " (7, 'Solder', 14.16),\n",
       " (8, 'Stellite', 13.31),\n",
       " (9, 'Brass', 4.75)]"
      ]
     },
     "execution_count": 8,
     "metadata": {},
     "output_type": "execute_result"
    }
   ],
   "source": [
    "%sql SELECT * FROM PRODUCT;"
   ]
  },
  {
   "cell_type": "markdown",
   "metadata": {},
   "source": [
    "Suppose we wanted to generate a calculated column called TAXED_PRICE that is 7% higher than PRICE. We could use a SELECT query to dynamically calculate this for us"
   ]
  },
  {
   "cell_type": "code",
   "execution_count": 9,
   "metadata": {},
   "outputs": [
    {
     "name": "stdout",
     "output_type": "stream",
     "text": [
      " * sqlite:///oreilly_getting_started_with_sql/rexon_metals.db\n",
      "Done.\n"
     ]
    },
    {
     "data": {
      "text/html": [
       "<table>\n",
       "    <tr>\n",
       "        <th>PRODUCT_ID</th>\n",
       "        <th>DESCRIPTION</th>\n",
       "        <th>PRICE</th>\n",
       "        <th>TAXED_PRICE</th>\n",
       "    </tr>\n",
       "    <tr>\n",
       "        <td>1</td>\n",
       "        <td>Copper</td>\n",
       "        <td>7.51</td>\n",
       "        <td>8.0357</td>\n",
       "    </tr>\n",
       "    <tr>\n",
       "        <td>2</td>\n",
       "        <td>Aluminum</td>\n",
       "        <td>2.58</td>\n",
       "        <td>2.7606</td>\n",
       "    </tr>\n",
       "    <tr>\n",
       "        <td>3</td>\n",
       "        <td>Silver</td>\n",
       "        <td>15</td>\n",
       "        <td>16.05</td>\n",
       "    </tr>\n",
       "    <tr>\n",
       "        <td>4</td>\n",
       "        <td>Steel</td>\n",
       "        <td>12.31</td>\n",
       "        <td>13.171700000000001</td>\n",
       "    </tr>\n",
       "    <tr>\n",
       "        <td>5</td>\n",
       "        <td>Bronze</td>\n",
       "        <td>4</td>\n",
       "        <td>4.28</td>\n",
       "    </tr>\n",
       "    <tr>\n",
       "        <td>6</td>\n",
       "        <td>Duralumin</td>\n",
       "        <td>7.6</td>\n",
       "        <td>8.132</td>\n",
       "    </tr>\n",
       "    <tr>\n",
       "        <td>7</td>\n",
       "        <td>Solder</td>\n",
       "        <td>14.16</td>\n",
       "        <td>15.151200000000001</td>\n",
       "    </tr>\n",
       "    <tr>\n",
       "        <td>8</td>\n",
       "        <td>Stellite</td>\n",
       "        <td>13.31</td>\n",
       "        <td>14.241700000000002</td>\n",
       "    </tr>\n",
       "    <tr>\n",
       "        <td>9</td>\n",
       "        <td>Brass</td>\n",
       "        <td>4.75</td>\n",
       "        <td>5.0825000000000005</td>\n",
       "    </tr>\n",
       "</table>"
      ],
      "text/plain": [
       "[(1, 'Copper', 7.51, 8.0357),\n",
       " (2, 'Aluminum', 2.58, 2.7606),\n",
       " (3, 'Silver', 15, 16.05),\n",
       " (4, 'Steel', 12.31, 13.171700000000001),\n",
       " (5, 'Bronze', 4, 4.28),\n",
       " (6, 'Duralumin', 7.6, 8.132),\n",
       " (7, 'Solder', 14.16, 15.151200000000001),\n",
       " (8, 'Stellite', 13.31, 14.241700000000002),\n",
       " (9, 'Brass', 4.75, 5.0825000000000005)]"
      ]
     },
     "execution_count": 9,
     "metadata": {},
     "output_type": "execute_result"
    }
   ],
   "source": [
    "%%sql\n",
    "\n",
    "SELECT\n",
    "PRODUCT_ID,\n",
    "DESCRIPTION,\n",
    "PRICE,\n",
    "PRICE * 1.07 AS TAXED_PRICE\n",
    "FROM PRODUCT;"
   ]
  },
  {
   "cell_type": "markdown",
   "metadata": {},
   "source": [
    "Notice how the TAXED_PRICE column was dynamically calculated in the SELECT query. This column is not stored in the table, but rather calculated and displayed to us every time we run this query.\n",
    "\n",
    "Let’s take a look at our TAXED_PRICE column and break down how it was created. We first see the PRICE is multiplied by 1.07 to calculate the taxed amount. We generate this TAXED_PRICE value for every record.\n",
    "\n",
    "Notice too that we gave this calculated value a name using an AS statement (this is known as an alias):\n",
    "\n",
    "We can use aliases to give names to expressions. We can also use aliases to apply a new name to an existing column within the query. For example, we can alias the PRICE column to UNTAXED_PRICE. This does not actually change the name of the column in the table, but it gives it a new name within the scope of our SELECT statement:\n"
   ]
  },
  {
   "cell_type": "code",
   "execution_count": 10,
   "metadata": {},
   "outputs": [
    {
     "name": "stdout",
     "output_type": "stream",
     "text": [
      " * sqlite:///oreilly_getting_started_with_sql/rexon_metals.db\n",
      "Done.\n"
     ]
    },
    {
     "data": {
      "text/html": [
       "<table>\n",
       "    <tr>\n",
       "        <th>PRODUCT_ID</th>\n",
       "        <th>DESCRIPTION</th>\n",
       "        <th>UNTAXED_PRICE</th>\n",
       "        <th>TAXED_PRICE</th>\n",
       "    </tr>\n",
       "    <tr>\n",
       "        <td>1</td>\n",
       "        <td>Copper</td>\n",
       "        <td>7.51</td>\n",
       "        <td>8.0357</td>\n",
       "    </tr>\n",
       "    <tr>\n",
       "        <td>2</td>\n",
       "        <td>Aluminum</td>\n",
       "        <td>2.58</td>\n",
       "        <td>2.7606</td>\n",
       "    </tr>\n",
       "    <tr>\n",
       "        <td>3</td>\n",
       "        <td>Silver</td>\n",
       "        <td>15</td>\n",
       "        <td>16.05</td>\n",
       "    </tr>\n",
       "    <tr>\n",
       "        <td>4</td>\n",
       "        <td>Steel</td>\n",
       "        <td>12.31</td>\n",
       "        <td>13.171700000000001</td>\n",
       "    </tr>\n",
       "    <tr>\n",
       "        <td>5</td>\n",
       "        <td>Bronze</td>\n",
       "        <td>4</td>\n",
       "        <td>4.28</td>\n",
       "    </tr>\n",
       "    <tr>\n",
       "        <td>6</td>\n",
       "        <td>Duralumin</td>\n",
       "        <td>7.6</td>\n",
       "        <td>8.132</td>\n",
       "    </tr>\n",
       "    <tr>\n",
       "        <td>7</td>\n",
       "        <td>Solder</td>\n",
       "        <td>14.16</td>\n",
       "        <td>15.151200000000001</td>\n",
       "    </tr>\n",
       "    <tr>\n",
       "        <td>8</td>\n",
       "        <td>Stellite</td>\n",
       "        <td>13.31</td>\n",
       "        <td>14.241700000000002</td>\n",
       "    </tr>\n",
       "    <tr>\n",
       "        <td>9</td>\n",
       "        <td>Brass</td>\n",
       "        <td>4.75</td>\n",
       "        <td>5.0825000000000005</td>\n",
       "    </tr>\n",
       "</table>"
      ],
      "text/plain": [
       "[(1, 'Copper', 7.51, 8.0357),\n",
       " (2, 'Aluminum', 2.58, 2.7606),\n",
       " (3, 'Silver', 15, 16.05),\n",
       " (4, 'Steel', 12.31, 13.171700000000001),\n",
       " (5, 'Bronze', 4, 4.28),\n",
       " (6, 'Duralumin', 7.6, 8.132),\n",
       " (7, 'Solder', 14.16, 15.151200000000001),\n",
       " (8, 'Stellite', 13.31, 14.241700000000002),\n",
       " (9, 'Brass', 4.75, 5.0825000000000005)]"
      ]
     },
     "execution_count": 10,
     "metadata": {},
     "output_type": "execute_result"
    }
   ],
   "source": [
    "%%sql\n",
    "SELECT\n",
    "PRODUCT_ID,\n",
    "DESCRIPTION, \n",
    "PRICE AS UNTAXED_PRICE,\n",
    "PRICE * 1.07 AS TAXED_PRICE\n",
    "FROM PRODUCT"
   ]
  },
  {
   "cell_type": "markdown",
   "metadata": {},
   "source": [
    "To round the TAXED_PRICE to two decimal places, we can pass the multiplication expression PRICE * 1.07 as the first argument, and a 2 as the second:"
   ]
  },
  {
   "cell_type": "code",
   "execution_count": 11,
   "metadata": {},
   "outputs": [
    {
     "name": "stdout",
     "output_type": "stream",
     "text": [
      " * sqlite:///oreilly_getting_started_with_sql/rexon_metals.db\n",
      "Done.\n"
     ]
    },
    {
     "data": {
      "text/html": [
       "<table>\n",
       "    <tr>\n",
       "        <th>PRODUCT_ID</th>\n",
       "        <th>DESCRIPTION</th>\n",
       "        <th>UNTAXED_PRICE</th>\n",
       "        <th>TAXED_PRICE</th>\n",
       "    </tr>\n",
       "    <tr>\n",
       "        <td>1</td>\n",
       "        <td>Copper</td>\n",
       "        <td>7.51</td>\n",
       "        <td>8.04</td>\n",
       "    </tr>\n",
       "    <tr>\n",
       "        <td>2</td>\n",
       "        <td>Aluminum</td>\n",
       "        <td>2.58</td>\n",
       "        <td>2.76</td>\n",
       "    </tr>\n",
       "    <tr>\n",
       "        <td>3</td>\n",
       "        <td>Silver</td>\n",
       "        <td>15</td>\n",
       "        <td>16.05</td>\n",
       "    </tr>\n",
       "    <tr>\n",
       "        <td>4</td>\n",
       "        <td>Steel</td>\n",
       "        <td>12.31</td>\n",
       "        <td>13.17</td>\n",
       "    </tr>\n",
       "    <tr>\n",
       "        <td>5</td>\n",
       "        <td>Bronze</td>\n",
       "        <td>4</td>\n",
       "        <td>4.28</td>\n",
       "    </tr>\n",
       "    <tr>\n",
       "        <td>6</td>\n",
       "        <td>Duralumin</td>\n",
       "        <td>7.6</td>\n",
       "        <td>8.13</td>\n",
       "    </tr>\n",
       "    <tr>\n",
       "        <td>7</td>\n",
       "        <td>Solder</td>\n",
       "        <td>14.16</td>\n",
       "        <td>15.15</td>\n",
       "    </tr>\n",
       "    <tr>\n",
       "        <td>8</td>\n",
       "        <td>Stellite</td>\n",
       "        <td>13.31</td>\n",
       "        <td>14.24</td>\n",
       "    </tr>\n",
       "    <tr>\n",
       "        <td>9</td>\n",
       "        <td>Brass</td>\n",
       "        <td>4.75</td>\n",
       "        <td>5.08</td>\n",
       "    </tr>\n",
       "</table>"
      ],
      "text/plain": [
       "[(1, 'Copper', 7.51, 8.04),\n",
       " (2, 'Aluminum', 2.58, 2.76),\n",
       " (3, 'Silver', 15, 16.05),\n",
       " (4, 'Steel', 12.31, 13.17),\n",
       " (5, 'Bronze', 4, 4.28),\n",
       " (6, 'Duralumin', 7.6, 8.13),\n",
       " (7, 'Solder', 14.16, 15.15),\n",
       " (8, 'Stellite', 13.31, 14.24),\n",
       " (9, 'Brass', 4.75, 5.08)]"
      ]
     },
     "execution_count": 11,
     "metadata": {},
     "output_type": "execute_result"
    }
   ],
   "source": [
    "%%sql\n",
    "SELECT\n",
    "PRODUCT_ID,\n",
    "DESCRIPTION, \n",
    "PRICE AS UNTAXED_PRICE,\n",
    "round(PRICE * 1.07,2) AS TAXED_PRICE\n",
    "FROM PRODUCT"
   ]
  },
  {
   "cell_type": "markdown",
   "metadata": {},
   "source": [
    "Here are the mathematical operators you can use in SQL:\n",
    "\n",
    "| Operator \t| Description                                   \t| Example              \t|\n",
    "|----------\t|-----------------------------------------------\t|----------------------\t|\n",
    "| +        \t| Adds two numbers                              \t| STOCK + NEW_SHIPMENT \t|\n",
    "| -        \t| Subtracts two numbers                         \t| STOCK - DEFECTS      \t|\n",
    "| *        \t| Multiplies two numbers                        \t| PRICE * 1.07         \t|\n",
    "| /        \t| Divides two numbers                           \t| STOCK / PALLET_SIZE  \t|\n",
    "| %        \t| Divides two, numbers but return the remainder \t| STOCK % PALLET_SIZE  \t|"
   ]
  },
  {
   "cell_type": "markdown",
   "metadata": {},
   "source": [
    "## Text Concatenation\n",
    "\n",
    "The concatenate operator is specified by a double pipe (||), and you put the data values to concatenate on both sides of it."
   ]
  },
  {
   "cell_type": "code",
   "execution_count": 12,
   "metadata": {},
   "outputs": [
    {
     "name": "stdout",
     "output_type": "stream",
     "text": [
      " * sqlite:///oreilly_getting_started_with_sql/rexon_metals.db\n",
      "Done.\n"
     ]
    },
    {
     "data": {
      "text/html": [
       "<table>\n",
       "    <tr>\n",
       "        <th>NAME</th>\n",
       "        <th>LOCATION</th>\n",
       "    </tr>\n",
       "    <tr>\n",
       "        <td>LITE Industrial</td>\n",
       "        <td>Irving, TX</td>\n",
       "    </tr>\n",
       "    <tr>\n",
       "        <td>Rex Tooling Inc</td>\n",
       "        <td>Dallas, TX</td>\n",
       "    </tr>\n",
       "    <tr>\n",
       "        <td>Re-Barre Construction</td>\n",
       "        <td>Irving, TX</td>\n",
       "    </tr>\n",
       "    <tr>\n",
       "        <td>Prairie Construction</td>\n",
       "        <td>Moore, OK</td>\n",
       "    </tr>\n",
       "    <tr>\n",
       "        <td>Marsh Lane Metal Works</td>\n",
       "        <td>Avondale, LA</td>\n",
       "    </tr>\n",
       "</table>"
      ],
      "text/plain": [
       "[('LITE Industrial', 'Irving, TX'),\n",
       " ('Rex Tooling Inc', 'Dallas, TX'),\n",
       " ('Re-Barre Construction', 'Irving, TX'),\n",
       " ('Prairie Construction', 'Moore, OK'),\n",
       " ('Marsh Lane Metal Works', 'Avondale, LA')]"
      ]
     },
     "execution_count": 12,
     "metadata": {},
     "output_type": "execute_result"
    }
   ],
   "source": [
    "%%sql\n",
    "SELECT NAME,\n",
    "CITY || ', ' || STATE AS LOCATION\n",
    "FROM CUSTOMER;"
   ]
  },
  {
   "cell_type": "code",
   "execution_count": 18,
   "metadata": {},
   "outputs": [
    {
     "name": "stdout",
     "output_type": "stream",
     "text": [
      " * sqlite:///oreilly_getting_started_with_sql/rexon_metals.db\n",
      "Done.\n"
     ]
    },
    {
     "data": {
      "text/html": [
       "<table>\n",
       "    <tr>\n",
       "        <th>NAME</th>\n",
       "        <th>SHIP_ADDRESS</th>\n",
       "    </tr>\n",
       "    <tr>\n",
       "        <td>LITE Industrial</td>\n",
       "        <td>729 Ravine Way Irving, TX 75014</td>\n",
       "    </tr>\n",
       "    <tr>\n",
       "        <td>Rex Tooling Inc</td>\n",
       "        <td>6129 Collie Blvd Dallas, TX 75201</td>\n",
       "    </tr>\n",
       "    <tr>\n",
       "        <td>Re-Barre Construction</td>\n",
       "        <td>9043 Windy Dr Irving, TX 75032</td>\n",
       "    </tr>\n",
       "    <tr>\n",
       "        <td>Prairie Construction</td>\n",
       "        <td>264 Long Rd Moore, OK 62104</td>\n",
       "    </tr>\n",
       "    <tr>\n",
       "        <td>Marsh Lane Metal Works</td>\n",
       "        <td>9143 Marsh Ln Avondale, LA 79782</td>\n",
       "    </tr>\n",
       "</table>"
      ],
      "text/plain": [
       "[('LITE Industrial', '729 Ravine Way Irving, TX 75014'),\n",
       " ('Rex Tooling Inc', '6129 Collie Blvd Dallas, TX 75201'),\n",
       " ('Re-Barre Construction', '9043 Windy Dr Irving, TX 75032'),\n",
       " ('Prairie Construction', '264 Long Rd Moore, OK 62104'),\n",
       " ('Marsh Lane Metal Works', '9143 Marsh Ln Avondale, LA 79782')]"
      ]
     },
     "execution_count": 18,
     "metadata": {},
     "output_type": "execute_result"
    }
   ],
   "source": [
    "%%sql\n",
    "SELECT NAME,\n",
    "STREET_ADDRESS || ' ' || CITY || ', ' || STATE || ' ' || ZIP AS SHIP_ADDRESS\n",
    "FROM CUSTOMER;"
   ]
  },
  {
   "cell_type": "markdown",
   "metadata": {},
   "source": [
    "## Summary\n",
    "In this section, we covered how to use the SELECT statement, the most common SQL operation. It retrieves and transforms data from a table without affecting the table itself. We also learned how to select columns and write expressions.\n",
    "\n",
    "Within expressions, we can use operators and functions to do tasks such as rounding, math, and concatenation. "
   ]
  }
 ],
 "metadata": {
  "kernelspec": {
   "display_name": "PyCharm (ds4b)",
   "language": "python",
   "name": "pycharm-d7086c1b"
  },
  "language_info": {
   "codemirror_mode": {
    "name": "ipython",
    "version": 3
   },
   "file_extension": ".py",
   "mimetype": "text/x-python",
   "name": "python",
   "nbconvert_exporter": "python",
   "pygments_lexer": "ipython3",
   "version": "3.7.4"
  }
 },
 "nbformat": 4,
 "nbformat_minor": 2
}
