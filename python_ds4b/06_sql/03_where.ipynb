{
  "nbformat": 4,
  "nbformat_minor": 0,
  "metadata": {
    "kernelspec": {
      "display_name": "PyCharm (ds4b)",
      "language": "python",
      "name": "pycharm-d7086c1b"
    },
    "language_info": {
      "codemirror_mode": {
        "name": "ipython",
        "version": 3
      },
      "file_extension": ".py",
      "mimetype": "text/x-python",
      "name": "python",
      "nbconvert_exporter": "python",
      "pygments_lexer": "ipython3",
      "version": "3.7.4"
    },
    "colab": {
      "name": "03_where.ipynb",
      "provenance": [],
      "include_colab_link": true
    }
  },
  "cells": [
    {
      "cell_type": "markdown",
      "metadata": {
        "id": "view-in-github",
        "colab_type": "text"
      },
      "source": [
        "<a href=\"https://colab.research.google.com/github/SoIllEconomist/ds4b/blob/master/python_ds4b/06_sql/03_where.ipynb\" target=\"_parent\"><img src=\"https://colab.research.google.com/assets/colab-badge.svg\" alt=\"Open In Colab\"/></a>"
      ]
    },
    {
      "cell_type": "code",
      "metadata": {
        "id": "kPPhPrfLyf3X",
        "colab_type": "code",
        "outputId": "76d961a7-6390-4528-c334-bb9da5bf6782",
        "colab": {
          "base_uri": "https://localhost:8080/",
          "height": 129
        }
      },
      "source": [
        "#!pip install ipython-sql\n",
        "!git clone https://github.com/thomasnield/oreilly_getting_started_with_sql.git"
      ],
      "execution_count": 0,
      "outputs": [
        {
          "output_type": "stream",
          "text": [
            "Cloning into 'oreilly_getting_started_with_sql'...\n",
            "remote: Enumerating objects: 3, done.\u001b[K\n",
            "remote: Counting objects: 100% (3/3), done.\u001b[K\n",
            "remote: Compressing objects: 100% (3/3), done.\u001b[K\n",
            "remote: Total 60 (delta 0), reused 0 (delta 0), pack-reused 57\n",
            "Unpacking objects: 100% (60/60), done.\n"
          ],
          "name": "stdout"
        }
      ]
    },
    {
      "cell_type": "code",
      "metadata": {
        "id": "YsFh-0j-yf3Z",
        "colab_type": "code",
        "outputId": "e9d0ecb6-def9-4ae0-c7da-2a5bb175948e",
        "colab": {
          "base_uri": "https://localhost:8080/",
          "height": 53
        }
      },
      "source": [
        "%load_ext sql"
      ],
      "execution_count": 0,
      "outputs": [
        {
          "output_type": "stream",
          "text": [
            "The sql extension is already loaded. To reload it, use:\n",
            "  %reload_ext sql\n"
          ],
          "name": "stdout"
        }
      ]
    },
    {
      "cell_type": "code",
      "metadata": {
        "id": "gcnctFXhyf3c",
        "colab_type": "code",
        "outputId": "ea796e6d-7331-460e-90df-d96ef8e7f1de",
        "colab": {
          "base_uri": "https://localhost:8080/",
          "height": 36
        }
      },
      "source": [
        "%sql sqlite:///oreilly_getting_started_with_sql/weather_stations.db"
      ],
      "execution_count": 0,
      "outputs": [
        {
          "output_type": "execute_result",
          "data": {
            "text/plain": [
              "'Connected: @oreilly_getting_started_with_sql/weather_stations.db'"
            ]
          },
          "metadata": {
            "tags": []
          },
          "execution_count": 3
        }
      ]
    },
    {
      "cell_type": "markdown",
      "metadata": {
        "id": "fYRgEfiIyf3e",
        "colab_type": "text"
      },
      "source": [
        "# WHERE\n",
        "\n",
        "Over the next few weeks, we will be adding more functionalities to the SELECT statement. A very common task when working with data is filtering for records based on criteria, which can be done with a WHERE statement. \n",
        "\n",
        "We will be learning more functions and using them in the WHERE clause, but we can also use them in SELECT statements, as discussed in the previous chapter. For the most part, expressions and functions can be used in any part of a SQL statement.\n",
        "\n",
        "## Filtering Records\n"
      ]
    },
    {
      "cell_type": "code",
      "metadata": {
        "id": "k9Jf2L_nyf3f",
        "colab_type": "code",
        "colab": {}
      },
      "source": [
        "%%sql\n",
        "SELECT * FROM station_data;"
      ],
      "execution_count": 0,
      "outputs": []
    },
    {
      "cell_type": "code",
      "metadata": {
        "id": "K6AJwD-9yf39",
        "colab_type": "code",
        "colab": {}
      },
      "source": [
        "%%sql\n",
        "SELECT * FROM station_data\n",
        "WHERE year = 2010;"
      ],
      "execution_count": 0,
      "outputs": []
    },
    {
      "cell_type": "markdown",
      "metadata": {
        "id": "kmwTz_9Oyf3_",
        "colab_type": "text"
      },
      "source": [
        "Conversely, you can use != or <> to get everything but 2010."
      ]
    },
    {
      "cell_type": "code",
      "metadata": {
        "id": "sfUUz6QByf4A",
        "colab_type": "code",
        "colab": {}
      },
      "source": [
        "%%sql\n",
        "SELECT * FROM station_data\n",
        "WHERE year != 2010;"
      ],
      "execution_count": 0,
      "outputs": []
    },
    {
      "cell_type": "markdown",
      "metadata": {
        "id": "Qad0BUiJyf4Y",
        "colab_type": "text"
      },
      "source": [
        "We can also qualify inclusive ranges using a BETWEEN statement:"
      ]
    },
    {
      "cell_type": "code",
      "metadata": {
        "id": "ld-xvkjOzPZK",
        "colab_type": "code",
        "colab": {}
      },
      "source": [
        "%%sql\n",
        "SELECT * FROM station_data\n",
        "WHERE year BETWEEN 2005 AND 2010;"
      ],
      "execution_count": 0,
      "outputs": []
    },
    {
      "cell_type": "markdown",
      "metadata": {
        "id": "RbuFmDXyzZH7",
        "colab_type": "text"
      },
      "source": [
        "## AND, OR, and IN Statements\n",
        "\n",
        "A BETWEEN can alternatively be expressed using greater than or equal to and less than or equal to expressions and an AND statement.\n"
      ]
    },
    {
      "cell_type": "code",
      "metadata": {
        "id": "pJwHca_7zWaK",
        "colab_type": "code",
        "colab": {}
      },
      "source": [
        "%%sql\n",
        "SELECT * FROM station_data \n",
        "WHERE year >= 2005 AND year <= 2010;"
      ],
      "execution_count": 0,
      "outputs": []
    },
    {
      "cell_type": "markdown",
      "metadata": {
        "id": "0V2ITsXMz4Cd",
        "colab_type": "text"
      },
      "source": [
        "If we wanted everything between 2005 and 2010 exclusively — i.e., not including those two years — we would just get rid of the = characters. Only 2006, 2007, 2008, and 2009 would then qualify:"
      ]
    },
    {
      "cell_type": "code",
      "metadata": {
        "id": "m6eiTX1dzyM6",
        "colab_type": "code",
        "colab": {}
      },
      "source": [
        "%%sql\n",
        "SELECT * FROM station_data\n",
        "WHERE year > 2005 AND year < 2010;"
      ],
      "execution_count": 0,
      "outputs": []
    },
    {
      "cell_type": "markdown",
      "metadata": {
        "id": "-ALJLoeaz_O0",
        "colab_type": "text"
      },
      "source": [
        "We also have the option of using OR. In an OR statement, at least one of the criteria must be true for the record to qualify. If we wanted only records with months 3, 6, 9, or 12, we could use an OR to accomplish that:"
      ]
    },
    {
      "cell_type": "code",
      "metadata": {
        "id": "tyIvhj_D0E9x",
        "colab_type": "code",
        "colab": {}
      },
      "source": [
        "%%sql\n",
        "\n",
        "SELECT * FROM station_data \n",
        "WHERE MONTH = 3 \n",
        "OR MONTH = 6 \n",
        "OR MONTH = 9 \n",
        "OR MONTH = 12;\n"
      ],
      "execution_count": 0,
      "outputs": []
    },
    {
      "cell_type": "markdown",
      "metadata": {
        "id": "Kj6xOIUT0Mj8",
        "colab_type": "text"
      },
      "source": [
        "A more effient way is to use the IN statement."
      ]
    },
    {
      "cell_type": "code",
      "metadata": {
        "id": "s2qEG7yQ0QLG",
        "colab_type": "code",
        "colab": {}
      },
      "source": [
        "%%sql\n",
        "SELECT * FROM station_data\n",
        "WHERE MONTH IN (3,6,9,12);"
      ],
      "execution_count": 0,
      "outputs": []
    },
    {
      "cell_type": "markdown",
      "metadata": {
        "id": "nSIfQh2L0XKf",
        "colab_type": "text"
      },
      "source": [
        "If we want everything except 3,6,9,12, we use the NOT IN:"
      ]
    },
    {
      "cell_type": "code",
      "metadata": {
        "id": "O30UHgVT0dSE",
        "colab_type": "code",
        "colab": {}
      },
      "source": [
        "%%sql\n",
        "SELECT * FROM station_data\n",
        "WHERE MONTH NOT IN (3,6,9,12);"
      ],
      "execution_count": 0,
      "outputs": []
    },
    {
      "cell_type": "markdown",
      "metadata": {
        "id": "shhao5cr0kRW",
        "colab_type": "text"
      },
      "source": [
        ""
      ]
    },
    {
      "cell_type": "markdown",
      "metadata": {
        "id": "zmCIvQ8I0oSb",
        "colab_type": "text"
      },
      "source": [
        "We could also leverage some logic:"
      ]
    },
    {
      "cell_type": "code",
      "metadata": {
        "id": "Dwh_JHMX0qpI",
        "colab_type": "code",
        "colab": {}
      },
      "source": [
        "%%sql\n",
        "SELECT * FROM station_data\n",
        "WHERE MONTH % 3 = 0;"
      ],
      "execution_count": 0,
      "outputs": []
    },
    {
      "cell_type": "markdown",
      "metadata": {
        "id": "fY9082wS0xa8",
        "colab_type": "text"
      },
      "source": [
        "## Using Where on Text\n",
        "\n",
        "The rules for qualifying text fields follow the same structure, although there are subtle differences. You can use =, AND, OR, and IN statements with text. However, when using text, you must wrap literals (or text values you specify) in single quotes. For example, if you wanted to filter for a specific report_code, you could run this query:"
      ]
    },
    {
      "cell_type": "code",
      "metadata": {
        "id": "2XfYC5tZ1IkI",
        "colab_type": "code",
        "outputId": "4c33c9ea-5b59-4b84-e95e-780dcda2bb45",
        "colab": {
          "base_uri": "https://localhost:8080/",
          "height": 117
        }
      },
      "source": [
        "%%sql\n",
        "SELECT * FROM station_data\n",
        "WHERE report_code = '513A63';"
      ],
      "execution_count": 0,
      "outputs": [
        {
          "output_type": "stream",
          "text": [
            " * sqlite:///oreilly_getting_started_with_sql/weather_stations.db\n",
            "Done.\n"
          ],
          "name": "stdout"
        },
        {
          "output_type": "execute_result",
          "data": {
            "text/html": [
              "<table>\n",
              "    <tr>\n",
              "        <th>station_number</th>\n",
              "        <th>report_code</th>\n",
              "        <th>year</th>\n",
              "        <th>month</th>\n",
              "        <th>day</th>\n",
              "        <th>dew_point</th>\n",
              "        <th>station_pressure</th>\n",
              "        <th>visibility</th>\n",
              "        <th>wind_speed</th>\n",
              "        <th>temperature</th>\n",
              "        <th>precipitation</th>\n",
              "        <th>snow_depth</th>\n",
              "        <th>fog</th>\n",
              "        <th>rain</th>\n",
              "        <th>hail</th>\n",
              "        <th>thunder</th>\n",
              "        <th>tornado</th>\n",
              "    </tr>\n",
              "    <tr>\n",
              "        <td>702223</td>\n",
              "        <td>513A63</td>\n",
              "        <td>2010</td>\n",
              "        <td>1</td>\n",
              "        <td>22</td>\n",
              "        <td>-23.1</td>\n",
              "        <td>None</td>\n",
              "        <td>10</td>\n",
              "        <td>0.8</td>\n",
              "        <td>-15.6</td>\n",
              "        <td>0</td>\n",
              "        <td>None</td>\n",
              "        <td>0</td>\n",
              "        <td>0</td>\n",
              "        <td>0</td>\n",
              "        <td>0</td>\n",
              "        <td>0</td>\n",
              "    </tr>\n",
              "</table>"
            ],
            "text/plain": [
              "[(702223, '513A63', 2010, 1, 22, -23.1, None, 10, 0.8, -15.6, 0, None, 0, 0, 0, 0, 0)]"
            ]
          },
          "metadata": {
            "tags": []
          },
          "execution_count": 12
        }
      ]
    },
    {
      "cell_type": "markdown",
      "metadata": {
        "id": "1VNBWPrx1X7q",
        "colab_type": "text"
      },
      "source": [
        "This single-quote rule applies to all text operations, including this IN operation: "
      ]
    },
    {
      "cell_type": "code",
      "metadata": {
        "id": "SRQ-rFFX1PC_",
        "colab_type": "code",
        "outputId": "256beec1-03f8-4a15-9088-1e78403e4080",
        "colab": {
          "base_uri": "https://localhost:8080/",
          "height": 158
        }
      },
      "source": [
        "%%sql\n",
        "SELECT * FROM station_data \n",
        "WHERE report_code IN ('513A63','1F8A7B','EF616A');"
      ],
      "execution_count": 0,
      "outputs": [
        {
          "output_type": "stream",
          "text": [
            " * sqlite:///oreilly_getting_started_with_sql/weather_stations.db\n",
            "Done.\n"
          ],
          "name": "stdout"
        },
        {
          "output_type": "execute_result",
          "data": {
            "text/html": [
              "<table>\n",
              "    <tr>\n",
              "        <th>station_number</th>\n",
              "        <th>report_code</th>\n",
              "        <th>year</th>\n",
              "        <th>month</th>\n",
              "        <th>day</th>\n",
              "        <th>dew_point</th>\n",
              "        <th>station_pressure</th>\n",
              "        <th>visibility</th>\n",
              "        <th>wind_speed</th>\n",
              "        <th>temperature</th>\n",
              "        <th>precipitation</th>\n",
              "        <th>snow_depth</th>\n",
              "        <th>fog</th>\n",
              "        <th>rain</th>\n",
              "        <th>hail</th>\n",
              "        <th>thunder</th>\n",
              "        <th>tornado</th>\n",
              "    </tr>\n",
              "    <tr>\n",
              "        <td>470160</td>\n",
              "        <td>EF616A</td>\n",
              "        <td>1967</td>\n",
              "        <td>7</td>\n",
              "        <td>29</td>\n",
              "        <td>65.6</td>\n",
              "        <td>None</td>\n",
              "        <td>9.2</td>\n",
              "        <td>1.2</td>\n",
              "        <td>72.4</td>\n",
              "        <td>0.04</td>\n",
              "        <td>None</td>\n",
              "        <td>0</td>\n",
              "        <td>0</td>\n",
              "        <td>0</td>\n",
              "        <td>0</td>\n",
              "        <td>0</td>\n",
              "    </tr>\n",
              "    <tr>\n",
              "        <td>821930</td>\n",
              "        <td>1F8A7B</td>\n",
              "        <td>1953</td>\n",
              "        <td>6</td>\n",
              "        <td>18</td>\n",
              "        <td>72.8</td>\n",
              "        <td>1007.1</td>\n",
              "        <td>12.4</td>\n",
              "        <td>3.6</td>\n",
              "        <td>81.3</td>\n",
              "        <td>0</td>\n",
              "        <td>None</td>\n",
              "        <td>0</td>\n",
              "        <td>0</td>\n",
              "        <td>0</td>\n",
              "        <td>0</td>\n",
              "        <td>0</td>\n",
              "    </tr>\n",
              "    <tr>\n",
              "        <td>702223</td>\n",
              "        <td>513A63</td>\n",
              "        <td>2010</td>\n",
              "        <td>1</td>\n",
              "        <td>22</td>\n",
              "        <td>-23.1</td>\n",
              "        <td>None</td>\n",
              "        <td>10</td>\n",
              "        <td>0.8</td>\n",
              "        <td>-15.6</td>\n",
              "        <td>0</td>\n",
              "        <td>None</td>\n",
              "        <td>0</td>\n",
              "        <td>0</td>\n",
              "        <td>0</td>\n",
              "        <td>0</td>\n",
              "        <td>0</td>\n",
              "    </tr>\n",
              "</table>"
            ],
            "text/plain": [
              "[(470160, 'EF616A', 1967, 7, 29, 65.6, None, 9.2, 1.2, 72.4, 0.04, None, 0, 0, 0, 0, 0),\n",
              " (821930, '1F8A7B', 1953, 6, 18, 72.8, 1007.1, 12.4, 3.6, 81.3, 0, None, 0, 0, 0, 0, 0),\n",
              " (702223, '513A63', 2010, 1, 22, -23.1, None, 10, 0.8, -15.6, 0, None, 0, 0, 0, 0, 0)]"
            ]
          },
          "metadata": {
            "tags": []
          },
          "execution_count": 13
        }
      ]
    },
    {
      "cell_type": "markdown",
      "metadata": {
        "id": "It7cWEZi1g19",
        "colab_type": "text"
      },
      "source": [
        "The length function will count the number of characters for a given value:"
      ]
    },
    {
      "cell_type": "code",
      "metadata": {
        "id": "2TQFv8Gc1kp2",
        "colab_type": "code",
        "outputId": "86f81c20-83a5-47c1-ccc3-86c856e8c932",
        "colab": {
          "base_uri": "https://localhost:8080/",
          "height": 96
        }
      },
      "source": [
        "%%sql\n",
        "SELECT * FROM station_data\n",
        "WHERE length(report_code) != 6;"
      ],
      "execution_count": 0,
      "outputs": [
        {
          "output_type": "stream",
          "text": [
            " * sqlite:///oreilly_getting_started_with_sql/weather_stations.db\n",
            "Done.\n"
          ],
          "name": "stdout"
        },
        {
          "output_type": "execute_result",
          "data": {
            "text/html": [
              "<table>\n",
              "    <tr>\n",
              "        <th>station_number</th>\n",
              "        <th>report_code</th>\n",
              "        <th>year</th>\n",
              "        <th>month</th>\n",
              "        <th>day</th>\n",
              "        <th>dew_point</th>\n",
              "        <th>station_pressure</th>\n",
              "        <th>visibility</th>\n",
              "        <th>wind_speed</th>\n",
              "        <th>temperature</th>\n",
              "        <th>precipitation</th>\n",
              "        <th>snow_depth</th>\n",
              "        <th>fog</th>\n",
              "        <th>rain</th>\n",
              "        <th>hail</th>\n",
              "        <th>thunder</th>\n",
              "        <th>tornado</th>\n",
              "    </tr>\n",
              "</table>"
            ],
            "text/plain": [
              "[]"
            ]
          },
          "metadata": {
            "tags": []
          },
          "execution_count": 14
        }
      ]
    },
    {
      "cell_type": "markdown",
      "metadata": {
        "id": "4AUITQ2J15Yx",
        "colab_type": "text"
      },
      "source": [
        "Another common operation is to use wildcards with a LIKE expression, where % is any number of characters and _ is any single character. Any other character is interpreted literally. So, if you wanted to find all report codes that start with the letter “A,” you would run this statement to find “A” followed by any characters:"
      ]
    },
    {
      "cell_type": "code",
      "metadata": {
        "id": "f-YD3wmH1-Ab",
        "colab_type": "code",
        "colab": {}
      },
      "source": [
        "%%sql\n",
        "\n",
        "SELECT * FROM station_data\n",
        "WHERE report_code LIKE 'A%';"
      ],
      "execution_count": 0,
      "outputs": []
    },
    {
      "cell_type": "markdown",
      "metadata": {
        "id": "krHJxb0Q2E6M",
        "colab_type": "text"
      },
      "source": [
        "If you wanted to find all report codes that have a “B” as the first character and a “C” as the third character, you would specify an underscore (_) for the second position, and follow with any number of characters after the “C”:"
      ]
    },
    {
      "cell_type": "code",
      "metadata": {
        "id": "qnKd6NLh2IPM",
        "colab_type": "code",
        "colab": {}
      },
      "source": [
        "%%sql\n",
        "SELECT * FROM station_data\n",
        "WHERE report_code LIKE 'B_C%'"
      ],
      "execution_count": 0,
      "outputs": []
    },
    {
      "cell_type": "markdown",
      "metadata": {
        "id": "XlvR9HkR_reC",
        "colab_type": "text"
      },
      "source": [
        "## WHERE on Booleans"
      ]
    },
    {
      "cell_type": "code",
      "metadata": {
        "id": "i5YSrvj6_xmE",
        "colab_type": "code",
        "colab": {}
      },
      "source": [
        "%%sql\n",
        "\n",
        "SELECT * FROM station_data\n",
        "WHERE tornado = 1 AND hail = 1;"
      ],
      "execution_count": 0,
      "outputs": []
    },
    {
      "cell_type": "markdown",
      "metadata": {
        "id": "MRiJFiWy_4Wm",
        "colab_type": "text"
      },
      "source": [
        "SQLite only supports using 1 for true and 0 for false."
      ]
    },
    {
      "cell_type": "code",
      "metadata": {
        "id": "qt3jrPw-AFUa",
        "colab_type": "code",
        "colab": {}
      },
      "source": [
        "%%sql\n",
        "SELECT * FRPM station_data\n",
        "WHERE tornado =0 AND hail = 1;"
      ],
      "execution_count": 0,
      "outputs": []
    },
    {
      "cell_type": "markdown",
      "metadata": {
        "id": "Ri6vA_-_ANQZ",
        "colab_type": "text"
      },
      "source": [
        "## Handling NULL\n",
        "\n",
        "Some columns such as `station_pressure` and `snow_depth`, have *null* values. A null is a value that has no value. It is the complete absence of any content."
      ]
    },
    {
      "cell_type": "code",
      "metadata": {
        "id": "O9eSFVe-Abc6",
        "colab_type": "code",
        "colab": {}
      },
      "source": [
        "%%sql\n",
        "\n",
        "SELECT * FROM station_data\n",
        "WHERE snow_depth IS NULL;"
      ],
      "execution_count": 0,
      "outputs": []
    },
    {
      "cell_type": "markdown",
      "metadata": {
        "id": "aNE7x-7VAkBJ",
        "colab_type": "text"
      },
      "source": [
        "Nulls can be hard to handle when composing WHERE statements. I fyou wanted to query all records where `precipitation is less than 0.5, you could write:"
      ]
    },
    {
      "cell_type": "code",
      "metadata": {
        "id": "j8cWCUE2AtG9",
        "colab_type": "code",
        "colab": {}
      },
      "source": [
        "%%sql\n",
        "\n",
        "SELECT * FROM station_data\n",
        "WHERE precipitation <= 0.5;"
      ],
      "execution_count": 0,
      "outputs": []
    },
    {
      "cell_type": "markdown",
      "metadata": {
        "id": "siyXhe9HAyf6",
        "colab_type": "text"
      },
      "source": [
        "But you must consider the null values. If you wanted the nulls to be included you need to use an OR statment."
      ]
    },
    {
      "cell_type": "code",
      "metadata": {
        "id": "gppOHZx1A-_z",
        "colab_type": "code",
        "colab": {}
      },
      "source": [
        "%%sql\n",
        "\n",
        "SELECT * FROM station_data\n",
        "WHERE precipitation IS NULL OR precipitation <= 0.5;"
      ],
      "execution_count": 0,
      "outputs": []
    },
    {
      "cell_type": "markdown",
      "metadata": {
        "id": "htIs3PaeBG7E",
        "colab_type": "text"
      },
      "source": [
        "A more elegant way is to use `coalesce()`. If you wanted nulls to be treated as 0 within our condition, we could `coalesce()` the precipitation field to convert null to 0:"
      ]
    },
    {
      "cell_type": "code",
      "metadata": {
        "id": "xvBquk9uBTt1",
        "colab_type": "code",
        "colab": {}
      },
      "source": [
        "%%sql\n",
        "\n",
        "SELECT * FROM station_data\n",
        "WHERE coalesce(precipitation, 0) <= 0.5;"
      ],
      "execution_count": 0,
      "outputs": []
    },
    {
      "cell_type": "markdown",
      "metadata": {
        "id": "hpo_rX-3Bcgm",
        "colab_type": "text"
      },
      "source": [
        "## Grouping Conditions\n",
        "\n",
        "When chaining AND and OR together, it is good to group them. \n",
        "\n",
        "Make sure that you organize each set of conditions between each OR in a way that groups related conditions. "
      ]
    },
    {
      "cell_type": "code",
      "metadata": {
        "id": "anE7RVoJBeWV",
        "colab_type": "code",
        "colab": {}
      },
      "source": [
        "%%sql\n",
        "\n",
        "SELECT * FROM station_data\n",
        "WHERE rain = 1 AND temperature <=32\n",
        "OR snow_depth>0;"
      ],
      "execution_count": 0,
      "outputs": []
    },
    {
      "cell_type": "markdown",
      "metadata": {
        "id": "QPCx0VSWitBP",
        "colab_type": "text"
      },
      "source": [
        "While this technically works, there is a degree of ambiguity."
      ]
    },
    {
      "cell_type": "code",
      "metadata": {
        "id": "jjUL7L2Wixbu",
        "colab_type": "code",
        "colab": {}
      },
      "source": [
        "%%sql\n",
        "\n",
        "SELECT * FROM station_data\n",
        "WHERE (rain=1 AND temperature <=32)\n",
        "OR snow_depth >0;"
      ],
      "execution_count": 0,
      "outputs": []
    },
    {
      "cell_type": "markdown",
      "metadata": {
        "id": "PPuObpMci5aj",
        "colab_type": "text"
      },
      "source": [
        "Here we group the expression within paretheses so it is calculated as a single unit, and temperature is not mixed up with the OR operator and accidentally mangled with the snow_depth."
      ]
    },
    {
      "cell_type": "code",
      "metadata": {
        "id": "vIHe-yHyjFz5",
        "colab_type": "code",
        "colab": {}
      },
      "source": [
        ""
      ],
      "execution_count": 0,
      "outputs": []
    }
  ]
}