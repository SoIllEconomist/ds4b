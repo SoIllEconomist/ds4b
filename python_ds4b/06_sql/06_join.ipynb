{
  "nbformat": 4,
  "nbformat_minor": 0,
  "metadata": {
    "colab": {
      "name": "06_join.ipynb",
      "provenance": [],
      "collapsed_sections": []
    },
    "kernelspec": {
      "name": "python3",
      "display_name": "Python 3"
    }
  },
  "cells": [
    {
      "cell_type": "markdown",
      "metadata": {
        "id": "6Z0J9gNLtYj7",
        "colab_type": "text"
      },
      "source": [
        "### PREAMBLE"
      ]
    },
    {
      "cell_type": "code",
      "metadata": {
        "id": "hQh-C9_utYSe",
        "colab_type": "code",
        "colab": {
          "base_uri": "https://localhost:8080/",
          "height": 108
        },
        "outputId": "0688e780-589d-47c3-f2b4-4b2021b45c65"
      },
      "source": [
        "#!pip install ipython-sql\n",
        "!git clone https://github.com/thomasnield/oreilly_getting_started_with_sql.git\n",
        "%load_ext sql\n",
        "%sql sqlite:///oreilly_getting_started_with_sql/rexon_metals.db"
      ],
      "execution_count": 5,
      "outputs": [
        {
          "output_type": "stream",
          "text": [
            "fatal: destination path 'oreilly_getting_started_with_sql' already exists and is not an empty directory.\n",
            "The sql extension is already loaded. To reload it, use:\n",
            "  %reload_ext sql\n"
          ],
          "name": "stdout"
        },
        {
          "output_type": "execute_result",
          "data": {
            "text/plain": [
              "'Connected: @oreilly_getting_started_with_sql/rexon_metals.db'"
            ]
          },
          "metadata": {
            "tags": []
          },
          "execution_count": 5
        }
      ]
    },
    {
      "cell_type": "markdown",
      "metadata": {
        "id": "3xd8VNYzo3n0",
        "colab_type": "text"
      },
      "source": [
        "# JOIN\n",
        "## Stitching Tables Together\n",
        "\n",
        "Joining is the defining functionality of SQL an dsets it apart from other data technologies. \n",
        "\n",
        "Remember:\n",
        "\n",
        "Normalized databases have tables with fields that point to other tables. Sonciser the CUSTOMER_ORDER table, which has a CUSTOMER_ID field.\n",
        " \n",
        "\n"
      ]
    },
    {
      "cell_type": "code",
      "metadata": {
        "id": "yCBMjSSTozIU",
        "colab_type": "code",
        "colab": {
          "base_uri": "https://localhost:8080/",
          "height": 227
        },
        "outputId": "dea5b950-579f-4c82-9a56-bbcf67baa1e8"
      },
      "source": [
        "%%sql\n",
        "SELECT * FROM customer\n",
        "LIMIT 10;"
      ],
      "execution_count": 7,
      "outputs": [
        {
          "output_type": "stream",
          "text": [
            "   sqlite:///oreilly_getting_started_with_sql/rexon.db\n",
            " * sqlite:///oreilly_getting_started_with_sql/rexon_metals.db\n",
            "   sqlite:///oreilly_getting_started_with_sql/weather_stations.db\n",
            "Done.\n"
          ],
          "name": "stdout"
        },
        {
          "output_type": "execute_result",
          "data": {
            "text/html": [
              "<table>\n",
              "    <tr>\n",
              "        <th>CUSTOMER_ID</th>\n",
              "        <th>NAME</th>\n",
              "        <th>REGION</th>\n",
              "        <th>STREET_ADDRESS</th>\n",
              "        <th>CITY</th>\n",
              "        <th>STATE</th>\n",
              "        <th>ZIP</th>\n",
              "    </tr>\n",
              "    <tr>\n",
              "        <td>1</td>\n",
              "        <td>LITE Industrial</td>\n",
              "        <td>Southwest</td>\n",
              "        <td>729 Ravine Way</td>\n",
              "        <td>Irving</td>\n",
              "        <td>TX</td>\n",
              "        <td>75014</td>\n",
              "    </tr>\n",
              "    <tr>\n",
              "        <td>2</td>\n",
              "        <td>Rex Tooling Inc</td>\n",
              "        <td>Southwest</td>\n",
              "        <td>6129 Collie Blvd</td>\n",
              "        <td>Dallas</td>\n",
              "        <td>TX</td>\n",
              "        <td>75201</td>\n",
              "    </tr>\n",
              "    <tr>\n",
              "        <td>3</td>\n",
              "        <td>Re-Barre Construction</td>\n",
              "        <td>Southwest</td>\n",
              "        <td>9043 Windy Dr</td>\n",
              "        <td>Irving</td>\n",
              "        <td>TX</td>\n",
              "        <td>75032</td>\n",
              "    </tr>\n",
              "    <tr>\n",
              "        <td>4</td>\n",
              "        <td>Prairie Construction</td>\n",
              "        <td>Southwest</td>\n",
              "        <td>264 Long Rd</td>\n",
              "        <td>Moore</td>\n",
              "        <td>OK</td>\n",
              "        <td>62104</td>\n",
              "    </tr>\n",
              "    <tr>\n",
              "        <td>5</td>\n",
              "        <td>Marsh Lane Metal Works</td>\n",
              "        <td>Southeast</td>\n",
              "        <td>9143 Marsh Ln</td>\n",
              "        <td>Avondale</td>\n",
              "        <td>LA</td>\n",
              "        <td>79782</td>\n",
              "    </tr>\n",
              "</table>"
            ],
            "text/plain": [
              "[(1, 'LITE Industrial', 'Southwest', '729 Ravine Way', 'Irving', 'TX', 75014),\n",
              " (2, 'Rex Tooling Inc', 'Southwest', '6129 Collie Blvd', 'Dallas', 'TX', 75201),\n",
              " (3, 'Re-Barre Construction', 'Southwest', '9043 Windy Dr', 'Irving', 'TX', 75032),\n",
              " (4, 'Prairie Construction', 'Southwest', '264 Long Rd', 'Moore', 'OK', 62104),\n",
              " (5, 'Marsh Lane Metal Works', 'Southeast', '9143 Marsh Ln', 'Avondale', 'LA', 79782)]"
            ]
          },
          "metadata": {
            "tags": []
          },
          "execution_count": 7
        }
      ]
    },
    {
      "cell_type": "markdown",
      "metadata": {
        "id": "8Vnw3IZ2tRzN",
        "colab_type": "text"
      },
      "source": [
        "This CUSTOMER_ID field gives us a *key* to loop up in the table CUSTOMER. Knowing this, it should be no surprise that the CUSTOMER table also has a CUSTOMER_ID field. \n",
        "\n",
        "We can retrieve customerif information from an order from this table."
      ]
    },
    {
      "cell_type": "code",
      "metadata": {
        "id": "TraSlNKQtyXJ",
        "colab_type": "code",
        "colab": {
          "base_uri": "https://localhost:8080/",
          "height": 210
        },
        "outputId": "a63b169e-b7ea-4153-aa79-7bf49e69826b"
      },
      "source": [
        "%%sql\n",
        "SELECT * FROM customer_order\n",
        "LIMIT 10;"
      ],
      "execution_count": 8,
      "outputs": [
        {
          "output_type": "stream",
          "text": [
            "   sqlite:///oreilly_getting_started_with_sql/rexon.db\n",
            " * sqlite:///oreilly_getting_started_with_sql/rexon_metals.db\n",
            "   sqlite:///oreilly_getting_started_with_sql/weather_stations.db\n",
            "Done.\n"
          ],
          "name": "stdout"
        },
        {
          "output_type": "execute_result",
          "data": {
            "text/html": [
              "<table>\n",
              "    <tr>\n",
              "        <th>ORDER_ID</th>\n",
              "        <th>ORDER_DATE</th>\n",
              "        <th>SHIP_DATE</th>\n",
              "        <th>CUSTOMER_ID</th>\n",
              "        <th>PRODUCT_ID</th>\n",
              "        <th>ORDER_QTY</th>\n",
              "        <th>SHIPPED</th>\n",
              "    </tr>\n",
              "    <tr>\n",
              "        <td>1</td>\n",
              "        <td>2015-05-15</td>\n",
              "        <td>2015-05-18</td>\n",
              "        <td>1</td>\n",
              "        <td>1</td>\n",
              "        <td>450</td>\n",
              "        <td>false</td>\n",
              "    </tr>\n",
              "    <tr>\n",
              "        <td>2</td>\n",
              "        <td>2015-05-18</td>\n",
              "        <td>2015-05-21</td>\n",
              "        <td>3</td>\n",
              "        <td>2</td>\n",
              "        <td>600</td>\n",
              "        <td>false</td>\n",
              "    </tr>\n",
              "    <tr>\n",
              "        <td>3</td>\n",
              "        <td>2015-05-20</td>\n",
              "        <td>2015-05-23</td>\n",
              "        <td>3</td>\n",
              "        <td>5</td>\n",
              "        <td>300</td>\n",
              "        <td>false</td>\n",
              "    </tr>\n",
              "    <tr>\n",
              "        <td>4</td>\n",
              "        <td>2015-05-18</td>\n",
              "        <td>2015-05-22</td>\n",
              "        <td>5</td>\n",
              "        <td>4</td>\n",
              "        <td>375</td>\n",
              "        <td>false</td>\n",
              "    </tr>\n",
              "    <tr>\n",
              "        <td>5</td>\n",
              "        <td>2015-05-17</td>\n",
              "        <td>2015-05-20</td>\n",
              "        <td>3</td>\n",
              "        <td>2</td>\n",
              "        <td>500</td>\n",
              "        <td>false</td>\n",
              "    </tr>\n",
              "</table>"
            ],
            "text/plain": [
              "[(1, '2015-05-15', '2015-05-18', 1, 1, 450, 'false'),\n",
              " (2, '2015-05-18', '2015-05-21', 3, 2, 600, 'false'),\n",
              " (3, '2015-05-20', '2015-05-23', 3, 5, 300, 'false'),\n",
              " (4, '2015-05-18', '2015-05-22', 5, 4, 375, 'false'),\n",
              " (5, '2015-05-17', '2015-05-20', 3, 2, 500, 'false')]"
            ]
          },
          "metadata": {
            "tags": []
          },
          "execution_count": 8
        }
      ]
    },
    {
      "cell_type": "markdown",
      "metadata": {
        "id": "_uMU0xT2t_b3",
        "colab_type": "text"
      },
      "source": [
        "The other aspect to consider in a relationship is how many records in the child can be tited to a single record of the parent. Toake the CUSTOMER and CUSTOMER_ORDER tables and we see a *one-to-many relationship*, where a single customer record can line up with multiple orders. \n",
        "\n",
        "One-to-many is the most common type of relationship since it acconodates most business needs. \n",
        "\n",
        "## INNER JOIN\n",
        "\n",
        "Understanding table relationships, we can consider that it might be nice to stich two tables together, so we can see CUSTOMER and CUSTOMER_ORDER information side by side. We can avoid using many lookups by using the JOIN operations.\n",
        "\n",
        "The INNER JOIN allows us to merge two tables together. But if we are going to merge tables, we need to define a commonality between the two so records between the two line up. \n"
      ]
    },
    {
      "cell_type": "code",
      "metadata": {
        "id": "_6WUzQPOt5BC",
        "colab_type": "code",
        "colab": {
          "base_uri": "https://localhost:8080/",
          "height": 316
        },
        "outputId": "acffc948-4ac1-43d5-cd93-b6bbf445f463"
      },
      "source": [
        "%%sql\n",
        "\n",
        "SELECT ORDER_ID, \n",
        "CUSTOMER.CUSTOMER_ID, \n",
        "ORDER_DATE, \n",
        "SHIP_DATE, \n",
        "NAME, \n",
        "STREET_ADDRESS, \n",
        "CITY, \n",
        "STATE, \n",
        "ZIP, PRODUCT_ID, ORDER_QTY\n",
        "\n",
        "FROM CUSTOMER INNER JOIN CUSTOMER_ORDER\n",
        "ON CUSTOMER.CUSTOMER_ID = CUSTOMER_ORDER.CUSTOMER_ID;"
      ],
      "execution_count": 20,
      "outputs": [
        {
          "output_type": "stream",
          "text": [
            "   sqlite:///oreilly_getting_started_with_sql/rexon.db\n",
            " * sqlite:///oreilly_getting_started_with_sql/rexon_metals.db\n",
            "   sqlite:///oreilly_getting_started_with_sql/weather_stations.db\n",
            "Done.\n"
          ],
          "name": "stdout"
        },
        {
          "output_type": "execute_result",
          "data": {
            "text/html": [
              "<table>\n",
              "    <tr>\n",
              "        <th>ORDER_ID</th>\n",
              "        <th>CUSTOMER_ID</th>\n",
              "        <th>ORDER_DATE</th>\n",
              "        <th>SHIP_DATE</th>\n",
              "        <th>NAME</th>\n",
              "        <th>STREET_ADDRESS</th>\n",
              "        <th>CITY</th>\n",
              "        <th>STATE</th>\n",
              "        <th>ZIP</th>\n",
              "        <th>PRODUCT_ID</th>\n",
              "        <th>ORDER_QTY</th>\n",
              "    </tr>\n",
              "    <tr>\n",
              "        <td>1</td>\n",
              "        <td>1</td>\n",
              "        <td>2015-05-15</td>\n",
              "        <td>2015-05-18</td>\n",
              "        <td>LITE Industrial</td>\n",
              "        <td>729 Ravine Way</td>\n",
              "        <td>Irving</td>\n",
              "        <td>TX</td>\n",
              "        <td>75014</td>\n",
              "        <td>1</td>\n",
              "        <td>450</td>\n",
              "    </tr>\n",
              "    <tr>\n",
              "        <td>2</td>\n",
              "        <td>3</td>\n",
              "        <td>2015-05-18</td>\n",
              "        <td>2015-05-21</td>\n",
              "        <td>Re-Barre Construction</td>\n",
              "        <td>9043 Windy Dr</td>\n",
              "        <td>Irving</td>\n",
              "        <td>TX</td>\n",
              "        <td>75032</td>\n",
              "        <td>2</td>\n",
              "        <td>600</td>\n",
              "    </tr>\n",
              "    <tr>\n",
              "        <td>3</td>\n",
              "        <td>3</td>\n",
              "        <td>2015-05-20</td>\n",
              "        <td>2015-05-23</td>\n",
              "        <td>Re-Barre Construction</td>\n",
              "        <td>9043 Windy Dr</td>\n",
              "        <td>Irving</td>\n",
              "        <td>TX</td>\n",
              "        <td>75032</td>\n",
              "        <td>5</td>\n",
              "        <td>300</td>\n",
              "    </tr>\n",
              "    <tr>\n",
              "        <td>4</td>\n",
              "        <td>5</td>\n",
              "        <td>2015-05-18</td>\n",
              "        <td>2015-05-22</td>\n",
              "        <td>Marsh Lane Metal Works</td>\n",
              "        <td>9143 Marsh Ln</td>\n",
              "        <td>Avondale</td>\n",
              "        <td>LA</td>\n",
              "        <td>79782</td>\n",
              "        <td>4</td>\n",
              "        <td>375</td>\n",
              "    </tr>\n",
              "    <tr>\n",
              "        <td>5</td>\n",
              "        <td>3</td>\n",
              "        <td>2015-05-17</td>\n",
              "        <td>2015-05-20</td>\n",
              "        <td>Re-Barre Construction</td>\n",
              "        <td>9043 Windy Dr</td>\n",
              "        <td>Irving</td>\n",
              "        <td>TX</td>\n",
              "        <td>75032</td>\n",
              "        <td>2</td>\n",
              "        <td>500</td>\n",
              "    </tr>\n",
              "</table>"
            ],
            "text/plain": [
              "[(1, 1, '2015-05-15', '2015-05-18', 'LITE Industrial', '729 Ravine Way', 'Irving', 'TX', 75014, 1, 450),\n",
              " (2, 3, '2015-05-18', '2015-05-21', 'Re-Barre Construction', '9043 Windy Dr', 'Irving', 'TX', 75032, 2, 600),\n",
              " (3, 3, '2015-05-20', '2015-05-23', 'Re-Barre Construction', '9043 Windy Dr', 'Irving', 'TX', 75032, 5, 300),\n",
              " (4, 5, '2015-05-18', '2015-05-22', 'Marsh Lane Metal Works', '9143 Marsh Ln', 'Avondale', 'LA', 79782, 4, 375),\n",
              " (5, 3, '2015-05-17', '2015-05-20', 'Re-Barre Construction', '9043 Windy Dr', 'Irving', 'TX', 75032, 2, 500)]"
            ]
          },
          "metadata": {
            "tags": []
          },
          "execution_count": 20
        }
      ]
    },
    {
      "cell_type": "markdown",
      "metadata": {
        "id": "vYsvzYcQvnlA",
        "colab_type": "text"
      },
      "source": [
        "1. Select the fields we want from the CUSTOMER and CUSTOMER_ORDER tables.\n",
        "\n",
        "1. The important part that temorarily merges two tables into one.\n",
        "\n",
        "## LEFT JOIN\n",
        "\n",
        "Two customers were excluded from the INNER JOIN on CUSTOMER_ID since they didn't have any orders to join on. But suppose we wanted them included anyways. \n",
        "\n",
        "Modify the previous query to utilize the LEFT JOIN:"
      ]
    },
    {
      "cell_type": "code",
      "metadata": {
        "id": "Q_ZT6WoVvSri",
        "colab_type": "code",
        "colab": {
          "base_uri": "https://localhost:8080/",
          "height": 390
        },
        "outputId": "62681d1a-6fea-4f8a-ea8a-e80d15bfc13d"
      },
      "source": [
        "%%sql\n",
        "\n",
        "SELECT ORDER_ID, \n",
        "CUSTOMER.CUSTOMER_ID, \n",
        "ORDER_DATE, \n",
        "SHIP_DATE, \n",
        "NAME, \n",
        "STREET_ADDRESS, \n",
        "CITY, \n",
        "STATE, \n",
        "ZIP, PRODUCT_ID, ORDER_QTY\n",
        "\n",
        "FROM CUSTOMER LEFT JOIN CUSTOMER_ORDER\n",
        "ON CUSTOMER.CUSTOMER_ID = CUSTOMER_ORDER.CUSTOMER_ID;"
      ],
      "execution_count": 21,
      "outputs": [
        {
          "output_type": "stream",
          "text": [
            "   sqlite:///oreilly_getting_started_with_sql/rexon.db\n",
            " * sqlite:///oreilly_getting_started_with_sql/rexon_metals.db\n",
            "   sqlite:///oreilly_getting_started_with_sql/weather_stations.db\n",
            "Done.\n"
          ],
          "name": "stdout"
        },
        {
          "output_type": "execute_result",
          "data": {
            "text/html": [
              "<table>\n",
              "    <tr>\n",
              "        <th>ORDER_ID</th>\n",
              "        <th>CUSTOMER_ID</th>\n",
              "        <th>ORDER_DATE</th>\n",
              "        <th>SHIP_DATE</th>\n",
              "        <th>NAME</th>\n",
              "        <th>STREET_ADDRESS</th>\n",
              "        <th>CITY</th>\n",
              "        <th>STATE</th>\n",
              "        <th>ZIP</th>\n",
              "        <th>PRODUCT_ID</th>\n",
              "        <th>ORDER_QTY</th>\n",
              "    </tr>\n",
              "    <tr>\n",
              "        <td>1</td>\n",
              "        <td>1</td>\n",
              "        <td>2015-05-15</td>\n",
              "        <td>2015-05-18</td>\n",
              "        <td>LITE Industrial</td>\n",
              "        <td>729 Ravine Way</td>\n",
              "        <td>Irving</td>\n",
              "        <td>TX</td>\n",
              "        <td>75014</td>\n",
              "        <td>1</td>\n",
              "        <td>450</td>\n",
              "    </tr>\n",
              "    <tr>\n",
              "        <td>None</td>\n",
              "        <td>2</td>\n",
              "        <td>None</td>\n",
              "        <td>None</td>\n",
              "        <td>Rex Tooling Inc</td>\n",
              "        <td>6129 Collie Blvd</td>\n",
              "        <td>Dallas</td>\n",
              "        <td>TX</td>\n",
              "        <td>75201</td>\n",
              "        <td>None</td>\n",
              "        <td>None</td>\n",
              "    </tr>\n",
              "    <tr>\n",
              "        <td>5</td>\n",
              "        <td>3</td>\n",
              "        <td>2015-05-17</td>\n",
              "        <td>2015-05-20</td>\n",
              "        <td>Re-Barre Construction</td>\n",
              "        <td>9043 Windy Dr</td>\n",
              "        <td>Irving</td>\n",
              "        <td>TX</td>\n",
              "        <td>75032</td>\n",
              "        <td>2</td>\n",
              "        <td>500</td>\n",
              "    </tr>\n",
              "    <tr>\n",
              "        <td>2</td>\n",
              "        <td>3</td>\n",
              "        <td>2015-05-18</td>\n",
              "        <td>2015-05-21</td>\n",
              "        <td>Re-Barre Construction</td>\n",
              "        <td>9043 Windy Dr</td>\n",
              "        <td>Irving</td>\n",
              "        <td>TX</td>\n",
              "        <td>75032</td>\n",
              "        <td>2</td>\n",
              "        <td>600</td>\n",
              "    </tr>\n",
              "    <tr>\n",
              "        <td>3</td>\n",
              "        <td>3</td>\n",
              "        <td>2015-05-20</td>\n",
              "        <td>2015-05-23</td>\n",
              "        <td>Re-Barre Construction</td>\n",
              "        <td>9043 Windy Dr</td>\n",
              "        <td>Irving</td>\n",
              "        <td>TX</td>\n",
              "        <td>75032</td>\n",
              "        <td>5</td>\n",
              "        <td>300</td>\n",
              "    </tr>\n",
              "    <tr>\n",
              "        <td>None</td>\n",
              "        <td>4</td>\n",
              "        <td>None</td>\n",
              "        <td>None</td>\n",
              "        <td>Prairie Construction</td>\n",
              "        <td>264 Long Rd</td>\n",
              "        <td>Moore</td>\n",
              "        <td>OK</td>\n",
              "        <td>62104</td>\n",
              "        <td>None</td>\n",
              "        <td>None</td>\n",
              "    </tr>\n",
              "    <tr>\n",
              "        <td>4</td>\n",
              "        <td>5</td>\n",
              "        <td>2015-05-18</td>\n",
              "        <td>2015-05-22</td>\n",
              "        <td>Marsh Lane Metal Works</td>\n",
              "        <td>9143 Marsh Ln</td>\n",
              "        <td>Avondale</td>\n",
              "        <td>LA</td>\n",
              "        <td>79782</td>\n",
              "        <td>4</td>\n",
              "        <td>375</td>\n",
              "    </tr>\n",
              "</table>"
            ],
            "text/plain": [
              "[(1, 1, '2015-05-15', '2015-05-18', 'LITE Industrial', '729 Ravine Way', 'Irving', 'TX', 75014, 1, 450),\n",
              " (None, 2, None, None, 'Rex Tooling Inc', '6129 Collie Blvd', 'Dallas', 'TX', 75201, None, None),\n",
              " (5, 3, '2015-05-17', '2015-05-20', 'Re-Barre Construction', '9043 Windy Dr', 'Irving', 'TX', 75032, 2, 500),\n",
              " (2, 3, '2015-05-18', '2015-05-21', 'Re-Barre Construction', '9043 Windy Dr', 'Irving', 'TX', 75032, 2, 600),\n",
              " (3, 3, '2015-05-20', '2015-05-23', 'Re-Barre Construction', '9043 Windy Dr', 'Irving', 'TX', 75032, 5, 300),\n",
              " (None, 4, None, None, 'Prairie Construction', '264 Long Rd', 'Moore', 'OK', 62104, None, None),\n",
              " (4, 5, '2015-05-18', '2015-05-22', 'Marsh Lane Metal Works', '9143 Marsh Ln', 'Avondale', 'LA', 79782, 4, 375)]"
            ]
          },
          "metadata": {
            "tags": []
          },
          "execution_count": 21
        }
      ]
    },
    {
      "cell_type": "markdown",
      "metadata": {
        "id": "4Ihn_RuBwmU5",
        "colab_type": "text"
      },
      "source": [
        "The table specifiedon the \"left\" side of the LEFT JOIN operator will have all its records included, even if they do not have any child records in the \"right\" table. Notice we have two additional records for the customers that have no orders.\n",
        "\n",
        "It is common to use LEFT JOIN to find \"orphaned\" child records. "
      ]
    },
    {
      "cell_type": "code",
      "metadata": {
        "id": "8u5yNGIOwhd2",
        "colab_type": "code",
        "colab": {
          "base_uri": "https://localhost:8080/",
          "height": 150
        },
        "outputId": "79cebc0c-12fb-4a19-d18e-de4a0374ef2b"
      },
      "source": [
        "%%sql\n",
        "\n",
        "SELECT \n",
        "CUSTOMER.CUSTOMER_ID,\n",
        "NAME as CUSTOMER_NAME\n",
        "FROM CUSTOMER LEFT JOIN CUSTOMER_ORDER\n",
        "ON CUSTOMER.CUSTOMER_ID = CUSTOMER_ORDER.CUSTOMER_ID\n",
        "WHERE ORDER_ID IS NULL;"
      ],
      "execution_count": 13,
      "outputs": [
        {
          "output_type": "stream",
          "text": [
            "   sqlite:///oreilly_getting_started_with_sql/rexon.db\n",
            " * sqlite:///oreilly_getting_started_with_sql/rexon_metals.db\n",
            "   sqlite:///oreilly_getting_started_with_sql/weather_stations.db\n",
            "Done.\n"
          ],
          "name": "stdout"
        },
        {
          "output_type": "execute_result",
          "data": {
            "text/html": [
              "<table>\n",
              "    <tr>\n",
              "        <th>CUSTOMER_ID</th>\n",
              "        <th>CUSTOMER_NAME</th>\n",
              "    </tr>\n",
              "    <tr>\n",
              "        <td>2</td>\n",
              "        <td>Rex Tooling Inc</td>\n",
              "    </tr>\n",
              "    <tr>\n",
              "        <td>4</td>\n",
              "        <td>Prairie Construction</td>\n",
              "    </tr>\n",
              "</table>"
            ],
            "text/plain": [
              "[(2, 'Rex Tooling Inc'), (4, 'Prairie Construction')]"
            ]
          },
          "metadata": {
            "tags": []
          },
          "execution_count": 13
        }
      ]
    },
    {
      "cell_type": "markdown",
      "metadata": {
        "id": "Dg9vmUGrxUT-",
        "colab_type": "text"
      },
      "source": [
        "## Joining Mutliple Tables\n",
        "\n",
        "Relationsal databses can be complex in terms of relationships between tables.\n",
        "\n",
        "For example, we can supply not only CUSTOMER information to the CUSTOMER_ORDER table, but also PRODUCT information using PRODUCT_ID.\n",
        "\n",
        "We can use these relationships to execute a query that displays orders with customer information and product information simultaneously. All we do is define the two joins."
      ]
    },
    {
      "cell_type": "code",
      "metadata": {
        "id": "hIVZp_SPxSW7",
        "colab_type": "code",
        "colab": {
          "base_uri": "https://localhost:8080/",
          "height": 299
        },
        "outputId": "efe42c9c-8531-40f4-ec23-53c43abc2e25"
      },
      "source": [
        "%%sql\n",
        "\n",
        "SELECT\n",
        "ORDER_ID,\n",
        "CUSTOMER.CUSTOMER_ID,\n",
        "NAME as CUSTOMER_NAME,\n",
        "STREET_ADDRESS,\n",
        "CITY,\n",
        "STATE,\n",
        "ZIP,\n",
        "ORDER_DATE,\n",
        "PRODUCT.PRODUCT_ID,\n",
        "DESCRIPTION,\n",
        "ORDER_QTY,\n",
        "ORDER_QTY * PRICE as REVENUE\n",
        "\n",
        "FROM CUSTOMER\n",
        "INNER JOIN CUSTOMER_ORDER \n",
        "ON CUSTOMER.CUSTOMER_ID = CUSTOMER_ORDER.CUSTOMER_ID\n",
        "\n",
        "INNER JOIN PRODUCT\n",
        "ON CUSTOMER_ORDER.PRODUCT_ID = PRODUCT.PRODUCT_ID"
      ],
      "execution_count": 19,
      "outputs": [
        {
          "output_type": "stream",
          "text": [
            "   sqlite:///oreilly_getting_started_with_sql/rexon.db\n",
            " * sqlite:///oreilly_getting_started_with_sql/rexon_metals.db\n",
            "   sqlite:///oreilly_getting_started_with_sql/weather_stations.db\n",
            "Done.\n"
          ],
          "name": "stdout"
        },
        {
          "output_type": "execute_result",
          "data": {
            "text/html": [
              "<table>\n",
              "    <tr>\n",
              "        <th>ORDER_ID</th>\n",
              "        <th>CUSTOMER_ID</th>\n",
              "        <th>CUSTOMER_NAME</th>\n",
              "        <th>STREET_ADDRESS</th>\n",
              "        <th>CITY</th>\n",
              "        <th>STATE</th>\n",
              "        <th>ZIP</th>\n",
              "        <th>ORDER_DATE</th>\n",
              "        <th>PRODUCT_ID</th>\n",
              "        <th>DESCRIPTION</th>\n",
              "        <th>ORDER_QTY</th>\n",
              "        <th>REVENUE</th>\n",
              "    </tr>\n",
              "    <tr>\n",
              "        <td>1</td>\n",
              "        <td>1</td>\n",
              "        <td>LITE Industrial</td>\n",
              "        <td>729 Ravine Way</td>\n",
              "        <td>Irving</td>\n",
              "        <td>TX</td>\n",
              "        <td>75014</td>\n",
              "        <td>2015-05-15</td>\n",
              "        <td>1</td>\n",
              "        <td>Copper</td>\n",
              "        <td>450</td>\n",
              "        <td>3379.5</td>\n",
              "    </tr>\n",
              "    <tr>\n",
              "        <td>2</td>\n",
              "        <td>3</td>\n",
              "        <td>Re-Barre Construction</td>\n",
              "        <td>9043 Windy Dr</td>\n",
              "        <td>Irving</td>\n",
              "        <td>TX</td>\n",
              "        <td>75032</td>\n",
              "        <td>2015-05-18</td>\n",
              "        <td>2</td>\n",
              "        <td>Aluminum</td>\n",
              "        <td>600</td>\n",
              "        <td>1548.0</td>\n",
              "    </tr>\n",
              "    <tr>\n",
              "        <td>3</td>\n",
              "        <td>3</td>\n",
              "        <td>Re-Barre Construction</td>\n",
              "        <td>9043 Windy Dr</td>\n",
              "        <td>Irving</td>\n",
              "        <td>TX</td>\n",
              "        <td>75032</td>\n",
              "        <td>2015-05-20</td>\n",
              "        <td>5</td>\n",
              "        <td>Bronze</td>\n",
              "        <td>300</td>\n",
              "        <td>1200</td>\n",
              "    </tr>\n",
              "    <tr>\n",
              "        <td>4</td>\n",
              "        <td>5</td>\n",
              "        <td>Marsh Lane Metal Works</td>\n",
              "        <td>9143 Marsh Ln</td>\n",
              "        <td>Avondale</td>\n",
              "        <td>LA</td>\n",
              "        <td>79782</td>\n",
              "        <td>2015-05-18</td>\n",
              "        <td>4</td>\n",
              "        <td>Steel</td>\n",
              "        <td>375</td>\n",
              "        <td>4616.25</td>\n",
              "    </tr>\n",
              "    <tr>\n",
              "        <td>5</td>\n",
              "        <td>3</td>\n",
              "        <td>Re-Barre Construction</td>\n",
              "        <td>9043 Windy Dr</td>\n",
              "        <td>Irving</td>\n",
              "        <td>TX</td>\n",
              "        <td>75032</td>\n",
              "        <td>2015-05-17</td>\n",
              "        <td>2</td>\n",
              "        <td>Aluminum</td>\n",
              "        <td>500</td>\n",
              "        <td>1290.0</td>\n",
              "    </tr>\n",
              "</table>"
            ],
            "text/plain": [
              "[(1, 1, 'LITE Industrial', '729 Ravine Way', 'Irving', 'TX', 75014, '2015-05-15', 1, 'Copper', 450, 3379.5),\n",
              " (2, 3, 'Re-Barre Construction', '9043 Windy Dr', 'Irving', 'TX', 75032, '2015-05-18', 2, 'Aluminum', 600, 1548.0),\n",
              " (3, 3, 'Re-Barre Construction', '9043 Windy Dr', 'Irving', 'TX', 75032, '2015-05-20', 5, 'Bronze', 300, 1200),\n",
              " (4, 5, 'Marsh Lane Metal Works', '9143 Marsh Ln', 'Avondale', 'LA', 79782, '2015-05-18', 4, 'Steel', 375, 4616.25),\n",
              " (5, 3, 'Re-Barre Construction', '9043 Windy Dr', 'Irving', 'TX', 75032, '2015-05-17', 2, 'Aluminum', 500, 1290.0)]"
            ]
          },
          "metadata": {
            "tags": []
          },
          "execution_count": 19
        }
      ]
    },
    {
      "cell_type": "markdown",
      "metadata": {
        "id": "N8JhwbyN0Ir8",
        "colab_type": "text"
      },
      "source": [
        "## Grouping JOINs\n",
        "\n",
        "We have orders with their revenue, thatnks to the join we built. But suppose we want to find the total_revenue by customer? We still need to use all three tables and merge them together with out current join setup, since we need the revenue we just calculated. But also we need to do a GROUP BY:"
      ]
    },
    {
      "cell_type": "code",
      "metadata": {
        "id": "1MSt45evzgMi",
        "colab_type": "code",
        "colab": {
          "base_uri": "https://localhost:8080/",
          "height": 170
        },
        "outputId": "a21f1d7b-da50-4e43-92f2-ba00a2debf0c"
      },
      "source": [
        "%%sql\n",
        "\n",
        "SELECT CUSTOMER.CUSTOMER_ID,\n",
        "NAME as CUSTOMER_NAME,\n",
        "sum(ORDER_QTY * PRICE) as TOTAL_REVENUE\n",
        "\n",
        "FROM CUSTOMER_ORDER\n",
        "\n",
        "INNER JOIN CUSTOMER\n",
        "ON CUSTOMER.CUSTOMER_ID = CUSTOMER_ORDER.CUSTOMER_ID \n",
        "\n",
        "INNER JOIN PRODUCT\n",
        "ON CUSTOMER_ORDER.PRODUCT_ID = PRODUCT.PRODUCT_ID\n",
        "\n",
        "GROUP BY 1, 2"
      ],
      "execution_count": 23,
      "outputs": [
        {
          "output_type": "stream",
          "text": [
            "   sqlite:///oreilly_getting_started_with_sql/rexon.db\n",
            " * sqlite:///oreilly_getting_started_with_sql/rexon_metals.db\n",
            "   sqlite:///oreilly_getting_started_with_sql/weather_stations.db\n",
            "Done.\n"
          ],
          "name": "stdout"
        },
        {
          "output_type": "execute_result",
          "data": {
            "text/html": [
              "<table>\n",
              "    <tr>\n",
              "        <th>CUSTOMER_ID</th>\n",
              "        <th>CUSTOMER_NAME</th>\n",
              "        <th>TOTAL_REVENUE</th>\n",
              "    </tr>\n",
              "    <tr>\n",
              "        <td>1</td>\n",
              "        <td>LITE Industrial</td>\n",
              "        <td>3379.5</td>\n",
              "    </tr>\n",
              "    <tr>\n",
              "        <td>3</td>\n",
              "        <td>Re-Barre Construction</td>\n",
              "        <td>4038.0</td>\n",
              "    </tr>\n",
              "    <tr>\n",
              "        <td>5</td>\n",
              "        <td>Marsh Lane Metal Works</td>\n",
              "        <td>4616.25</td>\n",
              "    </tr>\n",
              "</table>"
            ],
            "text/plain": [
              "[(1, 'LITE Industrial', 3379.5),\n",
              " (3, 'Re-Barre Construction', 4038.0),\n",
              " (5, 'Marsh Lane Metal Works', 4616.25)]"
            ]
          },
          "metadata": {
            "tags": []
          },
          "execution_count": 23
        }
      ]
    },
    {
      "cell_type": "markdown",
      "metadata": {
        "id": "psmMYX0d1f3a",
        "colab_type": "text"
      },
      "source": [
        "Since we want all customers we can use LEFT JOIN in place of INNER JOIN"
      ]
    },
    {
      "cell_type": "code",
      "metadata": {
        "id": "Dmzjm_Pm1XwC",
        "colab_type": "code",
        "colab": {
          "base_uri": "https://localhost:8080/",
          "height": 170
        },
        "outputId": "46185157-4290-43c7-d9f4-c5a1de018e94"
      },
      "source": [
        "%%sql\n",
        "\n",
        "SELECT CUSTOMER.CUSTOMER_ID,\n",
        "NAME as CUSTOMER_NAME,\n",
        "coalesce(sum(ORDER_QTY * PRICE),0) as TOTAL_REVENUE\n",
        "\n",
        "FROM CUSTOMER_ORDER\n",
        "\n",
        "LEFT JOIN CUSTOMER\n",
        "ON CUSTOMER.CUSTOMER_ID = CUSTOMER_ORDER.CUSTOMER_ID \n",
        "\n",
        "LEFT JOIN PRODUCT\n",
        "ON CUSTOMER_ORDER.PRODUCT_ID = PRODUCT.PRODUCT_ID\n",
        "\n",
        "GROUP BY 1, 2"
      ],
      "execution_count": 26,
      "outputs": [
        {
          "output_type": "stream",
          "text": [
            "   sqlite:///oreilly_getting_started_with_sql/rexon.db\n",
            " * sqlite:///oreilly_getting_started_with_sql/rexon_metals.db\n",
            "   sqlite:///oreilly_getting_started_with_sql/weather_stations.db\n",
            "Done.\n"
          ],
          "name": "stdout"
        },
        {
          "output_type": "execute_result",
          "data": {
            "text/html": [
              "<table>\n",
              "    <tr>\n",
              "        <th>CUSTOMER_ID</th>\n",
              "        <th>CUSTOMER_NAME</th>\n",
              "        <th>TOTAL_REVENUE</th>\n",
              "    </tr>\n",
              "    <tr>\n",
              "        <td>1</td>\n",
              "        <td>LITE Industrial</td>\n",
              "        <td>3379.5</td>\n",
              "    </tr>\n",
              "    <tr>\n",
              "        <td>3</td>\n",
              "        <td>Re-Barre Construction</td>\n",
              "        <td>4038.0</td>\n",
              "    </tr>\n",
              "    <tr>\n",
              "        <td>5</td>\n",
              "        <td>Marsh Lane Metal Works</td>\n",
              "        <td>4616.25</td>\n",
              "    </tr>\n",
              "</table>"
            ],
            "text/plain": [
              "[(1, 'LITE Industrial', 3379.5),\n",
              " (3, 'Re-Barre Construction', 4038.0),\n",
              " (5, 'Marsh Lane Metal Works', 4616.25)]"
            ]
          },
          "metadata": {
            "tags": []
          },
          "execution_count": 26
        }
      ]
    },
    {
      "cell_type": "code",
      "metadata": {
        "id": "vcmiQzRo1qVy",
        "colab_type": "code",
        "colab": {}
      },
      "source": [
        ""
      ],
      "execution_count": 0,
      "outputs": []
    }
  ]
}