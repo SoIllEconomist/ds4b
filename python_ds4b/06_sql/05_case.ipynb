{
  "nbformat": 4,
  "nbformat_minor": 0,
  "metadata": {
    "colab": {
      "name": "05_case.ipynb",
      "provenance": []
    },
    "kernelspec": {
      "name": "python3",
      "display_name": "Python 3"
    }
  },
  "cells": [
    {
      "cell_type": "markdown",
      "metadata": {
        "id": "nA8mFilthMc-",
        "colab_type": "text"
      },
      "source": [
        "# CASE Statements\n",
        "\n",
        "A CASE statement allows us to map one or more conditions to a corresponding value for each condition. You start a CASE statement with the word CASE and conclude it with an END. Between those keywords, you specify each condition with the a WHEN [condition] THEN [value].\n",
        "\n",
        "After specifying the condition-value pairs, you can have a catch-all value to default to if none of the conditions where met, which is specified in the ELSE."
      ]
    },
    {
      "cell_type": "code",
      "metadata": {
        "id": "0J7VqmmXhKjy",
        "colab_type": "code",
        "colab": {
          "base_uri": "https://localhost:8080/",
          "height": 141
        },
        "outputId": "1439aacf-d6c7-4a9c-ee0a-f7813c2fd0f9"
      },
      "source": [
        "#!pip install ipython-sql\n",
        "!git clone https://github.com/thomasnield/oreilly_getting_started_with_sql.git\n",
        "%load_ext sql\n",
        "%sql sqlite:///oreilly_getting_started_with_sql/weather_stations.db"
      ],
      "execution_count": 1,
      "outputs": [
        {
          "output_type": "stream",
          "text": [
            "Cloning into 'oreilly_getting_started_with_sql'...\n",
            "remote: Enumerating objects: 3, done.\u001b[K\n",
            "remote: Counting objects: 100% (3/3), done.\u001b[K\n",
            "remote: Compressing objects: 100% (3/3), done.\u001b[K\n",
            "remote: Total 60 (delta 0), reused 0 (delta 0), pack-reused 57\u001b[K\n",
            "Unpacking objects: 100% (60/60), done.\n"
          ],
          "name": "stdout"
        },
        {
          "output_type": "execute_result",
          "data": {
            "text/plain": [
              "'Connected: @oreilly_getting_started_with_sql/weather_stations.db'"
            ]
          },
          "metadata": {
            "tags": []
          },
          "execution_count": 1
        }
      ]
    },
    {
      "cell_type": "code",
      "metadata": {
        "id": "al3oeOj7h6FT",
        "colab_type": "code",
        "colab": {
          "base_uri": "https://localhost:8080/",
          "height": 274
        },
        "outputId": "8eda27a0-2587-4a53-ce22-20a8453e4f18"
      },
      "source": [
        "%%sql\n",
        "\n",
        "SELECT report_code, year, month, day, wind_speed,\n",
        "\n",
        "CASE\n",
        "  WHEN wind_speed >= 40 THEN 'HIGH'\n",
        "  WHEN wind_speed >= 30 AND wind_speed < 40 THEN 'MODERATE'\n",
        "  ELSE 'LOW'\n",
        "END as wind_severity\n",
        "FROM station_data\n",
        "LIMIT 10;"
      ],
      "execution_count": 8,
      "outputs": [
        {
          "output_type": "stream",
          "text": [
            " * sqlite:///oreilly_getting_started_with_sql/weather_stations.db\n",
            "Done.\n"
          ],
          "name": "stdout"
        },
        {
          "output_type": "execute_result",
          "data": {
            "text/html": [
              "<table>\n",
              "    <tr>\n",
              "        <th>report_code</th>\n",
              "        <th>year</th>\n",
              "        <th>month</th>\n",
              "        <th>day</th>\n",
              "        <th>wind_speed</th>\n",
              "        <th>wind_severity</th>\n",
              "    </tr>\n",
              "    <tr>\n",
              "        <td>34DDA7</td>\n",
              "        <td>2002</td>\n",
              "        <td>12</td>\n",
              "        <td>21</td>\n",
              "        <td>0.2</td>\n",
              "        <td>LOW</td>\n",
              "    </tr>\n",
              "    <tr>\n",
              "        <td>39537B</td>\n",
              "        <td>1998</td>\n",
              "        <td>10</td>\n",
              "        <td>1</td>\n",
              "        <td>6.7</td>\n",
              "        <td>LOW</td>\n",
              "    </tr>\n",
              "    <tr>\n",
              "        <td>C3C6D5</td>\n",
              "        <td>2001</td>\n",
              "        <td>5</td>\n",
              "        <td>18</td>\n",
              "        <td>4.3</td>\n",
              "        <td>LOW</td>\n",
              "    </tr>\n",
              "    <tr>\n",
              "        <td>145150</td>\n",
              "        <td>2007</td>\n",
              "        <td>10</td>\n",
              "        <td>14</td>\n",
              "        <td>2.5</td>\n",
              "        <td>LOW</td>\n",
              "    </tr>\n",
              "    <tr>\n",
              "        <td>EF616A</td>\n",
              "        <td>1967</td>\n",
              "        <td>7</td>\n",
              "        <td>29</td>\n",
              "        <td>1.2</td>\n",
              "        <td>LOW</td>\n",
              "    </tr>\n",
              "    <tr>\n",
              "        <td>1F8A7B</td>\n",
              "        <td>1953</td>\n",
              "        <td>6</td>\n",
              "        <td>18</td>\n",
              "        <td>3.6</td>\n",
              "        <td>LOW</td>\n",
              "    </tr>\n",
              "    <tr>\n",
              "        <td>D028D8</td>\n",
              "        <td>1981</td>\n",
              "        <td>6</td>\n",
              "        <td>27</td>\n",
              "        <td>3</td>\n",
              "        <td>LOW</td>\n",
              "    </tr>\n",
              "    <tr>\n",
              "        <td>C74611</td>\n",
              "        <td>1978</td>\n",
              "        <td>2</td>\n",
              "        <td>5</td>\n",
              "        <td>13.3</td>\n",
              "        <td>LOW</td>\n",
              "    </tr>\n",
              "    <tr>\n",
              "        <td>737090</td>\n",
              "        <td>1962</td>\n",
              "        <td>8</td>\n",
              "        <td>14</td>\n",
              "        <td>5.1</td>\n",
              "        <td>LOW</td>\n",
              "    </tr>\n",
              "    <tr>\n",
              "        <td>C5C66E</td>\n",
              "        <td>2006</td>\n",
              "        <td>10</td>\n",
              "        <td>15</td>\n",
              "        <td>1.7</td>\n",
              "        <td>LOW</td>\n",
              "    </tr>\n",
              "</table>"
            ],
            "text/plain": [
              "[('34DDA7', 2002, 12, 21, 0.2, 'LOW'),\n",
              " ('39537B', 1998, 10, 1, 6.7, 'LOW'),\n",
              " ('C3C6D5', 2001, 5, 18, 4.3, 'LOW'),\n",
              " ('145150', 2007, 10, 14, 2.5, 'LOW'),\n",
              " ('EF616A', 1967, 7, 29, 1.2, 'LOW'),\n",
              " ('1F8A7B', 1953, 6, 18, 3.6, 'LOW'),\n",
              " ('D028D8', 1981, 6, 27, 3, 'LOW'),\n",
              " ('C74611', 1978, 2, 5, 13.3, 'LOW'),\n",
              " ('737090', 1962, 8, 14, 5.1, 'LOW'),\n",
              " ('C5C66E', 2006, 10, 15, 1.7, 'LOW')]"
            ]
          },
          "metadata": {
            "tags": []
          },
          "execution_count": 8
        }
      ]
    },
    {
      "cell_type": "markdown",
      "metadata": {
        "id": "tlVG4Y_xigF-",
        "colab_type": "text"
      },
      "source": [
        "## Grouping CASE Statements\n",
        "\n",
        "When you create CAST statements and group them, you can create some very powerful transformations. Converting values based on one or more conditions before aggregating them gives us even more possibilities to slice data in interesting ways. "
      ]
    },
    {
      "cell_type": "code",
      "metadata": {
        "id": "8SqGuZs4iHoM",
        "colab_type": "code",
        "colab": {
          "base_uri": "https://localhost:8080/",
          "height": 274
        },
        "outputId": "2ce1aaf7-b0ac-4ce3-e0f5-62bfd739e8d9"
      },
      "source": [
        "%%sql\n",
        "\n",
        "SELECT year,\n",
        "\n",
        "CASE\n",
        "  WHEN wind_speed >= 40 THEN 'HIGHT'\n",
        "  WHEN wind_speed >= 40 THEN 'MODERATE'\n",
        "  ELSE 'LOW'\n",
        "END as wind_seversity,\n",
        "\n",
        "COUNT(*) as record_count\n",
        "\n",
        "FROM station_data\n",
        "GROUP BY 1, 2\n",
        "\n",
        "LIMIT 10;"
      ],
      "execution_count": 9,
      "outputs": [
        {
          "output_type": "stream",
          "text": [
            " * sqlite:///oreilly_getting_started_with_sql/weather_stations.db\n",
            "Done.\n"
          ],
          "name": "stdout"
        },
        {
          "output_type": "execute_result",
          "data": {
            "text/html": [
              "<table>\n",
              "    <tr>\n",
              "        <th>year</th>\n",
              "        <th>wind_seversity</th>\n",
              "        <th>record_count</th>\n",
              "    </tr>\n",
              "    <tr>\n",
              "        <td>1930</td>\n",
              "        <td>LOW</td>\n",
              "        <td>5</td>\n",
              "    </tr>\n",
              "    <tr>\n",
              "        <td>1932</td>\n",
              "        <td>LOW</td>\n",
              "        <td>3</td>\n",
              "    </tr>\n",
              "    <tr>\n",
              "        <td>1933</td>\n",
              "        <td>LOW</td>\n",
              "        <td>6</td>\n",
              "    </tr>\n",
              "    <tr>\n",
              "        <td>1935</td>\n",
              "        <td>LOW</td>\n",
              "        <td>2</td>\n",
              "    </tr>\n",
              "    <tr>\n",
              "        <td>1936</td>\n",
              "        <td>LOW</td>\n",
              "        <td>18</td>\n",
              "    </tr>\n",
              "    <tr>\n",
              "        <td>1937</td>\n",
              "        <td>LOW</td>\n",
              "        <td>23</td>\n",
              "    </tr>\n",
              "    <tr>\n",
              "        <td>1938</td>\n",
              "        <td>LOW</td>\n",
              "        <td>13</td>\n",
              "    </tr>\n",
              "    <tr>\n",
              "        <td>1939</td>\n",
              "        <td>LOW</td>\n",
              "        <td>9</td>\n",
              "    </tr>\n",
              "    <tr>\n",
              "        <td>1940</td>\n",
              "        <td>LOW</td>\n",
              "        <td>26</td>\n",
              "    </tr>\n",
              "    <tr>\n",
              "        <td>1941</td>\n",
              "        <td>LOW</td>\n",
              "        <td>42</td>\n",
              "    </tr>\n",
              "</table>"
            ],
            "text/plain": [
              "[(1930, 'LOW', 5),\n",
              " (1932, 'LOW', 3),\n",
              " (1933, 'LOW', 6),\n",
              " (1935, 'LOW', 2),\n",
              " (1936, 'LOW', 18),\n",
              " (1937, 'LOW', 23),\n",
              " (1938, 'LOW', 13),\n",
              " (1939, 'LOW', 9),\n",
              " (1940, 'LOW', 26),\n",
              " (1941, 'LOW', 42)]"
            ]
          },
          "metadata": {
            "tags": []
          },
          "execution_count": 9
        }
      ]
    },
    {
      "cell_type": "markdown",
      "metadata": {
        "id": "pH6W_NjPlJus",
        "colab_type": "text"
      },
      "source": [
        "## The \"Zero/Null\" CASE Trick\n",
        "\n",
        "You can use tricks with the CASE statement. One simeple but useful pattern is the \"zero/null\" CASE trick. This allows you to apply different filters for different aggregate values, all in a single SELECT query."
      ]
    },
    {
      "cell_type": "code",
      "metadata": {
        "id": "heI2nBEqjIUQ",
        "colab_type": "code",
        "colab": {
          "base_uri": "https://localhost:8080/",
          "height": 274
        },
        "outputId": "ba9dadcf-a073-4ebd-8a65-af48da8d11e3"
      },
      "source": [
        "%%sql\n",
        "\n",
        "SELECT year, month,\n",
        "\n",
        "round(SUM(CASE WHEN tornado = 1 THEN precipitation ELSE 0 END),2) as tornado_precipitation,\n",
        "\n",
        "round(SUM(CASE WHEN tornado = 0 THEN precipitation ELSE 0 END),2) as non_tornado_precipitation\n",
        "\n",
        "FROM station_data\n",
        "GROUP BY year, month\n",
        "LIMIT 10;"
      ],
      "execution_count": 10,
      "outputs": [
        {
          "output_type": "stream",
          "text": [
            " * sqlite:///oreilly_getting_started_with_sql/weather_stations.db\n",
            "Done.\n"
          ],
          "name": "stdout"
        },
        {
          "output_type": "execute_result",
          "data": {
            "text/html": [
              "<table>\n",
              "    <tr>\n",
              "        <th>year</th>\n",
              "        <th>month</th>\n",
              "        <th>tornado_precipitation</th>\n",
              "        <th>non_tornado_precipitation</th>\n",
              "    </tr>\n",
              "    <tr>\n",
              "        <td>1930</td>\n",
              "        <td>6</td>\n",
              "        <td>0.0</td>\n",
              "        <td>0.0</td>\n",
              "    </tr>\n",
              "    <tr>\n",
              "        <td>1930</td>\n",
              "        <td>10</td>\n",
              "        <td>0.0</td>\n",
              "        <td>None</td>\n",
              "    </tr>\n",
              "    <tr>\n",
              "        <td>1932</td>\n",
              "        <td>3</td>\n",
              "        <td>0.0</td>\n",
              "        <td>0.0</td>\n",
              "    </tr>\n",
              "    <tr>\n",
              "        <td>1933</td>\n",
              "        <td>3</td>\n",
              "        <td>0.0</td>\n",
              "        <td>0.0</td>\n",
              "    </tr>\n",
              "    <tr>\n",
              "        <td>1933</td>\n",
              "        <td>7</td>\n",
              "        <td>0.0</td>\n",
              "        <td>None</td>\n",
              "    </tr>\n",
              "    <tr>\n",
              "        <td>1935</td>\n",
              "        <td>7</td>\n",
              "        <td>0.0</td>\n",
              "        <td>0.0</td>\n",
              "    </tr>\n",
              "    <tr>\n",
              "        <td>1936</td>\n",
              "        <td>8</td>\n",
              "        <td>0.0</td>\n",
              "        <td>0.64</td>\n",
              "    </tr>\n",
              "    <tr>\n",
              "        <td>1936</td>\n",
              "        <td>9</td>\n",
              "        <td>0.0</td>\n",
              "        <td>0.0</td>\n",
              "    </tr>\n",
              "    <tr>\n",
              "        <td>1936</td>\n",
              "        <td>10</td>\n",
              "        <td>0.0</td>\n",
              "        <td>0.27</td>\n",
              "    </tr>\n",
              "    <tr>\n",
              "        <td>1936</td>\n",
              "        <td>11</td>\n",
              "        <td>0.0</td>\n",
              "        <td>0.06</td>\n",
              "    </tr>\n",
              "</table>"
            ],
            "text/plain": [
              "[(1930, 6, 0.0, 0.0),\n",
              " (1930, 10, 0.0, None),\n",
              " (1932, 3, 0.0, 0.0),\n",
              " (1933, 3, 0.0, 0.0),\n",
              " (1933, 7, 0.0, None),\n",
              " (1935, 7, 0.0, 0.0),\n",
              " (1936, 8, 0.0, 0.64),\n",
              " (1936, 9, 0.0, 0.0),\n",
              " (1936, 10, 0.0, 0.27),\n",
              " (1936, 11, 0.0, 0.06)]"
            ]
          },
          "metadata": {
            "tags": []
          },
          "execution_count": 10
        }
      ]
    },
    {
      "cell_type": "markdown",
      "metadata": {
        "id": "BuT1GYVHmQVm",
        "colab_type": "text"
      },
      "source": [
        "The CASE statement can do an impressive amount of work, especially in complex aggregation task. By leverageing a condition to make a value 0 if the condition is not met, we effectively ignore that value and exclude it from the SUM (since adding 0 has no impact).\n",
        "\n",
        "You could so a similar calculation with MIN or MAX operations, and us a null instead of 0 to make sure values with certain coinditon are never considered:"
      ]
    },
    {
      "cell_type": "code",
      "metadata": {
        "id": "2nbA957klxMy",
        "colab_type": "code",
        "colab": {
          "base_uri": "https://localhost:8080/",
          "height": 274
        },
        "outputId": "8fbec7c6-9b10-47b8-fbb2-e10b489fbb6c"
      },
      "source": [
        "%%sql\n",
        "SELECT year,\n",
        "\n",
        "MAX(CASE WHEN tornado = 0 THEN precipitation ELSE NULL END) as max_non_tornado_precipitation,\n",
        "\n",
        "MAX(CASE WHEN tornado = 1 THEN precipitation ELSE NULL END) as max_tornado_precipitation\n",
        "FROM station_data\n",
        "WHERE year >= 1990\n",
        "GROUP BY year\n",
        "LIMIT 10;"
      ],
      "execution_count": 20,
      "outputs": [
        {
          "output_type": "stream",
          "text": [
            " * sqlite:///oreilly_getting_started_with_sql/weather_stations.db\n",
            "Done.\n"
          ],
          "name": "stdout"
        },
        {
          "output_type": "execute_result",
          "data": {
            "text/html": [
              "<table>\n",
              "    <tr>\n",
              "        <th>year</th>\n",
              "        <th>max_non_tornado_precipitation</th>\n",
              "        <th>max_tornado_precipitation</th>\n",
              "    </tr>\n",
              "    <tr>\n",
              "        <td>1990</td>\n",
              "        <td>2.48</td>\n",
              "        <td>0.59</td>\n",
              "    </tr>\n",
              "    <tr>\n",
              "        <td>1991</td>\n",
              "        <td>2.36</td>\n",
              "        <td>1.93</td>\n",
              "    </tr>\n",
              "    <tr>\n",
              "        <td>1992</td>\n",
              "        <td>1.5</td>\n",
              "        <td>1.51</td>\n",
              "    </tr>\n",
              "    <tr>\n",
              "        <td>1993</td>\n",
              "        <td>1.18</td>\n",
              "        <td>2.13</td>\n",
              "    </tr>\n",
              "    <tr>\n",
              "        <td>1994</td>\n",
              "        <td>1.26</td>\n",
              "        <td>1.16</td>\n",
              "    </tr>\n",
              "    <tr>\n",
              "        <td>1995</td>\n",
              "        <td>0.91</td>\n",
              "        <td>0.35</td>\n",
              "    </tr>\n",
              "    <tr>\n",
              "        <td>1996</td>\n",
              "        <td>3.31</td>\n",
              "        <td>0.68</td>\n",
              "    </tr>\n",
              "    <tr>\n",
              "        <td>1997</td>\n",
              "        <td>1.18</td>\n",
              "        <td>0.08</td>\n",
              "    </tr>\n",
              "    <tr>\n",
              "        <td>1998</td>\n",
              "        <td>1.22</td>\n",
              "        <td>0.2</td>\n",
              "    </tr>\n",
              "    <tr>\n",
              "        <td>1999</td>\n",
              "        <td>2.64</td>\n",
              "        <td>0.25</td>\n",
              "    </tr>\n",
              "</table>"
            ],
            "text/plain": [
              "[(1990, 2.48, 0.59),\n",
              " (1991, 2.36, 1.93),\n",
              " (1992, 1.5, 1.51),\n",
              " (1993, 1.18, 2.13),\n",
              " (1994, 1.26, 1.16),\n",
              " (1995, 0.91, 0.35),\n",
              " (1996, 3.31, 0.68),\n",
              " (1997, 1.18, 0.08),\n",
              " (1998, 1.22, 0.2),\n",
              " (1999, 2.64, 0.25)]"
            ]
          },
          "metadata": {
            "tags": []
          },
          "execution_count": 20
        }
      ]
    },
    {
      "cell_type": "markdown",
      "metadata": {
        "id": "wsP6LTkJn1-a",
        "colab_type": "text"
      },
      "source": [
        "Just like the WHERE statement, you can use any Boolean expression in a CASE statement, in cluding function and AND, OR, and NOT statements. The following query will find the avarage temperatures by month when rain/hail was present versus not present after the year 2000:"
      ]
    },
    {
      "cell_type": "code",
      "metadata": {
        "id": "CuhWMAtOm6gy",
        "colab_type": "code",
        "colab": {
          "base_uri": "https://localhost:8080/",
          "height": 274
        },
        "outputId": "a6ef18ed-8f07-4fbe-db3f-24935e3d7a0b"
      },
      "source": [
        "%%sql\n",
        "\n",
        "SELECT month, \n",
        "\n",
        "round(AVG(CASE WHEN rain OR hail THEN temperature ELSE null END),2) as avg_precipitation_temp,\n",
        "\n",
        "round(AVG(CASE WHEN NOT (rain OR hail) THEN temperature ELSE null END),2) as avg_non_precipitation_temp\n",
        "\n",
        "FROM station_data\n",
        "WHERE year > 2000\n",
        "GROUP BY month\n",
        "LIMIT 10;"
      ],
      "execution_count": 22,
      "outputs": [
        {
          "output_type": "stream",
          "text": [
            " * sqlite:///oreilly_getting_started_with_sql/weather_stations.db\n",
            "Done.\n"
          ],
          "name": "stdout"
        },
        {
          "output_type": "execute_result",
          "data": {
            "text/html": [
              "<table>\n",
              "    <tr>\n",
              "        <th>month</th>\n",
              "        <th>avg_precipitation_temp</th>\n",
              "        <th>avg_non_precipitation_temp</th>\n",
              "    </tr>\n",
              "    <tr>\n",
              "        <td>1</td>\n",
              "        <td>35.62</td>\n",
              "        <td>41.79</td>\n",
              "    </tr>\n",
              "    <tr>\n",
              "        <td>2</td>\n",
              "        <td>33.8</td>\n",
              "        <td>38.9</td>\n",
              "    </tr>\n",
              "    <tr>\n",
              "        <td>3</td>\n",
              "        <td>46.61</td>\n",
              "        <td>49.23</td>\n",
              "    </tr>\n",
              "    <tr>\n",
              "        <td>4</td>\n",
              "        <td>49.03</td>\n",
              "        <td>52.33</td>\n",
              "    </tr>\n",
              "    <tr>\n",
              "        <td>5</td>\n",
              "        <td>55.9</td>\n",
              "        <td>58.91</td>\n",
              "    </tr>\n",
              "    <tr>\n",
              "        <td>6</td>\n",
              "        <td>55.4</td>\n",
              "        <td>64.85</td>\n",
              "    </tr>\n",
              "    <tr>\n",
              "        <td>7</td>\n",
              "        <td>66.98</td>\n",
              "        <td>70.02</td>\n",
              "    </tr>\n",
              "    <tr>\n",
              "        <td>8</td>\n",
              "        <td>66.68</td>\n",
              "        <td>67.89</td>\n",
              "    </tr>\n",
              "    <tr>\n",
              "        <td>9</td>\n",
              "        <td>60.66</td>\n",
              "        <td>62.4</td>\n",
              "    </tr>\n",
              "    <tr>\n",
              "        <td>10</td>\n",
              "        <td>53.01</td>\n",
              "        <td>56.36</td>\n",
              "    </tr>\n",
              "</table>"
            ],
            "text/plain": [
              "[(1, 35.62, 41.79),\n",
              " (2, 33.8, 38.9),\n",
              " (3, 46.61, 49.23),\n",
              " (4, 49.03, 52.33),\n",
              " (5, 55.9, 58.91),\n",
              " (6, 55.4, 64.85),\n",
              " (7, 66.98, 70.02),\n",
              " (8, 66.68, 67.89),\n",
              " (9, 60.66, 62.4),\n",
              " (10, 53.01, 56.36)]"
            ]
          },
          "metadata": {
            "tags": []
          },
          "execution_count": 22
        }
      ]
    },
    {
      "cell_type": "code",
      "metadata": {
        "id": "gD_lc3KMoj_P",
        "colab_type": "code",
        "colab": {}
      },
      "source": [
        ""
      ],
      "execution_count": 0,
      "outputs": []
    }
  ]
}