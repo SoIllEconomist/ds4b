{
  "nbformat": 4,
  "nbformat_minor": 0,
  "metadata": {
    "celltoolbar": "Slideshow",
    "kernelspec": {
      "display_name": "Python 3",
      "language": "python",
      "name": "python3"
    },
    "language_info": {
      "codemirror_mode": {
        "name": "ipython",
        "version": 3
      },
      "file_extension": ".py",
      "mimetype": "text/x-python",
      "name": "python",
      "nbconvert_exporter": "python",
      "pygments_lexer": "ipython3",
      "version": "3.7.4"
    },
    "colab": {
      "name": "04_iteration.ipynb",
      "provenance": [],
      "include_colab_link": true
    }
  },
  "cells": [
    {
      "cell_type": "markdown",
      "metadata": {
        "id": "view-in-github",
        "colab_type": "text"
      },
      "source": [
        "<a href=\"https://colab.research.google.com/github/SoIllEconomist/ds4b/blob/master/python_ds4b/03_program/04_iteration.ipynb\" target=\"_parent\"><img src=\"https://colab.research.google.com/assets/colab-badge.svg\" alt=\"Open In Colab\"/></a>"
      ]
    },
    {
      "cell_type": "markdown",
      "metadata": {
        "id": "SrpGGry860LC",
        "colab_type": "text"
      },
      "source": [
        "# Iteration\n",
        "\n",
        "- **iteration:** the ability to run a block of statements repeatedly\n",
        "\n",
        "    - Saw a kind of iteration with recursion and\n",
        "    - using `for` loop"
      ]
    },
    {
      "cell_type": "markdown",
      "metadata": {
        "id": "FvWyvjq_60LG",
        "colab_type": "text"
      },
      "source": [
        "## Reassignment\n",
        "\n",
        "- Python uses the equal sign `=` for assignment\n",
        "- Legal to make more than one assignment to the same variable\n",
        "- New assignment makes an existing variable refer to a new value (and stop referring to the old value)"
      ]
    },
    {
      "cell_type": "code",
      "metadata": {
        "id": "GLYX05kV60LI",
        "colab_type": "code",
        "colab": {},
        "outputId": "fc4251f1-bc62-472b-e7b9-0547ff8d5bef"
      },
      "source": [
        "x = 5\n",
        "x"
      ],
      "execution_count": 0,
      "outputs": [
        {
          "output_type": "execute_result",
          "data": {
            "text/plain": [
              "5"
            ]
          },
          "metadata": {
            "tags": []
          },
          "execution_count": 1
        }
      ]
    },
    {
      "cell_type": "code",
      "metadata": {
        "id": "3Fz0oMRJ60LP",
        "colab_type": "code",
        "colab": {},
        "outputId": "66eae18c-e71b-4bc2-bdc6-6e69133046b4"
      },
      "source": [
        "x = 7\n",
        "x"
      ],
      "execution_count": 0,
      "outputs": [
        {
          "output_type": "execute_result",
          "data": {
            "text/plain": [
              "7"
            ]
          },
          "metadata": {
            "tags": []
          },
          "execution_count": 2
        }
      ]
    },
    {
      "cell_type": "code",
      "metadata": {
        "id": "No2aMSZZ60LS",
        "colab_type": "code",
        "colab": {},
        "outputId": "512be9d2-cf00-4369-9791-9421830e7f32"
      },
      "source": [
        "a = 5\n",
        "b = a # a & b are equal\n",
        "a = 3 # a & b are NOT equal\n",
        "b"
      ],
      "execution_count": 0,
      "outputs": [
        {
          "output_type": "execute_result",
          "data": {
            "text/plain": [
              "5"
            ]
          },
          "metadata": {
            "tags": []
          },
          "execution_count": 3
        }
      ]
    },
    {
      "cell_type": "markdown",
      "metadata": {
        "id": "m9q53ftq60LW",
        "colab_type": "text"
      },
      "source": [
        "- Reassigning variables is useful, but you should use it with caution \n",
        "\n",
        "- If the values of variables change frequently, it can make the code difficult to read and debug"
      ]
    },
    {
      "cell_type": "markdown",
      "metadata": {
        "id": "t6bWPrUx60LX",
        "colab_type": "text"
      },
      "source": [
        "## Updating variables\n",
        "- Common reassignment is an **update**, where the new value depends on the old"
      ]
    },
    {
      "cell_type": "code",
      "metadata": {
        "id": "w8th555F60LY",
        "colab_type": "code",
        "colab": {},
        "outputId": "6935cbe7-640e-476e-d640-da800aed4ac5"
      },
      "source": [
        "c = c + 1"
      ],
      "execution_count": 0,
      "outputs": [
        {
          "output_type": "error",
          "ename": "NameError",
          "evalue": "name 'c' is not defined",
          "traceback": [
            "\u001b[0;31m---------------------------------------------------------------------------\u001b[0m",
            "\u001b[0;31mNameError\u001b[0m                                 Traceback (most recent call last)",
            "\u001b[0;32m<ipython-input-4-511f86f677ea>\u001b[0m in \u001b[0;36m<module>\u001b[0;34m\u001b[0m\n\u001b[0;32m----> 1\u001b[0;31m \u001b[0mc\u001b[0m \u001b[0;34m=\u001b[0m \u001b[0mc\u001b[0m \u001b[0;34m+\u001b[0m \u001b[0;36m1\u001b[0m\u001b[0;34m\u001b[0m\u001b[0;34m\u001b[0m\u001b[0m\n\u001b[0m",
            "\u001b[0;31mNameError\u001b[0m: name 'c' is not defined"
          ]
        }
      ]
    },
    {
      "cell_type": "markdown",
      "metadata": {
        "id": "yPOmkcXl60Lb",
        "colab_type": "text"
      },
      "source": [
        "Before you can update a variable, you have to **initialize** it, usually with a simple assignment:"
      ]
    },
    {
      "cell_type": "code",
      "metadata": {
        "id": "I10YWXIE60Lc",
        "colab_type": "code",
        "colab": {},
        "outputId": "c5a3ee81-3386-4887-8a62-b6ddeb5dd17d"
      },
      "source": [
        "z = 0\n",
        "z = z + 1\n",
        "z"
      ],
      "execution_count": 0,
      "outputs": [
        {
          "output_type": "execute_result",
          "data": {
            "text/plain": [
              "1"
            ]
          },
          "metadata": {
            "tags": []
          },
          "execution_count": 14
        }
      ]
    },
    {
      "cell_type": "code",
      "metadata": {
        "id": "JPSZsiYC60Lf",
        "colab_type": "code",
        "colab": {},
        "outputId": "e7cbe924-1dd1-4042-d996-dae120752ec7"
      },
      "source": [
        "z += 1\n",
        "z"
      ],
      "execution_count": 0,
      "outputs": [
        {
          "output_type": "execute_result",
          "data": {
            "text/plain": [
              "4"
            ]
          },
          "metadata": {
            "tags": []
          },
          "execution_count": 17
        }
      ]
    },
    {
      "cell_type": "markdown",
      "metadata": {
        "id": "Rs6YnF-m60Li",
        "colab_type": "text"
      },
      "source": [
        "Updating a variable by adding 1 is called an **increment**; subtracting 1 is called a **decrement**."
      ]
    },
    {
      "cell_type": "markdown",
      "metadata": {
        "id": "_Ha0ixkD60Lj",
        "colab_type": "text"
      },
      "source": [
        "## while statement\n",
        "\n",
        "- Repeating identical or similar tasks without making errors is something that computers do well and people do poorly\n",
        "\n",
        "- Since iteration is so common:\n",
        "    \n",
        "    - Python provides features to make it easier"
      ]
    },
    {
      "cell_type": "code",
      "metadata": {
        "id": "oplFqdQ160Lk",
        "colab_type": "code",
        "colab": {}
      },
      "source": [
        "def countdown(n):\n",
        "    while n > 0:\n",
        "        print(n)\n",
        "        n = n - 1\n",
        "        \n",
        "    print('Blastoff!')  "
      ],
      "execution_count": 0,
      "outputs": []
    },
    {
      "cell_type": "code",
      "metadata": {
        "id": "too5hIbk60Lm",
        "colab_type": "code",
        "colab": {},
        "outputId": "1c84e6c4-2ba9-469b-bc74-10534e87d4aa"
      },
      "source": [
        "countdown(3)"
      ],
      "execution_count": 0,
      "outputs": [
        {
          "output_type": "stream",
          "text": [
            "3\n",
            "2\n",
            "1\n",
            "Blastoff!\n"
          ],
          "name": "stdout"
        }
      ]
    },
    {
      "cell_type": "markdown",
      "metadata": {
        "id": "BtCbaldi60Lp",
        "colab_type": "text"
      },
      "source": [
        "```python\n",
        "def countdown(n):\n",
        "    while n > 0:\n",
        "        print(n)\n",
        "        n = n - 1\n",
        "        \n",
        "    print('Blastoff!')  \n",
        "```\n",
        "\n",
        "Here is the flow of execution for a while statement:\n",
        "\n",
        "1. Determine whether the condition is true or false.\n",
        "2. If false, exit the while statement and continue execution at the next statement.\n",
        "3. If the condition is true, run the body and then go back to step 1.\n",
        "\n",
        "**This type of flow is called a loop because the third step loops back around to the top.**"
      ]
    },
    {
      "cell_type": "markdown",
      "metadata": {
        "id": "JeHjRcr860Lq",
        "colab_type": "text"
      },
      "source": [
        "```python\n",
        "def countdown(n):\n",
        "    while n > 0:\n",
        "        print(n)\n",
        "        n = n - 1\n",
        "        \n",
        "    print('Blastoff!')  \n",
        "```\n",
        "\n",
        "The body of the loop should change the value of one or more variables so that the condition becomes false eventually and the loop terminates. \n",
        "\n",
        "Otherwise the loop will repeat forever, which is called an **infinite loop**. "
      ]
    },
    {
      "cell_type": "markdown",
      "metadata": {
        "id": "B_X5cMio60Lr",
        "colab_type": "text"
      },
      "source": [
        "## break\n",
        "- Sometimes you don’t know it’s time to end a loop until you get half way through the body\n",
        "- In that case you can use the `break` statement to jump out of the loop.\n",
        "\n",
        "Suppose you want to take input from the user until they type done. You could write:"
      ]
    },
    {
      "cell_type": "code",
      "metadata": {
        "id": "fIxn5y-W60Ls",
        "colab_type": "code",
        "colab": {},
        "outputId": "96859561-f8d6-4839-9126-53e0d6d79db6"
      },
      "source": [
        "while True:\n",
        "    line = input('> ')\n",
        "    if line == 'done':\n",
        "        break\n",
        "    print(line)\n",
        "print('Done')"
      ],
      "execution_count": 0,
      "outputs": [
        {
          "output_type": "stream",
          "text": [
            "> blah\n",
            "blah\n",
            "> tacos\n",
            "tacos\n",
            "> I'm really bored and hungry~!\n",
            "I'm really bored and hungry~!\n",
            "> Done\n",
            "Done\n",
            "> done \n",
            "done \n",
            "> done\n",
            "Done\n"
          ],
          "name": "stdout"
        }
      ]
    },
    {
      "cell_type": "markdown",
      "metadata": {
        "id": "gwLWuKsM60Lu",
        "colab_type": "text"
      },
      "source": [
        "```python\n",
        "while True:\n",
        "    line = input('> ')\n",
        "    if line == 'done':\n",
        "        break\n",
        "    print(line)\n",
        "print('Done')\n",
        "```\n",
        "\n",
        "The loop condition is `True`, which is always true, so the loop runs until it hits the break statement\n",
        "\n",
        "This way of writing while loops is common because you can check the condition anywhere in the loop (not just at the top) and you can express the stop condition affirmatively  rather than negatively \n",
        "\n",
        "E.g. \n",
        "- “stop when this happens”\n",
        "- “keep going until that happens”"
      ]
    },
    {
      "cell_type": "markdown",
      "metadata": {
        "id": "Ga27F_p460Lv",
        "colab_type": "text"
      },
      "source": [
        "## Example: Square roots\n",
        "\n",
        "- Loops are often used in programs that compute numerical results by starting with an approximate answer and iteratively improving it\n",
        "\n",
        "- Suppose that you want to know the square root of *a *\n",
        "\n",
        "- If you start with almost any estimate, *x*, you can compute a better estimate with the following formula:\n",
        "\n",
        "$$y=\\frac{x+a/x}{2}$$"
      ]
    },
    {
      "cell_type": "markdown",
      "metadata": {
        "id": "ufw5JHbR60L0",
        "colab_type": "text"
      },
      "source": [
        "For example, if a is 4 and x is 3:"
      ]
    },
    {
      "cell_type": "code",
      "metadata": {
        "id": "iIJ1SIuR60L1",
        "colab_type": "code",
        "colab": {}
      },
      "source": [
        "a = 4\n",
        "x = 3\n",
        "y = (x + a/x) / 2"
      ],
      "execution_count": 0,
      "outputs": []
    },
    {
      "cell_type": "code",
      "metadata": {
        "id": "RHHCC95060L4",
        "colab_type": "code",
        "colab": {},
        "outputId": "e015c8ff-f15a-4f45-8160-8ce66682e471"
      },
      "source": [
        "y"
      ],
      "execution_count": 0,
      "outputs": [
        {
          "output_type": "execute_result",
          "data": {
            "text/plain": [
              "2.1666666666666665"
            ]
          },
          "metadata": {
            "tags": []
          },
          "execution_count": 2
        }
      ]
    },
    {
      "cell_type": "markdown",
      "metadata": {
        "id": "HuG4o8f360L7",
        "colab_type": "text"
      },
      "source": [
        "The result is closer to the correct answer (√4 = 2). If we repeat the process with the new estimate, it gets even closer:"
      ]
    },
    {
      "cell_type": "code",
      "metadata": {
        "id": "arB7-O5560L7",
        "colab_type": "code",
        "colab": {},
        "outputId": "e40128a1-6969-4b0d-dd71-ed4dc2437a7f"
      },
      "source": [
        "# Run this a few times\n",
        "# y will get closer to 2\n",
        "x = y\n",
        "y = (x + a/x) / 2\n",
        "y"
      ],
      "execution_count": 0,
      "outputs": [
        {
          "output_type": "execute_result",
          "data": {
            "text/plain": [
              "2.0064102564102564"
            ]
          },
          "metadata": {
            "tags": []
          },
          "execution_count": 3
        }
      ]
    },
    {
      "cell_type": "markdown",
      "metadata": {
        "id": "fhgb9pxB60L-",
        "colab_type": "text"
      },
      "source": [
        "In general we don’t know ahead of time how many steps it takes to get to the right answer, but we know when we get there because the estimate stops changing\n",
        "\n",
        "When y == x, we can stop. Here is a loop that starts with an initial estimate, x, and improves it until it stops changing:"
      ]
    },
    {
      "cell_type": "code",
      "metadata": {
        "id": "x2yuKoUu60L_",
        "colab_type": "code",
        "colab": {},
        "outputId": "11e43874-7293-4846-ac11-b2a56b896b43"
      },
      "source": [
        "while True:\n",
        "    print(x)\n",
        "    y = (x + a/x) / 2\n",
        "    if y == x:\n",
        "        break\n",
        "    x = y"
      ],
      "execution_count": 0,
      "outputs": [
        {
          "output_type": "stream",
          "text": [
            "2.0\n"
          ],
          "name": "stdout"
        }
      ]
    },
    {
      "cell_type": "code",
      "metadata": {
        "id": "kqO6TPrH60MC",
        "colab_type": "code",
        "colab": {},
        "outputId": "1069bc29-fd00-4d75-ffa1-35302a9616b0"
      },
      "source": [
        "while True:\n",
        "    print(x)\n",
        "    y = (x + a/x) / 2\n",
        "    if y == x:\n",
        "        break\n",
        "    x = y"
      ],
      "execution_count": 0,
      "outputs": [
        {
          "output_type": "stream",
          "text": [
            "2.0\n"
          ],
          "name": "stdout"
        }
      ]
    },
    {
      "cell_type": "code",
      "metadata": {
        "id": "GaS_mcr360MF",
        "colab_type": "code",
        "colab": {}
      },
      "source": [
        "def mysquart(a, x):\n",
        "    while True:\n",
        "        y = (x + a/x) / 2\n",
        "        if y == x:\n",
        "            break\n",
        "        x = y\n",
        "        return x"
      ],
      "execution_count": 0,
      "outputs": []
    },
    {
      "cell_type": "code",
      "metadata": {
        "id": "1N_-97as60MH",
        "colab_type": "code",
        "colab": {}
      },
      "source": [
        "mysquart(4, 3)"
      ],
      "execution_count": 0,
      "outputs": []
    }
  ]
}