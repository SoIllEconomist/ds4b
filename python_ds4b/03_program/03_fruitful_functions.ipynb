{
  "nbformat": 4,
  "nbformat_minor": 0,
  "metadata": {
    "celltoolbar": "Slideshow",
    "kernelspec": {
      "display_name": "Python 3",
      "language": "python",
      "name": "python3"
    },
    "language_info": {
      "codemirror_mode": {
        "name": "ipython",
        "version": 3
      },
      "file_extension": ".py",
      "mimetype": "text/x-python",
      "name": "python",
      "nbconvert_exporter": "python",
      "pygments_lexer": "ipython3",
      "version": "3.7.4"
    },
    "colab": {
      "name": "03_fruitful_functions.ipynb",
      "provenance": [],
      "include_colab_link": true
    }
  },
  "cells": [
    {
      "cell_type": "markdown",
      "metadata": {
        "id": "view-in-github",
        "colab_type": "text"
      },
      "source": [
        "<a href=\"https://colab.research.google.com/github/SoIllEconomist/ds4b/blob/master/python_ds4b/03_program/03_fruitful_functions.ipynb\" target=\"_parent\"><img src=\"https://colab.research.google.com/assets/colab-badge.svg\" alt=\"Open In Colab\"/></a>"
      ]
    },
    {
      "cell_type": "markdown",
      "metadata": {
        "id": "YAZFwpfm6k4_",
        "colab_type": "text"
      },
      "source": [
        "# Fruitful Functions (For Business)\n",
        "\n",
        "Many of the Python functions we have used (the `math` functions) produce return values. But the functions we’ve written are all void:\n",
        "    \n",
        "   - they have an effect, like printing a value, but \n",
        "   - they don’t have a return value \n",
        "   \n",
        "Today you'll learn to write fruitful functions"
      ]
    },
    {
      "cell_type": "markdown",
      "metadata": {
        "id": "__fmrm8d6k5B",
        "colab_type": "text"
      },
      "source": [
        "## Return values\n",
        "\n",
        "- Calling the function generates a return value, which we (usually) assign to a variable or use as part of an expression\n",
        "\n",
        "- Today we are going to write fruitful functions\n",
        "\n",
        "- The first exampe is `cash_flow`, which returns your cash flow given income and expenses"
      ]
    },
    {
      "cell_type": "code",
      "metadata": {
        "id": "CVvIVEsl6k5D",
        "colab_type": "code",
        "colab": {}
      },
      "source": [
        "def cash_flow(income, expenses):\n",
        "    cf = income - expenses\n",
        "    return cf"
      ],
      "execution_count": 0,
      "outputs": []
    },
    {
      "cell_type": "code",
      "metadata": {
        "id": "sE9r-Gyg6k5H",
        "colab_type": "code",
        "colab": {},
        "outputId": "622deda2-85a3-4b1c-a344-62ecf8127a28"
      },
      "source": [
        "cash_flow(10000, 9000.0)"
      ],
      "execution_count": 0,
      "outputs": [
        {
          "output_type": "execute_result",
          "data": {
            "text/plain": [
              "1000.0"
            ]
          },
          "metadata": {
            "tags": []
          },
          "execution_count": 5
        }
      ]
    },
    {
      "cell_type": "markdown",
      "metadata": {
        "id": "x3zDtKeA6k5L",
        "colab_type": "text"
      },
      "source": [
        "We have seen the return statement before, but in a fruitful function the return statement includes an expression. \n",
        "\n",
        "This statement means: “Return immediately from this function and use the following expression as a return value.” \n",
        "\n",
        "We could have written this function more concisely:"
      ]
    },
    {
      "cell_type": "code",
      "metadata": {
        "id": "dYCn47dC6k5M",
        "colab_type": "code",
        "colab": {}
      },
      "source": [
        "def cash_flow(income, expenses):\n",
        "    return income - expenses"
      ],
      "execution_count": 0,
      "outputs": []
    },
    {
      "cell_type": "markdown",
      "metadata": {
        "id": "PW5xkWJz6k5P",
        "colab_type": "text"
      },
      "source": [
        "##### Incremental development\n",
        "\n",
        "- As you write larger functions, you might find yourself spending more time debugging.\n",
        "\n",
        "- To deal with increasingly complex programs, you might want to try a process called **incremental development**. "
      ]
    },
    {
      "cell_type": "markdown",
      "metadata": {
        "id": "UWNhI18j6k5Q",
        "colab_type": "text"
      },
      "source": [
        "### Example\n",
        "\n",
        "Suppose you want to calculate *compound interest*:\n",
        "\n",
        "- Compound interest refers to calculating the *compounded interest*, not just the interest gained on the principal invested or borrowed amount.\n",
        "\n",
        "\n",
        "$$A = P(1+\\frac{r}{n})^{nt}$$\n",
        "\n",
        "\n",
        "where\n",
        "\n",
        "- A = New Principal (principal + interest)\n",
        "- P = Original Principal Amount\n",
        "- r = Annual Nominal Interest Rate (Float)\n",
        "- t = Overall length of time the interest is applied\n",
        "- n = Compounding frequency"
      ]
    },
    {
      "cell_type": "markdown",
      "metadata": {
        "id": "N7fqYovy6k5Q",
        "colab_type": "text"
      },
      "source": [
        "#### Step 1\n",
        "The first step is to consider what a `comp_interest` function should look like. \n",
        "- What are the inputs (parameters) and what is the output (return value)?\n",
        "\n",
        "    - In this case, the inputs are four numbers. \n",
        "    - The return value is the accrued amount (principal + interest) AND the total compound interest (represented by a floating-point value)"
      ]
    },
    {
      "cell_type": "markdown",
      "metadata": {
        "id": "qJXL0oTY6k5R",
        "colab_type": "text"
      },
      "source": [
        "#### Step 2\n",
        "Write an outline of the function:\n",
        "\n",
        "```python\n",
        "def comp_interest(principal, rate, n, t):\n",
        "    return 0.0\n",
        "```\n",
        "\n",
        "- Obviously, this version doesn’t compute our values; it always returns zero. \n",
        "- But it is syntactically correct, and it runs, which means that you can test it before you make it more complicated.\n",
        "\n",
        "```python\n",
        "comp_interest(5000, 0.08, 4, 2) # Easy to solve\n",
        "0.0\n",
        "```\n",
        "\n",
        "At this point we have confirmed that the function is syntactically correct, and we can start adding code to the body. "
      ]
    },
    {
      "cell_type": "markdown",
      "metadata": {
        "id": "7Nd2j77_6k5S",
        "colab_type": "text"
      },
      "source": [
        "#### Step 3\n",
        "A reasonable next step is to find the subvalues."
      ]
    },
    {
      "cell_type": "code",
      "metadata": {
        "id": "rw3Y7wUu6k5T",
        "colab_type": "code",
        "colab": {}
      },
      "source": [
        "def comp_interest(principal, rate, n, t):\n",
        "    r_n = 1 + (rate / n)\n",
        "    nt = n * t\n",
        "    print('Compound rate: ', r_n)\n",
        "    print('Frequency: ', nt)\n",
        "    return 0.0"
      ],
      "execution_count": 0,
      "outputs": []
    },
    {
      "cell_type": "markdown",
      "metadata": {
        "id": "3m1ZUWxd6k5V",
        "colab_type": "text"
      },
      "source": [
        "If the function is working, it should display: "
      ]
    },
    {
      "cell_type": "code",
      "metadata": {
        "id": "NwCquwpL6k5W",
        "colab_type": "code",
        "colab": {},
        "outputId": "95c04c31-d2c0-431f-80fc-bb045caf5f60"
      },
      "source": [
        "comp_interest(5000,0.08,4,2)"
      ],
      "execution_count": 0,
      "outputs": [
        {
          "output_type": "stream",
          "text": [
            "Compound rate:  1.02\n",
            "Frequency:  8\n"
          ],
          "name": "stdout"
        },
        {
          "output_type": "execute_result",
          "data": {
            "text/plain": [
              "0.0"
            ]
          },
          "metadata": {
            "tags": []
          },
          "execution_count": 9
        }
      ]
    },
    {
      "cell_type": "markdown",
      "metadata": {
        "id": "JzxYCTlj6k5Z",
        "colab_type": "text"
      },
      "source": [
        "#### Step 4\n",
        "Next compute the result\n"
      ]
    },
    {
      "cell_type": "code",
      "metadata": {
        "id": "xdhdWFcL6k5a",
        "colab_type": "code",
        "colab": {}
      },
      "source": [
        "def comp_interest(principal, rate, n, t):\n",
        "    r_n = 1 + (rate / n)\n",
        "    nt = n * t\n",
        "    result = principal*r_n**nt\n",
        "    return round(result,2)"
      ],
      "execution_count": 0,
      "outputs": []
    },
    {
      "cell_type": "code",
      "metadata": {
        "id": "zBUvd7hF6k5c",
        "colab_type": "code",
        "colab": {},
        "outputId": "f1f78584-a1b1-4939-a8ce-4585eefab0b2"
      },
      "source": [
        "comp_interest(5000,0.08,4,2)"
      ],
      "execution_count": 0,
      "outputs": [
        {
          "output_type": "execute_result",
          "data": {
            "text/plain": [
              "5858.3"
            ]
          },
          "metadata": {
            "tags": []
          },
          "execution_count": 12
        }
      ]
    },
    {
      "cell_type": "markdown",
      "metadata": {
        "id": "-CKMh9LR6k5f",
        "colab_type": "text"
      },
      "source": [
        "When you start out, you should add only a line or two of code at a time. As you gain more experience, you might find yourself writing and debugging bigger chunks. Either way, incremental development can save you a lot of debugging time.\n",
        "\n",
        "The key aspects of the process are:\n",
        "\n",
        "1. Start with a working program and make small incremental changes. At any point, if there is an error, you should have a good idea where it is.\n",
        "2. Use variables to hold intermediate values so you can display and check them.\n",
        "3. Once the program is working, you might want to remove some of the scaffolding or consolidate multiple statements into compound expressions, but only if it does not make the program difficult to read."
      ]
    },
    {
      "cell_type": "markdown",
      "metadata": {
        "id": "XEnmrIKb6k5g",
        "colab_type": "text"
      },
      "source": [
        "### Example 2\n",
        "\n",
        "\n",
        "$$B = R [\\frac{1-(1+i)^{-(n-x)}}{i}]$$"
      ]
    },
    {
      "cell_type": "code",
      "metadata": {
        "id": "4PyyPXmF6k5g",
        "colab_type": "code",
        "colab": {}
      },
      "source": [
        "# Here is the blueprint for the function\n",
        "def rem_bal(reg_pay, i, num_pay, pay_made):\n",
        "    return 0.0"
      ],
      "execution_count": 0,
      "outputs": []
    },
    {
      "cell_type": "code",
      "metadata": {
        "id": "L-FO-x0A6k5j",
        "colab_type": "code",
        "colab": {}
      },
      "source": [
        "def rem_bal(reg_pay, i, num_pay, pay_made):\n",
        "    a = 1+i\n",
        "    b = -(num_pay-pay_made)\n",
        "    c = 1 - a**b\n",
        "    d = c / i\n",
        "    result = reg_pay * d\n",
        "    return round(result,2)"
      ],
      "execution_count": 0,
      "outputs": []
    },
    {
      "cell_type": "code",
      "metadata": {
        "id": "Uej89PDY6k5m",
        "colab_type": "code",
        "colab": {},
        "outputId": "922289a7-658f-441b-87b7-1aaccdfd8f46"
      },
      "source": [
        "rem_bal(5000, 0.08, 4, 2)"
      ],
      "execution_count": 0,
      "outputs": [
        {
          "output_type": "execute_result",
          "data": {
            "text/plain": [
              "8916.32"
            ]
          },
          "metadata": {
            "tags": []
          },
          "execution_count": 5
        }
      ]
    },
    {
      "cell_type": "markdown",
      "metadata": {
        "id": "DoSdkePN6k5o",
        "colab_type": "text"
      },
      "source": [
        "## Boolean Functions\n",
        "\n",
        "Functions can return booleans, which is often convenient for hiding complicated tests inside functions. For example:\n",
        "\n",
        "```python\n",
        "def is_divisible(x, y):\n",
        "    if x % y == 0:\n",
        "        return True\n",
        "    else:\n",
        "        return False\n",
        "```\n",
        "It is common to give boolean functions names that sound like yes/no questions"
      ]
    },
    {
      "cell_type": "code",
      "metadata": {
        "id": "6KYabxr26k5p",
        "colab_type": "code",
        "colab": {},
        "outputId": "05894d96-6d1e-40a8-b9f3-d0c8182ff186"
      },
      "source": [
        "x = 4\n",
        "y = 5\n",
        "x % y == 0"
      ],
      "execution_count": 0,
      "outputs": [
        {
          "output_type": "execute_result",
          "data": {
            "text/plain": [
              "False"
            ]
          },
          "metadata": {
            "tags": []
          },
          "execution_count": 15
        }
      ]
    },
    {
      "cell_type": "markdown",
      "metadata": {
        "id": "EueGBwea6k5r",
        "colab_type": "text"
      },
      "source": [
        "The result of the == operator is a boolean, so we can write the function more concisely by returning it directly:\n",
        "\n",
        "```python\n",
        "def is_divisible(x, y):\n",
        "    return x % y == 0\n",
        "```"
      ]
    },
    {
      "cell_type": "markdown",
      "metadata": {
        "id": "rnvDjYRB6k5s",
        "colab_type": "text"
      },
      "source": [
        "## Recursion (Factorial Example)\n",
        "\n",
        "- The factorial of a non-negative integer n, denoted by n!, is the product of all positive integers less than or equal to n.\n",
        "\n",
        "$$0! = 1$$\n",
        "$$n! = n(n-1)!$$\n",
        "\n",
        "If you can write a recursive definition of something, you can write a Python program to evaluate it"
      ]
    },
    {
      "cell_type": "markdown",
      "metadata": {
        "id": "glWcRSxr6k5t",
        "colab_type": "text"
      },
      "source": [
        "### Step 1: Decide on parameters\n",
        "\n",
        "- `factorial` takes an integer\n",
        "\n",
        "```python\n",
        "def factorial(n):\n",
        "    \n",
        "```"
      ]
    },
    {
      "cell_type": "markdown",
      "metadata": {
        "id": "aLLmlr4Z6k5t",
        "colab_type": "text"
      },
      "source": [
        "### Step 2: Add basic conditional argument\n",
        "- if the argument happens to be 0, we return 1:\n",
        "\n",
        "```python\n",
        "def factorial(n):\n",
        "    if n == 0:\n",
        "        return 1\n",
        "```"
      ]
    },
    {
      "cell_type": "markdown",
      "metadata": {
        "id": "InbYfgc06k5u",
        "colab_type": "text"
      },
      "source": [
        "### Step 3: Make it recursive\n",
        "Otherwise, we have to make a recursive call to \n",
        "1. find the factorial of n-1\n",
        "2. multiply it by n\n",
        "\n",
        "```python\n",
        "def factorial(n):\n",
        "    if n == 0:\n",
        "        return 1\n",
        "    else:\n",
        "        recurse = factorial(n-1)\n",
        "        result = n * recurse\n",
        "        return result\n",
        "```\n",
        "\n",
        "This should look similar to our `countdown` example"
      ]
    },
    {
      "cell_type": "code",
      "metadata": {
        "id": "tR1UXdKo6k5z",
        "colab_type": "code",
        "colab": {}
      },
      "source": [
        "def factorial(n):\n",
        "    if n == 0:\n",
        "        return 1\n",
        "    else:\n",
        "        recurse = factorial(n-1)\n",
        "        result = n * recurse\n",
        "        return result"
      ],
      "execution_count": 0,
      "outputs": []
    },
    {
      "cell_type": "code",
      "metadata": {
        "id": "2qfEY70l6k52",
        "colab_type": "code",
        "colab": {},
        "outputId": "e033558b-cbff-4848-abdb-4e26e4ec200d"
      },
      "source": [
        "factorial(500)"
      ],
      "execution_count": 0,
      "outputs": [
        {
          "output_type": "execute_result",
          "data": {
            "text/plain": [
              "1220136825991110068701238785423046926253574342803192842192413588385845373153881997605496447502203281863013616477148203584163378722078177200480785205159329285477907571939330603772960859086270429174547882424912726344305670173270769461062802310452644218878789465754777149863494367781037644274033827365397471386477878495438489595537537990423241061271326984327745715546309977202781014561081188373709531016356324432987029563896628911658974769572087926928871281780070265174507768410719624390394322536422605234945850129918571501248706961568141625359056693423813008856249246891564126775654481886506593847951775360894005745238940335798476363944905313062323749066445048824665075946735862074637925184200459369692981022263971952597190945217823331756934581508552332820762820023402626907898342451712006207714640979456116127629145951237229913340169552363850942885592018727433795173014586357570828355780158735432768888680120399882384702151467605445407663535984174430480128938313896881639487469658817504506926365338175055478128640000000000000000000000000000000000000000000000000000000000000000000000000000000000000000000000000000000000000000000000000000"
            ]
          },
          "metadata": {
            "tags": []
          },
          "execution_count": 2
        }
      ]
    },
    {
      "cell_type": "markdown",
      "metadata": {
        "id": "GDq5dXTH6k54",
        "colab_type": "text"
      },
      "source": [
        "## Fibonacci Example\n",
        "\n",
        "          fibonacci(0) = 0 \n",
        " \t \tfibonacci(1) = 1 \n",
        " \t \tfibonacci(n) = fibonacci(n−1) + fibonacci(n−2)\n",
        "        \n",
        "Translated into a Python function:"
      ]
    },
    {
      "cell_type": "code",
      "metadata": {
        "id": "Qd8RxdTH6k55",
        "colab_type": "code",
        "colab": {}
      },
      "source": [
        "def fibonacci(n):\n",
        "    if n ==0:\n",
        "        return 0\n",
        "    elif n == 1:\n",
        "        return 1\n",
        "    else:\n",
        "        return fibonacci(n-1) + fibonacci(n-2)"
      ],
      "execution_count": 0,
      "outputs": []
    },
    {
      "cell_type": "code",
      "metadata": {
        "id": "GDiVcqfO6k57",
        "colab_type": "code",
        "colab": {},
        "outputId": "f69b4fea-d9bd-4347-f9db-77396b199395"
      },
      "source": [
        "fibonacci(4)"
      ],
      "execution_count": 0,
      "outputs": [
        {
          "output_type": "execute_result",
          "data": {
            "text/plain": [
              "3"
            ]
          },
          "metadata": {
            "tags": []
          },
          "execution_count": 6
        }
      ]
    },
    {
      "cell_type": "markdown",
      "metadata": {
        "id": "XYhvwRjC6k5_",
        "colab_type": "text"
      },
      "source": [
        "## Checking types: Factorial Example 2\n",
        "\n",
        "What happens if we call `factorial` and give it 1.5 as an argument?\n",
        "\n",
        "```python\n",
        "factorial(1.5)\n",
        "RuntimeError: Maximum recursion depth exceeded\n",
        "```\n",
        "\n",
        "- It looks like an infinite recursion. How can that be? \n",
        "- The function has a base case—when `n == 0`. \n",
        "- But if n is not an integer, we can miss the base case and recurse forever\n",
        "\n",
        "### Solution\n",
        "\n",
        "- Use the built-in function `isinstance` to verify the type of the argument"
      ]
    },
    {
      "cell_type": "code",
      "metadata": {
        "id": "0V2B_VKS6k6C",
        "colab_type": "code",
        "colab": {}
      },
      "source": [
        "def factorial(n):\n",
        "    if not isinstance(n, int):\n",
        "        print('Factorial is only defined for integers.')\n",
        "        return None\n",
        "    elif n < 0:\n",
        "        print('Factorial is not defined for negative integers.')\n",
        "        return None\n",
        "    elif n == 0:\n",
        "        return 1\n",
        "    else:\n",
        "        return n * factorial(n-1)"
      ],
      "execution_count": 0,
      "outputs": []
    },
    {
      "cell_type": "code",
      "metadata": {
        "id": "RuQwhcA26k6E",
        "colab_type": "code",
        "colab": {},
        "outputId": "7ff05ea6-534d-481c-95e2-e9fdcd907267"
      },
      "source": [
        "factorial('bob')"
      ],
      "execution_count": 0,
      "outputs": [
        {
          "output_type": "stream",
          "text": [
            "Factorial is only defined for integers.\n"
          ],
          "name": "stdout"
        }
      ]
    },
    {
      "cell_type": "code",
      "metadata": {
        "id": "rJvSNbic6k6G",
        "colab_type": "code",
        "colab": {},
        "outputId": "c57ba87b-acbf-4a36-8257-4d0a90bb1bbf"
      },
      "source": [
        "factorial(-2)"
      ],
      "execution_count": 0,
      "outputs": [
        {
          "output_type": "stream",
          "text": [
            "Factorial is not defined for negative integers.\n"
          ],
          "name": "stdout"
        }
      ]
    },
    {
      "cell_type": "code",
      "metadata": {
        "id": "_mBwemHy6k6I",
        "colab_type": "code",
        "colab": {},
        "outputId": "34468b14-00f9-46ea-fc4e-73f978254ecf"
      },
      "source": [
        "factorial(0)"
      ],
      "execution_count": 0,
      "outputs": [
        {
          "output_type": "execute_result",
          "data": {
            "text/plain": [
              "1"
            ]
          },
          "metadata": {
            "tags": []
          },
          "execution_count": 10
        }
      ]
    }
  ]
}