{
  "nbformat": 4,
  "nbformat_minor": 0,
  "metadata": {
    "celltoolbar": "Slideshow",
    "kernelspec": {
      "display_name": "Python 3",
      "language": "python",
      "name": "python3"
    },
    "language_info": {
      "codemirror_mode": {
        "name": "ipython",
        "version": 3
      },
      "file_extension": ".py",
      "mimetype": "text/x-python",
      "name": "python",
      "nbconvert_exporter": "python",
      "pygments_lexer": "ipython3",
      "version": "3.7.4"
    },
    "colab": {
      "name": "01_function_introduction.ipynb",
      "provenance": [],
      "include_colab_link": true
    }
  },
  "cells": [
    {
      "cell_type": "markdown",
      "metadata": {
        "id": "view-in-github",
        "colab_type": "text"
      },
      "source": [
        "<a href=\"https://colab.research.google.com/github/SoIllEconomist/ds4b/blob/master/python_ds4b/03_program/01_function_introduction.ipynb\" target=\"_parent\"><img src=\"https://colab.research.google.com/assets/colab-badge.svg\" alt=\"Open In Colab\"/></a>"
      ]
    },
    {
      "cell_type": "markdown",
      "metadata": {
        "id": "5x3n936z6D_Y",
        "colab_type": "text"
      },
      "source": [
        "# Functions\n",
        "**function** is a named sequence of statements that performs a computation. \n",
        "\n",
        "- When you define a function, you specify the name and the sequence of statements. \n",
        "\n",
        "- Later, you can “call” the function by name."
      ]
    },
    {
      "cell_type": "markdown",
      "metadata": {
        "id": "iR4Mn5Jw6D_b",
        "colab_type": "text"
      },
      "source": [
        "## Function calls\n",
        "\n",
        "We've already see a **function call**:"
      ]
    },
    {
      "cell_type": "code",
      "metadata": {
        "id": "z9oiukK16D_c",
        "colab_type": "code",
        "colab": {}
      },
      "source": [
        "type(42)"
      ],
      "execution_count": 0,
      "outputs": []
    },
    {
      "cell_type": "markdown",
      "metadata": {
        "id": "v5qRNcpX6D_g",
        "colab_type": "text"
      },
      "source": [
        "- The name of the function is type. \n",
        "\n",
        "- The expression in parentheses is called the argument of the function. \n",
        "\n",
        "- The result, for this function, is the type of the **argument**.\n",
        "\n",
        "- It is common to say that a function “takes” an argument and “returns” a result. The result is also called the **return value**."
      ]
    },
    {
      "cell_type": "code",
      "metadata": {
        "id": "zpzIOrfA6D_h",
        "colab_type": "code",
        "colab": {}
      },
      "source": [
        "int('32') # string to int"
      ],
      "execution_count": 0,
      "outputs": []
    },
    {
      "cell_type": "code",
      "metadata": {
        "id": "qwIoG8T16D_k",
        "colab_type": "code",
        "colab": {}
      },
      "source": [
        "int('Hello')"
      ],
      "execution_count": 0,
      "outputs": []
    },
    {
      "cell_type": "code",
      "metadata": {
        "id": "2VVv_bS76D_m",
        "colab_type": "code",
        "colab": {}
      },
      "source": [
        "float(32) # int / string to float"
      ],
      "execution_count": 0,
      "outputs": []
    },
    {
      "cell_type": "code",
      "metadata": {
        "id": "AnlwJhsT6D_p",
        "colab_type": "code",
        "colab": {}
      },
      "source": [
        "float('3.14')"
      ],
      "execution_count": 0,
      "outputs": []
    },
    {
      "cell_type": "code",
      "metadata": {
        "id": "pw5vLR_56D_s",
        "colab_type": "code",
        "colab": {}
      },
      "source": [
        "str(31) # int / float to string"
      ],
      "execution_count": 0,
      "outputs": []
    },
    {
      "cell_type": "markdown",
      "metadata": {
        "id": "TH3JYty36D_u",
        "colab_type": "text"
      },
      "source": [
        "## Math functions\n",
        "\n",
        "Python has a math module that provides most of the familiar mathematical functions. \n",
        "\n",
        "- A **module** is a file that contains a collection of related functions.\n",
        "\n",
        "- Before we can use the functions in a module, we have to import it with an **import statement**:\n"
      ]
    },
    {
      "cell_type": "code",
      "metadata": {
        "id": "DLJ1aWZx6D_v",
        "colab_type": "code",
        "colab": {}
      },
      "source": [
        "import math"
      ],
      "execution_count": 0,
      "outputs": []
    },
    {
      "cell_type": "markdown",
      "metadata": {
        "id": "kNm7Bir36D_y",
        "colab_type": "text"
      },
      "source": [
        "This statement creates a **module object** named math. "
      ]
    },
    {
      "cell_type": "code",
      "metadata": {
        "id": "cdfabWt86D_z",
        "colab_type": "code",
        "colab": {},
        "outputId": "99653a76-3041-465c-c31f-0a42536da9a2"
      },
      "source": [
        "math"
      ],
      "execution_count": 0,
      "outputs": [
        {
          "output_type": "execute_result",
          "data": {
            "text/plain": [
              "<module 'math' from '/home/markumreed/anaconda3/envs/ds4b/lib/python3.7/lib-dynload/math.cpython-37m-x86_64-linux-gnu.so'>"
            ]
          },
          "metadata": {
            "tags": []
          },
          "execution_count": 3
        }
      ]
    },
    {
      "cell_type": "markdown",
      "metadata": {
        "id": "2Tw5QU2i6D_2",
        "colab_type": "text"
      },
      "source": [
        "The module object contains the functions and variables defined in the module. \n",
        "\n",
        "- To access one of the functions, you have to specify the name of the module and the name of the function, separated by a period. \n",
        "\n",
        "    - This format is called **dot notation**"
      ]
    },
    {
      "cell_type": "markdown",
      "metadata": {
        "id": "mCSWxS4E6D_3",
        "colab_type": "text"
      },
      "source": [
        "  \n",
        "### Example"
      ]
    },
    {
      "cell_type": "code",
      "metadata": {
        "id": "2nY7wD7A6D_4",
        "colab_type": "code",
        "colab": {},
        "outputId": "9224abec-d667-42d2-907a-758820bc43c5"
      },
      "source": [
        "degrees = 45\n",
        "radians = degrees / 180.0 * math.pi\n",
        "math.sin(radians)"
      ],
      "execution_count": 0,
      "outputs": [
        {
          "output_type": "execute_result",
          "data": {
            "text/plain": [
              "0.7071067811865475"
            ]
          },
          "metadata": {
            "tags": []
          },
          "execution_count": 5
        }
      ]
    },
    {
      "cell_type": "markdown",
      "metadata": {
        "id": "XAhu6jxp6D_6",
        "colab_type": "text"
      },
      "source": [
        "The expression `math.pi` gets the variable pi from the math module. \n",
        "\n",
        "Its value is a floating-point approximation of $\\pi$, accurate to about 15 digits."
      ]
    },
    {
      "cell_type": "code",
      "metadata": {
        "id": "W4LrblMa6D_7",
        "colab_type": "code",
        "colab": {}
      },
      "source": [
        "math.pi"
      ],
      "execution_count": 0,
      "outputs": []
    },
    {
      "cell_type": "markdown",
      "metadata": {
        "id": "75nwhee76D_9",
        "colab_type": "text"
      },
      "source": [
        "## New Functions\n",
        "\n",
        "A **function definition** specifies the name of a new function and the sequence of statements that run when the function is called."
      ]
    },
    {
      "cell_type": "code",
      "metadata": {
        "id": "1F_2Xh2X6D_-",
        "colab_type": "code",
        "colab": {}
      },
      "source": [
        "def print_lyrics():\n",
        "    print(\"Hello darkness my old friend\")\n",
        "    print(\"Pink fluffy unicorns!\")"
      ],
      "execution_count": 0,
      "outputs": []
    },
    {
      "cell_type": "markdown",
      "metadata": {
        "id": "ymsIEnDn6EAA",
        "colab_type": "text"
      },
      "source": [
        "`def` is a keyword that indicates that this is a function definition.\n",
        "\n",
        "Defining a function creates a **function object**, which has type function:"
      ]
    },
    {
      "cell_type": "code",
      "metadata": {
        "id": "2Ah1iLWf6EAB",
        "colab_type": "code",
        "colab": {},
        "outputId": "99a4ad4b-c3f7-42cf-ec42-5d42cf8b2553"
      },
      "source": [
        "type(print_lyrics)"
      ],
      "execution_count": 0,
      "outputs": [
        {
          "output_type": "execute_result",
          "data": {
            "text/plain": [
              "function"
            ]
          },
          "metadata": {
            "tags": []
          },
          "execution_count": 7
        }
      ]
    },
    {
      "cell_type": "code",
      "metadata": {
        "id": "NjTU681Y6EAE",
        "colab_type": "code",
        "colab": {},
        "outputId": "d3eb7725-23e6-4a05-c88b-2d576480cda4"
      },
      "source": [
        "print_lyrics()"
      ],
      "execution_count": 0,
      "outputs": [
        {
          "output_type": "stream",
          "text": [
            "Hello darkness my old friend\n",
            "Pink fluffy unicorns!\n"
          ],
          "name": "stdout"
        }
      ]
    },
    {
      "cell_type": "markdown",
      "metadata": {
        "id": "H46Sq2cU6EAG",
        "colab_type": "text"
      },
      "source": [
        "Once you have defined a function, you can use it inside another function."
      ]
    },
    {
      "cell_type": "code",
      "metadata": {
        "id": "TuvF2Xre6EAG",
        "colab_type": "code",
        "colab": {}
      },
      "source": [
        "def repeat_lyrics():\n",
        "    print_lyrics()\n",
        "    print_lyrics()"
      ],
      "execution_count": 0,
      "outputs": []
    },
    {
      "cell_type": "code",
      "metadata": {
        "id": "3wt7Uukt6EAJ",
        "colab_type": "code",
        "colab": {},
        "outputId": "cd683c85-0499-4381-b1f6-7e4fae423cac"
      },
      "source": [
        "repeat_lyrics()"
      ],
      "execution_count": 0,
      "outputs": [
        {
          "output_type": "stream",
          "text": [
            "Hello darkness my old friend\n",
            "Pink fluffy unicorns!\n",
            "Hello darkness my old friend\n",
            "Pink fluffy unicorns!\n"
          ],
          "name": "stdout"
        }
      ]
    },
    {
      "cell_type": "markdown",
      "metadata": {
        "id": "iP614B_k6EAL",
        "colab_type": "text"
      },
      "source": [
        "## Definitions and Uses\n",
        "\n",
        "Pulling together the code fragments from the previous section, the whole program looks like this:\n",
        "\n",
        "```python\n",
        "def print_lyrics():\n",
        "    print(\"I'm a lumberjack, and I'm okay.\")\n",
        "    print(\"I sleep all night and I work all day.\")\n",
        "\n",
        "def repeat_lyrics():\n",
        "    print_lyrics()\n",
        "    print_lyrics()\n",
        "\n",
        "repeat_lyrics()\n",
        "```\n",
        "\n",
        "This program contains two function definitions: `print_lyrics` and `repeat_lyrics`. \n",
        "\n",
        "You have to create a function before you can run it. In other words, the function definition has to run before the function gets called."
      ]
    },
    {
      "cell_type": "markdown",
      "metadata": {
        "id": "h9wMyb_I6EAM",
        "colab_type": "text"
      },
      "source": [
        "## Parameters and arguments\n",
        "\n",
        "Some of the functions we have seen require arguments.\n",
        "\n",
        "Inside the function, the arguments are assigned to variables called **parameters**. Here is a definition for a function that takes an argument:"
      ]
    },
    {
      "cell_type": "code",
      "metadata": {
        "id": "1NWPgBkb6EAN",
        "colab_type": "code",
        "colab": {}
      },
      "source": [
        "def print_twice(param):\n",
        "    print(param)\n",
        "    print(param)"
      ],
      "execution_count": 0,
      "outputs": []
    },
    {
      "cell_type": "code",
      "metadata": {
        "id": "PirN_AoF6EAP",
        "colab_type": "code",
        "colab": {},
        "outputId": "e31b3044-5342-49a2-c719-b824f42ecc43"
      },
      "source": [
        "print_twice('Hello')"
      ],
      "execution_count": 0,
      "outputs": [
        {
          "output_type": "stream",
          "text": [
            "Hello\n",
            "Hello\n"
          ],
          "name": "stdout"
        }
      ]
    },
    {
      "cell_type": "code",
      "metadata": {
        "id": "U2_FJMLO6EAW",
        "colab_type": "code",
        "colab": {},
        "outputId": "803f42a2-6f06-4845-f299-babeea12b6f1"
      },
      "source": [
        "print_twice(42)"
      ],
      "execution_count": 0,
      "outputs": [
        {
          "output_type": "stream",
          "text": [
            "42\n",
            "42\n"
          ],
          "name": "stdout"
        }
      ]
    },
    {
      "cell_type": "code",
      "metadata": {
        "id": "k7i-B1Nz6EAY",
        "colab_type": "code",
        "colab": {},
        "outputId": "5739f66c-d0e7-4031-ebe9-7e16033ed851"
      },
      "source": [
        "print_twice(math.pi)"
      ],
      "execution_count": 0,
      "outputs": [
        {
          "output_type": "stream",
          "text": [
            "3.141592653589793\n",
            "3.141592653589793\n"
          ],
          "name": "stdout"
        }
      ]
    },
    {
      "cell_type": "markdown",
      "metadata": {
        "id": "x0LXpdwW6EAc",
        "colab_type": "text"
      },
      "source": [
        "The argument is evaluated before the function is called, so in the examples the expressions `'Spam '*10` and `math.cos(math.pi)` are only evaluated once."
      ]
    },
    {
      "cell_type": "code",
      "metadata": {
        "id": "b-gUoI0W6EAc",
        "colab_type": "code",
        "colab": {},
        "outputId": "f564d5a2-fab9-4d2a-a920-fe1e48ef93e5"
      },
      "source": [
        "print_twice('Spam ' * 10)"
      ],
      "execution_count": 0,
      "outputs": [
        {
          "output_type": "stream",
          "text": [
            "Spam Spam Spam Spam Spam Spam Spam Spam Spam Spam \n",
            "Spam Spam Spam Spam Spam Spam Spam Spam Spam Spam \n"
          ],
          "name": "stdout"
        }
      ]
    },
    {
      "cell_type": "code",
      "metadata": {
        "id": "J8bq4MFn6EAg",
        "colab_type": "code",
        "colab": {},
        "outputId": "31ae6f86-dd57-4ae5-8f30-62de9aab79c1"
      },
      "source": [
        "print_twice(math.cos(math.pi))"
      ],
      "execution_count": 0,
      "outputs": [
        {
          "output_type": "stream",
          "text": [
            "-1.0\n",
            "-1.0\n"
          ],
          "name": "stdout"
        }
      ]
    },
    {
      "cell_type": "code",
      "metadata": {
        "id": "6Q-gMuGK6EAi",
        "colab_type": "code",
        "colab": {}
      },
      "source": [
        "spam = 'Spam is the king of breakfast!'"
      ],
      "execution_count": 0,
      "outputs": []
    },
    {
      "cell_type": "code",
      "metadata": {
        "id": "9W3kMUn06EAk",
        "colab_type": "code",
        "colab": {},
        "outputId": "5f3a549e-a774-428a-9208-0136b8d6bf7f"
      },
      "source": [
        "print_twice(spam)"
      ],
      "execution_count": 0,
      "outputs": [
        {
          "output_type": "stream",
          "text": [
            "Spam is the king of breakfast!\n",
            "Spam is the king of breakfast!\n"
          ],
          "name": "stdout"
        }
      ]
    },
    {
      "cell_type": "markdown",
      "metadata": {
        "id": "p3HHdw-x6EAl",
        "colab_type": "text"
      },
      "source": [
        "## Variables and parameters are local\n",
        "\n",
        "When you create a variable inside a function, it is **local**, which means that it only exists inside the function. For example:"
      ]
    },
    {
      "cell_type": "code",
      "metadata": {
        "id": "JeuVSaCQ6EAn",
        "colab_type": "code",
        "colab": {}
      },
      "source": [
        "def cat_twice(part1, part2):\n",
        "    \"\"\"\n",
        "    cat_twice will concate two strings together.\n",
        "    :part1: a string\n",
        "    :part2: another string\n",
        "    return print_twice of concatenated strings.\n",
        "    \"\"\"\n",
        "    cat = part1 + part2\n",
        "    print_twice(cat)"
      ],
      "execution_count": 0,
      "outputs": []
    },
    {
      "cell_type": "markdown",
      "metadata": {
        "id": "J_ApnCfq6EAs",
        "colab_type": "text"
      },
      "source": [
        "This function takes two arguments, concatenates them, and prints the result twice. Here is an example that uses it:"
      ]
    },
    {
      "cell_type": "code",
      "metadata": {
        "id": "q4bnX8B06EAt",
        "colab_type": "code",
        "colab": {},
        "outputId": "8598c9ab-743f-459a-cbee-9e406e91af36"
      },
      "source": [
        "line1 = 'Hello Darkness! '\n",
        "line2 = 'Big Fluffy Unicorns!'\n",
        "cat_twice(line1, line2)"
      ],
      "execution_count": 0,
      "outputs": [
        {
          "output_type": "stream",
          "text": [
            "Hello Darkness! Big Fluffy Unicorns!\n",
            "Hello Darkness! Big Fluffy Unicorns!\n"
          ],
          "name": "stdout"
        }
      ]
    },
    {
      "cell_type": "markdown",
      "metadata": {
        "id": "rmXodOuN6EAv",
        "colab_type": "text"
      },
      "source": [
        "When cat_twice terminates, the variable cat is destroyed. If we try to print it, we get an exception:"
      ]
    },
    {
      "cell_type": "code",
      "metadata": {
        "id": "5iXNOLvg6EAw",
        "colab_type": "code",
        "colab": {},
        "outputId": "012aa1fb-b019-4fd1-966f-cee4a61d81b3"
      },
      "source": [
        "print(cat)"
      ],
      "execution_count": 0,
      "outputs": [
        {
          "output_type": "error",
          "ename": "NameError",
          "evalue": "name 'cat' is not defined",
          "traceback": [
            "\u001b[0;31m---------------------------------------------------------------------------\u001b[0m",
            "\u001b[0;31mNameError\u001b[0m                                 Traceback (most recent call last)",
            "\u001b[0;32m<ipython-input-27-34599fba884e>\u001b[0m in \u001b[0;36m<module>\u001b[0;34m\u001b[0m\n\u001b[0;32m----> 1\u001b[0;31m \u001b[0mprint\u001b[0m\u001b[0;34m(\u001b[0m\u001b[0mcat\u001b[0m\u001b[0;34m)\u001b[0m\u001b[0;34m\u001b[0m\u001b[0;34m\u001b[0m\u001b[0m\n\u001b[0m",
            "\u001b[0;31mNameError\u001b[0m: name 'cat' is not defined"
          ]
        }
      ]
    },
    {
      "cell_type": "markdown",
      "metadata": {
        "id": "LMpO3u7Z6EAy",
        "colab_type": "text"
      },
      "source": [
        "## Why functions\n",
        "\n",
        "It may not be clear why it is worth the trouble to divide a program into functions. There are several reasons:\n",
        "\n",
        "- Creating a new function gives you an opportunity to name a group of statements, which makes your program easier to read and debug.\n",
        "- Functions can make a program smaller by eliminating repetitive code. Later, if you make a change, you only have to make it in one place.\n",
        "- Dividing a long program into functions allows you to debug the parts one at a time and then assemble them into a working whole.\n",
        "- Well-designed functions are often useful for many programs. Once you write and debug one, you can reuse it."
      ]
    }
  ]
}