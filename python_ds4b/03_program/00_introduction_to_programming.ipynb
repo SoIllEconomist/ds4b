{
 "cells": [
  {
   "cell_type": "markdown",
   "metadata": {
    "slideshow": {
     "slide_type": "slide"
    }
   },
   "source": [
    "# Introduction, Types, & Expressions\n"
   ]
  },
  {
   "cell_type": "markdown",
   "metadata": {},
   "source": [
    "## Why Learn to Code?\n",
    "### Outcomes\n",
    "1. Fluency: (Python) procedural programming\n",
    "    - Use assignments, conditionals, & loops\n",
    "    - Create Python modules and programs\n",
    "\n",
    "2. Competency: object-oriented programming\n",
    "    - Recognize and use objects and classes\n",
    "    \n",
    "3. Knowledge: Foundations for Data Science"
   ]
  },
  {
   "cell_type": "markdown",
   "metadata": {
    "slideshow": {
     "slide_type": "slide"
    }
   },
   "source": [
    "# Why Python?\n",
    "- Low overhead\n",
    "    - little to learn before you start 'doing'\n",
    "    - easier for beginners\n",
    "    - designed with 'rapid prototyping' in mind\n",
    "- Highly relevant to non-CS majors\n",
    "    - NumPy, SciPy and Pandas heavily used\n",
    "- Modern language\n",
    "    - Popular for web applications\n",
    "    - Applicable to mobile app development\n",
    "    - Data Scientists Toolkit"
   ]
  },
  {
   "cell_type": "markdown",
   "metadata": {
    "slideshow": {
     "slide_type": "slide"
    }
   },
   "source": [
    "# Storing and Computing Data"
   ]
  },
  {
   "cell_type": "markdown",
   "metadata": {},
   "source": [
    "## Expressions\n",
    "An expression **represents** something\n",
    "    \n",
    "- Python **evaluates it** (turns it into a value)\n",
    "- Similar to a calculator"
   ]
  },
  {
   "cell_type": "code",
   "execution_count": 1,
   "metadata": {},
   "outputs": [
    {
     "data": {
      "text/plain": [
       "2.3"
      ]
     },
     "execution_count": 1,
     "metadata": {},
     "output_type": "execute_result"
    }
   ],
   "source": [
    "2.3 # Literal (Evaluates to self)"
   ]
  },
  {
   "cell_type": "code",
   "execution_count": 2,
   "metadata": {},
   "outputs": [
    {
     "data": {
      "text/plain": [
       "2.3000000000000003"
      ]
     },
     "execution_count": 2,
     "metadata": {},
     "output_type": "execute_result"
    }
   ],
   "source": [
    "(3*7 + 2) * 0.1 # An expression with four literals and some operators"
   ]
  },
  {
   "cell_type": "markdown",
   "metadata": {
    "slideshow": {
     "slide_type": "slide"
    }
   },
   "source": [
    "## Types\n",
    "A set of values and operations on these values\n",
    "    \n",
    "- Examples of operations: +,-,/,*\n",
    "- Meaning of operations depend on type\n",
    "    \n",
    "**MEMORIZE THIS DEFINITION**"
   ]
  },
  {
   "cell_type": "markdown",
   "metadata": {
    "slideshow": {
     "slide_type": "slide"
    }
   },
   "source": [
    "## How to tell the Type of a Values\n",
    "\n",
    "Command:\n",
    "```python\n",
    "type(<value>)\n",
    "```"
   ]
  },
  {
   "cell_type": "code",
   "execution_count": 3,
   "metadata": {},
   "outputs": [
    {
     "data": {
      "text/plain": [
       "int"
      ]
     },
     "execution_count": 3,
     "metadata": {},
     "output_type": "execute_result"
    }
   ],
   "source": [
    "type(2)"
   ]
  },
  {
   "cell_type": "markdown",
   "metadata": {
    "slideshow": {
     "slide_type": "slide"
    }
   },
   "source": [
    "## Type: float (floating point)\n",
    "\n",
    "**Values:** (approximations of) real numbers\n",
    "    \n",
    "- With a \".\": a **float** literal (e.g., 2.0)\n",
    "- Without a decimal: an **int** literal (e.g., 2)\n",
    "    \n",
    "**Operations:** + ,- ,* ,/ ,**\n",
    "\n",
    "- *Notice:* operator meaning can change from type to type\n",
    "\n",
    "**Exponent notation** useful for large (or small) values\n",
    "\n",
    "-22.51e6 is $-22.51 * 10^6$ or -22510000\n",
    "\n",
    " 22.51e-6 is $-22.51 * 10^{-6}$ or 0.00002251"
   ]
  },
  {
   "cell_type": "markdown",
   "metadata": {
    "slideshow": {
     "slide_type": "slide"
    }
   },
   "source": [
    "## Types: int (integers)\n",
    "\n",
    "**Values:** $\\dots , -3, -2, -1, 0, 1, 2, 3, 4, 5, \\dots$\n",
    "\n",
    "**Operations:** + ,- ,* , ** ,/ , // , %\n"
   ]
  },
  {
   "cell_type": "markdown",
   "metadata": {
    "slideshow": {
     "slide_type": "slide"
    }
   },
   "source": [
    "## Type: bool (boolean)\n",
    "\n",
    "**Values:** True, False\n",
    "    \n",
    "- Booleans literals `True` and `False` (MUST BE CAPITALIZED)\n",
    "    \n",
    "**Operations:** not, and, or\n",
    "    \n",
    "- not b: **True** if *b is false* and **False** if b is true\n",
    "- b and c: **True** if *both b and c are true*; **False** otherwise\n",
    "- b or c: **True** if *b is true or c is true*; **False** otherwise\n",
    "\n",
    "Often come from comparing `int` or `float` values\n",
    "    \n",
    "- Order comparisons: i<j i<=j i>=j i>j\n",
    "- Equality, inequality: i == j i!=j"
   ]
  },
  {
   "cell_type": "markdown",
   "metadata": {
    "slideshow": {
     "slide_type": "slide"
    }
   },
   "source": [
    "## Type: str (string) for text\n",
    "\n",
    "**Values:** any sequence of characters\n",
    "\n",
    "**Operation(s):** + (contenation, or concatenation)\n",
    "    \n",
    "- operator `+` changes from type to type\n",
    "    \n",
    "**String literal:** sequence of characters in quotes\n",
    "    \n",
    "- Double quotes: \"abc#&$g<\" or \"Hello World!\"\n",
    "- Single quotes: 'Hello World'\n",
    "\n",
    "**Concatenation** applies only to strings\n",
    "\n",
    "- \"ab\"  + \"cd\" evaluates to \"abcd\"\n",
    "- \"ab\" + 2 produces an **ERROR**"
   ]
  },
  {
   "cell_type": "code",
   "execution_count": 5,
   "metadata": {},
   "outputs": [
    {
     "name": "stdout",
     "output_type": "stream",
     "text": [
      "abcd\n"
     ]
    }
   ],
   "source": [
    "print(\"ab\" + \"cd\")"
   ]
  },
  {
   "cell_type": "code",
   "execution_count": 6,
   "metadata": {},
   "outputs": [
    {
     "ename": "TypeError",
     "evalue": "can only concatenate str (not \"int\") to str",
     "output_type": "error",
     "traceback": [
      "\u001b[0;31m---------------------------------------------------------------------------\u001b[0m",
      "\u001b[0;31mTypeError\u001b[0m                                 Traceback (most recent call last)",
      "\u001b[0;32m<ipython-input-6-62d7f34694c5>\u001b[0m in \u001b[0;36m<module>\u001b[0;34m\u001b[0m\n\u001b[0;32m----> 1\u001b[0;31m \u001b[0;34m\"ab\"\u001b[0m \u001b[0;34m+\u001b[0m \u001b[0;36m2\u001b[0m\u001b[0;34m\u001b[0m\u001b[0;34m\u001b[0m\u001b[0m\n\u001b[0m",
      "\u001b[0;31mTypeError\u001b[0m: can only concatenate str (not \"int\") to str"
     ]
    }
   ],
   "source": [
    "\"ab\" + 2"
   ]
  },
  {
   "cell_type": "code",
   "execution_count": 7,
   "metadata": {},
   "outputs": [
    {
     "data": {
      "text/plain": [
       "'AHHHHHH AHHHHHH AHHHHHH AHHHHHH AHHHHHH AHHHHHH AHHHHHH AHHHHHH AHHHHHH AHHHHHH AHHHHHH AHHHHHH AHHHHHH AHHHHHH AHHHHHH AHHHHHH AHHHHHH AHHHHHH AHHHHHH AHHHHHH '"
      ]
     },
     "execution_count": 7,
     "metadata": {},
     "output_type": "execute_result"
    }
   ],
   "source": [
    "\"AHHHHHH \"* 20"
   ]
  },
  {
   "cell_type": "code",
   "execution_count": 8,
   "metadata": {},
   "outputs": [
    {
     "data": {
      "text/plain": [
       "9"
      ]
     },
     "execution_count": 8,
     "metadata": {},
     "output_type": "execute_result"
    }
   ],
   "source": [
    "3 * 3"
   ]
  },
  {
   "cell_type": "code",
   "execution_count": 9,
   "metadata": {},
   "outputs": [
    {
     "ename": "NameError",
     "evalue": "name 'test' is not defined",
     "output_type": "error",
     "traceback": [
      "\u001b[0;31m---------------------------------------------------------------------------\u001b[0m",
      "\u001b[0;31mNameError\u001b[0m                                 Traceback (most recent call last)",
      "\u001b[0;32m<ipython-input-9-4e1243bd22c6>\u001b[0m in \u001b[0;36m<module>\u001b[0;34m\u001b[0m\n\u001b[0;32m----> 1\u001b[0;31m \u001b[0mtest\u001b[0m\u001b[0;34m\u001b[0m\u001b[0;34m\u001b[0m\u001b[0m\n\u001b[0m",
      "\u001b[0;31mNameError\u001b[0m: name 'test' is not defined"
     ]
    }
   ],
   "source": []
  },
  {
   "cell_type": "code",
   "execution_count": null,
   "metadata": {},
   "outputs": [],
   "source": []
  }
 ],
 "metadata": {
  "celltoolbar": "Slideshow",
  "kernelspec": {
   "display_name": "Python 3",
   "language": "python",
   "name": "python3"
  },
  "language_info": {
   "codemirror_mode": {
    "name": "ipython",
    "version": 3
   },
   "file_extension": ".py",
   "mimetype": "text/x-python",
   "name": "python",
   "nbconvert_exporter": "python",
   "pygments_lexer": "ipython3",
   "version": "3.7.3"
  }
 },
 "nbformat": 4,
 "nbformat_minor": 2
}
