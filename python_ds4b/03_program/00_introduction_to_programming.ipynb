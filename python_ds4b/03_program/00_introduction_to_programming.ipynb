{
  "nbformat": 4,
  "nbformat_minor": 0,
  "metadata": {
    "celltoolbar": "Slideshow",
    "kernelspec": {
      "display_name": "Python 3",
      "language": "python",
      "name": "python3"
    },
    "language_info": {
      "codemirror_mode": {
        "name": "ipython",
        "version": 3
      },
      "file_extension": ".py",
      "mimetype": "text/x-python",
      "name": "python",
      "nbconvert_exporter": "python",
      "pygments_lexer": "ipython3",
      "version": "3.7.3"
    },
    "colab": {
      "name": "00_introduction_to_programming.ipynb",
      "provenance": [],
      "include_colab_link": true
    }
  },
  "cells": [
    {
      "cell_type": "markdown",
      "metadata": {
        "id": "view-in-github",
        "colab_type": "text"
      },
      "source": [
        "<a href=\"https://colab.research.google.com/github/SoIllEconomist/ds4b/blob/master/python_ds4b/03_program/00_introduction_to_programming.ipynb\" target=\"_parent\"><img src=\"https://colab.research.google.com/assets/colab-badge.svg\" alt=\"Open In Colab\"/></a>"
      ]
    },
    {
      "cell_type": "markdown",
      "metadata": {
        "id": "rqEMHssT5rdK",
        "colab_type": "text"
      },
      "source": [
        "# Introduction, Types, & Expressions\n"
      ]
    },
    {
      "cell_type": "markdown",
      "metadata": {
        "id": "SSxZv8JW5rdM",
        "colab_type": "text"
      },
      "source": [
        "## Why Learn to Code?\n",
        "### Outcomes\n",
        "1. Fluency: (Python) procedural programming\n",
        "    - Use assignments, conditionals, & loops\n",
        "    - Create Python modules and programs\n",
        "\n",
        "2. Competency: object-oriented programming\n",
        "    - Recognize and use objects and classes\n",
        "    \n",
        "3. Knowledge: Foundations for Data Science"
      ]
    },
    {
      "cell_type": "markdown",
      "metadata": {
        "id": "0Jcc1ffD5rdO",
        "colab_type": "text"
      },
      "source": [
        "# Why Python?\n",
        "- Low overhead\n",
        "    - little to learn before you start 'doing'\n",
        "    - easier for beginners\n",
        "    - designed with 'rapid prototyping' in mind\n",
        "- Highly relevant to non-CS majors\n",
        "    - NumPy, SciPy and Pandas heavily used\n",
        "- Modern language\n",
        "    - Popular for web applications\n",
        "    - Applicable to mobile app development\n",
        "    - Data Scientists Toolkit"
      ]
    },
    {
      "cell_type": "markdown",
      "metadata": {
        "id": "cRs6_8l55rdP",
        "colab_type": "text"
      },
      "source": [
        "# Storing and Computing Data"
      ]
    },
    {
      "cell_type": "markdown",
      "metadata": {
        "id": "wR8no0po5rdQ",
        "colab_type": "text"
      },
      "source": [
        "## Expressions\n",
        "An expression **represents** something\n",
        "    \n",
        "- Python **evaluates it** (turns it into a value)\n",
        "- Similar to a calculator"
      ]
    },
    {
      "cell_type": "code",
      "metadata": {
        "id": "8Nbh8cKw5rdR",
        "colab_type": "code",
        "colab": {},
        "outputId": "f23d4d36-9e61-4070-eb34-b6449e740680"
      },
      "source": [
        "2.3 # Literal (Evaluates to self)"
      ],
      "execution_count": 0,
      "outputs": [
        {
          "output_type": "execute_result",
          "data": {
            "text/plain": [
              "2.3"
            ]
          },
          "metadata": {
            "tags": []
          },
          "execution_count": 1
        }
      ]
    },
    {
      "cell_type": "code",
      "metadata": {
        "id": "V3PIb9Sl5rdV",
        "colab_type": "code",
        "colab": {},
        "outputId": "edb7f76d-c818-43d0-aaff-66485d2b870b"
      },
      "source": [
        "(3*7 + 2) * 0.1 # An expression with four literals and some operators"
      ],
      "execution_count": 0,
      "outputs": [
        {
          "output_type": "execute_result",
          "data": {
            "text/plain": [
              "2.3000000000000003"
            ]
          },
          "metadata": {
            "tags": []
          },
          "execution_count": 2
        }
      ]
    },
    {
      "cell_type": "markdown",
      "metadata": {
        "id": "SH6kz5In5rdY",
        "colab_type": "text"
      },
      "source": [
        "## Types\n",
        "A set of values and operations on these values\n",
        "    \n",
        "- Examples of operations: +,-,/,*\n",
        "- Meaning of operations depend on type\n",
        "    \n",
        "**MEMORIZE THIS DEFINITION**"
      ]
    },
    {
      "cell_type": "markdown",
      "metadata": {
        "id": "l81a23jO5rdZ",
        "colab_type": "text"
      },
      "source": [
        "## How to tell the Type of a Values\n",
        "\n",
        "Command:\n",
        "```python\n",
        "type(<value>)\n",
        "```"
      ]
    },
    {
      "cell_type": "code",
      "metadata": {
        "id": "nhatk2Hr5rdZ",
        "colab_type": "code",
        "colab": {},
        "outputId": "5c9837a8-43d4-4c0d-87ba-b856ce34aeab"
      },
      "source": [
        "type(2)"
      ],
      "execution_count": 0,
      "outputs": [
        {
          "output_type": "execute_result",
          "data": {
            "text/plain": [
              "int"
            ]
          },
          "metadata": {
            "tags": []
          },
          "execution_count": 3
        }
      ]
    },
    {
      "cell_type": "markdown",
      "metadata": {
        "id": "tdwCEQ0q5rdd",
        "colab_type": "text"
      },
      "source": [
        "## Type: float (floating point)\n",
        "\n",
        "**Values:** (approximations of) real numbers\n",
        "    \n",
        "- With a \".\": a **float** literal (e.g., 2.0)\n",
        "- Without a decimal: an **int** literal (e.g., 2)\n",
        "    \n",
        "**Operations:** + ,- ,* ,/ ,**\n",
        "\n",
        "- *Notice:* operator meaning can change from type to type\n",
        "\n",
        "**Exponent notation** useful for large (or small) values\n",
        "\n",
        "-22.51e6 is $-22.51 * 10^6$ or -22510000\n",
        "\n",
        " 22.51e-6 is $-22.51 * 10^{-6}$ or 0.00002251"
      ]
    },
    {
      "cell_type": "markdown",
      "metadata": {
        "id": "rXKhkaj_5rde",
        "colab_type": "text"
      },
      "source": [
        "## Types: int (integers)\n",
        "\n",
        "**Values:** $\\dots , -3, -2, -1, 0, 1, 2, 3, 4, 5, \\dots$\n",
        "\n",
        "**Operations:** + ,- ,* , ** ,/ , // , %\n"
      ]
    },
    {
      "cell_type": "markdown",
      "metadata": {
        "id": "8c1cEQmN5rdf",
        "colab_type": "text"
      },
      "source": [
        "## Type: bool (boolean)\n",
        "\n",
        "**Values:** True, False\n",
        "    \n",
        "- Booleans literals `True` and `False` (MUST BE CAPITALIZED)\n",
        "    \n",
        "**Operations:** not, and, or\n",
        "    \n",
        "- not b: **True** if *b is false* and **False** if b is true\n",
        "- b and c: **True** if *both b and c are true*; **False** otherwise\n",
        "- b or c: **True** if *b is true or c is true*; **False** otherwise\n",
        "\n",
        "Often come from comparing `int` or `float` values\n",
        "    \n",
        "- Order comparisons: i<j i<=j i>=j i>j\n",
        "- Equality, inequality: i == j i!=j"
      ]
    },
    {
      "cell_type": "markdown",
      "metadata": {
        "id": "6_0YSgOS5rdg",
        "colab_type": "text"
      },
      "source": [
        "## Type: str (string) for text\n",
        "\n",
        "**Values:** any sequence of characters\n",
        "\n",
        "**Operation(s):** + (contenation, or concatenation)\n",
        "    \n",
        "- operator `+` changes from type to type\n",
        "    \n",
        "**String literal:** sequence of characters in quotes\n",
        "    \n",
        "- Double quotes: \"abc#&$g<\" or \"Hello World!\"\n",
        "- Single quotes: 'Hello World'\n",
        "\n",
        "**Concatenation** applies only to strings\n",
        "\n",
        "- \"ab\"  + \"cd\" evaluates to \"abcd\"\n",
        "- \"ab\" + 2 produces an **ERROR**"
      ]
    },
    {
      "cell_type": "code",
      "metadata": {
        "id": "0Mu09PYn5rdg",
        "colab_type": "code",
        "colab": {},
        "outputId": "4cc1365c-b247-47f7-907d-30364b02ef6a"
      },
      "source": [
        "print(\"ab\" + \"cd\")"
      ],
      "execution_count": 0,
      "outputs": [
        {
          "output_type": "stream",
          "text": [
            "abcd\n"
          ],
          "name": "stdout"
        }
      ]
    },
    {
      "cell_type": "code",
      "metadata": {
        "id": "dGjjN4dt5rdk",
        "colab_type": "code",
        "colab": {},
        "outputId": "9329888d-209c-4b74-f854-cafa81153e93"
      },
      "source": [
        "\"ab\" + 2"
      ],
      "execution_count": 0,
      "outputs": [
        {
          "output_type": "error",
          "ename": "TypeError",
          "evalue": "can only concatenate str (not \"int\") to str",
          "traceback": [
            "\u001b[0;31m---------------------------------------------------------------------------\u001b[0m",
            "\u001b[0;31mTypeError\u001b[0m                                 Traceback (most recent call last)",
            "\u001b[0;32m<ipython-input-6-62d7f34694c5>\u001b[0m in \u001b[0;36m<module>\u001b[0;34m\u001b[0m\n\u001b[0;32m----> 1\u001b[0;31m \u001b[0;34m\"ab\"\u001b[0m \u001b[0;34m+\u001b[0m \u001b[0;36m2\u001b[0m\u001b[0;34m\u001b[0m\u001b[0;34m\u001b[0m\u001b[0m\n\u001b[0m",
            "\u001b[0;31mTypeError\u001b[0m: can only concatenate str (not \"int\") to str"
          ]
        }
      ]
    },
    {
      "cell_type": "code",
      "metadata": {
        "id": "GOZSx62r5rdn",
        "colab_type": "code",
        "colab": {},
        "outputId": "7cc8af43-8e4c-46c5-c0cd-b4ed5efd5dee"
      },
      "source": [
        "\"AHHHHHH \"* 20"
      ],
      "execution_count": 0,
      "outputs": [
        {
          "output_type": "execute_result",
          "data": {
            "text/plain": [
              "'AHHHHHH AHHHHHH AHHHHHH AHHHHHH AHHHHHH AHHHHHH AHHHHHH AHHHHHH AHHHHHH AHHHHHH AHHHHHH AHHHHHH AHHHHHH AHHHHHH AHHHHHH AHHHHHH AHHHHHH AHHHHHH AHHHHHH AHHHHHH '"
            ]
          },
          "metadata": {
            "tags": []
          },
          "execution_count": 7
        }
      ]
    },
    {
      "cell_type": "code",
      "metadata": {
        "id": "cevqsiyj5rdq",
        "colab_type": "code",
        "colab": {},
        "outputId": "bb8f49bf-ed7b-44e0-9e5b-fa7fe030f71f"
      },
      "source": [
        "3 * 3"
      ],
      "execution_count": 0,
      "outputs": [
        {
          "output_type": "execute_result",
          "data": {
            "text/plain": [
              "9"
            ]
          },
          "metadata": {
            "tags": []
          },
          "execution_count": 8
        }
      ]
    },
    {
      "cell_type": "code",
      "metadata": {
        "id": "mSFEWZT35rdx",
        "colab_type": "code",
        "colab": {},
        "outputId": "eee2e789-6bfe-42c5-f287-d01bafbeb663"
      },
      "source": [
        ""
      ],
      "execution_count": 0,
      "outputs": [
        {
          "output_type": "error",
          "ename": "NameError",
          "evalue": "name 'test' is not defined",
          "traceback": [
            "\u001b[0;31m---------------------------------------------------------------------------\u001b[0m",
            "\u001b[0;31mNameError\u001b[0m                                 Traceback (most recent call last)",
            "\u001b[0;32m<ipython-input-9-4e1243bd22c6>\u001b[0m in \u001b[0;36m<module>\u001b[0;34m\u001b[0m\n\u001b[0;32m----> 1\u001b[0;31m \u001b[0mtest\u001b[0m\u001b[0;34m\u001b[0m\u001b[0;34m\u001b[0m\u001b[0m\n\u001b[0m",
            "\u001b[0;31mNameError\u001b[0m: name 'test' is not defined"
          ]
        }
      ]
    },
    {
      "cell_type": "code",
      "metadata": {
        "id": "rYnB3URK5rd0",
        "colab_type": "code",
        "colab": {}
      },
      "source": [
        ""
      ],
      "execution_count": 0,
      "outputs": []
    }
  ]
}