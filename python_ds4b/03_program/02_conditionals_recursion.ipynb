{
  "nbformat": 4,
  "nbformat_minor": 0,
  "metadata": {
    "celltoolbar": "Slideshow",
    "kernelspec": {
      "display_name": "Python 3",
      "language": "python",
      "name": "python3"
    },
    "language_info": {
      "codemirror_mode": {
        "name": "ipython",
        "version": 3
      },
      "file_extension": ".py",
      "mimetype": "text/x-python",
      "name": "python",
      "nbconvert_exporter": "python",
      "pygments_lexer": "ipython3",
      "version": "3.7.3"
    },
    "colab": {
      "name": "02_conditionals_recursion.ipynb",
      "provenance": [],
      "include_colab_link": true
    }
  },
  "cells": [
    {
      "cell_type": "markdown",
      "metadata": {
        "id": "view-in-github",
        "colab_type": "text"
      },
      "source": [
        "<a href=\"https://colab.research.google.com/github/SoIllEconomist/ds4b/blob/master/python_ds4b/03_program/02_conditionals_recursion.ipynb\" target=\"_parent\"><img src=\"https://colab.research.google.com/assets/colab-badge.svg\" alt=\"Open In Colab\"/></a>"
      ]
    },
    {
      "cell_type": "markdown",
      "metadata": {
        "id": "8_AL6olZ6Rl3",
        "colab_type": "text"
      },
      "source": [
        "# Conditionals and Recursion\n",
        "\n",
        "- `if` statement\n",
        "    - executes code depending on the state of the program"
      ]
    },
    {
      "cell_type": "code",
      "metadata": {
        "id": "f9ae3xjco5dd",
        "colab_type": "code",
        "colab": {
          "base_uri": "https://localhost:8080/",
          "height": 321
        },
        "outputId": "3dd7c776-81c1-4922-be10-bd65a1cad97c"
      },
      "source": [
        "from IPython.display import YouTubeVideo\n",
        "YouTubeVideo('9ooJaRkXyoM')"
      ],
      "execution_count": 3,
      "outputs": [
        {
          "output_type": "execute_result",
          "data": {
            "text/html": [
              "\n",
              "        <iframe\n",
              "            width=\"400\"\n",
              "            height=\"300\"\n",
              "            src=\"https://www.youtube.com/embed/9ooJaRkXyoM\"\n",
              "            frameborder=\"0\"\n",
              "            allowfullscreen\n",
              "        ></iframe>\n",
              "        "
            ],
            "text/plain": [
              "<IPython.lib.display.YouTubeVideo at 0x7efcc3428d68>"
            ],
            "image/jpeg": "[encoded data removed]"
          },
          "metadata": {
            "tags": []
          },
          "execution_count": 3
        }
      ]
    },
    {
      "cell_type": "markdown",
      "metadata": {
        "id": "Bt5QyiYR6Rl8",
        "colab_type": "text"
      },
      "source": [
        "## Floor division and modulus\n",
        "\n",
        "The **floor division** operator, //, divides two numbers and rounds down to an integer.\n",
        "\n",
        "Suppose you have a movie with a runtime of 105 minutes. You might want to know how long that is in hours.\n",
        "\n",
        "Conventional division returns a floating-point"
      ]
    },
    {
      "cell_type": "code",
      "metadata": {
        "id": "5WdZbvHd6Rl-",
        "colab_type": "code",
        "colab": {}
      },
      "source": [
        "minutes = 105"
      ],
      "execution_count": 0,
      "outputs": []
    },
    {
      "cell_type": "code",
      "metadata": {
        "id": "p1v4Wcl26RmC",
        "colab_type": "code",
        "outputId": "214b6121-ed45-4b76-e7e2-d3f1bb3319ba",
        "colab": {}
      },
      "source": [
        "minutes / 60"
      ],
      "execution_count": 0,
      "outputs": [
        {
          "output_type": "execute_result",
          "data": {
            "text/plain": [
              "1.75"
            ]
          },
          "metadata": {
            "tags": []
          },
          "execution_count": 2
        }
      ]
    },
    {
      "cell_type": "markdown",
      "metadata": {
        "id": "WUtbyxPH6RmG",
        "colab_type": "text"
      },
      "source": [
        "But we don’t normally write hours with decimal points. Floor division returns the integer number of hours, rounding down:"
      ]
    },
    {
      "cell_type": "code",
      "metadata": {
        "id": "OqQjoTWk6RmH",
        "colab_type": "code",
        "colab": {}
      },
      "source": [
        "hours = minutes // 60"
      ],
      "execution_count": 0,
      "outputs": []
    },
    {
      "cell_type": "code",
      "metadata": {
        "id": "Pw8B8bzp6RmN",
        "colab_type": "code",
        "outputId": "f5c7c964-1ea0-4422-ef78-347ac167bb60",
        "colab": {}
      },
      "source": [
        "hours"
      ],
      "execution_count": 0,
      "outputs": [
        {
          "output_type": "execute_result",
          "data": {
            "text/plain": [
              "1"
            ]
          },
          "metadata": {
            "tags": []
          },
          "execution_count": 5
        }
      ]
    },
    {
      "cell_type": "markdown",
      "metadata": {
        "id": "mKVwUsb16RmS",
        "colab_type": "text"
      },
      "source": [
        "**Modulus operator**, %, which divides two numbers and returns the remainder."
      ]
    },
    {
      "cell_type": "code",
      "metadata": {
        "id": "a_SEW1gZ6RmU",
        "colab_type": "code",
        "colab": {}
      },
      "source": [
        "remainder = minutes % 60"
      ],
      "execution_count": 0,
      "outputs": []
    },
    {
      "cell_type": "code",
      "metadata": {
        "id": "QOuhFUbH6RmX",
        "colab_type": "code",
        "outputId": "5dba54f8-e620-4113-dbc3-1ba53d445e46",
        "colab": {}
      },
      "source": [
        "remainder"
      ],
      "execution_count": 0,
      "outputs": [
        {
          "output_type": "execute_result",
          "data": {
            "text/plain": [
              "45"
            ]
          },
          "metadata": {
            "tags": []
          },
          "execution_count": 9
        }
      ]
    },
    {
      "cell_type": "code",
      "metadata": {
        "id": "vH-pV5Jd6Rma",
        "colab_type": "code",
        "colab": {}
      },
      "source": [
        "def movie_time(minutes):\n",
        "    \"\"\"Converts movie time from minutes \n",
        "    to hours minutes.\n",
        "    Output:\n",
        "    =========\n",
        "    \n",
        "    X hrs Y mins\n",
        "    \n",
        "    \"\"\"\n",
        "    hrs = minutes // 60\n",
        "    mins = minutes % 60\n",
        "    print(str(hrs) + ' hrs ' + str(mins) +' mins')"
      ],
      "execution_count": 0,
      "outputs": []
    },
    {
      "cell_type": "code",
      "metadata": {
        "id": "8WYDAVFT6Rme",
        "colab_type": "code",
        "outputId": "1a6eb172-b31f-4a2c-89b4-642ecb7de5c4",
        "colab": {}
      },
      "source": [
        "movie_time(105)"
      ],
      "execution_count": 0,
      "outputs": [
        {
          "output_type": "stream",
          "text": [
            "1 hrs 45 mins\n"
          ],
          "name": "stdout"
        }
      ]
    },
    {
      "cell_type": "markdown",
      "metadata": {
        "id": "bxGCows86Rmh",
        "colab_type": "text"
      },
      "source": [
        "## Boolean expressions\n",
        "\n",
        "A boolean expression is an expression that is either true or false. The following examples use the operator `==`, which compares two operands and produces `True` if they are equal and False otherwise:"
      ]
    },
    {
      "cell_type": "code",
      "metadata": {
        "id": "H46Nhqmp6Rmi",
        "colab_type": "code",
        "outputId": "edcfe199-8916-41a4-f7ed-7699660349df",
        "colab": {}
      },
      "source": [
        "5 == 5"
      ],
      "execution_count": 0,
      "outputs": [
        {
          "output_type": "execute_result",
          "data": {
            "text/plain": [
              "True"
            ]
          },
          "metadata": {
            "tags": []
          },
          "execution_count": 27
        }
      ]
    },
    {
      "cell_type": "code",
      "metadata": {
        "id": "eCbk2Q7F6Rml",
        "colab_type": "code",
        "outputId": "85d4e77b-59d0-46ec-808d-34b768c2a5cb",
        "colab": {}
      },
      "source": [
        "5 == 6"
      ],
      "execution_count": 0,
      "outputs": [
        {
          "output_type": "execute_result",
          "data": {
            "text/plain": [
              "False"
            ]
          },
          "metadata": {
            "tags": []
          },
          "execution_count": 28
        }
      ]
    },
    {
      "cell_type": "code",
      "metadata": {
        "id": "-vKppFsw6Rmn",
        "colab_type": "code",
        "outputId": "85306af0-600f-4330-be74-42da517ce4e2",
        "colab": {}
      },
      "source": [
        "type(True)"
      ],
      "execution_count": 0,
      "outputs": [
        {
          "output_type": "execute_result",
          "data": {
            "text/plain": [
              "bool"
            ]
          },
          "metadata": {
            "tags": []
          },
          "execution_count": 29
        }
      ]
    },
    {
      "cell_type": "code",
      "metadata": {
        "id": "vkcnYkbM6Rmq",
        "colab_type": "code",
        "outputId": "442b05f3-1ab1-4ff3-e5e5-134eb92b4bb4",
        "colab": {}
      },
      "source": [
        "type(False)"
      ],
      "execution_count": 0,
      "outputs": [
        {
          "output_type": "execute_result",
          "data": {
            "text/plain": [
              "bool"
            ]
          },
          "metadata": {
            "tags": []
          },
          "execution_count": 30
        }
      ]
    },
    {
      "cell_type": "markdown",
      "metadata": {
        "id": "aI32LIWG6Rmx",
        "colab_type": "text"
      },
      "source": [
        "The `==` operator is one of the relational operators; the others are:\n",
        "\n",
        "| Relational Operator | Description                     |\n",
        "|---------------------|---------------------------------|\n",
        "| x != y              | x is not equal to y             |\n",
        "| x > y               | x is greater than y             |\n",
        "| x < y               | x is less than y                |\n",
        "| x >= y              | x is greater than or equal to y |\n",
        "| x <= y              | x is less than or equal to y    |"
      ]
    },
    {
      "cell_type": "markdown",
      "metadata": {
        "id": "Dgzx8VAQ6Rmy",
        "colab_type": "text"
      },
      "source": [
        "## Logical operators\n",
        "\n",
        "There are three **logical operators**: \n",
        "    - and, or, and not. \n",
        "    \n",
        "The meaning of these operators is similar to their meaning in English. "
      ]
    },
    {
      "cell_type": "markdown",
      "metadata": {
        "id": "ty2iAGyb6Rmz",
        "colab_type": "text"
      },
      "source": [
        "For example, `x > 0` **and** `x < 10` is true only if x is greater than 0 and less than 10."
      ]
    },
    {
      "cell_type": "code",
      "metadata": {
        "id": "_g2Nrvdc6Rm0",
        "colab_type": "code",
        "outputId": "9aa3411e-2092-4aa5-905f-c776bc7c221d",
        "colab": {}
      },
      "source": [
        "5 > 0 and 5 < 10"
      ],
      "execution_count": 0,
      "outputs": [
        {
          "output_type": "execute_result",
          "data": {
            "text/plain": [
              "True"
            ]
          },
          "metadata": {
            "tags": []
          },
          "execution_count": 31
        }
      ]
    },
    {
      "cell_type": "code",
      "metadata": {
        "id": "lAwCas_l6Rm2",
        "colab_type": "code",
        "outputId": "e0a8b2ae-8fe2-4f8e-d406-edda08a03e2f",
        "colab": {}
      },
      "source": [
        "20 > 0 and 20 < 10"
      ],
      "execution_count": 0,
      "outputs": [
        {
          "output_type": "execute_result",
          "data": {
            "text/plain": [
              "False"
            ]
          },
          "metadata": {
            "tags": []
          },
          "execution_count": 32
        }
      ]
    },
    {
      "cell_type": "markdown",
      "metadata": {
        "id": "jjbjOxbM6Rm4",
        "colab_type": "text"
      },
      "source": [
        "`n%2 == 0` **or** `n%3 == 0` is true if either or both of the conditions is true, that is, if the number is divisible by 2 or 3"
      ]
    },
    {
      "cell_type": "code",
      "metadata": {
        "id": "Gpz4_Q_p6Rm5",
        "colab_type": "code",
        "outputId": "abe38868-5f84-47d7-c010-3fabadba8148",
        "colab": {}
      },
      "source": [
        "4 % 2 == 0 or 4 % 3 == 0"
      ],
      "execution_count": 0,
      "outputs": [
        {
          "output_type": "execute_result",
          "data": {
            "text/plain": [
              "True"
            ]
          },
          "metadata": {
            "tags": []
          },
          "execution_count": 33
        }
      ]
    },
    {
      "cell_type": "code",
      "metadata": {
        "id": "mVaILLFp6Rm7",
        "colab_type": "code",
        "outputId": "28c5e6c6-dd15-4860-b82d-e7bb6f1321d3",
        "colab": {}
      },
      "source": [
        "9 % 2 == 0 or 9 % 3 == 0"
      ],
      "execution_count": 0,
      "outputs": [
        {
          "output_type": "execute_result",
          "data": {
            "text/plain": [
              "True"
            ]
          },
          "metadata": {
            "tags": []
          },
          "execution_count": 34
        }
      ]
    },
    {
      "cell_type": "code",
      "metadata": {
        "id": "WoXA_hy_6Rm-",
        "colab_type": "code",
        "outputId": "e4bc24cc-a0e6-47ef-adb2-45e0a5c6d08a",
        "colab": {}
      },
      "source": [
        "9 % 2 == 0 or 10 % 3 == 0"
      ],
      "execution_count": 0,
      "outputs": [
        {
          "output_type": "execute_result",
          "data": {
            "text/plain": [
              "False"
            ]
          },
          "metadata": {
            "tags": []
          },
          "execution_count": 35
        }
      ]
    },
    {
      "cell_type": "markdown",
      "metadata": {
        "id": "3HWskYgs6RnA",
        "colab_type": "text"
      },
      "source": [
        "the not operator negates a boolean expression, so **not** `(x > y)` is true if x > y is false, that is, if x is less than or equal to y."
      ]
    },
    {
      "cell_type": "code",
      "metadata": {
        "id": "HcEJUIk46RnB",
        "colab_type": "code",
        "outputId": "439dcc3c-5487-4d02-e9a3-a6b484662267",
        "colab": {}
      },
      "source": [
        "not (10 > 5)"
      ],
      "execution_count": 0,
      "outputs": [
        {
          "output_type": "execute_result",
          "data": {
            "text/plain": [
              "False"
            ]
          },
          "metadata": {
            "tags": []
          },
          "execution_count": 36
        }
      ]
    },
    {
      "cell_type": "code",
      "metadata": {
        "id": "yKvMBF4l6RnH",
        "colab_type": "code",
        "outputId": "a2315ee7-7480-4a2e-efb2-1bdfe3f4ae6d",
        "colab": {}
      },
      "source": [
        "(10 > 5)"
      ],
      "execution_count": 0,
      "outputs": [
        {
          "output_type": "execute_result",
          "data": {
            "text/plain": [
              "True"
            ]
          },
          "metadata": {
            "tags": []
          },
          "execution_count": 37
        }
      ]
    },
    {
      "cell_type": "markdown",
      "metadata": {
        "id": "uensRwjf6RnJ",
        "colab_type": "text"
      },
      "source": [
        "## Conditional execution\n",
        "\n",
        "In order to write useful programs, we almost always need the ability to check conditions and change the behavior of the program accordingly. \n",
        "\n",
        "**Conditional statements** give us this ability. The simplest form is the if statement:"
      ]
    },
    {
      "cell_type": "code",
      "metadata": {
        "id": "C4URFOyv6RnK",
        "colab_type": "code",
        "outputId": "7cdc20b6-c108-48fa-9902-7741b8859ea0",
        "colab": {}
      },
      "source": [
        "x = 10 \n",
        "if x > 0:\n",
        "    print('x is positive')"
      ],
      "execution_count": 0,
      "outputs": [
        {
          "output_type": "stream",
          "text": [
            "x is positive\n"
          ],
          "name": "stdout"
        }
      ]
    },
    {
      "cell_type": "markdown",
      "metadata": {
        "id": "oWSD0coc6RnO",
        "colab_type": "text"
      },
      "source": [
        "The boolean expression after if is called the **condition**. If it is true, the indented statement runs. If not, nothing happens.\n",
        "\n",
        "`if` statements have the same structure as function definitions: a header followed by an indented body. \n",
        "\n",
        "Statements like this are called **compound statements**."
      ]
    },
    {
      "cell_type": "markdown",
      "metadata": {
        "id": "8MeVXpzr6RnP",
        "colab_type": "text"
      },
      "source": [
        "## Alternative execution\n",
        "\n",
        "A second form of the if statement is “alternative execution”, in which there are two possibilities and the condition determines which one runs. \n",
        "\n",
        "The alternatives are called **branches**, because they are branches in the flow of execution."
      ]
    },
    {
      "cell_type": "code",
      "metadata": {
        "id": "2qlAgrnS6RnQ",
        "colab_type": "code",
        "outputId": "507b2ce4-e459-48d3-a3d4-719e5330bb90",
        "colab": {}
      },
      "source": [
        "x = 10\n",
        "\n",
        "if x % 2 ==0:\n",
        "    print('x is even')\n",
        "else:\n",
        "    print('x is odd')\n"
      ],
      "execution_count": 0,
      "outputs": [
        {
          "output_type": "stream",
          "text": [
            "x is even\n"
          ],
          "name": "stdout"
        }
      ]
    },
    {
      "cell_type": "code",
      "metadata": {
        "id": "5-Xxq2yG6RnU",
        "colab_type": "code",
        "colab": {}
      },
      "source": [
        "x = 9\n",
        "\n",
        "if x % 2 ==0:\n",
        "    print('x is even')\n",
        "else:\n",
        "    print('x is odd')"
      ],
      "execution_count": 0,
      "outputs": []
    },
    {
      "cell_type": "markdown",
      "metadata": {
        "id": "A56FzimY6RnW",
        "colab_type": "text"
      },
      "source": [
        "## Chained conditionals\n",
        "\n",
        "Sometimes there are more than two possibilities and we need more than two branches. \n",
        "\n",
        "`elif` is an abbreviation of “else if”. \n",
        "\n",
        "Exactly one branch will run. \n",
        "\n",
        "There is no limit on the number of elif statements. \n",
        "\n",
        "If there is an else clause, it has to be at the end, but there doesn’t have to be one.\n",
        "\n",
        "One way to express a computation like that is a **chained conditional**:"
      ]
    },
    {
      "cell_type": "markdown",
      "metadata": {
        "id": "KToOnFix6RnX",
        "colab_type": "text"
      },
      "source": [
        "Change `x` and `y` to see what happens:"
      ]
    },
    {
      "cell_type": "code",
      "metadata": {
        "id": "RXEgbmjO6RnX",
        "colab_type": "code",
        "outputId": "e90f22da-f1ac-4d32-f958-f152153aa890",
        "colab": {}
      },
      "source": [
        "x = 10 # \n",
        "y = 11\n",
        "\n",
        "if x < y:\n",
        "    print('x is less than y')\n",
        "elif x > y:\n",
        "    print('x is greater than y')\n",
        "else:\n",
        "    print('x and y are equal')"
      ],
      "execution_count": 0,
      "outputs": [
        {
          "output_type": "stream",
          "text": [
            "x is less than y\n"
          ],
          "name": "stdout"
        }
      ]
    },
    {
      "cell_type": "markdown",
      "metadata": {
        "id": "dnzQ9oA56RnZ",
        "colab_type": "text"
      },
      "source": [
        "## Nested conditionals\n",
        "\n",
        "- One conditional can also be nested within another. \n",
        "\n",
        "- The outer conditional contains two branches. \n",
        "\n",
        "- The first branch contains a simple statement. \n",
        "\n",
        "- The second branch contains another if statement, which has two branches of its own. \n",
        "\n",
        "    - Those two branches are both simple statements, although they could have been conditional statements as well.\n",
        "\n"
      ]
    },
    {
      "cell_type": "markdown",
      "metadata": {
        "id": "pE5rZLh76Rna",
        "colab_type": "text"
      },
      "source": [
        "Change `x` and `y` to see what happens:"
      ]
    },
    {
      "cell_type": "code",
      "metadata": {
        "id": "wkcIs3hj6Rnb",
        "colab_type": "code",
        "outputId": "ac2dfb03-9a3c-4cee-8196-48441b5db9ae",
        "colab": {}
      },
      "source": [
        "x = 12\n",
        "y = 12\n",
        "\n",
        "if x == y:\n",
        "    print('x and y are equal')\n",
        "else:\n",
        "    if x < y:\n",
        "        print('x is less than y')\n",
        "    else:\n",
        "        print('x is greater than y')"
      ],
      "execution_count": 0,
      "outputs": [
        {
          "output_type": "stream",
          "text": [
            "x and y are equal\n"
          ],
          "name": "stdout"
        }
      ]
    },
    {
      "cell_type": "markdown",
      "metadata": {
        "id": "5JeJ1g2S6Rnd",
        "colab_type": "text"
      },
      "source": [
        "Although the indentation of the statements makes the structure apparent, nested conditionals become difficult to read very quickly. \n",
        "\n",
        "**It is a good idea to avoid them when you can.**"
      ]
    },
    {
      "cell_type": "markdown",
      "metadata": {
        "id": "sJEyuKEp6Rne",
        "colab_type": "text"
      },
      "source": [
        "## Recursion\n",
        "\n",
        "It is legal for one function to call another; it is also legal for a function to call itself. \n",
        "\n",
        "It may not be obvious why that is a good thing, but it turns out to be one of the most magical things a program can do. "
      ]
    },
    {
      "cell_type": "markdown",
      "metadata": {
        "id": "fxyz6MXQ6Rnf",
        "colab_type": "text"
      },
      "source": [
        "### What is recursion in Python?\n",
        "Recursion is the process of defining something in terms of itself.\n",
        "\n",
        "A physical world example would be to place two parallel mirrors facing each other. Any object in between them would be reflected recursively."
      ]
    },
    {
      "cell_type": "code",
      "metadata": {
        "id": "l9We9d9N6Rng",
        "colab_type": "code",
        "colab": {}
      },
      "source": [
        "def countdown(n):\n",
        "    if n <= 0:\n",
        "        print('Blastoff!')\n",
        "    else:\n",
        "        print(n)\n",
        "        countdown(n-1)"
      ],
      "execution_count": 0,
      "outputs": []
    },
    {
      "cell_type": "markdown",
      "metadata": {
        "id": "Q8j4TME06Rni",
        "colab_type": "text"
      },
      "source": [
        "- If n is 0 or negative, it outputs the word, “Blastoff!” \n",
        "\n",
        "- Otherwise, it outputs n and then calls a function named countdown—itself—passing n-1 as an argument.\n",
        "\n"
      ]
    },
    {
      "cell_type": "code",
      "metadata": {
        "id": "lAg-lAck6Rnj",
        "colab_type": "code",
        "outputId": "4cc7c818-954b-40b0-d489-0b4c9eb46466",
        "colab": {}
      },
      "source": [
        "countdown(5)"
      ],
      "execution_count": 0,
      "outputs": [
        {
          "output_type": "stream",
          "text": [
            "5\n",
            "4\n",
            "3\n",
            "2\n",
            "1\n",
            "Blastoff!\n"
          ],
          "name": "stdout"
        }
      ]
    },
    {
      "cell_type": "markdown",
      "metadata": {
        "id": "YUcXAxMW6Rnl",
        "colab_type": "text"
      },
      "source": [
        "## Infinite recursion\n",
        "\n",
        "- **Infinite recursion** is when a recursion never reaches a base case, it goes on making recursive calls forever, and the program never terminates.\n",
        "\n",
        "In most programming environments, a program with infinite recursion does not really run forever. Python reports an error message when the maximum recursion depth is reached:"
      ]
    },
    {
      "cell_type": "code",
      "metadata": {
        "id": "OVgXahb66Rnm",
        "colab_type": "code",
        "colab": {}
      },
      "source": [
        "def recursion():\n",
        "    recursion()"
      ],
      "execution_count": 0,
      "outputs": []
    },
    {
      "cell_type": "code",
      "metadata": {
        "id": "O9AI1D7A6Rno",
        "colab_type": "code",
        "outputId": "2113add0-ffb5-4065-9199-85d0d4bb765c",
        "colab": {}
      },
      "source": [
        "recursion()"
      ],
      "execution_count": 0,
      "outputs": [
        {
          "output_type": "error",
          "ename": "RecursionError",
          "evalue": "maximum recursion depth exceeded",
          "traceback": [
            "\u001b[0;31m---------------------------------------------------------------------------\u001b[0m",
            "\u001b[0;31mRecursionError\u001b[0m                            Traceback (most recent call last)",
            "\u001b[0;32m<ipython-input-58-c6e0f7eb0cde>\u001b[0m in \u001b[0;36m<module>\u001b[0;34m()\u001b[0m\n\u001b[0;32m----> 1\u001b[0;31m \u001b[0mrecursion\u001b[0m\u001b[0;34m(\u001b[0m\u001b[0;34m)\u001b[0m\u001b[0;34m\u001b[0m\u001b[0m\n\u001b[0m",
            "\u001b[0;32m<ipython-input-57-d9b9ba688751>\u001b[0m in \u001b[0;36mrecursion\u001b[0;34m()\u001b[0m\n\u001b[1;32m      1\u001b[0m \u001b[0;32mdef\u001b[0m \u001b[0mrecursion\u001b[0m\u001b[0;34m(\u001b[0m\u001b[0;34m)\u001b[0m\u001b[0;34m:\u001b[0m\u001b[0;34m\u001b[0m\u001b[0m\n\u001b[0;32m----> 2\u001b[0;31m     \u001b[0mrecursion\u001b[0m\u001b[0;34m(\u001b[0m\u001b[0;34m)\u001b[0m\u001b[0;34m\u001b[0m\u001b[0m\n\u001b[0m",
            "... last 1 frames repeated, from the frame below ...\n",
            "\u001b[0;32m<ipython-input-57-d9b9ba688751>\u001b[0m in \u001b[0;36mrecursion\u001b[0;34m()\u001b[0m\n\u001b[1;32m      1\u001b[0m \u001b[0;32mdef\u001b[0m \u001b[0mrecursion\u001b[0m\u001b[0;34m(\u001b[0m\u001b[0;34m)\u001b[0m\u001b[0;34m:\u001b[0m\u001b[0;34m\u001b[0m\u001b[0m\n\u001b[0;32m----> 2\u001b[0;31m     \u001b[0mrecursion\u001b[0m\u001b[0;34m(\u001b[0m\u001b[0;34m)\u001b[0m\u001b[0;34m\u001b[0m\u001b[0m\n\u001b[0m",
            "\u001b[0;31mRecursionError\u001b[0m: maximum recursion depth exceeded"
          ]
        }
      ]
    },
    {
      "cell_type": "markdown",
      "metadata": {
        "id": "vg0bgdD16Rnr",
        "colab_type": "text"
      },
      "source": [
        "## Keyboard Input\n",
        "\n",
        "- Python provides a built-in function called `input` that stops the program and waits for the user to type something. \n",
        "\n",
        "- When the user presses Return or Enter, the program resumes and input returns what the user typed as a string. "
      ]
    },
    {
      "cell_type": "code",
      "metadata": {
        "id": "AEID5ywj6Rnt",
        "colab_type": "code",
        "outputId": "c312ae64-0c0a-42a0-f15c-f53be1a13a9a",
        "colab": {}
      },
      "source": [
        "text = input() #Type Something in here... blah"
      ],
      "execution_count": 0,
      "outputs": [
        {
          "output_type": "stream",
          "text": [
            "blah\n"
          ],
          "name": "stdout"
        }
      ]
    },
    {
      "cell_type": "code",
      "metadata": {
        "id": "LWpqlWyy6Rnv",
        "colab_type": "code",
        "outputId": "7f7e090f-eda0-424b-aee6-fdcaf7480f39",
        "colab": {}
      },
      "source": [
        "text"
      ],
      "execution_count": 0,
      "outputs": [
        {
          "output_type": "execute_result",
          "data": {
            "text/plain": [
              "'blah'"
            ]
          },
          "metadata": {
            "tags": []
          },
          "execution_count": 60
        }
      ]
    },
    {
      "cell_type": "code",
      "metadata": {
        "id": "z_AtE4kW6Rnx",
        "colab_type": "code",
        "outputId": "307aca11-3f9c-43a8-950d-03627fafead1",
        "colab": {}
      },
      "source": [
        "number = input('Pick a number between 1 and 3:\\n')"
      ],
      "execution_count": 0,
      "outputs": [
        {
          "output_type": "stream",
          "text": [
            "Pick a number between 1 and 3:\n",
            "2\n"
          ],
          "name": "stdout"
        }
      ]
    },
    {
      "cell_type": "code",
      "metadata": {
        "id": "urlkCwD86Rn0",
        "colab_type": "code",
        "outputId": "f3cae356-fd9a-4f7d-ea43-f1743a47eb9c",
        "colab": {}
      },
      "source": [
        "number # Notice what type number is"
      ],
      "execution_count": 0,
      "outputs": [
        {
          "output_type": "execute_result",
          "data": {
            "text/plain": [
              "'2'"
            ]
          },
          "metadata": {
            "tags": []
          },
          "execution_count": 62
        }
      ]
    },
    {
      "cell_type": "code",
      "metadata": {
        "id": "YKi6MJZ_6Rn2",
        "colab_type": "code",
        "outputId": "fa20c82b-e307-4fe3-850d-b91c1744272a",
        "colab": {}
      },
      "source": [
        "int(number) # If we want an integer we must convert it."
      ],
      "execution_count": 0,
      "outputs": [
        {
          "output_type": "execute_result",
          "data": {
            "text/plain": [
              "2"
            ]
          },
          "metadata": {
            "tags": []
          },
          "execution_count": 63
        }
      ]
    },
    {
      "cell_type": "markdown",
      "metadata": {
        "id": "bli_OVAy6Rn4",
        "colab_type": "text"
      },
      "source": [
        "What if they typed out the digits instead?"
      ]
    },
    {
      "cell_type": "code",
      "metadata": {
        "id": "iqEyMSCU6Rn5",
        "colab_type": "code",
        "outputId": "58b36b23-663e-4f91-e3d4-2b95df840a65",
        "colab": {}
      },
      "source": [
        "number = input('Pick a number between 1 and 3:\\n')"
      ],
      "execution_count": 0,
      "outputs": [
        {
          "output_type": "stream",
          "text": [
            "Pick a number between 1 and 3:\n",
            "two\n"
          ],
          "name": "stdout"
        }
      ]
    },
    {
      "cell_type": "code",
      "metadata": {
        "id": "tR_wmapE6Rn-",
        "colab_type": "code",
        "outputId": "f4187cd5-b4ac-4ddf-9176-eec57a77b486",
        "colab": {}
      },
      "source": [
        "int(number)"
      ],
      "execution_count": 0,
      "outputs": [
        {
          "output_type": "error",
          "ename": "ValueError",
          "evalue": "invalid literal for int() with base 10: 'two'",
          "traceback": [
            "\u001b[0;31m---------------------------------------------------------------------------\u001b[0m",
            "\u001b[0;31mValueError\u001b[0m                                Traceback (most recent call last)",
            "\u001b[0;32m<ipython-input-65-23a75fe4b6c6>\u001b[0m in \u001b[0;36m<module>\u001b[0;34m()\u001b[0m\n\u001b[0;32m----> 1\u001b[0;31m \u001b[0mint\u001b[0m\u001b[0;34m(\u001b[0m\u001b[0mnumber\u001b[0m\u001b[0;34m)\u001b[0m\u001b[0;34m\u001b[0m\u001b[0m\n\u001b[0m",
            "\u001b[0;31mValueError\u001b[0m: invalid literal for int() with base 10: 'two'"
          ]
        }
      ]
    }
  ]
}