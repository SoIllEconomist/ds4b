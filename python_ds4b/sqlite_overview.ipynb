{
  "nbformat": 4,
  "nbformat_minor": 0,
  "metadata": {
    "celltoolbar": "Slideshow",
    "kernelspec": {
      "display_name": "Python 3",
      "language": "python",
      "name": "python3"
    },
    "language_info": {
      "codemirror_mode": {
        "name": "ipython",
        "version": 3
      },
      "file_extension": ".py",
      "mimetype": "text/x-python",
      "name": "python",
      "nbconvert_exporter": "python",
      "pygments_lexer": "ipython3",
      "version": "3.7.4"
    },
    "pycharm": {
      "stem_cell": {
        "cell_type": "raw",
        "metadata": {
          "collapsed": false
        },
        "source": []
      }
    },
    "colab": {
      "name": "00_sql_intro.ipynb",
      "provenance": [],
      "include_colab_link": true
    }
  },
  "cells": [
    {
      "cell_type": "markdown",
      "metadata": {
        "id": "view-in-github",
        "colab_type": "text"
      },
      "source": [
        "<a href=\"https://colab.research.google.com/github/SoIllEconomist/ds4b/blob/master/python_ds4b/sqlite_overview.ipynb\" target=\"_parent\"><img src=\"https://colab.research.google.com/assets/colab-badge.svg\" alt=\"Open In Colab\"/></a>"
      ]
    },
    {
      "cell_type": "markdown",
      "metadata": {
        "pycharm": {
          "name": "#%%\n"
        },
        "id": "Pm_xF82E96GM"
      },
      "source": [
        "# Why Learn SQL?\n"
      ]
    },
    {
      "cell_type": "markdown",
      "metadata": {
        "id": "Pe1JmFBf96GN"
      },
      "source": [
        "\n",
        "# What Is SQL and Why Is It Marketable?\n",
        "\n",
        "- It is an obvious statement that the business landscape is shifting rapidly.\n",
        "- Companies are investing vast amounts of capital to gather and warehouse data.\n",
        "- SQL, which stands for Structured Query Language, comes in. It provides a means to access and manipulate this data in meaningful ways and provide business insights not possible before.\n"
      ]
    },
    {
      "cell_type": "markdown",
      "metadata": {
        "id": "Lz7f8wxl96GO"
      },
      "source": [
        "\n",
        "# What Is SQL and Why Is It Marketable?\n",
        "\n",
        "- Businesses are gathering data at exponential rates, and there is an equally growing need for people who know how to analyze and manage it.\n",
        "- In recent years, data has suddenly become ubiquitous — yet few people know how to access it meaningfully, which has put SQL talent in high demand.\n"
      ]
    },
    {
      "cell_type": "markdown",
      "metadata": {
        "id": "EA7nvnc896GP"
      },
      "source": [
        "\n",
        "# Databases\n"
      ]
    },
    {
      "cell_type": "markdown",
      "metadata": {
        "id": "kMZbj_c-96GP"
      },
      "source": [
        "\n",
        "# What Is a Database?\n",
        "\n",
        "- A database is anything that collects and organizes data.\n",
        "  - A spreadsheet holding customer bookings is a database\n",
        "  - A plain-text file containing flight schedule data\n",
        "- Professionally we are referring to a relational database management system (RDBMS).\n",
        "  - RDBMS is simply a type of database that holds one or more tables that may have relationships to each other.\n"
      ]
    },
    {
      "cell_type": "markdown",
      "metadata": {
        "id": "K0rD5agT96GQ"
      },
      "source": [
        "\n",
        "# Exploring Relational Databases\n",
        "\n",
        "A table should be a familiar concept. It has columns and rows to store data, much like a spreadsheet. These tables can have relationships to each other, such as an `ORDER` table that refers to a `CUSTOMER` table for customer information.\n"
      ]
    },
    {
      "cell_type": "markdown",
      "metadata": {
        "id": "aTonwGZ_96GR"
      },
      "source": [
        "\n",
        "# Exploring Relational Databases\n",
        "\n",
        "Suppose we have an ORDER table with a field called CUSTOMER_ID\n",
        "\n",
        "\n",
        "| ORDER_ID | ORDER_DATE | SHIP_DATE  | CUSTOMER_ID | PRODUCT_ID | ORDER_QTY | SHIPPED |\n",
        "|----------|------------|------------|-------------|------------|-----------|---------|\n",
        "| 3        | 2018-04-20 | 2018-04-23 | 3           | 3          | 300       | false   |\n",
        "| 4        | 2018-04-18 | 2018-04-22 | 5           | 5          | 375       | false   |\n",
        "| 1        | 2018-04-15 | 2018-04-18 | 1           | 1          | 450       | false   |\n",
        "| 5        | 2018-04-17 | 2018-04-20 | 3           | 3          | 500       | false   |\n",
        "| 2        | 2018-04-18 | 2018-04-21 | 3           | 3          | 600       | false   |\n"
      ]
    },
    {
      "cell_type": "markdown",
      "metadata": {
        "id": "fhzOd6li96GR"
      },
      "source": [
        "\n",
        "# Exploring Relational Databases\n",
        "\n",
        "We can reasonably expect another table called CUSTOMER, which holds customer information\n",
        "\n",
        "| CUSTOMER_ID | NAME                  | REGION    | STREET_ADDRESS  | CITY     | STATE | ZIP   |\n",
        "|-------------|-----------------------|-----------|-----------------|----------|-------|-------|\n",
        "| 1           | LITE Industrial       | Southwest | 123 Ravine Way  | Irving   | TX    | 75014 |\n",
        "| 2           | REX Tooling Inc       | Southwest | 456 Collie Blvd | Dallas   | TX    | 75201 |\n",
        "| 3           | Re-Barre Construction | Southwest | 789 Windy Dr    | Irving   | TX    | 75032 |\n",
        "| 4           | Prairie Construction  | Southwest | 890 Long Rd     | Moore    | OK    | 62104 |\n",
        "| 5           | Marsh Lane Metals     | Southeast | 345 Marsh Ln    | Avondale | LA    | 79782 |\n"
      ]
    },
    {
      "cell_type": "markdown",
      "metadata": {
        "id": "4rqPEKjp96GS"
      },
      "source": [
        "\n",
        "# Exploring Relational Databases\n",
        "\n",
        "When we go through the `ORDER` table, we can use the `CUSTOMER_ID` to look up the customer information in the `CUSTOMER` table. This is the fundamental idea behind a “relational database,” where tables may have fields that point to information in other tables.\n"
      ]
    },
    {
      "cell_type": "markdown",
      "metadata": {
        "id": "E0CfNDct96GS"
      },
      "source": [
        "\n",
        "# Why Separate Tables?\n",
        "\n",
        "The motivation is _normalization_, which is separating the different types of data into their own tables rather than putting them in one table. If we had all information in a single table, it would be redundant, bloated, and very difficult to maintain.\n"
      ]
    },
    {
      "cell_type": "markdown",
      "metadata": {
        "id": "LrLS6y8C96GT"
      },
      "source": [
        "# SQLite\n",
        "# What is SQLite?\n",
        "\n",
        "SQLite is the most widely distributed database in the world. It is put on iPhones, iPads, Android devices, Windows phones, thermostats, car consoles, satellites, and many other modern devices that need to store and retrieve data easily.\n",
        "\n",
        "It excels where simplicity and low overhead is needed. It is also great for prototyping business databases.\n"
      ]
    },
    {
      "cell_type": "markdown",
      "metadata": {
        "id": "VQEC-mxw96GT"
      },
      "source": [
        "\n",
        "# What is SQLite?\n",
        "\n",
        "But every technology has a trade-off. Because it has no server managing access to it, it fails in multiuser environments where multiple people can simultaneously edit the SQLite file. Still, for our training purposes, SQLite is perfect.\n",
        "\n"
      ]
    }
  ]
}