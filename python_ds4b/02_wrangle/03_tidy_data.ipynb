{
  "nbformat": 4,
  "nbformat_minor": 0,
  "metadata": {
    "colab": {
      "name": "03_tidy_data.ipynb",
      "provenance": [],
      "include_colab_link": true
    },
    "kernelspec": {
      "name": "python3",
      "display_name": "Python 3"
    }
  },
  "cells": [
    {
      "cell_type": "markdown",
      "metadata": {
        "id": "view-in-github",
        "colab_type": "text"
      },
      "source": [
        "<a href=\"https://colab.research.google.com/github/SoIllEconomist/ds4b/blob/master/python_ds4b/02_wrangle/03_tidy_data.ipynb\" target=\"_parent\"><img src=\"https://colab.research.google.com/assets/colab-badge.svg\" alt=\"Open In Colab\"/></a>"
      ]
    },
    {
      "cell_type": "markdown",
      "metadata": {
        "id": "PwPh2WORkuBr",
        "colab_type": "text"
      },
      "source": [
        "# Tidy Data\n",
        "## Introduction\n",
        "\n",
        "In this chapter, you will learn a consistent way to organise your data in Python, an organisation called **tidy data**. Getting your data into this format requires some upfront work, but that work pays off in the long term. Once you have tidy data and the tidy tools provided by `pandas`, you will spend much less time munging data from one representation to another, allowing you to spend more time on the analytic questions at hand.\n",
        "\n",
        "This chapter will give you a practical introduction to tidy data and the accompanying tools in `pandas`. If you’d like to learn more about the underlying theory, you might enjoy the Tidy Data paper published in the Journal of Statistical Software, http://www.jstatsoft.org/v59/i10/paper.\n",
        "\n",
        "### Prerequisties\n",
        "\n",
        "In this chapter we'll focus on `pandas`, a package that provides tools to help tidy up your messy datasets. "
      ]
    },
    {
      "cell_type": "code",
      "metadata": {
        "id": "3fXHTZL_kqBZ",
        "colab_type": "code",
        "colab": {}
      },
      "source": [
        "import pandas as pd"
      ],
      "execution_count": 0,
      "outputs": []
    },
    {
      "cell_type": "markdown",
      "metadata": {
        "id": "vfVbcXVfndAr",
        "colab_type": "text"
      },
      "source": [
        "You can represent the same underlying data in multiple ways. The example below shows the same data organised in four different ways. Each dataset shows the same values of four variables country, year, population, and cases, but each dataset organises the values in a different way.\n",
        "\n",
        "**Table 1**\n",
        "\n",
        "| country     | year  | cases  | population |\n",
        "|-------------|-------|--------|------------|\n",
        "| Afghanistan | 1999  | 745    | 19987071   |\n",
        "| Afghanistan | 2000  | 2666   | 20595360   |\n",
        "| Brazil      | 1999  | 37737  | 172006362  |\n",
        "| Brazil      | 2000  | 80488  | 174504898  |\n",
        "| China       | 1999  | 212258 | 1272915272 |\n",
        "| China       | 2000  | 213766 | 1280428583 |\n",
        "\n",
        "**Table 2**\n",
        "\n",
        "| country     | year | type       | count     |\n",
        "|-------------|------|------------|-----------|\n",
        "| Afghanistan | 1999 | cases      | 745       |\n",
        "| Afghanistan | 1999 | population | 19987071  |\n",
        "| Afghanistan | 2000 | cases      | 2666      |\n",
        "| Afghanistan | 2000 | population | 20595360  |\n",
        "| Brazil      | 1999 | cases      | 37737     |\n",
        "| Brazil      | 1999 | population | 172006362 |\n",
        "\n",
        "**Table 3**\n",
        "\n",
        "| country     | year | rate              |\n",
        "|-------------|------|-------------------|\n",
        "| Afghanistan | 1999 | 745/19987071      |\n",
        "| Afghanistan | 2000 | 2666/20595360     |\n",
        "| Brazil      | 1999 | 37737/172006362   |\n",
        "| Brazil      | 2000 | 80488/174504898   |\n",
        "| China       | 1999 | 212258/1272915272 |\n",
        "| China       | 2000 | 213766/1280428583 |\n",
        "\n",
        "Data Spread accross two tables.\n",
        "\n",
        "**Table 4a: Cases**\n",
        "\n",
        "| country     | 1999   | 2000   |\n",
        "|-------------|--------|--------|\n",
        "| Afghanistan | 745    | 2666   |\n",
        "| Brazil      | 37737  | 80488  |\n",
        "| China       | 212258 | 213766 |\n",
        "\n",
        "**Table 4b: Population**\n",
        "\n",
        "| country     | 1999       | 2000       |\n",
        "|-------------|------------|------------|\n",
        "| Afghanistan | 19987071   | 20595360   |\n",
        "| Brazil      | 172006362  | 174504898  |\n",
        "| China       | 1272915272 | 1280428583 |\n",
        "\n",
        "These are all representations of the same underlying data, but they are not equally easy to use. One dataset, the tidy dataset, will be much easier to work with inside the tidyverse.\n",
        "\n",
        "There are three interrelated rules which make a dataset tidy:\n",
        "\n",
        "1. Each variable must have its own column.\n",
        "1. Each observation must have its own row.\n",
        "1. Each value must have its own cell.\n",
        "\n",
        "**Visual Representation of the rules**\n",
        "\n",
        "![Following three rules makes a dataset tidy: variables are in columns, observations are in rows, and values are in cells.](tidy-1.png)\n",
        "\n",
        "These three rules are interrelated because it’s impossible to only satisfy two of the three. That interrelationship leads to an even simpler set of practical instructions:\n",
        "\n",
        "1. Put each dataset in a DataFrame.\n",
        "1. Put each variable in a column.\n",
        "\n",
        "In this example, only **Table 1** is tidy. It’s the only representation where each column is a variable.\n",
        "\n",
        "*Why ensure that your data is tidy?* There are two main advantages:\n",
        "\n",
        "1. There’s a general advantage to picking one consistent way of storing data. If you have a consistent data structure, it’s easier to learn the tools that work with it because they have an underlying uniformity.\n",
        "\n",
        "1. There’s a specific advantage to placing variables in columns because it allows `pandas`’s vectorised nature to shine. As you learned, most built-in `pandas` functions work with vectors of values. That makes transforming tidy data feel particularly natural.\n",
        "\n",
        "!ll the other functions/methods in `pandas` are designed to work with tidy data. Here are a couple of small examples showing how you might work with\n"
      ]
    },
    {
      "cell_type": "code",
      "metadata": {
        "id": "TlpN7PO8nV9E",
        "colab_type": "code",
        "colab": {}
      },
      "source": [
        "from io import StringIO\n",
        "table1 = StringIO(\"\"\"country     | year  | cases  | population\n",
        "Afghanistan | 1999  | 745    | 19987071\n",
        "Afghanistan | 2000  | 2666   | 20595360\n",
        "Brazil      | 1999  | 37737  | 172006362\n",
        "Brazil      | 2000  | 80488  | 174504898\n",
        "China       | 1999  | 212258 | 1272915272\n",
        "China       | 2000  | 213766 | 1280428583\"\"\")\n",
        "\n",
        "table1 = pd.read_csv(table1, sep=\"|\", )"
      ],
      "execution_count": 0,
      "outputs": []
    },
    {
      "cell_type": "code",
      "metadata": {
        "id": "QNpgaZ6KwPWy",
        "colab_type": "code",
        "colab": {}
      },
      "source": [
        "table1.columns = table1.columns.str.strip()"
      ],
      "execution_count": 0,
      "outputs": []
    },
    {
      "cell_type": "markdown",
      "metadata": {
        "id": "Y2dgQalWvk2r",
        "colab_type": "text"
      },
      "source": [
        "Compute rate per 10,000"
      ]
    },
    {
      "cell_type": "code",
      "metadata": {
        "id": "xAa1jBwJugmD",
        "colab_type": "code",
        "colab": {
          "base_uri": "https://localhost:8080/",
          "height": 235
        },
        "outputId": "c3682b0c-a835-42ce-977f-20b45d32b69f"
      },
      "source": [
        "table1.assign(rate = lambda x: x[\"cases\"] / x[\"population\"] * 10000)"
      ],
      "execution_count": 14,
      "outputs": [
        {
          "output_type": "execute_result",
          "data": {
            "text/html": [
              "<div>\n",
              "<style scoped>\n",
              "    .dataframe tbody tr th:only-of-type {\n",
              "        vertical-align: middle;\n",
              "    }\n",
              "\n",
              "    .dataframe tbody tr th {\n",
              "        vertical-align: top;\n",
              "    }\n",
              "\n",
              "    .dataframe thead th {\n",
              "        text-align: right;\n",
              "    }\n",
              "</style>\n",
              "<table border=\"1\" class=\"dataframe\">\n",
              "  <thead>\n",
              "    <tr style=\"text-align: right;\">\n",
              "      <th></th>\n",
              "      <th>country</th>\n",
              "      <th>year</th>\n",
              "      <th>cases</th>\n",
              "      <th>population</th>\n",
              "      <th>rate</th>\n",
              "    </tr>\n",
              "  </thead>\n",
              "  <tbody>\n",
              "    <tr>\n",
              "      <th>0</th>\n",
              "      <td>Afghanistan</td>\n",
              "      <td>1999</td>\n",
              "      <td>745</td>\n",
              "      <td>19987071</td>\n",
              "      <td>0.372741</td>\n",
              "    </tr>\n",
              "    <tr>\n",
              "      <th>1</th>\n",
              "      <td>Afghanistan</td>\n",
              "      <td>2000</td>\n",
              "      <td>2666</td>\n",
              "      <td>20595360</td>\n",
              "      <td>1.294466</td>\n",
              "    </tr>\n",
              "    <tr>\n",
              "      <th>2</th>\n",
              "      <td>Brazil</td>\n",
              "      <td>1999</td>\n",
              "      <td>37737</td>\n",
              "      <td>172006362</td>\n",
              "      <td>2.193930</td>\n",
              "    </tr>\n",
              "    <tr>\n",
              "      <th>3</th>\n",
              "      <td>Brazil</td>\n",
              "      <td>2000</td>\n",
              "      <td>80488</td>\n",
              "      <td>174504898</td>\n",
              "      <td>4.612363</td>\n",
              "    </tr>\n",
              "    <tr>\n",
              "      <th>4</th>\n",
              "      <td>China</td>\n",
              "      <td>1999</td>\n",
              "      <td>212258</td>\n",
              "      <td>1272915272</td>\n",
              "      <td>1.667495</td>\n",
              "    </tr>\n",
              "    <tr>\n",
              "      <th>5</th>\n",
              "      <td>China</td>\n",
              "      <td>2000</td>\n",
              "      <td>213766</td>\n",
              "      <td>1280428583</td>\n",
              "      <td>1.669488</td>\n",
              "    </tr>\n",
              "  </tbody>\n",
              "</table>\n",
              "</div>"
            ],
            "text/plain": [
              "        country  year   cases  population      rate\n",
              "0  Afghanistan   1999     745    19987071  0.372741\n",
              "1  Afghanistan   2000    2666    20595360  1.294466\n",
              "2  Brazil        1999   37737   172006362  2.193930\n",
              "3  Brazil        2000   80488   174504898  4.612363\n",
              "4  China         1999  212258  1272915272  1.667495\n",
              "5  China         2000  213766  1280428583  1.669488"
            ]
          },
          "metadata": {
            "tags": []
          },
          "execution_count": 14
        }
      ]
    },
    {
      "cell_type": "markdown",
      "metadata": {
        "id": "PJw0_z2WxdDk",
        "colab_type": "text"
      },
      "source": [
        "Compute cases per year"
      ]
    },
    {
      "cell_type": "code",
      "metadata": {
        "id": "Gh_8oW4BxV5e",
        "colab_type": "code",
        "colab": {
          "base_uri": "https://localhost:8080/",
          "height": 89
        },
        "outputId": "f6babee6-1880-4991-feab-f667e472a663"
      },
      "source": [
        "table1.groupby('year')['cases'].count()"
      ],
      "execution_count": 20,
      "outputs": [
        {
          "output_type": "execute_result",
          "data": {
            "text/plain": [
              "year\n",
              "1999    3\n",
              "2000    3\n",
              "Name: cases, dtype: int64"
            ]
          },
          "metadata": {
            "tags": []
          },
          "execution_count": 20
        }
      ]
    },
    {
      "cell_type": "markdown",
      "metadata": {
        "id": "gbPKb6UFx7A3",
        "colab_type": "text"
      },
      "source": [
        "Visualise changes over time"
      ]
    },
    {
      "cell_type": "code",
      "metadata": {
        "id": "FrTLedoWxfmj",
        "colab_type": "code",
        "colab": {}
      },
      "source": [
        "import seaborn as sns"
      ],
      "execution_count": 0,
      "outputs": []
    },
    {
      "cell_type": "code",
      "metadata": {
        "id": "VPtqXnX7ygfQ",
        "colab_type": "code",
        "colab": {
          "base_uri": "https://localhost:8080/",
          "height": 279
        },
        "outputId": "4b68d197-c511-47f5-9c48-0301f1ac52b9"
      },
      "source": [
        "sns.lineplot(x='year',y='cases',hue='country',data=table1);"
      ],
      "execution_count": 30,
      "outputs": [
        {
          "output_type": "display_data",
          "data": {
            "image/png": "[encoded data removed]",
            "text/plain": [
              "<Figure size 432x288 with 1 Axes>"
            ]
          },
          "metadata": {
            "tags": []
          }
        }
      ]
    },
    {
      "cell_type": "markdown",
      "metadata": {
        "id": "Rl0lvRfAy870",
        "colab_type": "text"
      },
      "source": [
        "### Exercises\n",
        "1. Using prose, describe how the variables and observations are organised in each of the sample tables.\n",
        "\n",
        "1. Compute the rate for table2, and table4a + table4b. You will need to perform four operations:\n",
        "\n",
        "  1. Extract the number of TB cases per country per year.\n",
        "  1. Extract the matching population per country per year.\n",
        "  1. Divide cases by population, and multiply by 10000.\n",
        "  1. Store back in the appropriate place.\n",
        "Which representation is easiest to work with? Which is hardest? Why?\n",
        "\n",
        "1. Recreate the plot showing change in cases over time using table2 instead of table1. What do you need to do first?\n",
        "\n",
        "## Spreading and gathering\n",
        "\n",
        "The principles of tidy data seem so obvious that you might wonder if you’ll ever encounter a dataset that isn’t tidy. Unfortunately, however, most data that you will encounter will be untidy. There are two main reasons:\n",
        "\n",
        "1. Most people aren’t familiar with the principles of tidy data, and it’s hard to derive them yourself unless you spend a lot of time working with data.\n",
        "\n",
        "1. Data is often organised to facilitate some use other than analysis. For example, data is often organised to make entry as easy as possible.\n",
        "\n",
        "This means for most real analyses, you’ll need to do some tidying. The first step is always to figure out what the variables and observations are. Sometimes this is easy; other times you’ll need to consult with the people who originally generated the data. The second step is to resolve one of two common problems:\n",
        "\n",
        "1. One variable might be spread across multiple columns.\n",
        "\n",
        "1. One observation might be scattered across multiple rows.\n",
        "\n",
        "Typically a dataset will only suffer from one of these problems; it’ll only suffer from both if you’re really unlucky! To fix these problems, you’ll need the two most important functions in `pandas`: `melt()` and `pivot_table()`.\n",
        "\n",
        "### Melt (Gathering)\n",
        "A common problem is a dataset where some of the column names are not names of variables, but *values* of a variable. Take `table4a`: the column names *1999* and *2000* represent values of the year variable, and each row represents two observations, not one. E.g., we are unpivoting a DataFrame from wide format to long format, optionally leaving identifier variables set.\n",
        "\n",
        "This function is useful to massage a DataFrame into a format where one or more columns are identifier variables (id_vars), while all other columns, considered measured variables (value_vars), are “unpivoted” to the row axis, leaving just two non-identifier columns, ‘variable’ and ‘value’."
      ]
    },
    {
      "cell_type": "code",
      "metadata": {
        "id": "rNCqHb3M0qSG",
        "colab_type": "code",
        "colab": {}
      },
      "source": [
        "table4a = StringIO(\"\"\"country|1999|2000\n",
        "Afghanistan | 745    | 2666   \n",
        "Brazil      | 37737  | 80488  \n",
        "China       | 212258 | 213766 \n",
        "\"\"\")\n",
        "table4a = pd.read_csv(table4a, sep=\"|\")"
      ],
      "execution_count": 0,
      "outputs": []
    },
    {
      "cell_type": "code",
      "metadata": {
        "id": "9QO81Waa1F2U",
        "colab_type": "code",
        "colab": {
          "base_uri": "https://localhost:8080/",
          "height": 142
        },
        "outputId": "48b3a94c-b80c-4e0b-e8db-93095a5e5f1a"
      },
      "source": [
        "table4a"
      ],
      "execution_count": 32,
      "outputs": [
        {
          "output_type": "execute_result",
          "data": {
            "text/html": [
              "<div>\n",
              "<style scoped>\n",
              "    .dataframe tbody tr th:only-of-type {\n",
              "        vertical-align: middle;\n",
              "    }\n",
              "\n",
              "    .dataframe tbody tr th {\n",
              "        vertical-align: top;\n",
              "    }\n",
              "\n",
              "    .dataframe thead th {\n",
              "        text-align: right;\n",
              "    }\n",
              "</style>\n",
              "<table border=\"1\" class=\"dataframe\">\n",
              "  <thead>\n",
              "    <tr style=\"text-align: right;\">\n",
              "      <th></th>\n",
              "      <th>country</th>\n",
              "      <th>1999</th>\n",
              "      <th>2000</th>\n",
              "    </tr>\n",
              "  </thead>\n",
              "  <tbody>\n",
              "    <tr>\n",
              "      <th>0</th>\n",
              "      <td>Afghanistan</td>\n",
              "      <td>745</td>\n",
              "      <td>2666</td>\n",
              "    </tr>\n",
              "    <tr>\n",
              "      <th>1</th>\n",
              "      <td>Brazil</td>\n",
              "      <td>37737</td>\n",
              "      <td>80488</td>\n",
              "    </tr>\n",
              "    <tr>\n",
              "      <th>2</th>\n",
              "      <td>China</td>\n",
              "      <td>212258</td>\n",
              "      <td>213766</td>\n",
              "    </tr>\n",
              "  </tbody>\n",
              "</table>\n",
              "</div>"
            ],
            "text/plain": [
              "        country    1999    2000\n",
              "0  Afghanistan      745    2666\n",
              "1  Brazil         37737   80488\n",
              "2  China         212258  213766"
            ]
          },
          "metadata": {
            "tags": []
          },
          "execution_count": 32
        }
      ]
    },
    {
      "cell_type": "markdown",
      "metadata": {
        "id": "vuOZjTI91Kfo",
        "colab_type": "text"
      },
      "source": [
        "To tidy a dataset like this, we need to **melt** (gather) those columns into a new pair of variables. To describe that operation we need three parameters:\n",
        "\n",
        "- The set of columns that represent values, not variables. In this example, those are the columns 1999 and 2000.\n",
        "\n",
        "- The name of the identifier variable(s) is the `id_vars`, and here it is `country`. \n",
        "\n",
        "- The name of the variable whose values form the column names. We call that the `var_name`, and here it is `year`.\n",
        "\n",
        "- The name of the variable whose values are spread over the cells. We call that `value_name`, and here it’s the number of `cases`.\n",
        "\n",
        "Together those parameters generate the call to `pd.melt()`"
      ]
    },
    {
      "cell_type": "code",
      "metadata": {
        "id": "w0XbhNmu1HAX",
        "colab_type": "code",
        "colab": {
          "base_uri": "https://localhost:8080/",
          "height": 235
        },
        "outputId": "1b3a4fe7-502d-49f8-fad2-04e1639e3a47"
      },
      "source": [
        "pd.melt(table4a,\n",
        "        id_vars=[\"country\"],\n",
        "        value_vars=[\"1999\",\"2000\"],\n",
        "        var_name = \"year\",\n",
        "        value_name=\"cases\"\n",
        "        )"
      ],
      "execution_count": 37,
      "outputs": [
        {
          "output_type": "execute_result",
          "data": {
            "text/html": [
              "<div>\n",
              "<style scoped>\n",
              "    .dataframe tbody tr th:only-of-type {\n",
              "        vertical-align: middle;\n",
              "    }\n",
              "\n",
              "    .dataframe tbody tr th {\n",
              "        vertical-align: top;\n",
              "    }\n",
              "\n",
              "    .dataframe thead th {\n",
              "        text-align: right;\n",
              "    }\n",
              "</style>\n",
              "<table border=\"1\" class=\"dataframe\">\n",
              "  <thead>\n",
              "    <tr style=\"text-align: right;\">\n",
              "      <th></th>\n",
              "      <th>country</th>\n",
              "      <th>year</th>\n",
              "      <th>cases</th>\n",
              "    </tr>\n",
              "  </thead>\n",
              "  <tbody>\n",
              "    <tr>\n",
              "      <th>0</th>\n",
              "      <td>Afghanistan</td>\n",
              "      <td>1999</td>\n",
              "      <td>745</td>\n",
              "    </tr>\n",
              "    <tr>\n",
              "      <th>1</th>\n",
              "      <td>Brazil</td>\n",
              "      <td>1999</td>\n",
              "      <td>37737</td>\n",
              "    </tr>\n",
              "    <tr>\n",
              "      <th>2</th>\n",
              "      <td>China</td>\n",
              "      <td>1999</td>\n",
              "      <td>212258</td>\n",
              "    </tr>\n",
              "    <tr>\n",
              "      <th>3</th>\n",
              "      <td>Afghanistan</td>\n",
              "      <td>2000</td>\n",
              "      <td>2666</td>\n",
              "    </tr>\n",
              "    <tr>\n",
              "      <th>4</th>\n",
              "      <td>Brazil</td>\n",
              "      <td>2000</td>\n",
              "      <td>80488</td>\n",
              "    </tr>\n",
              "    <tr>\n",
              "      <th>5</th>\n",
              "      <td>China</td>\n",
              "      <td>2000</td>\n",
              "      <td>213766</td>\n",
              "    </tr>\n",
              "  </tbody>\n",
              "</table>\n",
              "</div>"
            ],
            "text/plain": [
              "        country  year   cases\n",
              "0  Afghanistan   1999     745\n",
              "1  Brazil        1999   37737\n",
              "2  China         1999  212258\n",
              "3  Afghanistan   2000    2666\n",
              "4  Brazil        2000   80488\n",
              "5  China         2000  213766"
            ]
          },
          "metadata": {
            "tags": []
          },
          "execution_count": 37
        }
      ]
    },
    {
      "cell_type": "markdown",
      "metadata": {
        "id": "0YP3w-TR4N4e",
        "colab_type": "text"
      },
      "source": [
        "Here there are only two columns, so we list them individually. Note that “1999” and “2000” are non-syntactic names (because they don’t start with a letter) so we have to surround them in backticks. To refresh your memory of the other ways to select columns. \n",
        "\n",
        "![Gathering table4 into a tidy form.](tidy-9.png)\n",
        "\n"
      ]
    },
    {
      "cell_type": "code",
      "metadata": {
        "id": "vZ8_sMIF2THW",
        "colab_type": "code",
        "colab": {}
      },
      "source": [
        ""
      ],
      "execution_count": 0,
      "outputs": []
    }
  ]
}