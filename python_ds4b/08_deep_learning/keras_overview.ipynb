{
  "nbformat": 4,
  "nbformat_minor": 0,
  "metadata": {
    "colab": {
      "name": "keras_overview.ipynb",
      "provenance": [],
      "include_colab_link": true
    },
    "kernelspec": {
      "name": "python3",
      "display_name": "Python 3"
    }
  },
  "cells": [
    {
      "cell_type": "markdown",
      "metadata": {
        "id": "view-in-github",
        "colab_type": "text"
      },
      "source": [
        "<a href=\"https://colab.research.google.com/github/SoIllEconomist/ds4b/blob/master/python_ds4b/08_deep_learning/keras_overview.ipynb\" target=\"_parent\"><img src=\"https://colab.research.google.com/assets/colab-badge.svg\" alt=\"Open In Colab\"/></a>"
      ]
    },
    {
      "cell_type": "markdown",
      "metadata": {
        "id": "uitgJX8VIy77",
        "colab_type": "text"
      },
      "source": [
        "# Keras\n",
        "Keras is a powerful and easy-to-use deep learning library for\n",
        "Theano and TensorFlow that provides a high-level neural\n",
        "networks API to develop and evaluate deep learning models.\n",
        "\n",
        "## Basic Example"
      ]
    },
    {
      "cell_type": "code",
      "metadata": {
        "id": "v0fePTCzIo5m",
        "colab_type": "code",
        "colab": {
          "base_uri": "https://localhost:8080/",
          "height": 377
        },
        "outputId": "c3870f7c-480b-44dd-bd75-0982e849e508"
      },
      "source": [
        "import numpy as np\n",
        "import tensorflow as tf\n",
        "from tensorflow import keras\n",
        "from keras.models import Sequential\n",
        "from keras.layers import Dense\n",
        "data = np.random.random((1000,100))\n",
        "labels = np.random.randint(2,size=(1000,1))\n",
        "model = Sequential()\n",
        "model.add(Dense(32,activation='relu',input_dim=100))\n",
        "model.add(Dense(1, activation='sigmoid'))\n",
        "model.compile(optimizer='rmsprop',\n",
        "              loss='binary_crossentropy',\n",
        "              metrics=['accuracy'])\n",
        "model.fit(data,labels,epochs=10,batch_size=32)\n",
        "predictions = model.predict(data)"
      ],
      "execution_count": 2,
      "outputs": [
        {
          "output_type": "stream",
          "text": [
            "Epoch 1/10\n",
            "1000/1000 [==============================] - 0s 192us/step - loss: 0.7085 - acc: 0.5060\n",
            "Epoch 2/10\n",
            "1000/1000 [==============================] - 0s 47us/step - loss: 0.7011 - acc: 0.5140\n",
            "Epoch 3/10\n",
            "1000/1000 [==============================] - 0s 40us/step - loss: 0.6950 - acc: 0.5340\n",
            "Epoch 4/10\n",
            "1000/1000 [==============================] - 0s 44us/step - loss: 0.6921 - acc: 0.5400\n",
            "Epoch 5/10\n",
            "1000/1000 [==============================] - 0s 42us/step - loss: 0.6900 - acc: 0.5420\n",
            "Epoch 6/10\n",
            "1000/1000 [==============================] - 0s 42us/step - loss: 0.6868 - acc: 0.5610\n",
            "Epoch 7/10\n",
            "1000/1000 [==============================] - 0s 42us/step - loss: 0.6828 - acc: 0.5640\n",
            "Epoch 8/10\n",
            "1000/1000 [==============================] - 0s 41us/step - loss: 0.6795 - acc: 0.5830\n",
            "Epoch 9/10\n",
            "1000/1000 [==============================] - 0s 42us/step - loss: 0.6769 - acc: 0.5760\n",
            "Epoch 10/10\n",
            "1000/1000 [==============================] - 0s 39us/step - loss: 0.6714 - acc: 0.5890\n"
          ],
          "name": "stdout"
        }
      ]
    },
    {
      "cell_type": "markdown",
      "metadata": {
        "id": "iyGQdVjCKHZ2",
        "colab_type": "text"
      },
      "source": [
        "## Data\n",
        "Your data needs to be stored as NumPy arrays or as a list of NumPy arrays. Ideally, you split the data in training and test sets, for which you can also resort\n",
        "to the `train_test_split` module of `sklearn.model_selection`.\n",
        "\n",
        "### Keras Data Sets"
      ]
    },
    {
      "cell_type": "code",
      "metadata": {
        "id": "LPz8KqWUJKhL",
        "colab_type": "code",
        "colab": {
          "base_uri": "https://localhost:8080/",
          "height": 161
        },
        "outputId": "89ee38b7-1225-4586-b32e-33ae9fd32c4d"
      },
      "source": [
        "from keras.datasets import boston_housing, mnist,cifar10,imdb\n",
        "(x_train,y_train),(x_test,y_test) = mnist.load_data()\n",
        "(x_train2,y_train2),(x_test2,y_test2) = boston_housing.load_data()\n",
        "(x_train3,y_train3),(x_test3,y_test3) = cifar10.load_data()\n",
        "(x_train4,y_train4),(x_test4,y_test4) = imdb.load_data(num_words=20000)\n",
        "num_classes = 10"
      ],
      "execution_count": 4,
      "outputs": [
        {
          "output_type": "stream",
          "text": [
            "Downloading data from https://s3.amazonaws.com/img-datasets/mnist.npz\n",
            "11493376/11490434 [==============================] - 1s 0us/step\n",
            "Downloading data from https://s3.amazonaws.com/keras-datasets/boston_housing.npz\n",
            "57344/57026 [==============================] - 0s 2us/step\n",
            "Downloading data from https://www.cs.toronto.edu/~kriz/cifar-10-python.tar.gz\n",
            "170500096/170498071 [==============================] - 6s 0us/step\n",
            "Downloading data from https://s3.amazonaws.com/text-datasets/imdb.npz\n",
            "17465344/17464789 [==============================] - 1s 0us/step\n"
          ],
          "name": "stdout"
        }
      ]
    },
    {
      "cell_type": "markdown",
      "metadata": {
        "id": "1_zsq1ZPLhwb",
        "colab_type": "text"
      },
      "source": [
        "## Preprocessing\n",
        "### Sequence Padding\n"
      ]
    },
    {
      "cell_type": "code",
      "metadata": {
        "id": "aopS5RJVKqan",
        "colab_type": "code",
        "colab": {}
      },
      "source": [
        "from keras.preprocessing import sequence\n",
        "x_train4 = sequence.pad_sequences(x_train4,maxlen=80)\n",
        "x_test4 = sequence.pad_sequences(x_test4,maxlen=80)"
      ],
      "execution_count": 0,
      "outputs": []
    },
    {
      "cell_type": "markdown",
      "metadata": {
        "id": "7FG9ZVphLsJZ",
        "colab_type": "text"
      },
      "source": [
        "### One-Hot Encoding"
      ]
    },
    {
      "cell_type": "code",
      "metadata": {
        "id": "CDclvBBzLrCZ",
        "colab_type": "code",
        "colab": {}
      },
      "source": [
        "from keras.utils import to_categorical\n",
        "Y_train = to_categorical(y_train, num_classes)\n",
        "Y_test = to_categorical(y_test, num_classes)\n",
        "Y_train3 = to_categorical(y_train3, num_classes)\n",
        "Y_test3 = to_categorical(y_test3, num_classes)"
      ],
      "execution_count": 0,
      "outputs": []
    },
    {
      "cell_type": "markdown",
      "metadata": {
        "id": "A8ssQJddL-P0",
        "colab_type": "text"
      },
      "source": [
        "### Standardization/Normalization\n"
      ]
    },
    {
      "cell_type": "code",
      "metadata": {
        "id": "muQK-V_2L2O8",
        "colab_type": "code",
        "colab": {}
      },
      "source": [
        "from sklearn.preprocessing import StandardScaler\n",
        "scaler = StandardScaler().fit(x_train2)\n",
        "standardized_X = scaler.transform(x_train2)\n",
        "standardized_X_test = scaler.transform(x_test2)"
      ],
      "execution_count": 0,
      "outputs": []
    },
    {
      "cell_type": "markdown",
      "metadata": {
        "id": "SAm9WYAjMIjA",
        "colab_type": "text"
      },
      "source": [
        "### Train-Test-Split"
      ]
    },
    {
      "cell_type": "code",
      "metadata": {
        "id": "9ml_li2AMFeV",
        "colab_type": "code",
        "colab": {
          "base_uri": "https://localhost:8080/",
          "height": 187
        },
        "outputId": "fa127fe9-1bc0-4e1a-80bb-57e71b05fa91"
      },
      "source": [
        "from sklearn.model_selection import train_test_split\n",
        "X_train5,X_test5,y_train5,y_test5 = train_test_split(X, y,test_size=0.33,random_state=42)"
      ],
      "execution_count": 20,
      "outputs": [
        {
          "output_type": "error",
          "ename": "NameError",
          "evalue": "ignored",
          "traceback": [
            "\u001b[0;31m---------------------------------------------------------------------------\u001b[0m",
            "\u001b[0;31mNameError\u001b[0m                                 Traceback (most recent call last)",
            "\u001b[0;32m<ipython-input-20-602fa9ee9cc9>\u001b[0m in \u001b[0;36m<module>\u001b[0;34m()\u001b[0m\n\u001b[1;32m      1\u001b[0m \u001b[0;32mfrom\u001b[0m \u001b[0msklearn\u001b[0m\u001b[0;34m.\u001b[0m\u001b[0mmodel_selection\u001b[0m \u001b[0;32mimport\u001b[0m \u001b[0mtrain_test_split\u001b[0m\u001b[0;34m\u001b[0m\u001b[0;34m\u001b[0m\u001b[0m\n\u001b[0;32m----> 2\u001b[0;31m \u001b[0mX_train5\u001b[0m\u001b[0;34m,\u001b[0m\u001b[0mX_test5\u001b[0m\u001b[0;34m,\u001b[0m\u001b[0my_train5\u001b[0m\u001b[0;34m,\u001b[0m\u001b[0my_test5\u001b[0m \u001b[0;34m=\u001b[0m \u001b[0mtrain_test_split\u001b[0m\u001b[0;34m(\u001b[0m\u001b[0mX\u001b[0m\u001b[0;34m,\u001b[0m \u001b[0my\u001b[0m\u001b[0;34m,\u001b[0m\u001b[0mtest_size\u001b[0m\u001b[0;34m=\u001b[0m\u001b[0;36m0.33\u001b[0m\u001b[0;34m,\u001b[0m\u001b[0mrandom_state\u001b[0m\u001b[0;34m=\u001b[0m\u001b[0;36m42\u001b[0m\u001b[0;34m)\u001b[0m\u001b[0;34m\u001b[0m\u001b[0;34m\u001b[0m\u001b[0m\n\u001b[0m",
            "\u001b[0;31mNameError\u001b[0m: name 'X' is not defined"
          ]
        }
      ]
    },
    {
      "cell_type": "markdown",
      "metadata": {
        "id": "YlurnvnyMQkQ",
        "colab_type": "text"
      },
      "source": [
        "## Model Architecture\n",
        "### Sequential Model\n"
      ]
    },
    {
      "cell_type": "code",
      "metadata": {
        "id": "-7MPYOCDMWUv",
        "colab_type": "code",
        "colab": {}
      },
      "source": [
        "from keras.models import Sequential\n",
        "model = Sequential()\n",
        "model2 = Sequential()\n",
        "model3 = Sequential()"
      ],
      "execution_count": 0,
      "outputs": []
    },
    {
      "cell_type": "markdown",
      "metadata": {
        "id": "Yisc5ARAMZpe",
        "colab_type": "text"
      },
      "source": [
        "### Multilayer Perceptron (MLP)\n",
        "#### Binary Classification"
      ]
    },
    {
      "cell_type": "code",
      "metadata": {
        "id": "scf-PmLSMZJY",
        "colab_type": "code",
        "colab": {}
      },
      "source": [
        "from keras.layers import Dense\n",
        "model.add(Dense(12,\n",
        "                input_dim=8,\n",
        "                kernel_initializer='uniform',\n",
        "                activation='relu'))\n",
        "model.add(Dense(8,kernel_initializer='uniform',activation='relu'))\n",
        "model.add(Dense(1,kernel_initializer='uniform',activation='sigmoid'))"
      ],
      "execution_count": 0,
      "outputs": []
    },
    {
      "cell_type": "markdown",
      "metadata": {
        "id": "o4HjwV5hMhhg",
        "colab_type": "text"
      },
      "source": [
        "#### Multi-Class Classification"
      ]
    },
    {
      "cell_type": "code",
      "metadata": {
        "id": "K_8rsJ2zMj8-",
        "colab_type": "code",
        "colab": {
          "base_uri": "https://localhost:8080/",
          "height": 127
        },
        "outputId": "e6fc845b-f3eb-4347-990e-eb1fb0813b37"
      },
      "source": [
        "from keras.layers import Dropout\n",
        "model.add(Dense(512,activation='relu',input_shape=(784,)))\n",
        "model.add(Dropout(0.2))\n",
        "model.add(Dense(512,activation='relu'))\n",
        "model.add(Dropout(0.2))\n",
        "model.add(Dense(10,activation='softmax'))"
      ],
      "execution_count": 16,
      "outputs": [
        {
          "output_type": "stream",
          "text": [
            "WARNING:tensorflow:From /usr/local/lib/python3.6/dist-packages/keras/backend/tensorflow_backend.py:148: The name tf.placeholder_with_default is deprecated. Please use tf.compat.v1.placeholder_with_default instead.\n",
            "\n",
            "WARNING:tensorflow:From /usr/local/lib/python3.6/dist-packages/keras/backend/tensorflow_backend.py:3733: calling dropout (from tensorflow.python.ops.nn_ops) with keep_prob is deprecated and will be removed in a future version.\n",
            "Instructions for updating:\n",
            "Please use `rate` instead of `keep_prob`. Rate should be set to `rate = 1 - keep_prob`.\n"
          ],
          "name": "stdout"
        }
      ]
    },
    {
      "cell_type": "markdown",
      "metadata": {
        "id": "YJZxnVJaMl65",
        "colab_type": "text"
      },
      "source": [
        "#### Regression\n"
      ]
    },
    {
      "cell_type": "code",
      "metadata": {
        "id": "GOWT8H5tMq31",
        "colab_type": "code",
        "colab": {}
      },
      "source": [
        "model.add(Dense(64,activation='relu',input_dim=(784,)))\n",
        "model.add(Dense(1))"
      ],
      "execution_count": 0,
      "outputs": []
    },
    {
      "cell_type": "markdown",
      "metadata": {
        "id": "5DlLMhwvM3Ey",
        "colab_type": "text"
      },
      "source": [
        "## Convoluational Neural Network (CNN)\n",
        "\n"
      ]
    },
    {
      "cell_type": "code",
      "metadata": {
        "id": "33Q9l_I1M8kT",
        "colab_type": "code",
        "colab": {}
      },
      "source": [
        "from keras.layers import Activation,Conv2D,MaxPooling2D,Flatten\n",
        "model2.add(Conv2D(32,(3,3),padding='same',input_shape=x_train.shape[1:] + (1,)))\n",
        "model2.add(Activation('relu'))\n",
        "model2.add(Conv2D(32,(3,3)))\n",
        "model2.add(Activation('relu'))\n",
        "model2.add(MaxPooling2D(pool_size=(2,2)))\n",
        "model2.add(Dropout(0.25))\n",
        "model2.add(Conv2D(64,(3,3), padding='same'))\n",
        "model2.add(Activation('relu'))\n",
        "model2.add(Conv2D(64,(3, 3)))\n",
        "model2.add(Activation('relu'))\n",
        "model2.add(MaxPooling2D(pool_size=(2,2)))\n",
        "model2.add(Dropout(0.25))\n",
        "model2.add(Flatten())\n",
        "model2.add(Dense(512))\n",
        "model2.add(Activation('relu'))\n",
        "model2.add(Dropout(0.5))\n",
        "model2.add(Dense(num_classes))\n",
        "model2.add(Activation('softmax'))"
      ],
      "execution_count": 0,
      "outputs": []
    },
    {
      "cell_type": "markdown",
      "metadata": {
        "id": "K5dcG2onM-MX",
        "colab_type": "text"
      },
      "source": [
        "## Recurrent Neural Network (RNN)"
      ]
    },
    {
      "cell_type": "code",
      "metadata": {
        "id": "4ppYbez8NA5H",
        "colab_type": "code",
        "colab": {
          "base_uri": "https://localhost:8080/",
          "height": 367
        },
        "outputId": "fc5ac2b6-5c4b-4cf3-b3cc-4b936567f41a"
      },
      "source": [
        "from keras.klayers import Embedding,LSTM\n",
        "model3.add(Embedding(20000,128))\n",
        "model3.add(LSTM(128,dropout=0.2,recurrent_dropout=0.2))\n",
        "model3.add(Dense(1,activation='sigmoid'))"
      ],
      "execution_count": 19,
      "outputs": [
        {
          "output_type": "error",
          "ename": "ModuleNotFoundError",
          "evalue": "ignored",
          "traceback": [
            "\u001b[0;31m---------------------------------------------------------------------------\u001b[0m",
            "\u001b[0;31mModuleNotFoundError\u001b[0m                       Traceback (most recent call last)",
            "\u001b[0;32m<ipython-input-19-3eb2517ce60f>\u001b[0m in \u001b[0;36m<module>\u001b[0;34m()\u001b[0m\n\u001b[0;32m----> 1\u001b[0;31m \u001b[0;32mfrom\u001b[0m \u001b[0mkeras\u001b[0m\u001b[0;34m.\u001b[0m\u001b[0mklayers\u001b[0m \u001b[0;32mimport\u001b[0m \u001b[0mEmbedding\u001b[0m\u001b[0;34m,\u001b[0m\u001b[0mLSTM\u001b[0m\u001b[0;34m\u001b[0m\u001b[0;34m\u001b[0m\u001b[0m\n\u001b[0m\u001b[1;32m      2\u001b[0m \u001b[0mmodel3\u001b[0m\u001b[0;34m.\u001b[0m\u001b[0madd\u001b[0m\u001b[0;34m(\u001b[0m\u001b[0mEmbedding\u001b[0m\u001b[0;34m(\u001b[0m\u001b[0;36m20000\u001b[0m\u001b[0;34m,\u001b[0m\u001b[0;36m128\u001b[0m\u001b[0;34m)\u001b[0m\u001b[0;34m)\u001b[0m\u001b[0;34m\u001b[0m\u001b[0;34m\u001b[0m\u001b[0m\n\u001b[1;32m      3\u001b[0m \u001b[0mmodel3\u001b[0m\u001b[0;34m.\u001b[0m\u001b[0madd\u001b[0m\u001b[0;34m(\u001b[0m\u001b[0mLSTM\u001b[0m\u001b[0;34m(\u001b[0m\u001b[0;36m128\u001b[0m\u001b[0;34m,\u001b[0m\u001b[0mdropout\u001b[0m\u001b[0;34m=\u001b[0m\u001b[0;36m0.2\u001b[0m\u001b[0;34m,\u001b[0m\u001b[0mrecurrent_dropout\u001b[0m\u001b[0;34m=\u001b[0m\u001b[0;36m0.2\u001b[0m\u001b[0;34m)\u001b[0m\u001b[0;34m)\u001b[0m\u001b[0;34m\u001b[0m\u001b[0;34m\u001b[0m\u001b[0m\n\u001b[1;32m      4\u001b[0m \u001b[0mmodel3\u001b[0m\u001b[0;34m.\u001b[0m\u001b[0madd\u001b[0m\u001b[0;34m(\u001b[0m\u001b[0mDense\u001b[0m\u001b[0;34m(\u001b[0m\u001b[0;36m1\u001b[0m\u001b[0;34m,\u001b[0m\u001b[0mactivation\u001b[0m\u001b[0;34m=\u001b[0m\u001b[0;34m'sigmoid'\u001b[0m\u001b[0;34m)\u001b[0m\u001b[0;34m)\u001b[0m\u001b[0;34m\u001b[0m\u001b[0;34m\u001b[0m\u001b[0m\n",
            "\u001b[0;31mModuleNotFoundError\u001b[0m: No module named 'keras.klayers'",
            "",
            "\u001b[0;31m---------------------------------------------------------------------------\u001b[0;32m\nNOTE: If your import is failing due to a missing package, you can\nmanually install dependencies using either !pip or !apt.\n\nTo view examples of installing some common dependencies, click the\n\"Open Examples\" button below.\n\u001b[0;31m---------------------------------------------------------------------------\u001b[0m\n"
          ]
        }
      ]
    },
    {
      "cell_type": "markdown",
      "metadata": {
        "id": "rGndi8-QND7H",
        "colab_type": "text"
      },
      "source": [
        "## Inspect Model"
      ]
    },
    {
      "cell_type": "code",
      "metadata": {
        "id": "Xuyzux4pNFHb",
        "colab_type": "code",
        "colab": {}
      },
      "source": [
        "model.output_shape #Model output shape\n",
        "model.summary() #Model summary representation\n",
        "model.get_config() #Model configuration\n",
        "model.get_weights() #List all weigh tensors in the model"
      ],
      "execution_count": 0,
      "outputs": []
    },
    {
      "cell_type": "markdown",
      "metadata": {
        "id": "YVh_-rttNSo7",
        "colab_type": "text"
      },
      "source": [
        "## Compile Model\n",
        "### MLP: Binary Classification\n"
      ]
    },
    {
      "cell_type": "code",
      "metadata": {
        "id": "ituVLp7qNW6n",
        "colab_type": "code",
        "colab": {}
      },
      "source": [
        "model.compile(optimizer='adam',loss='binary_crossentropy', metrics=['accuracy']) "
      ],
      "execution_count": 0,
      "outputs": []
    },
    {
      "cell_type": "markdown",
      "metadata": {
        "id": "EFMvFSDdNbSy",
        "colab_type": "text"
      },
      "source": [
        "### MLP: Multi-Class Classification\n"
      ]
    },
    {
      "cell_type": "code",
      "metadata": {
        "id": "xc7TOraCNfiI",
        "colab_type": "code",
        "colab": {}
      },
      "source": [
        "model.compile(optimizer='rmsprop',loss='categorical_crossentropy',metrics=['accuracy'])"
      ],
      "execution_count": 0,
      "outputs": []
    },
    {
      "cell_type": "markdown",
      "metadata": {
        "id": "qjb82dU9Njil",
        "colab_type": "text"
      },
      "source": [
        "### Regression"
      ]
    },
    {
      "cell_type": "code",
      "metadata": {
        "id": "B_zm18QmNp9R",
        "colab_type": "code",
        "colab": {}
      },
      "source": [
        "model.compile(optimizer='rmsprop', loss='mse', metrics=['mae'])"
      ],
      "execution_count": 0,
      "outputs": []
    },
    {
      "cell_type": "markdown",
      "metadata": {
        "id": "0sBq08qXN2jk",
        "colab_type": "text"
      },
      "source": [
        "## Model Training\n"
      ]
    },
    {
      "cell_type": "code",
      "metadata": {
        "id": "22hFOdZxN3_X",
        "colab_type": "code",
        "colab": {}
      },
      "source": [
        "model3.fit(x_train4,\n",
        "           y_train4,\n",
        "           batch_size=32,\n",
        "           epochs=15,\n",
        "           verbose=1,\n",
        "           validation_data=(x_test4,y_test4))"
      ],
      "execution_count": 0,
      "outputs": []
    },
    {
      "cell_type": "markdown",
      "metadata": {
        "id": "-MgBJI9lOAk8",
        "colab_type": "text"
      },
      "source": [
        "## Evaluate Model Performance"
      ]
    },
    {
      "cell_type": "code",
      "metadata": {
        "id": "Lv1ewY4DOIih",
        "colab_type": "code",
        "colab": {}
      },
      "source": [
        "score = model3.evaluate(x_test,y_test, batch_size=32)"
      ],
      "execution_count": 0,
      "outputs": []
    },
    {
      "cell_type": "markdown",
      "metadata": {
        "id": "yEbisowgOJZp",
        "colab_type": "text"
      },
      "source": [
        "## Prediction\n"
      ]
    },
    {
      "cell_type": "code",
      "metadata": {
        "id": "WpYMC4b9ONuj",
        "colab_type": "code",
        "colab": {}
      },
      "source": [
        "model3.predict(x_test4, batch_size=32)\n",
        "model3.predict_classes(x_test4,batch_size=32)"
      ],
      "execution_count": 0,
      "outputs": []
    },
    {
      "cell_type": "markdown",
      "metadata": {
        "id": "MPi1kMjDOPq0",
        "colab_type": "text"
      },
      "source": [
        "## Save/Reload Models"
      ]
    },
    {
      "cell_type": "code",
      "metadata": {
        "id": "_dm1xtm8OTH1",
        "colab_type": "code",
        "colab": {}
      },
      "source": [
        "from keras.models import load_model\n",
        "model3.save('model_file.h5')\n",
        "my_model = load_model('my_model.h5')"
      ],
      "execution_count": 0,
      "outputs": []
    },
    {
      "cell_type": "markdown",
      "metadata": {
        "id": "r2FS_0wWOU2e",
        "colab_type": "text"
      },
      "source": [
        "## Model Fine-tuning\n",
        "### Optimization Parameters"
      ]
    },
    {
      "cell_type": "code",
      "metadata": {
        "id": "Y00ZLaZuOYU4",
        "colab_type": "code",
        "colab": {}
      },
      "source": [
        "from keras.optimizers import RMSprop\n",
        "opt = RMSprop(lr=0.0001, decay=1e-6)\n",
        "model2.compile(loss='categorical_crossentropy', optimizer=opt, metrics=['accuracy'])"
      ],
      "execution_count": 0,
      "outputs": []
    },
    {
      "cell_type": "markdown",
      "metadata": {
        "id": "EwAPmoifOaql",
        "colab_type": "text"
      },
      "source": [
        "### Early Stopping\n"
      ]
    },
    {
      "cell_type": "code",
      "metadata": {
        "id": "o7ZANNtxOct2",
        "colab_type": "code",
        "colab": {}
      },
      "source": [
        "from keras.callbacks import EarlyStopping\n",
        "early_stopping_monitor = EarlyStopping(patience=2)\n",
        "model3.fit(x_train4, \n",
        "           y_train4,\n",
        "           batch_size=32,\n",
        "           epochs=15,\n",
        "           validation_data=(x_test4,y_test4),\n",
        "           callbacks=[early_stopping_monitor])"
      ],
      "execution_count": 0,
      "outputs": []
    }
  ]
}