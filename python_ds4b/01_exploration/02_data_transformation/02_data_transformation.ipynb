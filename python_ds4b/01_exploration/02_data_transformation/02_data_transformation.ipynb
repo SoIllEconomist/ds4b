{
  "nbformat": 4,
  "nbformat_minor": 0,
  "metadata": {
    "kernelspec": {
      "display_name": "Python 3",
      "language": "python",
      "name": "python3"
    },
    "language_info": {
      "codemirror_mode": {
        "name": "ipython",
        "version": 3
      },
      "file_extension": ".py",
      "mimetype": "text/x-python",
      "name": "python",
      "nbconvert_exporter": "python",
      "pygments_lexer": "ipython3",
      "version": "3.5.3"
    },
    "pycharm": {
      "stem_cell": {
        "cell_type": "raw",
        "source": [],
        "metadata": {
          "collapsed": false
        }
      }
    },
    "colab": {
      "name": "02_data_transformation.ipynb",
      "provenance": [],
      "include_colab_link": true
    }
  },
  "cells": [
    {
      "cell_type": "markdown",
      "metadata": {
        "id": "view-in-github",
        "colab_type": "text"
      },
      "source": [
        "<a href=\"https://colab.research.google.com/github/SoIllEconomist/ds4b/blob/master/python_ds4b/01_exploration/02_data_transformation/02_data_transformation.ipynb\" target=\"_parent\"><img src=\"https://colab.research.google.com/assets/colab-badge.svg\" alt=\"Open In Colab\"/></a>"
      ]
    },
    {
      "cell_type": "markdown",
      "metadata": {
        "id": "u9ta08h4j6-j",
        "colab_type": "text"
      },
      "source": [
        "# Data Transformation\n",
        "\n",
        "## Introduction\n",
        "\n",
        "Visualisation is an important tool for insight generation, but it is rare that you get the data in exactly the right form you need. Often you’ll need to create some new variables or summaries, or maybe you just want to rename the variables or reorder the observations in order to make the data a little easier to work with. You’ll learn how to do all that (and more!) in this chapter, which will teach you how to transform your data using the dplyr package and a new dataset on flights departing New York City in 2013.\n",
        "### Prerequisites\n",
        "In this chapter we’re going to focus on how to use the dplyr package, another core member of the tidyverse. We’ll illustrate the key ideas using data from the NYC Flight data, and use `seaborn` to help us understand the data."
      ]
    },
    {
      "cell_type": "code",
      "metadata": {
        "pycharm": {
          "is_executing": false
        },
        "id": "bdEOp-KXj6-m",
        "colab_type": "code",
        "colab": {}
      },
      "source": [
        "import pandas as pd\n",
        "import numpy as np\n",
        "\n",
        "flights = pd.read_csv(\"flight_data.csv\")"
      ],
      "execution_count": 0,
      "outputs": []
    },
    {
      "cell_type": "markdown",
      "metadata": {
        "id": "uvEl_2NGj6-r",
        "colab_type": "text"
      },
      "source": [
        "### NYC Flights Dataset\n",
        "\n",
        "To explore the basic data manipulation with `pandas`. The U.S. Department of Transportation's (DOT) Bureau of Transportation Statistics tracks the on-time performance of domestic flights operated by large air carriers. Summary information on the number of on-time, delayed, canceled, and diverted flights is published in DOT's monthly Air Travel Consumer Report and in this dataset of 2015 flight delays and cancellations. The data comes from the [US Bureau of Transportation Statistics](https://www.kaggle.com/usdot/flight-delays#flights.csv)."
      ]
    },
    {
      "cell_type": "markdown",
      "metadata": {
        "id": "YXmTqjAPj6-s",
        "colab_type": "text"
      },
      "source": [
        "You might notice that this data frame prints a differently from other data frames you might have used in the past: it only shows the first few rows and all the columns that fit on one screen. (To see the whole dataset, you can run `flights` which will open the dataset instead of `flights.head()`. "
      ]
    },
    {
      "cell_type": "code",
      "metadata": {
        "pycharm": {
          "is_executing": false
        },
        "id": "F_03ZF1zj6-s",
        "colab_type": "code",
        "outputId": "fcc0033a-ad3f-4137-bb5e-12d616ac852a",
        "colab": {
          "base_uri": "https://localhost:8080/",
          "height": 251
        }
      },
      "source": [
        "flights.info()"
      ],
      "execution_count": 4,
      "outputs": [
        {
          "output_type": "stream",
          "text": [
            "<class 'pandas.core.frame.DataFrame'>\n",
            "RangeIndex: 100000 entries, 0 to 99999\n",
            "Data columns (total 8 columns):\n",
            "Unnamed: 0        100000 non-null int64\n",
            "year              100000 non-null int64\n",
            "month             100000 non-null int64\n",
            "day               100000 non-null int64\n",
            "sched_dep_time    100000 non-null float64\n",
            "dep_delay         98592 non-null float64\n",
            "arr_time          98478 non-null float64\n",
            "dept_time         98592 non-null object\n",
            "dtypes: float64(3), int64(4), object(1)\n",
            "memory usage: 6.1+ MB\n"
          ],
          "name": "stdout"
        }
      ]
    },
    {
      "cell_type": "markdown",
      "metadata": {
        "id": "IIZS-urBj6-x",
        "colab_type": "text"
      },
      "source": [
        "You might have noticed that `.info()` prints a concise summary of a DataFrame.\n",
        "\n",
        "This method prints information about a DataFrame including the index dtype and column dtypes, non-null values and memory usage. "
      ]
    },
    {
      "cell_type": "markdown",
      "metadata": {
        "id": "I3N0JjPqj6-y",
        "colab_type": "text"
      },
      "source": [
        "## Pandas Basics\n",
        "\n",
        "In this chapter you are going to learn the key pandas methods and funcgtions that allow you to solve the vast majority of your data manipulation challenges:\n",
        "\n",
        "1. Pick observations by their values.\n",
        "1. Reorder the rows.\n",
        "1. Pick variables by their names.\n",
        "1. Create new variables with functions of existing variables.\n",
        "1. Collapse many values down to a single summary.\n",
        "\n",
        "These can all be used in conjunction with `groupby()` which changes the scope of each function from operating on the entire dataset to operating on it group-by-group. These six functions provide the verbs for a language of data manipulation.\n",
        "\n",
        "### Query\n",
        "\n",
        "`query()` allows you to subset observations based on their values. The first argument is the name of the data frame. The second and subsequent arguments are the expressions that filter the data frame. For example, we can select all flights on January 1st with:"
      ]
    },
    {
      "cell_type": "code",
      "metadata": {
        "pycharm": {
          "is_executing": false
        },
        "id": "3DE9dXyAj6-z",
        "colab_type": "code",
        "colab": {
          "base_uri": "https://localhost:8080/",
          "height": 609
        },
        "outputId": "564e11ca-d808-4f16-b16a-0e5ba8c3f4ae"
      },
      "source": [
        "flights.query(\"month ==1 & day == 1\")"
      ],
      "execution_count": 105,
      "outputs": [
        {
          "output_type": "execute_result",
          "data": {
            "text/html": [
              "<div>\n",
              "<style scoped>\n",
              "    .dataframe tbody tr th:only-of-type {\n",
              "        vertical-align: middle;\n",
              "    }\n",
              "\n",
              "    .dataframe tbody tr th {\n",
              "        vertical-align: top;\n",
              "    }\n",
              "\n",
              "    .dataframe thead th {\n",
              "        text-align: right;\n",
              "    }\n",
              "</style>\n",
              "<table border=\"1\" class=\"dataframe\">\n",
              "  <thead>\n",
              "    <tr style=\"text-align: right;\">\n",
              "      <th></th>\n",
              "      <th>year</th>\n",
              "      <th>month</th>\n",
              "      <th>day</th>\n",
              "      <th>dep_time</th>\n",
              "      <th>sched_dep_time</th>\n",
              "      <th>dep_delay</th>\n",
              "      <th>arr_time</th>\n",
              "      <th>sched_arr_time</th>\n",
              "      <th>arr_delay</th>\n",
              "      <th>carrier</th>\n",
              "      <th>flight</th>\n",
              "      <th>tailnum</th>\n",
              "      <th>origin</th>\n",
              "      <th>dest</th>\n",
              "      <th>air_time</th>\n",
              "      <th>distance</th>\n",
              "      <th>hour</th>\n",
              "      <th>minute</th>\n",
              "      <th>time_hour</th>\n",
              "    </tr>\n",
              "  </thead>\n",
              "  <tbody>\n",
              "    <tr>\n",
              "      <th>0</th>\n",
              "      <td>2013</td>\n",
              "      <td>1</td>\n",
              "      <td>1</td>\n",
              "      <td>517.0</td>\n",
              "      <td>515</td>\n",
              "      <td>2.0</td>\n",
              "      <td>830.0</td>\n",
              "      <td>819</td>\n",
              "      <td>11.0</td>\n",
              "      <td>UA</td>\n",
              "      <td>1545</td>\n",
              "      <td>N14228</td>\n",
              "      <td>EWR</td>\n",
              "      <td>IAH</td>\n",
              "      <td>227.0</td>\n",
              "      <td>1400</td>\n",
              "      <td>5</td>\n",
              "      <td>15</td>\n",
              "      <td>1/1/2013 5:00</td>\n",
              "    </tr>\n",
              "    <tr>\n",
              "      <th>1</th>\n",
              "      <td>2013</td>\n",
              "      <td>1</td>\n",
              "      <td>1</td>\n",
              "      <td>533.0</td>\n",
              "      <td>529</td>\n",
              "      <td>4.0</td>\n",
              "      <td>850.0</td>\n",
              "      <td>830</td>\n",
              "      <td>20.0</td>\n",
              "      <td>UA</td>\n",
              "      <td>1714</td>\n",
              "      <td>N24211</td>\n",
              "      <td>LGA</td>\n",
              "      <td>IAH</td>\n",
              "      <td>227.0</td>\n",
              "      <td>1416</td>\n",
              "      <td>5</td>\n",
              "      <td>29</td>\n",
              "      <td>1/1/2013 5:00</td>\n",
              "    </tr>\n",
              "    <tr>\n",
              "      <th>2</th>\n",
              "      <td>2013</td>\n",
              "      <td>1</td>\n",
              "      <td>1</td>\n",
              "      <td>542.0</td>\n",
              "      <td>540</td>\n",
              "      <td>2.0</td>\n",
              "      <td>923.0</td>\n",
              "      <td>850</td>\n",
              "      <td>33.0</td>\n",
              "      <td>AA</td>\n",
              "      <td>1141</td>\n",
              "      <td>N619AA</td>\n",
              "      <td>JFK</td>\n",
              "      <td>MIA</td>\n",
              "      <td>160.0</td>\n",
              "      <td>1089</td>\n",
              "      <td>5</td>\n",
              "      <td>40</td>\n",
              "      <td>1/1/2013 5:00</td>\n",
              "    </tr>\n",
              "    <tr>\n",
              "      <th>3</th>\n",
              "      <td>2013</td>\n",
              "      <td>1</td>\n",
              "      <td>1</td>\n",
              "      <td>544.0</td>\n",
              "      <td>545</td>\n",
              "      <td>-1.0</td>\n",
              "      <td>1004.0</td>\n",
              "      <td>1022</td>\n",
              "      <td>-18.0</td>\n",
              "      <td>B6</td>\n",
              "      <td>725</td>\n",
              "      <td>N804JB</td>\n",
              "      <td>JFK</td>\n",
              "      <td>BQN</td>\n",
              "      <td>183.0</td>\n",
              "      <td>1576</td>\n",
              "      <td>5</td>\n",
              "      <td>45</td>\n",
              "      <td>1/1/2013 5:00</td>\n",
              "    </tr>\n",
              "    <tr>\n",
              "      <th>4</th>\n",
              "      <td>2013</td>\n",
              "      <td>1</td>\n",
              "      <td>1</td>\n",
              "      <td>554.0</td>\n",
              "      <td>600</td>\n",
              "      <td>-6.0</td>\n",
              "      <td>812.0</td>\n",
              "      <td>837</td>\n",
              "      <td>-25.0</td>\n",
              "      <td>DL</td>\n",
              "      <td>461</td>\n",
              "      <td>N668DN</td>\n",
              "      <td>LGA</td>\n",
              "      <td>ATL</td>\n",
              "      <td>116.0</td>\n",
              "      <td>762</td>\n",
              "      <td>6</td>\n",
              "      <td>0</td>\n",
              "      <td>1/1/2013 6:00</td>\n",
              "    </tr>\n",
              "    <tr>\n",
              "      <th>...</th>\n",
              "      <td>...</td>\n",
              "      <td>...</td>\n",
              "      <td>...</td>\n",
              "      <td>...</td>\n",
              "      <td>...</td>\n",
              "      <td>...</td>\n",
              "      <td>...</td>\n",
              "      <td>...</td>\n",
              "      <td>...</td>\n",
              "      <td>...</td>\n",
              "      <td>...</td>\n",
              "      <td>...</td>\n",
              "      <td>...</td>\n",
              "      <td>...</td>\n",
              "      <td>...</td>\n",
              "      <td>...</td>\n",
              "      <td>...</td>\n",
              "      <td>...</td>\n",
              "      <td>...</td>\n",
              "    </tr>\n",
              "    <tr>\n",
              "      <th>837</th>\n",
              "      <td>2013</td>\n",
              "      <td>1</td>\n",
              "      <td>1</td>\n",
              "      <td>2356.0</td>\n",
              "      <td>2359</td>\n",
              "      <td>-3.0</td>\n",
              "      <td>425.0</td>\n",
              "      <td>437</td>\n",
              "      <td>-12.0</td>\n",
              "      <td>B6</td>\n",
              "      <td>727</td>\n",
              "      <td>N588JB</td>\n",
              "      <td>JFK</td>\n",
              "      <td>BQN</td>\n",
              "      <td>186.0</td>\n",
              "      <td>1576</td>\n",
              "      <td>23</td>\n",
              "      <td>59</td>\n",
              "      <td>1/1/2013 23:00</td>\n",
              "    </tr>\n",
              "    <tr>\n",
              "      <th>838</th>\n",
              "      <td>2013</td>\n",
              "      <td>1</td>\n",
              "      <td>1</td>\n",
              "      <td>NaN</td>\n",
              "      <td>1630</td>\n",
              "      <td>NaN</td>\n",
              "      <td>NaN</td>\n",
              "      <td>1815</td>\n",
              "      <td>NaN</td>\n",
              "      <td>EV</td>\n",
              "      <td>4308</td>\n",
              "      <td>N18120</td>\n",
              "      <td>EWR</td>\n",
              "      <td>RDU</td>\n",
              "      <td>NaN</td>\n",
              "      <td>416</td>\n",
              "      <td>16</td>\n",
              "      <td>30</td>\n",
              "      <td>1/1/2013 16:00</td>\n",
              "    </tr>\n",
              "    <tr>\n",
              "      <th>839</th>\n",
              "      <td>2013</td>\n",
              "      <td>1</td>\n",
              "      <td>1</td>\n",
              "      <td>NaN</td>\n",
              "      <td>1935</td>\n",
              "      <td>NaN</td>\n",
              "      <td>NaN</td>\n",
              "      <td>2240</td>\n",
              "      <td>NaN</td>\n",
              "      <td>AA</td>\n",
              "      <td>791</td>\n",
              "      <td>N3EHAA</td>\n",
              "      <td>LGA</td>\n",
              "      <td>DFW</td>\n",
              "      <td>NaN</td>\n",
              "      <td>1389</td>\n",
              "      <td>19</td>\n",
              "      <td>35</td>\n",
              "      <td>1/1/2013 19:00</td>\n",
              "    </tr>\n",
              "    <tr>\n",
              "      <th>840</th>\n",
              "      <td>2013</td>\n",
              "      <td>1</td>\n",
              "      <td>1</td>\n",
              "      <td>NaN</td>\n",
              "      <td>1500</td>\n",
              "      <td>NaN</td>\n",
              "      <td>NaN</td>\n",
              "      <td>1825</td>\n",
              "      <td>NaN</td>\n",
              "      <td>AA</td>\n",
              "      <td>1925</td>\n",
              "      <td>N3EVAA</td>\n",
              "      <td>LGA</td>\n",
              "      <td>MIA</td>\n",
              "      <td>NaN</td>\n",
              "      <td>1096</td>\n",
              "      <td>15</td>\n",
              "      <td>0</td>\n",
              "      <td>1/1/2013 15:00</td>\n",
              "    </tr>\n",
              "    <tr>\n",
              "      <th>841</th>\n",
              "      <td>2013</td>\n",
              "      <td>1</td>\n",
              "      <td>1</td>\n",
              "      <td>NaN</td>\n",
              "      <td>600</td>\n",
              "      <td>NaN</td>\n",
              "      <td>NaN</td>\n",
              "      <td>901</td>\n",
              "      <td>NaN</td>\n",
              "      <td>B6</td>\n",
              "      <td>125</td>\n",
              "      <td>N618JB</td>\n",
              "      <td>JFK</td>\n",
              "      <td>FLL</td>\n",
              "      <td>NaN</td>\n",
              "      <td>1069</td>\n",
              "      <td>6</td>\n",
              "      <td>0</td>\n",
              "      <td>1/1/2013 6:00</td>\n",
              "    </tr>\n",
              "  </tbody>\n",
              "</table>\n",
              "<p>842 rows × 19 columns</p>\n",
              "</div>"
            ],
            "text/plain": [
              "     year  month  day  dep_time  ...  distance  hour  minute       time_hour\n",
              "0    2013      1    1     517.0  ...      1400     5      15   1/1/2013 5:00\n",
              "1    2013      1    1     533.0  ...      1416     5      29   1/1/2013 5:00\n",
              "2    2013      1    1     542.0  ...      1089     5      40   1/1/2013 5:00\n",
              "3    2013      1    1     544.0  ...      1576     5      45   1/1/2013 5:00\n",
              "4    2013      1    1     554.0  ...       762     6       0   1/1/2013 6:00\n",
              "..    ...    ...  ...       ...  ...       ...   ...     ...             ...\n",
              "837  2013      1    1    2356.0  ...      1576    23      59  1/1/2013 23:00\n",
              "838  2013      1    1       NaN  ...       416    16      30  1/1/2013 16:00\n",
              "839  2013      1    1       NaN  ...      1389    19      35  1/1/2013 19:00\n",
              "840  2013      1    1       NaN  ...      1096    15       0  1/1/2013 15:00\n",
              "841  2013      1    1       NaN  ...      1069     6       0   1/1/2013 6:00\n",
              "\n",
              "[842 rows x 19 columns]"
            ]
          },
          "metadata": {
            "tags": []
          },
          "execution_count": 105
        }
      ]
    },
    {
      "cell_type": "markdown",
      "metadata": {
        "id": "md1Y5xx9j6-7",
        "colab_type": "text"
      },
      "source": [
        "When you run that line of code, pandas executes the querying operation and returns a new data frame. pandas functions never modify their inputs, so if you want to save the result, you’ll need to use the assignment operator, `=`:"
      ]
    },
    {
      "cell_type": "code",
      "metadata": {
        "pycharm": {
          "is_executing": false
        },
        "id": "1ORT5Xatj6-8",
        "colab_type": "code",
        "colab": {}
      },
      "source": [
        "jan1 = flights.query(\"month ==1 & day == 1\")"
      ],
      "execution_count": 0,
      "outputs": []
    },
    {
      "cell_type": "markdown",
      "metadata": {
        "id": "1EEN5DBAj6-_",
        "colab_type": "text"
      },
      "source": [
        "### Comparisons\n",
        "\n",
        "To use querying effectively, you have to know how to select the observations that you want using the comparison operators. Python provides the standard suite: `>`, `>=`, `<`, `<=`, `!=` (not equal), and `==` (equal).\n",
        "\n",
        "When you’re starting out with Python, the easiest mistake to make is to use = instead of == when testing for equality. When this happens you’ll get an informative error:"
      ]
    },
    {
      "cell_type": "code",
      "metadata": {
        "pycharm": {
          "is_executing": false
        },
        "id": "d--p5DxOj6_A",
        "colab_type": "code",
        "colab": {
          "base_uri": "https://localhost:8080/",
          "height": 319
        },
        "outputId": "fa47aa16-88f8-4eab-d6ba-55eb45e440d4"
      },
      "source": [
        "flights.query(\"month =1\")"
      ],
      "execution_count": 104,
      "outputs": [
        {
          "output_type": "error",
          "ename": "ValueError",
          "evalue": "ignored",
          "traceback": [
            "\u001b[0;31m---------------------------------------------------------------------------\u001b[0m",
            "\u001b[0;31mValueError\u001b[0m                                Traceback (most recent call last)",
            "\u001b[0;32m<ipython-input-104-4562645922b7>\u001b[0m in \u001b[0;36m<module>\u001b[0;34m()\u001b[0m\n\u001b[0;32m----> 1\u001b[0;31m \u001b[0mflights\u001b[0m\u001b[0;34m.\u001b[0m\u001b[0mquery\u001b[0m\u001b[0;34m(\u001b[0m\u001b[0;34m\"month =1\"\u001b[0m\u001b[0;34m)\u001b[0m\u001b[0;34m\u001b[0m\u001b[0;34m\u001b[0m\u001b[0m\n\u001b[0m",
            "\u001b[0;32m/usr/local/lib/python3.6/dist-packages/pandas/core/frame.py\u001b[0m in \u001b[0;36mquery\u001b[0;34m(self, expr, inplace, **kwargs)\u001b[0m\n\u001b[1;32m   3197\u001b[0m         \u001b[0mkwargs\u001b[0m\u001b[0;34m[\u001b[0m\u001b[0;34m\"level\"\u001b[0m\u001b[0;34m]\u001b[0m \u001b[0;34m=\u001b[0m \u001b[0mkwargs\u001b[0m\u001b[0;34m.\u001b[0m\u001b[0mpop\u001b[0m\u001b[0;34m(\u001b[0m\u001b[0;34m\"level\"\u001b[0m\u001b[0;34m,\u001b[0m \u001b[0;36m0\u001b[0m\u001b[0;34m)\u001b[0m \u001b[0;34m+\u001b[0m \u001b[0;36m1\u001b[0m\u001b[0;34m\u001b[0m\u001b[0;34m\u001b[0m\u001b[0m\n\u001b[1;32m   3198\u001b[0m         \u001b[0mkwargs\u001b[0m\u001b[0;34m[\u001b[0m\u001b[0;34m\"target\"\u001b[0m\u001b[0;34m]\u001b[0m \u001b[0;34m=\u001b[0m \u001b[0;32mNone\u001b[0m\u001b[0;34m\u001b[0m\u001b[0;34m\u001b[0m\u001b[0m\n\u001b[0;32m-> 3199\u001b[0;31m         \u001b[0mres\u001b[0m \u001b[0;34m=\u001b[0m \u001b[0mself\u001b[0m\u001b[0;34m.\u001b[0m\u001b[0meval\u001b[0m\u001b[0;34m(\u001b[0m\u001b[0mexpr\u001b[0m\u001b[0;34m,\u001b[0m \u001b[0;34m**\u001b[0m\u001b[0mkwargs\u001b[0m\u001b[0;34m)\u001b[0m\u001b[0;34m\u001b[0m\u001b[0;34m\u001b[0m\u001b[0m\n\u001b[0m\u001b[1;32m   3200\u001b[0m \u001b[0;34m\u001b[0m\u001b[0m\n\u001b[1;32m   3201\u001b[0m         \u001b[0;32mtry\u001b[0m\u001b[0;34m:\u001b[0m\u001b[0;34m\u001b[0m\u001b[0;34m\u001b[0m\u001b[0m\n",
            "\u001b[0;32m/usr/local/lib/python3.6/dist-packages/pandas/core/frame.py\u001b[0m in \u001b[0;36meval\u001b[0;34m(self, expr, inplace, **kwargs)\u001b[0m\n\u001b[1;32m   3313\u001b[0m             \u001b[0mkwargs\u001b[0m\u001b[0;34m[\u001b[0m\u001b[0;34m\"target\"\u001b[0m\u001b[0;34m]\u001b[0m \u001b[0;34m=\u001b[0m \u001b[0mself\u001b[0m\u001b[0;34m\u001b[0m\u001b[0;34m\u001b[0m\u001b[0m\n\u001b[1;32m   3314\u001b[0m         \u001b[0mkwargs\u001b[0m\u001b[0;34m[\u001b[0m\u001b[0;34m\"resolvers\"\u001b[0m\u001b[0;34m]\u001b[0m \u001b[0;34m=\u001b[0m \u001b[0mkwargs\u001b[0m\u001b[0;34m.\u001b[0m\u001b[0mget\u001b[0m\u001b[0;34m(\u001b[0m\u001b[0;34m\"resolvers\"\u001b[0m\u001b[0;34m,\u001b[0m \u001b[0;34m(\u001b[0m\u001b[0;34m)\u001b[0m\u001b[0;34m)\u001b[0m \u001b[0;34m+\u001b[0m \u001b[0mtuple\u001b[0m\u001b[0;34m(\u001b[0m\u001b[0mresolvers\u001b[0m\u001b[0;34m)\u001b[0m\u001b[0;34m\u001b[0m\u001b[0;34m\u001b[0m\u001b[0m\n\u001b[0;32m-> 3315\u001b[0;31m         \u001b[0;32mreturn\u001b[0m \u001b[0m_eval\u001b[0m\u001b[0;34m(\u001b[0m\u001b[0mexpr\u001b[0m\u001b[0;34m,\u001b[0m \u001b[0minplace\u001b[0m\u001b[0;34m=\u001b[0m\u001b[0minplace\u001b[0m\u001b[0;34m,\u001b[0m \u001b[0;34m**\u001b[0m\u001b[0mkwargs\u001b[0m\u001b[0;34m)\u001b[0m\u001b[0;34m\u001b[0m\u001b[0;34m\u001b[0m\u001b[0m\n\u001b[0m\u001b[1;32m   3316\u001b[0m \u001b[0;34m\u001b[0m\u001b[0m\n\u001b[1;32m   3317\u001b[0m     \u001b[0;32mdef\u001b[0m \u001b[0mselect_dtypes\u001b[0m\u001b[0;34m(\u001b[0m\u001b[0mself\u001b[0m\u001b[0;34m,\u001b[0m \u001b[0minclude\u001b[0m\u001b[0;34m=\u001b[0m\u001b[0;32mNone\u001b[0m\u001b[0;34m,\u001b[0m \u001b[0mexclude\u001b[0m\u001b[0;34m=\u001b[0m\u001b[0;32mNone\u001b[0m\u001b[0;34m)\u001b[0m\u001b[0;34m:\u001b[0m\u001b[0;34m\u001b[0m\u001b[0;34m\u001b[0m\u001b[0m\n",
            "\u001b[0;32m/usr/local/lib/python3.6/dist-packages/pandas/core/computation/eval.py\u001b[0m in \u001b[0;36meval\u001b[0;34m(expr, parser, engine, truediv, local_dict, global_dict, resolvers, level, target, inplace)\u001b[0m\n\u001b[1;32m    320\u001b[0m         )\n\u001b[1;32m    321\u001b[0m \u001b[0;34m\u001b[0m\u001b[0m\n\u001b[0;32m--> 322\u001b[0;31m         \u001b[0mparsed_expr\u001b[0m \u001b[0;34m=\u001b[0m \u001b[0mExpr\u001b[0m\u001b[0;34m(\u001b[0m\u001b[0mexpr\u001b[0m\u001b[0;34m,\u001b[0m \u001b[0mengine\u001b[0m\u001b[0;34m=\u001b[0m\u001b[0mengine\u001b[0m\u001b[0;34m,\u001b[0m \u001b[0mparser\u001b[0m\u001b[0;34m=\u001b[0m\u001b[0mparser\u001b[0m\u001b[0;34m,\u001b[0m \u001b[0menv\u001b[0m\u001b[0;34m=\u001b[0m\u001b[0menv\u001b[0m\u001b[0;34m,\u001b[0m \u001b[0mtruediv\u001b[0m\u001b[0;34m=\u001b[0m\u001b[0mtruediv\u001b[0m\u001b[0;34m)\u001b[0m\u001b[0;34m\u001b[0m\u001b[0;34m\u001b[0m\u001b[0m\n\u001b[0m\u001b[1;32m    323\u001b[0m \u001b[0;34m\u001b[0m\u001b[0m\n\u001b[1;32m    324\u001b[0m         \u001b[0;31m# construct the engine and evaluate the parsed expression\u001b[0m\u001b[0;34m\u001b[0m\u001b[0;34m\u001b[0m\u001b[0;34m\u001b[0m\u001b[0m\n",
            "\u001b[0;32m/usr/local/lib/python3.6/dist-packages/pandas/core/computation/expr.py\u001b[0m in \u001b[0;36m__init__\u001b[0;34m(self, expr, engine, parser, env, truediv, level)\u001b[0m\n\u001b[1;32m    828\u001b[0m         \u001b[0mself\u001b[0m\u001b[0;34m.\u001b[0m\u001b[0menv\u001b[0m\u001b[0;34m.\u001b[0m\u001b[0mscope\u001b[0m\u001b[0;34m[\u001b[0m\u001b[0;34m\"truediv\"\u001b[0m\u001b[0;34m]\u001b[0m \u001b[0;34m=\u001b[0m \u001b[0mtruediv\u001b[0m\u001b[0;34m\u001b[0m\u001b[0;34m\u001b[0m\u001b[0m\n\u001b[1;32m    829\u001b[0m         \u001b[0mself\u001b[0m\u001b[0;34m.\u001b[0m\u001b[0m_visitor\u001b[0m \u001b[0;34m=\u001b[0m \u001b[0m_parsers\u001b[0m\u001b[0;34m[\u001b[0m\u001b[0mparser\u001b[0m\u001b[0;34m]\u001b[0m\u001b[0;34m(\u001b[0m\u001b[0mself\u001b[0m\u001b[0;34m.\u001b[0m\u001b[0menv\u001b[0m\u001b[0;34m,\u001b[0m \u001b[0mself\u001b[0m\u001b[0;34m.\u001b[0m\u001b[0mengine\u001b[0m\u001b[0;34m,\u001b[0m \u001b[0mself\u001b[0m\u001b[0;34m.\u001b[0m\u001b[0mparser\u001b[0m\u001b[0;34m)\u001b[0m\u001b[0;34m\u001b[0m\u001b[0;34m\u001b[0m\u001b[0m\n\u001b[0;32m--> 830\u001b[0;31m         \u001b[0mself\u001b[0m\u001b[0;34m.\u001b[0m\u001b[0mterms\u001b[0m \u001b[0;34m=\u001b[0m \u001b[0mself\u001b[0m\u001b[0;34m.\u001b[0m\u001b[0mparse\u001b[0m\u001b[0;34m(\u001b[0m\u001b[0;34m)\u001b[0m\u001b[0;34m\u001b[0m\u001b[0;34m\u001b[0m\u001b[0m\n\u001b[0m\u001b[1;32m    831\u001b[0m \u001b[0;34m\u001b[0m\u001b[0m\n\u001b[1;32m    832\u001b[0m     \u001b[0;34m@\u001b[0m\u001b[0mproperty\u001b[0m\u001b[0;34m\u001b[0m\u001b[0;34m\u001b[0m\u001b[0m\n",
            "\u001b[0;32m/usr/local/lib/python3.6/dist-packages/pandas/core/computation/expr.py\u001b[0m in \u001b[0;36mparse\u001b[0;34m(self)\u001b[0m\n\u001b[1;32m    845\u001b[0m     \u001b[0;32mdef\u001b[0m \u001b[0mparse\u001b[0m\u001b[0;34m(\u001b[0m\u001b[0mself\u001b[0m\u001b[0;34m)\u001b[0m\u001b[0;34m:\u001b[0m\u001b[0;34m\u001b[0m\u001b[0;34m\u001b[0m\u001b[0m\n\u001b[1;32m    846\u001b[0m         \u001b[0;34m\"\"\"Parse an expression\"\"\"\u001b[0m\u001b[0;34m\u001b[0m\u001b[0;34m\u001b[0m\u001b[0m\n\u001b[0;32m--> 847\u001b[0;31m         \u001b[0;32mreturn\u001b[0m \u001b[0mself\u001b[0m\u001b[0;34m.\u001b[0m\u001b[0m_visitor\u001b[0m\u001b[0;34m.\u001b[0m\u001b[0mvisit\u001b[0m\u001b[0;34m(\u001b[0m\u001b[0mself\u001b[0m\u001b[0;34m.\u001b[0m\u001b[0mexpr\u001b[0m\u001b[0;34m)\u001b[0m\u001b[0;34m\u001b[0m\u001b[0;34m\u001b[0m\u001b[0m\n\u001b[0m\u001b[1;32m    848\u001b[0m \u001b[0;34m\u001b[0m\u001b[0m\n\u001b[1;32m    849\u001b[0m     \u001b[0;34m@\u001b[0m\u001b[0mproperty\u001b[0m\u001b[0;34m\u001b[0m\u001b[0;34m\u001b[0m\u001b[0m\n",
            "\u001b[0;32m/usr/local/lib/python3.6/dist-packages/pandas/core/computation/expr.py\u001b[0m in \u001b[0;36mvisit\u001b[0;34m(self, node, **kwargs)\u001b[0m\n\u001b[1;32m    439\u001b[0m         \u001b[0mmethod\u001b[0m \u001b[0;34m=\u001b[0m \u001b[0;34m\"visit_\"\u001b[0m \u001b[0;34m+\u001b[0m \u001b[0mnode\u001b[0m\u001b[0;34m.\u001b[0m\u001b[0m__class__\u001b[0m\u001b[0;34m.\u001b[0m\u001b[0m__name__\u001b[0m\u001b[0;34m\u001b[0m\u001b[0;34m\u001b[0m\u001b[0m\n\u001b[1;32m    440\u001b[0m         \u001b[0mvisitor\u001b[0m \u001b[0;34m=\u001b[0m \u001b[0mgetattr\u001b[0m\u001b[0;34m(\u001b[0m\u001b[0mself\u001b[0m\u001b[0;34m,\u001b[0m \u001b[0mmethod\u001b[0m\u001b[0;34m)\u001b[0m\u001b[0;34m\u001b[0m\u001b[0;34m\u001b[0m\u001b[0m\n\u001b[0;32m--> 441\u001b[0;31m         \u001b[0;32mreturn\u001b[0m \u001b[0mvisitor\u001b[0m\u001b[0;34m(\u001b[0m\u001b[0mnode\u001b[0m\u001b[0;34m,\u001b[0m \u001b[0;34m**\u001b[0m\u001b[0mkwargs\u001b[0m\u001b[0;34m)\u001b[0m\u001b[0;34m\u001b[0m\u001b[0;34m\u001b[0m\u001b[0m\n\u001b[0m\u001b[1;32m    442\u001b[0m \u001b[0;34m\u001b[0m\u001b[0m\n\u001b[1;32m    443\u001b[0m     \u001b[0;32mdef\u001b[0m \u001b[0mvisit_Module\u001b[0m\u001b[0;34m(\u001b[0m\u001b[0mself\u001b[0m\u001b[0;34m,\u001b[0m \u001b[0mnode\u001b[0m\u001b[0;34m,\u001b[0m \u001b[0;34m**\u001b[0m\u001b[0mkwargs\u001b[0m\u001b[0;34m)\u001b[0m\u001b[0;34m:\u001b[0m\u001b[0;34m\u001b[0m\u001b[0;34m\u001b[0m\u001b[0m\n",
            "\u001b[0;32m/usr/local/lib/python3.6/dist-packages/pandas/core/computation/expr.py\u001b[0m in \u001b[0;36mvisit_Module\u001b[0;34m(self, node, **kwargs)\u001b[0m\n\u001b[1;32m    445\u001b[0m             \u001b[0;32mraise\u001b[0m \u001b[0mSyntaxError\u001b[0m\u001b[0;34m(\u001b[0m\u001b[0;34m\"only a single expression is allowed\"\u001b[0m\u001b[0;34m)\u001b[0m\u001b[0;34m\u001b[0m\u001b[0;34m\u001b[0m\u001b[0m\n\u001b[1;32m    446\u001b[0m         \u001b[0mexpr\u001b[0m \u001b[0;34m=\u001b[0m \u001b[0mnode\u001b[0m\u001b[0;34m.\u001b[0m\u001b[0mbody\u001b[0m\u001b[0;34m[\u001b[0m\u001b[0;36m0\u001b[0m\u001b[0;34m]\u001b[0m\u001b[0;34m\u001b[0m\u001b[0;34m\u001b[0m\u001b[0m\n\u001b[0;32m--> 447\u001b[0;31m         \u001b[0;32mreturn\u001b[0m \u001b[0mself\u001b[0m\u001b[0;34m.\u001b[0m\u001b[0mvisit\u001b[0m\u001b[0;34m(\u001b[0m\u001b[0mexpr\u001b[0m\u001b[0;34m,\u001b[0m \u001b[0;34m**\u001b[0m\u001b[0mkwargs\u001b[0m\u001b[0;34m)\u001b[0m\u001b[0;34m\u001b[0m\u001b[0;34m\u001b[0m\u001b[0m\n\u001b[0m\u001b[1;32m    448\u001b[0m \u001b[0;34m\u001b[0m\u001b[0m\n\u001b[1;32m    449\u001b[0m     \u001b[0;32mdef\u001b[0m \u001b[0mvisit_Expr\u001b[0m\u001b[0;34m(\u001b[0m\u001b[0mself\u001b[0m\u001b[0;34m,\u001b[0m \u001b[0mnode\u001b[0m\u001b[0;34m,\u001b[0m \u001b[0;34m**\u001b[0m\u001b[0mkwargs\u001b[0m\u001b[0;34m)\u001b[0m\u001b[0;34m:\u001b[0m\u001b[0;34m\u001b[0m\u001b[0;34m\u001b[0m\u001b[0m\n",
            "\u001b[0;32m/usr/local/lib/python3.6/dist-packages/pandas/core/computation/expr.py\u001b[0m in \u001b[0;36mvisit\u001b[0;34m(self, node, **kwargs)\u001b[0m\n\u001b[1;32m    439\u001b[0m         \u001b[0mmethod\u001b[0m \u001b[0;34m=\u001b[0m \u001b[0;34m\"visit_\"\u001b[0m \u001b[0;34m+\u001b[0m \u001b[0mnode\u001b[0m\u001b[0;34m.\u001b[0m\u001b[0m__class__\u001b[0m\u001b[0;34m.\u001b[0m\u001b[0m__name__\u001b[0m\u001b[0;34m\u001b[0m\u001b[0;34m\u001b[0m\u001b[0m\n\u001b[1;32m    440\u001b[0m         \u001b[0mvisitor\u001b[0m \u001b[0;34m=\u001b[0m \u001b[0mgetattr\u001b[0m\u001b[0;34m(\u001b[0m\u001b[0mself\u001b[0m\u001b[0;34m,\u001b[0m \u001b[0mmethod\u001b[0m\u001b[0;34m)\u001b[0m\u001b[0;34m\u001b[0m\u001b[0;34m\u001b[0m\u001b[0m\n\u001b[0;32m--> 441\u001b[0;31m         \u001b[0;32mreturn\u001b[0m \u001b[0mvisitor\u001b[0m\u001b[0;34m(\u001b[0m\u001b[0mnode\u001b[0m\u001b[0;34m,\u001b[0m \u001b[0;34m**\u001b[0m\u001b[0mkwargs\u001b[0m\u001b[0;34m)\u001b[0m\u001b[0;34m\u001b[0m\u001b[0;34m\u001b[0m\u001b[0m\n\u001b[0m\u001b[1;32m    442\u001b[0m \u001b[0;34m\u001b[0m\u001b[0m\n\u001b[1;32m    443\u001b[0m     \u001b[0;32mdef\u001b[0m \u001b[0mvisit_Module\u001b[0m\u001b[0;34m(\u001b[0m\u001b[0mself\u001b[0m\u001b[0;34m,\u001b[0m \u001b[0mnode\u001b[0m\u001b[0;34m,\u001b[0m \u001b[0;34m**\u001b[0m\u001b[0mkwargs\u001b[0m\u001b[0;34m)\u001b[0m\u001b[0;34m:\u001b[0m\u001b[0;34m\u001b[0m\u001b[0;34m\u001b[0m\u001b[0m\n",
            "\u001b[0;32m/usr/local/lib/python3.6/dist-packages/pandas/core/computation/expr.py\u001b[0m in \u001b[0;36mvisit_Assign\u001b[0;34m(self, node, **kwargs)\u001b[0m\n\u001b[1;32m    650\u001b[0m             )\n\u001b[1;32m    651\u001b[0m         \u001b[0;32mif\u001b[0m \u001b[0mself\u001b[0m\u001b[0;34m.\u001b[0m\u001b[0menv\u001b[0m\u001b[0;34m.\u001b[0m\u001b[0mtarget\u001b[0m \u001b[0;32mis\u001b[0m \u001b[0;32mNone\u001b[0m\u001b[0;34m:\u001b[0m\u001b[0;34m\u001b[0m\u001b[0;34m\u001b[0m\u001b[0m\n\u001b[0;32m--> 652\u001b[0;31m             \u001b[0;32mraise\u001b[0m \u001b[0mValueError\u001b[0m\u001b[0;34m(\u001b[0m\u001b[0;34m\"cannot assign without a target object\"\u001b[0m\u001b[0;34m)\u001b[0m\u001b[0;34m\u001b[0m\u001b[0;34m\u001b[0m\u001b[0m\n\u001b[0m\u001b[1;32m    653\u001b[0m \u001b[0;34m\u001b[0m\u001b[0m\n\u001b[1;32m    654\u001b[0m         \u001b[0;32mtry\u001b[0m\u001b[0;34m:\u001b[0m\u001b[0;34m\u001b[0m\u001b[0;34m\u001b[0m\u001b[0m\n",
            "\u001b[0;31mValueError\u001b[0m: cannot assign without a target object"
          ]
        }
      ]
    },
    {
      "cell_type": "markdown",
      "metadata": {
        "id": "O4QaWi9rj6_D",
        "colab_type": "text"
      },
      "source": [
        "There’s another common problem you might encounter when using ==: floating point numbers. These results might surprise you!"
      ]
    },
    {
      "cell_type": "code",
      "metadata": {
        "pycharm": {
          "is_executing": false
        },
        "id": "kOXl04mzj6_D",
        "colab_type": "code",
        "colab": {}
      },
      "source": [
        "from math import sqrt"
      ],
      "execution_count": 0,
      "outputs": []
    },
    {
      "cell_type": "code",
      "metadata": {
        "pycharm": {
          "is_executing": false
        },
        "id": "MyLS1k_Pj6_H",
        "colab_type": "code",
        "colab": {
          "base_uri": "https://localhost:8080/",
          "height": 35
        },
        "outputId": "e318b5ee-f393-467e-d2ef-719f7a6be956"
      },
      "source": [
        "sqrt(2) ** 2 == 2"
      ],
      "execution_count": 9,
      "outputs": [
        {
          "output_type": "execute_result",
          "data": {
            "text/plain": [
              "False"
            ]
          },
          "metadata": {
            "tags": []
          },
          "execution_count": 9
        }
      ]
    },
    {
      "cell_type": "code",
      "metadata": {
        "pycharm": {
          "is_executing": false
        },
        "id": "L3nIefavj6_J",
        "colab_type": "code",
        "colab": {
          "base_uri": "https://localhost:8080/",
          "height": 35
        },
        "outputId": "a1ae5fb7-14cd-4ba9-b7cd-eec6440aae55"
      },
      "source": [
        "1/49 * 49 == 1"
      ],
      "execution_count": 10,
      "outputs": [
        {
          "output_type": "execute_result",
          "data": {
            "text/plain": [
              "False"
            ]
          },
          "metadata": {
            "tags": []
          },
          "execution_count": 10
        }
      ]
    },
    {
      "cell_type": "markdown",
      "metadata": {
        "id": "soMLFEhpj6_M",
        "colab_type": "text"
      },
      "source": [
        "Computers use finite precision arithmetic (they obviously can’t store an infinite number of digits!) so remember that every number you see is an approximation."
      ]
    },
    {
      "cell_type": "markdown",
      "metadata": {
        "id": "InoCgvosj6_M",
        "colab_type": "text"
      },
      "source": [
        "## Logical Operators\n",
        "\n",
        "Multiple arguments to `query()` are combined with “and”: every expression must be true in order for a row to be included in the output. For other types of combinations, you’ll need to use Boolean operators yourself: `&` is “and”, `|` is “or”, and `~` is “not”. The figure below shows the complete set of Boolean operations.\n",
        "\n",
        "![Complete set of boolean operations. x is the left-hand circle, y is the right-hand circle, and the shaded region show which parts each operator selects.](https://github.com/SoIllEconomist/ds4b/blob/master/python_ds4b/01_exploration/02_data_transformation/transform_logical.png?raw=1)\n",
        "\n"
      ]
    },
    {
      "cell_type": "code",
      "metadata": {
        "pycharm": {
          "is_executing": false
        },
        "id": "ADi9Rsggj6_N",
        "colab_type": "code",
        "colab": {
          "base_uri": "https://localhost:8080/",
          "height": 419
        },
        "outputId": "89711df5-98dc-40b8-f206-fb1124339c6e"
      },
      "source": [
        "flights.query(\"month in [11, 12]\")"
      ],
      "execution_count": 11,
      "outputs": [
        {
          "output_type": "execute_result",
          "data": {
            "text/html": [
              "<div>\n",
              "<style scoped>\n",
              "    .dataframe tbody tr th:only-of-type {\n",
              "        vertical-align: middle;\n",
              "    }\n",
              "\n",
              "    .dataframe tbody tr th {\n",
              "        vertical-align: top;\n",
              "    }\n",
              "\n",
              "    .dataframe thead th {\n",
              "        text-align: right;\n",
              "    }\n",
              "</style>\n",
              "<table border=\"1\" class=\"dataframe\">\n",
              "  <thead>\n",
              "    <tr style=\"text-align: right;\">\n",
              "      <th></th>\n",
              "      <th>Unnamed: 0</th>\n",
              "      <th>year</th>\n",
              "      <th>month</th>\n",
              "      <th>day</th>\n",
              "      <th>sched_dep_time</th>\n",
              "      <th>dep_delay</th>\n",
              "      <th>arr_time</th>\n",
              "      <th>dept_time</th>\n",
              "    </tr>\n",
              "  </thead>\n",
              "  <tbody>\n",
              "    <tr>\n",
              "      <th>5</th>\n",
              "      <td>5</td>\n",
              "      <td>2015</td>\n",
              "      <td>11</td>\n",
              "      <td>14</td>\n",
              "      <td>317.0</td>\n",
              "      <td>4.0</td>\n",
              "      <td>824.0</td>\n",
              "      <td>313.0</td>\n",
              "    </tr>\n",
              "    <tr>\n",
              "      <th>18</th>\n",
              "      <td>18</td>\n",
              "      <td>2015</td>\n",
              "      <td>12</td>\n",
              "      <td>6</td>\n",
              "      <td>125.0</td>\n",
              "      <td>53.0</td>\n",
              "      <td>2339.0</td>\n",
              "      <td>72.0</td>\n",
              "    </tr>\n",
              "    <tr>\n",
              "      <th>26</th>\n",
              "      <td>26</td>\n",
              "      <td>2015</td>\n",
              "      <td>12</td>\n",
              "      <td>24</td>\n",
              "      <td>157.0</td>\n",
              "      <td>-5.0</td>\n",
              "      <td>1107.0</td>\n",
              "      <td>162.0</td>\n",
              "    </tr>\n",
              "    <tr>\n",
              "      <th>29</th>\n",
              "      <td>29</td>\n",
              "      <td>2015</td>\n",
              "      <td>11</td>\n",
              "      <td>21</td>\n",
              "      <td>160.0</td>\n",
              "      <td>-10.0</td>\n",
              "      <td>1656.0</td>\n",
              "      <td>170.0</td>\n",
              "    </tr>\n",
              "    <tr>\n",
              "      <th>32</th>\n",
              "      <td>32</td>\n",
              "      <td>2015</td>\n",
              "      <td>11</td>\n",
              "      <td>14</td>\n",
              "      <td>66.0</td>\n",
              "      <td>-4.0</td>\n",
              "      <td>1300.0</td>\n",
              "      <td>70.0</td>\n",
              "    </tr>\n",
              "    <tr>\n",
              "      <th>...</th>\n",
              "      <td>...</td>\n",
              "      <td>...</td>\n",
              "      <td>...</td>\n",
              "      <td>...</td>\n",
              "      <td>...</td>\n",
              "      <td>...</td>\n",
              "      <td>...</td>\n",
              "      <td>...</td>\n",
              "    </tr>\n",
              "    <tr>\n",
              "      <th>99981</th>\n",
              "      <td>99981</td>\n",
              "      <td>2015</td>\n",
              "      <td>11</td>\n",
              "      <td>22</td>\n",
              "      <td>167.0</td>\n",
              "      <td>-5.0</td>\n",
              "      <td>1640.0</td>\n",
              "      <td>172</td>\n",
              "    </tr>\n",
              "    <tr>\n",
              "      <th>99990</th>\n",
              "      <td>99990</td>\n",
              "      <td>2015</td>\n",
              "      <td>11</td>\n",
              "      <td>15</td>\n",
              "      <td>90.0</td>\n",
              "      <td>13.0</td>\n",
              "      <td>1319.0</td>\n",
              "      <td>77</td>\n",
              "    </tr>\n",
              "    <tr>\n",
              "      <th>99997</th>\n",
              "      <td>99997</td>\n",
              "      <td>2015</td>\n",
              "      <td>11</td>\n",
              "      <td>8</td>\n",
              "      <td>90.0</td>\n",
              "      <td>-5.0</td>\n",
              "      <td>1908.0</td>\n",
              "      <td>95</td>\n",
              "    </tr>\n",
              "    <tr>\n",
              "      <th>99998</th>\n",
              "      <td>99998</td>\n",
              "      <td>2015</td>\n",
              "      <td>12</td>\n",
              "      <td>20</td>\n",
              "      <td>70.0</td>\n",
              "      <td>-4.0</td>\n",
              "      <td>1427.0</td>\n",
              "      <td>74</td>\n",
              "    </tr>\n",
              "    <tr>\n",
              "      <th>99999</th>\n",
              "      <td>99999</td>\n",
              "      <td>2015</td>\n",
              "      <td>12</td>\n",
              "      <td>29</td>\n",
              "      <td>180.0</td>\n",
              "      <td>322.0</td>\n",
              "      <td>2051.0</td>\n",
              "      <td>-142</td>\n",
              "    </tr>\n",
              "  </tbody>\n",
              "</table>\n",
              "<p>16244 rows × 8 columns</p>\n",
              "</div>"
            ],
            "text/plain": [
              "       Unnamed: 0  year  month  ...  dep_delay  arr_time  dept_time\n",
              "5               5  2015     11  ...        4.0     824.0      313.0\n",
              "18             18  2015     12  ...       53.0    2339.0       72.0\n",
              "26             26  2015     12  ...       -5.0    1107.0      162.0\n",
              "29             29  2015     11  ...      -10.0    1656.0      170.0\n",
              "32             32  2015     11  ...       -4.0    1300.0       70.0\n",
              "...           ...   ...    ...  ...        ...       ...        ...\n",
              "99981       99981  2015     11  ...       -5.0    1640.0        172\n",
              "99990       99990  2015     11  ...       13.0    1319.0         77\n",
              "99997       99997  2015     11  ...       -5.0    1908.0         95\n",
              "99998       99998  2015     12  ...       -4.0    1427.0         74\n",
              "99999       99999  2015     12  ...      322.0    2051.0       -142\n",
              "\n",
              "[16244 rows x 8 columns]"
            ]
          },
          "metadata": {
            "tags": []
          },
          "execution_count": 11
        }
      ]
    },
    {
      "cell_type": "markdown",
      "metadata": {
        "id": "YR47YMkKEbe4",
        "colab_type": "text"
      },
      "source": [
        "Sometimes you can simplify complicated subsetting by remembering De Morgan’s law: `!(x & y)` is the same as `!x | !y`, and `!(x | y)` is the same as `!x & !y`. For example, if you wanted to find flights that weren’t delayed (on arrival or departure) by more than two hours, you could use either of the following two filters:"
      ]
    },
    {
      "cell_type": "code",
      "metadata": {
        "id": "dWUpeqwYEP2A",
        "colab_type": "code",
        "colab": {
          "base_uri": "https://localhost:8080/",
          "height": 592
        },
        "outputId": "fa5c01a2-105d-465f-bcef-6ed25b41dffc"
      },
      "source": [
        "flights.query(\"~(arr_delay > 120 | dep_delay > 120)\")"
      ],
      "execution_count": 101,
      "outputs": [
        {
          "output_type": "execute_result",
          "data": {
            "text/html": [
              "<div>\n",
              "<style scoped>\n",
              "    .dataframe tbody tr th:only-of-type {\n",
              "        vertical-align: middle;\n",
              "    }\n",
              "\n",
              "    .dataframe tbody tr th {\n",
              "        vertical-align: top;\n",
              "    }\n",
              "\n",
              "    .dataframe thead th {\n",
              "        text-align: right;\n",
              "    }\n",
              "</style>\n",
              "<table border=\"1\" class=\"dataframe\">\n",
              "  <thead>\n",
              "    <tr style=\"text-align: right;\">\n",
              "      <th></th>\n",
              "      <th>year</th>\n",
              "      <th>month</th>\n",
              "      <th>day</th>\n",
              "      <th>dep_time</th>\n",
              "      <th>sched_dep_time</th>\n",
              "      <th>dep_delay</th>\n",
              "      <th>arr_time</th>\n",
              "      <th>sched_arr_time</th>\n",
              "      <th>arr_delay</th>\n",
              "      <th>carrier</th>\n",
              "      <th>flight</th>\n",
              "      <th>tailnum</th>\n",
              "      <th>origin</th>\n",
              "      <th>dest</th>\n",
              "      <th>air_time</th>\n",
              "      <th>distance</th>\n",
              "      <th>hour</th>\n",
              "      <th>minute</th>\n",
              "      <th>time_hour</th>\n",
              "    </tr>\n",
              "  </thead>\n",
              "  <tbody>\n",
              "    <tr>\n",
              "      <th>0</th>\n",
              "      <td>2013</td>\n",
              "      <td>1</td>\n",
              "      <td>1</td>\n",
              "      <td>517.0</td>\n",
              "      <td>515</td>\n",
              "      <td>2.0</td>\n",
              "      <td>830.0</td>\n",
              "      <td>819</td>\n",
              "      <td>11.0</td>\n",
              "      <td>UA</td>\n",
              "      <td>1545</td>\n",
              "      <td>N14228</td>\n",
              "      <td>EWR</td>\n",
              "      <td>IAH</td>\n",
              "      <td>227.0</td>\n",
              "      <td>1400</td>\n",
              "      <td>5</td>\n",
              "      <td>15</td>\n",
              "      <td>1/1/2013 5:00</td>\n",
              "    </tr>\n",
              "    <tr>\n",
              "      <th>1</th>\n",
              "      <td>2013</td>\n",
              "      <td>1</td>\n",
              "      <td>1</td>\n",
              "      <td>533.0</td>\n",
              "      <td>529</td>\n",
              "      <td>4.0</td>\n",
              "      <td>850.0</td>\n",
              "      <td>830</td>\n",
              "      <td>20.0</td>\n",
              "      <td>UA</td>\n",
              "      <td>1714</td>\n",
              "      <td>N24211</td>\n",
              "      <td>LGA</td>\n",
              "      <td>IAH</td>\n",
              "      <td>227.0</td>\n",
              "      <td>1416</td>\n",
              "      <td>5</td>\n",
              "      <td>29</td>\n",
              "      <td>1/1/2013 5:00</td>\n",
              "    </tr>\n",
              "    <tr>\n",
              "      <th>2</th>\n",
              "      <td>2013</td>\n",
              "      <td>1</td>\n",
              "      <td>1</td>\n",
              "      <td>542.0</td>\n",
              "      <td>540</td>\n",
              "      <td>2.0</td>\n",
              "      <td>923.0</td>\n",
              "      <td>850</td>\n",
              "      <td>33.0</td>\n",
              "      <td>AA</td>\n",
              "      <td>1141</td>\n",
              "      <td>N619AA</td>\n",
              "      <td>JFK</td>\n",
              "      <td>MIA</td>\n",
              "      <td>160.0</td>\n",
              "      <td>1089</td>\n",
              "      <td>5</td>\n",
              "      <td>40</td>\n",
              "      <td>1/1/2013 5:00</td>\n",
              "    </tr>\n",
              "    <tr>\n",
              "      <th>3</th>\n",
              "      <td>2013</td>\n",
              "      <td>1</td>\n",
              "      <td>1</td>\n",
              "      <td>544.0</td>\n",
              "      <td>545</td>\n",
              "      <td>-1.0</td>\n",
              "      <td>1004.0</td>\n",
              "      <td>1022</td>\n",
              "      <td>-18.0</td>\n",
              "      <td>B6</td>\n",
              "      <td>725</td>\n",
              "      <td>N804JB</td>\n",
              "      <td>JFK</td>\n",
              "      <td>BQN</td>\n",
              "      <td>183.0</td>\n",
              "      <td>1576</td>\n",
              "      <td>5</td>\n",
              "      <td>45</td>\n",
              "      <td>1/1/2013 5:00</td>\n",
              "    </tr>\n",
              "    <tr>\n",
              "      <th>4</th>\n",
              "      <td>2013</td>\n",
              "      <td>1</td>\n",
              "      <td>1</td>\n",
              "      <td>554.0</td>\n",
              "      <td>600</td>\n",
              "      <td>-6.0</td>\n",
              "      <td>812.0</td>\n",
              "      <td>837</td>\n",
              "      <td>-25.0</td>\n",
              "      <td>DL</td>\n",
              "      <td>461</td>\n",
              "      <td>N668DN</td>\n",
              "      <td>LGA</td>\n",
              "      <td>ATL</td>\n",
              "      <td>116.0</td>\n",
              "      <td>762</td>\n",
              "      <td>6</td>\n",
              "      <td>0</td>\n",
              "      <td>1/1/2013 6:00</td>\n",
              "    </tr>\n",
              "    <tr>\n",
              "      <th>...</th>\n",
              "      <td>...</td>\n",
              "      <td>...</td>\n",
              "      <td>...</td>\n",
              "      <td>...</td>\n",
              "      <td>...</td>\n",
              "      <td>...</td>\n",
              "      <td>...</td>\n",
              "      <td>...</td>\n",
              "      <td>...</td>\n",
              "      <td>...</td>\n",
              "      <td>...</td>\n",
              "      <td>...</td>\n",
              "      <td>...</td>\n",
              "      <td>...</td>\n",
              "      <td>...</td>\n",
              "      <td>...</td>\n",
              "      <td>...</td>\n",
              "      <td>...</td>\n",
              "      <td>...</td>\n",
              "    </tr>\n",
              "    <tr>\n",
              "      <th>177345</th>\n",
              "      <td>2013</td>\n",
              "      <td>4</td>\n",
              "      <td>13</td>\n",
              "      <td>2135.0</td>\n",
              "      <td>2140</td>\n",
              "      <td>-5.0</td>\n",
              "      <td>24.0</td>\n",
              "      <td>28</td>\n",
              "      <td>-4.0</td>\n",
              "      <td>B6</td>\n",
              "      <td>43</td>\n",
              "      <td>N561JB</td>\n",
              "      <td>JFK</td>\n",
              "      <td>MCO</td>\n",
              "      <td>138.0</td>\n",
              "      <td>944</td>\n",
              "      <td>21</td>\n",
              "      <td>40</td>\n",
              "      <td>13-04-2013 21:00</td>\n",
              "    </tr>\n",
              "    <tr>\n",
              "      <th>177347</th>\n",
              "      <td>2013</td>\n",
              "      <td>4</td>\n",
              "      <td>13</td>\n",
              "      <td>2137.0</td>\n",
              "      <td>2135</td>\n",
              "      <td>2.0</td>\n",
              "      <td>2249.0</td>\n",
              "      <td>2252</td>\n",
              "      <td>-3.0</td>\n",
              "      <td>EV</td>\n",
              "      <td>4421</td>\n",
              "      <td>N12924</td>\n",
              "      <td>EWR</td>\n",
              "      <td>BTV</td>\n",
              "      <td>43.0</td>\n",
              "      <td>266</td>\n",
              "      <td>21</td>\n",
              "      <td>35</td>\n",
              "      <td>13-04-2013 21:00</td>\n",
              "    </tr>\n",
              "    <tr>\n",
              "      <th>177348</th>\n",
              "      <td>2013</td>\n",
              "      <td>4</td>\n",
              "      <td>13</td>\n",
              "      <td>2140.0</td>\n",
              "      <td>2150</td>\n",
              "      <td>-10.0</td>\n",
              "      <td>22.0</td>\n",
              "      <td>40</td>\n",
              "      <td>-18.0</td>\n",
              "      <td>B6</td>\n",
              "      <td>515</td>\n",
              "      <td>N273JB</td>\n",
              "      <td>EWR</td>\n",
              "      <td>FLL</td>\n",
              "      <td>151.0</td>\n",
              "      <td>1065</td>\n",
              "      <td>21</td>\n",
              "      <td>50</td>\n",
              "      <td>13-04-2013 21:00</td>\n",
              "    </tr>\n",
              "    <tr>\n",
              "      <th>177349</th>\n",
              "      <td>2013</td>\n",
              "      <td>4</td>\n",
              "      <td>13</td>\n",
              "      <td>2147.0</td>\n",
              "      <td>2140</td>\n",
              "      <td>7.0</td>\n",
              "      <td>2251.0</td>\n",
              "      <td>2310</td>\n",
              "      <td>-19.0</td>\n",
              "      <td>UA</td>\n",
              "      <td>1066</td>\n",
              "      <td>N37466</td>\n",
              "      <td>EWR</td>\n",
              "      <td>BOS</td>\n",
              "      <td>43.0</td>\n",
              "      <td>200</td>\n",
              "      <td>21</td>\n",
              "      <td>40</td>\n",
              "      <td>13-04-2013 21:00</td>\n",
              "    </tr>\n",
              "    <tr>\n",
              "      <th>177350</th>\n",
              "      <td>2013</td>\n",
              "      <td>4</td>\n",
              "      <td>13</td>\n",
              "      <td>2151.0</td>\n",
              "      <td>2159</td>\n",
              "      <td>-8.0</td>\n",
              "      <td>2248.0</td>\n",
              "      <td>2311</td>\n",
              "      <td>-23.0</td>\n",
              "      <td>EV</td>\n",
              "      <td>4309</td>\n",
              "      <td>N16541</td>\n",
              "      <td>EWR</td>\n",
              "      <td>PWM</td>\n",
              "      <td>45.0</td>\n",
              "      <td>284</td>\n",
              "      <td>21</td>\n",
              "      <td>59</td>\n",
              "      <td>13-</td>\n",
              "    </tr>\n",
              "  </tbody>\n",
              "</table>\n",
              "<p>172808 rows × 19 columns</p>\n",
              "</div>"
            ],
            "text/plain": [
              "        year  month  day  dep_time  ...  distance  hour  minute         time_hour\n",
              "0       2013      1    1     517.0  ...      1400     5      15     1/1/2013 5:00\n",
              "1       2013      1    1     533.0  ...      1416     5      29     1/1/2013 5:00\n",
              "2       2013      1    1     542.0  ...      1089     5      40     1/1/2013 5:00\n",
              "3       2013      1    1     544.0  ...      1576     5      45     1/1/2013 5:00\n",
              "4       2013      1    1     554.0  ...       762     6       0     1/1/2013 6:00\n",
              "...      ...    ...  ...       ...  ...       ...   ...     ...               ...\n",
              "177345  2013      4   13    2135.0  ...       944    21      40  13-04-2013 21:00\n",
              "177347  2013      4   13    2137.0  ...       266    21      35  13-04-2013 21:00\n",
              "177348  2013      4   13    2140.0  ...      1065    21      50  13-04-2013 21:00\n",
              "177349  2013      4   13    2147.0  ...       200    21      40  13-04-2013 21:00\n",
              "177350  2013      4   13    2151.0  ...       284    21      59               13-\n",
              "\n",
              "[172808 rows x 19 columns]"
            ]
          },
          "metadata": {
            "tags": []
          },
          "execution_count": 101
        }
      ]
    },
    {
      "cell_type": "code",
      "metadata": {
        "id": "HT3OA0xNEnPr",
        "colab_type": "code",
        "colab": {
          "base_uri": "https://localhost:8080/",
          "height": 592
        },
        "outputId": "7a7df24b-855c-4ab9-c52a-cee604743ed7"
      },
      "source": [
        "flights.query(\"arr_delay <= 120 | dep_delay <= 120\") # Double Check"
      ],
      "execution_count": 102,
      "outputs": [
        {
          "output_type": "execute_result",
          "data": {
            "text/html": [
              "<div>\n",
              "<style scoped>\n",
              "    .dataframe tbody tr th:only-of-type {\n",
              "        vertical-align: middle;\n",
              "    }\n",
              "\n",
              "    .dataframe tbody tr th {\n",
              "        vertical-align: top;\n",
              "    }\n",
              "\n",
              "    .dataframe thead th {\n",
              "        text-align: right;\n",
              "    }\n",
              "</style>\n",
              "<table border=\"1\" class=\"dataframe\">\n",
              "  <thead>\n",
              "    <tr style=\"text-align: right;\">\n",
              "      <th></th>\n",
              "      <th>year</th>\n",
              "      <th>month</th>\n",
              "      <th>day</th>\n",
              "      <th>dep_time</th>\n",
              "      <th>sched_dep_time</th>\n",
              "      <th>dep_delay</th>\n",
              "      <th>arr_time</th>\n",
              "      <th>sched_arr_time</th>\n",
              "      <th>arr_delay</th>\n",
              "      <th>carrier</th>\n",
              "      <th>flight</th>\n",
              "      <th>tailnum</th>\n",
              "      <th>origin</th>\n",
              "      <th>dest</th>\n",
              "      <th>air_time</th>\n",
              "      <th>distance</th>\n",
              "      <th>hour</th>\n",
              "      <th>minute</th>\n",
              "      <th>time_hour</th>\n",
              "    </tr>\n",
              "  </thead>\n",
              "  <tbody>\n",
              "    <tr>\n",
              "      <th>0</th>\n",
              "      <td>2013</td>\n",
              "      <td>1</td>\n",
              "      <td>1</td>\n",
              "      <td>517.0</td>\n",
              "      <td>515</td>\n",
              "      <td>2.0</td>\n",
              "      <td>830.0</td>\n",
              "      <td>819</td>\n",
              "      <td>11.0</td>\n",
              "      <td>UA</td>\n",
              "      <td>1545</td>\n",
              "      <td>N14228</td>\n",
              "      <td>EWR</td>\n",
              "      <td>IAH</td>\n",
              "      <td>227.0</td>\n",
              "      <td>1400</td>\n",
              "      <td>5</td>\n",
              "      <td>15</td>\n",
              "      <td>1/1/2013 5:00</td>\n",
              "    </tr>\n",
              "    <tr>\n",
              "      <th>1</th>\n",
              "      <td>2013</td>\n",
              "      <td>1</td>\n",
              "      <td>1</td>\n",
              "      <td>533.0</td>\n",
              "      <td>529</td>\n",
              "      <td>4.0</td>\n",
              "      <td>850.0</td>\n",
              "      <td>830</td>\n",
              "      <td>20.0</td>\n",
              "      <td>UA</td>\n",
              "      <td>1714</td>\n",
              "      <td>N24211</td>\n",
              "      <td>LGA</td>\n",
              "      <td>IAH</td>\n",
              "      <td>227.0</td>\n",
              "      <td>1416</td>\n",
              "      <td>5</td>\n",
              "      <td>29</td>\n",
              "      <td>1/1/2013 5:00</td>\n",
              "    </tr>\n",
              "    <tr>\n",
              "      <th>2</th>\n",
              "      <td>2013</td>\n",
              "      <td>1</td>\n",
              "      <td>1</td>\n",
              "      <td>542.0</td>\n",
              "      <td>540</td>\n",
              "      <td>2.0</td>\n",
              "      <td>923.0</td>\n",
              "      <td>850</td>\n",
              "      <td>33.0</td>\n",
              "      <td>AA</td>\n",
              "      <td>1141</td>\n",
              "      <td>N619AA</td>\n",
              "      <td>JFK</td>\n",
              "      <td>MIA</td>\n",
              "      <td>160.0</td>\n",
              "      <td>1089</td>\n",
              "      <td>5</td>\n",
              "      <td>40</td>\n",
              "      <td>1/1/2013 5:00</td>\n",
              "    </tr>\n",
              "    <tr>\n",
              "      <th>3</th>\n",
              "      <td>2013</td>\n",
              "      <td>1</td>\n",
              "      <td>1</td>\n",
              "      <td>544.0</td>\n",
              "      <td>545</td>\n",
              "      <td>-1.0</td>\n",
              "      <td>1004.0</td>\n",
              "      <td>1022</td>\n",
              "      <td>-18.0</td>\n",
              "      <td>B6</td>\n",
              "      <td>725</td>\n",
              "      <td>N804JB</td>\n",
              "      <td>JFK</td>\n",
              "      <td>BQN</td>\n",
              "      <td>183.0</td>\n",
              "      <td>1576</td>\n",
              "      <td>5</td>\n",
              "      <td>45</td>\n",
              "      <td>1/1/2013 5:00</td>\n",
              "    </tr>\n",
              "    <tr>\n",
              "      <th>4</th>\n",
              "      <td>2013</td>\n",
              "      <td>1</td>\n",
              "      <td>1</td>\n",
              "      <td>554.0</td>\n",
              "      <td>600</td>\n",
              "      <td>-6.0</td>\n",
              "      <td>812.0</td>\n",
              "      <td>837</td>\n",
              "      <td>-25.0</td>\n",
              "      <td>DL</td>\n",
              "      <td>461</td>\n",
              "      <td>N668DN</td>\n",
              "      <td>LGA</td>\n",
              "      <td>ATL</td>\n",
              "      <td>116.0</td>\n",
              "      <td>762</td>\n",
              "      <td>6</td>\n",
              "      <td>0</td>\n",
              "      <td>1/1/2013 6:00</td>\n",
              "    </tr>\n",
              "    <tr>\n",
              "      <th>...</th>\n",
              "      <td>...</td>\n",
              "      <td>...</td>\n",
              "      <td>...</td>\n",
              "      <td>...</td>\n",
              "      <td>...</td>\n",
              "      <td>...</td>\n",
              "      <td>...</td>\n",
              "      <td>...</td>\n",
              "      <td>...</td>\n",
              "      <td>...</td>\n",
              "      <td>...</td>\n",
              "      <td>...</td>\n",
              "      <td>...</td>\n",
              "      <td>...</td>\n",
              "      <td>...</td>\n",
              "      <td>...</td>\n",
              "      <td>...</td>\n",
              "      <td>...</td>\n",
              "      <td>...</td>\n",
              "    </tr>\n",
              "    <tr>\n",
              "      <th>177345</th>\n",
              "      <td>2013</td>\n",
              "      <td>4</td>\n",
              "      <td>13</td>\n",
              "      <td>2135.0</td>\n",
              "      <td>2140</td>\n",
              "      <td>-5.0</td>\n",
              "      <td>24.0</td>\n",
              "      <td>28</td>\n",
              "      <td>-4.0</td>\n",
              "      <td>B6</td>\n",
              "      <td>43</td>\n",
              "      <td>N561JB</td>\n",
              "      <td>JFK</td>\n",
              "      <td>MCO</td>\n",
              "      <td>138.0</td>\n",
              "      <td>944</td>\n",
              "      <td>21</td>\n",
              "      <td>40</td>\n",
              "      <td>13-04-2013 21:00</td>\n",
              "    </tr>\n",
              "    <tr>\n",
              "      <th>177347</th>\n",
              "      <td>2013</td>\n",
              "      <td>4</td>\n",
              "      <td>13</td>\n",
              "      <td>2137.0</td>\n",
              "      <td>2135</td>\n",
              "      <td>2.0</td>\n",
              "      <td>2249.0</td>\n",
              "      <td>2252</td>\n",
              "      <td>-3.0</td>\n",
              "      <td>EV</td>\n",
              "      <td>4421</td>\n",
              "      <td>N12924</td>\n",
              "      <td>EWR</td>\n",
              "      <td>BTV</td>\n",
              "      <td>43.0</td>\n",
              "      <td>266</td>\n",
              "      <td>21</td>\n",
              "      <td>35</td>\n",
              "      <td>13-04-2013 21:00</td>\n",
              "    </tr>\n",
              "    <tr>\n",
              "      <th>177348</th>\n",
              "      <td>2013</td>\n",
              "      <td>4</td>\n",
              "      <td>13</td>\n",
              "      <td>2140.0</td>\n",
              "      <td>2150</td>\n",
              "      <td>-10.0</td>\n",
              "      <td>22.0</td>\n",
              "      <td>40</td>\n",
              "      <td>-18.0</td>\n",
              "      <td>B6</td>\n",
              "      <td>515</td>\n",
              "      <td>N273JB</td>\n",
              "      <td>EWR</td>\n",
              "      <td>FLL</td>\n",
              "      <td>151.0</td>\n",
              "      <td>1065</td>\n",
              "      <td>21</td>\n",
              "      <td>50</td>\n",
              "      <td>13-04-2013 21:00</td>\n",
              "    </tr>\n",
              "    <tr>\n",
              "      <th>177349</th>\n",
              "      <td>2013</td>\n",
              "      <td>4</td>\n",
              "      <td>13</td>\n",
              "      <td>2147.0</td>\n",
              "      <td>2140</td>\n",
              "      <td>7.0</td>\n",
              "      <td>2251.0</td>\n",
              "      <td>2310</td>\n",
              "      <td>-19.0</td>\n",
              "      <td>UA</td>\n",
              "      <td>1066</td>\n",
              "      <td>N37466</td>\n",
              "      <td>EWR</td>\n",
              "      <td>BOS</td>\n",
              "      <td>43.0</td>\n",
              "      <td>200</td>\n",
              "      <td>21</td>\n",
              "      <td>40</td>\n",
              "      <td>13-04-2013 21:00</td>\n",
              "    </tr>\n",
              "    <tr>\n",
              "      <th>177350</th>\n",
              "      <td>2013</td>\n",
              "      <td>4</td>\n",
              "      <td>13</td>\n",
              "      <td>2151.0</td>\n",
              "      <td>2159</td>\n",
              "      <td>-8.0</td>\n",
              "      <td>2248.0</td>\n",
              "      <td>2311</td>\n",
              "      <td>-23.0</td>\n",
              "      <td>EV</td>\n",
              "      <td>4309</td>\n",
              "      <td>N16541</td>\n",
              "      <td>EWR</td>\n",
              "      <td>PWM</td>\n",
              "      <td>45.0</td>\n",
              "      <td>284</td>\n",
              "      <td>21</td>\n",
              "      <td>59</td>\n",
              "      <td>13-</td>\n",
              "    </tr>\n",
              "  </tbody>\n",
              "</table>\n",
              "<p>169535 rows × 19 columns</p>\n",
              "</div>"
            ],
            "text/plain": [
              "        year  month  day  dep_time  ...  distance  hour  minute         time_hour\n",
              "0       2013      1    1     517.0  ...      1400     5      15     1/1/2013 5:00\n",
              "1       2013      1    1     533.0  ...      1416     5      29     1/1/2013 5:00\n",
              "2       2013      1    1     542.0  ...      1089     5      40     1/1/2013 5:00\n",
              "3       2013      1    1     544.0  ...      1576     5      45     1/1/2013 5:00\n",
              "4       2013      1    1     554.0  ...       762     6       0     1/1/2013 6:00\n",
              "...      ...    ...  ...       ...  ...       ...   ...     ...               ...\n",
              "177345  2013      4   13    2135.0  ...       944    21      40  13-04-2013 21:00\n",
              "177347  2013      4   13    2137.0  ...       266    21      35  13-04-2013 21:00\n",
              "177348  2013      4   13    2140.0  ...      1065    21      50  13-04-2013 21:00\n",
              "177349  2013      4   13    2147.0  ...       200    21      40  13-04-2013 21:00\n",
              "177350  2013      4   13    2151.0  ...       284    21      59               13-\n",
              "\n",
              "[169535 rows x 19 columns]"
            ]
          },
          "metadata": {
            "tags": []
          },
          "execution_count": 102
        }
      ]
    },
    {
      "cell_type": "markdown",
      "metadata": {
        "id": "3mCFECs2Fqzv",
        "colab_type": "text"
      },
      "source": [
        "Whenever you start using complicated, multipart expressions in query(), consider making them explicit variables instead. That makes it much easier to check your work. You’ll learn how to create new variables shortly."
      ]
    },
    {
      "cell_type": "markdown",
      "metadata": {
        "id": "N_UY3gzSGCGI",
        "colab_type": "text"
      },
      "source": [
        "### Missing Values\n",
        "\n",
        "One important feature of R that can make comparison tricky are missing values, or `NA`s (“not availables”). `NA` represents an unknown value so missing values are “contagious”: almost any operation involving an unknown value will also be unknown or False."
      ]
    },
    {
      "cell_type": "code",
      "metadata": {
        "id": "RTAGqeanFKtn",
        "colab_type": "code",
        "colab": {
          "base_uri": "https://localhost:8080/",
          "height": 35
        },
        "outputId": "00c368ac-d87a-41a3-977b-cd637eb5c81f"
      },
      "source": [
        "np.nan"
      ],
      "execution_count": 25,
      "outputs": [
        {
          "output_type": "execute_result",
          "data": {
            "text/plain": [
              "nan"
            ]
          },
          "metadata": {
            "tags": []
          },
          "execution_count": 25
        }
      ]
    },
    {
      "cell_type": "code",
      "metadata": {
        "id": "oP6YLrtrIdbe",
        "colab_type": "code",
        "colab": {
          "base_uri": "https://localhost:8080/",
          "height": 35
        },
        "outputId": "8fa1967f-a9e1-4620-f12c-4cfd12fb7767"
      },
      "source": [
        "np.nan > 5"
      ],
      "execution_count": 26,
      "outputs": [
        {
          "output_type": "execute_result",
          "data": {
            "text/plain": [
              "False"
            ]
          },
          "metadata": {
            "tags": []
          },
          "execution_count": 26
        }
      ]
    },
    {
      "cell_type": "code",
      "metadata": {
        "id": "UvnLm7hSIq_0",
        "colab_type": "code",
        "colab": {
          "base_uri": "https://localhost:8080/",
          "height": 35
        },
        "outputId": "2c87b57d-21c7-4c06-b36d-051aa5054cb5"
      },
      "source": [
        "np.nan < 5"
      ],
      "execution_count": 27,
      "outputs": [
        {
          "output_type": "execute_result",
          "data": {
            "text/plain": [
              "False"
            ]
          },
          "metadata": {
            "tags": []
          },
          "execution_count": 27
        }
      ]
    },
    {
      "cell_type": "code",
      "metadata": {
        "id": "k_UfExWgI0iF",
        "colab_type": "code",
        "colab": {
          "base_uri": "https://localhost:8080/",
          "height": 35
        },
        "outputId": "37059a38-ddbc-4ed5-c337-8a1168e51421"
      },
      "source": [
        "np.nan + 10"
      ],
      "execution_count": 28,
      "outputs": [
        {
          "output_type": "execute_result",
          "data": {
            "text/plain": [
              "nan"
            ]
          },
          "metadata": {
            "tags": []
          },
          "execution_count": 28
        }
      ]
    },
    {
      "cell_type": "code",
      "metadata": {
        "id": "B7V3k4D-I3Kw",
        "colab_type": "code",
        "colab": {
          "base_uri": "https://localhost:8080/",
          "height": 35
        },
        "outputId": "dae76859-a31e-469b-d12a-2ab71fe4aaf8"
      },
      "source": [
        "np.nan / 2"
      ],
      "execution_count": 29,
      "outputs": [
        {
          "output_type": "execute_result",
          "data": {
            "text/plain": [
              "nan"
            ]
          },
          "metadata": {
            "tags": []
          },
          "execution_count": 29
        }
      ]
    },
    {
      "cell_type": "markdown",
      "metadata": {
        "id": "bLeMlLSKI8sm",
        "colab_type": "text"
      },
      "source": [
        "The most confusing result is this one:"
      ]
    },
    {
      "cell_type": "code",
      "metadata": {
        "id": "zXnDCYKtI3_E",
        "colab_type": "code",
        "colab": {
          "base_uri": "https://localhost:8080/",
          "height": 35
        },
        "outputId": "9ec2e7f9-75c4-40f9-944c-79011ff7b190"
      },
      "source": [
        "np.nan == np.nan"
      ],
      "execution_count": 30,
      "outputs": [
        {
          "output_type": "execute_result",
          "data": {
            "text/plain": [
              "False"
            ]
          },
          "metadata": {
            "tags": []
          },
          "execution_count": 30
        }
      ]
    },
    {
      "cell_type": "markdown",
      "metadata": {
        "id": "OKTm8mMaJC7E",
        "colab_type": "text"
      },
      "source": [
        "It’s easiest to understand why this is true with a bit more context:"
      ]
    },
    {
      "cell_type": "code",
      "metadata": {
        "id": "jBz_qEuLI6cA",
        "colab_type": "code",
        "colab": {
          "base_uri": "https://localhost:8080/",
          "height": 35
        },
        "outputId": "e5fdbd3c-4e30-4f9a-c821-7e40f599b480"
      },
      "source": [
        "# Let x be Mary's age. We don't know how old she is.\n",
        "x = np.nan\n",
        "\n",
        "# Let y be John's age. We don't know how old he is.\n",
        "y = np.nan\n",
        "\n",
        "# Are John and Mary the same age?\n",
        "x == y\n",
        "# We don't know!"
      ],
      "execution_count": 32,
      "outputs": [
        {
          "output_type": "execute_result",
          "data": {
            "text/plain": [
              "False"
            ]
          },
          "metadata": {
            "tags": []
          },
          "execution_count": 32
        }
      ]
    },
    {
      "cell_type": "markdown",
      "metadata": {
        "id": "Vm2kYjRGJR33",
        "colab_type": "text"
      },
      "source": [
        "If you want to determine if a value is missing, use `pd.isna()`"
      ]
    },
    {
      "cell_type": "code",
      "metadata": {
        "id": "6YK_DjnMJLc9",
        "colab_type": "code",
        "colab": {
          "base_uri": "https://localhost:8080/",
          "height": 35
        },
        "outputId": "2e14d9ff-9ad8-4cdc-b8be-9ac55445649b"
      },
      "source": [
        "pd.isna(x)"
      ],
      "execution_count": 34,
      "outputs": [
        {
          "output_type": "execute_result",
          "data": {
            "text/plain": [
              "True"
            ]
          },
          "metadata": {
            "tags": []
          },
          "execution_count": 34
        }
      ]
    },
    {
      "cell_type": "markdown",
      "metadata": {
        "id": "0CcTuNp0MJJa",
        "colab_type": "text"
      },
      "source": [
        "`query()` only includes rows where the condition is TRUE; it excludes both FALSE."
      ]
    },
    {
      "cell_type": "markdown",
      "metadata": {
        "id": "DyUY29GXMbYT",
        "colab_type": "text"
      },
      "source": [
        "### Exercises\n",
        "\n",
        "1. Find all the flights that\n",
        "  1. Had an arrival delay of two or more hours\n",
        "  1. Flew to Houston (IAH or HOU)\n",
        "  1. Were operated by United, American, or Delta\n",
        "  1. Departed in summer (July, August, and September)\n",
        "  1. Arrived more than two hours late, but didn’t leave late\n",
        "  1. Were delayed by at least an hour, but made up over 30 minutes in flight\n",
        "  1. Departed between midnight and 6am (inclusive)6am\n",
        "\n",
        "1. How many flights have a missing dep_time? What other variables are missing? What might these rows represent?"
      ]
    },
    {
      "cell_type": "markdown",
      "metadata": {
        "id": "KDRlAAKcNYTz",
        "colab_type": "text"
      },
      "source": [
        "## Arrange rows with `sort_values()`\n",
        "`sort_values()` works similarly to `query()` except that instead of selecting rows, it changes their order. It takes a data frame and a set of column names (or more complicated expressions) to order by. If you provide more than one column name, each additional column will be used to break ties in the values of preceding columns:\n"
      ]
    },
    {
      "cell_type": "code",
      "metadata": {
        "id": "HgTQQLObNAi2",
        "colab_type": "code",
        "colab": {
          "base_uri": "https://localhost:8080/",
          "height": 609
        },
        "outputId": "65b6dffb-1d75-4fb0-cb64-6b21f1242902"
      },
      "source": [
        "flights.sort_values(by=[\"year\", \"month\", \"day\"])"
      ],
      "execution_count": 103,
      "outputs": [
        {
          "output_type": "execute_result",
          "data": {
            "text/html": [
              "<div>\n",
              "<style scoped>\n",
              "    .dataframe tbody tr th:only-of-type {\n",
              "        vertical-align: middle;\n",
              "    }\n",
              "\n",
              "    .dataframe tbody tr th {\n",
              "        vertical-align: top;\n",
              "    }\n",
              "\n",
              "    .dataframe thead th {\n",
              "        text-align: right;\n",
              "    }\n",
              "</style>\n",
              "<table border=\"1\" class=\"dataframe\">\n",
              "  <thead>\n",
              "    <tr style=\"text-align: right;\">\n",
              "      <th></th>\n",
              "      <th>year</th>\n",
              "      <th>month</th>\n",
              "      <th>day</th>\n",
              "      <th>dep_time</th>\n",
              "      <th>sched_dep_time</th>\n",
              "      <th>dep_delay</th>\n",
              "      <th>arr_time</th>\n",
              "      <th>sched_arr_time</th>\n",
              "      <th>arr_delay</th>\n",
              "      <th>carrier</th>\n",
              "      <th>flight</th>\n",
              "      <th>tailnum</th>\n",
              "      <th>origin</th>\n",
              "      <th>dest</th>\n",
              "      <th>air_time</th>\n",
              "      <th>distance</th>\n",
              "      <th>hour</th>\n",
              "      <th>minute</th>\n",
              "      <th>time_hour</th>\n",
              "    </tr>\n",
              "  </thead>\n",
              "  <tbody>\n",
              "    <tr>\n",
              "      <th>0</th>\n",
              "      <td>2013</td>\n",
              "      <td>1</td>\n",
              "      <td>1</td>\n",
              "      <td>517.0</td>\n",
              "      <td>515</td>\n",
              "      <td>2.0</td>\n",
              "      <td>830.0</td>\n",
              "      <td>819</td>\n",
              "      <td>11.0</td>\n",
              "      <td>UA</td>\n",
              "      <td>1545</td>\n",
              "      <td>N14228</td>\n",
              "      <td>EWR</td>\n",
              "      <td>IAH</td>\n",
              "      <td>227.0</td>\n",
              "      <td>1400</td>\n",
              "      <td>5</td>\n",
              "      <td>15</td>\n",
              "      <td>1/1/2013 5:00</td>\n",
              "    </tr>\n",
              "    <tr>\n",
              "      <th>1</th>\n",
              "      <td>2013</td>\n",
              "      <td>1</td>\n",
              "      <td>1</td>\n",
              "      <td>533.0</td>\n",
              "      <td>529</td>\n",
              "      <td>4.0</td>\n",
              "      <td>850.0</td>\n",
              "      <td>830</td>\n",
              "      <td>20.0</td>\n",
              "      <td>UA</td>\n",
              "      <td>1714</td>\n",
              "      <td>N24211</td>\n",
              "      <td>LGA</td>\n",
              "      <td>IAH</td>\n",
              "      <td>227.0</td>\n",
              "      <td>1416</td>\n",
              "      <td>5</td>\n",
              "      <td>29</td>\n",
              "      <td>1/1/2013 5:00</td>\n",
              "    </tr>\n",
              "    <tr>\n",
              "      <th>2</th>\n",
              "      <td>2013</td>\n",
              "      <td>1</td>\n",
              "      <td>1</td>\n",
              "      <td>542.0</td>\n",
              "      <td>540</td>\n",
              "      <td>2.0</td>\n",
              "      <td>923.0</td>\n",
              "      <td>850</td>\n",
              "      <td>33.0</td>\n",
              "      <td>AA</td>\n",
              "      <td>1141</td>\n",
              "      <td>N619AA</td>\n",
              "      <td>JFK</td>\n",
              "      <td>MIA</td>\n",
              "      <td>160.0</td>\n",
              "      <td>1089</td>\n",
              "      <td>5</td>\n",
              "      <td>40</td>\n",
              "      <td>1/1/2013 5:00</td>\n",
              "    </tr>\n",
              "    <tr>\n",
              "      <th>3</th>\n",
              "      <td>2013</td>\n",
              "      <td>1</td>\n",
              "      <td>1</td>\n",
              "      <td>544.0</td>\n",
              "      <td>545</td>\n",
              "      <td>-1.0</td>\n",
              "      <td>1004.0</td>\n",
              "      <td>1022</td>\n",
              "      <td>-18.0</td>\n",
              "      <td>B6</td>\n",
              "      <td>725</td>\n",
              "      <td>N804JB</td>\n",
              "      <td>JFK</td>\n",
              "      <td>BQN</td>\n",
              "      <td>183.0</td>\n",
              "      <td>1576</td>\n",
              "      <td>5</td>\n",
              "      <td>45</td>\n",
              "      <td>1/1/2013 5:00</td>\n",
              "    </tr>\n",
              "    <tr>\n",
              "      <th>4</th>\n",
              "      <td>2013</td>\n",
              "      <td>1</td>\n",
              "      <td>1</td>\n",
              "      <td>554.0</td>\n",
              "      <td>600</td>\n",
              "      <td>-6.0</td>\n",
              "      <td>812.0</td>\n",
              "      <td>837</td>\n",
              "      <td>-25.0</td>\n",
              "      <td>DL</td>\n",
              "      <td>461</td>\n",
              "      <td>N668DN</td>\n",
              "      <td>LGA</td>\n",
              "      <td>ATL</td>\n",
              "      <td>116.0</td>\n",
              "      <td>762</td>\n",
              "      <td>6</td>\n",
              "      <td>0</td>\n",
              "      <td>1/1/2013 6:00</td>\n",
              "    </tr>\n",
              "    <tr>\n",
              "      <th>...</th>\n",
              "      <td>...</td>\n",
              "      <td>...</td>\n",
              "      <td>...</td>\n",
              "      <td>...</td>\n",
              "      <td>...</td>\n",
              "      <td>...</td>\n",
              "      <td>...</td>\n",
              "      <td>...</td>\n",
              "      <td>...</td>\n",
              "      <td>...</td>\n",
              "      <td>...</td>\n",
              "      <td>...</td>\n",
              "      <td>...</td>\n",
              "      <td>...</td>\n",
              "      <td>...</td>\n",
              "      <td>...</td>\n",
              "      <td>...</td>\n",
              "      <td>...</td>\n",
              "      <td>...</td>\n",
              "    </tr>\n",
              "    <tr>\n",
              "      <th>111291</th>\n",
              "      <td>2013</td>\n",
              "      <td>12</td>\n",
              "      <td>31</td>\n",
              "      <td>NaN</td>\n",
              "      <td>705</td>\n",
              "      <td>NaN</td>\n",
              "      <td>NaN</td>\n",
              "      <td>931</td>\n",
              "      <td>NaN</td>\n",
              "      <td>UA</td>\n",
              "      <td>1729</td>\n",
              "      <td>NaN</td>\n",
              "      <td>EWR</td>\n",
              "      <td>DEN</td>\n",
              "      <td>NaN</td>\n",
              "      <td>1605</td>\n",
              "      <td>7</td>\n",
              "      <td>5</td>\n",
              "      <td>31-12-2013 07:00</td>\n",
              "    </tr>\n",
              "    <tr>\n",
              "      <th>111292</th>\n",
              "      <td>2013</td>\n",
              "      <td>12</td>\n",
              "      <td>31</td>\n",
              "      <td>NaN</td>\n",
              "      <td>825</td>\n",
              "      <td>NaN</td>\n",
              "      <td>NaN</td>\n",
              "      <td>1029</td>\n",
              "      <td>NaN</td>\n",
              "      <td>US</td>\n",
              "      <td>1831</td>\n",
              "      <td>NaN</td>\n",
              "      <td>JFK</td>\n",
              "      <td>CLT</td>\n",
              "      <td>NaN</td>\n",
              "      <td>541</td>\n",
              "      <td>8</td>\n",
              "      <td>25</td>\n",
              "      <td>31-12-2013 08:00</td>\n",
              "    </tr>\n",
              "    <tr>\n",
              "      <th>111293</th>\n",
              "      <td>2013</td>\n",
              "      <td>12</td>\n",
              "      <td>31</td>\n",
              "      <td>NaN</td>\n",
              "      <td>1615</td>\n",
              "      <td>NaN</td>\n",
              "      <td>NaN</td>\n",
              "      <td>1800</td>\n",
              "      <td>NaN</td>\n",
              "      <td>MQ</td>\n",
              "      <td>3301</td>\n",
              "      <td>N844MQ</td>\n",
              "      <td>LGA</td>\n",
              "      <td>RDU</td>\n",
              "      <td>NaN</td>\n",
              "      <td>431</td>\n",
              "      <td>16</td>\n",
              "      <td>15</td>\n",
              "      <td>31-12-2013 16:00</td>\n",
              "    </tr>\n",
              "    <tr>\n",
              "      <th>111294</th>\n",
              "      <td>2013</td>\n",
              "      <td>12</td>\n",
              "      <td>31</td>\n",
              "      <td>NaN</td>\n",
              "      <td>600</td>\n",
              "      <td>NaN</td>\n",
              "      <td>NaN</td>\n",
              "      <td>735</td>\n",
              "      <td>NaN</td>\n",
              "      <td>UA</td>\n",
              "      <td>219</td>\n",
              "      <td>NaN</td>\n",
              "      <td>EWR</td>\n",
              "      <td>ORD</td>\n",
              "      <td>NaN</td>\n",
              "      <td>719</td>\n",
              "      <td>6</td>\n",
              "      <td>0</td>\n",
              "      <td>31-12-2013 06:00</td>\n",
              "    </tr>\n",
              "    <tr>\n",
              "      <th>111295</th>\n",
              "      <td>2013</td>\n",
              "      <td>12</td>\n",
              "      <td>31</td>\n",
              "      <td>NaN</td>\n",
              "      <td>830</td>\n",
              "      <td>NaN</td>\n",
              "      <td>NaN</td>\n",
              "      <td>1154</td>\n",
              "      <td>NaN</td>\n",
              "      <td>UA</td>\n",
              "      <td>443</td>\n",
              "      <td>NaN</td>\n",
              "      <td>JFK</td>\n",
              "      <td>LAX</td>\n",
              "      <td>NaN</td>\n",
              "      <td>2475</td>\n",
              "      <td>8</td>\n",
              "      <td>30</td>\n",
              "      <td>31-12-2013 08:00</td>\n",
              "    </tr>\n",
              "  </tbody>\n",
              "</table>\n",
              "<p>177351 rows × 19 columns</p>\n",
              "</div>"
            ],
            "text/plain": [
              "        year  month  day  dep_time  ...  distance  hour  minute         time_hour\n",
              "0       2013      1    1     517.0  ...      1400     5      15     1/1/2013 5:00\n",
              "1       2013      1    1     533.0  ...      1416     5      29     1/1/2013 5:00\n",
              "2       2013      1    1     542.0  ...      1089     5      40     1/1/2013 5:00\n",
              "3       2013      1    1     544.0  ...      1576     5      45     1/1/2013 5:00\n",
              "4       2013      1    1     554.0  ...       762     6       0     1/1/2013 6:00\n",
              "...      ...    ...  ...       ...  ...       ...   ...     ...               ...\n",
              "111291  2013     12   31       NaN  ...      1605     7       5  31-12-2013 07:00\n",
              "111292  2013     12   31       NaN  ...       541     8      25  31-12-2013 08:00\n",
              "111293  2013     12   31       NaN  ...       431    16      15  31-12-2013 16:00\n",
              "111294  2013     12   31       NaN  ...       719     6       0  31-12-2013 06:00\n",
              "111295  2013     12   31       NaN  ...      2475     8      30  31-12-2013 08:00\n",
              "\n",
              "[177351 rows x 19 columns]"
            ]
          },
          "metadata": {
            "tags": []
          },
          "execution_count": 103
        }
      ]
    },
    {
      "cell_type": "markdown",
      "metadata": {
        "id": "eKs8ubbhNsod",
        "colab_type": "text"
      },
      "source": [
        "Use `ascending=False` to re-order by a column in descending order:"
      ]
    },
    {
      "cell_type": "code",
      "metadata": {
        "id": "FXH_tpKPNn56",
        "colab_type": "code",
        "colab": {
          "base_uri": "https://localhost:8080/",
          "height": 309
        },
        "outputId": "c65a1e0c-dcb8-47b8-e536-336f814c9b2f"
      },
      "source": [
        "flights.sort_values(by=[\"year\", \"month\", \"day\"], ascending=False).head()"
      ],
      "execution_count": 116,
      "outputs": [
        {
          "output_type": "execute_result",
          "data": {
            "text/html": [
              "<div>\n",
              "<style scoped>\n",
              "    .dataframe tbody tr th:only-of-type {\n",
              "        vertical-align: middle;\n",
              "    }\n",
              "\n",
              "    .dataframe tbody tr th {\n",
              "        vertical-align: top;\n",
              "    }\n",
              "\n",
              "    .dataframe thead th {\n",
              "        text-align: right;\n",
              "    }\n",
              "</style>\n",
              "<table border=\"1\" class=\"dataframe\">\n",
              "  <thead>\n",
              "    <tr style=\"text-align: right;\">\n",
              "      <th></th>\n",
              "      <th>year</th>\n",
              "      <th>month</th>\n",
              "      <th>day</th>\n",
              "      <th>dep_time</th>\n",
              "      <th>sched_dep_time</th>\n",
              "      <th>dep_delay</th>\n",
              "      <th>arr_time</th>\n",
              "      <th>sched_arr_time</th>\n",
              "      <th>arr_delay</th>\n",
              "      <th>carrier</th>\n",
              "      <th>flight</th>\n",
              "      <th>tailnum</th>\n",
              "      <th>origin</th>\n",
              "      <th>dest</th>\n",
              "      <th>air_time</th>\n",
              "      <th>distance</th>\n",
              "      <th>hour</th>\n",
              "      <th>minute</th>\n",
              "      <th>time_hour</th>\n",
              "    </tr>\n",
              "  </thead>\n",
              "  <tbody>\n",
              "    <tr>\n",
              "      <th>110520</th>\n",
              "      <td>2013</td>\n",
              "      <td>12</td>\n",
              "      <td>31</td>\n",
              "      <td>13.0</td>\n",
              "      <td>2359</td>\n",
              "      <td>14.0</td>\n",
              "      <td>439.0</td>\n",
              "      <td>437</td>\n",
              "      <td>2.0</td>\n",
              "      <td>B6</td>\n",
              "      <td>839</td>\n",
              "      <td>N566JB</td>\n",
              "      <td>JFK</td>\n",
              "      <td>BQN</td>\n",
              "      <td>189.0</td>\n",
              "      <td>1576</td>\n",
              "      <td>23</td>\n",
              "      <td>59</td>\n",
              "      <td>31-12-2013 23:00</td>\n",
              "    </tr>\n",
              "    <tr>\n",
              "      <th>110521</th>\n",
              "      <td>2013</td>\n",
              "      <td>12</td>\n",
              "      <td>31</td>\n",
              "      <td>18.0</td>\n",
              "      <td>2359</td>\n",
              "      <td>19.0</td>\n",
              "      <td>449.0</td>\n",
              "      <td>444</td>\n",
              "      <td>5.0</td>\n",
              "      <td>DL</td>\n",
              "      <td>412</td>\n",
              "      <td>N713TW</td>\n",
              "      <td>JFK</td>\n",
              "      <td>SJU</td>\n",
              "      <td>192.0</td>\n",
              "      <td>1598</td>\n",
              "      <td>23</td>\n",
              "      <td>59</td>\n",
              "      <td>31-12-2013 23:00</td>\n",
              "    </tr>\n",
              "    <tr>\n",
              "      <th>110522</th>\n",
              "      <td>2013</td>\n",
              "      <td>12</td>\n",
              "      <td>31</td>\n",
              "      <td>26.0</td>\n",
              "      <td>2245</td>\n",
              "      <td>101.0</td>\n",
              "      <td>129.0</td>\n",
              "      <td>2353</td>\n",
              "      <td>96.0</td>\n",
              "      <td>B6</td>\n",
              "      <td>108</td>\n",
              "      <td>N374JB</td>\n",
              "      <td>JFK</td>\n",
              "      <td>PWM</td>\n",
              "      <td>50.0</td>\n",
              "      <td>273</td>\n",
              "      <td>22</td>\n",
              "      <td>45</td>\n",
              "      <td>31-12-2013 22:00</td>\n",
              "    </tr>\n",
              "    <tr>\n",
              "      <th>110523</th>\n",
              "      <td>2013</td>\n",
              "      <td>12</td>\n",
              "      <td>31</td>\n",
              "      <td>459.0</td>\n",
              "      <td>500</td>\n",
              "      <td>-1.0</td>\n",
              "      <td>655.0</td>\n",
              "      <td>651</td>\n",
              "      <td>4.0</td>\n",
              "      <td>US</td>\n",
              "      <td>1895</td>\n",
              "      <td>N557UW</td>\n",
              "      <td>EWR</td>\n",
              "      <td>CLT</td>\n",
              "      <td>95.0</td>\n",
              "      <td>529</td>\n",
              "      <td>5</td>\n",
              "      <td>0</td>\n",
              "      <td>31-12-2013 05:00</td>\n",
              "    </tr>\n",
              "    <tr>\n",
              "      <th>110524</th>\n",
              "      <td>2013</td>\n",
              "      <td>12</td>\n",
              "      <td>31</td>\n",
              "      <td>514.0</td>\n",
              "      <td>515</td>\n",
              "      <td>-1.0</td>\n",
              "      <td>814.0</td>\n",
              "      <td>812</td>\n",
              "      <td>2.0</td>\n",
              "      <td>UA</td>\n",
              "      <td>700</td>\n",
              "      <td>N470UA</td>\n",
              "      <td>EWR</td>\n",
              "      <td>IAH</td>\n",
              "      <td>223.0</td>\n",
              "      <td>1400</td>\n",
              "      <td>5</td>\n",
              "      <td>15</td>\n",
              "      <td>31-12-2013 05:00</td>\n",
              "    </tr>\n",
              "  </tbody>\n",
              "</table>\n",
              "</div>"
            ],
            "text/plain": [
              "        year  month  day  dep_time  ...  distance  hour  minute         time_hour\n",
              "110520  2013     12   31      13.0  ...      1576    23      59  31-12-2013 23:00\n",
              "110521  2013     12   31      18.0  ...      1598    23      59  31-12-2013 23:00\n",
              "110522  2013     12   31      26.0  ...       273    22      45  31-12-2013 22:00\n",
              "110523  2013     12   31     459.0  ...       529     5       0  31-12-2013 05:00\n",
              "110524  2013     12   31     514.0  ...      1400     5      15  31-12-2013 05:00\n",
              "\n",
              "[5 rows x 19 columns]"
            ]
          },
          "metadata": {
            "tags": []
          },
          "execution_count": 116
        }
      ]
    },
    {
      "cell_type": "markdown",
      "metadata": {
        "id": "B-T36djdZGqH",
        "colab_type": "text"
      },
      "source": [
        "Missing values are sorted at the end:"
      ]
    },
    {
      "cell_type": "code",
      "metadata": {
        "id": "El5OGq0iNzcI",
        "colab_type": "code",
        "colab": {
          "base_uri": "https://localhost:8080/",
          "height": 309
        },
        "outputId": "0f0df547-1cfa-41d7-ddb1-7eb92415afa8"
      },
      "source": [
        "flights.sort_values(by=[\"year\", \"month\", \"dep_time\"]).tail()"
      ],
      "execution_count": 115,
      "outputs": [
        {
          "output_type": "execute_result",
          "data": {
            "text/html": [
              "<div>\n",
              "<style scoped>\n",
              "    .dataframe tbody tr th:only-of-type {\n",
              "        vertical-align: middle;\n",
              "    }\n",
              "\n",
              "    .dataframe tbody tr th {\n",
              "        vertical-align: top;\n",
              "    }\n",
              "\n",
              "    .dataframe thead th {\n",
              "        text-align: right;\n",
              "    }\n",
              "</style>\n",
              "<table border=\"1\" class=\"dataframe\">\n",
              "  <thead>\n",
              "    <tr style=\"text-align: right;\">\n",
              "      <th></th>\n",
              "      <th>year</th>\n",
              "      <th>month</th>\n",
              "      <th>day</th>\n",
              "      <th>dep_time</th>\n",
              "      <th>sched_dep_time</th>\n",
              "      <th>dep_delay</th>\n",
              "      <th>arr_time</th>\n",
              "      <th>sched_arr_time</th>\n",
              "      <th>arr_delay</th>\n",
              "      <th>carrier</th>\n",
              "      <th>flight</th>\n",
              "      <th>tailnum</th>\n",
              "      <th>origin</th>\n",
              "      <th>dest</th>\n",
              "      <th>air_time</th>\n",
              "      <th>distance</th>\n",
              "      <th>hour</th>\n",
              "      <th>minute</th>\n",
              "      <th>time_hour</th>\n",
              "    </tr>\n",
              "  </thead>\n",
              "  <tbody>\n",
              "    <tr>\n",
              "      <th>111291</th>\n",
              "      <td>2013</td>\n",
              "      <td>12</td>\n",
              "      <td>31</td>\n",
              "      <td>NaN</td>\n",
              "      <td>705</td>\n",
              "      <td>NaN</td>\n",
              "      <td>NaN</td>\n",
              "      <td>931</td>\n",
              "      <td>NaN</td>\n",
              "      <td>UA</td>\n",
              "      <td>1729</td>\n",
              "      <td>NaN</td>\n",
              "      <td>EWR</td>\n",
              "      <td>DEN</td>\n",
              "      <td>NaN</td>\n",
              "      <td>1605</td>\n",
              "      <td>7</td>\n",
              "      <td>5</td>\n",
              "      <td>31-12-2013 07:00</td>\n",
              "    </tr>\n",
              "    <tr>\n",
              "      <th>111292</th>\n",
              "      <td>2013</td>\n",
              "      <td>12</td>\n",
              "      <td>31</td>\n",
              "      <td>NaN</td>\n",
              "      <td>825</td>\n",
              "      <td>NaN</td>\n",
              "      <td>NaN</td>\n",
              "      <td>1029</td>\n",
              "      <td>NaN</td>\n",
              "      <td>US</td>\n",
              "      <td>1831</td>\n",
              "      <td>NaN</td>\n",
              "      <td>JFK</td>\n",
              "      <td>CLT</td>\n",
              "      <td>NaN</td>\n",
              "      <td>541</td>\n",
              "      <td>8</td>\n",
              "      <td>25</td>\n",
              "      <td>31-12-2013 08:00</td>\n",
              "    </tr>\n",
              "    <tr>\n",
              "      <th>111293</th>\n",
              "      <td>2013</td>\n",
              "      <td>12</td>\n",
              "      <td>31</td>\n",
              "      <td>NaN</td>\n",
              "      <td>1615</td>\n",
              "      <td>NaN</td>\n",
              "      <td>NaN</td>\n",
              "      <td>1800</td>\n",
              "      <td>NaN</td>\n",
              "      <td>MQ</td>\n",
              "      <td>3301</td>\n",
              "      <td>N844MQ</td>\n",
              "      <td>LGA</td>\n",
              "      <td>RDU</td>\n",
              "      <td>NaN</td>\n",
              "      <td>431</td>\n",
              "      <td>16</td>\n",
              "      <td>15</td>\n",
              "      <td>31-12-2013 16:00</td>\n",
              "    </tr>\n",
              "    <tr>\n",
              "      <th>111294</th>\n",
              "      <td>2013</td>\n",
              "      <td>12</td>\n",
              "      <td>31</td>\n",
              "      <td>NaN</td>\n",
              "      <td>600</td>\n",
              "      <td>NaN</td>\n",
              "      <td>NaN</td>\n",
              "      <td>735</td>\n",
              "      <td>NaN</td>\n",
              "      <td>UA</td>\n",
              "      <td>219</td>\n",
              "      <td>NaN</td>\n",
              "      <td>EWR</td>\n",
              "      <td>ORD</td>\n",
              "      <td>NaN</td>\n",
              "      <td>719</td>\n",
              "      <td>6</td>\n",
              "      <td>0</td>\n",
              "      <td>31-12-2013 06:00</td>\n",
              "    </tr>\n",
              "    <tr>\n",
              "      <th>111295</th>\n",
              "      <td>2013</td>\n",
              "      <td>12</td>\n",
              "      <td>31</td>\n",
              "      <td>NaN</td>\n",
              "      <td>830</td>\n",
              "      <td>NaN</td>\n",
              "      <td>NaN</td>\n",
              "      <td>1154</td>\n",
              "      <td>NaN</td>\n",
              "      <td>UA</td>\n",
              "      <td>443</td>\n",
              "      <td>NaN</td>\n",
              "      <td>JFK</td>\n",
              "      <td>LAX</td>\n",
              "      <td>NaN</td>\n",
              "      <td>2475</td>\n",
              "      <td>8</td>\n",
              "      <td>30</td>\n",
              "      <td>31-12-2013 08:00</td>\n",
              "    </tr>\n",
              "  </tbody>\n",
              "</table>\n",
              "</div>"
            ],
            "text/plain": [
              "        year  month  day  dep_time  ...  distance  hour  minute         time_hour\n",
              "111291  2013     12   31       NaN  ...      1605     7       5  31-12-2013 07:00\n",
              "111292  2013     12   31       NaN  ...       541     8      25  31-12-2013 08:00\n",
              "111293  2013     12   31       NaN  ...       431    16      15  31-12-2013 16:00\n",
              "111294  2013     12   31       NaN  ...       719     6       0  31-12-2013 06:00\n",
              "111295  2013     12   31       NaN  ...      2475     8      30  31-12-2013 08:00\n",
              "\n",
              "[5 rows x 19 columns]"
            ]
          },
          "metadata": {
            "tags": []
          },
          "execution_count": 115
        }
      ]
    },
    {
      "cell_type": "markdown",
      "metadata": {
        "id": "799ISZyhZckd",
        "colab_type": "text"
      },
      "source": [
        "Puttingi NAs first:"
      ]
    },
    {
      "cell_type": "code",
      "metadata": {
        "id": "-Jco6qVZN5mg",
        "colab_type": "code",
        "colab": {
          "base_uri": "https://localhost:8080/",
          "height": 609
        },
        "outputId": "a876a13e-a49c-4f21-c384-051a714ec8c6"
      },
      "source": [
        "flights.sort_values(by=[\"year\", \"month\", \"dep_time\"], na_position='first')"
      ],
      "execution_count": 114,
      "outputs": [
        {
          "output_type": "execute_result",
          "data": {
            "text/html": [
              "<div>\n",
              "<style scoped>\n",
              "    .dataframe tbody tr th:only-of-type {\n",
              "        vertical-align: middle;\n",
              "    }\n",
              "\n",
              "    .dataframe tbody tr th {\n",
              "        vertical-align: top;\n",
              "    }\n",
              "\n",
              "    .dataframe thead th {\n",
              "        text-align: right;\n",
              "    }\n",
              "</style>\n",
              "<table border=\"1\" class=\"dataframe\">\n",
              "  <thead>\n",
              "    <tr style=\"text-align: right;\">\n",
              "      <th></th>\n",
              "      <th>year</th>\n",
              "      <th>month</th>\n",
              "      <th>day</th>\n",
              "      <th>dep_time</th>\n",
              "      <th>sched_dep_time</th>\n",
              "      <th>dep_delay</th>\n",
              "      <th>arr_time</th>\n",
              "      <th>sched_arr_time</th>\n",
              "      <th>arr_delay</th>\n",
              "      <th>carrier</th>\n",
              "      <th>flight</th>\n",
              "      <th>tailnum</th>\n",
              "      <th>origin</th>\n",
              "      <th>dest</th>\n",
              "      <th>air_time</th>\n",
              "      <th>distance</th>\n",
              "      <th>hour</th>\n",
              "      <th>minute</th>\n",
              "      <th>time_hour</th>\n",
              "    </tr>\n",
              "  </thead>\n",
              "  <tbody>\n",
              "    <tr>\n",
              "      <th>838</th>\n",
              "      <td>2013</td>\n",
              "      <td>1</td>\n",
              "      <td>1</td>\n",
              "      <td>NaN</td>\n",
              "      <td>1630</td>\n",
              "      <td>NaN</td>\n",
              "      <td>NaN</td>\n",
              "      <td>1815</td>\n",
              "      <td>NaN</td>\n",
              "      <td>EV</td>\n",
              "      <td>4308</td>\n",
              "      <td>N18120</td>\n",
              "      <td>EWR</td>\n",
              "      <td>RDU</td>\n",
              "      <td>NaN</td>\n",
              "      <td>416</td>\n",
              "      <td>16</td>\n",
              "      <td>30</td>\n",
              "      <td>1/1/2013 16:00</td>\n",
              "    </tr>\n",
              "    <tr>\n",
              "      <th>839</th>\n",
              "      <td>2013</td>\n",
              "      <td>1</td>\n",
              "      <td>1</td>\n",
              "      <td>NaN</td>\n",
              "      <td>1935</td>\n",
              "      <td>NaN</td>\n",
              "      <td>NaN</td>\n",
              "      <td>2240</td>\n",
              "      <td>NaN</td>\n",
              "      <td>AA</td>\n",
              "      <td>791</td>\n",
              "      <td>N3EHAA</td>\n",
              "      <td>LGA</td>\n",
              "      <td>DFW</td>\n",
              "      <td>NaN</td>\n",
              "      <td>1389</td>\n",
              "      <td>19</td>\n",
              "      <td>35</td>\n",
              "      <td>1/1/2013 19:00</td>\n",
              "    </tr>\n",
              "    <tr>\n",
              "      <th>840</th>\n",
              "      <td>2013</td>\n",
              "      <td>1</td>\n",
              "      <td>1</td>\n",
              "      <td>NaN</td>\n",
              "      <td>1500</td>\n",
              "      <td>NaN</td>\n",
              "      <td>NaN</td>\n",
              "      <td>1825</td>\n",
              "      <td>NaN</td>\n",
              "      <td>AA</td>\n",
              "      <td>1925</td>\n",
              "      <td>N3EVAA</td>\n",
              "      <td>LGA</td>\n",
              "      <td>MIA</td>\n",
              "      <td>NaN</td>\n",
              "      <td>1096</td>\n",
              "      <td>15</td>\n",
              "      <td>0</td>\n",
              "      <td>1/1/2013 15:00</td>\n",
              "    </tr>\n",
              "    <tr>\n",
              "      <th>841</th>\n",
              "      <td>2013</td>\n",
              "      <td>1</td>\n",
              "      <td>1</td>\n",
              "      <td>NaN</td>\n",
              "      <td>600</td>\n",
              "      <td>NaN</td>\n",
              "      <td>NaN</td>\n",
              "      <td>901</td>\n",
              "      <td>NaN</td>\n",
              "      <td>B6</td>\n",
              "      <td>125</td>\n",
              "      <td>N618JB</td>\n",
              "      <td>JFK</td>\n",
              "      <td>FLL</td>\n",
              "      <td>NaN</td>\n",
              "      <td>1069</td>\n",
              "      <td>6</td>\n",
              "      <td>0</td>\n",
              "      <td>1/1/2013 6:00</td>\n",
              "    </tr>\n",
              "    <tr>\n",
              "      <th>1777</th>\n",
              "      <td>2013</td>\n",
              "      <td>1</td>\n",
              "      <td>2</td>\n",
              "      <td>NaN</td>\n",
              "      <td>1540</td>\n",
              "      <td>NaN</td>\n",
              "      <td>NaN</td>\n",
              "      <td>1747</td>\n",
              "      <td>NaN</td>\n",
              "      <td>EV</td>\n",
              "      <td>4352</td>\n",
              "      <td>N10575</td>\n",
              "      <td>EWR</td>\n",
              "      <td>CVG</td>\n",
              "      <td>NaN</td>\n",
              "      <td>569</td>\n",
              "      <td>15</td>\n",
              "      <td>40</td>\n",
              "      <td>2/1/2013 15:00</td>\n",
              "    </tr>\n",
              "    <tr>\n",
              "      <th>...</th>\n",
              "      <td>...</td>\n",
              "      <td>...</td>\n",
              "      <td>...</td>\n",
              "      <td>...</td>\n",
              "      <td>...</td>\n",
              "      <td>...</td>\n",
              "      <td>...</td>\n",
              "      <td>...</td>\n",
              "      <td>...</td>\n",
              "      <td>...</td>\n",
              "      <td>...</td>\n",
              "      <td>...</td>\n",
              "      <td>...</td>\n",
              "      <td>...</td>\n",
              "      <td>...</td>\n",
              "      <td>...</td>\n",
              "      <td>...</td>\n",
              "      <td>...</td>\n",
              "      <td>...</td>\n",
              "    </tr>\n",
              "    <tr>\n",
              "      <th>91492</th>\n",
              "      <td>2013</td>\n",
              "      <td>12</td>\n",
              "      <td>9</td>\n",
              "      <td>2400.0</td>\n",
              "      <td>2359</td>\n",
              "      <td>1.0</td>\n",
              "      <td>432.0</td>\n",
              "      <td>440</td>\n",
              "      <td>-8.0</td>\n",
              "      <td>B6</td>\n",
              "      <td>1503</td>\n",
              "      <td>N705JB</td>\n",
              "      <td>JFK</td>\n",
              "      <td>SJU</td>\n",
              "      <td>195.0</td>\n",
              "      <td>1598</td>\n",
              "      <td>23</td>\n",
              "      <td>59</td>\n",
              "      <td>9/12/2013 23:00</td>\n",
              "    </tr>\n",
              "    <tr>\n",
              "      <th>91493</th>\n",
              "      <td>2013</td>\n",
              "      <td>12</td>\n",
              "      <td>9</td>\n",
              "      <td>2400.0</td>\n",
              "      <td>2250</td>\n",
              "      <td>70.0</td>\n",
              "      <td>59.0</td>\n",
              "      <td>2356</td>\n",
              "      <td>63.0</td>\n",
              "      <td>B6</td>\n",
              "      <td>1816</td>\n",
              "      <td>N187JB</td>\n",
              "      <td>JFK</td>\n",
              "      <td>SYR</td>\n",
              "      <td>41.0</td>\n",
              "      <td>209</td>\n",
              "      <td>22</td>\n",
              "      <td>50</td>\n",
              "      <td>9/12/2013 22:00</td>\n",
              "    </tr>\n",
              "    <tr>\n",
              "      <th>95379</th>\n",
              "      <td>2013</td>\n",
              "      <td>12</td>\n",
              "      <td>13</td>\n",
              "      <td>2400.0</td>\n",
              "      <td>2359</td>\n",
              "      <td>1.0</td>\n",
              "      <td>432.0</td>\n",
              "      <td>440</td>\n",
              "      <td>-8.0</td>\n",
              "      <td>B6</td>\n",
              "      <td>1503</td>\n",
              "      <td>N587JB</td>\n",
              "      <td>JFK</td>\n",
              "      <td>SJU</td>\n",
              "      <td>192.0</td>\n",
              "      <td>1598</td>\n",
              "      <td>23</td>\n",
              "      <td>59</td>\n",
              "      <td>13-12-2013 23:00</td>\n",
              "    </tr>\n",
              "    <tr>\n",
              "      <th>100795</th>\n",
              "      <td>2013</td>\n",
              "      <td>12</td>\n",
              "      <td>19</td>\n",
              "      <td>2400.0</td>\n",
              "      <td>2359</td>\n",
              "      <td>1.0</td>\n",
              "      <td>434.0</td>\n",
              "      <td>440</td>\n",
              "      <td>-6.0</td>\n",
              "      <td>B6</td>\n",
              "      <td>1503</td>\n",
              "      <td>N561JB</td>\n",
              "      <td>JFK</td>\n",
              "      <td>SJU</td>\n",
              "      <td>193.0</td>\n",
              "      <td>1598</td>\n",
              "      <td>23</td>\n",
              "      <td>59</td>\n",
              "      <td>19-12-2013 23:00</td>\n",
              "    </tr>\n",
              "    <tr>\n",
              "      <th>109532</th>\n",
              "      <td>2013</td>\n",
              "      <td>12</td>\n",
              "      <td>29</td>\n",
              "      <td>2400.0</td>\n",
              "      <td>1700</td>\n",
              "      <td>420.0</td>\n",
              "      <td>302.0</td>\n",
              "      <td>2025</td>\n",
              "      <td>397.0</td>\n",
              "      <td>AA</td>\n",
              "      <td>2379</td>\n",
              "      <td>N3GMAA</td>\n",
              "      <td>LGA</td>\n",
              "      <td>MIA</td>\n",
              "      <td>161.0</td>\n",
              "      <td>1096</td>\n",
              "      <td>17</td>\n",
              "      <td>0</td>\n",
              "      <td>29-12-2013 17:00</td>\n",
              "    </tr>\n",
              "  </tbody>\n",
              "</table>\n",
              "<p>177351 rows × 19 columns</p>\n",
              "</div>"
            ],
            "text/plain": [
              "        year  month  day  dep_time  ...  distance  hour  minute         time_hour\n",
              "838     2013      1    1       NaN  ...       416    16      30    1/1/2013 16:00\n",
              "839     2013      1    1       NaN  ...      1389    19      35    1/1/2013 19:00\n",
              "840     2013      1    1       NaN  ...      1096    15       0    1/1/2013 15:00\n",
              "841     2013      1    1       NaN  ...      1069     6       0     1/1/2013 6:00\n",
              "1777    2013      1    2       NaN  ...       569    15      40    2/1/2013 15:00\n",
              "...      ...    ...  ...       ...  ...       ...   ...     ...               ...\n",
              "91492   2013     12    9    2400.0  ...      1598    23      59   9/12/2013 23:00\n",
              "91493   2013     12    9    2400.0  ...       209    22      50   9/12/2013 22:00\n",
              "95379   2013     12   13    2400.0  ...      1598    23      59  13-12-2013 23:00\n",
              "100795  2013     12   19    2400.0  ...      1598    23      59  19-12-2013 23:00\n",
              "109532  2013     12   29    2400.0  ...      1096    17       0  29-12-2013 17:00\n",
              "\n",
              "[177351 rows x 19 columns]"
            ]
          },
          "metadata": {
            "tags": []
          },
          "execution_count": 114
        }
      ]
    },
    {
      "cell_type": "markdown",
      "metadata": {
        "id": "r3BwvkcnZs9P",
        "colab_type": "text"
      },
      "source": [
        "### Exercises\n",
        "1. How could you use `sort_values()` to sort all missing values to the start?.\n",
        "\n",
        "1. Sort flights to find the most delayed flights. Find the flights that left earliest.\n",
        "\n",
        "1. Sort flights to find the fastest flights.\n",
        "\n",
        "1. Which flights travelled the longest? Which travelled the shortest?\n",
        "\n"
      ]
    },
    {
      "cell_type": "markdown",
      "metadata": {
        "id": "LU0hT5IHZ4EY",
        "colab_type": "text"
      },
      "source": [
        "## Select columns with `[]`, `loc`, and `filter()`\n",
        "\n",
        "It’s not uncommon to get datasets with hundreds or even thousands of variables. In this case, the first challenge is often narrowing in on the variables you’re actually interested in. Bracket notation `[]` allows you to rapidly zoom in on a useful subset using operations based on the names of the variables.\n",
        "\n",
        "Bracket notation is not terribly useful with the flights data because we only have 19 variables, but you can still get the general idea:"
      ]
    },
    {
      "cell_type": "code",
      "metadata": {
        "id": "wXfbWM-xZiuQ",
        "colab_type": "code",
        "colab": {
          "base_uri": "https://localhost:8080/",
          "height": 419
        },
        "outputId": "fe3f3457-fa02-4567-d02f-111fee06eb66"
      },
      "source": [
        "flights[['year','month','day']]"
      ],
      "execution_count": 79,
      "outputs": [
        {
          "output_type": "execute_result",
          "data": {
            "text/html": [
              "<div>\n",
              "<style scoped>\n",
              "    .dataframe tbody tr th:only-of-type {\n",
              "        vertical-align: middle;\n",
              "    }\n",
              "\n",
              "    .dataframe tbody tr th {\n",
              "        vertical-align: top;\n",
              "    }\n",
              "\n",
              "    .dataframe thead th {\n",
              "        text-align: right;\n",
              "    }\n",
              "</style>\n",
              "<table border=\"1\" class=\"dataframe\">\n",
              "  <thead>\n",
              "    <tr style=\"text-align: right;\">\n",
              "      <th></th>\n",
              "      <th>year</th>\n",
              "      <th>month</th>\n",
              "      <th>day</th>\n",
              "    </tr>\n",
              "  </thead>\n",
              "  <tbody>\n",
              "    <tr>\n",
              "      <th>0</th>\n",
              "      <td>2015</td>\n",
              "      <td>2</td>\n",
              "      <td>23</td>\n",
              "    </tr>\n",
              "    <tr>\n",
              "      <th>1</th>\n",
              "      <td>2015</td>\n",
              "      <td>4</td>\n",
              "      <td>1</td>\n",
              "    </tr>\n",
              "    <tr>\n",
              "      <th>2</th>\n",
              "      <td>2015</td>\n",
              "      <td>10</td>\n",
              "      <td>22</td>\n",
              "    </tr>\n",
              "    <tr>\n",
              "      <th>3</th>\n",
              "      <td>2015</td>\n",
              "      <td>7</td>\n",
              "      <td>13</td>\n",
              "    </tr>\n",
              "    <tr>\n",
              "      <th>4</th>\n",
              "      <td>2015</td>\n",
              "      <td>10</td>\n",
              "      <td>14</td>\n",
              "    </tr>\n",
              "    <tr>\n",
              "      <th>...</th>\n",
              "      <td>...</td>\n",
              "      <td>...</td>\n",
              "      <td>...</td>\n",
              "    </tr>\n",
              "    <tr>\n",
              "      <th>99995</th>\n",
              "      <td>2015</td>\n",
              "      <td>10</td>\n",
              "      <td>7</td>\n",
              "    </tr>\n",
              "    <tr>\n",
              "      <th>99996</th>\n",
              "      <td>2015</td>\n",
              "      <td>6</td>\n",
              "      <td>23</td>\n",
              "    </tr>\n",
              "    <tr>\n",
              "      <th>99997</th>\n",
              "      <td>2015</td>\n",
              "      <td>11</td>\n",
              "      <td>8</td>\n",
              "    </tr>\n",
              "    <tr>\n",
              "      <th>99998</th>\n",
              "      <td>2015</td>\n",
              "      <td>12</td>\n",
              "      <td>20</td>\n",
              "    </tr>\n",
              "    <tr>\n",
              "      <th>99999</th>\n",
              "      <td>2015</td>\n",
              "      <td>12</td>\n",
              "      <td>29</td>\n",
              "    </tr>\n",
              "  </tbody>\n",
              "</table>\n",
              "<p>100000 rows × 3 columns</p>\n",
              "</div>"
            ],
            "text/plain": [
              "       year  month  day\n",
              "0      2015      2   23\n",
              "1      2015      4    1\n",
              "2      2015     10   22\n",
              "3      2015      7   13\n",
              "4      2015     10   14\n",
              "...     ...    ...  ...\n",
              "99995  2015     10    7\n",
              "99996  2015      6   23\n",
              "99997  2015     11    8\n",
              "99998  2015     12   20\n",
              "99999  2015     12   29\n",
              "\n",
              "[100000 rows x 3 columns]"
            ]
          },
          "metadata": {
            "tags": []
          },
          "execution_count": 79
        }
      ]
    },
    {
      "cell_type": "code",
      "metadata": {
        "id": "SH4esWogf4h3",
        "colab_type": "code",
        "colab": {
          "base_uri": "https://localhost:8080/",
          "height": 419
        },
        "outputId": "da582296-4582-43b4-d1a5-5943d5fff89b"
      },
      "source": [
        "flights.filter([\"year\", \"month\", \"day\"])"
      ],
      "execution_count": 80,
      "outputs": [
        {
          "output_type": "execute_result",
          "data": {
            "text/html": [
              "<div>\n",
              "<style scoped>\n",
              "    .dataframe tbody tr th:only-of-type {\n",
              "        vertical-align: middle;\n",
              "    }\n",
              "\n",
              "    .dataframe tbody tr th {\n",
              "        vertical-align: top;\n",
              "    }\n",
              "\n",
              "    .dataframe thead th {\n",
              "        text-align: right;\n",
              "    }\n",
              "</style>\n",
              "<table border=\"1\" class=\"dataframe\">\n",
              "  <thead>\n",
              "    <tr style=\"text-align: right;\">\n",
              "      <th></th>\n",
              "      <th>year</th>\n",
              "      <th>month</th>\n",
              "      <th>day</th>\n",
              "    </tr>\n",
              "  </thead>\n",
              "  <tbody>\n",
              "    <tr>\n",
              "      <th>0</th>\n",
              "      <td>2015</td>\n",
              "      <td>2</td>\n",
              "      <td>23</td>\n",
              "    </tr>\n",
              "    <tr>\n",
              "      <th>1</th>\n",
              "      <td>2015</td>\n",
              "      <td>4</td>\n",
              "      <td>1</td>\n",
              "    </tr>\n",
              "    <tr>\n",
              "      <th>2</th>\n",
              "      <td>2015</td>\n",
              "      <td>10</td>\n",
              "      <td>22</td>\n",
              "    </tr>\n",
              "    <tr>\n",
              "      <th>3</th>\n",
              "      <td>2015</td>\n",
              "      <td>7</td>\n",
              "      <td>13</td>\n",
              "    </tr>\n",
              "    <tr>\n",
              "      <th>4</th>\n",
              "      <td>2015</td>\n",
              "      <td>10</td>\n",
              "      <td>14</td>\n",
              "    </tr>\n",
              "    <tr>\n",
              "      <th>...</th>\n",
              "      <td>...</td>\n",
              "      <td>...</td>\n",
              "      <td>...</td>\n",
              "    </tr>\n",
              "    <tr>\n",
              "      <th>99995</th>\n",
              "      <td>2015</td>\n",
              "      <td>10</td>\n",
              "      <td>7</td>\n",
              "    </tr>\n",
              "    <tr>\n",
              "      <th>99996</th>\n",
              "      <td>2015</td>\n",
              "      <td>6</td>\n",
              "      <td>23</td>\n",
              "    </tr>\n",
              "    <tr>\n",
              "      <th>99997</th>\n",
              "      <td>2015</td>\n",
              "      <td>11</td>\n",
              "      <td>8</td>\n",
              "    </tr>\n",
              "    <tr>\n",
              "      <th>99998</th>\n",
              "      <td>2015</td>\n",
              "      <td>12</td>\n",
              "      <td>20</td>\n",
              "    </tr>\n",
              "    <tr>\n",
              "      <th>99999</th>\n",
              "      <td>2015</td>\n",
              "      <td>12</td>\n",
              "      <td>29</td>\n",
              "    </tr>\n",
              "  </tbody>\n",
              "</table>\n",
              "<p>100000 rows × 3 columns</p>\n",
              "</div>"
            ],
            "text/plain": [
              "       year  month  day\n",
              "0      2015      2   23\n",
              "1      2015      4    1\n",
              "2      2015     10   22\n",
              "3      2015      7   13\n",
              "4      2015     10   14\n",
              "...     ...    ...  ...\n",
              "99995  2015     10    7\n",
              "99996  2015      6   23\n",
              "99997  2015     11    8\n",
              "99998  2015     12   20\n",
              "99999  2015     12   29\n",
              "\n",
              "[100000 rows x 3 columns]"
            ]
          },
          "metadata": {
            "tags": []
          },
          "execution_count": 80
        }
      ]
    },
    {
      "cell_type": "code",
      "metadata": {
        "id": "Zr0RQnrVa3cu",
        "colab_type": "code",
        "colab": {
          "base_uri": "https://localhost:8080/",
          "height": 419
        },
        "outputId": "f578f8bf-54ab-4c02-e6ab-074941cce143"
      },
      "source": [
        "flights.loc[:,'year':'day']"
      ],
      "execution_count": 76,
      "outputs": [
        {
          "output_type": "execute_result",
          "data": {
            "text/html": [
              "<div>\n",
              "<style scoped>\n",
              "    .dataframe tbody tr th:only-of-type {\n",
              "        vertical-align: middle;\n",
              "    }\n",
              "\n",
              "    .dataframe tbody tr th {\n",
              "        vertical-align: top;\n",
              "    }\n",
              "\n",
              "    .dataframe thead th {\n",
              "        text-align: right;\n",
              "    }\n",
              "</style>\n",
              "<table border=\"1\" class=\"dataframe\">\n",
              "  <thead>\n",
              "    <tr style=\"text-align: right;\">\n",
              "      <th></th>\n",
              "      <th>year</th>\n",
              "      <th>month</th>\n",
              "      <th>day</th>\n",
              "    </tr>\n",
              "  </thead>\n",
              "  <tbody>\n",
              "    <tr>\n",
              "      <th>0</th>\n",
              "      <td>2015</td>\n",
              "      <td>2</td>\n",
              "      <td>23</td>\n",
              "    </tr>\n",
              "    <tr>\n",
              "      <th>1</th>\n",
              "      <td>2015</td>\n",
              "      <td>4</td>\n",
              "      <td>1</td>\n",
              "    </tr>\n",
              "    <tr>\n",
              "      <th>2</th>\n",
              "      <td>2015</td>\n",
              "      <td>10</td>\n",
              "      <td>22</td>\n",
              "    </tr>\n",
              "    <tr>\n",
              "      <th>3</th>\n",
              "      <td>2015</td>\n",
              "      <td>7</td>\n",
              "      <td>13</td>\n",
              "    </tr>\n",
              "    <tr>\n",
              "      <th>4</th>\n",
              "      <td>2015</td>\n",
              "      <td>10</td>\n",
              "      <td>14</td>\n",
              "    </tr>\n",
              "    <tr>\n",
              "      <th>...</th>\n",
              "      <td>...</td>\n",
              "      <td>...</td>\n",
              "      <td>...</td>\n",
              "    </tr>\n",
              "    <tr>\n",
              "      <th>99995</th>\n",
              "      <td>2015</td>\n",
              "      <td>10</td>\n",
              "      <td>7</td>\n",
              "    </tr>\n",
              "    <tr>\n",
              "      <th>99996</th>\n",
              "      <td>2015</td>\n",
              "      <td>6</td>\n",
              "      <td>23</td>\n",
              "    </tr>\n",
              "    <tr>\n",
              "      <th>99997</th>\n",
              "      <td>2015</td>\n",
              "      <td>11</td>\n",
              "      <td>8</td>\n",
              "    </tr>\n",
              "    <tr>\n",
              "      <th>99998</th>\n",
              "      <td>2015</td>\n",
              "      <td>12</td>\n",
              "      <td>20</td>\n",
              "    </tr>\n",
              "    <tr>\n",
              "      <th>99999</th>\n",
              "      <td>2015</td>\n",
              "      <td>12</td>\n",
              "      <td>29</td>\n",
              "    </tr>\n",
              "  </tbody>\n",
              "</table>\n",
              "<p>100000 rows × 3 columns</p>\n",
              "</div>"
            ],
            "text/plain": [
              "       year  month  day\n",
              "0      2015      2   23\n",
              "1      2015      4    1\n",
              "2      2015     10   22\n",
              "3      2015      7   13\n",
              "4      2015     10   14\n",
              "...     ...    ...  ...\n",
              "99995  2015     10    7\n",
              "99996  2015      6   23\n",
              "99997  2015     11    8\n",
              "99998  2015     12   20\n",
              "99999  2015     12   29\n",
              "\n",
              "[100000 rows x 3 columns]"
            ]
          },
          "metadata": {
            "tags": []
          },
          "execution_count": 76
        }
      ]
    },
    {
      "cell_type": "markdown",
      "metadata": {
        "id": "4sgtgj2ndTdA",
        "colab_type": "text"
      },
      "source": [
        "There are a number of helper functions you can use:\n",
        "\n",
        "```python\n",
        "df.filter(regex=\"^abc\") # starts with abc\n",
        "df.filter(regex=\"$xyz\") # ends with xyz\n",
        "df.filter(regex=\"example\") # contains example\n",
        "```"
      ]
    },
    {
      "cell_type": "markdown",
      "metadata": {
        "id": "wq1WeVyNfDq7",
        "colab_type": "text"
      },
      "source": [
        "## rename"
      ]
    },
    {
      "cell_type": "code",
      "metadata": {
        "id": "U2zqHK_SbFkI",
        "colab_type": "code",
        "colab": {
          "base_uri": "https://localhost:8080/",
          "height": 142
        },
        "outputId": "a21bb5ae-07ca-49b0-81c4-25c5fbb97537"
      },
      "source": [
        "df = pd.DataFrame({\"A\": [1, 2, 3], \"B\": [4, 5, 6]})\n",
        "df"
      ],
      "execution_count": 85,
      "outputs": [
        {
          "output_type": "execute_result",
          "data": {
            "text/html": [
              "<div>\n",
              "<style scoped>\n",
              "    .dataframe tbody tr th:only-of-type {\n",
              "        vertical-align: middle;\n",
              "    }\n",
              "\n",
              "    .dataframe tbody tr th {\n",
              "        vertical-align: top;\n",
              "    }\n",
              "\n",
              "    .dataframe thead th {\n",
              "        text-align: right;\n",
              "    }\n",
              "</style>\n",
              "<table border=\"1\" class=\"dataframe\">\n",
              "  <thead>\n",
              "    <tr style=\"text-align: right;\">\n",
              "      <th></th>\n",
              "      <th>A</th>\n",
              "      <th>B</th>\n",
              "    </tr>\n",
              "  </thead>\n",
              "  <tbody>\n",
              "    <tr>\n",
              "      <th>0</th>\n",
              "      <td>1</td>\n",
              "      <td>4</td>\n",
              "    </tr>\n",
              "    <tr>\n",
              "      <th>1</th>\n",
              "      <td>2</td>\n",
              "      <td>5</td>\n",
              "    </tr>\n",
              "    <tr>\n",
              "      <th>2</th>\n",
              "      <td>3</td>\n",
              "      <td>6</td>\n",
              "    </tr>\n",
              "  </tbody>\n",
              "</table>\n",
              "</div>"
            ],
            "text/plain": [
              "   A  B\n",
              "0  1  4\n",
              "1  2  5\n",
              "2  3  6"
            ]
          },
          "metadata": {
            "tags": []
          },
          "execution_count": 85
        }
      ]
    },
    {
      "cell_type": "markdown",
      "metadata": {
        "id": "PdpDno-7hCNr",
        "colab_type": "text"
      },
      "source": [
        "Rename columns using a mapping:"
      ]
    },
    {
      "cell_type": "code",
      "metadata": {
        "id": "661S4C2_gEBV",
        "colab_type": "code",
        "colab": {
          "base_uri": "https://localhost:8080/",
          "height": 142
        },
        "outputId": "e3db2988-0a79-45d5-af30-cb57af66d3fb"
      },
      "source": [
        "df.rename(columns={\"A\": \"a\", \"B\": \"c\"})"
      ],
      "execution_count": 86,
      "outputs": [
        {
          "output_type": "execute_result",
          "data": {
            "text/html": [
              "<div>\n",
              "<style scoped>\n",
              "    .dataframe tbody tr th:only-of-type {\n",
              "        vertical-align: middle;\n",
              "    }\n",
              "\n",
              "    .dataframe tbody tr th {\n",
              "        vertical-align: top;\n",
              "    }\n",
              "\n",
              "    .dataframe thead th {\n",
              "        text-align: right;\n",
              "    }\n",
              "</style>\n",
              "<table border=\"1\" class=\"dataframe\">\n",
              "  <thead>\n",
              "    <tr style=\"text-align: right;\">\n",
              "      <th></th>\n",
              "      <th>a</th>\n",
              "      <th>c</th>\n",
              "    </tr>\n",
              "  </thead>\n",
              "  <tbody>\n",
              "    <tr>\n",
              "      <th>0</th>\n",
              "      <td>1</td>\n",
              "      <td>4</td>\n",
              "    </tr>\n",
              "    <tr>\n",
              "      <th>1</th>\n",
              "      <td>2</td>\n",
              "      <td>5</td>\n",
              "    </tr>\n",
              "    <tr>\n",
              "      <th>2</th>\n",
              "      <td>3</td>\n",
              "      <td>6</td>\n",
              "    </tr>\n",
              "  </tbody>\n",
              "</table>\n",
              "</div>"
            ],
            "text/plain": [
              "   a  c\n",
              "0  1  4\n",
              "1  2  5\n",
              "2  3  6"
            ]
          },
          "metadata": {
            "tags": []
          },
          "execution_count": 86
        }
      ]
    },
    {
      "cell_type": "markdown",
      "metadata": {
        "id": "bWOGqqiZhDn5",
        "colab_type": "text"
      },
      "source": [
        "Rename index using a mapping:"
      ]
    },
    {
      "cell_type": "code",
      "metadata": {
        "id": "ESBKEDixgyS7",
        "colab_type": "code",
        "colab": {
          "base_uri": "https://localhost:8080/",
          "height": 142
        },
        "outputId": "e02ef17f-b984-4b37-88ee-3a14c9f5f7d3"
      },
      "source": [
        "df.rename(index={0: \"x\", 1: \"y\", 2: \"z\"})"
      ],
      "execution_count": 87,
      "outputs": [
        {
          "output_type": "execute_result",
          "data": {
            "text/html": [
              "<div>\n",
              "<style scoped>\n",
              "    .dataframe tbody tr th:only-of-type {\n",
              "        vertical-align: middle;\n",
              "    }\n",
              "\n",
              "    .dataframe tbody tr th {\n",
              "        vertical-align: top;\n",
              "    }\n",
              "\n",
              "    .dataframe thead th {\n",
              "        text-align: right;\n",
              "    }\n",
              "</style>\n",
              "<table border=\"1\" class=\"dataframe\">\n",
              "  <thead>\n",
              "    <tr style=\"text-align: right;\">\n",
              "      <th></th>\n",
              "      <th>A</th>\n",
              "      <th>B</th>\n",
              "    </tr>\n",
              "  </thead>\n",
              "  <tbody>\n",
              "    <tr>\n",
              "      <th>x</th>\n",
              "      <td>1</td>\n",
              "      <td>4</td>\n",
              "    </tr>\n",
              "    <tr>\n",
              "      <th>y</th>\n",
              "      <td>2</td>\n",
              "      <td>5</td>\n",
              "    </tr>\n",
              "    <tr>\n",
              "      <th>z</th>\n",
              "      <td>3</td>\n",
              "      <td>6</td>\n",
              "    </tr>\n",
              "  </tbody>\n",
              "</table>\n",
              "</div>"
            ],
            "text/plain": [
              "   A  B\n",
              "x  1  4\n",
              "y  2  5\n",
              "z  3  6"
            ]
          },
          "metadata": {
            "tags": []
          },
          "execution_count": 87
        }
      ]
    },
    {
      "cell_type": "markdown",
      "metadata": {
        "id": "AhF9w31qhK_L",
        "colab_type": "text"
      },
      "source": [
        "Using axis-style parameters"
      ]
    },
    {
      "cell_type": "code",
      "metadata": {
        "id": "YL0RK0IVhGxL",
        "colab_type": "code",
        "colab": {
          "base_uri": "https://localhost:8080/",
          "height": 142
        },
        "outputId": "2e68523a-7fb6-4130-d09c-e8d2f6a1876f"
      },
      "source": [
        "df.rename(str.lower, axis='columns')"
      ],
      "execution_count": 88,
      "outputs": [
        {
          "output_type": "execute_result",
          "data": {
            "text/html": [
              "<div>\n",
              "<style scoped>\n",
              "    .dataframe tbody tr th:only-of-type {\n",
              "        vertical-align: middle;\n",
              "    }\n",
              "\n",
              "    .dataframe tbody tr th {\n",
              "        vertical-align: top;\n",
              "    }\n",
              "\n",
              "    .dataframe thead th {\n",
              "        text-align: right;\n",
              "    }\n",
              "</style>\n",
              "<table border=\"1\" class=\"dataframe\">\n",
              "  <thead>\n",
              "    <tr style=\"text-align: right;\">\n",
              "      <th></th>\n",
              "      <th>a</th>\n",
              "      <th>b</th>\n",
              "    </tr>\n",
              "  </thead>\n",
              "  <tbody>\n",
              "    <tr>\n",
              "      <th>0</th>\n",
              "      <td>1</td>\n",
              "      <td>4</td>\n",
              "    </tr>\n",
              "    <tr>\n",
              "      <th>1</th>\n",
              "      <td>2</td>\n",
              "      <td>5</td>\n",
              "    </tr>\n",
              "    <tr>\n",
              "      <th>2</th>\n",
              "      <td>3</td>\n",
              "      <td>6</td>\n",
              "    </tr>\n",
              "  </tbody>\n",
              "</table>\n",
              "</div>"
            ],
            "text/plain": [
              "   a  b\n",
              "0  1  4\n",
              "1  2  5\n",
              "2  3  6"
            ]
          },
          "metadata": {
            "tags": []
          },
          "execution_count": 88
        }
      ]
    },
    {
      "cell_type": "code",
      "metadata": {
        "id": "cTqfNAT4hM80",
        "colab_type": "code",
        "colab": {
          "base_uri": "https://localhost:8080/",
          "height": 142
        },
        "outputId": "f920eade-2517-4e58-e1bf-be96f26809a9"
      },
      "source": [
        "df.rename({1: 2, 2: 4}, axis='index')"
      ],
      "execution_count": 89,
      "outputs": [
        {
          "output_type": "execute_result",
          "data": {
            "text/html": [
              "<div>\n",
              "<style scoped>\n",
              "    .dataframe tbody tr th:only-of-type {\n",
              "        vertical-align: middle;\n",
              "    }\n",
              "\n",
              "    .dataframe tbody tr th {\n",
              "        vertical-align: top;\n",
              "    }\n",
              "\n",
              "    .dataframe thead th {\n",
              "        text-align: right;\n",
              "    }\n",
              "</style>\n",
              "<table border=\"1\" class=\"dataframe\">\n",
              "  <thead>\n",
              "    <tr style=\"text-align: right;\">\n",
              "      <th></th>\n",
              "      <th>A</th>\n",
              "      <th>B</th>\n",
              "    </tr>\n",
              "  </thead>\n",
              "  <tbody>\n",
              "    <tr>\n",
              "      <th>0</th>\n",
              "      <td>1</td>\n",
              "      <td>4</td>\n",
              "    </tr>\n",
              "    <tr>\n",
              "      <th>2</th>\n",
              "      <td>2</td>\n",
              "      <td>5</td>\n",
              "    </tr>\n",
              "    <tr>\n",
              "      <th>4</th>\n",
              "      <td>3</td>\n",
              "      <td>6</td>\n",
              "    </tr>\n",
              "  </tbody>\n",
              "</table>\n",
              "</div>"
            ],
            "text/plain": [
              "   A  B\n",
              "0  1  4\n",
              "2  2  5\n",
              "4  3  6"
            ]
          },
          "metadata": {
            "tags": []
          },
          "execution_count": 89
        }
      ]
    },
    {
      "cell_type": "markdown",
      "metadata": {
        "id": "He1hF614hRDy",
        "colab_type": "text"
      },
      "source": [
        "If you want any changes to stick, you need to use the `inplace=True` arguments."
      ]
    },
    {
      "cell_type": "code",
      "metadata": {
        "id": "vhPu2pr5hO-L",
        "colab_type": "code",
        "colab": {}
      },
      "source": [
        "df.rename(str.lower, axis=\"columns\", inplace=True)"
      ],
      "execution_count": 0,
      "outputs": []
    },
    {
      "cell_type": "code",
      "metadata": {
        "id": "U6us8xZOhPu2",
        "colab_type": "code",
        "colab": {
          "base_uri": "https://localhost:8080/",
          "height": 142
        },
        "outputId": "e7689dc1-88db-449c-ce65-023318001125"
      },
      "source": [
        "df # Now we see that everything is changed."
      ],
      "execution_count": 117,
      "outputs": [
        {
          "output_type": "execute_result",
          "data": {
            "text/html": [
              "<div>\n",
              "<style scoped>\n",
              "    .dataframe tbody tr th:only-of-type {\n",
              "        vertical-align: middle;\n",
              "    }\n",
              "\n",
              "    .dataframe tbody tr th {\n",
              "        vertical-align: top;\n",
              "    }\n",
              "\n",
              "    .dataframe thead th {\n",
              "        text-align: right;\n",
              "    }\n",
              "</style>\n",
              "<table border=\"1\" class=\"dataframe\">\n",
              "  <thead>\n",
              "    <tr style=\"text-align: right;\">\n",
              "      <th></th>\n",
              "      <th>a</th>\n",
              "      <th>b</th>\n",
              "    </tr>\n",
              "  </thead>\n",
              "  <tbody>\n",
              "    <tr>\n",
              "      <th>0</th>\n",
              "      <td>1</td>\n",
              "      <td>4</td>\n",
              "    </tr>\n",
              "    <tr>\n",
              "      <th>1</th>\n",
              "      <td>2</td>\n",
              "      <td>5</td>\n",
              "    </tr>\n",
              "    <tr>\n",
              "      <th>2</th>\n",
              "      <td>3</td>\n",
              "      <td>6</td>\n",
              "    </tr>\n",
              "  </tbody>\n",
              "</table>\n",
              "</div>"
            ],
            "text/plain": [
              "   a  b\n",
              "0  1  4\n",
              "1  2  5\n",
              "2  3  6"
            ]
          },
          "metadata": {
            "tags": []
          },
          "execution_count": 117
        }
      ]
    },
    {
      "cell_type": "code",
      "metadata": {
        "id": "skXVR-ILmLN-",
        "colab_type": "code",
        "colab": {}
      },
      "source": [
        "flights.rename({\"tailnum\":\"tail_num\"}, axis=\"columns\", inplace=True)"
      ],
      "execution_count": 0,
      "outputs": []
    },
    {
      "cell_type": "code",
      "metadata": {
        "id": "r0_eTS1KmhPq",
        "colab_type": "code",
        "colab": {
          "base_uri": "https://localhost:8080/",
          "height": 107
        },
        "outputId": "42d9da40-bddb-454e-f054-a96a83dee76a"
      },
      "source": [
        "flights.columns"
      ],
      "execution_count": 124,
      "outputs": [
        {
          "output_type": "execute_result",
          "data": {
            "text/plain": [
              "Index(['year', 'month', 'day', 'dep_time', 'sched_dep_time', 'dep_delay',\n",
              "       'arr_time', 'sched_arr_time', 'arr_delay', 'carrier', 'flight',\n",
              "       'tail_num', 'origin', 'dest', 'air_time', 'distance', 'hour', 'minute',\n",
              "       'time_hour'],\n",
              "      dtype='object')"
            ]
          },
          "metadata": {
            "tags": []
          },
          "execution_count": 124
        }
      ]
    },
    {
      "cell_type": "markdown",
      "metadata": {
        "id": "D8NgZv56hhwt",
        "colab_type": "text"
      },
      "source": [
        "### Exercises\n",
        "1. Brainstorm as many ways as possible to select dep_time, dep_delay, arr_time, and arr_delay from flights.\n",
        "\n",
        "1. What happens if you include the name of a variable multiple times in a selection statement call?\n",
        "\n",
        "1. What does the filter and loc methods do? Why might it be helpful in conjunction with this list?\n",
        "```python\n",
        "vars = [\"year\", \"month\", \"day\", \"dep_delay\", \"arr_delay\"]\n",
        "```"
      ]
    },
    {
      "cell_type": "markdown",
      "metadata": {
        "id": "PHkvhAF0jVcD",
        "colab_type": "text"
      },
      "source": [
        "## Add new variables\n",
        "\n",
        "Besides selecting sets of existing columns, it’s often useful to add new columns that are functions of existing columns."
      ]
    },
    {
      "cell_type": "code",
      "metadata": {
        "id": "bzhcIP8fjGKq",
        "colab_type": "code",
        "colab": {}
      },
      "source": [
        "flights[\"gain\"] = flights.dep_delay - flights.arr_delay\n",
        "flights[\"speed\"] = flights.distance / flights.arr_time * 60\n",
        "flights['hours'] = flights.air_time / 60\n",
        "flights[\"gain_per_hour\"] = flights.gain / flights.hours"
      ],
      "execution_count": 0,
      "outputs": []
    },
    {
      "cell_type": "markdown",
      "metadata": {
        "id": "cyo2323poCBn",
        "colab_type": "text"
      },
      "source": [
        "### Exercises\n",
        "1. Currently dep_time and `sched_dep_time` are convenient to look at, but hard to compute with because they’re not really continuous numbers. Convert them to a more convenient representation of number of minutes since midnight.\n",
        "\n",
        "1. Compare air_time with `arr_time` - `dep_time`. What do you expect to see? What do you see? What do you need to do to fix it?\n",
        "\n",
        "1. Compare `dep_time`, `sched_dep_time`, and `dep_delay`. How would you expect those three numbers to be related?\n",
        "\n",
        "1. Find the 10 most delayed flights using a ranking function. How do you want to handle ties?"
      ]
    },
    {
      "cell_type": "markdown",
      "metadata": {
        "id": "9A1KGbQfoVap",
        "colab_type": "text"
      },
      "source": [
        "## Grouped summaries"
      ]
    },
    {
      "cell_type": "code",
      "metadata": {
        "id": "X0NDf1h5oUzN",
        "colab_type": "code",
        "colab": {}
      },
      "source": [
        ""
      ],
      "execution_count": 0,
      "outputs": []
    },
    {
      "cell_type": "code",
      "metadata": {
        "id": "w7P2e-LcnfFw",
        "colab_type": "code",
        "colab": {}
      },
      "source": [
        ""
      ],
      "execution_count": 0,
      "outputs": []
    }
  ]
}