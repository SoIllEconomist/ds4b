{
  "nbformat": 4,
  "nbformat_minor": 0,
  "metadata": {
    "kernelspec": {
      "display_name": "Python 3",
      "language": "python",
      "name": "python3"
    },
    "language_info": {
      "codemirror_mode": {
        "name": "ipython",
        "version": 3
      },
      "file_extension": ".py",
      "mimetype": "text/x-python",
      "name": "python",
      "nbconvert_exporter": "python",
      "pygments_lexer": "ipython3",
      "version": "3.5.3"
    },
    "pycharm": {
      "stem_cell": {
        "cell_type": "raw",
        "source": [],
        "metadata": {
          "collapsed": false
        }
      }
    },
    "colab": {
      "name": "02_data_transformation.ipynb",
      "provenance": [],
      "include_colab_link": true
    }
  },
  "cells": [
    {
      "cell_type": "markdown",
      "metadata": {
        "id": "view-in-github",
        "colab_type": "text"
      },
      "source": [
        "<a href=\"https://colab.research.google.com/github/SoIllEconomist/ds4b/blob/master/python_ds4b/01_exploration/02_data_transformation/02_data_transformation.ipynb\" target=\"_parent\"><img src=\"https://colab.research.google.com/assets/colab-badge.svg\" alt=\"Open In Colab\"/></a>"
      ]
    },
    {
      "cell_type": "markdown",
      "metadata": {
        "id": "u9ta08h4j6-j",
        "colab_type": "text"
      },
      "source": [
        "# Data Transformation\n",
        "\n",
        "## Introduction\n",
        "\n",
        "Visualisation is an important tool for insight generation, but it is rare that you get the data in exactly the right form you need. Often you’ll need to create some new variables or summaries, or maybe you just want to rename the variables or reorder the observations in order to make the data a little easier to work with. You’ll learn how to do all that (and more!) in this chapter, which will teach you how to transform your data using the dplyr package and a new dataset on flights departing New York City in 2013.\n",
        "### Prerequisites\n",
        "In this chapter we’re going to focus on how to use the dplyr package, another core member of the tidyverse. We’ll illustrate the key ideas using data from the NYC Flight data, and use `seaborn` to help us understand the data."
      ]
    },
    {
      "cell_type": "code",
      "metadata": {
        "pycharm": {
          "is_executing": false
        },
        "id": "bdEOp-KXj6-m",
        "colab_type": "code",
        "colab": {}
      },
      "source": [
        "import pandas as pd\n",
        "flights = pd.read_csv(\"flights.csv\")"
      ],
      "execution_count": 0,
      "outputs": []
    },
    {
      "cell_type": "markdown",
      "metadata": {
        "id": "uvEl_2NGj6-r",
        "colab_type": "text"
      },
      "source": [
        "### NYC Flights Dataset\n",
        "\n",
        "To explore the basic data manipulation with `pandas`. The U.S. Department of Transportation's (DOT) Bureau of Transportation Statistics tracks the on-time performance of domestic flights operated by large air carriers. Summary information on the number of on-time, delayed, canceled, and diverted flights is published in DOT's monthly Air Travel Consumer Report and in this dataset of 2015 flight delays and cancellations. The data comes from the [US Bureau of Transportation Statistics](https://www.kaggle.com/usdot/flight-delays#flights.csv)."
      ]
    },
    {
      "cell_type": "markdown",
      "metadata": {
        "id": "YXmTqjAPj6-s",
        "colab_type": "text"
      },
      "source": [
        "You might notice that this data frame prints a differently from other data frames you might have used in the past: it only shows the first few rows and all the columns that fit on one screen. (To see the whole dataset, you can run `flights` which will open the dataset instead of `flights.head()`. "
      ]
    },
    {
      "cell_type": "code",
      "metadata": {
        "pycharm": {
          "is_executing": false
        },
        "id": "F_03ZF1zj6-s",
        "colab_type": "code",
        "colab": {},
        "outputId": "ef35a3ab-7d44-41c4-a3ce-8ddc485841a7"
      },
      "source": [
        "flights.info()"
      ],
      "execution_count": 0,
      "outputs": [
        {
          "output_type": "stream",
          "text": [
            "<class 'pandas.core.frame.DataFrame'>\n",
            "RangeIndex: 100000 entries, 0 to 99999\n",
            "Data columns (total 8 columns):\n",
            "Unnamed: 0        100000 non-null int64\n",
            "year              100000 non-null int64\n",
            "month             100000 non-null int64\n",
            "day               100000 non-null int64\n",
            "sched_dep_time    100000 non-null float64\n",
            "dep_delay         98592 non-null float64\n",
            "arr_time          98478 non-null float64\n",
            "dept_time         98592 non-null float64\n",
            "dtypes: float64(4), int64(4)\n",
            "memory usage: 6.1 MB\n"
          ],
          "name": "stdout"
        }
      ]
    },
    {
      "cell_type": "markdown",
      "metadata": {
        "id": "IIZS-urBj6-x",
        "colab_type": "text"
      },
      "source": [
        "You might have noticed that `.info()` prints a concise summary of a DataFrame.\n",
        "\n",
        "This method prints information about a DataFrame including the index dtype and column dtypes, non-null values and memory usage. "
      ]
    },
    {
      "cell_type": "markdown",
      "metadata": {
        "id": "I3N0JjPqj6-y",
        "colab_type": "text"
      },
      "source": [
        "## Pandas Basics\n",
        "\n",
        "In this chapter you are going to learn the key pandas methods and funcgtions that allow you to solve the vast majority of your data manipulation challenges:\n",
        "\n",
        "1. Pick observations by their values.\n",
        "1. Reorder the rows.\n",
        "1. Pick variables by their names.\n",
        "1. Create new variables with functions of existing variables.\n",
        "1. Collapse many values down to a single summary.\n",
        "\n",
        "These can all be used in conjunction with `groupby()` which changes the scope of each function from operating on the entire dataset to operating on it group-by-group. These six functions provide the verbs for a language of data manipulation.\n",
        "\n",
        "### Query\n",
        "\n",
        "`query()` allows you to subset observations based on their values. The first argument is the name of the data frame. The second and subsequent arguments are the expressions that filter the data frame. For example, we can select all flights on January 1st with:"
      ]
    },
    {
      "cell_type": "code",
      "metadata": {
        "pycharm": {
          "is_executing": false
        },
        "id": "3DE9dXyAj6-z",
        "colab_type": "code",
        "colab": {}
      },
      "source": [
        "flights.query(\"month ==1 & day == 1\")"
      ],
      "execution_count": 0,
      "outputs": []
    },
    {
      "cell_type": "markdown",
      "metadata": {
        "id": "md1Y5xx9j6-7",
        "colab_type": "text"
      },
      "source": [
        "When you run that line of code, pandas executes the querying operation and returns a new data frame. pandas functions never modify their inputs, so if you want to save the result, you’ll need to use the assignment operator, `=`:"
      ]
    },
    {
      "cell_type": "code",
      "metadata": {
        "pycharm": {
          "is_executing": false
        },
        "id": "1ORT5Xatj6-8",
        "colab_type": "code",
        "colab": {},
        "outputId": "c99e71ab-055d-43e7-b947-0d1672ae1c50"
      },
      "source": [
        "jan1 = flights.query(\"month ==1 & day == 1\")"
      ],
      "execution_count": 0,
      "outputs": [
        {
          "output_type": "error",
          "ename": "NameError",
          "evalue": "name 'flights' is not defined",
          "traceback": [
            "\u001b[0;31m---------------------------------------------------------------------------\u001b[0m",
            "\u001b[0;31mNameError\u001b[0m                                 Traceback (most recent call last)",
            "\u001b[0;32m<ipython-input-3-05ba923856e7>\u001b[0m in \u001b[0;36m<module>\u001b[0;34m\u001b[0m\n\u001b[0;32m----> 1\u001b[0;31m \u001b[0mjan1\u001b[0m \u001b[0;34m=\u001b[0m \u001b[0mflights\u001b[0m\u001b[0;34m.\u001b[0m\u001b[0mquery\u001b[0m\u001b[0;34m(\u001b[0m\u001b[0;34m\"month ==1 & day == 1\"\u001b[0m\u001b[0;34m)\u001b[0m\u001b[0;34m\u001b[0m\u001b[0;34m\u001b[0m\u001b[0m\n\u001b[0m\u001b[1;32m      2\u001b[0m \u001b[0;34m\u001b[0m\u001b[0m\n",
            "\u001b[0;31mNameError\u001b[0m: name 'flights' is not defined"
          ]
        }
      ]
    },
    {
      "cell_type": "markdown",
      "metadata": {
        "id": "1EEN5DBAj6-_",
        "colab_type": "text"
      },
      "source": [
        "### Comparisons\n",
        "\n",
        "To use querying effectively, you have to know how to select the observations that you want using the comparison operators. Python provides the standard suite: `>`, `>=`, `<`, `<=`, `!=` (not equal), and `==` (equal).\n",
        "\n",
        "When you’re starting out with Python, the easiest mistake to make is to use = instead of == when testing for equality. When this happens you’ll get an informative error:"
      ]
    },
    {
      "cell_type": "code",
      "metadata": {
        "pycharm": {
          "is_executing": false
        },
        "id": "d--p5DxOj6_A",
        "colab_type": "code",
        "colab": {}
      },
      "source": [
        "flights.query(\"month =1\")"
      ],
      "execution_count": 0,
      "outputs": []
    },
    {
      "cell_type": "markdown",
      "metadata": {
        "id": "O4QaWi9rj6_D",
        "colab_type": "text"
      },
      "source": [
        "There’s another common problem you might encounter when using ==: floating point numbers. These results might surprise you!"
      ]
    },
    {
      "cell_type": "code",
      "metadata": {
        "pycharm": {
          "is_executing": false
        },
        "id": "kOXl04mzj6_D",
        "colab_type": "code",
        "colab": {}
      },
      "source": [
        "from math import sqrt"
      ],
      "execution_count": 0,
      "outputs": []
    },
    {
      "cell_type": "code",
      "metadata": {
        "pycharm": {
          "is_executing": false
        },
        "id": "MyLS1k_Pj6_H",
        "colab_type": "code",
        "colab": {}
      },
      "source": [
        "sqrt(2) ** 2 == 2"
      ],
      "execution_count": 0,
      "outputs": []
    },
    {
      "cell_type": "code",
      "metadata": {
        "pycharm": {
          "is_executing": false
        },
        "id": "L3nIefavj6_J",
        "colab_type": "code",
        "colab": {}
      },
      "source": [
        "1/49 * 49 == 1"
      ],
      "execution_count": 0,
      "outputs": []
    },
    {
      "cell_type": "markdown",
      "metadata": {
        "id": "soMLFEhpj6_M",
        "colab_type": "text"
      },
      "source": [
        "Computers use finite precision arithmetic (they obviously can’t store an infinite number of digits!) so remember that every number you see is an approximation."
      ]
    },
    {
      "cell_type": "markdown",
      "metadata": {
        "id": "InoCgvosj6_M",
        "colab_type": "text"
      },
      "source": [
        "## Logical Operators"
      ]
    },
    {
      "cell_type": "code",
      "metadata": {
        "pycharm": {
          "is_executing": false
        },
        "id": "ADi9Rsggj6_N",
        "colab_type": "code",
        "colab": {}
      },
      "source": [
        ""
      ],
      "execution_count": 0,
      "outputs": []
    }
  ]
}