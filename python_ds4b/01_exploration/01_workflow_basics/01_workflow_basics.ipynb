{
  "nbformat": 4,
  "nbformat_minor": 0,
  "metadata": {
    "kernelspec": {
      "display_name": "Python 3",
      "language": "python",
      "name": "python3"
    },
    "language_info": {
      "codemirror_mode": {
        "name": "ipython",
        "version": 3
      },
      "file_extension": ".py",
      "mimetype": "text/x-python",
      "name": "python",
      "nbconvert_exporter": "python",
      "pygments_lexer": "ipython3",
      "version": "3.5.3"
    },
    "colab": {
      "name": "01_workflow_basics.ipynb",
      "provenance": [],
      "include_colab_link": true
    }
  },
  "cells": [
    {
      "cell_type": "markdown",
      "metadata": {
        "id": "view-in-github",
        "colab_type": "text"
      },
      "source": [
        "<a href=\"https://colab.research.google.com/github/SoIllEconomist/ds4b/blob/master/python_ds4b/01_exploration/01_workflow_basics/01_workflow_basics.ipynb\" target=\"_parent\"><img src=\"https://colab.research.google.com/assets/colab-badge.svg\" alt=\"Open In Colab\"/></a>"
      ]
    },
    {
      "cell_type": "markdown",
      "metadata": {
        "id": "-ackDRFzjpsa",
        "colab_type": "text"
      },
      "source": [
        "# Workflow: basics\n",
        "\n",
        "You now have some experience running Python code. I didn’t give you many details, but you’ve obviously figured out the basics, or you would’ve thrown this book away in frustration! Frustration is natural when you start programming in Python, because it is such a stickler for punctuation, and even one character out of place will cause it to complain. But while you should expect to be a little frustrated, take comfort in that it’s both typical and temporary: it happens to everyone, and the only way to get over it is to keep trying.\n",
        "\n",
        "Before we go any further, let’s make sure you’ve got a solid foundation in running Python code, and that you know about some of the most helpful Jupyter features.\n"
      ]
    },
    {
      "cell_type": "markdown",
      "metadata": {
        "id": "EpRfofLVly9M",
        "colab_type": "text"
      },
      "source": [
        "## Coding Basics\n",
        "\n",
        "Let’s review some basics we’ve so far omitted in the interests of getting you plotting as quickly as possible. You can use Python as a calculator:"
      ]
    },
    {
      "cell_type": "code",
      "metadata": {
        "id": "oCffjOUFlyE4",
        "colab_type": "code",
        "colab": {
          "base_uri": "https://localhost:8080/",
          "height": 421
        },
        "outputId": "c8b6c397-500d-47a5-bed2-b2e4eeb21aa2"
      },
      "source": [
        "#@title Introducing Numbers { display-mode: \"form\" }\n",
        "#@markdown This 4-minute video gives an overview of the key features of Numbers:\n",
        "from IPython.display import YouTubeVideo\n",
        "YouTubeVideo('cq9qr2h1048', width=600, height=400)"
      ],
      "execution_count": 1,
      "outputs": [
        {
          "output_type": "execute_result",
          "data": {
            "text/html": [
              "\n",
              "        <iframe\n",
              "            width=\"600\"\n",
              "            height=\"400\"\n",
              "            src=\"https://www.youtube.com/embed/cq9qr2h1048\"\n",
              "            frameborder=\"0\"\n",
              "            allowfullscreen\n",
              "        ></iframe>\n",
              "        "
            ],
            "text/plain": [
              "<IPython.lib.display.YouTubeVideo at 0x7fd60a5250f0>"
            ],
            "image/jpeg": "[encoded data removed]"
          },
          "metadata": {
            "tags": []
          },
          "execution_count": 1
        }
      ]
    },
    {
      "cell_type": "code",
      "metadata": {
        "id": "tKH8gULCjpsh",
        "colab_type": "code",
        "outputId": "02709658-9e4f-4e4c-a746-d3e30111bea9",
        "colab": {}
      },
      "source": [
        "1 / 200 * 30"
      ],
      "execution_count": 0,
      "outputs": [
        {
          "output_type": "execute_result",
          "data": {
            "text/plain": [
              "0.15"
            ]
          },
          "metadata": {
            "tags": []
          },
          "execution_count": 1
        }
      ]
    },
    {
      "cell_type": "code",
      "metadata": {
        "id": "jsot0zdPjpsq",
        "colab_type": "code",
        "outputId": "021f5ff9-5629-4ed1-b107-367ed23ef4d1",
        "colab": {}
      },
      "source": [
        "(59 + 73 + 2) / 3"
      ],
      "execution_count": 0,
      "outputs": [
        {
          "output_type": "execute_result",
          "data": {
            "text/plain": [
              "44.666666666666664"
            ]
          },
          "metadata": {
            "tags": []
          },
          "execution_count": 2
        }
      ]
    },
    {
      "cell_type": "markdown",
      "metadata": {
        "id": "ayMr2g8Ajps1",
        "colab_type": "text"
      },
      "source": [
        "You can create new objects (variables) with `=`:"
      ]
    },
    {
      "cell_type": "code",
      "metadata": {
        "id": "0x_FPaPKjps2",
        "colab_type": "code",
        "colab": {}
      },
      "source": [
        "x = 3 * 4"
      ],
      "execution_count": 0,
      "outputs": []
    },
    {
      "cell_type": "markdown",
      "metadata": {
        "id": "P6V3LBZXjps5",
        "colab_type": "text"
      },
      "source": [
        "All Python statements where you create objects, **assignment** statements, have the same form:\n",
        "\n",
        "```python\n",
        "object_name = value\n",
        "```\n",
        "\n",
        "When reading that code say “object name gets value” in your head.\n",
        "\n",
        "## What's in a name?\n",
        "\n",
        "Programmers generally choose names for their variables that are meaningful—they document what the variable is used for.\n",
        "\n",
        "Variable names can be as long as you like. They can contain both letters and numbers, but they can't begin with a number. It is legal to use uppercase letters, but it is conventional to use only lower case for variables names.\n",
        "\n",
        "Object names must start with a letter, and can only contain letters, numbers and  `_.` You want your object names to be descriptive, so you'll need a convention for multiple words. I recommend **snake_case** where you separate lowercase words with `_`. The underscore character, `_`, can appear in a name. It is often used in names with multiple words.\n",
        "\n",
        "```python\n",
        "i_use_snake_case\n",
        "otherPeopleUseCamelCase\n",
        "And_aFewPeople_RENOUNCEconvention\n",
        "```\n",
        "\n",
        "If you give a variable an illegal name, you get a syntax error.\n",
        "\n",
        "```python\n",
        "SyntaxError: invalid syntax\n",
        "```\n",
        "\n",
        "We’ll come back to code style later when we discuss `functions`.\n",
        "\n",
        "You can inspect an object by typing its name:"
      ]
    },
    {
      "cell_type": "code",
      "metadata": {
        "id": "_OTVtuXljps7",
        "colab_type": "code",
        "outputId": "1d707d7c-9285-4c6d-e281-04f53f30d503",
        "colab": {}
      },
      "source": [
        "x"
      ],
      "execution_count": 0,
      "outputs": [
        {
          "output_type": "execute_result",
          "data": {
            "text/plain": [
              "12"
            ]
          },
          "metadata": {
            "tags": []
          },
          "execution_count": 4
        }
      ]
    },
    {
      "cell_type": "markdown",
      "metadata": {
        "id": "uKPm5ewRjps_",
        "colab_type": "text"
      },
      "source": [
        "Make another assignment:"
      ]
    },
    {
      "cell_type": "code",
      "metadata": {
        "id": "WdO-RbICjptB",
        "colab_type": "code",
        "colab": {}
      },
      "source": [
        "this_is_a_really_long_name = 2.5"
      ],
      "execution_count": 0,
      "outputs": []
    },
    {
      "cell_type": "markdown",
      "metadata": {
        "id": "Mmwg7fO9jptE",
        "colab_type": "text"
      },
      "source": [
        "Ooops, you made a mistake! this_is_a_really_long_name should have value 3.5 not 2.5. **Change 2.5 to 3.5 and rerun.**"
      ]
    },
    {
      "cell_type": "code",
      "metadata": {
        "id": "jMRB_WzCjptF",
        "colab_type": "code",
        "colab": {}
      },
      "source": [
        ""
      ],
      "execution_count": 0,
      "outputs": []
    },
    {
      "cell_type": "code",
      "metadata": {
        "id": "4A8BSh99jptJ",
        "colab_type": "code",
        "colab": {}
      },
      "source": [
        ""
      ],
      "execution_count": 0,
      "outputs": []
    },
    {
      "cell_type": "markdown",
      "metadata": {
        "id": "ZA_651dQjptM",
        "colab_type": "text"
      },
      "source": [
        "Make yet another assignment"
      ]
    },
    {
      "cell_type": "code",
      "metadata": {
        "id": "-2yl_gZSjptN",
        "colab_type": "code",
        "colab": {}
      },
      "source": [
        "py_rocks = 2**3"
      ],
      "execution_count": 0,
      "outputs": []
    },
    {
      "cell_type": "markdown",
      "metadata": {
        "id": "76yEkvw5jptQ",
        "colab_type": "text"
      },
      "source": [
        "Let's try to inspect it:"
      ]
    },
    {
      "cell_type": "code",
      "metadata": {
        "id": "lbCRm9wCjptR",
        "colab_type": "code",
        "outputId": "47c5f7f9-bc6c-4050-e636-063b199cdc40",
        "colab": {}
      },
      "source": [
        "py_rock"
      ],
      "execution_count": 0,
      "outputs": [
        {
          "output_type": "error",
          "ename": "NameError",
          "evalue": "name 'py_rock' is not defined",
          "traceback": [
            "\u001b[0;31m------------------------------------------------------------------\u001b[0m",
            "\u001b[0;31mNameError\u001b[0m                        Traceback (most recent call last)",
            "\u001b[0;32m<ipython-input-7-c8fdb6d952ff>\u001b[0m in \u001b[0;36m<module>\u001b[0;34m\u001b[0m\n\u001b[0;32m----> 1\u001b[0;31m \u001b[0mpy_rock\u001b[0m\u001b[0;34m\u001b[0m\u001b[0m\n\u001b[0m",
            "\u001b[0;31mNameError\u001b[0m: name 'py_rock' is not defined"
          ]
        }
      ]
    },
    {
      "cell_type": "code",
      "metadata": {
        "id": "eVOzA56djptV",
        "colab_type": "code",
        "outputId": "60eff8bc-8462-4914-848e-7ff966a96fab",
        "colab": {}
      },
      "source": [
        "Py_rocks"
      ],
      "execution_count": 0,
      "outputs": [
        {
          "output_type": "error",
          "ename": "NameError",
          "evalue": "name 'Py_rocks' is not defined",
          "traceback": [
            "\u001b[0;31m------------------------------------------------------------------\u001b[0m",
            "\u001b[0;31mNameError\u001b[0m                        Traceback (most recent call last)",
            "\u001b[0;32m<ipython-input-8-4ae730ae5279>\u001b[0m in \u001b[0;36m<module>\u001b[0;34m\u001b[0m\n\u001b[0;32m----> 1\u001b[0;31m \u001b[0mPy_rocks\u001b[0m\u001b[0;34m\u001b[0m\u001b[0m\n\u001b[0m",
            "\u001b[0;31mNameError\u001b[0m: name 'Py_rocks' is not defined"
          ]
        }
      ]
    },
    {
      "cell_type": "markdown",
      "metadata": {
        "id": "jmpptfahjptY",
        "colab_type": "text"
      },
      "source": [
        "There's an implied contract between you and Python: it will do the tedious computation for you, but in return, you must be completely precise in your instructions. **Typos matter. Case matters.**"
      ]
    },
    {
      "cell_type": "markdown",
      "metadata": {
        "id": "CaUh4-mnjptZ",
        "colab_type": "text"
      },
      "source": [
        "## Calling functions\n",
        "\n",
        "Python has a large collection of built-in functions that are called like this:\n",
        "\n",
        "```python\n",
        "function_name(arg1 = val1, arg2 = val2, ...)\n",
        "```\n",
        "**function** is a named sequence of statements that performs a computation. \n",
        "\n",
        "- When you define a function, you specify the name and the sequence of statements. \n",
        "\n",
        "- Later, you can “call” the function by name.\n",
        "\n",
        "We've already see a **function call**:"
      ]
    },
    {
      "cell_type": "code",
      "metadata": {
        "id": "zqwMHh_Yjptb",
        "colab_type": "code",
        "outputId": "60aba395-c8a8-4599-c5ec-d1c5e99df47f",
        "colab": {}
      },
      "source": [
        "type(42)"
      ],
      "execution_count": 0,
      "outputs": [
        {
          "output_type": "execute_result",
          "data": {
            "text/plain": [
              "int"
            ]
          },
          "metadata": {
            "tags": []
          },
          "execution_count": 1
        }
      ]
    },
    {
      "cell_type": "markdown",
      "metadata": {
        "id": "gWzjAT27jpte",
        "colab_type": "text"
      },
      "source": [
        "- The name of the function is type. \n",
        "\n",
        "- The expression in parentheses is called the argument of the function. \n",
        "\n",
        "- The result, for this function, is the type of the **argument**.\n",
        "\n",
        "- It is common to say that a function “takes” an argument and “returns” a result. The result is also called the **return value**."
      ]
    },
    {
      "cell_type": "code",
      "metadata": {
        "id": "X-WODflSjptg",
        "colab_type": "code",
        "outputId": "7079291c-751f-4a2b-fd8e-2b2ae6b2d3ee",
        "colab": {}
      },
      "source": [
        "int('32') # string to int"
      ],
      "execution_count": 0,
      "outputs": [
        {
          "output_type": "execute_result",
          "data": {
            "text/plain": [
              "32"
            ]
          },
          "metadata": {
            "tags": []
          },
          "execution_count": 2
        }
      ]
    },
    {
      "cell_type": "code",
      "metadata": {
        "id": "USEj7B3Djptk",
        "colab_type": "code",
        "outputId": "44cd2ed3-366c-48eb-c9d8-91eafb18ba78",
        "colab": {}
      },
      "source": [
        "int('Hello')"
      ],
      "execution_count": 0,
      "outputs": [
        {
          "output_type": "error",
          "ename": "ValueError",
          "evalue": "invalid literal for int() with base 10: 'Hello'",
          "traceback": [
            "\u001b[0;31m---------------------------------------------------------------------------\u001b[0m",
            "\u001b[0;31mValueError\u001b[0m                                Traceback (most recent call last)",
            "\u001b[0;32m<ipython-input-3-6765ce49acfe>\u001b[0m in \u001b[0;36m<module>\u001b[0;34m()\u001b[0m\n\u001b[0;32m----> 1\u001b[0;31m \u001b[0mint\u001b[0m\u001b[0;34m(\u001b[0m\u001b[0;34m'Hello'\u001b[0m\u001b[0;34m)\u001b[0m\u001b[0;34m\u001b[0m\u001b[0m\n\u001b[0m",
            "\u001b[0;31mValueError\u001b[0m: invalid literal for int() with base 10: 'Hello'"
          ]
        }
      ]
    },
    {
      "cell_type": "code",
      "metadata": {
        "id": "z1HoDIYBjptq",
        "colab_type": "code",
        "outputId": "18e36baa-629c-4627-a7a2-8ef8753f3e5a",
        "colab": {}
      },
      "source": [
        "float(32) # int / string to float"
      ],
      "execution_count": 0,
      "outputs": [
        {
          "output_type": "execute_result",
          "data": {
            "text/plain": [
              "32.0"
            ]
          },
          "metadata": {
            "tags": []
          },
          "execution_count": 4
        }
      ]
    },
    {
      "cell_type": "code",
      "metadata": {
        "id": "jVTAnanwjpty",
        "colab_type": "code",
        "outputId": "44e3aeab-9f0f-47ca-e596-b4beee7aa789",
        "colab": {}
      },
      "source": [
        "float('3.14')"
      ],
      "execution_count": 0,
      "outputs": [
        {
          "output_type": "execute_result",
          "data": {
            "text/plain": [
              "3.14"
            ]
          },
          "metadata": {
            "tags": []
          },
          "execution_count": 6
        }
      ]
    },
    {
      "cell_type": "code",
      "metadata": {
        "id": "Or25z6LGjpt2",
        "colab_type": "code",
        "outputId": "3eea9a88-b7af-4919-fbc4-d6ea90af13fe",
        "colab": {}
      },
      "source": [
        "str(31) # int / float to string"
      ],
      "execution_count": 0,
      "outputs": [
        {
          "output_type": "execute_result",
          "data": {
            "text/plain": [
              "'31'"
            ]
          },
          "metadata": {
            "tags": []
          },
          "execution_count": 7
        }
      ]
    },
    {
      "cell_type": "markdown",
      "metadata": {
        "id": "ShExRTNtjpt5",
        "colab_type": "text"
      },
      "source": [
        "Let's try using `print()` which prints objects to the text stream file, separated by `sep` and followed by `end`. `sep`, `end`, `file` and `flush`, if present, must be given as keyword arguments."
      ]
    },
    {
      "cell_type": "code",
      "metadata": {
        "id": "CpwDsdiujpt6",
        "colab_type": "code",
        "outputId": "ae0308c7-04b6-4aa5-d6df-33358ca9728b",
        "colab": {}
      },
      "source": [
        "print(\"Hello\", \"World\")"
      ],
      "execution_count": 0,
      "outputs": [
        {
          "output_type": "stream",
          "text": [
            "Hello World\n"
          ],
          "name": "stdout"
        }
      ]
    },
    {
      "cell_type": "code",
      "metadata": {
        "id": "7uMbuEn_jpt9",
        "colab_type": "code",
        "outputId": "aa8c42a4-4780-4afb-8958-d546670722a7",
        "colab": {}
      },
      "source": [
        "print(\"Hello\", \"World\", sep=\"_\")"
      ],
      "execution_count": 0,
      "outputs": [
        {
          "output_type": "stream",
          "text": [
            "Hello_World\n"
          ],
          "name": "stdout"
        }
      ]
    },
    {
      "cell_type": "markdown",
      "metadata": {
        "id": "lWQRtQi6jpuF",
        "colab_type": "text"
      },
      "source": [
        "### Exercises\n",
        "\n",
        "1. Why does this code not work:\n",
        "\n",
        "```python\n",
        "my_variable = 10\n",
        "my_varlable\n",
        "```\n",
        "Look carefully! (This may seem like an exercise in pointlessness, but training your brain to notice even the tiniest difference will pay off when programming.)\n",
        "\n",
        "2. Tweak each of the following commands so that they run correctly:\n",
        "\n",
        "```python\n",
        "impart seaborn as sns\n",
        "tips = sns.load_dateset(\"tips\")\n",
        "sns.relplot(x=\"total_bill\", y=\"tip\", data=tips);\n",
        "```\n"
      ]
    },
    {
      "cell_type": "markdown",
      "metadata": {
        "id": "GoN1hEsQi3Sf",
        "colab_type": "text"
      },
      "source": [
        "[Next Section: Data Transformation](https://colab.research.google.com/github/SoIllEconomist/ds4b/blob/master/python_ds4b/01_exploration/02_data_transformation/02_data_transformation.ipynb)"
      ]
    }
  ]
}