{
  "nbformat": 4,
  "nbformat_minor": 0,
  "metadata": {
    "kernelspec": {
      "display_name": "Python 3",
      "language": "python",
      "name": "python3"
    },
    "language_info": {
      "codemirror_mode": {
        "name": "ipython",
        "version": 3
      },
      "file_extension": ".py",
      "mimetype": "text/x-python",
      "name": "python",
      "nbconvert_exporter": "python",
      "pygments_lexer": "ipython3",
      "version": "3.5.1"
    },
    "colab": {
      "name": "matplotlib_exercises.ipynb",
      "provenance": [],
      "include_colab_link": true
    }
  },
  "cells": [
    {
      "cell_type": "markdown",
      "metadata": {
        "id": "view-in-github",
        "colab_type": "text"
      },
      "source": [
        "<a href=\"https://colab.research.google.com/github/SoIllEconomist/ds4b/blob/master/matplotlib_exercises.ipynb\" target=\"_parent\"><img src=\"https://colab.research.google.com/assets/colab-badge.svg\" alt=\"Open In Colab\"/></a>"
      ]
    },
    {
      "cell_type": "markdown",
      "metadata": {
        "id": "C2Y0P5MbBJ_m",
        "colab_type": "text"
      },
      "source": [
        "# Matplotlib Exercises \n",
        "\n",
        "\n",
        "- ***NOTE: ALL THE COMMANDS FOR PLOTTING A FIGURE SHOULD ALL GO IN THE SAME CELL. SEPARATING THEM OUT INTO MULTIPLE CELLS MAY CAUSE NOTHING TO SHOW UP.***\n",
        "\n",
        "- **Turn in to canvas when done.**\n",
        "\n",
        "# Exercises\n",
        "\n",
        "Follow the instructions to recreate the plots using this data:\n",
        "\n",
        "## Data"
      ]
    },
    {
      "cell_type": "code",
      "metadata": {
        "id": "02Y9PwAwBJ_o",
        "colab_type": "code",
        "colab": {}
      },
      "source": [
        "import numpy as np\n",
        "x = np.arange(0,100)\n",
        "y = x*2\n",
        "z = x**2"
      ],
      "execution_count": 1,
      "outputs": []
    },
    {
      "cell_type": "markdown",
      "metadata": {
        "id": "pUq0KTmOBJ_r",
        "colab_type": "text"
      },
      "source": [
        "**Import matplotlib.pyplot as plt and set %matplotlib inline if you are using the jupyter notebook. What command do you use if you aren't using the jupyter notebook?**"
      ]
    },
    {
      "cell_type": "code",
      "metadata": {
        "id": "lvjbF2bABJ_s",
        "colab_type": "code",
        "colab": {}
      },
      "source": [
        ""
      ],
      "execution_count": 1,
      "outputs": []
    },
    {
      "cell_type": "markdown",
      "metadata": {
        "id": "l7cv1IAfBJ_v",
        "colab_type": "text"
      },
      "source": [
        "## Exercise 1\n",
        "\n",
        "**Follow along with these steps:**\n",
        "1. **Create a figure object called fig using plt.figure()**\n",
        "1. **Use add_axes to add an axis to the figure canvas at [0,0,1,1]. Call this new axis ax.**\n",
        "1. **Plot (x,y) on that axes and set the labels and titles to match the plot below:**"
      ]
    },
    {
      "cell_type": "code",
      "metadata": {
        "id": "QNH81jirBJ_w",
        "colab_type": "code",
        "colab": {}
      },
      "source": [
        ""
      ],
      "execution_count": 1,
      "outputs": []
    },
    {
      "cell_type": "markdown",
      "metadata": {
        "id": "UqgAvvWUBJ_z",
        "colab_type": "text"
      },
      "source": [
        "## Exercise 2\n",
        "**Create a figure object and put two axes on it, ax1 and ax2. Located at [0,0,1,1] and [0.2,0.5,.2,.2] respectively.**"
      ]
    },
    {
      "cell_type": "code",
      "metadata": {
        "id": "KRLwBOiWBJ_0",
        "colab_type": "code",
        "colab": {}
      },
      "source": [
        ""
      ],
      "execution_count": 1,
      "outputs": []
    },
    {
      "cell_type": "markdown",
      "metadata": {
        "id": "jarp17CxBJ_2",
        "colab_type": "text"
      },
      "source": [
        "**Now plot (x,y) on both axes. And call your figure object to show it.**"
      ]
    },
    {
      "cell_type": "code",
      "metadata": {
        "id": "D29INNFoBJ_3",
        "colab_type": "code",
        "colab": {}
      },
      "source": [
        ""
      ],
      "execution_count": 1,
      "outputs": []
    },
    {
      "cell_type": "markdown",
      "metadata": {
        "id": "k6_Qyt7zBJ_5",
        "colab_type": "text"
      },
      "source": [
        "## Exercise 3\n",
        "\n",
        "**Create the plot below by adding two axes to a figure object at [0,0,1,1] and [0.2,0.5,.4,.4]**"
      ]
    },
    {
      "cell_type": "code",
      "metadata": {
        "id": "YL6SmnZ6BJ_6",
        "colab_type": "code",
        "colab": {}
      },
      "source": [
        ""
      ],
      "execution_count": 1,
      "outputs": []
    },
    {
      "cell_type": "markdown",
      "metadata": {
        "id": "buIwQXxnBJ_9",
        "colab_type": "text"
      },
      "source": [
        "**Now use x,y, and z arrays to recreate the plot below. Notice the xlimits and y limits on the inserted plot:**"
      ]
    },
    {
      "cell_type": "code",
      "metadata": {
        "id": "KI6xoLMGBJ_9",
        "colab_type": "code",
        "colab": {}
      },
      "source": [
        ""
      ],
      "execution_count": 1,
      "outputs": []
    },
    {
      "cell_type": "markdown",
      "metadata": {
        "id": "pwxtfXNeBKAA",
        "colab_type": "text"
      },
      "source": [
        "## Exercise 4\n",
        "\n",
        "**Use plt.subplots(nrows=1, ncols=2) to create the plot below.**"
      ]
    },
    {
      "cell_type": "code",
      "metadata": {
        "id": "Jxdc_cG8BKAA",
        "colab_type": "code",
        "colab": {}
      },
      "source": [
        ""
      ],
      "execution_count": 1,
      "outputs": []
    },
    {
      "cell_type": "markdown",
      "metadata": {
        "id": "pooQ0OyoBKAD",
        "colab_type": "text"
      },
      "source": [
        "**Now plot (x,y) and (x,z) on the axes. Play around with the linewidth and style**"
      ]
    },
    {
      "cell_type": "code",
      "metadata": {
        "id": "guhoanQ5BKAD",
        "colab_type": "code",
        "colab": {}
      },
      "source": [
        ""
      ],
      "execution_count": 1,
      "outputs": []
    },
    {
      "cell_type": "markdown",
      "metadata": {
        "id": "9PYIKqqRBKAF",
        "colab_type": "text"
      },
      "source": [
        "**See if you can resize the plot by adding the figsize() argument in plt.subplots() are copying and pasting your previous code.**"
      ]
    },
    {
      "cell_type": "code",
      "metadata": {
        "id": "haAo8FhRBKAG",
        "colab_type": "code",
        "colab": {}
      },
      "source": [
        ""
      ],
      "execution_count": 1,
      "outputs": []
    }
  ]
}