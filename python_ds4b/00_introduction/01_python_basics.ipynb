{
  "nbformat": 4,
  "nbformat_minor": 0,
  "metadata": {
    "colab": {
      "name": "01_python_basics.ipynb",
      "provenance": [],
      "include_colab_link": true
    },
    "kernelspec": {
      "name": "python3",
      "display_name": "Python 3"
    }
  },
  "cells": [
    {
      "cell_type": "markdown",
      "metadata": {
        "id": "view-in-github",
        "colab_type": "text"
      },
      "source": [
        "<a href=\"https://colab.research.google.com/github/SoIllEconomist/ds4b/blob/master/python_ds4b/00_introduction/01_python_basics.ipynb\" target=\"_parent\"><img src=\"https://colab.research.google.com/assets/colab-badge.svg\" alt=\"Open In Colab\"/></a>"
      ]
    },
    {
      "cell_type": "markdown",
      "metadata": {
        "id": "IxJuHdAoEOUq",
        "colab_type": "text"
      },
      "source": [
        "# Python Basics\n",
        "\n",
        "## Expressions\n",
        "An expression **represents** something\n",
        "    \n",
        "- Python **evaluates it** (turns it into a value)\n",
        "- Similar to a calculator\n",
        "\n",
        "### Examples\n",
        "Literal: Evaluates to self"
      ]
    },
    {
      "cell_type": "code",
      "metadata": {
        "id": "H4CFnaPRJRgf",
        "colab_type": "code",
        "colab": {}
      },
      "source": [
        "2.3 "
      ],
      "execution_count": 0,
      "outputs": []
    },
    {
      "cell_type": "markdown",
      "metadata": {
        "id": "P5M0GhGYJd5y",
        "colab_type": "text"
      },
      "source": [
        "An expression with four literals and some operators"
      ]
    },
    {
      "cell_type": "code",
      "metadata": {
        "id": "Pq6akxFzJiaq",
        "colab_type": "code",
        "colab": {}
      },
      "source": [
        "(3*7 + 2) * 0.1"
      ],
      "execution_count": 0,
      "outputs": []
    },
    {
      "cell_type": "markdown",
      "metadata": {
        "id": "mW3Es1h1Jo47",
        "colab_type": "text"
      },
      "source": [
        "## How to tell the Type of a Values\n",
        "\n",
        "Command:\n",
        "```python\n",
        "type(<value>)\n",
        "```"
      ]
    },
    {
      "cell_type": "code",
      "metadata": {
        "id": "nYP6SxGtJsGl",
        "colab_type": "code",
        "colab": {}
      },
      "source": [
        "type(2)"
      ],
      "execution_count": 0,
      "outputs": []
    },
    {
      "cell_type": "markdown",
      "metadata": {
        "id": "R4tOpOTGEiZC",
        "colab_type": "text"
      },
      "source": [
        "## Variables and Data Types\n",
        "\n",
        "### Variable Assignment"
      ]
    },
    {
      "cell_type": "code",
      "metadata": {
        "id": "r7n5_cwJEmdV",
        "colab_type": "code",
        "colab": {}
      },
      "source": [
        "x = 5"
      ],
      "execution_count": 0,
      "outputs": []
    },
    {
      "cell_type": "code",
      "metadata": {
        "id": "XXB_u0RdHXFT",
        "colab_type": "code",
        "colab": {
          "base_uri": "https://localhost:8080/",
          "height": 35
        },
        "outputId": "ab31d19a-d131-4599-83c8-67ec670422da"
      },
      "source": [
        "x"
      ],
      "execution_count": 7,
      "outputs": [
        {
          "output_type": "execute_result",
          "data": {
            "text/plain": [
              "5"
            ]
          },
          "metadata": {
            "tags": []
          },
          "execution_count": 7
        }
      ]
    },
    {
      "cell_type": "markdown",
      "metadata": {
        "id": "Q66QnPfRE9nN",
        "colab_type": "text"
      },
      "source": [
        "### Calculations with Variables\n",
        "| **Operations** | **Example** | **Description**                 |\n",
        "|----------------|-------------|---------------------------------|\n",
        "| `+`            | `x+2`       | Sum of two variables            |\n",
        "| `-`            | `x-2`       | Subtraction of two variables    |\n",
        "| `*`            | `x*2`       | Multiplication of two variables |\n",
        "| `**`           | `x**2`      | Exponentiation of a variable    |\n",
        "| `%`            | `x%2`       | Remainder of a variable         |\n",
        "| `/`            | `x/2.`      | Division of a variable          |\n",
        "\n",
        "### Exercise\n",
        "Try each of the examples in the code cell below:\n"
      ]
    },
    {
      "cell_type": "code",
      "metadata": {
        "id": "YgWJ1oPZFCY3",
        "colab_type": "code",
        "colab": {}
      },
      "source": [
        ""
      ],
      "execution_count": 0,
      "outputs": []
    },
    {
      "cell_type": "markdown",
      "metadata": {
        "id": "iBaGx9M5FAqo",
        "colab_type": "text"
      },
      "source": [
        "### Types and Type Conversion\n",
        "\n",
        "| **Type**           | **Conversion Function** | **Example**       | **Conversion Description** |\n",
        "|--------------------|-------------------------|-------------------|----------------------------|\n",
        "| **String**         | `str()`                 | '5','3.45','True' | Variables to strings       |\n",
        "| **Integer**        | `int()`                 | 5,3,1             | Variables to integers      |\n",
        "| **Floating point** | `float()`               | 5.0, 3.45, 1.0    | Variables to floats        |\n",
        "| **Boolean**        | `bool()`                | True, True, True  | Variables to booleans      |\n",
        "\n",
        "---\n",
        "\n",
        "#### str (string) for text\n",
        "\n",
        "**Values:** any sequence of characters\n",
        "\n",
        "**Operation(s):** + (contenation, or concatenation)\n",
        "- operator `+` changes from type to type\n",
        "    \n",
        "**String literal:** sequence of characters in quotes\n",
        "- Double quotes: \"abc#&$g<\" or \"Hello World!\"\n",
        "- Single quotes: 'Hello World'\n",
        "\n",
        "**Concatenation** applies only to strings\n",
        "- \"ab\"  + \"cd\" evaluates to \"abcd\"\n",
        "- \"ab\" + 2 produces an **ERROR**\n",
        "---\n",
        "#### Types: int (integers)\n",
        "\n",
        "**Values:** $\\dots , -3, -2, -1, 0, 1, 2, 3, 4, 5, \\dots$\n",
        "\n",
        "**Operations:** + ,- ,* , ** ,/ , // , %\n",
        "\n",
        "\n",
        "---\n",
        "#### float (floating point)\n",
        "\n",
        "**Values:** (approximations of) real numbers\n",
        "- With a \".\": a **float** literal (e.g., 2.0)\n",
        "- Without a decimal: an **int** literal (e.g., 2)\n",
        "    \n",
        "**Operations:** + ,- ,\\* ,/ ,\\*\\*\n",
        "- *Notice:* operator meaning can change from type to type\n",
        "\n",
        "---\n",
        "\n",
        "## Type: bool (boolean)\n",
        "\n",
        "**Values:** True, False\n",
        "- Booleans literals `True` and `False` (MUST BE CAPITALIZED)\n",
        "    \n",
        "**Operations:** not, and, or\n",
        "- not b: **True** if *b is false* and **False** if b is true\n",
        "- b and c: **True** if *both b and c are true*; **False** otherwise\n",
        "- b or c: **True** if *b is true or c is true*; **False** otherwise\n",
        "\n",
        "Often come from comparing `int` or `float` values\n",
        "- Order comparisons: `i<j` `i<=j` `i>=j` `i>j`\n",
        "- Equality, inequality: `i == j` `i!=j`\n",
        "\n"
      ]
    },
    {
      "cell_type": "markdown",
      "metadata": {
        "id": "A6S64QpqEnJ3",
        "colab_type": "text"
      },
      "source": [
        "## Strings\n",
        "\n",
        "- Strings are not like integers, floats, and booleans. \n",
        "- A string is a **sequence**, which means it is an ordered collection of other values.\n",
        "  "
      ]
    },
    {
      "cell_type": "code",
      "metadata": {
        "id": "6Tzx-1QTEqgD",
        "colab_type": "code",
        "colab": {}
      },
      "source": [
        "my_string = 'thisStringIsAwesome'"
      ],
      "execution_count": 0,
      "outputs": []
    },
    {
      "cell_type": "code",
      "metadata": {
        "id": "-H8nHyTGNF7_",
        "colab_type": "code",
        "colab": {
          "base_uri": "https://localhost:8080/",
          "height": 35
        },
        "outputId": "e8a6ee8d-7366-45b8-f475-d369515d2c42"
      },
      "source": [
        "my_string"
      ],
      "execution_count": 13,
      "outputs": [
        {
          "output_type": "execute_result",
          "data": {
            "text/plain": [
              "'thisStringIsAwesome'"
            ]
          },
          "metadata": {
            "tags": []
          },
          "execution_count": 13
        }
      ]
    },
    {
      "cell_type": "markdown",
      "metadata": {
        "id": "DfkZ2_R4No5A",
        "colab_type": "text"
      },
      "source": [
        "String multiplication causes repeats."
      ]
    },
    {
      "cell_type": "code",
      "metadata": {
        "id": "H3Qh7H66NoBv",
        "colab_type": "code",
        "colab": {
          "base_uri": "https://localhost:8080/",
          "height": 35
        },
        "outputId": "acfc3883-ca98-4d46-84ad-3333c7e05ff5"
      },
      "source": [
        "my_string * 2"
      ],
      "execution_count": 15,
      "outputs": [
        {
          "output_type": "execute_result",
          "data": {
            "text/plain": [
              "'thisStringIsAwesomethisStringIsAwesome'"
            ]
          },
          "metadata": {
            "tags": []
          },
          "execution_count": 15
        }
      ]
    },
    {
      "cell_type": "markdown",
      "metadata": {
        "id": "Wc6ubKqmNvXB",
        "colab_type": "text"
      },
      "source": [
        "String addition concatenates another string. "
      ]
    },
    {
      "cell_type": "code",
      "metadata": {
        "id": "ZBmdwrbqN0P2",
        "colab_type": "code",
        "colab": {
          "base_uri": "https://localhost:8080/",
          "height": 35
        },
        "outputId": "7ee17d86-e24e-4a4f-9783-d36826ab2707"
      },
      "source": [
        "my_string + 'Innit'"
      ],
      "execution_count": 16,
      "outputs": [
        {
          "output_type": "execute_result",
          "data": {
            "text/plain": [
              "'thisStringIsAwesomeInnit'"
            ]
          },
          "metadata": {
            "tags": []
          },
          "execution_count": 16
        }
      ]
    },
    {
      "cell_type": "markdown",
      "metadata": {
        "id": "uS6kjL5BOBpP",
        "colab_type": "text"
      },
      "source": [
        "The word `in` is a boolean operator that takes two strings and returns `True` if the first appears as a substring in the second:"
      ]
    },
    {
      "cell_type": "code",
      "metadata": {
        "id": "Rp9BdOK-Nt3b",
        "colab_type": "code",
        "colab": {
          "base_uri": "https://localhost:8080/",
          "height": 35
        },
        "outputId": "33344534-90e3-4e22-cef6-3be3711ecd01"
      },
      "source": [
        "'m' in my_string"
      ],
      "execution_count": 17,
      "outputs": [
        {
          "output_type": "execute_result",
          "data": {
            "text/plain": [
              "True"
            ]
          },
          "metadata": {
            "tags": []
          },
          "execution_count": 17
        }
      ]
    },
    {
      "cell_type": "markdown",
      "metadata": {
        "id": "ztYX0olvFIfT",
        "colab_type": "text"
      },
      "source": [
        "### String Operations\n",
        "\n",
        "- A string is a sequence of characters\n",
        "- You can access the characters one at a time with the bracket operator:"
      ]
    },
    {
      "cell_type": "code",
      "metadata": {
        "id": "stUHjofmFL7P",
        "colab_type": "code",
        "colab": {
          "base_uri": "https://localhost:8080/",
          "height": 35
        },
        "outputId": "f4229556-f836-4a05-9973-c357f9430824"
      },
      "source": [
        "fruit = 'coconut'\n",
        "letter = fruit[1]\n",
        "letter"
      ],
      "execution_count": 11,
      "outputs": [
        {
          "output_type": "execute_result",
          "data": {
            "text/plain": [
              "'o'"
            ]
          },
          "metadata": {
            "tags": []
          },
          "execution_count": 11
        }
      ]
    },
    {
      "cell_type": "markdown",
      "metadata": {
        "id": "hV8sqFWpNRkM",
        "colab_type": "text"
      },
      "source": [
        "The expression in brackets is called an index. The index indicates which character in the sequence you want (hence the name).\n",
        "\n",
        "- For most people, the first letter of 'coconut' is c, not o. \n",
        "- But for computer scientists, the index is an offset from the beginning of the string, and the offset of the first letter is zero."
      ]
    },
    {
      "cell_type": "code",
      "metadata": {
        "id": "kQDqs7A-NTNw",
        "colab_type": "code",
        "colab": {
          "base_uri": "https://localhost:8080/",
          "height": 35
        },
        "outputId": "21937120-288b-46c1-f716-4cb005294f40"
      },
      "source": [
        "letter = fruit[0]\n",
        "letter"
      ],
      "execution_count": 12,
      "outputs": [
        {
          "output_type": "execute_result",
          "data": {
            "text/plain": [
              "'c'"
            ]
          },
          "metadata": {
            "tags": []
          },
          "execution_count": 12
        }
      ]
    },
    {
      "cell_type": "markdown",
      "metadata": {
        "id": "w5y8l-VNOU7h",
        "colab_type": "text"
      },
      "source": [
        "### String slices\n",
        "\n",
        "**Slice:** a segment of a string.\n",
        "- Selecting a slice is similar to selecting a character\n",
        "- The operator `[n:m]` returns the part of the string from the $n^{th}$ character to the $m^{th}$ character\n",
        "    - including the first but excluding the last."
      ]
    },
    {
      "cell_type": "code",
      "metadata": {
        "id": "38nlbz-iOcxT",
        "colab_type": "code",
        "colab": {
          "base_uri": "https://localhost:8080/",
          "height": 35
        },
        "outputId": "ff41f9d1-1451-4bfa-8be2-658b4efae73d"
      },
      "source": [
        "my_string[3]"
      ],
      "execution_count": 19,
      "outputs": [
        {
          "output_type": "execute_result",
          "data": {
            "text/plain": [
              "'s'"
            ]
          },
          "metadata": {
            "tags": []
          },
          "execution_count": 19
        }
      ]
    },
    {
      "cell_type": "code",
      "metadata": {
        "id": "aONUOOhXOj24",
        "colab_type": "code",
        "colab": {
          "base_uri": "https://localhost:8080/",
          "height": 35
        },
        "outputId": "6107a69f-3536-4b00-f91d-e6cfe11f239b"
      },
      "source": [
        "my_string[4:9]"
      ],
      "execution_count": 20,
      "outputs": [
        {
          "output_type": "execute_result",
          "data": {
            "text/plain": [
              "'Strin'"
            ]
          },
          "metadata": {
            "tags": []
          },
          "execution_count": 20
        }
      ]
    },
    {
      "cell_type": "markdown",
      "metadata": {
        "id": "2yV_rT7VFM04",
        "colab_type": "text"
      },
      "source": [
        "### String Methods\n",
        "\n",
        "- Strings provide methods that perform a variety of useful operations. \n",
        "- A method is similar to a function—it takes arguments and returns a value—but the syntax is different.\n",
        "\n",
        "Instead of the function syntax `upper(word)`, it uses the method syntax `word.upper()`.\n",
        "\n",
        "- This form of dot notation specifies the name of the method, upper, and the name of the string to apply the method to, word. \n",
        "\n",
        "- The empty parentheses indicate that this method takes no arguments.\n",
        "\n",
        "- A method call is called an **invocation**;\n",
        "\n",
        "| **Method**   | **Example**                  | **Description**         |\n",
        "|--------------|------------------------------|-------------------------|\n",
        "| `.upper()`   | `my_string.upper()`          | String to uppercase     |\n",
        "| `.lower()`   | `my_string.lower()`          | String to lowercase     |\n",
        "| `.count()`   | `my_string.count('w')`       | Count String elements   |\n",
        "| `.replace()` | `my_string.replace('e','i')` | Replace String elements |\n",
        "| `.strip()`   | `my_string.strip()`          | Strip whitespaces       |\n",
        "\n",
        "### Exercise\n",
        "Try each of the examples in the code cell below:"
      ]
    },
    {
      "cell_type": "code",
      "metadata": {
        "id": "tEdkl5niFL9f",
        "colab_type": "code",
        "colab": {}
      },
      "source": [
        ""
      ],
      "execution_count": 0,
      "outputs": []
    },
    {
      "cell_type": "markdown",
      "metadata": {
        "id": "-rRvRm7xErMa",
        "colab_type": "text"
      },
      "source": [
        "## Lists\n",
        "- **list:** sequence of values\n",
        "- Values inside of lists are **elements** or **items**\n",
        "- There are several ways to create a new list;\n",
        "    - the simplest is to enclose the elements in square brackets `[]`"
      ]
    },
    {
      "cell_type": "code",
      "metadata": {
        "id": "GKsl3o4NEt-Y",
        "colab_type": "code",
        "colab": {}
      },
      "source": [
        "a = 'is'\n",
        "b = 'nice'\n",
        "my_list = ['my','list',a,b]\n",
        "my_list2 = [[4,5,6,7],[3,4,5,6]]"
      ],
      "execution_count": 0,
      "outputs": []
    },
    {
      "cell_type": "markdown",
      "metadata": {
        "id": "r9617flJFTyP",
        "colab_type": "text"
      },
      "source": [
        "### Selecting List Elements\n",
        "\n",
        "- Syntax for accessing the elements of a list is the same as for accessing the characters of a string—the bracket operator.\n",
        "- The expression inside the brackets specifies the index. \n",
        "- Remember that the indices start at 0."
      ]
    },
    {
      "cell_type": "markdown",
      "metadata": {
        "id": "XHgkjuDTFYIR",
        "colab_type": "text"
      },
      "source": [
        "#### Subset\n",
        "\n",
        "\n",
        "Select item at index 1"
      ]
    },
    {
      "cell_type": "code",
      "metadata": {
        "id": "ANfqoixnFXHC",
        "colab_type": "code",
        "colab": {
          "base_uri": "https://localhost:8080/",
          "height": 35
        },
        "outputId": "5962bf88-8977-41a1-b838-6ec5a893a0ae"
      },
      "source": [
        "my_list[1]"
      ],
      "execution_count": 22,
      "outputs": [
        {
          "output_type": "execute_result",
          "data": {
            "text/plain": [
              "'list'"
            ]
          },
          "metadata": {
            "tags": []
          },
          "execution_count": 22
        }
      ]
    },
    {
      "cell_type": "markdown",
      "metadata": {
        "id": "ZndgeoMuQ5qF",
        "colab_type": "text"
      },
      "source": [
        "Select 3rd last item"
      ]
    },
    {
      "cell_type": "code",
      "metadata": {
        "id": "0U8tSD-_QyP_",
        "colab_type": "code",
        "colab": {
          "base_uri": "https://localhost:8080/",
          "height": 35
        },
        "outputId": "b2fa4694-c3b8-4b24-ba9e-b904c4c71b8f"
      },
      "source": [
        "my_list[-3]"
      ],
      "execution_count": 23,
      "outputs": [
        {
          "output_type": "execute_result",
          "data": {
            "text/plain": [
              "'list'"
            ]
          },
          "metadata": {
            "tags": []
          },
          "execution_count": 23
        }
      ]
    },
    {
      "cell_type": "markdown",
      "metadata": {
        "id": "Je4TKJBQFaWo",
        "colab_type": "text"
      },
      "source": [
        "#### Slice\n",
        "\n",
        "Select itmens at index 1 and 2"
      ]
    },
    {
      "cell_type": "code",
      "metadata": {
        "id": "k4OkGiRdFdde",
        "colab_type": "code",
        "colab": {
          "base_uri": "https://localhost:8080/",
          "height": 35
        },
        "outputId": "f4d80a9a-94ad-476e-e915-bfd7767f6e2b"
      },
      "source": [
        " my_list[1:3]"
      ],
      "execution_count": 24,
      "outputs": [
        {
          "output_type": "execute_result",
          "data": {
            "text/plain": [
              "['list', 'is']"
            ]
          },
          "metadata": {
            "tags": []
          },
          "execution_count": 24
        }
      ]
    },
    {
      "cell_type": "markdown",
      "metadata": {
        "id": "irRNIqOqRgOF",
        "colab_type": "text"
      },
      "source": [
        "Select items after index 0"
      ]
    },
    {
      "cell_type": "code",
      "metadata": {
        "id": "AcIr8vnqRM09",
        "colab_type": "code",
        "colab": {
          "base_uri": "https://localhost:8080/",
          "height": 35
        },
        "outputId": "aa844d96-9de2-40e0-9316-e19b75ae798b"
      },
      "source": [
        "my_list[1:]"
      ],
      "execution_count": 25,
      "outputs": [
        {
          "output_type": "execute_result",
          "data": {
            "text/plain": [
              "['list', 'is', 'nice']"
            ]
          },
          "metadata": {
            "tags": []
          },
          "execution_count": 25
        }
      ]
    },
    {
      "cell_type": "markdown",
      "metadata": {
        "id": "zmZ8x6udRhCf",
        "colab_type": "text"
      },
      "source": [
        "Select items before index 3"
      ]
    },
    {
      "cell_type": "code",
      "metadata": {
        "id": "HqOtcljBROrW",
        "colab_type": "code",
        "colab": {
          "base_uri": "https://localhost:8080/",
          "height": 35
        },
        "outputId": "0452122c-d6d9-448e-c975-d4d6eb3076ee"
      },
      "source": [
        " my_list[:3]"
      ],
      "execution_count": 26,
      "outputs": [
        {
          "output_type": "execute_result",
          "data": {
            "text/plain": [
              "['my', 'list', 'is']"
            ]
          },
          "metadata": {
            "tags": []
          },
          "execution_count": 26
        }
      ]
    },
    {
      "cell_type": "markdown",
      "metadata": {
        "id": "gKqegkbIRnp5",
        "colab_type": "text"
      },
      "source": [
        "Copy `my_list`"
      ]
    },
    {
      "cell_type": "code",
      "metadata": {
        "id": "jva_qX_ZRRKA",
        "colab_type": "code",
        "colab": {
          "base_uri": "https://localhost:8080/",
          "height": 35
        },
        "outputId": "d46e415d-0bb2-46a7-fa7f-ebe3b5a49e9f"
      },
      "source": [
        " my_list[:]"
      ],
      "execution_count": 27,
      "outputs": [
        {
          "output_type": "execute_result",
          "data": {
            "text/plain": [
              "['my', 'list', 'is', 'nice']"
            ]
          },
          "metadata": {
            "tags": []
          },
          "execution_count": 27
        }
      ]
    },
    {
      "cell_type": "markdown",
      "metadata": {
        "id": "_WaVMIAgFcaL",
        "colab_type": "text"
      },
      "source": [
        "#### Subset List of Lists\n",
        "\n",
        "`my_list[list][itemOfList]`"
      ]
    },
    {
      "cell_type": "code",
      "metadata": {
        "id": "UNEsaSG4Fjkg",
        "colab_type": "code",
        "colab": {
          "base_uri": "https://localhost:8080/",
          "height": 35
        },
        "outputId": "17cb0039-167b-4fb9-db7d-c7ed2e63df4f"
      },
      "source": [
        "my_list2[1][0]"
      ],
      "execution_count": 28,
      "outputs": [
        {
          "output_type": "execute_result",
          "data": {
            "text/plain": [
              "3"
            ]
          },
          "metadata": {
            "tags": []
          },
          "execution_count": 28
        }
      ]
    },
    {
      "cell_type": "code",
      "metadata": {
        "id": "9p8_3OdPRV5M",
        "colab_type": "code",
        "colab": {
          "base_uri": "https://localhost:8080/",
          "height": 35
        },
        "outputId": "d1301b31-2311-44e9-8756-c577fdc7e7ac"
      },
      "source": [
        "my_list2[1][:2]"
      ],
      "execution_count": 29,
      "outputs": [
        {
          "output_type": "execute_result",
          "data": {
            "text/plain": [
              "[3, 4]"
            ]
          },
          "metadata": {
            "tags": []
          },
          "execution_count": 29
        }
      ]
    },
    {
      "cell_type": "markdown",
      "metadata": {
        "id": "zK88gkKuFkMW",
        "colab_type": "text"
      },
      "source": [
        "## List Operations"
      ]
    },
    {
      "cell_type": "code",
      "metadata": {
        "id": "yTJvu8JRFlcn",
        "colab_type": "code",
        "colab": {
          "base_uri": "https://localhost:8080/",
          "height": 35
        },
        "outputId": "b158b8d4-8185-4819-8b3c-b64d797f2bf4"
      },
      "source": [
        "my_list + my_list"
      ],
      "execution_count": 30,
      "outputs": [
        {
          "output_type": "execute_result",
          "data": {
            "text/plain": [
              "['my', 'list', 'is', 'nice', 'my', 'list', 'is', 'nice']"
            ]
          },
          "metadata": {
            "tags": []
          },
          "execution_count": 30
        }
      ]
    },
    {
      "cell_type": "code",
      "metadata": {
        "id": "rFSgXbFeRygM",
        "colab_type": "code",
        "colab": {
          "base_uri": "https://localhost:8080/",
          "height": 35
        },
        "outputId": "10a789fe-5b36-440c-d9ab-087909f173be"
      },
      "source": [
        "my_list * 2"
      ],
      "execution_count": 31,
      "outputs": [
        {
          "output_type": "execute_result",
          "data": {
            "text/plain": [
              "['my', 'list', 'is', 'nice', 'my', 'list', 'is', 'nice']"
            ]
          },
          "metadata": {
            "tags": []
          },
          "execution_count": 31
        }
      ]
    },
    {
      "cell_type": "code",
      "metadata": {
        "id": "5nxt3CfUR0lK",
        "colab_type": "code",
        "colab": {
          "base_uri": "https://localhost:8080/",
          "height": 169
        },
        "outputId": "8f51f81d-8665-4138-e187-d843cdaf03b9"
      },
      "source": [
        "my_list2 > 4"
      ],
      "execution_count": 32,
      "outputs": [
        {
          "output_type": "error",
          "ename": "TypeError",
          "evalue": "ignored",
          "traceback": [
            "\u001b[0;31m---------------------------------------------------------------------------\u001b[0m",
            "\u001b[0;31mTypeError\u001b[0m                                 Traceback (most recent call last)",
            "\u001b[0;32m<ipython-input-32-591b4116e5eb>\u001b[0m in \u001b[0;36m<module>\u001b[0;34m()\u001b[0m\n\u001b[0;32m----> 1\u001b[0;31m \u001b[0mmy_list2\u001b[0m \u001b[0;34m>\u001b[0m \u001b[0;36m4\u001b[0m\u001b[0;34m\u001b[0m\u001b[0;34m\u001b[0m\u001b[0m\n\u001b[0m",
            "\u001b[0;31mTypeError\u001b[0m: '>' not supported between instances of 'list' and 'int'"
          ]
        }
      ]
    },
    {
      "cell_type": "markdown",
      "metadata": {
        "id": "0gimPG3vFl9h",
        "colab_type": "text"
      },
      "source": [
        "### List Methods\n",
        "\n",
        "| **Method**    | **Example**              | **Description**           |\n",
        "|---------------|--------------------------|---------------------------|\n",
        "| `.index`      | `my_list.index(a)`       | Get the index of an item  |\n",
        "| `.count()`    | `my_list.count(a)`       | Count an item             |\n",
        "| `.append()`   | `my_list.append('!')`    | Append an item at the end |\n",
        "| `.remove()`   | `my_list.remove('!')`    | Remove an item            |\n",
        "| `del`         | `del(my_list[0:1])       | Remove an item            |\n",
        "| `.revserse()` | `my_list.reverse()`      | Reverse the list          |\n",
        "| `.extend()`   | `my_list.extend('!')`    | Append an item            |\n",
        "| `.pop()`      | `my_list.pop(-1)`        | Remove an item            |\n",
        "| `.insert()`   | `my_list.insert(0, '!')` | Insert an item            |\n",
        "| `.sort()`     | `my_list.sort()`         | Sort the list             |\n",
        "\n",
        "### Exercise\n",
        "Try each of the examples in the code cell below:"
      ]
    },
    {
      "cell_type": "code",
      "metadata": {
        "id": "FpQVTAt-Fp2T",
        "colab_type": "code",
        "colab": {}
      },
      "source": [
        ""
      ],
      "execution_count": 0,
      "outputs": []
    },
    {
      "cell_type": "markdown",
      "metadata": {
        "id": "Esv4shj7Eug9",
        "colab_type": "text"
      },
      "source": [
        "## Libraries\n",
        "\n",
        "Most common libraries we will be using in the book:\n",
        "\n",
        "1. Pandas\n",
        "1. NumPy\n",
        "1. matplotlib\n",
        "1. seaborn\n",
        "1. sklearn\n",
        "\n",
        "### Import libraries"
      ]
    },
    {
      "cell_type": "code",
      "metadata": {
        "id": "znUAYWs3Ewjz",
        "colab_type": "code",
        "colab": {}
      },
      "source": [
        "import numpy\n",
        "import numpy as np"
      ],
      "execution_count": 0,
      "outputs": []
    },
    {
      "cell_type": "markdown",
      "metadata": {
        "id": "wJcyw3VfTutd",
        "colab_type": "text"
      },
      "source": [
        "### Selective import"
      ]
    },
    {
      "cell_type": "code",
      "metadata": {
        "id": "mAZaGuOSTtpK",
        "colab_type": "code",
        "colab": {}
      },
      "source": [
        "from math import pi"
      ],
      "execution_count": 0,
      "outputs": []
    },
    {
      "cell_type": "markdown",
      "metadata": {
        "id": "Ho3RaIIvExT7",
        "colab_type": "text"
      },
      "source": [
        "## NumPy Arrays"
      ]
    },
    {
      "cell_type": "code",
      "metadata": {
        "id": "5_I4fjPCEyke",
        "colab_type": "code",
        "colab": {}
      },
      "source": [
        "my_list = [1,2,3,4]\n",
        "my_array = np.array(my_list)\n",
        "my_2darray = np.array([[1,2,3], [4,5,6]])"
      ],
      "execution_count": 0,
      "outputs": []
    },
    {
      "cell_type": "markdown",
      "metadata": {
        "id": "WjTa0Y8EFu0z",
        "colab_type": "text"
      },
      "source": [
        "### Selecting Numpy Array Elements"
      ]
    },
    {
      "cell_type": "markdown",
      "metadata": {
        "id": "rK_uW8OyFzZm",
        "colab_type": "text"
      },
      "source": [
        "#### Subset"
      ]
    },
    {
      "cell_type": "code",
      "metadata": {
        "id": "DtGRt_IyF1gm",
        "colab_type": "code",
        "colab": {
          "base_uri": "https://localhost:8080/",
          "height": 35
        },
        "outputId": "32950936-5a7b-48bf-feee-edc01993c815"
      },
      "source": [
        "my_array[1] # Select item at index 1"
      ],
      "execution_count": 36,
      "outputs": [
        {
          "output_type": "execute_result",
          "data": {
            "text/plain": [
              "2"
            ]
          },
          "metadata": {
            "tags": []
          },
          "execution_count": 36
        }
      ]
    },
    {
      "cell_type": "markdown",
      "metadata": {
        "id": "E9HlEE9JF2ZZ",
        "colab_type": "text"
      },
      "source": [
        "#### Slice"
      ]
    },
    {
      "cell_type": "code",
      "metadata": {
        "id": "QsE8GkGOF3lZ",
        "colab_type": "code",
        "colab": {
          "base_uri": "https://localhost:8080/",
          "height": 35
        },
        "outputId": "42b1ca1b-3421-4d99-e3da-0f4d04e6fbf8"
      },
      "source": [
        "my_array[0:2] Select items at index 0 and 1"
      ],
      "execution_count": 37,
      "outputs": [
        {
          "output_type": "execute_result",
          "data": {
            "text/plain": [
              "array([1, 2])"
            ]
          },
          "metadata": {
            "tags": []
          },
          "execution_count": 37
        }
      ]
    },
    {
      "cell_type": "markdown",
      "metadata": {
        "id": "VSlgUnC3F3-7",
        "colab_type": "text"
      },
      "source": [
        "#### Subset 2D Numpy arrays\n",
        "\n",
        "`my_2darray[rows,columns]`"
      ]
    },
    {
      "cell_type": "code",
      "metadata": {
        "id": "remmw3ZhF6QJ",
        "colab_type": "code",
        "colab": {
          "base_uri": "https://localhost:8080/",
          "height": 35
        },
        "outputId": "cde8357a-4749-447e-c504-0f6dfc2bc468"
      },
      "source": [
        "my_2darray[:,0]"
      ],
      "execution_count": 38,
      "outputs": [
        {
          "output_type": "execute_result",
          "data": {
            "text/plain": [
              "array([1, 4])"
            ]
          },
          "metadata": {
            "tags": []
          },
          "execution_count": 38
        }
      ]
    },
    {
      "cell_type": "markdown",
      "metadata": {
        "id": "cjmSafvAF7Ix",
        "colab_type": "text"
      },
      "source": [
        "### NumPy Array Operations"
      ]
    },
    {
      "cell_type": "code",
      "metadata": {
        "id": "9MUcPDvCF-g9",
        "colab_type": "code",
        "colab": {
          "base_uri": "https://localhost:8080/",
          "height": 35
        },
        "outputId": "c4fe4c2f-ca0f-4280-fb9d-ca3f932dbf42"
      },
      "source": [
        "my_array > 3"
      ],
      "execution_count": 39,
      "outputs": [
        {
          "output_type": "execute_result",
          "data": {
            "text/plain": [
              "array([False, False, False,  True])"
            ]
          },
          "metadata": {
            "tags": []
          },
          "execution_count": 39
        }
      ]
    },
    {
      "cell_type": "code",
      "metadata": {
        "id": "fyE5ZUJpUq8N",
        "colab_type": "code",
        "colab": {
          "base_uri": "https://localhost:8080/",
          "height": 35
        },
        "outputId": "a12a6a61-5cfe-456e-de1b-f1f2919dd056"
      },
      "source": [
        "my_array * 2"
      ],
      "execution_count": 40,
      "outputs": [
        {
          "output_type": "execute_result",
          "data": {
            "text/plain": [
              "array([2, 4, 6, 8])"
            ]
          },
          "metadata": {
            "tags": []
          },
          "execution_count": 40
        }
      ]
    },
    {
      "cell_type": "code",
      "metadata": {
        "id": "2GJ9izMgUsml",
        "colab_type": "code",
        "colab": {
          "base_uri": "https://localhost:8080/",
          "height": 35
        },
        "outputId": "bfaa03f7-d9cf-4b1c-c12f-7fc085fbf945"
      },
      "source": [
        "my_array + np.array([5,6,7,8])"
      ],
      "execution_count": 41,
      "outputs": [
        {
          "output_type": "execute_result",
          "data": {
            "text/plain": [
              "array([ 6,  8, 10, 12])"
            ]
          },
          "metadata": {
            "tags": []
          },
          "execution_count": 41
        }
      ]
    },
    {
      "cell_type": "markdown",
      "metadata": {
        "id": "MDg3RlfTF_Fr",
        "colab_type": "text"
      },
      "source": [
        "### NumPy Array Functions\n",
        "\n",
        "| **Method**    | **Example**                 | **Description**                 |\n",
        "|---------------|-----------------------------|---------------------------------|\n",
        "| `.shape`      | `my_array.shape`            | Get the dimensions of the array |\n",
        "| `np.append()` | `np.append(other_array)`    | Append items to an array        |\n",
        "| `np.insert()` | `np.insert(my_array, 1, 5)` | Insert items in an array        |\n",
        "| `np.delete()` | `np.delete(my_array, [1])`  | Delete items in an array        |\n",
        "| `np.mean()`   | `np.mean(my_array)`         | Mean of the array               |\n",
        "| `np.median()` | `np.median(my_array)`       | Median of the array             |\n",
        "| `.corrcoef()` | `my_array.corrcoef()`       | Correlation coefficient         |\n",
        "| `np.std()`    | `np.std(my_array)`          | Standard deviation              |\n",
        "\n",
        "### Exercise\n",
        "Try each of the examples in the code cell below:"
      ]
    },
    {
      "cell_type": "code",
      "metadata": {
        "id": "zoUMfoTrV5G2",
        "colab_type": "code",
        "colab": {}
      },
      "source": [
        ""
      ],
      "execution_count": 0,
      "outputs": []
    }
  ]
}