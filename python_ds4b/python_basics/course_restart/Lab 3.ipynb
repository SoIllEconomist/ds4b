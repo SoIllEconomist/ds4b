{
 "cells": [
  {
   "cell_type": "markdown",
   "metadata": {
    "nbgrader": {
     "grade": false,
     "grade_id": "cell-1e974bf760887854",
     "locked": true,
     "schema_version": 1,
     "solution": false
    }
   },
   "source": [
    "# Lab 3\n",
    "\n",
    "## Review Questions"
   ]
  },
  {
   "cell_type": "markdown",
   "metadata": {
    "nbgrader": {
     "grade": false,
     "grade_id": "cell-7b690e414f0075d7",
     "locked": true,
     "schema_version": 1,
     "solution": false
    }
   },
   "source": [
    "***Question 1***\n",
    "\n",
    "A function object is a value you can assign to a variable or pass as an argument. For example, do_twice is a function that takes a function object as an argument and calls it twice:\n",
    "\n",
    "```python\n",
    "def do_twice(f):\n",
    "    f()\n",
    "    f()\n",
    "```\n",
    "\n",
    "Here’s an example that uses do_twice to call a function named print_spam twice.\n",
    "\n",
    "```python\n",
    "def print_spam():\n",
    "    print('spam')\n",
    "\n",
    "do_twice(print_spam)\n",
    "```\n",
    "\n",
    "1. Type this example into a script and test it.\n",
    "2. Modify `do_twice` so that it takes **two arguments**, a **function object** and a **value**, and **calls the function twice**, passing the value as an argument.\n",
    "3. Write a function called `print_twice` that prints an argument twice.\n",
    "4. Use the modified version of `do_twice` to call `print_twice` twice, passing 'spam' as an argument.\n",
    "5. Define a new function called `do_four` that takes a function object and a value and calls the function four times, passing the value as a parameter. There should be only two statements in the body of this function, not four.\n"
   ]
  },
  {
   "cell_type": "code",
   "execution_count": null,
   "metadata": {
    "nbgrader": {
     "grade": true,
     "grade_id": "cell-6b077e953883fc5f",
     "locked": false,
     "points": 1,
     "schema_version": 1,
     "solution": true
    }
   },
   "outputs": [],
   "source": [
    "#1"
   ]
  },
  {
   "cell_type": "code",
   "execution_count": null,
   "metadata": {
    "nbgrader": {
     "grade": true,
     "grade_id": "cell-c353daec01c88ddc",
     "locked": false,
     "points": 1,
     "schema_version": 1,
     "solution": true
    }
   },
   "outputs": [],
   "source": [
    "#2"
   ]
  },
  {
   "cell_type": "code",
   "execution_count": null,
   "metadata": {
    "nbgrader": {
     "grade": true,
     "grade_id": "cell-9bcd4960bc778956",
     "locked": false,
     "points": 1,
     "schema_version": 1,
     "solution": true
    }
   },
   "outputs": [],
   "source": [
    "#3"
   ]
  },
  {
   "cell_type": "code",
   "execution_count": 7,
   "metadata": {
    "nbgrader": {
     "grade": true,
     "grade_id": "cell-31e3e25a53e6e671",
     "locked": false,
     "points": 1,
     "schema_version": 1,
     "solution": true
    }
   },
   "outputs": [],
   "source": [
    "#4"
   ]
  },
  {
   "cell_type": "code",
   "execution_count": null,
   "metadata": {
    "nbgrader": {
     "grade": true,
     "grade_id": "cell-fb7b95ba52ad6270",
     "locked": false,
     "points": 1,
     "schema_version": 1,
     "solution": true
    }
   },
   "outputs": [],
   "source": [
    "#5"
   ]
  },
  {
   "cell_type": "markdown",
   "metadata": {
    "nbgrader": {
     "grade": false,
     "grade_id": "cell-b278932185b17db2",
     "locked": true,
     "schema_version": 1,
     "solution": false
    }
   },
   "source": [
    "***Question 2***\n",
    "\n",
    "Note: This exercise should be done using only the statements and other features we have learned so far.\n",
    "\n",
    "Write a function that draws a grid like the following:\n",
    "\n",
    "```\n",
    "+ - - - - + - - - - +\n",
    "|         |         |\n",
    "|         |         |\n",
    "|         |         |\n",
    "|         |         |\n",
    "+ - - - - + - - - - +\n",
    "|         |         |\n",
    "|         |         |\n",
    "|         |         |\n",
    "|         |         |\n",
    "+ - - - - + - - - - +\n",
    "```\n",
    "\n",
    "Hint: to print more than one value on a line, you can print a comma-separated sequence of values:\n",
    "\n",
    "`print('+', '-')`\n",
    "By default, print advances to the next line, but you can override that behavior and put a space at the end, like this:\n",
    "\n",
    "`print('+', end=' ')`\n",
    "`print('-')`\n",
    "\n",
    "The output of these statements is '+ -' on the same line. The output from the next print statement would begin on the next line.\n",
    "\n",
    "Hint: This solution should contain three functions:\n",
    "\n",
    "1. `print_border`\n",
    "2. `print_row`\n",
    "3. `block`\n",
    "\n",
    "You should only need to call `block()` at the end."
   ]
  },
  {
   "cell_type": "code",
   "execution_count": null,
   "metadata": {
    "nbgrader": {
     "grade": false,
     "grade_id": "cell-c709049896ced03a",
     "locked": false,
     "schema_version": 1,
     "solution": true
    }
   },
   "outputs": [],
   "source": [
    "### BEGIN SOLUTION\n",
    "def print_border():\n",
    "   print \"+\", \"- \" * 4, \"+\"\n",
    "\n",
    "def print_row():\n",
    "   row = \"|\", \" \" * 8, \"|\\n\"\n",
    "   print row * 4\n",
    "\n",
    "def block():\n",
    "   print_border()\n",
    "   print_row()\n",
    "   \n",
    "block()\n",
    "### END SOLUTION"
   ]
  },
  {
   "cell_type": "markdown",
   "metadata": {
    "nbgrader": {
     "grade": false,
     "grade_id": "cell-41640a70ed568328",
     "locked": true,
     "schema_version": 1,
     "solution": false
    }
   },
   "source": [
    "## Conditionals"
   ]
  },
  {
   "cell_type": "markdown",
   "metadata": {
    "nbgrader": {
     "grade": false,
     "grade_id": "cell-8769b20c6fb17bd2",
     "locked": true,
     "schema_version": 1,
     "solution": false
    }
   },
   "source": [
    "***Question 1***\n",
    "\n",
    "You are driving a little too fast, and a police officer stops you. \n",
    "\n",
    "Write a function\n",
    "  to return one of 3 possible results: \n",
    "  1. \"No ticket\", \n",
    "  2. \"Small ticket\", or \n",
    "  3. \"Big Ticket\"\n",
    "  \n",
    "- If your speed is 60 or less, the result is \"No Ticket\". \n",
    "- If speed is between 61 \n",
    "  and 80 inclusive, the result is \"Small Ticket\". \n",
    "- If speed is 81 or more, the result is \"Big    Ticket\". \n",
    "\n",
    "- Unless it is your birthday (encoded as a boolean value in the parameters of the function) -- on your birthday, your speed can be 5 higher in all cases."
   ]
  },
  {
   "cell_type": "code",
   "execution_count": null,
   "metadata": {
    "nbgrader": {
     "grade": false,
     "grade_id": "cell-c3bc820ea1d217dc",
     "locked": false,
     "schema_version": 1,
     "solution": true
    }
   },
   "outputs": [],
   "source": [
    "### BEGIN SOLUTION\n",
    "def caught_speeding(speed, is_birthday):\n",
    "    \n",
    "    if is_birthday:\n",
    "        speeding = speed - 5\n",
    "    else:\n",
    "        speeding = speed\n",
    "    \n",
    "    if speeding > 80:\n",
    "        return 'Big Ticket'\n",
    "    elif speeding > 60:\n",
    "        return 'Small Ticket'\n",
    "    else:\n",
    "        return 'No Ticket'\n",
    "### END SOLUTION"
   ]
  },
  {
   "cell_type": "markdown",
   "metadata": {
    "nbgrader": {
     "grade": false,
     "grade_id": "cell-56e15051080bd6ca",
     "locked": true,
     "schema_version": 1,
     "solution": false
    }
   },
   "source": [
    "## Recursion"
   ]
  },
  {
   "cell_type": "markdown",
   "metadata": {
    "nbgrader": {
     "grade": false,
     "grade_id": "cell-0eb88b76ea6a84bd",
     "locked": true,
     "schema_version": 1,
     "solution": false
    }
   },
   "source": [
    "***Question 1***\n",
    "1. What is the output of the following program? \n",
    "\n",
    "```python\n",
    "def recurse(n, s):\n",
    "    if n == 0:\n",
    "        print(s)\n",
    "    else:\n",
    "        recurse(n-1, n+s)\n",
    "\n",
    "recurse(3, 0)\n",
    "```\n",
    "\n",
    "2. What would happen if you called this function like this:\n",
    "\n",
    "```python\n",
    "recurse(-1,0)\n",
    "```\n",
    "\n",
    "3. Write a docstring that explains everything someone would need to know in order to use this function (and nothing else)."
   ]
  },
  {
   "cell_type": "code",
   "execution_count": 2,
   "metadata": {
    "nbgrader": {
     "grade": true,
     "grade_id": "cell-2f659dd7576e3fd3",
     "locked": false,
     "points": 0,
     "schema_version": 1,
     "solution": true
    }
   },
   "outputs": [],
   "source": [
    "#1"
   ]
  },
  {
   "cell_type": "code",
   "execution_count": 3,
   "metadata": {
    "nbgrader": {
     "grade": true,
     "grade_id": "cell-f61550e3a76adad9",
     "locked": false,
     "points": 0,
     "schema_version": 1,
     "solution": true
    }
   },
   "outputs": [],
   "source": [
    "#2"
   ]
  },
  {
   "cell_type": "code",
   "execution_count": 4,
   "metadata": {
    "nbgrader": {
     "grade": true,
     "grade_id": "cell-21dfc58d9348b21c",
     "locked": false,
     "points": 0,
     "schema_version": 1,
     "solution": true
    }
   },
   "outputs": [],
   "source": [
    "#3"
   ]
  },
  {
   "cell_type": "markdown",
   "metadata": {
    "nbgrader": {
     "grade": false,
     "grade_id": "cell-5c1a2550a7108540",
     "locked": true,
     "schema_version": 1,
     "solution": false
    }
   },
   "source": [
    "***Question 4***\n",
    "\n",
    "Write a program called `recur_sum` to find the sum of numbers up to n using recursion.\n",
    "\n",
    "Example:\n",
    "\n",
    "```python\n",
    "recur_sum(4)\n",
    "10\n",
    "```\n",
    "Why? 1+2+3+4 = 10"
   ]
  },
  {
   "cell_type": "code",
   "execution_count": 5,
   "metadata": {
    "nbgrader": {
     "grade": false,
     "grade_id": "cell-58ad4a47f7739af5",
     "locked": false,
     "schema_version": 1,
     "solution": true
    }
   },
   "outputs": [],
   "source": [
    "### BEGIN SOLUTION\n",
    "def recur_sum(n):\n",
    "   \"\"\"Function to return the sum\n",
    "   of natural numbers using recursion\"\"\"\n",
    "   if n <= 1:\n",
    "       return n\n",
    "   else:\n",
    "       return n + recur_sum(n-1)\n",
    "### END SOLUTION"
   ]
  },
  {
   "cell_type": "markdown",
   "metadata": {
    "nbgrader": {
     "grade": false,
     "grade_id": "cell-9bcb8a67153af004",
     "locked": true,
     "schema_version": 1,
     "solution": false
    }
   },
   "source": [
    "***Question 5***\n",
    "\n",
    "Write a program called `factorial` to find the factorial of a number using recursion.\n",
    "\n",
    "- The factorial of a number is the product of all the integers from 1 to that number.\n",
    "\n",
    "- The factorial of 6 (denoted as 6!) is $1*2*3*4*5*6 = 720$\n",
    "\n",
    "- Factorial is not defined for negative numbers and the factorial of zero is one, 0! = 1."
   ]
  },
  {
   "cell_type": "code",
   "execution_count": 6,
   "metadata": {
    "nbgrader": {
     "grade": false,
     "grade_id": "cell-28e77644294f4b1f",
     "locked": false,
     "schema_version": 1,
     "solution": true
    }
   },
   "outputs": [],
   "source": [
    "\n",
    "### BEGIN SOLUTION\n",
    "def factorial(n):\n",
    "   \"\"\"Function to return the factorial\n",
    "   of a number using recursion\"\"\"\n",
    "   if n == 1:\n",
    "       return n\n",
    "   else:\n",
    "       return n*recur_factorial(n-1)\n",
    "### END SOLUTION"
   ]
  }
 ],
 "metadata": {
  "celltoolbar": "Create Assignment",
  "kernelspec": {
   "display_name": "Python 3",
   "language": "python",
   "name": "python3"
  },
  "language_info": {
   "codemirror_mode": {
    "name": "ipython",
    "version": 3
   },
   "file_extension": ".py",
   "mimetype": "text/x-python",
   "name": "python",
   "nbconvert_exporter": "python",
   "pygments_lexer": "ipython3",
   "version": "3.6.5"
  }
 },
 "nbformat": 4,
 "nbformat_minor": 2
}
