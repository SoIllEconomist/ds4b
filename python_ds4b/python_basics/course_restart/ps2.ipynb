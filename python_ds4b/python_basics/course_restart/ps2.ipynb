{
  "nbformat": 4,
  "nbformat_minor": 0,
  "metadata": {
    "kernelspec": {
      "display_name": "Python 3",
      "language": "python",
      "name": "python3"
    },
    "language_info": {
      "codemirror_mode": {
        "name": "ipython",
        "version": 3
      },
      "file_extension": ".py",
      "mimetype": "text/x-python",
      "name": "python",
      "nbconvert_exporter": "python",
      "pygments_lexer": "ipython3",
      "version": "3.6.5"
    },
    "colab": {
      "name": "ps2.ipynb",
      "provenance": [],
      "include_colab_link": true
    }
  },
  "cells": [
    {
      "cell_type": "markdown",
      "metadata": {
        "id": "view-in-github",
        "colab_type": "text"
      },
      "source": [
        "<a href=\"https://colab.research.google.com/github/SoIllEconomist/ds4b/blob/master/python_ds4b/python_basics/course_restart/ps2.ipynb\" target=\"_parent\"><img src=\"https://colab.research.google.com/assets/colab-badge.svg\" alt=\"Open In Colab\"/></a>"
      ]
    },
    {
      "cell_type": "markdown",
      "metadata": {
        "id": "lSw9pWiDl5sS",
        "colab_type": "text"
      },
      "source": [
        "# Expressions\n",
        "\n",
        "The following contains list of expressions.\n",
        "\n",
        "1. Evaluate the expression to get its value in your head, *without Python*.\n",
        "\n",
        "2. Use Python to evaluate the same expression, by entering it in at the Python prompt. Then hitting \"Shift + return\"\n",
        "\n",
        "If the values in your head and the column differ, spend a few seconds trying to figure out why Python gave the answer it did. Don't waste too much time trying to figure out things for yourself. If you do not understand something, ask your professor immediately."
      ]
    },
    {
      "cell_type": "markdown",
      "metadata": {
        "id": "6KFVIfBFl5sV",
        "colab_type": "text"
      },
      "source": [
        "## Guess the Type"
      ]
    },
    {
      "cell_type": "markdown",
      "metadata": {
        "id": "xPqHxNFOl5sX",
        "colab_type": "text"
      },
      "source": [
        "**Question 1**\n",
        "\n",
        "**What is the expected output of**\n",
        "\n",
        "```python\n",
        "type(4)\n",
        "```"
      ]
    },
    {
      "cell_type": "code",
      "metadata": {
        "id": "lUSrSuyml5sf",
        "colab_type": "code",
        "colab": {}
      },
      "source": [
        "guess = 'int'"
      ],
      "execution_count": 0,
      "outputs": []
    },
    {
      "cell_type": "code",
      "metadata": {
        "id": "yO795XSFl5sn",
        "colab_type": "code",
        "colab": {},
        "outputId": "1648870c-9948-4fb9-f0a0-e088b8f650ea"
      },
      "source": [
        "type(4)"
      ],
      "execution_count": 0,
      "outputs": [
        {
          "output_type": "execute_result",
          "data": {
            "text/plain": [
              "int"
            ]
          },
          "metadata": {
            "tags": []
          },
          "execution_count": 1
        }
      ]
    },
    {
      "cell_type": "markdown",
      "metadata": {
        "id": "Xq4nc4-pl5st",
        "colab_type": "text"
      },
      "source": [
        "**Question 2**\n",
        "\n",
        "**What is the expected output of**\n",
        "\n",
        "```python\n",
        "float(4)\n",
        "```"
      ]
    },
    {
      "cell_type": "code",
      "metadata": {
        "id": "VcJw042gl5su",
        "colab_type": "code",
        "colab": {}
      },
      "source": [
        "guess = ''"
      ],
      "execution_count": 0,
      "outputs": []
    },
    {
      "cell_type": "code",
      "metadata": {
        "id": "UiLN6lnvl5s1",
        "colab_type": "code",
        "colab": {}
      },
      "source": [
        "# Try it here"
      ],
      "execution_count": 0,
      "outputs": []
    },
    {
      "cell_type": "markdown",
      "metadata": {
        "id": "UWSahu28l5s9",
        "colab_type": "text"
      },
      "source": [
        "**Question 3**\n",
        "\n",
        "**What is the expected output of**\n",
        "\n",
        "```python\n",
        "int(4.3)\n",
        "```"
      ]
    },
    {
      "cell_type": "code",
      "metadata": {
        "id": "NkhvG6fJl5s-",
        "colab_type": "code",
        "colab": {}
      },
      "source": [
        "guess = ''"
      ],
      "execution_count": 0,
      "outputs": []
    },
    {
      "cell_type": "code",
      "metadata": {
        "id": "qw2X3lokl5tG",
        "colab_type": "code",
        "colab": {}
      },
      "source": [
        "# Try it here"
      ],
      "execution_count": 0,
      "outputs": []
    },
    {
      "cell_type": "markdown",
      "metadata": {
        "id": "d3AFdK1Bl5tK",
        "colab_type": "text"
      },
      "source": [
        "**Question 4**\n",
        "\n",
        "**What is the expected output of**\n",
        "\n",
        "```python\n",
        "int(5.7)\n",
        "```"
      ]
    },
    {
      "cell_type": "code",
      "metadata": {
        "id": "jyBpd0rdl5tM",
        "colab_type": "code",
        "colab": {}
      },
      "source": [
        "guess = ''"
      ],
      "execution_count": 0,
      "outputs": []
    },
    {
      "cell_type": "code",
      "metadata": {
        "id": "4XoqEK6jl5tQ",
        "colab_type": "code",
        "colab": {}
      },
      "source": [
        "# Try it here"
      ],
      "execution_count": 0,
      "outputs": []
    },
    {
      "cell_type": "markdown",
      "metadata": {
        "id": "KLD4z11Xl5tT",
        "colab_type": "text"
      },
      "source": [
        "**Question 5**\n",
        "\n",
        "**What is the expected output of**\n",
        "\n",
        "```python\n",
        "4 + 2 * 5\n",
        "```"
      ]
    },
    {
      "cell_type": "code",
      "metadata": {
        "id": "216TlSUjl5tU",
        "colab_type": "code",
        "colab": {}
      },
      "source": [
        "guess = ''"
      ],
      "execution_count": 0,
      "outputs": []
    },
    {
      "cell_type": "code",
      "metadata": {
        "id": "Vm9_Tbvbl5tY",
        "colab_type": "code",
        "colab": {}
      },
      "source": [
        "# Try it here"
      ],
      "execution_count": 0,
      "outputs": []
    },
    {
      "cell_type": "markdown",
      "metadata": {
        "id": "n50s2z2Ll5ta",
        "colab_type": "text"
      },
      "source": [
        "**Question 6**\n",
        "\n",
        "**What is the expected output of**\n",
        "\n",
        "```python\n",
        "(4 + 2) * 5\n",
        "```"
      ]
    },
    {
      "cell_type": "code",
      "metadata": {
        "id": "HUzjCiySl5tc",
        "colab_type": "code",
        "colab": {}
      },
      "source": [
        "guess = ''"
      ],
      "execution_count": 0,
      "outputs": []
    },
    {
      "cell_type": "code",
      "metadata": {
        "id": "0l0T-HcFl5te",
        "colab_type": "code",
        "colab": {}
      },
      "source": [
        "# Try it here"
      ],
      "execution_count": 0,
      "outputs": []
    },
    {
      "cell_type": "markdown",
      "metadata": {
        "id": "XXP1qNzgl5ti",
        "colab_type": "text"
      },
      "source": [
        "**Question 7**\n",
        "\n",
        "**What is the expected output of**\n",
        "\n",
        "```python\n",
        "-4 - -4 - -4\n",
        "```"
      ]
    },
    {
      "cell_type": "code",
      "metadata": {
        "id": "e3Lt1J5el5tj",
        "colab_type": "code",
        "colab": {}
      },
      "source": [
        "guess = ''"
      ],
      "execution_count": 0,
      "outputs": []
    },
    {
      "cell_type": "code",
      "metadata": {
        "id": "RXS5fzHxl5tl",
        "colab_type": "code",
        "colab": {}
      },
      "source": [
        "# Try it here"
      ],
      "execution_count": 0,
      "outputs": []
    },
    {
      "cell_type": "markdown",
      "metadata": {
        "id": "V6x2FcSTl5tn",
        "colab_type": "text"
      },
      "source": [
        "**Question 8**\n",
        "\n",
        "**What is the expected output of**\n",
        "\n",
        "```python\n",
        "2 ** 3\n",
        "```"
      ]
    },
    {
      "cell_type": "code",
      "metadata": {
        "id": "ZRF7_r8Dl5to",
        "colab_type": "code",
        "colab": {}
      },
      "source": [
        "guess = ''"
      ],
      "execution_count": 0,
      "outputs": []
    },
    {
      "cell_type": "code",
      "metadata": {
        "id": "WTSN_Hbxl5tr",
        "colab_type": "code",
        "colab": {}
      },
      "source": [
        "# Try it here"
      ],
      "execution_count": 0,
      "outputs": []
    },
    {
      "cell_type": "markdown",
      "metadata": {
        "id": "OYvPvU65l5tu",
        "colab_type": "text"
      },
      "source": [
        "**Question 9**\n",
        "\n",
        "**What is the expected output of**\n",
        "\n",
        "```python\n",
        "2 ** 3 ** 0\n",
        "```"
      ]
    },
    {
      "cell_type": "code",
      "metadata": {
        "id": "DGGLh5Mql5tv",
        "colab_type": "code",
        "colab": {}
      },
      "source": [
        "guess = ''"
      ],
      "execution_count": 0,
      "outputs": []
    },
    {
      "cell_type": "code",
      "metadata": {
        "id": "bQ3MoFj3l5tz",
        "colab_type": "code",
        "colab": {}
      },
      "source": [
        "# Try it here"
      ],
      "execution_count": 0,
      "outputs": []
    },
    {
      "cell_type": "markdown",
      "metadata": {
        "id": "hnpMiJQRl5t2",
        "colab_type": "text"
      },
      "source": [
        "**Question 10**\n",
        "\n",
        "**What is the expected output of**\n",
        "\n",
        "```python\n",
        "3.0/2.0\n",
        "```"
      ]
    },
    {
      "cell_type": "code",
      "metadata": {
        "id": "eHWfQG6Fl5t3",
        "colab_type": "code",
        "colab": {}
      },
      "source": [
        "guess = ''"
      ],
      "execution_count": 0,
      "outputs": []
    },
    {
      "cell_type": "code",
      "metadata": {
        "id": "D_poci00l5t5",
        "colab_type": "code",
        "colab": {}
      },
      "source": [
        "# Try it here"
      ],
      "execution_count": 0,
      "outputs": []
    },
    {
      "cell_type": "markdown",
      "metadata": {
        "id": "jwCjHagjl5t7",
        "colab_type": "text"
      },
      "source": [
        "**Question 11**\n",
        "\n",
        "**What is the expected output of**\n",
        "\n",
        "```python\n",
        "3 // 2 \n",
        "```"
      ]
    },
    {
      "cell_type": "code",
      "metadata": {
        "id": "NF647kFgl5t8",
        "colab_type": "code",
        "colab": {}
      },
      "source": [
        "guess = ''"
      ],
      "execution_count": 0,
      "outputs": []
    },
    {
      "cell_type": "code",
      "metadata": {
        "id": "-WfRAzU5l5uA",
        "colab_type": "code",
        "colab": {}
      },
      "source": [
        "# Try it here"
      ],
      "execution_count": 0,
      "outputs": []
    },
    {
      "cell_type": "markdown",
      "metadata": {
        "id": "gU2GbYhGl5uC",
        "colab_type": "text"
      },
      "source": [
        "**Question 12**\n",
        "\n",
        "**What is the expected output of**\n",
        "\n",
        "```python\n",
        "3 / 2 \n",
        "```"
      ]
    },
    {
      "cell_type": "code",
      "metadata": {
        "id": "cbEHUaIql5uD",
        "colab_type": "code",
        "colab": {}
      },
      "source": [
        "guess = ''"
      ],
      "execution_count": 0,
      "outputs": []
    },
    {
      "cell_type": "code",
      "metadata": {
        "id": "P2sTvpqZl5uF",
        "colab_type": "code",
        "colab": {}
      },
      "source": [
        "# Try it here"
      ],
      "execution_count": 0,
      "outputs": []
    },
    {
      "cell_type": "markdown",
      "metadata": {
        "id": "uIHe-T4_l5uH",
        "colab_type": "text"
      },
      "source": [
        "**Question 13**\n",
        "\n",
        "**What is the expected output of**\n",
        "\n",
        "```python\n",
        "float(3 // 2) \n",
        "```"
      ]
    },
    {
      "cell_type": "code",
      "metadata": {
        "id": "0kTguGCwl5uH",
        "colab_type": "code",
        "colab": {}
      },
      "source": [
        "guess = ''"
      ],
      "execution_count": 0,
      "outputs": []
    },
    {
      "cell_type": "code",
      "metadata": {
        "id": "WJKgUcgyl5uJ",
        "colab_type": "code",
        "colab": {}
      },
      "source": [
        "# Try it here"
      ],
      "execution_count": 0,
      "outputs": []
    },
    {
      "cell_type": "markdown",
      "metadata": {
        "id": "nJ5cprD-l5uR",
        "colab_type": "text"
      },
      "source": [
        "**Question 14**\n",
        "\n",
        "**What is the expected output of**\n",
        "\n",
        "```python\n",
        "3.0 // 2.0\n",
        "```"
      ]
    },
    {
      "cell_type": "code",
      "metadata": {
        "id": "09UPGfA1l5uS",
        "colab_type": "code",
        "colab": {}
      },
      "source": [
        "guess = ''"
      ],
      "execution_count": 0,
      "outputs": []
    },
    {
      "cell_type": "code",
      "metadata": {
        "id": "dQidqe7Al5uV",
        "colab_type": "code",
        "colab": {}
      },
      "source": [
        "# Try it here"
      ],
      "execution_count": 0,
      "outputs": []
    },
    {
      "cell_type": "markdown",
      "metadata": {
        "id": "SNK-0XGfl5uX",
        "colab_type": "text"
      },
      "source": [
        "**Question 15**\n",
        "\n",
        "**What is the expected output of**\n",
        "\n",
        "```python\n",
        "6 % 2\n",
        "```"
      ]
    },
    {
      "cell_type": "code",
      "metadata": {
        "id": "w_PemKUTl5uY",
        "colab_type": "code",
        "colab": {}
      },
      "source": [
        "guess = ''"
      ],
      "execution_count": 0,
      "outputs": []
    },
    {
      "cell_type": "code",
      "metadata": {
        "id": "MTx5H2XFl5ub",
        "colab_type": "code",
        "colab": {}
      },
      "source": [
        "# Try it here"
      ],
      "execution_count": 0,
      "outputs": []
    },
    {
      "cell_type": "markdown",
      "metadata": {
        "id": "zT9vRkuel5ud",
        "colab_type": "text"
      },
      "source": [
        "**Question 16**\n",
        "\n",
        "**What is the expected output of**\n",
        "\n",
        "```python\n",
        "7 % 2\n",
        "```"
      ]
    },
    {
      "cell_type": "code",
      "metadata": {
        "id": "Tf_gw_UOl5ue",
        "colab_type": "code",
        "colab": {}
      },
      "source": [
        "guess = ''"
      ],
      "execution_count": 0,
      "outputs": []
    },
    {
      "cell_type": "code",
      "metadata": {
        "id": "q9f-sfNql5uh",
        "colab_type": "code",
        "colab": {}
      },
      "source": [
        "# Try it here"
      ],
      "execution_count": 0,
      "outputs": []
    },
    {
      "cell_type": "markdown",
      "metadata": {
        "id": "i76Ve5WSl5uk",
        "colab_type": "text"
      },
      "source": [
        "## Comparison and Boolean Expressions"
      ]
    },
    {
      "cell_type": "markdown",
      "metadata": {
        "id": "xYo-QRvDl5ul",
        "colab_type": "text"
      },
      "source": [
        "**Question 1**\n",
        "\n",
        "**What is the expected output of**\n",
        "\n",
        "```python\n",
        "3 < 5\n",
        "```"
      ]
    },
    {
      "cell_type": "code",
      "metadata": {
        "id": "4E8KQFFul5um",
        "colab_type": "code",
        "colab": {}
      },
      "source": [
        "guess = ''"
      ],
      "execution_count": 0,
      "outputs": []
    },
    {
      "cell_type": "code",
      "metadata": {
        "id": "iYQ7FLall5uo",
        "colab_type": "code",
        "colab": {}
      },
      "source": [
        "# Try it here"
      ],
      "execution_count": 0,
      "outputs": []
    },
    {
      "cell_type": "markdown",
      "metadata": {
        "id": "TpZdQXfnl5uq",
        "colab_type": "text"
      },
      "source": [
        "**Question 2**\n",
        "\n",
        "**What is the expected output of**\n",
        "\n",
        "```python\n",
        "3 < 5 and 5 < 3\n",
        "```"
      ]
    },
    {
      "cell_type": "code",
      "metadata": {
        "id": "n8yzc63Ul5ur",
        "colab_type": "code",
        "colab": {}
      },
      "source": [
        "guess = ''"
      ],
      "execution_count": 0,
      "outputs": []
    },
    {
      "cell_type": "code",
      "metadata": {
        "id": "ls0wXsVdl5ut",
        "colab_type": "code",
        "colab": {}
      },
      "source": [
        "# Try it here"
      ],
      "execution_count": 0,
      "outputs": []
    },
    {
      "cell_type": "markdown",
      "metadata": {
        "id": "NQnbYf3Yl5uv",
        "colab_type": "text"
      },
      "source": [
        "**Question 3**\n",
        "\n",
        "**What is the expected output of**\n",
        "\n",
        "```python\n",
        "True\n",
        "```"
      ]
    },
    {
      "cell_type": "code",
      "metadata": {
        "id": "WEAN4_fVl5ux",
        "colab_type": "code",
        "colab": {}
      },
      "source": [
        "guess = ''"
      ],
      "execution_count": 0,
      "outputs": []
    },
    {
      "cell_type": "code",
      "metadata": {
        "id": "obix9sWDl5u1",
        "colab_type": "code",
        "colab": {}
      },
      "source": [
        "# Try it here"
      ],
      "execution_count": 0,
      "outputs": []
    },
    {
      "cell_type": "markdown",
      "metadata": {
        "id": "cN48JrO8l5u5",
        "colab_type": "text"
      },
      "source": [
        "**Question 5**\n",
        "\n",
        "**What is the expected output of**\n",
        "\n",
        "```python\n",
        "true\n",
        "```"
      ]
    },
    {
      "cell_type": "code",
      "metadata": {
        "id": "KSitpOLrl5u6",
        "colab_type": "code",
        "colab": {}
      },
      "source": [
        "guess = ''"
      ],
      "execution_count": 0,
      "outputs": []
    },
    {
      "cell_type": "code",
      "metadata": {
        "id": "n4wmqXCcl5u8",
        "colab_type": "code",
        "colab": {}
      },
      "source": [
        "# Try it here"
      ],
      "execution_count": 0,
      "outputs": []
    },
    {
      "cell_type": "markdown",
      "metadata": {
        "id": "1Q9r2Wvxl5u9",
        "colab_type": "text"
      },
      "source": [
        "**Question 6**\n",
        "\n",
        "**What is the expected output of**\n",
        "\n",
        "```python\n",
        "True and False\n",
        "```"
      ]
    },
    {
      "cell_type": "code",
      "metadata": {
        "id": "WXDEH5yal5u-",
        "colab_type": "code",
        "colab": {}
      },
      "source": [
        "guess = ''"
      ],
      "execution_count": 0,
      "outputs": []
    },
    {
      "cell_type": "code",
      "metadata": {
        "id": "2oqUn3APl5vC",
        "colab_type": "code",
        "colab": {}
      },
      "source": [
        "# Try it here"
      ],
      "execution_count": 0,
      "outputs": []
    },
    {
      "cell_type": "markdown",
      "metadata": {
        "id": "zbcmTqwWl5vE",
        "colab_type": "text"
      },
      "source": [
        "**Question 7**\n",
        "\n",
        "**What is the expected output of**\n",
        "\n",
        "```python\n",
        "True and True\n",
        "```"
      ]
    },
    {
      "cell_type": "code",
      "metadata": {
        "id": "n0PEzDoJl5vE",
        "colab_type": "code",
        "colab": {}
      },
      "source": [
        "guess = ''"
      ],
      "execution_count": 0,
      "outputs": []
    },
    {
      "cell_type": "code",
      "metadata": {
        "id": "_4C1viuIl5vG",
        "colab_type": "code",
        "colab": {}
      },
      "source": [
        "# Try it here"
      ],
      "execution_count": 0,
      "outputs": []
    },
    {
      "cell_type": "markdown",
      "metadata": {
        "id": "SuGegH3yl5vI",
        "colab_type": "text"
      },
      "source": [
        "**Question 8**\n",
        "\n",
        "**What is the expected output of**\n",
        "\n",
        "```python\n",
        "True or False\n",
        "```"
      ]
    },
    {
      "cell_type": "code",
      "metadata": {
        "id": "k1Mss4Zql5vI",
        "colab_type": "code",
        "colab": {}
      },
      "source": [
        "guess = ''"
      ],
      "execution_count": 0,
      "outputs": []
    },
    {
      "cell_type": "code",
      "metadata": {
        "id": "QhSvirEvl5vK",
        "colab_type": "code",
        "colab": {}
      },
      "source": [
        "# Try it here"
      ],
      "execution_count": 0,
      "outputs": []
    },
    {
      "cell_type": "markdown",
      "metadata": {
        "id": "mdg80NBtl5vM",
        "colab_type": "text"
      },
      "source": [
        "**Question 9**\n",
        "\n",
        "**What is the expected output of**\n",
        "\n",
        "```python\n",
        "False or False\n",
        "```"
      ]
    },
    {
      "cell_type": "code",
      "metadata": {
        "id": "HViUuOJpl5vM",
        "colab_type": "code",
        "colab": {}
      },
      "source": [
        "guess = ''"
      ],
      "execution_count": 0,
      "outputs": []
    },
    {
      "cell_type": "code",
      "metadata": {
        "id": "55uazQtOl5vO",
        "colab_type": "code",
        "colab": {}
      },
      "source": [
        "# Try it here"
      ],
      "execution_count": 0,
      "outputs": []
    },
    {
      "cell_type": "markdown",
      "metadata": {
        "id": "e-elgOzHl5vQ",
        "colab_type": "text"
      },
      "source": [
        "**Question 10**\n",
        "\n",
        "**What is the expected output of**\n",
        "\n",
        "```python\n",
        "not True\n",
        "```"
      ]
    },
    {
      "cell_type": "code",
      "metadata": {
        "id": "R6nMZeMXl5vR",
        "colab_type": "code",
        "colab": {}
      },
      "source": [
        "guess = ''"
      ],
      "execution_count": 0,
      "outputs": []
    },
    {
      "cell_type": "code",
      "metadata": {
        "id": "Xy-7AHVal5vS",
        "colab_type": "code",
        "colab": {}
      },
      "source": [
        "# Try it here"
      ],
      "execution_count": 0,
      "outputs": []
    },
    {
      "cell_type": "markdown",
      "metadata": {
        "id": "9y7y9gWCl5vU",
        "colab_type": "text"
      },
      "source": [
        "**Question 11**\n",
        "\n",
        "**What is the expected output of**\n",
        "\n",
        "```python\n",
        "not not False\n",
        "```"
      ]
    },
    {
      "cell_type": "code",
      "metadata": {
        "id": "U2h9TDJRl5vU",
        "colab_type": "code",
        "colab": {}
      },
      "source": [
        "guess = ''"
      ],
      "execution_count": 0,
      "outputs": []
    },
    {
      "cell_type": "code",
      "metadata": {
        "id": "RvRaX8hXl5vW",
        "colab_type": "code",
        "colab": {}
      },
      "source": [
        "# Try it here"
      ],
      "execution_count": 0,
      "outputs": []
    },
    {
      "cell_type": "markdown",
      "metadata": {
        "id": "0Usj_2Lnl5vY",
        "colab_type": "text"
      },
      "source": [
        "**Question 12**\n",
        "\n",
        "**What is the expected output of**\n",
        "\n",
        "```python\n",
        "not False and True\n",
        "```"
      ]
    },
    {
      "cell_type": "code",
      "metadata": {
        "id": "S-B3iUDUl5va",
        "colab_type": "code",
        "colab": {}
      },
      "source": [
        "guess = ''"
      ],
      "execution_count": 0,
      "outputs": []
    },
    {
      "cell_type": "code",
      "metadata": {
        "id": "yqmDVrK1l5vb",
        "colab_type": "code",
        "colab": {}
      },
      "source": [
        "# Try it here"
      ],
      "execution_count": 0,
      "outputs": []
    },
    {
      "cell_type": "markdown",
      "metadata": {
        "id": "m1e62yjUl5vd",
        "colab_type": "text"
      },
      "source": [
        "**Question 13**\n",
        "\n",
        "**What is the expected output of**\n",
        "\n",
        "```python\n",
        "not (False or True)\n",
        "```"
      ]
    },
    {
      "cell_type": "code",
      "metadata": {
        "id": "Cv2BGLQol5ve",
        "colab_type": "code",
        "colab": {}
      },
      "source": [
        "guess = ''"
      ],
      "execution_count": 0,
      "outputs": []
    },
    {
      "cell_type": "code",
      "metadata": {
        "id": "6tARFh-Ul5vf",
        "colab_type": "code",
        "colab": {}
      },
      "source": [
        "# Try it here"
      ],
      "execution_count": 0,
      "outputs": []
    },
    {
      "cell_type": "markdown",
      "metadata": {
        "id": "Q_FbM8A_l5vg",
        "colab_type": "text"
      },
      "source": [
        "**Question 14**\n",
        "\n",
        "**What is the expected output of**\n",
        "\n",
        "```python\n",
        "True and False and True\n",
        "```"
      ]
    },
    {
      "cell_type": "code",
      "metadata": {
        "id": "VZMulLwwl5vh",
        "colab_type": "code",
        "colab": {}
      },
      "source": [
        "guess = ''"
      ],
      "execution_count": 0,
      "outputs": []
    },
    {
      "cell_type": "code",
      "metadata": {
        "id": "Fcl60r_ul5vj",
        "colab_type": "code",
        "colab": {}
      },
      "source": [
        "# Try it here"
      ],
      "execution_count": 0,
      "outputs": []
    },
    {
      "cell_type": "markdown",
      "metadata": {
        "id": "XGL9LxIsl5vl",
        "colab_type": "text"
      },
      "source": [
        "**Question 15**\n",
        "\n",
        "**What is the expected output of**\n",
        "\n",
        "```python\n",
        "True or (False and True)\n",
        "```"
      ]
    },
    {
      "cell_type": "code",
      "metadata": {
        "id": "vP6Nx8R9l5vn",
        "colab_type": "code",
        "colab": {}
      },
      "source": [
        "guess = ''"
      ],
      "execution_count": 0,
      "outputs": []
    },
    {
      "cell_type": "code",
      "metadata": {
        "id": "hyFbUIlql5vq",
        "colab_type": "code",
        "colab": {}
      },
      "source": [
        "# Try it here"
      ],
      "execution_count": 0,
      "outputs": []
    },
    {
      "cell_type": "markdown",
      "metadata": {
        "id": "WYUnsbZml5vs",
        "colab_type": "text"
      },
      "source": [
        "**Question 16**\n",
        "\n",
        "**What is the expected output of**\n",
        "\n",
        "```python\n",
        "(5 / 0 == 1) and False\n",
        "```"
      ]
    },
    {
      "cell_type": "code",
      "metadata": {
        "id": "EFX96fZfl5vt",
        "colab_type": "code",
        "colab": {}
      },
      "source": [
        "guess = ''"
      ],
      "execution_count": 0,
      "outputs": []
    },
    {
      "cell_type": "code",
      "metadata": {
        "id": "B9t656eJl5vu",
        "colab_type": "code",
        "colab": {}
      },
      "source": [
        "# Try it here"
      ],
      "execution_count": 0,
      "outputs": []
    },
    {
      "cell_type": "markdown",
      "metadata": {
        "id": "Fh8-Y9sgl5vw",
        "colab_type": "text"
      },
      "source": [
        "**Question 17**\n",
        "\n",
        "**What is the expected output of**\n",
        "\n",
        "```python\n",
        "False and (5 / 0 == 1)\n",
        "```"
      ]
    },
    {
      "cell_type": "code",
      "metadata": {
        "id": "21i-doTul5vx",
        "colab_type": "code",
        "colab": {}
      },
      "source": [
        "guess = ''"
      ],
      "execution_count": 0,
      "outputs": []
    },
    {
      "cell_type": "code",
      "metadata": {
        "id": "Op84JgF8l5vz",
        "colab_type": "code",
        "colab": {}
      },
      "source": [
        "# Try it here"
      ],
      "execution_count": 0,
      "outputs": []
    },
    {
      "cell_type": "markdown",
      "metadata": {
        "id": "vGnbbHrzl5v0",
        "colab_type": "text"
      },
      "source": [
        "**Question 18**\n",
        "\n",
        "Why does 17 “work” but 16 doesn’t?"
      ]
    },
    {
      "cell_type": "markdown",
      "metadata": {
        "id": "puVltJ1Wl5v1",
        "colab_type": "text"
      },
      "source": [
        "Double Click here.\n",
        "\n",
        "Type your answer here. Then hit shift enter."
      ]
    },
    {
      "cell_type": "markdown",
      "metadata": {
        "id": "mjJU0igZl5v2",
        "colab_type": "text"
      },
      "source": [
        "## String Expressions\n",
        "\n",
        "Pay close attention to spaces and to the different types of quotation marks being used; we use both ' (single quote) and \" (double quote). Copy-paste from the question may be your best option here."
      ]
    },
    {
      "cell_type": "markdown",
      "metadata": {
        "id": "O3TSY3xil5v2",
        "colab_type": "text"
      },
      "source": [
        "**Question 1**\n",
        "\n",
        "**What is the expected output of**\n",
        "\n",
        "```python\n",
        "'now ' + 'here now' + 'here'\n",
        "```"
      ]
    },
    {
      "cell_type": "code",
      "metadata": {
        "id": "oObvLecel5v3",
        "colab_type": "code",
        "colab": {}
      },
      "source": [
        "guess = ''"
      ],
      "execution_count": 0,
      "outputs": []
    },
    {
      "cell_type": "code",
      "metadata": {
        "id": "uBTR-3H9l5v4",
        "colab_type": "code",
        "colab": {}
      },
      "source": [
        "# Try it here"
      ],
      "execution_count": 0,
      "outputs": []
    },
    {
      "cell_type": "markdown",
      "metadata": {
        "id": "E4BxuFjWl5v5",
        "colab_type": "text"
      },
      "source": [
        "**Question 2**\n",
        "\n",
        "**What is the expected output of**\n",
        "\n",
        "```python\n",
        "\"now \" + \"here now\" + \"here\"\n",
        "```"
      ]
    },
    {
      "cell_type": "code",
      "metadata": {
        "id": "yNmJ5eP-l5v6",
        "colab_type": "code",
        "colab": {}
      },
      "source": [
        "guess = ''"
      ],
      "execution_count": 0,
      "outputs": []
    },
    {
      "cell_type": "code",
      "metadata": {
        "id": "VwBubIdbl5v7",
        "colab_type": "code",
        "colab": {}
      },
      "source": [
        "# Try it here"
      ],
      "execution_count": 0,
      "outputs": []
    },
    {
      "cell_type": "markdown",
      "metadata": {
        "id": "mRSMhvLtl5v9",
        "colab_type": "text"
      },
      "source": [
        "**Question 3**\n",
        "\n",
        "**What is the expected output of**\n",
        "\n",
        "```python\n",
        "'A double quote: \"'\n",
        "```"
      ]
    },
    {
      "cell_type": "code",
      "metadata": {
        "id": "Q8VlLyKal5v9",
        "colab_type": "code",
        "colab": {}
      },
      "source": [
        "guess = ''"
      ],
      "execution_count": 0,
      "outputs": []
    },
    {
      "cell_type": "code",
      "metadata": {
        "id": "ieoVSVv-l5v_",
        "colab_type": "code",
        "colab": {}
      },
      "source": [
        "# Try it here"
      ],
      "execution_count": 0,
      "outputs": []
    },
    {
      "cell_type": "markdown",
      "metadata": {
        "id": "nqxBbEwGl5wC",
        "colab_type": "text"
      },
      "source": [
        "**Question 4**\n",
        "\n",
        "**What is the expected output of**\n",
        "\n",
        "```python\n",
        "'A double quote: \"\n",
        "```"
      ]
    },
    {
      "cell_type": "code",
      "metadata": {
        "id": "iUmOOWQbl5wC",
        "colab_type": "code",
        "colab": {}
      },
      "source": [
        "guess = ''"
      ],
      "execution_count": 0,
      "outputs": []
    },
    {
      "cell_type": "code",
      "metadata": {
        "id": "LZDe0eXol5wE",
        "colab_type": "code",
        "colab": {}
      },
      "source": [
        "# Try it here"
      ],
      "execution_count": 0,
      "outputs": []
    },
    {
      "cell_type": "markdown",
      "metadata": {
        "id": "gPNFOEy3l5wF",
        "colab_type": "text"
      },
      "source": [
        "**Question 5**\n",
        "\n",
        "**What is the expected output of**\n",
        "\n",
        "```python\n",
        "'Output: ' + '4 / 2'\n",
        "```"
      ]
    },
    {
      "cell_type": "code",
      "metadata": {
        "id": "flg50JIol5wG",
        "colab_type": "code",
        "colab": {}
      },
      "source": [
        "guess = ''"
      ],
      "execution_count": 0,
      "outputs": []
    },
    {
      "cell_type": "code",
      "metadata": {
        "id": "U1yaAmv8l5wH",
        "colab_type": "code",
        "colab": {}
      },
      "source": [
        "# Try it here"
      ],
      "execution_count": 0,
      "outputs": []
    },
    {
      "cell_type": "markdown",
      "metadata": {
        "id": "lWMh18bNl5wJ",
        "colab_type": "text"
      },
      "source": [
        "**Question 6**\n",
        "\n",
        "**What is the expected output of**\n",
        "\n",
        "```python\n",
        "'Output: ' + 4 / 2\n",
        "```"
      ]
    },
    {
      "cell_type": "code",
      "metadata": {
        "id": "rAPMHcdcl5wJ",
        "colab_type": "code",
        "colab": {}
      },
      "source": [
        "guess = ''"
      ],
      "execution_count": 0,
      "outputs": []
    },
    {
      "cell_type": "code",
      "metadata": {
        "id": "ZQxbFTcYl5wL",
        "colab_type": "code",
        "colab": {}
      },
      "source": [
        "# Try it here"
      ],
      "execution_count": 0,
      "outputs": []
    },
    {
      "cell_type": "markdown",
      "metadata": {
        "id": "N2jVhNk4l5wM",
        "colab_type": "text"
      },
      "source": [
        "**Question 7**\n",
        "\n",
        "**What is the expected output of**\n",
        "\n",
        "```python\n",
        "'Output: ' + 4 / 2\n",
        "```"
      ]
    },
    {
      "cell_type": "code",
      "metadata": {
        "id": "drnGxSh-l5wN",
        "colab_type": "code",
        "colab": {}
      },
      "source": [
        "guess = ''"
      ],
      "execution_count": 0,
      "outputs": []
    },
    {
      "cell_type": "code",
      "metadata": {
        "id": "pDBnEVdLl5wQ",
        "colab_type": "code",
        "colab": {}
      },
      "source": [
        "# Try it here"
      ],
      "execution_count": 0,
      "outputs": []
    },
    {
      "cell_type": "markdown",
      "metadata": {
        "id": "vfqKDaHXl5wS",
        "colab_type": "text"
      },
      "source": [
        "**Question 6**\n",
        "\n",
        "**What is the expected output of**\n",
        "\n",
        "```python\n",
        "'Output: ' + str(4 / 2)\n",
        "```"
      ]
    },
    {
      "cell_type": "code",
      "metadata": {
        "id": "_VcUfAUnl5wT",
        "colab_type": "code",
        "colab": {}
      },
      "source": [
        "guess = ''"
      ],
      "execution_count": 0,
      "outputs": []
    },
    {
      "cell_type": "code",
      "metadata": {
        "id": "tlgJHCFel5wW",
        "colab_type": "code",
        "colab": {}
      },
      "source": [
        "# Try it here"
      ],
      "execution_count": 0,
      "outputs": []
    },
    {
      "cell_type": "markdown",
      "metadata": {
        "id": "eCm0D5Ell5wX",
        "colab_type": "text"
      },
      "source": [
        "## Variables and Assignment Statements\n",
        "\n",
        "The last part of this lab involves assignment statements. An assigment statement like \n",
        "\n",
        "```python\n",
        "a = 5 < 10\n",
        "```\n",
        "is a command to Python to:\n",
        "\n",
        "1. evaluate the expression on the right-hand side of the `=` (in this case, 5 < 10), and\n",
        "\n",
        "2. store the expression's value in the variable on the left-hand side of the `=`, in this case a.\n",
        "\n",
        "Since the assignment statement is not an expression, Python will not outout a result when you type it in; it will just perform the command silently.\n",
        "\n",
        "Below you will find either an expression or a command. \n",
        "\n",
        "- If it is an expression, write the value.\n",
        "- If it is a command, you should just write \"None\"\n",
        "\n",
        "It is important that you **enter the expressions or commands in exactly the order they are given.**"
      ]
    },
    {
      "cell_type": "markdown",
      "metadata": {
        "id": "qupKn5qal5wX",
        "colab_type": "text"
      },
      "source": [
        "**Question 1**\n",
        "\n",
        "**What is the expected output of**\n",
        "\n",
        "```python\n",
        "i = 2\n",
        "```"
      ]
    },
    {
      "cell_type": "code",
      "metadata": {
        "id": "DJaTUv9Tl5wY",
        "colab_type": "code",
        "colab": {}
      },
      "source": [
        "guess = 'None'"
      ],
      "execution_count": 0,
      "outputs": []
    },
    {
      "cell_type": "markdown",
      "metadata": {
        "id": "GWVpVv4Fl5wa",
        "colab_type": "text"
      },
      "source": [
        "**Question 2**\n",
        "\n",
        "**What is the expected output of**\n",
        "\n",
        "```python\n",
        "i\n",
        "```"
      ]
    },
    {
      "cell_type": "code",
      "metadata": {
        "id": "6JV_EtVjl5wa",
        "colab_type": "code",
        "colab": {}
      },
      "source": [
        "guess = ''"
      ],
      "execution_count": 0,
      "outputs": []
    },
    {
      "cell_type": "markdown",
      "metadata": {
        "id": "UgCv0yT9l5wb",
        "colab_type": "text"
      },
      "source": [
        "**Question 3**\n",
        "\n",
        "**What is the expected output of**\n",
        "\n",
        "```python\n",
        "j\n",
        "```"
      ]
    },
    {
      "cell_type": "code",
      "metadata": {
        "id": "ndD_Wf3Tl5wc",
        "colab_type": "code",
        "colab": {}
      },
      "source": [
        "guess = ''"
      ],
      "execution_count": 0,
      "outputs": []
    },
    {
      "cell_type": "markdown",
      "metadata": {
        "id": "1Mx7rxBfl5wd",
        "colab_type": "text"
      },
      "source": [
        "**Question 4**\n",
        "\n",
        "**What is the expected output of**\n",
        "\n",
        "```python\n",
        "j = 1\n",
        "```"
      ]
    },
    {
      "cell_type": "code",
      "metadata": {
        "id": "oOpxtzHEl5wd",
        "colab_type": "code",
        "colab": {}
      },
      "source": [
        "guess = ''"
      ],
      "execution_count": 0,
      "outputs": []
    },
    {
      "cell_type": "markdown",
      "metadata": {
        "id": "zOuryE5ml5wf",
        "colab_type": "text"
      },
      "source": [
        "**Question 5**\n",
        "\n",
        "**What is the expected output of**\n",
        "\n",
        "```python\n",
        "j\n",
        "```"
      ]
    },
    {
      "cell_type": "code",
      "metadata": {
        "scrolled": true,
        "id": "ud6uEzJVl5wf",
        "colab_type": "code",
        "colab": {}
      },
      "source": [
        "guess = ''"
      ],
      "execution_count": 0,
      "outputs": []
    },
    {
      "cell_type": "markdown",
      "metadata": {
        "id": "8z4dgbkGl5wh",
        "colab_type": "text"
      },
      "source": [
        "**Question 6**\n",
        "\n",
        "**What is the expected output of**\n",
        "\n",
        "```python\n",
        "j = j + i\n",
        "```"
      ]
    },
    {
      "cell_type": "code",
      "metadata": {
        "id": "VIRfql7Hl5wh",
        "colab_type": "code",
        "colab": {}
      },
      "source": [
        "guess = ''"
      ],
      "execution_count": 0,
      "outputs": []
    },
    {
      "cell_type": "markdown",
      "metadata": {
        "id": "PpDPn-7Ol5wi",
        "colab_type": "text"
      },
      "source": [
        "**Question 7**\n",
        "\n",
        "**What is the expected output of**\n",
        "\n",
        "```python\n",
        "j\n",
        "```"
      ]
    },
    {
      "cell_type": "code",
      "metadata": {
        "id": "DgLukJ3Il5wi",
        "colab_type": "code",
        "colab": {}
      },
      "source": [
        "guess = ''"
      ],
      "execution_count": 0,
      "outputs": []
    },
    {
      "cell_type": "markdown",
      "metadata": {
        "id": "X99nDXBNl5wm",
        "colab_type": "text"
      },
      "source": [
        "**Question 8**\n",
        "\n",
        "**What is the expected output of**\n",
        "\n",
        "```python\n",
        "'Output: ' + str(4 / 2)\n",
        "```"
      ]
    },
    {
      "cell_type": "code",
      "metadata": {
        "id": "8Q8TyV9dl5wm",
        "colab_type": "code",
        "colab": {}
      },
      "source": [
        "guess = ''"
      ],
      "execution_count": 0,
      "outputs": []
    },
    {
      "cell_type": "markdown",
      "metadata": {
        "id": "TIPKAU_Sl5wn",
        "colab_type": "text"
      },
      "source": [
        "**Question 9**\n",
        "\n",
        "**What is the expected output of**\n",
        "\n",
        "```python\n",
        "i + w\n",
        "```"
      ]
    },
    {
      "cell_type": "code",
      "metadata": {
        "id": "XM7DHBsTl5wn",
        "colab_type": "code",
        "colab": {}
      },
      "source": [
        "guess = ''"
      ],
      "execution_count": 0,
      "outputs": []
    }
  ]
}