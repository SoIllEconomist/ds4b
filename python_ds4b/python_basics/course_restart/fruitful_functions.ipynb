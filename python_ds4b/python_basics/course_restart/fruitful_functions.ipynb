{
 "cells": [
  {
   "cell_type": "markdown",
   "metadata": {},
   "source": [
    "# Fruitful Functions (For Business)\n",
    "\n",
    "Many of the Python functions we have used (the `math` functions) produce return values. But the functions we’ve written are all void:\n",
    "    \n",
    "   - they have an effect, like printing a value, but \n",
    "   - they don’t have a return value \n",
    "   \n",
    "Today you'll learn to write fruitful functions"
   ]
  },
  {
   "cell_type": "markdown",
   "metadata": {},
   "source": [
    "## Return values\n",
    "\n",
    "- Calling the function generates a return value, which we (usually) assign to a variable or use as part of an expression\n",
    "\n",
    "- Today we are going to write fruitful functions\n",
    "\n",
    "- The first exampe is `cash_flow`, which returns your cash flow given income and expenses"
   ]
  },
  {
   "cell_type": "code",
   "execution_count": 1,
   "metadata": {},
   "outputs": [],
   "source": [
    "def cash_flow(income, expenses):\n",
    "    cf = income - expenses\n",
    "    return cf"
   ]
  },
  {
   "cell_type": "code",
   "execution_count": 2,
   "metadata": {},
   "outputs": [
    {
     "data": {
      "text/plain": [
       "1000.0"
      ]
     },
     "execution_count": 2,
     "metadata": {},
     "output_type": "execute_result"
    }
   ],
   "source": [
    "cash_flow(10000, 9000.0)"
   ]
  },
  {
   "cell_type": "markdown",
   "metadata": {},
   "source": [
    "We have seen the return statement before, but in a fruitful function the return statement includes an expression. \n",
    "\n",
    "This statement means: “Return immediately from this function and use the following expression as a return value.” \n",
    "\n",
    "We could have written this function more concisely:"
   ]
  },
  {
   "cell_type": "code",
   "execution_count": 2,
   "metadata": {},
   "outputs": [],
   "source": [
    "def cash_flow(income, expenses):\n",
    "    return income - expenses"
   ]
  },
  {
   "cell_type": "markdown",
   "metadata": {},
   "source": [
    "##### Incremental development\n",
    "\n",
    "- As you write larger functions, you might find yourself spending more time debugging.\n",
    "\n",
    "- To deal with increasingly complex programs, you might want to try a process called **incremental development**. \n",
    "\n",
    "\n",
    "### Example\n",
    "\n",
    "Suppose you want to calculate *compound interest*:\n",
    "\n",
    "- Compound interest refers to calculating the *compounded interest*, not just the interest gained on the principal invested or borrowed amount.\n",
    "\n",
    "\n",
    "$$A = P(1+\\frac{r}{n})^{nt}$$\n",
    "\n",
    "\n",
    "where\n",
    "\n",
    "- A = New Principal (principal + interest)\n",
    "- P = Original Principal Amount\n",
    "- r = Annual Nominal Interest Rate (Float)\n",
    "- t = Overall length of time the interest is applied\n",
    "- n = Compounding frequency\n",
    "\n",
    "#### Step 1\n",
    "The first step is to consider what a `comp_interest` function should look like. \n",
    "- What are the inputs (parameters) and what is the output (return value)?\n",
    "\n",
    "    - In this case, the inputs are four numbers. \n",
    "    - The return value is the accrued amount (principal + interest) AND the total compound interest (represented by a floating-point value)\n",
    "\n",
    "#### Step 2\n",
    "Write an outline of the function:\n",
    "\n",
    "```python\n",
    "def comp_interest(principal, rate, n, t):\n",
    "    return 0.0\n",
    "```\n",
    "\n",
    "- Obviously, this version doesn’t compute our values; it always returns zero. \n",
    "- But it is syntactically correct, and it runs, which means that you can test it before you make it more complicated.\n",
    "\n",
    "```python\n",
    "comp_interest(5000, 0.08, 4, 2) # Easy to solve\n",
    "0.0\n",
    "```\n",
    "\n",
    "At this point we have confirmed that the function is syntactically correct, and we can start adding code to the body. \n",
    "\n",
    "#### Step 3\n",
    "A reasonable next step is to find the subvalues.\n",
    "\n",
    "```python\n",
    "def comp_interest(principal, rate, n, t):\n",
    "    r_n = 1 + (rate / n)\n",
    "    nt = n * t\n",
    "    print('Compound rate: ', r_n)\n",
    "    print('Frequency: ', nt)\n",
    "    return 0.0\n",
    "```\n",
    "\n",
    "If the function is working, it should display: \n",
    "\n",
    "```python\n",
    "comp_interest(5000,0.08,4,2)\n",
    "Compound rate: 1.02\n",
    "Frequency: 8\n",
    "```\n",
    "\n",
    "#### Step 4\n",
    "Next compute the result\n",
    "\n",
    "```python\n",
    "def comp_interest(principal, rate, n, t):\n",
    "    r_n = 1 + (rate / n)\n",
    "    nt = n * t\n",
    "    result = principal*r_n**nt\n",
    "    return round(result,2)\n",
    "```"
   ]
  },
  {
   "cell_type": "markdown",
   "metadata": {},
   "source": [
    "When you start out, you should add only a line or two of code at a time. As you gain more experience, you might find yourself writing and debugging bigger chunks. Either way, incremental development can save you a lot of debugging time.\n",
    "\n",
    "The key aspects of the process are:\n",
    "\n",
    "1. Start with a working program and make small incremental changes. At any point, if there is an error, you should have a good idea where it is.\n",
    "2. Use variables to hold intermediate values so you can display and check them.\n",
    "3. Once the program is working, you might want to remove some of the scaffolding or consolidate multiple statements into compound expressions, but only if it does not make the program difficult to read."
   ]
  },
  {
   "cell_type": "markdown",
   "metadata": {},
   "source": [
    "### Example 2\n",
    "\n",
    "\n",
    "$$B = R [\\frac{1-(1+i)^{-(n-x)}}{i}]$$"
   ]
  },
  {
   "cell_type": "code",
   "execution_count": null,
   "metadata": {},
   "outputs": [],
   "source": [
    "def rem_bal(reg_pay, i, num_pay, pay_made):\n",
    "    return 0.0"
   ]
  },
  {
   "cell_type": "code",
   "execution_count": null,
   "metadata": {},
   "outputs": [],
   "source": []
  },
  {
   "cell_type": "code",
   "execution_count": null,
   "metadata": {},
   "outputs": [],
   "source": []
  },
  {
   "cell_type": "code",
   "execution_count": 4,
   "metadata": {},
   "outputs": [],
   "source": [
    "def rem_bal(reg_pay, i, num_pay, pay_made):\n",
    "    a = 1+i\n",
    "    b = -(num_pay-pay_made)\n",
    "    c = 1 - a**b\n",
    "    d = c / i\n",
    "    result = reg_pay * d\n",
    "    return round(result,2)"
   ]
  },
  {
   "cell_type": "code",
   "execution_count": 5,
   "metadata": {},
   "outputs": [
    {
     "data": {
      "text/plain": [
       "8916.32"
      ]
     },
     "execution_count": 5,
     "metadata": {},
     "output_type": "execute_result"
    }
   ],
   "source": [
    "rem_bal(5000, 0.08, 4, 2)"
   ]
  },
  {
   "cell_type": "markdown",
   "metadata": {},
   "source": [
    "## Boolean Functions\n",
    "\n",
    "Functions can return booleans, which is often convenient for hiding complicated tests inside functions. For example:\n",
    "\n",
    "```python\n",
    "def is_divisible(x, y):\n",
    "    if x % y == 0:\n",
    "        return True\n",
    "    else:\n",
    "        return False\n",
    "```\n",
    "It is common to give boolean functions names that sound like yes/no questions\n",
    "\n",
    "The result of the == operator is a boolean, so we can write the function more concisely by returning it directly:\n",
    "\n",
    "```python\n",
    "def is_divisible(x, y):\n",
    "    return x % y == 0\n",
    "```"
   ]
  },
  {
   "cell_type": "markdown",
   "metadata": {},
   "source": [
    "## Recursion (Factorial Example)\n",
    "\n",
    "- The factorial of a non-negative integer n, denoted by n!, is the product of all positive integers less than or equal to n.\n",
    "\n",
    "$$0! = 1$$\n",
    "$$n! = n(n-1)!$$\n",
    "\n",
    "If you can write a recursive definition of something, you can write a Python program to evaluate it\n",
    "\n",
    "### Step 1: Decide on parameters\n",
    "\n",
    "- `factorial` takes an integer\n",
    "\n",
    "```python\n",
    "def factorial(n):\n",
    "    \n",
    "```\n",
    "\n",
    "### Step 2: Add basic conditional argument\n",
    "- if the argument happens to be 0, we return 1:\n",
    "\n",
    "```python\n",
    "def factorial(n):\n",
    "    if n == 0:\n",
    "        return 1\n",
    "```\n",
    "\n",
    "### Step 3: Make it recursive\n",
    "Otherwise, we have to make a recursive call to \n",
    "1. find the factorial of n-1\n",
    "2. multiply it by n\n",
    "\n",
    "```python\n",
    "def factorial(n):\n",
    "    if n == 0:\n",
    "        return 1\n",
    "    else:\n",
    "        recurse = factorial(n-1)\n",
    "        result = n * recurse\n",
    "        return result\n",
    "```\n",
    "\n",
    "This should look similar to our `countdown` example"
   ]
  },
  {
   "cell_type": "code",
   "execution_count": 7,
   "metadata": {},
   "outputs": [],
   "source": [
    "def factorial(n):\n",
    "    if n == 0:\n",
    "        return 1\n",
    "    else:\n",
    "        recurse = factorial(n-1)\n",
    "        result = n * recurse\n",
    "        return result"
   ]
  },
  {
   "cell_type": "code",
   "execution_count": 9,
   "metadata": {},
   "outputs": [
    {
     "data": {
      "text/plain": [
       "1220136825991110068701238785423046926253574342803192842192413588385845373153881997605496447502203281863013616477148203584163378722078177200480785205159329285477907571939330603772960859086270429174547882424912726344305670173270769461062802310452644218878789465754777149863494367781037644274033827365397471386477878495438489595537537990423241061271326984327745715546309977202781014561081188373709531016356324432987029563896628911658974769572087926928871281780070265174507768410719624390394322536422605234945850129918571501248706961568141625359056693423813008856249246891564126775654481886506593847951775360894005745238940335798476363944905313062323749066445048824665075946735862074637925184200459369692981022263971952597190945217823331756934581508552332820762820023402626907898342451712006207714640979456116127629145951237229913340169552363850942885592018727433795173014586357570828355780158735432768888680120399882384702151467605445407663535984174430480128938313896881639487469658817504506926365338175055478128640000000000000000000000000000000000000000000000000000000000000000000000000000000000000000000000000000000000000000000000000000"
      ]
     },
     "execution_count": 9,
     "metadata": {},
     "output_type": "execute_result"
    }
   ],
   "source": [
    "factorial(500)"
   ]
  },
  {
   "cell_type": "markdown",
   "metadata": {},
   "source": [
    "## Fibonacci Example\n",
    "\n",
    "          fibonacci(0) = 0 \n",
    " \t \tfibonacci(1) = 1 \n",
    " \t \tfibonacci(n) = fibonacci(n−1) + fibonacci(n−2)\n",
    "        \n",
    "Translated into a Python function:"
   ]
  },
  {
   "cell_type": "code",
   "execution_count": 4,
   "metadata": {},
   "outputs": [],
   "source": [
    "def fibonacci(n):\n",
    "    if n ==0:\n",
    "        return 0\n",
    "    elif n == 1:\n",
    "        return 1\n",
    "    else:\n",
    "        return fibonacci(n-1) + fibonacci(n-2)"
   ]
  },
  {
   "cell_type": "code",
   "execution_count": 6,
   "metadata": {},
   "outputs": [
    {
     "data": {
      "text/plain": [
       "3"
      ]
     },
     "execution_count": 6,
     "metadata": {},
     "output_type": "execute_result"
    }
   ],
   "source": [
    "fibonacci(4)"
   ]
  },
  {
   "cell_type": "markdown",
   "metadata": {},
   "source": [
    "## Checking types: Factorial Example 2\n",
    "\n",
    "What happens if we call `factorial` and give it 1.5 as an argument?\n",
    "\n",
    "```python\n",
    "factorial(1.5)\n",
    "RuntimeError: Maximum recursion depth exceeded\n",
    "```\n",
    "\n",
    "- It looks like an infinite recursion. How can that be? \n",
    "- The function has a base case—when `n == 0`. \n",
    "- But if n is not an integer, we can miss the base case and recurse forever\n",
    "\n",
    "### Solution\n",
    "\n",
    "- Use the built-in function `isinstance` to verify the type of the argument"
   ]
  },
  {
   "cell_type": "code",
   "execution_count": 1,
   "metadata": {},
   "outputs": [],
   "source": [
    "def factorial(n):\n",
    "    if not isinstance(n, int):\n",
    "        print('Factorial is only defined for integers.')\n",
    "        return None\n",
    "    elif n < 0:\n",
    "        print('Factorial is not defined for negative integers.')\n",
    "        return None\n",
    "    elif n == 0:\n",
    "        return 1\n",
    "    else:\n",
    "        return n * factorial(n-1)"
   ]
  },
  {
   "cell_type": "code",
   "execution_count": 8,
   "metadata": {},
   "outputs": [
    {
     "name": "stdout",
     "output_type": "stream",
     "text": [
      "Factorial is only defined for integers.\n"
     ]
    }
   ],
   "source": [
    "factorial('bob')"
   ]
  },
  {
   "cell_type": "code",
   "execution_count": 9,
   "metadata": {},
   "outputs": [
    {
     "name": "stdout",
     "output_type": "stream",
     "text": [
      "Factorial is not defined for negative integers.\n"
     ]
    }
   ],
   "source": [
    "factorial(-2)"
   ]
  },
  {
   "cell_type": "code",
   "execution_count": 10,
   "metadata": {},
   "outputs": [
    {
     "data": {
      "text/plain": [
       "1"
      ]
     },
     "execution_count": 10,
     "metadata": {},
     "output_type": "execute_result"
    }
   ],
   "source": [
    "factorial(0)"
   ]
  },
  {
   "cell_type": "code",
   "execution_count": null,
   "metadata": {},
   "outputs": [],
   "source": []
  }
 ],
 "metadata": {
  "kernelspec": {
   "display_name": "Python 3",
   "language": "python",
   "name": "python3"
  },
  "language_info": {
   "codemirror_mode": {
    "name": "ipython",
    "version": 3
   },
   "file_extension": ".py",
   "mimetype": "text/x-python",
   "name": "python",
   "nbconvert_exporter": "python",
   "pygments_lexer": "ipython3",
   "version": "3.6.5"
  }
 },
 "nbformat": 4,
 "nbformat_minor": 2
}
