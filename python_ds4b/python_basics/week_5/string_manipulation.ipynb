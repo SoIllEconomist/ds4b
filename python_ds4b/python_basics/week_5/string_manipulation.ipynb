{
  "nbformat": 4,
  "nbformat_minor": 0,
  "metadata": {
    "kernelspec": {
      "display_name": "Python 3",
      "language": "python",
      "name": "python3"
    },
    "language_info": {
      "codemirror_mode": {
        "name": "ipython",
        "version": 3
      },
      "file_extension": ".py",
      "mimetype": "text/x-python",
      "name": "python",
      "nbconvert_exporter": "python",
      "pygments_lexer": "ipython3",
      "version": "3.6.5"
    },
    "colab": {
      "name": "string_manipulation.ipynb",
      "provenance": [],
      "include_colab_link": true
    }
  },
  "cells": [
    {
      "cell_type": "markdown",
      "metadata": {
        "id": "view-in-github",
        "colab_type": "text"
      },
      "source": [
        "<a href=\"https://colab.research.google.com/github/SoIllEconomist/ds4b/blob/master/python_ds4b/python_basics/week_5/string_manipulation.ipynb\" target=\"_parent\"><img src=\"https://colab.research.google.com/assets/colab-badge.svg\" alt=\"Open In Colab\"/></a>"
      ]
    },
    {
      "cell_type": "markdown",
      "metadata": {
        "id": "iWQoVfv-nsHi",
        "colab_type": "text"
      },
      "source": [
        "# String Manipulation\n",
        "- Text is the most common form of data your program will handle\n",
        "- Previously: we've concatenated two strings together using the `+`\n",
        "- Now: Extract partial strings from string values\n",
        "    - Add or remove spacing\n",
        "    - convert letters to lowercase or uppercase\n",
        "    - check formatting of strings\n",
        "- Write code to accesss the clipboard and paste text"
      ]
    },
    {
      "cell_type": "markdown",
      "metadata": {
        "id": "nPSFKMx0nsHl",
        "colab_type": "text"
      },
      "source": [
        "## Strings"
      ]
    },
    {
      "cell_type": "code",
      "metadata": {
        "id": "Nm-qlKTJnsHm",
        "colab_type": "code",
        "colab": {},
        "outputId": "519e2a13-f59b-4414-f767-d76416f59814"
      },
      "source": [
        "print('This is a string') # Single quotes"
      ],
      "execution_count": 0,
      "outputs": [
        {
          "output_type": "stream",
          "text": [
            "This is a string\n"
          ],
          "name": "stdout"
        }
      ]
    },
    {
      "cell_type": "code",
      "metadata": {
        "id": "0I1P_m3onsHs",
        "colab_type": "code",
        "colab": {},
        "outputId": "a13bcaae-67a9-4cc2-ba3d-fbace470e051"
      },
      "source": [
        "print(\"This is 'also a string\") # Double quotes\n"
      ],
      "execution_count": 0,
      "outputs": [
        {
          "output_type": "stream",
          "text": [
            "This is also a string\n"
          ],
          "name": "stdout"
        }
      ]
    },
    {
      "cell_type": "markdown",
      "metadata": {
        "id": "55ck_6vEnsHw",
        "colab_type": "text"
      },
      "source": [
        "## Escape Characters\n",
        "\n",
        "- **Escape characters**: allow you to use characters that are otherwise impossible to put into a string\n",
        "- An escape character consists of a backslah (\\\\) followed by the character you want to add to the string"
      ]
    },
    {
      "cell_type": "code",
      "metadata": {
        "id": "tkSdExmPnsHx",
        "colab_type": "code",
        "colab": {},
        "outputId": "8da0a495-fe47-42d1-81a5-4194ae441b41"
      },
      "source": [
        "print('Say hello to Eli\\'s dog')"
      ],
      "execution_count": 0,
      "outputs": [
        {
          "output_type": "stream",
          "text": [
            "Say hello to Eli's dog\n"
          ],
          "name": "stdout"
        }
      ]
    },
    {
      "cell_type": "markdown",
      "metadata": {
        "id": "Y4wWgXAEnsH0",
        "colab_type": "text"
      },
      "source": [
        "- Since the single quote in Eli\\\\'s has a backslash, it is not a single quote ment to end the string value.\n",
        "- The escape character \\\\' and \\\\\" let you put quotes inside your strings."
      ]
    },
    {
      "cell_type": "markdown",
      "metadata": {
        "id": "Csq6M806nsH1",
        "colab_type": "text"
      },
      "source": [
        "| **Escape character** | **Prints as** |\n",
        "|----------------------|---------------|\n",
        "| \\\\'                  | single quote  |\n",
        "| \\\\\"                  | double quote  |\n",
        "| \\t                   | tab           |\n",
        "| \\n                   | newline       |\n",
        "| \\\\\\                   | backslash     |"
      ]
    },
    {
      "cell_type": "code",
      "metadata": {
        "id": "rrqfmv8bnsH2",
        "colab_type": "code",
        "colab": {},
        "outputId": "5fbc351c-afd9-4d07-a96e-eb2be6638518"
      },
      "source": [
        "print(\"Dear Bob,\\nThis is a newline.\\nHere is another line.\")"
      ],
      "execution_count": 0,
      "outputs": [
        {
          "output_type": "stream",
          "text": [
            "Dear Bob,\n",
            "This is a newline.\n",
            "Here is another line.\n"
          ],
          "name": "stdout"
        }
      ]
    },
    {
      "cell_type": "markdown",
      "metadata": {
        "id": "BsMGdmA4nsH5",
        "colab_type": "text"
      },
      "source": [
        "## Raw Strings\n",
        "- Place an `r` before the beginning quote mark of a string to make it a raw string\n",
        "- **Raw string** completely ignores all excape characters and prints any backslash that appears in the string."
      ]
    },
    {
      "cell_type": "code",
      "metadata": {
        "id": "n8p-n4M5nsH6",
        "colab_type": "code",
        "colab": {},
        "outputId": "1992e2e3-9894-49df-8ff5-f52697f87795"
      },
      "source": [
        "print(r'Say hello to Eli\\'s dog')"
      ],
      "execution_count": 0,
      "outputs": [
        {
          "output_type": "stream",
          "text": [
            "Say hello to Eli\\'s dog\n"
          ],
          "name": "stdout"
        }
      ]
    },
    {
      "cell_type": "markdown",
      "metadata": {
        "id": "R7QH8_wvnsH9",
        "colab_type": "text"
      },
      "source": [
        "- Raw strings are helpful if you are typing string values that contain many backslashes, such as the strings used for regular expressions"
      ]
    },
    {
      "cell_type": "markdown",
      "metadata": {
        "id": "1_TANumhnsH-",
        "colab_type": "text"
      },
      "source": [
        "## Multiline Strings"
      ]
    },
    {
      "cell_type": "code",
      "metadata": {
        "id": "1EBuhTJDnsH_",
        "colab_type": "code",
        "colab": {},
        "outputId": "2b63145c-8a04-4fe8-f2b5-bb275ee5e856"
      },
      "source": [
        "print(\"\"\"Dear {name},\n",
        "I would like to apply to {loc}.\n",
        "Here is another line.\n",
        "\n",
        "Thank you.\n",
        "\n",
        "Markum\"\"\".format(name='Mr. Bill', loc='HSU - School of Business'))"
      ],
      "execution_count": 0,
      "outputs": [
        {
          "output_type": "stream",
          "text": [
            "Dear Mr. Bill,\n",
            "I would like to apply to HSU - School of Business.\n",
            "Here is another line.\n",
            "\n",
            "Thank you.\n",
            "\n",
            "Markum\n"
          ],
          "name": "stdout"
        }
      ]
    },
    {
      "cell_type": "markdown",
      "metadata": {
        "id": "ILJoLgdInsIC",
        "colab_type": "text"
      },
      "source": [
        "## in and not in Operators with Strings"
      ]
    },
    {
      "cell_type": "code",
      "metadata": {
        "id": "apYbmDZhnsID",
        "colab_type": "code",
        "colab": {},
        "outputId": "2b67b89a-71c8-492c-8ab2-2a2a49a7eda9"
      },
      "source": [
        "'Hello' in 'Hello world'"
      ],
      "execution_count": 0,
      "outputs": [
        {
          "output_type": "execute_result",
          "data": {
            "text/plain": [
              "True"
            ]
          },
          "metadata": {
            "tags": []
          },
          "execution_count": 10
        }
      ]
    },
    {
      "cell_type": "code",
      "metadata": {
        "id": "7v7JB8mUnsIG",
        "colab_type": "code",
        "colab": {},
        "outputId": "063db72a-93ac-4723-c146-031f36993412"
      },
      "source": [
        "'HELLO' in 'Hello world'"
      ],
      "execution_count": 0,
      "outputs": [
        {
          "output_type": "execute_result",
          "data": {
            "text/plain": [
              "False"
            ]
          },
          "metadata": {
            "tags": []
          },
          "execution_count": 12
        }
      ]
    },
    {
      "cell_type": "code",
      "metadata": {
        "id": "2I9HhqwSnsIJ",
        "colab_type": "code",
        "colab": {},
        "outputId": "a82b0c28-b83a-4be5-ce54-6cab88d8aab3"
      },
      "source": [
        "'Hello' not in 'Hello world'"
      ],
      "execution_count": 0,
      "outputs": [
        {
          "output_type": "execute_result",
          "data": {
            "text/plain": [
              "False"
            ]
          },
          "metadata": {
            "tags": []
          },
          "execution_count": 13
        }
      ]
    },
    {
      "cell_type": "markdown",
      "metadata": {
        "id": "S__wvGbsnsIM",
        "colab_type": "text"
      },
      "source": [
        "## String Methods"
      ]
    },
    {
      "cell_type": "code",
      "metadata": {
        "id": "Xm_fcgdLnsIN",
        "colab_type": "code",
        "colab": {}
      },
      "source": [
        "s = 'Hello World'"
      ],
      "execution_count": 0,
      "outputs": []
    },
    {
      "cell_type": "code",
      "metadata": {
        "id": "sXv2pf_-nsIP",
        "colab_type": "code",
        "colab": {},
        "outputId": "3c4e365d-50e1-4f6a-b4a1-2290773f672a"
      },
      "source": [
        "s.upper()"
      ],
      "execution_count": 0,
      "outputs": [
        {
          "output_type": "execute_result",
          "data": {
            "text/plain": [
              "'HELLO WORLD'"
            ]
          },
          "metadata": {
            "tags": []
          },
          "execution_count": 15
        }
      ]
    },
    {
      "cell_type": "code",
      "metadata": {
        "id": "gYDcxtuInsIS",
        "colab_type": "code",
        "colab": {},
        "outputId": "40751b7d-d3b3-4d2c-f9c1-04e9daa2f8fd"
      },
      "source": [
        "s.lower()"
      ],
      "execution_count": 0,
      "outputs": [
        {
          "output_type": "execute_result",
          "data": {
            "text/plain": [
              "'hello world'"
            ]
          },
          "metadata": {
            "tags": []
          },
          "execution_count": 18
        }
      ]
    },
    {
      "cell_type": "code",
      "metadata": {
        "id": "6nibodGFnsIV",
        "colab_type": "code",
        "colab": {}
      },
      "source": [
        "s_2 = 'here is another sentence.'"
      ],
      "execution_count": 0,
      "outputs": []
    },
    {
      "cell_type": "code",
      "metadata": {
        "id": "Zw2EE_eCnsIj",
        "colab_type": "code",
        "colab": {},
        "outputId": "c67aed1d-6463-4254-9f6a-ec653c25dc62"
      },
      "source": [
        "s_2.title()"
      ],
      "execution_count": 0,
      "outputs": [
        {
          "output_type": "execute_result",
          "data": {
            "text/plain": [
              "'Here Is Another Sentence.'"
            ]
          },
          "metadata": {
            "tags": []
          },
          "execution_count": 20
        }
      ]
    },
    {
      "cell_type": "code",
      "metadata": {
        "id": "ndG3qQpMnsIq",
        "colab_type": "code",
        "colab": {},
        "outputId": "46e0cd8d-b586-4f28-a99e-980949d38769"
      },
      "source": [
        "feeling = input('How are you feeling?\\n')\n",
        "if feeling.lower() == 'great':\n",
        "    print('I feel great too.')\n",
        "else:\n",
        "    print('I hope the rest of your day is good.')"
      ],
      "execution_count": 0,
      "outputs": [
        {
          "output_type": "stream",
          "text": [
            "How are you feeling?\n",
            " Great\n",
            "I hope the rest of your day is good.\n"
          ],
          "name": "stdout"
        }
      ]
    },
    {
      "cell_type": "markdown",
      "metadata": {
        "id": "3tYALwrNnsI3",
        "colab_type": "text"
      },
      "source": [
        "## isX Methods"
      ]
    },
    {
      "cell_type": "code",
      "metadata": {
        "id": "zLi26ZYSnsI5",
        "colab_type": "code",
        "colab": {},
        "outputId": "69aa72e8-7b92-44f6-a428-839adcee7439"
      },
      "source": [
        "'hello'.islower()"
      ],
      "execution_count": 0,
      "outputs": [
        {
          "output_type": "execute_result",
          "data": {
            "text/plain": [
              "True"
            ]
          },
          "metadata": {
            "tags": []
          },
          "execution_count": 30
        }
      ]
    },
    {
      "cell_type": "code",
      "metadata": {
        "id": "GvrHPORgnsJG",
        "colab_type": "code",
        "colab": {},
        "outputId": "3dd519fd-1555-4aea-866c-526c1a67e0d8"
      },
      "source": [
        "'hello'.isupper()"
      ],
      "execution_count": 0,
      "outputs": [
        {
          "output_type": "execute_result",
          "data": {
            "text/plain": [
              "False"
            ]
          },
          "metadata": {
            "tags": []
          },
          "execution_count": 31
        }
      ]
    },
    {
      "cell_type": "code",
      "metadata": {
        "id": "6yMDNgKMnsJe",
        "colab_type": "code",
        "colab": {},
        "outputId": "491c828e-262b-4c2f-91a4-866c66df197d"
      },
      "source": [
        "'hello'.isalpha()"
      ],
      "execution_count": 0,
      "outputs": [
        {
          "output_type": "execute_result",
          "data": {
            "text/plain": [
              "True"
            ]
          },
          "metadata": {
            "tags": []
          },
          "execution_count": 24
        }
      ]
    },
    {
      "cell_type": "code",
      "metadata": {
        "id": "ttfrAJh9nsJj",
        "colab_type": "code",
        "colab": {},
        "outputId": "dfa99b74-a9de-4ed6-9579-3a805ccac43f"
      },
      "source": [
        "'hello123'.isalnum()"
      ],
      "execution_count": 0,
      "outputs": [
        {
          "output_type": "execute_result",
          "data": {
            "text/plain": [
              "True"
            ]
          },
          "metadata": {
            "tags": []
          },
          "execution_count": 34
        }
      ]
    },
    {
      "cell_type": "code",
      "metadata": {
        "id": "IliIsr1UnsJn",
        "colab_type": "code",
        "colab": {},
        "outputId": "e24b2028-f32d-4cb0-9608-b19ca4e6fe70"
      },
      "source": [
        "'hello'.isalnum()"
      ],
      "execution_count": 0,
      "outputs": [
        {
          "output_type": "execute_result",
          "data": {
            "text/plain": [
              "True"
            ]
          },
          "metadata": {
            "tags": []
          },
          "execution_count": 35
        }
      ]
    },
    {
      "cell_type": "code",
      "metadata": {
        "id": "OuIkrqy9nsJq",
        "colab_type": "code",
        "colab": {},
        "outputId": "fb42a813-7f08-47d6-a3fd-7b0cd55d6cb9"
      },
      "source": [
        "'123'.isdecimal()"
      ],
      "execution_count": 0,
      "outputs": [
        {
          "output_type": "execute_result",
          "data": {
            "text/plain": [
              "True"
            ]
          },
          "metadata": {
            "tags": []
          },
          "execution_count": 36
        }
      ]
    },
    {
      "cell_type": "code",
      "metadata": {
        "id": "DmqHWUBnnsJx",
        "colab_type": "code",
        "colab": {},
        "outputId": "c20815de-8945-4a20-82be-ab671fc950ea"
      },
      "source": [
        "' '.isspace()"
      ],
      "execution_count": 0,
      "outputs": [
        {
          "output_type": "execute_result",
          "data": {
            "text/plain": [
              "True"
            ]
          },
          "metadata": {
            "tags": []
          },
          "execution_count": 37
        }
      ]
    },
    {
      "cell_type": "code",
      "metadata": {
        "id": "V6DcVvyWnsJ1",
        "colab_type": "code",
        "colab": {},
        "outputId": "60c271c8-889b-4b77-a48b-a2f1080ba355"
      },
      "source": [
        "'This Is A Title'.istitle()"
      ],
      "execution_count": 0,
      "outputs": [
        {
          "output_type": "execute_result",
          "data": {
            "text/plain": [
              "True"
            ]
          },
          "metadata": {
            "tags": []
          },
          "execution_count": 38
        }
      ]
    },
    {
      "cell_type": "code",
      "metadata": {
        "id": "WD6rB9cNnsJ4",
        "colab_type": "code",
        "colab": {},
        "outputId": "19cecac4-a64c-4b97-b63b-b4ebb0c05b74"
      },
      "source": [
        "while True:\n",
        "    print('Enter your age:')\n",
        "    age = input()\n",
        "    if age.isdecimal():\n",
        "        break\n",
        "    print('Please enter a number for your age.')"
      ],
      "execution_count": 0,
      "outputs": [
        {
          "output_type": "stream",
          "text": [
            "Enter your age:\n",
            "five\n",
            "Please enter a number for your age.\n",
            "Enter your age:\n",
            "6\n"
          ],
          "name": "stdout"
        }
      ]
    },
    {
      "cell_type": "markdown",
      "metadata": {
        "id": "g04Nc7nNnsJ7",
        "colab_type": "text"
      },
      "source": [
        "## join and split methods"
      ]
    },
    {
      "cell_type": "markdown",
      "metadata": {
        "id": "NE4eHT6jnsJ8",
        "colab_type": "text"
      },
      "source": [
        "- `join()` method is useful when you have a list of strings that need to be joined together into a single string value"
      ]
    },
    {
      "cell_type": "code",
      "metadata": {
        "id": "vB2PRSmPnsJ9",
        "colab_type": "code",
        "colab": {}
      },
      "source": [
        "a_list = ['this','is','a','list']"
      ],
      "execution_count": 0,
      "outputs": []
    },
    {
      "cell_type": "code",
      "metadata": {
        "id": "sE-xJYHfnsKA",
        "colab_type": "code",
        "colab": {},
        "outputId": "bbcf261f-b45d-41d2-a7e2-a248826bfb94"
      },
      "source": [
        "', '.join(a_list)"
      ],
      "execution_count": 0,
      "outputs": [
        {
          "output_type": "execute_result",
          "data": {
            "text/plain": [
              "'this, is, a, list'"
            ]
          },
          "metadata": {
            "tags": []
          },
          "execution_count": 44
        }
      ]
    },
    {
      "cell_type": "code",
      "metadata": {
        "id": "xEj7mKAwnsKD",
        "colab_type": "code",
        "colab": {},
        "outputId": "8e8dab69-adee-4fc2-9919-c03b549350e5"
      },
      "source": [
        "' '.join(a_list)"
      ],
      "execution_count": 0,
      "outputs": [
        {
          "output_type": "execute_result",
          "data": {
            "text/plain": [
              "'this is a list'"
            ]
          },
          "metadata": {
            "tags": []
          },
          "execution_count": 45
        }
      ]
    },
    {
      "cell_type": "code",
      "metadata": {
        "id": "L_RSyW3TnsKF",
        "colab_type": "code",
        "colab": {},
        "outputId": "1e9e1ee8-60cb-4450-aa1c-53a895e00fab"
      },
      "source": [
        "'_'.join(a_list)"
      ],
      "execution_count": 0,
      "outputs": [
        {
          "output_type": "execute_result",
          "data": {
            "text/plain": [
              "'this_is_a_list'"
            ]
          },
          "metadata": {
            "tags": []
          },
          "execution_count": 16
        }
      ]
    },
    {
      "cell_type": "markdown",
      "metadata": {
        "id": "E6fLuPr-nsKJ",
        "colab_type": "text"
      },
      "source": [
        "- `split()` method does the opposite of join"
      ]
    },
    {
      "cell_type": "code",
      "metadata": {
        "id": "024iOtvwnsKK",
        "colab_type": "code",
        "colab": {},
        "outputId": "3da42f93-ad38-4b37-d64f-928bd13e4d48"
      },
      "source": [
        "'Here is a string'.split() # Default is spaces"
      ],
      "execution_count": 0,
      "outputs": [
        {
          "output_type": "execute_result",
          "data": {
            "text/plain": [
              "['Here', 'is', 'a', 'string']"
            ]
          },
          "metadata": {
            "tags": []
          },
          "execution_count": 49
        }
      ]
    },
    {
      "cell_type": "code",
      "metadata": {
        "id": "e9EfDrOTnsKM",
        "colab_type": "code",
        "colab": {},
        "outputId": "22bd62c8-0db9-4476-f3ba-89ed84bcf2e8"
      },
      "source": [
        "'thisABCDEisABCDEaABCDElist'.split('ABCDE')"
      ],
      "execution_count": 0,
      "outputs": [
        {
          "output_type": "execute_result",
          "data": {
            "text/plain": [
              "['this', 'is', 'a', 'list']"
            ]
          },
          "metadata": {
            "tags": []
          },
          "execution_count": 50
        }
      ]
    },
    {
      "cell_type": "code",
      "metadata": {
        "id": "xYAV7JCNnsKO",
        "colab_type": "code",
        "colab": {}
      },
      "source": [
        "s = \"\"\"Dear Bob,\n",
        "This is a newline.\n",
        "Here is another line.\n",
        "\"\"\""
      ],
      "execution_count": 0,
      "outputs": []
    },
    {
      "cell_type": "code",
      "metadata": {
        "id": "KVtT-YtvnsKR",
        "colab_type": "code",
        "colab": {},
        "outputId": "6b6ad7e2-cdaf-4d0f-c975-e585a44ab5e4"
      },
      "source": [
        "s.split('\\n')"
      ],
      "execution_count": 0,
      "outputs": [
        {
          "output_type": "execute_result",
          "data": {
            "text/plain": [
              "['Dear Bob,', 'This is a newline.', 'Here is another line.', '']"
            ]
          },
          "metadata": {
            "tags": []
          },
          "execution_count": 56
        }
      ]
    },
    {
      "cell_type": "markdown",
      "metadata": {
        "id": "wK-civb6nsKT",
        "colab_type": "text"
      },
      "source": [
        "## Justifying Text\n",
        "- `rjust()`\n",
        "- `ljust()`\n",
        "- `center()`\n",
        "- The first argument to both methods is an integer length for the justified string."
      ]
    },
    {
      "cell_type": "code",
      "metadata": {
        "id": "EU9_GSIVnsKU",
        "colab_type": "code",
        "colab": {},
        "outputId": "7bf8f53c-ccb6-4955-e1da-85b01e5c943d"
      },
      "source": [
        "'hello'.rjust(10)"
      ],
      "execution_count": 0,
      "outputs": [
        {
          "output_type": "execute_result",
          "data": {
            "text/plain": [
              "'     hello'"
            ]
          },
          "metadata": {
            "tags": []
          },
          "execution_count": 57
        }
      ]
    },
    {
      "cell_type": "code",
      "metadata": {
        "id": "j72S6mYznsKW",
        "colab_type": "code",
        "colab": {},
        "outputId": "dd0c058e-9d8d-4ee3-d98e-6ac720fe8d10"
      },
      "source": [
        "'hello'.rjust(20)"
      ],
      "execution_count": 0,
      "outputs": [
        {
          "output_type": "execute_result",
          "data": {
            "text/plain": [
              "'               hello'"
            ]
          },
          "metadata": {
            "tags": []
          },
          "execution_count": 58
        }
      ]
    },
    {
      "cell_type": "code",
      "metadata": {
        "id": "QfpJw4OensKY",
        "colab_type": "code",
        "colab": {},
        "outputId": "70430fe7-9230-4d55-f21e-c4a92f8dd1ef"
      },
      "source": [
        "'hello'.ljust(10)"
      ],
      "execution_count": 0,
      "outputs": [
        {
          "output_type": "execute_result",
          "data": {
            "text/plain": [
              "'hello     '"
            ]
          },
          "metadata": {
            "tags": []
          },
          "execution_count": 59
        }
      ]
    },
    {
      "cell_type": "code",
      "metadata": {
        "id": "UfEBCHuunsKa",
        "colab_type": "code",
        "colab": {},
        "outputId": "c70f6a67-a4a2-482a-91e9-6a25b126da9f"
      },
      "source": [
        "'hello'.center(20)"
      ],
      "execution_count": 0,
      "outputs": [
        {
          "output_type": "execute_result",
          "data": {
            "text/plain": [
              "'       hello        '"
            ]
          },
          "metadata": {
            "tags": []
          },
          "execution_count": 60
        }
      ]
    },
    {
      "cell_type": "code",
      "metadata": {
        "id": "qtaNepS0nsKd",
        "colab_type": "code",
        "colab": {},
        "outputId": "1020b65d-e655-46e7-9d76-9c079aca3f08"
      },
      "source": [
        "'hello'.rjust(10, \"-\")"
      ],
      "execution_count": 0,
      "outputs": [
        {
          "output_type": "execute_result",
          "data": {
            "text/plain": [
              "'-----hello'"
            ]
          },
          "metadata": {
            "tags": []
          },
          "execution_count": 61
        }
      ]
    },
    {
      "cell_type": "code",
      "metadata": {
        "id": "15AsuIHdnsKf",
        "colab_type": "code",
        "colab": {},
        "outputId": "06152368-d519-43f7-c171-2a7e80e8ac5f"
      },
      "source": [
        "'hello'.center(20,\"&\")"
      ],
      "execution_count": 0,
      "outputs": [
        {
          "output_type": "execute_result",
          "data": {
            "text/plain": [
              "'&&&&&&&hello&&&&&&&&'"
            ]
          },
          "metadata": {
            "tags": []
          },
          "execution_count": 63
        }
      ]
    },
    {
      "cell_type": "code",
      "metadata": {
        "id": "3rfNzUHTnsKi",
        "colab_type": "code",
        "colab": {}
      },
      "source": [
        "def price_board(items_dict, left_width, right_width):\n",
        "    print('Breakfast Specials'.center(left_width + right_width, '='))\n",
        "    for k, v in items_dict.items():\n",
        "        print(k.ljust(left_width, '.') + str(v).rjust(right_width))\n"
      ],
      "execution_count": 0,
      "outputs": []
    },
    {
      "cell_type": "code",
      "metadata": {
        "id": "xmaJt6TDnsKm",
        "colab_type": "code",
        "colab": {}
      },
      "source": [
        "breakfast_specials = {'oats': 3.95, 'banana': .95, \n",
        "                      'eggs': 2.50, 'milk': 1.95, 'coffee':2.50}"
      ],
      "execution_count": 0,
      "outputs": []
    },
    {
      "cell_type": "code",
      "metadata": {
        "id": "yjdM6y_UnsKp",
        "colab_type": "code",
        "colab": {},
        "outputId": "adaeb605-46e7-4128-9cce-b2ed088ca6a1"
      },
      "source": [
        "price_board(breakfast_specials,40,5)"
      ],
      "execution_count": 0,
      "outputs": [
        {
          "output_type": "stream",
          "text": [
            "==============Breakfast Specials=============\n",
            "oats.................................... 3.95\n",
            "banana.................................. 0.95\n",
            "eggs....................................  2.5\n",
            "milk.................................... 1.95\n",
            "coffee..................................  2.5\n"
          ],
          "name": "stdout"
        }
      ]
    },
    {
      "cell_type": "code",
      "metadata": {
        "id": "rvDWHzIJnsKt",
        "colab_type": "code",
        "colab": {},
        "outputId": "7219d9eb-7b7c-4683-e20a-c660a9c1cd52"
      },
      "source": [
        "price_board(breakfast_specials,24,10)"
      ],
      "execution_count": 0,
      "outputs": [
        {
          "output_type": "stream",
          "text": [
            "========Breakfast Specials========\n",
            "oats....................      3.95\n",
            "banana..................      0.95\n",
            "eggs....................       2.5\n",
            "milk....................      1.95\n",
            "coffee..................       2.5\n"
          ],
          "name": "stdout"
        }
      ]
    },
    {
      "cell_type": "markdown",
      "metadata": {
        "id": "ev6ySy9cnsKv",
        "colab_type": "text"
      },
      "source": [
        "## rstrip, lstrip, strip\n",
        "- strip off whitespace\n",
        "    - spaces\n",
        "    - tabs"
      ]
    },
    {
      "cell_type": "code",
      "metadata": {
        "id": "I9dD5qu5nsKw",
        "colab_type": "code",
        "colab": {},
        "outputId": "25aebf51-77b2-4776-848e-1e87843ecac9"
      },
      "source": [
        "'    Hello World     '.strip() # both left and right"
      ],
      "execution_count": 0,
      "outputs": [
        {
          "output_type": "execute_result",
          "data": {
            "text/plain": [
              "'Hello World'"
            ]
          },
          "metadata": {
            "tags": []
          },
          "execution_count": 96
        }
      ]
    },
    {
      "cell_type": "code",
      "metadata": {
        "id": "-jmkqsEGnsKz",
        "colab_type": "code",
        "colab": {},
        "outputId": "d20220aa-16d9-4812-ee60-a417100741fa"
      },
      "source": [
        "'    Hello World     '.lstrip() # left"
      ],
      "execution_count": 0,
      "outputs": [
        {
          "output_type": "execute_result",
          "data": {
            "text/plain": [
              "'Hello World     '"
            ]
          },
          "metadata": {
            "tags": []
          },
          "execution_count": 97
        }
      ]
    },
    {
      "cell_type": "code",
      "metadata": {
        "id": "UQANzsAansK6",
        "colab_type": "code",
        "colab": {},
        "outputId": "b2835268-83d1-4d69-ac85-7a13c2ba4a5f"
      },
      "source": [
        "'    Hello World     '.rstrip() # right"
      ],
      "execution_count": 0,
      "outputs": [
        {
          "output_type": "execute_result",
          "data": {
            "text/plain": [
              "'    Hello World'"
            ]
          },
          "metadata": {
            "tags": []
          },
          "execution_count": 98
        }
      ]
    },
    {
      "cell_type": "code",
      "metadata": {
        "id": "X-7BKat7nsK8",
        "colab_type": "code",
        "colab": {},
        "outputId": "f41cdaee-3443-4122-ca36-1714c4c98d72"
      },
      "source": [
        "'======Breakfast Specials======'.strip('=')"
      ],
      "execution_count": 0,
      "outputs": [
        {
          "output_type": "execute_result",
          "data": {
            "text/plain": [
              "'Breakfast Specials'"
            ]
          },
          "metadata": {
            "tags": []
          },
          "execution_count": 100
        }
      ]
    },
    {
      "cell_type": "markdown",
      "metadata": {
        "id": "DNxP44DMnsK_",
        "colab_type": "text"
      },
      "source": [
        "## Copy and Paste with Pyperclip\n",
        "- The pyperclip module has copy() and paste() functions that can send text to and receive text from your computer’s clipboard. \n",
        "- Sending the output of your program to the clipboard will make it easy to paste it to an email, word processor, or some other software."
      ]
    },
    {
      "cell_type": "code",
      "metadata": {
        "id": "qbnwDFZ-nsLA",
        "colab_type": "code",
        "colab": {}
      },
      "source": [
        "import pyperclip\n",
        "#pyperclip.copy('Hello world!')"
      ],
      "execution_count": 0,
      "outputs": []
    },
    {
      "cell_type": "code",
      "metadata": {
        "id": "9-UidgxLnsLC",
        "colab_type": "code",
        "colab": {}
      },
      "source": [
        "# try ctrl + v"
      ],
      "execution_count": 0,
      "outputs": []
    },
    {
      "cell_type": "code",
      "metadata": {
        "id": "-EYMISrDnsLE",
        "colab_type": "code",
        "colab": {},
        "outputId": "d3c2ac49-f027-400b-9e82-40a897d14347"
      },
      "source": [
        "pyperclip.paste()"
      ],
      "execution_count": 0,
      "outputs": [
        {
          "output_type": "execute_result",
          "data": {
            "text/plain": [
              "'Hello world!'"
            ]
          },
          "metadata": {
            "tags": []
          },
          "execution_count": 20
        }
      ]
    },
    {
      "cell_type": "code",
      "metadata": {
        "id": "b45_KFeXnsLG",
        "colab_type": "code",
        "colab": {}
      },
      "source": [
        "# Copy and paste anything"
      ],
      "execution_count": 0,
      "outputs": []
    },
    {
      "cell_type": "code",
      "metadata": {
        "id": "0CCijADMnsLI",
        "colab_type": "code",
        "colab": {},
        "outputId": "d3ce5da0-92b4-4c3b-a6f8-145f96f24c9f"
      },
      "source": [
        "pyperclip.paste()"
      ],
      "execution_count": 0,
      "outputs": [
        {
          "output_type": "execute_result",
          "data": {
            "text/plain": [
              "\"In Automate the Boring Stuff with Python, you'll learn how to use Python to write programs that do in minutes what would take you hours to do by hand-no prior programming experience required. Once you've mastered the basics of programming, you'll create Python programs that effortlessly perform useful and impressive feats of automation to:\""
            ]
          },
          "metadata": {
            "tags": []
          },
          "execution_count": 22
        }
      ]
    }
  ]
}