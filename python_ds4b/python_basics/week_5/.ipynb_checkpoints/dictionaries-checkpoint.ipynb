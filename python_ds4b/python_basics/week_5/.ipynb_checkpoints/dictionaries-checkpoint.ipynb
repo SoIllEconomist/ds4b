{
 "cells": [
  {
   "cell_type": "markdown",
   "metadata": {},
   "source": [
    "# Dictionaries\n",
    "- **Dictionary**: is a collection of many values\n",
    "- Unlike **lists** which use numeric indexes\n",
    "    - **Dictionaries** use different data types\n",
    "- Dictionary index: **keys**\n",
    "    - associate with a **value**\n",
    "    - **key-value pair**\n",
    "- Create a dictionary using `{}` braces"
   ]
  },
  {
   "cell_type": "code",
   "execution_count": 1,
   "metadata": {},
   "outputs": [],
   "source": [
    "me = {'size':'fat', 'eyes':'blue', 'age':32, 'married':True}"
   ]
  },
  {
   "cell_type": "code",
   "execution_count": 2,
   "metadata": {},
   "outputs": [
    {
     "data": {
      "text/plain": [
       "32"
      ]
     },
     "execution_count": 2,
     "metadata": {},
     "output_type": "execute_result"
    }
   ],
   "source": [
    "me['age']"
   ]
  },
  {
   "cell_type": "code",
   "execution_count": 3,
   "metadata": {},
   "outputs": [
    {
     "data": {
      "text/plain": [
       "True"
      ]
     },
     "execution_count": 3,
     "metadata": {},
     "output_type": "execute_result"
    }
   ],
   "source": [
    "me['married']"
   ]
  },
  {
   "cell_type": "code",
   "execution_count": 4,
   "metadata": {},
   "outputs": [
    {
     "data": {
      "text/plain": [
       "{'size': 'fat', 'eyes': 'blue', 'age': 32, 'married': True}"
      ]
     },
     "execution_count": 4,
     "metadata": {},
     "output_type": "execute_result"
    }
   ],
   "source": [
    "me"
   ]
  },
  {
   "cell_type": "markdown",
   "metadata": {},
   "source": [
    "## Dictionaries\n",
    "- Dictionaries are **unordered**\n",
    "    - They CANNOT be sliced"
   ]
  },
  {
   "cell_type": "code",
   "execution_count": 4,
   "metadata": {},
   "outputs": [
    {
     "ename": "KeyError",
     "evalue": "'thing'",
     "output_type": "error",
     "traceback": [
      "\u001b[0;31m---------------------------------------------------------------------------\u001b[0m",
      "\u001b[0;31mKeyError\u001b[0m                                  Traceback (most recent call last)",
      "\u001b[0;32m<ipython-input-4-b44993249a65>\u001b[0m in \u001b[0;36m<module>\u001b[0;34m()\u001b[0m\n\u001b[0;32m----> 1\u001b[0;31m \u001b[0mme\u001b[0m\u001b[0;34m[\u001b[0m\u001b[0;34m'thing'\u001b[0m\u001b[0;34m]\u001b[0m\u001b[0;34m\u001b[0m\u001b[0m\n\u001b[0m",
      "\u001b[0;31mKeyError\u001b[0m: 'thing'"
     ]
    }
   ],
   "source": [
    "me['thing'] # Accessing a key that does not exist"
   ]
  },
  {
   "cell_type": "markdown",
   "metadata": {},
   "source": [
    "## Password Example\n",
    "- Create a program that stores data \n",
    "    - **keys** allow you to organize data in useful ways\n",
    "- In this example we are going to create a (basic) password keeper "
   ]
  },
  {
   "cell_type": "code",
   "execution_count": 5,
   "metadata": {},
   "outputs": [
    {
     "name": "stdout",
     "output_type": "stream",
     "text": [
      "Enter an account name: (blank to quit)\n",
      "Facebook\n",
      "12345 is the password for your Facebook account.\n",
      "Enter an account name: (blank to quit)\n",
      "Bank Account\n",
      "password is the password for your Bank Account account.\n",
      "Enter an account name: (blank to quit)\n",
      "Bank Account 2\n",
      "I do not have that account on file.\n",
      "Please enter the password for the new account.\n",
      "password2\n",
      "Password database updated.\n",
      "Enter an account name: (blank to quit)\n",
      "\n"
     ]
    }
   ],
   "source": [
    "# Create initial database\n",
    "passwords = {'Facebook':12345,'LinkedIn': 54321, \n",
    "             'Bank Account': 'password'} \n",
    "\n",
    "while True:\n",
    "    acct = input('Enter an account name: (blank to quit)\\n')\n",
    "    if acct =='':\n",
    "        break\n",
    "        \n",
    "    if acct in passwords: # Check if the account exists\n",
    "        print('{password} is the password for your {account} account.'.format(password=passwords[acct],account=acct)) # Format the message\n",
    "    else:\n",
    "        print('I do not have that account on file.')\n",
    "        # Add  new password to the dictionary if it does not exist already\n",
    "        passwords[acct] = input('Please enter the password for the new account.\\n')\n",
    "        print('Password database updated.')\n",
    "        \n",
    "    "
   ]
  },
  {
   "cell_type": "code",
   "execution_count": 2,
   "metadata": {},
   "outputs": [
    {
     "data": {
      "text/plain": [
       "{'Facebook': 12345,\n",
       " 'LinkedIn': 54321,\n",
       " 'Bank Account': 'password',\n",
       " 'Bank Account 2': 'Give Me My Money'}"
      ]
     },
     "execution_count": 2,
     "metadata": {},
     "output_type": "execute_result"
    }
   ],
   "source": [
    "passwords"
   ]
  },
  {
   "cell_type": "markdown",
   "metadata": {},
   "source": [
    "## keys, values, items methods\n",
    "- Three dictionary methods that will return dict_\\* data types\n",
    "    -`dict_keys`, `dict_values`, `dict_items`\n",
    "    - These can be used in `for` loops successfully"
   ]
  },
  {
   "cell_type": "code",
   "execution_count": 9,
   "metadata": {},
   "outputs": [],
   "source": [
    "me = {'size':'fat', 'eyes':'blue','age':32,'married':True}"
   ]
  },
  {
   "cell_type": "code",
   "execution_count": 8,
   "metadata": {},
   "outputs": [
    {
     "name": "stdout",
     "output_type": "stream",
     "text": [
      "fat\n",
      "blue\n",
      "32\n",
      "True\n"
     ]
    }
   ],
   "source": [
    "for value in me.values():\n",
    "    print(value)"
   ]
  },
  {
   "cell_type": "markdown",
   "metadata": {},
   "source": [
    "- `for` loop iterates over each of the values in the `me` dictionary\n",
    "    - `for` loop can iterate over keys, or both keys and values"
   ]
  },
  {
   "cell_type": "code",
   "execution_count": 15,
   "metadata": {},
   "outputs": [
    {
     "name": "stdout",
     "output_type": "stream",
     "text": [
      "size\n",
      "eyes\n",
      "age\n",
      "married\n"
     ]
    }
   ],
   "source": [
    "for k in me.keys():\n",
    "    print(k)"
   ]
  },
  {
   "cell_type": "code",
   "execution_count": 16,
   "metadata": {},
   "outputs": [
    {
     "name": "stdout",
     "output_type": "stream",
     "text": [
      "('size', 'fat')\n",
      "('eyes', 'blue')\n",
      "('age', 32)\n",
      "('married', True)\n"
     ]
    }
   ],
   "source": [
    "for i in me.items():\n",
    "    print(i)"
   ]
  },
  {
   "cell_type": "code",
   "execution_count": 18,
   "metadata": {},
   "outputs": [
    {
     "name": "stdout",
     "output_type": "stream",
     "text": [
      "Key: size\t Value: fat\n",
      "Key: eyes\t Value: blue\n",
      "Key: age\t Value: 32\n",
      "Key: married\t Value: True\n"
     ]
    }
   ],
   "source": [
    "for k,v in me.items():\n",
    "    print('Key: {k}\\t Value: {v}'.format(k=k, v=v))"
   ]
  },
  {
   "cell_type": "markdown",
   "metadata": {},
   "source": [
    "## Check Whether a Key or Value Exists in a Dictionary\n",
    "- Remember the `in` and `not in` operators\n",
    "    - Use these along with the `keys`, `values` methods"
   ]
  },
  {
   "cell_type": "code",
   "execution_count": 19,
   "metadata": {},
   "outputs": [
    {
     "data": {
      "text/plain": [
       "False"
      ]
     },
     "execution_count": 19,
     "metadata": {},
     "output_type": "execute_result"
    }
   ],
   "source": [
    "'name' in me.keys()"
   ]
  },
  {
   "cell_type": "code",
   "execution_count": 20,
   "metadata": {},
   "outputs": [
    {
     "data": {
      "text/plain": [
       "False"
      ]
     },
     "execution_count": 20,
     "metadata": {},
     "output_type": "execute_result"
    }
   ],
   "source": [
    "'32' in me.values() # It knows the difference between strings and ints"
   ]
  },
  {
   "cell_type": "code",
   "execution_count": 21,
   "metadata": {},
   "outputs": [
    {
     "data": {
      "text/plain": [
       "True"
      ]
     },
     "execution_count": 21,
     "metadata": {},
     "output_type": "execute_result"
    }
   ],
   "source": [
    "32 in me.values()"
   ]
  },
  {
   "cell_type": "code",
   "execution_count": 22,
   "metadata": {},
   "outputs": [
    {
     "data": {
      "text/plain": [
       "True"
      ]
     },
     "execution_count": 22,
     "metadata": {},
     "output_type": "execute_result"
    }
   ],
   "source": [
    "'eyes' in me.keys()"
   ]
  },
  {
   "cell_type": "markdown",
   "metadata": {},
   "source": [
    "## get method\n",
    "- It's troublesome to test whether a key exists in a dictionary\n",
    "    - dictionaries have the `get` method\n",
    "    - `get` takes two arguments\n",
    "        1. the `key` of the value to retrieve\n",
    "        2. the `fallback` value if the key does not exist"
   ]
  },
  {
   "cell_type": "markdown",
   "metadata": {},
   "source": [
    "## Recipe Example\n"
   ]
  },
  {
   "cell_type": "code",
   "execution_count": 11,
   "metadata": {},
   "outputs": [
    {
     "name": "stdout",
     "output_type": "stream",
     "text": [
      "Pick an ingredient: (blank to exit)\n",
      "beans\n",
      "The recipe calls for NONE beans.\n",
      "Pick an ingredient: (blank to exit)\n",
      "\n"
     ]
    }
   ],
   "source": [
    "# Cheap Fruit Salad\n",
    "recipe = {'apple': 1, 'bananas': 2, 'grapes': 6}\n",
    "\n",
    "while True:\n",
    "    ing = input('Pick an ingredient: (blank to exit)\\n')\n",
    "    if ing =='':\n",
    "        break\n",
    "    print('The recipe calls for {num} {fruit}.'.format(num=recipe.get(ing,0), fruit=ing))"
   ]
  },
  {
   "cell_type": "markdown",
   "metadata": {},
   "source": [
    "## setdefault method\n",
    "- In the Password example we use get to set a default value for any item that did not exist\n",
    "- `setdefault` offers a way to do this in one line of code\n",
    "- `setdefault` ensures that a key exists"
   ]
  },
  {
   "cell_type": "markdown",
   "metadata": {},
   "source": [
    "## Occurance Counter\n",
    "- Program counts the number of occurances of each letter in a string.\n",
    "- `setdefault` ensures that the key is in the dictionary"
   ]
  },
  {
   "cell_type": "code",
   "execution_count": 28,
   "metadata": {},
   "outputs": [
    {
     "name": "stdout",
     "output_type": "stream",
     "text": [
      "{'T': 1, 'h': 2, 'e': 3, ' ': 8, 'q': 1, 'u': 2, 'i': 1, 'c': 1, 'k': 1, 'b': 1, 'r': 2, 'o': 4, 'w': 1, 'n': 1, 'f': 1, 'x': 1, 'j': 1, 'm': 1, 'p': 1, 's': 1, 'v': 1, 't': 1, 'l': 1, 'a': 1, 'z': 1, 'y': 1, 'd': 1, 'g': 1}\n"
     ]
    }
   ],
   "source": [
    "message = 'The quick brown fox jumps over the lazy dog'\n",
    "count = {}\n",
    "for c in message:\n",
    "    count.setdefault(c,0)\n",
    "    count[c] += 1\n",
    "    \n",
    "print(count)"
   ]
  },
  {
   "cell_type": "markdown",
   "metadata": {},
   "source": [
    "## Pretty Print\n",
    "- The above output is a bit troublesome to read\n",
    "- We can use the `pprint` module\n",
    "- This helps when you want a clean display of your data"
   ]
  },
  {
   "cell_type": "code",
   "execution_count": 29,
   "metadata": {},
   "outputs": [
    {
     "name": "stdout",
     "output_type": "stream",
     "text": [
      "{' ': 8,\n",
      " 'T': 1,\n",
      " 'a': 1,\n",
      " 'b': 1,\n",
      " 'c': 1,\n",
      " 'd': 1,\n",
      " 'e': 3,\n",
      " 'f': 1,\n",
      " 'g': 1,\n",
      " 'h': 2,\n",
      " 'i': 1,\n",
      " 'j': 1,\n",
      " 'k': 1,\n",
      " 'l': 1,\n",
      " 'm': 1,\n",
      " 'n': 1,\n",
      " 'o': 4,\n",
      " 'p': 1,\n",
      " 'q': 1,\n",
      " 'r': 2,\n",
      " 's': 1,\n",
      " 't': 1,\n",
      " 'u': 2,\n",
      " 'v': 1,\n",
      " 'w': 1,\n",
      " 'x': 1,\n",
      " 'y': 1,\n",
      " 'z': 1}\n"
     ]
    }
   ],
   "source": [
    "import pprint # This is new\n",
    "message = 'The quick brown fox jumps over the lazy dog'\n",
    "count = {}\n",
    "for c in message:\n",
    "    count.setdefault(c,0)\n",
    "    count[c] += 1\n",
    "    \n",
    "pprint.pprint(count) # This changed"
   ]
  },
  {
   "cell_type": "markdown",
   "metadata": {},
   "source": [
    "## Nested Dictionaries and Lists\n",
    "- As you model more complicated things, you find that you need \n",
    "    - dictionaries/lists that contain other dictionaries and lists.\n",
    "- **Lists**: help order series of values\n",
    "- **Dictionaries**: help associate keys with values\n"
   ]
  },
  {
   "cell_type": "markdown",
   "metadata": {},
   "source": [
    "## Company picnic example\n",
    "- Program uses nested dictionaries to see what employees are bringing to a picnic\n",
    "- We will create a function that can read the data setructure and calculate the total number of items being broaught by all of the employees"
   ]
  },
  {
   "cell_type": "code",
   "execution_count": 47,
   "metadata": {},
   "outputs": [
    {
     "name": "stdout",
     "output_type": "stream",
     "text": [
      "Number of things being brought:\n",
      "1. apples 9\n",
      "2. tequila 1\n",
      "3. hotdogs 10\n",
      "4. cups 10\n",
      "5. forks 2\n",
      "6. pretzels 12\n"
     ]
    }
   ],
   "source": [
    "employees = {'Alex': {'apples':5, 'pretzels':12},\n",
    "            'Brittany': {'hotdogs': 10, 'apples':4},\n",
    "            'Eli': {'cups': 10, 'forks': 2, 'tequila': 1}}\n",
    "\n",
    "def unique(people): # Iterate over the key, value pairs in employees\n",
    "    unique_item = []\n",
    "    for k, v in people.items():\n",
    "        unique_item += list(v.keys()) # Concate list of keys to unique_list\n",
    "    return set(unique_item) # use set to find only unique items\n",
    "\n",
    "def brought(people, item): # Iterate over the key, value pairs in employees\n",
    "    num_brought = 0\n",
    "    for k, v in people.items():\n",
    "        num_brought += v.get(item,0) # If the item exists as a key, it's value is added \n",
    "                                     # If not, get method returns 0 to be added to num_brought\n",
    "    return num_brought\n",
    "\n",
    "print('Number of things being brought:')\n",
    "unique_item = unique(employees) # Find the unique items from the employees dictionary\n",
    "for i, thing in enumerate(unique_item): # iterate over the unique_item set\n",
    "    print('{num}. {thing} {num_thing}'\\\n",
    "          .format(num = i+1, thing = thing, num_thing = brought(employees, thing)))\n",
    "    # Format the string to create a list of things being brought to the picnic"
   ]
  },
  {
   "cell_type": "markdown",
   "metadata": {},
   "source": [
    "## Summary and Discussion\n",
    "- This may seem like a simple task to model\n",
    "- Easy enought to do with pen and paper\n",
    "- But notice that this program could handle a dictionary with THOUSANDS of employees, each bringing THOUSANDS of differnt things to the picnic"
   ]
  },
  {
   "cell_type": "markdown",
   "metadata": {},
   "source": [
    "## Summary\n",
    "\n",
    "- You can model things with data structures in whatever way you want\n",
    "- When you first start programming, don't worry abut the right way to model something. \n",
    "    - Just gain the experience, you may come up with more efficient models, but the important thing is that the model WORKS for your programs NEEDS!"
   ]
  },
  {
   "cell_type": "code",
   "execution_count": null,
   "metadata": {},
   "outputs": [],
   "source": []
  }
 ],
 "metadata": {
  "kernelspec": {
   "display_name": "Python 3",
   "language": "python",
   "name": "python3"
  },
  "language_info": {
   "codemirror_mode": {
    "name": "ipython",
    "version": 3
   },
   "file_extension": ".py",
   "mimetype": "text/x-python",
   "name": "python",
   "nbconvert_exporter": "python",
   "pygments_lexer": "ipython3",
   "version": "3.6.5"
  }
 },
 "nbformat": 4,
 "nbformat_minor": 2
}
