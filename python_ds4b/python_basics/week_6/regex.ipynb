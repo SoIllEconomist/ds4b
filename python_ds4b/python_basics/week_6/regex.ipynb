{
  "nbformat": 4,
  "nbformat_minor": 0,
  "metadata": {
    "kernelspec": {
      "display_name": "Python 3",
      "language": "python",
      "name": "python3"
    },
    "language_info": {
      "codemirror_mode": {
        "name": "ipython",
        "version": 3
      },
      "file_extension": ".py",
      "mimetype": "text/x-python",
      "name": "python",
      "nbconvert_exporter": "python",
      "pygments_lexer": "ipython3",
      "version": "3.6.5"
    },
    "colab": {
      "name": "regex.ipynb",
      "provenance": [],
      "include_colab_link": true
    }
  },
  "cells": [
    {
      "cell_type": "markdown",
      "metadata": {
        "id": "view-in-github",
        "colab_type": "text"
      },
      "source": [
        "<a href=\"https://colab.research.google.com/github/SoIllEconomist/ds4b/blob/master/python_ds4b/python_basics/week_6/regex.ipynb\" target=\"_parent\"><img src=\"https://colab.research.google.com/assets/colab-badge.svg\" alt=\"Open In Colab\"/></a>"
      ]
    },
    {
      "cell_type": "markdown",
      "metadata": {
        "id": "aeysF8nTn0C6",
        "colab_type": "text"
      },
      "source": [
        "# Pattern Matching and Regular Expressions\n",
        "\n",
        "- You may be familiar with searching for text by pressing `CTRL-F` and typing in the words you’re looking for\n",
        "- **Regular expressions** go one step further: \n",
        "    - They allow you to specify a pattern of text to search for"
      ]
    },
    {
      "cell_type": "markdown",
      "metadata": {
        "id": "6b_x_9iXn0C9",
        "colab_type": "text"
      },
      "source": [
        "## Regular Expressions\n",
        "- Regular expressions are helpful, but not many non-programmers know about them even though most modern text editors and word processors\n",
        "- have find and find-and-replace features that can search based on regular expressions\n",
        "- Regular expressions are huge time-savers"
      ]
    },
    {
      "cell_type": "markdown",
      "metadata": {
        "id": "WZTtf7DHn0C_",
        "colab_type": "text"
      },
      "source": [
        "## Regular Expressions\n",
        "“Knowing [regular expressions] can mean the difference between solving a problem in 3 steps and solving it in 3,000 steps. When you’re a nerd, you forget that the problems you solve with a couple keystrokes can take other people days of tedious, error-prone work to slog through.” - Cory Doctorow"
      ]
    },
    {
      "cell_type": "markdown",
      "metadata": {
        "id": "jexpS0Bon0DA",
        "colab_type": "text"
      },
      "source": [
        "## Regular Expressions\n",
        "- Regular expressions, called *regexes* for short, are descriptions for a pattern of text\n",
        "- For example, a `\\d` in a regex stands for a digit character—that is, any single numeral 0 to 9.\n",
        "- The regex `\\d\\d\\d-\\d\\d\\d-\\d\\d\\d\\d` is used by Python to match text\n",
        "    - 888-888-8888"
      ]
    },
    {
      "cell_type": "markdown",
      "metadata": {
        "id": "LgNCAl3Xn0DB",
        "colab_type": "text"
      },
      "source": [
        "## Regular Expressions\n",
        "- Regular expressions can be more sophisticated\n",
        "    - Shorter regex `\\d{3}-\\d{3}-\\d{4}`\n",
        "    - `{3}` $\\implies$ 'Match this pattern three times'"
      ]
    },
    {
      "cell_type": "markdown",
      "metadata": {
        "id": "yQMYeMmTn0DC",
        "colab_type": "text"
      },
      "source": [
        "## Create Regex Objects\n",
        "- Regex functions are in the `re` module"
      ]
    },
    {
      "cell_type": "code",
      "metadata": {
        "id": "KSwVhO_Jn0DD",
        "colab_type": "code",
        "colab": {}
      },
      "source": [
        "import re"
      ],
      "execution_count": 0,
      "outputs": []
    },
    {
      "cell_type": "markdown",
      "metadata": {
        "id": "glkSesUzn0DH",
        "colab_type": "text"
      },
      "source": [
        "- Passing a string value representing your regular expression to `re.compile()` returns a Regex object\n",
        "- Create a Regex object that matches the phone number pattern\n",
        "- Pass a `raw string` to `re.compile()`"
      ]
    },
    {
      "cell_type": "code",
      "metadata": {
        "id": "SLVcJ34zn0DI",
        "colab_type": "code",
        "colab": {}
      },
      "source": [
        "phone_regex = re.compile(r'\\d\\d\\d-\\d\\d\\d-\\d\\d\\d\\d')"
      ],
      "execution_count": 0,
      "outputs": []
    },
    {
      "cell_type": "markdown",
      "metadata": {
        "id": "w-EGklWLn0DL",
        "colab_type": "text"
      },
      "source": [
        "- `phone_regex` now contains a Regex object"
      ]
    },
    {
      "cell_type": "markdown",
      "metadata": {
        "id": "jNCN2Zjyn0DM",
        "colab_type": "text"
      },
      "source": [
        "## Match Regex Objects\n",
        "- A Regex object `search()` method searches the string it is passed for any matches to the regex.\n",
        "- `search()` method returns `None` if the regex patter is not found in the string"
      ]
    },
    {
      "cell_type": "markdown",
      "metadata": {
        "id": "i1uSLnI3n0DN",
        "colab_type": "text"
      },
      "source": [
        "## Match Regex Objects\n",
        "- If the pattern is found, the `search()` method returns a `Match`\n",
        "- `Match` objects have a `group()` method"
      ]
    },
    {
      "cell_type": "code",
      "metadata": {
        "id": "71f0fzCkn0DO",
        "colab_type": "code",
        "colab": {}
      },
      "source": [
        "mo = phone_regex.search('My number is 123-456-7890.')"
      ],
      "execution_count": 0,
      "outputs": []
    },
    {
      "cell_type": "code",
      "metadata": {
        "id": "PcB5JqsNn0DR",
        "colab_type": "code",
        "colab": {},
        "outputId": "79a430b6-39f7-4257-b6b5-5394566eff60"
      },
      "source": [
        "print(mo.group())"
      ],
      "execution_count": 0,
      "outputs": [
        {
          "output_type": "stream",
          "text": [
            "123-456-7890\n"
          ],
          "name": "stdout"
        }
      ]
    },
    {
      "cell_type": "markdown",
      "metadata": {
        "id": "3Pi7jCP0n0DV",
        "colab_type": "text"
      },
      "source": [
        "## Review of Regex\n",
        "While there are several steps to using regular expressions in Python, each step is fairly simple.\n",
        "\n",
        "1. Import the regex module with import re.\n",
        "\n",
        "2. Create a Regex object with the re.compile() function. (Remember to use a raw string.)\n",
        "\n",
        "3. Pass the string you want to search into the Regex object’s search() method. This returns a Match object.\n",
        "\n",
        "4. Call the Match object’s group() method to return a string of the actual matched text."
      ]
    },
    {
      "cell_type": "markdown",
      "metadata": {
        "id": "uyBPQoZVn0DW",
        "colab_type": "text"
      },
      "source": [
        "## Group with Parentheses\n",
        "- Say you want to separate the area code from the rest of the phone number\n",
        "- Adding parentheses will create groups in the regex: \n",
        "    - `(\\d\\d\\d)-(\\d\\d\\d-\\d\\d\\d\\d)`\n",
        "- Then you can use the `group()` match object method to grab the matching text from just one group"
      ]
    },
    {
      "cell_type": "markdown",
      "metadata": {
        "id": "aJPiUQP_n0DX",
        "colab_type": "text"
      },
      "source": [
        "## Group with Paraentheses\n",
        "- The first set of parentheses in a regex string will be group 1. \n",
        "- The second set will be group 2. \n",
        "- By passing the integer 1 or 2 to the group() match object method, you can grab different parts of the matched text. \n",
        "- Passing 0 or nothing to the group() method will return the entire matched text. "
      ]
    },
    {
      "cell_type": "code",
      "metadata": {
        "id": "kAU7Shinn0DX",
        "colab_type": "code",
        "colab": {},
        "outputId": "04042790-5beb-4c9d-b4a3-bdbee223dbfd"
      },
      "source": [
        "phone_regex = re.compile(r'(\\d\\d\\d)-(\\d\\d\\d-\\d\\d\\d\\d)')\n",
        "mo = phone_regex.search('My number is 123-456-7890.')\n",
        "print(mo.group())\n",
        "print(mo.group(0))\n",
        "print(mo.group(1))\n",
        "print(mo.group(2))"
      ],
      "execution_count": 0,
      "outputs": [
        {
          "output_type": "stream",
          "text": [
            "123-456-7890\n",
            "123-456-7890\n",
            "123\n",
            "456-7890\n"
          ],
          "name": "stdout"
        }
      ]
    },
    {
      "cell_type": "markdown",
      "metadata": {
        "id": "SHG8Q-R-n0Da",
        "colab_type": "text"
      },
      "source": [
        "- If you would like to retrieve all the groups at once, use the groups() method"
      ]
    },
    {
      "cell_type": "markdown",
      "metadata": {
        "id": "QsdIWAAGn0Db",
        "colab_type": "text"
      },
      "source": [
        "- The `\\(` and `\\)` escape characters in the raw string passed to re.compile() will match actual parenthesis characters."
      ]
    },
    {
      "cell_type": "markdown",
      "metadata": {
        "id": "2S4G6ZEmn0Dc",
        "colab_type": "text"
      },
      "source": [
        "## Matching Multiple Groups with Pipe |\n",
        "\n",
        "- `|` is called the pipe operator\n",
        "- Use it where you want to match one of many expressions.\n",
        "- `r'Batman|Robin'` will match either Batman or Robin"
      ]
    },
    {
      "cell_type": "code",
      "metadata": {
        "id": "9m0FVaeUn0Dd",
        "colab_type": "code",
        "colab": {}
      },
      "source": [
        "regex = re.compile(r'Batman|Robin')\n",
        "mo2 = regex.search('Batman and Robin.')"
      ],
      "execution_count": 0,
      "outputs": []
    },
    {
      "cell_type": "code",
      "metadata": {
        "id": "MrLvLIiKn0Dg",
        "colab_type": "code",
        "colab": {},
        "outputId": "3b8fa71f-ed21-42bc-b50f-a822aaf65c7b"
      },
      "source": [
        "mo2.group()"
      ],
      "execution_count": 0,
      "outputs": [
        {
          "output_type": "execute_result",
          "data": {
            "text/plain": [
              "'Batman'"
            ]
          },
          "metadata": {
            "tags": []
          },
          "execution_count": 13
        }
      ]
    },
    {
      "cell_type": "code",
      "metadata": {
        "id": "uinRXe0nn0Dj",
        "colab_type": "code",
        "colab": {}
      },
      "source": [
        "mo3 = regex.search('Robin and Batman.')"
      ],
      "execution_count": 0,
      "outputs": []
    },
    {
      "cell_type": "code",
      "metadata": {
        "id": "vS3bh2N4n0Dm",
        "colab_type": "code",
        "colab": {},
        "outputId": "841ea8c6-a7d8-4e9f-82cd-7e03d21d3e5b"
      },
      "source": [
        "mo3.group()"
      ],
      "execution_count": 0,
      "outputs": [
        {
          "output_type": "execute_result",
          "data": {
            "text/plain": [
              "'Robin'"
            ]
          },
          "metadata": {
            "tags": []
          },
          "execution_count": 15
        }
      ]
    },
    {
      "cell_type": "markdown",
      "metadata": {
        "id": "Zl5BrliPn0Dv",
        "colab_type": "text"
      },
      "source": [
        "## Matching Multiple Groups with Pipe |\n",
        "- use the pipe to match one of several patterns as part of your regex"
      ]
    },
    {
      "cell_type": "code",
      "metadata": {
        "id": "YyW649nOn0Dw",
        "colab_type": "code",
        "colab": {}
      },
      "source": [
        "regex = re.compile(r'Bat(man|mobile|copter|bat)')"
      ],
      "execution_count": 0,
      "outputs": []
    },
    {
      "cell_type": "code",
      "metadata": {
        "id": "KXCIxh8mn0Dz",
        "colab_type": "code",
        "colab": {},
        "outputId": "cbc5d880-5c56-4b53-fdd1-e5a5fcd890e1"
      },
      "source": [
        "mo = regex.search('Batmobile lost a wheel.')\n",
        "mo.group()"
      ],
      "execution_count": 0,
      "outputs": [
        {
          "output_type": "execute_result",
          "data": {
            "text/plain": [
              "'Batmobile'"
            ]
          },
          "metadata": {
            "tags": []
          },
          "execution_count": 21
        }
      ]
    },
    {
      "cell_type": "markdown",
      "metadata": {
        "id": "kG6pKK-qn0D2",
        "colab_type": "text"
      },
      "source": [
        "- If you need to match an actual pipe character, escape it with a backslash, like `\\|`."
      ]
    },
    {
      "cell_type": "markdown",
      "metadata": {
        "id": "M_Q-jJ5Jn0D3",
        "colab_type": "text"
      },
      "source": [
        "## Optional Matching with Question Mark\n",
        "- Sometimes there is a pattern that you want to match only optionally\n",
        "- regex should find a match whether or not that bit of text is there\n",
        "- `?` flags the group that precedes it as an optional part of the pattern"
      ]
    },
    {
      "cell_type": "code",
      "metadata": {
        "id": "PIhflGG9n0D4",
        "colab_type": "code",
        "colab": {},
        "outputId": "a3861d3c-5a07-4a21-f74b-4d4746de3453"
      },
      "source": [
        "regex = re.compile(r'Bat(wo)?man')\n",
        "mo = regex.search('The Adventures of Batman')\n",
        "mo.group()"
      ],
      "execution_count": 0,
      "outputs": [
        {
          "output_type": "execute_result",
          "data": {
            "text/plain": [
              "'Batman'"
            ]
          },
          "metadata": {
            "tags": []
          },
          "execution_count": 22
        }
      ]
    },
    {
      "cell_type": "code",
      "metadata": {
        "id": "bwozW9Xwn0D7",
        "colab_type": "code",
        "colab": {},
        "outputId": "60f61599-c980-4aff-94a2-6b9dff9e3953"
      },
      "source": [
        "mo2 = regex.search('The Adventures of Batwoman')\n",
        "mo2.group()"
      ],
      "execution_count": 0,
      "outputs": [
        {
          "output_type": "execute_result",
          "data": {
            "text/plain": [
              "'Batwoman'"
            ]
          },
          "metadata": {
            "tags": []
          },
          "execution_count": 23
        }
      ]
    },
    {
      "cell_type": "markdown",
      "metadata": {
        "id": "gi_eQHdYn0D_",
        "colab_type": "text"
      },
      "source": [
        "## Optional Matching with Question Mark\n",
        "- The `(wo)?` part of the regular expression means that the pattern wo is an optional group\n",
        "- regex will match text that has zero instances or one instance of wo in it\n"
      ]
    },
    {
      "cell_type": "code",
      "metadata": {
        "id": "jXj0SLGPn0EA",
        "colab_type": "code",
        "colab": {},
        "outputId": "b09b0f69-d9a1-4cc7-c5a1-2599b40b4fe8"
      },
      "source": [
        "phone_regex = re.compile(r'(\\d{3}-)?\\d{3}-\\d{4}')\n",
        "mo = phone_regex.search('My number is 123-456-7890')\n",
        "mo.group()"
      ],
      "execution_count": 0,
      "outputs": [
        {
          "output_type": "execute_result",
          "data": {
            "text/plain": [
              "'123-456-7890'"
            ]
          },
          "metadata": {
            "tags": []
          },
          "execution_count": 25
        }
      ]
    },
    {
      "cell_type": "code",
      "metadata": {
        "id": "Gv0jPZU1n0ED",
        "colab_type": "code",
        "colab": {},
        "outputId": "296b8f0c-df81-44a3-9889-06f64aacc4cf"
      },
      "source": [
        "mo = phone_regex.search('My number is 456-7890')\n",
        "mo.group()"
      ],
      "execution_count": 0,
      "outputs": [
        {
          "output_type": "execute_result",
          "data": {
            "text/plain": [
              "'456-7890'"
            ]
          },
          "metadata": {
            "tags": []
          },
          "execution_count": 26
        }
      ]
    },
    {
      "cell_type": "markdown",
      "metadata": {
        "id": "FMFnBGjVn0EH",
        "colab_type": "text"
      },
      "source": [
        "- You can think of the `?` as saying, “Match zero or one of the group preceding this question mark.”\n",
        "- If you need to match an actual question mark character, escape it with `\\?`"
      ]
    },
    {
      "cell_type": "markdown",
      "metadata": {
        "id": "_8z7iBsOn0EI",
        "colab_type": "text"
      },
      "source": [
        "## Matching Zero or More with asterisk\n",
        "- The `*` means 'match zero or more'"
      ]
    },
    {
      "cell_type": "code",
      "metadata": {
        "id": "YwClfLrJn0EJ",
        "colab_type": "code",
        "colab": {},
        "outputId": "21bf8061-a105-41f9-8834-3cb29e1fd488"
      },
      "source": [
        "regex = re.compile(r'Bat(wo)*man')\n",
        "mo = regex.search('The Adventures of Batman')\n",
        "mo.group()"
      ],
      "execution_count": 0,
      "outputs": [
        {
          "output_type": "execute_result",
          "data": {
            "text/plain": [
              "'Batman'"
            ]
          },
          "metadata": {
            "tags": []
          },
          "execution_count": 27
        }
      ]
    },
    {
      "cell_type": "code",
      "metadata": {
        "id": "6FqGMq_qn0EM",
        "colab_type": "code",
        "colab": {},
        "outputId": "0875e392-0bde-47e7-d495-e20a0a18833b"
      },
      "source": [
        "mo = regex.search('The Adventures of Batwoman')\n",
        "mo.group()"
      ],
      "execution_count": 0,
      "outputs": [
        {
          "output_type": "execute_result",
          "data": {
            "text/plain": [
              "'Batwoman'"
            ]
          },
          "metadata": {
            "tags": []
          },
          "execution_count": 28
        }
      ]
    },
    {
      "cell_type": "code",
      "metadata": {
        "id": "ZgTW48hMn0EO",
        "colab_type": "code",
        "colab": {},
        "outputId": "95317fee-6952-45d7-d9be-eb128350444c"
      },
      "source": [
        "mo = regex.search('The Adventures of Batwowowowowoman')\n",
        "mo.group()"
      ],
      "execution_count": 0,
      "outputs": [
        {
          "output_type": "execute_result",
          "data": {
            "text/plain": [
              "'Batwowowowowoman'"
            ]
          },
          "metadata": {
            "tags": []
          },
          "execution_count": 29
        }
      ]
    },
    {
      "cell_type": "markdown",
      "metadata": {
        "id": "IT6IEBOxn0ER",
        "colab_type": "text"
      },
      "source": [
        "## Matching Zero or More with asterisk\n",
        "- For 'Batman', the `(wo)*` part of the regex matches zero instances of wo in the string; \n",
        "- for 'Batwoman', the `(wo)*` matches one instance of wo; \n",
        "- for 'Batwowowowoman', `(wo)*` matches four instances of wo."
      ]
    },
    {
      "cell_type": "markdown",
      "metadata": {
        "id": "n01dYZjtn0ES",
        "colab_type": "text"
      },
      "source": [
        "## Matching One or More with +\n",
        "- `+` means “match one or more.” \n",
        "- Unlike the star the group preceding a plus must appear at least once. It is not optional."
      ]
    },
    {
      "cell_type": "code",
      "metadata": {
        "id": "DoqOFyMen0ET",
        "colab_type": "code",
        "colab": {}
      },
      "source": [
        "regex = re.compile(r'Bat(wo)+man')"
      ],
      "execution_count": 0,
      "outputs": []
    },
    {
      "cell_type": "code",
      "metadata": {
        "id": "gsQ5stbnn0EV",
        "colab_type": "code",
        "colab": {},
        "outputId": "3452276f-a3e3-4b96-da79-4c0ca0815901"
      },
      "source": [
        "mo = regex.search('The Adventures of Batman')\n",
        "mo == None"
      ],
      "execution_count": 0,
      "outputs": [
        {
          "output_type": "execute_result",
          "data": {
            "text/plain": [
              "True"
            ]
          },
          "metadata": {
            "tags": []
          },
          "execution_count": 32
        }
      ]
    },
    {
      "cell_type": "code",
      "metadata": {
        "id": "eKeTZjWJn0EX",
        "colab_type": "code",
        "colab": {},
        "outputId": "5b1b4b1d-52a9-4e47-e6b8-d0c9a6d5cf8a"
      },
      "source": [
        "mo = regex.search('The Adventures of Batwoman')\n",
        "mo.group()"
      ],
      "execution_count": 0,
      "outputs": [
        {
          "output_type": "execute_result",
          "data": {
            "text/plain": [
              "'Batwoman'"
            ]
          },
          "metadata": {
            "tags": []
          },
          "execution_count": 34
        }
      ]
    },
    {
      "cell_type": "markdown",
      "metadata": {
        "id": "hpzNs0sIn0EZ",
        "colab_type": "text"
      },
      "source": [
        "- The regex Bat(wo)+man will not match the string 'The Adventures of Batman' because at least one wo is required by the plus sign"
      ]
    },
    {
      "cell_type": "markdown",
      "metadata": {
        "id": "2G1wKTUcn0Ea",
        "colab_type": "text"
      },
      "source": [
        "## Matching Specific Repeitions with Curly Brackets\n"
      ]
    }
  ]
}