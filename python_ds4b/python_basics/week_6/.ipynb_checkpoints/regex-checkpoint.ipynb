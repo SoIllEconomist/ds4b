{
 "cells": [
  {
   "cell_type": "markdown",
   "metadata": {},
   "source": [
    "# Pattern Matching and Regular Expressions\n",
    "\n",
    "- You may be familiar with searching for text by pressing `CTRL-F` and typing in the words you’re looking for\n",
    "- **Regular expressions** go one step further: \n",
    "    - They allow you to specify a pattern of text to search for"
   ]
  },
  {
   "cell_type": "markdown",
   "metadata": {},
   "source": [
    "## Regular Expressions\n",
    "- Regular expressions are helpful, but not many non-programmers know about them even though most modern text editors and word processors\n",
    "- have find and find-and-replace features that can search based on regular expressions\n",
    "- Regular expressions are huge time-savers"
   ]
  },
  {
   "cell_type": "markdown",
   "metadata": {},
   "source": [
    "## Regular Expressions\n",
    "“Knowing [regular expressions] can mean the difference between solving a problem in 3 steps and solving it in 3,000 steps. When you’re a nerd, you forget that the problems you solve with a couple keystrokes can take other people days of tedious, error-prone work to slog through.” - Cory Doctorow"
   ]
  },
  {
   "cell_type": "markdown",
   "metadata": {},
   "source": [
    "## Regular Expressions\n",
    "- Regular expressions, called *regexes* for short, are descriptions for a pattern of text\n",
    "- For example, a `\\d` in a regex stands for a digit character—that is, any single numeral 0 to 9.\n",
    "- The regex `\\d\\d\\d-\\d\\d\\d-\\d\\d\\d\\d` is used by Python to match text\n",
    "    - 888-888-8888"
   ]
  },
  {
   "cell_type": "markdown",
   "metadata": {},
   "source": [
    "## Regular Expressions\n",
    "- Regular expressions can be more sophisticated\n",
    "    - Shorter regex `\\d{3}-\\d{3}-\\d{4}`\n",
    "    - `{3}` $\\implies$ 'Match this pattern three times'"
   ]
  },
  {
   "cell_type": "markdown",
   "metadata": {},
   "source": [
    "## Create Regex Objects\n",
    "- Regex functions are in the `re` module"
   ]
  },
  {
   "cell_type": "code",
   "execution_count": 2,
   "metadata": {},
   "outputs": [],
   "source": [
    "import re"
   ]
  },
  {
   "cell_type": "markdown",
   "metadata": {},
   "source": [
    "- Passing a string value representing your regular expression to `re.compile()` returns a Regex object\n",
    "- Create a Regex object that matches the phone number pattern\n",
    "- Pass a `raw string` to `re.compile()`"
   ]
  },
  {
   "cell_type": "code",
   "execution_count": 3,
   "metadata": {},
   "outputs": [],
   "source": [
    "phone_regex = re.compile(r'\\d\\d\\d-\\d\\d\\d-\\d\\d\\d\\d')"
   ]
  },
  {
   "cell_type": "markdown",
   "metadata": {},
   "source": [
    "- `phone_regex` now contains a Regex object"
   ]
  },
  {
   "cell_type": "markdown",
   "metadata": {},
   "source": [
    "## Match Regex Objects\n",
    "- A Regex object `search()` method searches the string it is passed for any matches to the regex.\n",
    "- `search()` method returns `None` if the regex patter is not found in the string"
   ]
  },
  {
   "cell_type": "markdown",
   "metadata": {},
   "source": [
    "## Match Regex Objects\n",
    "- If the pattern is found, the `search()` method returns a `Match`\n",
    "- `Match` objects have a `group()` method"
   ]
  },
  {
   "cell_type": "code",
   "execution_count": 6,
   "metadata": {},
   "outputs": [],
   "source": [
    "mo = phone_regex.search('My number is 123-456-7890.')"
   ]
  },
  {
   "cell_type": "code",
   "execution_count": 5,
   "metadata": {},
   "outputs": [
    {
     "name": "stdout",
     "output_type": "stream",
     "text": [
      "123-456-7890\n"
     ]
    }
   ],
   "source": [
    "print(mo.group())"
   ]
  },
  {
   "cell_type": "markdown",
   "metadata": {},
   "source": [
    "## Review of Regex\n",
    "While there are several steps to using regular expressions in Python, each step is fairly simple.\n",
    "\n",
    "1. Import the regex module with import re.\n",
    "\n",
    "2. Create a Regex object with the re.compile() function. (Remember to use a raw string.)\n",
    "\n",
    "3. Pass the string you want to search into the Regex object’s search() method. This returns a Match object.\n",
    "\n",
    "4. Call the Match object’s group() method to return a string of the actual matched text."
   ]
  },
  {
   "cell_type": "markdown",
   "metadata": {},
   "source": [
    "## Group with Parentheses\n",
    "- Say you want to separate the area code from the rest of the phone number\n",
    "- Adding parentheses will create groups in the regex: \n",
    "    - `(\\d\\d\\d)-(\\d\\d\\d-\\d\\d\\d\\d)`\n",
    "- Then you can use the `group()` match object method to grab the matching text from just one group"
   ]
  },
  {
   "cell_type": "markdown",
   "metadata": {},
   "source": [
    "## Group with Paraentheses\n",
    "- The first set of parentheses in a regex string will be group 1. \n",
    "- The second set will be group 2. \n",
    "- By passing the integer 1 or 2 to the group() match object method, you can grab different parts of the matched text. \n",
    "- Passing 0 or nothing to the group() method will return the entire matched text. "
   ]
  },
  {
   "cell_type": "code",
   "execution_count": 11,
   "metadata": {},
   "outputs": [
    {
     "name": "stdout",
     "output_type": "stream",
     "text": [
      "123-456-7890\n",
      "123-456-7890\n",
      "123\n",
      "456-7890\n"
     ]
    }
   ],
   "source": [
    "phone_regex = re.compile(r'(\\d\\d\\d)-(\\d\\d\\d-\\d\\d\\d\\d)')\n",
    "mo = phone_regex.search('My number is 123-456-7890.')\n",
    "print(mo.group())\n",
    "print(mo.group(0))\n",
    "print(mo.group(1))\n",
    "print(mo.group(2))"
   ]
  },
  {
   "cell_type": "markdown",
   "metadata": {},
   "source": [
    "- If you would like to retrieve all the groups at once, use the groups() method"
   ]
  },
  {
   "cell_type": "markdown",
   "metadata": {},
   "source": [
    "- The `\\(` and `\\)` escape characters in the raw string passed to re.compile() will match actual parenthesis characters."
   ]
  },
  {
   "cell_type": "markdown",
   "metadata": {},
   "source": [
    "## Matching Multiple Groups with Pipe |\n",
    "\n",
    "- `|` is called the pipe operator\n",
    "- Use it where you want to match one of many expressions.\n",
    "- `r'Batman|Robin'` will match either Batman or Robin"
   ]
  },
  {
   "cell_type": "code",
   "execution_count": 12,
   "metadata": {},
   "outputs": [],
   "source": [
    "regex = re.compile(r'Batman|Robin')\n",
    "mo2 = regex.search('Batman and Robin.')"
   ]
  },
  {
   "cell_type": "code",
   "execution_count": 13,
   "metadata": {},
   "outputs": [
    {
     "data": {
      "text/plain": [
       "'Batman'"
      ]
     },
     "execution_count": 13,
     "metadata": {},
     "output_type": "execute_result"
    }
   ],
   "source": [
    "mo2.group()"
   ]
  },
  {
   "cell_type": "code",
   "execution_count": 14,
   "metadata": {},
   "outputs": [],
   "source": [
    "mo3 = regex.search('Robin and Batman.')"
   ]
  },
  {
   "cell_type": "code",
   "execution_count": 15,
   "metadata": {},
   "outputs": [
    {
     "data": {
      "text/plain": [
       "'Robin'"
      ]
     },
     "execution_count": 15,
     "metadata": {},
     "output_type": "execute_result"
    }
   ],
   "source": [
    "mo3.group()"
   ]
  },
  {
   "cell_type": "markdown",
   "metadata": {},
   "source": [
    "## Matching Multiple Groups with Pipe |\n",
    "- use the pipe to match one of several patterns as part of your regex"
   ]
  },
  {
   "cell_type": "code",
   "execution_count": 20,
   "metadata": {},
   "outputs": [],
   "source": [
    "regex = re.compile(r'Bat(man|mobile|copter|bat)')"
   ]
  },
  {
   "cell_type": "code",
   "execution_count": 21,
   "metadata": {},
   "outputs": [
    {
     "data": {
      "text/plain": [
       "'Batmobile'"
      ]
     },
     "execution_count": 21,
     "metadata": {},
     "output_type": "execute_result"
    }
   ],
   "source": [
    "mo = regex.search('Batmobile lost a wheel.')\n",
    "mo.group()"
   ]
  },
  {
   "cell_type": "markdown",
   "metadata": {},
   "source": [
    "- If you need to match an actual pipe character, escape it with a backslash, like `\\|`."
   ]
  },
  {
   "cell_type": "markdown",
   "metadata": {},
   "source": [
    "## Optional Matching with Question Mark\n",
    "- Sometimes there is a pattern that you want to match only optionally\n",
    "- regex should find a match whether or not that bit of text is there\n",
    "- `?` flags the group that precedes it as an optional part of the pattern"
   ]
  },
  {
   "cell_type": "code",
   "execution_count": 22,
   "metadata": {},
   "outputs": [
    {
     "data": {
      "text/plain": [
       "'Batman'"
      ]
     },
     "execution_count": 22,
     "metadata": {},
     "output_type": "execute_result"
    }
   ],
   "source": [
    "regex = re.compile(r'Bat(wo)?man')\n",
    "mo = regex.search('The Adventures of Batman')\n",
    "mo.group()"
   ]
  },
  {
   "cell_type": "code",
   "execution_count": 23,
   "metadata": {},
   "outputs": [
    {
     "data": {
      "text/plain": [
       "'Batwoman'"
      ]
     },
     "execution_count": 23,
     "metadata": {},
     "output_type": "execute_result"
    }
   ],
   "source": [
    "mo2 = regex.search('The Adventures of Batwoman')\n",
    "mo2.group()"
   ]
  },
  {
   "cell_type": "markdown",
   "metadata": {},
   "source": [
    "## Optional Matching with Question Mark\n",
    "- The `(wo)?` part of the regular expression means that the pattern wo is an optional group\n",
    "- regex will match text that has zero instances or one instance of wo in it\n"
   ]
  },
  {
   "cell_type": "code",
   "execution_count": 25,
   "metadata": {},
   "outputs": [
    {
     "data": {
      "text/plain": [
       "'123-456-7890'"
      ]
     },
     "execution_count": 25,
     "metadata": {},
     "output_type": "execute_result"
    }
   ],
   "source": [
    "phone_regex = re.compile(r'(\\d{3}-)?\\d{3}-\\d{4}')\n",
    "mo = phone_regex.search('My number is 123-456-7890')\n",
    "mo.group()"
   ]
  },
  {
   "cell_type": "code",
   "execution_count": 26,
   "metadata": {},
   "outputs": [
    {
     "data": {
      "text/plain": [
       "'456-7890'"
      ]
     },
     "execution_count": 26,
     "metadata": {},
     "output_type": "execute_result"
    }
   ],
   "source": [
    "mo = phone_regex.search('My number is 456-7890')\n",
    "mo.group()"
   ]
  },
  {
   "cell_type": "markdown",
   "metadata": {},
   "source": [
    "- You can think of the `?` as saying, “Match zero or one of the group preceding this question mark.”\n",
    "- If you need to match an actual question mark character, escape it with `\\?`"
   ]
  },
  {
   "cell_type": "markdown",
   "metadata": {},
   "source": [
    "## Matching Zero or More with asterisk\n",
    "- The `*` means 'match zero or more'"
   ]
  },
  {
   "cell_type": "code",
   "execution_count": 27,
   "metadata": {},
   "outputs": [
    {
     "data": {
      "text/plain": [
       "'Batman'"
      ]
     },
     "execution_count": 27,
     "metadata": {},
     "output_type": "execute_result"
    }
   ],
   "source": [
    "regex = re.compile(r'Bat(wo)*man')\n",
    "mo = regex.search('The Adventures of Batman')\n",
    "mo.group()"
   ]
  },
  {
   "cell_type": "code",
   "execution_count": 28,
   "metadata": {},
   "outputs": [
    {
     "data": {
      "text/plain": [
       "'Batwoman'"
      ]
     },
     "execution_count": 28,
     "metadata": {},
     "output_type": "execute_result"
    }
   ],
   "source": [
    "mo = regex.search('The Adventures of Batwoman')\n",
    "mo.group()"
   ]
  },
  {
   "cell_type": "code",
   "execution_count": 29,
   "metadata": {},
   "outputs": [
    {
     "data": {
      "text/plain": [
       "'Batwowowowowoman'"
      ]
     },
     "execution_count": 29,
     "metadata": {},
     "output_type": "execute_result"
    }
   ],
   "source": [
    "mo = regex.search('The Adventures of Batwowowowowoman')\n",
    "mo.group()"
   ]
  },
  {
   "cell_type": "markdown",
   "metadata": {},
   "source": [
    "## Matching Zero or More with asterisk\n",
    "- For 'Batman', the `(wo)*` part of the regex matches zero instances of wo in the string; \n",
    "- for 'Batwoman', the `(wo)*` matches one instance of wo; \n",
    "- for 'Batwowowowoman', `(wo)*` matches four instances of wo."
   ]
  },
  {
   "cell_type": "markdown",
   "metadata": {},
   "source": [
    "## Matching One or More with +\n",
    "- `+` means “match one or more.” \n",
    "- Unlike the star the group preceding a plus must appear at least once. It is not optional."
   ]
  },
  {
   "cell_type": "code",
   "execution_count": null,
   "metadata": {},
   "outputs": [],
   "source": [
    "regex = re.compile(r'Bat(wo)+man')"
   ]
  }
 ],
 "metadata": {
  "kernelspec": {
   "display_name": "Python 3",
   "language": "python",
   "name": "python3"
  },
  "language_info": {
   "codemirror_mode": {
    "name": "ipython",
    "version": 3
   },
   "file_extension": ".py",
   "mimetype": "text/x-python",
   "name": "python",
   "nbconvert_exporter": "python",
   "pygments_lexer": "ipython3",
   "version": "3.6.5"
  }
 },
 "nbformat": 4,
 "nbformat_minor": 2
}
