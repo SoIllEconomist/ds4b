{
 "cells": [
  {
   "cell_type": "markdown",
   "metadata": {},
   "source": [
    "# MIS 3103 - Midterm Exam Example\n",
    "\n",
    "Answer the following questions to the best of your ability. Place your code between:\n",
    "\n",
    "    ################\n",
    "    ## Start Code ##\n",
    "    ################\n",
    "    \n",
    "    \n",
    "    \n",
    "    YOUR CODE GOES HERE\n",
    "    \n",
    "    \n",
    "    \n",
    "    ################\n",
    "    ##  End Code  ##\n",
    "    ################\n",
    "\n",
    "You may leave after you have turned in your exam. You have 60 minutes to complete the five questions. Don't forget to use a function call for each of your programs."
   ]
  },
  {
   "cell_type": "markdown",
   "metadata": {},
   "source": [
    "## Question 1:\n",
    "\n",
    "Create a function called `name_age` that asks the user to enter their name and their age. Print out a message addressed to them that tells them the year that they will turn 100 years old.\n",
    "(Hint: use the `input()` function)"
   ]
  },
  {
   "cell_type": "code",
   "execution_count": null,
   "metadata": {},
   "outputs": [],
   "source": [
    "def name_age():\n",
    "    ################\n",
    "    ## Start Code ##\n",
    "    ################\n",
    "    \n",
    "    \n",
    "    \n",
    "    \n",
    "    \n",
    "    \n",
    "    \n",
    "    ################\n",
    "    ##  End Code  ##\n",
    "    ################"
   ]
  },
  {
   "cell_type": "markdown",
   "metadata": {},
   "source": [
    "## Question 2:\n",
    "\n",
    "Create a function called `even_odd` that asks the user for a number. Depending on whether the number is even or odd, print out an appropriate message to the user.\n",
    "(Hint: use the modulus operator, conditionals, and check for equality)"
   ]
  },
  {
   "cell_type": "code",
   "execution_count": null,
   "metadata": {},
   "outputs": [],
   "source": [
    "def even_odd():\n",
    "    ################\n",
    "    ## Start Code ##\n",
    "    ################\n",
    "    \n",
    "    \n",
    "    \n",
    "    \n",
    "    \n",
    "    \n",
    "    \n",
    "    ################\n",
    "    ##  End Code  ##\n",
    "    ################"
   ]
  },
  {
   "cell_type": "markdown",
   "metadata": {},
   "source": [
    "## Question 3:\n",
    "\n",
    "Write a function that takes a list of numbers and makes a new list of only the first and last elements.\n"
   ]
  },
  {
   "cell_type": "code",
   "execution_count": null,
   "metadata": {},
   "outputs": [],
   "source": [
    "def list_ends():\n",
    "    ################\n",
    "    ## Start Code ##\n",
    "    ################\n",
    "    \n",
    "    \n",
    "    \n",
    "    \n",
    "    \n",
    "    \n",
    "    \n",
    "    ################\n",
    "    ##  End Code  ##\n",
    "    ################"
   ]
  },
  {
   "cell_type": "markdown",
   "metadata": {},
   "source": [
    "## Question 4\n",
    "Create a function three variables and returns the largest of the three. "
   ]
  },
  {
   "cell_type": "code",
   "execution_count": null,
   "metadata": {},
   "outputs": [],
   "source": [
    "def max_of_three():\n",
    "    ################\n",
    "    ## Start Code ##\n",
    "    ################\n",
    "    \n",
    "    \n",
    "    \n",
    "    \n",
    "    \n",
    "    \n",
    "    \n",
    "    ################\n",
    "    ##  End Code  ##\n",
    "    ################"
   ]
  },
  {
   "cell_type": "markdown",
   "metadata": {},
   "source": [
    "## Question 5\n",
    "Create a function that asks the user for a number and then prints out a list of all the divisors of that number. (If you don’t know what a divisor is, it is a number that divides evenly into another number.\n",
    "\n",
    "(Hint: You will need to use the range function and the modulus)"
   ]
  },
  {
   "cell_type": "code",
   "execution_count": null,
   "metadata": {},
   "outputs": [],
   "source": [
    "def divisor():\n",
    "    ################\n",
    "    ## Start Code ##\n",
    "    ################\n",
    "    \n",
    "    \n",
    "    \n",
    "    \n",
    "    \n",
    "    \n",
    "    \n",
    "    ################\n",
    "    ##  End Code  ##\n",
    "    ################"
   ]
  },
  {
   "cell_type": "markdown",
   "metadata": {},
   "source": [
    "## Question 6:\n",
    "\n",
    "Create a function that takes a list of numbers and prints out all of the elements that are less than 10."
   ]
  },
  {
   "cell_type": "code",
   "execution_count": null,
   "metadata": {},
   "outputs": [],
   "source": [
    "def less_than_10():\n",
    "    ################\n",
    "    ## Start Code ##\n",
    "    ################\n",
    "    \n",
    "    \n",
    "    \n",
    "    \n",
    "    \n",
    "    \n",
    "    \n",
    "    ################\n",
    "    ##  End Code  ##\n",
    "    ################"
   ]
  },
  {
   "cell_type": "markdown",
   "metadata": {},
   "source": [
    "## Question 7:\n",
    "Make a two-player Rock-Paper-Scissors game.\n",
    "(Hint: Use a while loop and a break statement)"
   ]
  },
  {
   "cell_type": "code",
   "execution_count": null,
   "metadata": {},
   "outputs": [],
   "source": [
    "def rock_paper_scissors():\n",
    "    ################\n",
    "    ## Start Code ##\n",
    "    ################\n",
    "    \n",
    "    \n",
    "    \n",
    "    \n",
    "    \n",
    "    \n",
    "    \n",
    "    ################\n",
    "    ##  End Code  ##\n",
    "    ################"
   ]
  },
  {
   "cell_type": "markdown",
   "metadata": {},
   "source": [
    "## Question 8:\n",
    "\n",
    "Make a guess the number game. \n",
    "(Hint: This program should have 3 distinct parts)"
   ]
  },
  {
   "cell_type": "code",
   "execution_count": null,
   "metadata": {},
   "outputs": [],
   "source": [
    "def guess_num():\n",
    "    ################\n",
    "    ## Start Code ##\n",
    "    ################\n",
    "    \n",
    "    \n",
    "    \n",
    "    \n",
    "    \n",
    "    \n",
    "    \n",
    "    ################\n",
    "    ##  End Code  ##\n",
    "    ################"
   ]
  }
 ],
 "metadata": {
  "celltoolbar": "Create Assignment",
  "kernelspec": {
   "display_name": "Python 3",
   "language": "python",
   "name": "python3"
  },
  "language_info": {
   "codemirror_mode": {
    "name": "ipython",
    "version": 3
   },
   "file_extension": ".py",
   "mimetype": "text/x-python",
   "name": "python",
   "nbconvert_exporter": "python",
   "pygments_lexer": "ipython3",
   "version": "3.6.5"
  }
 },
 "nbformat": 4,
 "nbformat_minor": 2
}
