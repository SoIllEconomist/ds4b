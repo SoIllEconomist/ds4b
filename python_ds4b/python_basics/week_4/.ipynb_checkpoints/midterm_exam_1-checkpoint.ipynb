{
 "cells": [
  {
   "cell_type": "markdown",
   "metadata": {},
   "source": [
    "# MIS 3103 - Midterm Exam I\n",
    "\n",
    "Answer the following questions to the best of your ability. Place your code between:\n",
    "\n",
    "    ################\n",
    "    ## Start Code ##\n",
    "    ################\n",
    "    \n",
    "    \n",
    "    \n",
    "    YOUR CODE GOES HERE\n",
    "    \n",
    "    \n",
    "    \n",
    "    ################\n",
    "    ##  End Code  ##\n",
    "    ################\n",
    "\n",
    "You may leave after you have turned in your exam. You have 60 minutes to complete the five questions. Don't forget to use a function call for each of your programs."
   ]
  },
  {
   "cell_type": "markdown",
   "metadata": {},
   "source": [
    "## Question 1:\n",
    "\n",
    "Create a function called `name_age` that asks the user to enter their name and their age. Print out a message addressed to them that tells them the year that they will turn 100 years old.\n",
    "(Hint: use the `input()` function)"
   ]
  },
  {
   "cell_type": "code",
   "execution_count": 1,
   "metadata": {},
   "outputs": [],
   "source": [
    "# Key\n",
    "def name_age():\n",
    "    print('What is your name?')\n",
    "    name = input()\n",
    "    print('Hello ' + name)\n",
    "    print('How old are you?')\n",
    "    age = int(input())\n",
    "    year = str((2018 - age) + 100)\n",
    "    print(name + ', you will be 100 years old in ' + year)"
   ]
  },
  {
   "cell_type": "code",
   "execution_count": null,
   "metadata": {},
   "outputs": [],
   "source": [
    "def name_age():\n",
    "    ################\n",
    "    ## Start Code ##\n",
    "    ################\n",
    "    \n",
    "    \n",
    "    \n",
    "    \n",
    "    \n",
    "    \n",
    "    \n",
    "    ################\n",
    "    ##  End Code  ##\n",
    "    ################\n",
    "name_age()"
   ]
  },
  {
   "cell_type": "code",
   "execution_count": null,
   "metadata": {},
   "outputs": [],
   "source": []
  },
  {
   "cell_type": "markdown",
   "metadata": {},
   "source": [
    "## Question 2:\n",
    "\n",
    "Create a function called `even_odd` that asks the user for a number. Depending on whether the number is even or odd, print out an appropriate message to the user.\n",
    "(Hint: use the modulus operator, conditionals, and check for equality)"
   ]
  },
  {
   "cell_type": "code",
   "execution_count": null,
   "metadata": {},
   "outputs": [],
   "source": [
    "# Key\n",
    "def even_odd(num):\n",
    "    num = int(input('Enter a number:\\n'))\n",
    "    mod = num % 2\n",
    "    if mod > 0:\n",
    "        print('The number is odd.')\n",
    "    else:\n",
    "        print('The number is even.')\n",
    "    "
   ]
  },
  {
   "cell_type": "code",
   "execution_count": null,
   "metadata": {},
   "outputs": [],
   "source": [
    "def even_odd():\n",
    "    ################\n",
    "    ## Start Code ##\n",
    "    ################\n",
    "    \n",
    "    \n",
    "    \n",
    "    \n",
    "    \n",
    "    \n",
    "    \n",
    "    ################\n",
    "    ##  End Code  ##\n",
    "    ################"
   ]
  },
  {
   "cell_type": "markdown",
   "metadata": {},
   "source": [
    "## Question 3:\n",
    "\n",
    "Write a function that takes a list of numbers and makes a new list of only the first and last elements.\n"
   ]
  },
  {
   "cell_type": "code",
   "execution_count": null,
   "metadata": {},
   "outputs": [],
   "source": [
    "def list_ends(a_list):\n",
    "    return [a_list[0], a_list[-1]]"
   ]
  },
  {
   "cell_type": "markdown",
   "metadata": {},
   "source": [
    "## Question 4\n",
    "Create a function three variables and returns the largest of the three. "
   ]
  },
  {
   "cell_type": "code",
   "execution_count": 8,
   "metadata": {},
   "outputs": [],
   "source": [
    "def max_of_three(a,b,c):\n",
    "    return max([a,b,c])"
   ]
  },
  {
   "cell_type": "code",
   "execution_count": null,
   "metadata": {},
   "outputs": [],
   "source": [
    "def max_of_three():\n",
    "    ################\n",
    "    ## Start Code ##\n",
    "    ################\n",
    "    \n",
    "    \n",
    "    \n",
    "    \n",
    "    \n",
    "    \n",
    "    \n",
    "    ################\n",
    "    ##  End Code  ##\n",
    "    ################"
   ]
  },
  {
   "cell_type": "markdown",
   "metadata": {},
   "source": [
    "## Question 5\n",
    "Create a function that asks the user for a number and then prints out a list of all the divisors of that number. (If you don’t know what a divisor is, it is a number that divides evenly into another number.\n",
    "\n",
    "(Hint: You will need to use the range function and the modulus)"
   ]
  },
  {
   "cell_type": "code",
   "execution_count": 10,
   "metadata": {},
   "outputs": [],
   "source": [
    "def divisor():\n",
    "    num = int(input(\"Please choose a number to divide: \"))\n",
    "\n",
    "    div_list = []\n",
    "\n",
    "    for number in range(1,num+1):\n",
    "        if num % number == 0:\n",
    "            div_list.append(number)\n",
    "\n",
    "    print(div_list)"
   ]
  },
  {
   "cell_type": "code",
   "execution_count": null,
   "metadata": {},
   "outputs": [],
   "source": [
    "def divisor():\n",
    "    ################\n",
    "    ## Start Code ##\n",
    "    ################\n",
    "    \n",
    "    \n",
    "    \n",
    "    \n",
    "    \n",
    "    \n",
    "    \n",
    "    ################\n",
    "    ##  End Code  ##\n",
    "    ################"
   ]
  },
  {
   "cell_type": "markdown",
   "metadata": {},
   "source": [
    "## Question 6:\n",
    "\n",
    "Create a function that takes a list of numbers and prints out all of the elements that are less than 10."
   ]
  },
  {
   "cell_type": "code",
   "execution_count": 13,
   "metadata": {},
   "outputs": [],
   "source": [
    "def less_than_10(num_list):\n",
    "    print([num for num in num_list if num < 10])"
   ]
  },
  {
   "cell_type": "code",
   "execution_count": null,
   "metadata": {},
   "outputs": [],
   "source": [
    "def less_than_10():\n",
    "    ################\n",
    "    ## Start Code ##\n",
    "    ################\n",
    "    \n",
    "    \n",
    "    \n",
    "    \n",
    "    \n",
    "    \n",
    "    \n",
    "    ################\n",
    "    ##  End Code  ##\n",
    "    ################"
   ]
  },
  {
   "cell_type": "code",
   "execution_count": 12,
   "metadata": {},
   "outputs": [
    {
     "name": "stdout",
     "output_type": "stream",
     "text": [
      "[1, 2, 3, 4, 5]\n"
     ]
    }
   ],
   "source": [
    "less_than_10([1,2,3,4,5,22222,33,44,55])"
   ]
  },
  {
   "cell_type": "markdown",
   "metadata": {},
   "source": [
    "## Question 7:\n",
    "Make a two-player Rock-Paper-Scissors game.\n",
    "(Hint: Use a while loop and a break statement)"
   ]
  },
  {
   "cell_type": "code",
   "execution_count": 14,
   "metadata": {},
   "outputs": [],
   "source": [
    "def rock_paper_scissors():\n",
    "    import sys\n",
    "    print('Type either rock, paper, or scissors.\\n')\n",
    "    player_a = input('Player A: ')\n",
    "    player_b = input('Player B: ')\n",
    "\n",
    "    def compare(u1, u2):\n",
    "        if u1 == u2:\n",
    "            return(\"It's a tie!\")\n",
    "        elif u1 == 'rock':\n",
    "            if u2 == 'scissors':\n",
    "                return(\"Rock wins!\")\n",
    "            else:\n",
    "                return(\"Paper wins!\")\n",
    "        elif u1 == 'scissors':\n",
    "            if u2 == 'paper':\n",
    "                return(\"Scissors win!\")\n",
    "            else:\n",
    "                return(\"Rock wins!\")\n",
    "        elif u1 == 'paper':\n",
    "            if u2 == 'rock':\n",
    "                return(\"Paper wins!\")\n",
    "            else:\n",
    "                return(\"Scissors win!\")\n",
    "        else:\n",
    "            return(\"Invalid input! You have not entered rock, paper or scissors, try again.\")\n",
    "            sys.exit()\n",
    "\n",
    "    print(compare(player_a, player_b))"
   ]
  },
  {
   "cell_type": "code",
   "execution_count": null,
   "metadata": {},
   "outputs": [],
   "source": [
    "def less_than_10():\n",
    "    ################\n",
    "    ## Start Code ##\n",
    "    ################\n",
    "    \n",
    "    \n",
    "    \n",
    "    \n",
    "    \n",
    "    \n",
    "    \n",
    "    ################\n",
    "    ##  End Code  ##\n",
    "    ################"
   ]
  },
  {
   "cell_type": "code",
   "execution_count": null,
   "metadata": {},
   "outputs": [],
   "source": []
  },
  {
   "cell_type": "code",
   "execution_count": null,
   "metadata": {},
   "outputs": [],
   "source": [
    "# This is a guess the number game.\n",
    "def guess_num():\n",
    "    print('What is your name?')\n",
    "    name = input()\n",
    "    print('=============')\n",
    "    import random\n",
    "    secret_number = random.randint(1, 20) # Random int stored between 1-20\n",
    "    print('Hello ' + name + '. \\nI am thinking of a number between 1 and 20.')\n",
    "\n",
    "    # Ask the player to guess 6 times.\n",
    "    for guesses_taken in range(1, 7): # Guess only 6 trys\n",
    "        print('Take a guess.')\n",
    "        guess = int(input()) # Make sure convert input str to int\n",
    "\n",
    "        if guess < secret_number: # Check to see if guess is < or > secret\n",
    "            print('Your guess is too low.')\n",
    "        elif guess > secret_number:\n",
    "            print('Your guess is too high.')\n",
    "        else:\n",
    "            break    # This condition is the correct guess!\n",
    "\n",
    "    if guess == secret_number: # Check if final guess is correct or incorrect\n",
    "        print('Good job! You guessed my number in ' + str(guesses_taken) + \n",
    "              ' guesses!')\n",
    "    else:\n",
    "        print('Nope. The number I was thinking of was ' + str(secret_number))\n"
   ]
  },
  {
   "cell_type": "code",
   "execution_count": null,
   "metadata": {},
   "outputs": [],
   "source": [
    "def less_than_10():\n",
    "    ################\n",
    "    ## Start Code ##\n",
    "    ################\n",
    "    \n",
    "    \n",
    "    \n",
    "    \n",
    "    \n",
    "    \n",
    "    \n",
    "    ################\n",
    "    ##  End Code  ##\n",
    "    ################"
   ]
  }
 ],
 "metadata": {
  "celltoolbar": "Create Assignment",
  "kernelspec": {
   "display_name": "Python 3",
   "language": "python",
   "name": "python3"
  },
  "language_info": {
   "codemirror_mode": {
    "name": "ipython",
    "version": 3
   },
   "file_extension": ".py",
   "mimetype": "text/x-python",
   "name": "python",
   "nbconvert_exporter": "python",
   "pygments_lexer": "ipython3",
   "version": "3.6.5"
  }
 },
 "nbformat": 4,
 "nbformat_minor": 2
}
