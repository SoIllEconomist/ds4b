{
  "nbformat": 4,
  "nbformat_minor": 0,
  "metadata": {
    "celltoolbar": "Slideshow",
    "kernelspec": {
      "display_name": "Python 3",
      "language": "python",
      "name": "python3"
    },
    "language_info": {
      "codemirror_mode": {
        "name": "ipython",
        "version": 3
      },
      "file_extension": ".py",
      "mimetype": "text/x-python",
      "name": "python",
      "nbconvert_exporter": "python",
      "pygments_lexer": "ipython3",
      "version": "3.6.5"
    },
    "colab": {
      "name": "week_2_flow_control.ipynb",
      "provenance": [],
      "include_colab_link": true
    }
  },
  "cells": [
    {
      "cell_type": "markdown",
      "metadata": {
        "id": "view-in-github",
        "colab_type": "text"
      },
      "source": [
        "<a href=\"https://colab.research.google.com/github/SoIllEconomist/ds4b/blob/master/python_ds4b/python_basics/week_2/week_2_flow_control.ipynb\" target=\"_parent\"><img src=\"https://colab.research.google.com/assets/colab-badge.svg\" alt=\"Open In Colab\"/></a>"
      ]
    },
    {
      "cell_type": "markdown",
      "metadata": {
        "id": "kAuooeNemdLC",
        "colab_type": "text"
      },
      "source": [
        "# Flow Control\n",
        "\n",
        "- A program is just a series of instructions\n",
        "- Strength of programming isn’t just running one instruction after another \n",
        "- Based on how the expressions evaluate, the program can decide to skip instructions, repeat them, or choose one of several instructions to run\n",
        "- Flow control statements can decide which instructions to execute under which conditions\n"
      ]
    },
    {
      "cell_type": "markdown",
      "metadata": {
        "id": "MSNFCsv9mdLG",
        "colab_type": "text"
      },
      "source": [
        "## Flow Control\n",
        "\n",
        "- Flow control statements directly correspond to the symbols in a flowchart\n",
        "- What to do if it's raining?"
      ]
    },
    {
      "cell_type": "markdown",
      "metadata": {
        "id": "ZTKHaIlhmdLH",
        "colab_type": "text"
      },
      "source": [
        "![flowchart_rain](files\\flowchart_rain.jpg)"
      ]
    },
    {
      "cell_type": "markdown",
      "metadata": {
        "id": "ApT6r_elmdLJ",
        "colab_type": "text"
      },
      "source": [
        "## Flow Control\n",
        "- There is more than one way to go from the start to the end.\n",
        "- Flowcharts represent these branching points with diamonds, while the other steps are represented with rectangles. The starting and ending steps are represented with rounded rectangles.\n",
        "\n",
        "- But before you learn about flow control statements, you first need to learn how to represent those yes and no options, and you need to understand how to write those branching points as Python code. \n",
        "- To do this we need Boolean values, comparison operators, and Boolean operators."
      ]
    },
    {
      "cell_type": "markdown",
      "metadata": {
        "id": "ZRfDf3evmdLK",
        "colab_type": "text"
      },
      "source": [
        "# Boolean Values\n",
        "- While the integer, floating-point, and string data types have an unlimited number of possible values\n",
        "- Boolean data type has only two values: `True` and `False` "
      ]
    },
    {
      "cell_type": "code",
      "metadata": {
        "id": "j_deQLCimdLL",
        "colab_type": "code",
        "colab": {}
      },
      "source": [
        "spam = True"
      ],
      "execution_count": 0,
      "outputs": []
    },
    {
      "cell_type": "code",
      "metadata": {
        "id": "cjfxogddmdLZ",
        "colab_type": "code",
        "colab": {},
        "outputId": "be8f4263-8e65-45b4-c7d7-ce5cc301fd3f"
      },
      "source": [
        "spam"
      ],
      "execution_count": 0,
      "outputs": [
        {
          "output_type": "execute_result",
          "data": {
            "text/plain": [
              "True"
            ]
          },
          "metadata": {
            "tags": []
          },
          "execution_count": 2
        }
      ]
    },
    {
      "cell_type": "markdown",
      "metadata": {
        "id": "O8h4C9wwmdLf",
        "colab_type": "text"
      },
      "source": [
        "## Boolean Values (Errors and Protected keywords)"
      ]
    },
    {
      "cell_type": "code",
      "metadata": {
        "id": "MWWwQdljmdLg",
        "colab_type": "code",
        "colab": {},
        "outputId": "ef25eeb6-a572-4cef-c820-66f1e7f9b5f0"
      },
      "source": [
        "# Boolean vaules must start with capital T or F\n",
        "true"
      ],
      "execution_count": 0,
      "outputs": [
        {
          "output_type": "error",
          "ename": "NameError",
          "evalue": "name 'true' is not defined",
          "traceback": [
            "\u001b[0;31m---------------------------------------------------------------------------\u001b[0m",
            "\u001b[0;31mNameError\u001b[0m                                 Traceback (most recent call last)",
            "\u001b[0;32m<ipython-input-3-cae9d639713c>\u001b[0m in \u001b[0;36m<module>\u001b[0;34m()\u001b[0m\n\u001b[1;32m      1\u001b[0m \u001b[0;31m# Boolean vaules must start with capital T or F\u001b[0m\u001b[0;34m\u001b[0m\u001b[0;34m\u001b[0m\u001b[0m\n\u001b[0;32m----> 2\u001b[0;31m \u001b[0mtrue\u001b[0m\u001b[0;34m\u001b[0m\u001b[0m\n\u001b[0m",
            "\u001b[0;31mNameError\u001b[0m: name 'true' is not defined"
          ]
        }
      ]
    },
    {
      "cell_type": "code",
      "metadata": {
        "id": "zHLR-SejmdLm",
        "colab_type": "code",
        "colab": {},
        "outputId": "727b33be-02d0-4d77-99dc-89551dde612d"
      },
      "source": [
        "True = 2 + 4 # Booleans are protected in Python"
      ],
      "execution_count": 0,
      "outputs": [
        {
          "output_type": "error",
          "ename": "SyntaxError",
          "evalue": "can't assign to keyword (<ipython-input-4-bb6e53e42985>, line 1)",
          "traceback": [
            "\u001b[0;36m  File \u001b[0;32m\"<ipython-input-4-bb6e53e42985>\"\u001b[0;36m, line \u001b[0;32m1\u001b[0m\n\u001b[0;31m    True = 2 + 4 # Booleans are protected in Python\u001b[0m\n\u001b[0m                                                   ^\u001b[0m\n\u001b[0;31mSyntaxError\u001b[0m\u001b[0;31m:\u001b[0m can't assign to keyword\n"
          ]
        }
      ]
    },
    {
      "cell_type": "markdown",
      "metadata": {
        "id": "TPsQCOgmmdLq",
        "colab_type": "text"
      },
      "source": [
        "# Comparsison Operators\n",
        "\n",
        "- **Comparision operators** comepate two values and evaluate down to a single Boolean value\n",
        "\n",
        "| Operator | Meaning                  |\n",
        "|----------|--------------------------|\n",
        "| ==       | Equal to                 |\n",
        "| !=       | Not equal to             |\n",
        "| <        | Less than                |\n",
        "| >        | Greater than             |\n",
        "| <=       | Less than or equal to    |\n",
        "| >=       | Greater than or equal to |\n",
        "\n",
        "- These operators evaluate to `True` and `False`"
      ]
    },
    {
      "cell_type": "markdown",
      "metadata": {
        "id": "cagJBJyzmdLs",
        "colab_type": "text"
      },
      "source": [
        "## Comparison Operator Examples"
      ]
    },
    {
      "cell_type": "code",
      "metadata": {
        "id": "HlWgrXIemdLu",
        "colab_type": "code",
        "colab": {},
        "outputId": "bce32ccf-dae4-47ac-cd99-9d25b94e7586"
      },
      "source": [
        "42 == 42"
      ],
      "execution_count": 0,
      "outputs": [
        {
          "output_type": "execute_result",
          "data": {
            "text/plain": [
              "True"
            ]
          },
          "metadata": {
            "tags": []
          },
          "execution_count": 5
        }
      ]
    },
    {
      "cell_type": "code",
      "metadata": {
        "id": "L7h79sC2mdL2",
        "colab_type": "code",
        "colab": {},
        "outputId": "9bf435bf-ab46-4bff-c8be-efef71b7ad65"
      },
      "source": [
        "42 == 43"
      ],
      "execution_count": 0,
      "outputs": [
        {
          "output_type": "execute_result",
          "data": {
            "text/plain": [
              "False"
            ]
          },
          "metadata": {
            "tags": []
          },
          "execution_count": 6
        }
      ]
    },
    {
      "cell_type": "code",
      "metadata": {
        "id": "TClXuAIKmdL6",
        "colab_type": "code",
        "colab": {},
        "outputId": "04c1a435-9ea2-4c17-8dda-a016de29142c"
      },
      "source": [
        "2 != 3"
      ],
      "execution_count": 0,
      "outputs": [
        {
          "output_type": "execute_result",
          "data": {
            "text/plain": [
              "True"
            ]
          },
          "metadata": {
            "tags": []
          },
          "execution_count": 7
        }
      ]
    },
    {
      "cell_type": "code",
      "metadata": {
        "id": "Fth-CRQ-mdMH",
        "colab_type": "code",
        "colab": {},
        "outputId": "39343a40-e242-4c0b-f529-514783a488a2"
      },
      "source": [
        "2 != 2"
      ],
      "execution_count": 0,
      "outputs": [
        {
          "output_type": "execute_result",
          "data": {
            "text/plain": [
              "False"
            ]
          },
          "metadata": {
            "tags": []
          },
          "execution_count": 8
        }
      ]
    },
    {
      "cell_type": "markdown",
      "metadata": {
        "id": "SLqIEzBamdMM",
        "colab_type": "text"
      },
      "source": [
        "# Boolean Operators\n",
        "\n",
        "- The three Boolean operators (`and`, `or`, and `not`) are used to compare Boolean values. \n",
        "- Like comparison operators, they evaluate these expressions down to a Boolean value\n"
      ]
    },
    {
      "cell_type": "markdown",
      "metadata": {
        "id": "K6l_pTXRmdMP",
        "colab_type": "text"
      },
      "source": [
        "## Binary Boolean Operators\n",
        "\n",
        "- The `and` and `or` operators always take two Boolean values (or expressions), so they’re considered binary operators. \n",
        "- The `and` operator evaluates an expression to `True` if both Boolean values are `True`; otherwise, it evaluates to `False`. "
      ]
    },
    {
      "cell_type": "code",
      "metadata": {
        "id": "lE8sOuwXmdMQ",
        "colab_type": "code",
        "colab": {},
        "outputId": "d979cc94-57eb-4cc3-e0df-55427236a0ee"
      },
      "source": [
        "True and True"
      ],
      "execution_count": 0,
      "outputs": [
        {
          "output_type": "execute_result",
          "data": {
            "text/plain": [
              "True"
            ]
          },
          "metadata": {
            "tags": []
          },
          "execution_count": 9
        }
      ]
    },
    {
      "cell_type": "code",
      "metadata": {
        "id": "8W9JySatmdMV",
        "colab_type": "code",
        "colab": {},
        "outputId": "b8414c89-4024-4af4-fff1-8a787bc084bf"
      },
      "source": [
        "True and False"
      ],
      "execution_count": 0,
      "outputs": [
        {
          "output_type": "execute_result",
          "data": {
            "text/plain": [
              "False"
            ]
          },
          "metadata": {
            "tags": []
          },
          "execution_count": 10
        }
      ]
    },
    {
      "cell_type": "markdown",
      "metadata": {
        "id": "6FLAhQXdmdMZ",
        "colab_type": "text"
      },
      "source": [
        "## Binary Boolean Table\n",
        "| Expression      | Evaluates |\n",
        "|-----------------|-----------|\n",
        "| True and True   | True      |\n",
        "| True and False  | False     |\n",
        "| False and True  | False     |\n",
        "| False and False | False     |\n",
        "| True or True    | True      |\n",
        "| True or False   | True      |\n",
        "| False or True   | True      |\n",
        "| False or False  | False     |"
      ]
    },
    {
      "cell_type": "markdown",
      "metadata": {
        "id": "gBtTVoM1mdMa",
        "colab_type": "text"
      },
      "source": [
        "## not Operator\n",
        "-  `not` operator operates on only one Boolean value (or expression)\n",
        "- `not` operator simply evaluates to the opposite Boolean value"
      ]
    },
    {
      "cell_type": "code",
      "metadata": {
        "id": "BTV0h82AmdMb",
        "colab_type": "code",
        "colab": {},
        "outputId": "19135d81-c2c4-471f-f011-4de8b38f737a"
      },
      "source": [
        "not True"
      ],
      "execution_count": 0,
      "outputs": [
        {
          "output_type": "execute_result",
          "data": {
            "text/plain": [
              "False"
            ]
          },
          "metadata": {
            "tags": []
          },
          "execution_count": 11
        }
      ]
    },
    {
      "cell_type": "code",
      "metadata": {
        "id": "CaorY8MjmdMe",
        "colab_type": "code",
        "colab": {},
        "outputId": "0f70f718-9d2e-4879-b766-cff5dc0f3862"
      },
      "source": [
        "not False"
      ],
      "execution_count": 0,
      "outputs": [
        {
          "output_type": "execute_result",
          "data": {
            "text/plain": [
              "True"
            ]
          },
          "metadata": {
            "tags": []
          },
          "execution_count": 12
        }
      ]
    },
    {
      "cell_type": "markdown",
      "metadata": {
        "id": "LSkC4vFomdMi",
        "colab_type": "text"
      },
      "source": [
        "# Booleans and Comparision Operators\n",
        "- Comparison operators evaluate to Boolean values, you can use them in expressions with the Boolean operators"
      ]
    },
    {
      "cell_type": "code",
      "metadata": {
        "id": "Y3Lh458SmdMl",
        "colab_type": "code",
        "colab": {},
        "outputId": "02a12c90-494c-4749-922c-1d22c02f68eb"
      },
      "source": [
        "(4 < 5) and (5 < 6)"
      ],
      "execution_count": 0,
      "outputs": [
        {
          "output_type": "execute_result",
          "data": {
            "text/plain": [
              "True"
            ]
          },
          "metadata": {
            "tags": []
          },
          "execution_count": 13
        }
      ]
    },
    {
      "cell_type": "code",
      "metadata": {
        "id": "uPAoeakPmdMs",
        "colab_type": "code",
        "colab": {},
        "outputId": "96a8486b-7d0b-4aa2-8852-e30e2dc97173"
      },
      "source": [
        "(4<5) and (9<6)"
      ],
      "execution_count": 0,
      "outputs": [
        {
          "output_type": "execute_result",
          "data": {
            "text/plain": [
              "False"
            ]
          },
          "metadata": {
            "tags": []
          },
          "execution_count": 14
        }
      ]
    },
    {
      "cell_type": "code",
      "metadata": {
        "id": "DiS8f-f5mdMx",
        "colab_type": "code",
        "colab": {},
        "outputId": "b615fcdf-3212-4e09-e37a-706649203908"
      },
      "source": [
        "(1==2) or (2 == 2)"
      ],
      "execution_count": 0,
      "outputs": [
        {
          "output_type": "execute_result",
          "data": {
            "text/plain": [
              "True"
            ]
          },
          "metadata": {
            "tags": []
          },
          "execution_count": 15
        }
      ]
    },
    {
      "cell_type": "markdown",
      "metadata": {
        "id": "6UPEOLFUmdM2",
        "colab_type": "text"
      },
      "source": [
        "- The computer will evaluate the left expression first, and then it will evaluate the right expression\n",
        "- When it knows the Boolean value for each, it will then evaluate the whole expression down to one Boolean value. "
      ]
    },
    {
      "cell_type": "markdown",
      "metadata": {
        "id": "eX_1mOx6mdM3",
        "colab_type": "text"
      },
      "source": [
        "# Elements of Flow Control\n",
        "- Flow control statements often start with a part called the **condition**\n",
        "- Followed by a block of code called the **clause** "
      ]
    },
    {
      "cell_type": "markdown",
      "metadata": {
        "id": "sj_3bpeumdM4",
        "colab_type": "text"
      },
      "source": [
        "## Conditions\n",
        "\n",
        "- The Boolean expressions you’ve seen so far could all be considered conditions\n",
        "- Flow control statement decides what to do based on whether its condition is `True` or `False`"
      ]
    },
    {
      "cell_type": "markdown",
      "metadata": {
        "id": "SkU9kBgUmdM5",
        "colab_type": "text"
      },
      "source": [
        "## Blocks of Code\n",
        "\n",
        "- Code can be grouped together in blocks\n",
        "- Block begins and ends from the indentation of the lines of code\n",
        "- There are three rules for blocks:\n",
        "\n",
        "     1. Blocks begin when the indentation increases\n",
        "     2. Blocks can contain other blocks\n",
        "     3. Blocks end when the indentation decreases to zero or to a containing block’s indentation."
      ]
    },
    {
      "cell_type": "markdown",
      "metadata": {
        "id": "MsOd1BtemdM7",
        "colab_type": "text"
      },
      "source": [
        "## Let's play with passwords\n",
        "\n",
        "![source giphy.com](https://github.com/SoIllEconomist/ds4b/blob/master/python_ds4b/python_basics/week_2/files/monty_python_password.gif?raw=1)"
      ]
    },
    {
      "cell_type": "code",
      "metadata": {
        "id": "PcMgukSMmdM9",
        "colab_type": "code",
        "colab": {},
        "outputId": "911f9bba-310d-425b-b9fe-77634a7bced6"
      },
      "source": [
        "user = 'Bob' # User input\n",
        "password = 'swordfish' # Password input\n",
        "if user == 'Bob':\n",
        "    print('Hello ' + user)\n",
        "    if password == 'swordfish':\n",
        "        print('Access granted.')\n",
        "    else:\n",
        "        print('Wrong password.')"
      ],
      "execution_count": 0,
      "outputs": [
        {
          "output_type": "stream",
          "text": [
            "Hello Bob\n",
            "Access granted.\n"
          ],
          "name": "stdout"
        }
      ]
    },
    {
      "cell_type": "markdown",
      "metadata": {
        "id": "Vuggp2uumdNC",
        "colab_type": "text"
      },
      "source": [
        "# if Statements\n",
        "\n",
        "- The most common type of flow control statement is the if statement\n",
        "- An if statement’s clause executes if the statement’s condition is True\n",
        "- The clause is skipped if the condition is False\n"
      ]
    },
    {
      "cell_type": "markdown",
      "metadata": {
        "id": "ssnlMcN8mdND",
        "colab_type": "text"
      },
      "source": [
        "## if Statements\n",
        "\n",
        "- if statements consists of the following parts:\n",
        "    1. the `if` keyword\n",
        "    2. a condition (Expression evaluating to `True` or `False`)\n",
        "    3. a colon\n",
        "    4. starting on the next line, and indetned block of code (**if clause**)"
      ]
    },
    {
      "cell_type": "code",
      "metadata": {
        "id": "lxm3tIW5mdNE",
        "colab_type": "code",
        "colab": {}
      },
      "source": [
        "name = 'Bob'\n",
        "if name == 'Alice':\n",
        "    print('Hi, Alice.')"
      ],
      "execution_count": 0,
      "outputs": []
    },
    {
      "cell_type": "markdown",
      "metadata": {
        "id": "wkO-jQG1mdNH",
        "colab_type": "text"
      },
      "source": [
        "![flowchart_alice](https://github.com/SoIllEconomist/ds4b/blob/master/python_ds4b/python_basics/week_2/files/flowchart_alice.jpg?raw=1)"
      ]
    },
    {
      "cell_type": "markdown",
      "metadata": {
        "id": "2PCdlysJmdNI",
        "colab_type": "text"
      },
      "source": [
        "## else Statements\n",
        "\n",
        "- else clause is executed only when the if statement’s condition is False - else statements consists of the following:\n",
        "        \n",
        "     1. The else keyword\n",
        "     2. A colon\n",
        "     3. Starting on the next line, an indented block of code (**else clause**)"
      ]
    },
    {
      "cell_type": "code",
      "metadata": {
        "id": "CNmISlYqmdNJ",
        "colab_type": "code",
        "colab": {},
        "outputId": "2861dc2e-24b0-41d2-a731-b245ab337f31"
      },
      "source": [
        "name = 'Bob'\n",
        "if name == 'Alice':\n",
        "    print('Hi, Alice.')\n",
        "else:\n",
        "    print('STRANGER DANGER!!!')"
      ],
      "execution_count": 0,
      "outputs": [
        {
          "output_type": "stream",
          "text": [
            "STRANGER DANGER!!!\n"
          ],
          "name": "stdout"
        }
      ]
    },
    {
      "cell_type": "markdown",
      "metadata": {
        "id": "ZDTXw346mdNM",
        "colab_type": "text"
      },
      "source": [
        "![flowchart_alice_2](https://github.com/SoIllEconomist/ds4b/blob/master/python_ds4b/python_basics/week_2/files/flowchart_alice_2.png?raw=1)"
      ]
    },
    {
      "cell_type": "markdown",
      "metadata": {
        "id": "xxIzA_ZImdNN",
        "colab_type": "text"
      },
      "source": [
        "## elif Statements\n",
        "- The elif statement is an “else if” statement that always follows an if or another elif statement\n",
        "- It provides another condition that is checked only if all of the previous conditions were False\n",
        "- elif statement always consists of the following:\n",
        "    1. The elif keyword\n",
        "    2. A condition (that is, an expression that evaluates to True or False)\n",
        "    3. A colon\n",
        "    4. Starting on the next line, an indented block of code (**elif clause**)"
      ]
    },
    {
      "cell_type": "code",
      "metadata": {
        "id": "BqBV8_0gmdNO",
        "colab_type": "code",
        "colab": {},
        "outputId": "84ba2a50-ea0a-4e6d-dd56-7f1014f243d9"
      },
      "source": [
        "name = 'Alice'\n",
        "age = 80\n",
        "if name == 'Alice':\n",
        "    print('Hi, Alice.')\n",
        "elif age < 10:\n",
        "    print('Stranger Danger!')"
      ],
      "execution_count": 0,
      "outputs": [
        {
          "output_type": "stream",
          "text": [
            "Hi, Alice.\n"
          ],
          "name": "stdout"
        }
      ]
    },
    {
      "cell_type": "markdown",
      "metadata": {
        "id": "K3FSEaOQmdNQ",
        "colab_type": "text"
      },
      "source": [
        "![flowchart_alice_3](https://github.com/SoIllEconomist/ds4b/blob/master/python_ds4b/python_basics/week_2/files/flowchart_alice_3.png?raw=1)"
      ]
    },
    {
      "cell_type": "code",
      "metadata": {
        "id": "jldsAIdZmdNR",
        "colab_type": "code",
        "colab": {},
        "outputId": "d97a0d6a-e21b-4bb7-ce03-7bea03f2f534"
      },
      "source": [
        "name = 'Dracula'\n",
        "age = 4000\n",
        "if name == 'Alice':\n",
        "    print('Hi, Alice.')\n",
        "elif age < 12:\n",
        "    print('You are not Alice, kiddo.')\n",
        "elif age > 2000:\n",
        "    print('Unlike you, Alice is not an undead, immortal vampire.')\n",
        "elif age > 100:\n",
        "    print('You are not Alice, grannie.')"
      ],
      "execution_count": 0,
      "outputs": [
        {
          "output_type": "stream",
          "text": [
            "Unlike you, Alice is not an undead, immortal vampire.\n"
          ],
          "name": "stdout"
        }
      ]
    },
    {
      "cell_type": "markdown",
      "metadata": {
        "id": "_QCQ5hoHmdNa",
        "colab_type": "text"
      },
      "source": [
        "![flowchart_dracula](https://github.com/SoIllEconomist/ds4b/blob/master/python_ds4b/python_basics/week_2/files/flowchart_dracula.png?raw=1)"
      ]
    },
    {
      "cell_type": "markdown",
      "metadata": {
        "id": "AzUF_QlamdNb",
        "colab_type": "text"
      },
      "source": [
        "## elif statements\n",
        "- The order of the elif statements does matter, HOWEVER!!! \n",
        "- We can arrange the code so a bug forms"
      ]
    },
    {
      "cell_type": "code",
      "metadata": {
        "id": "np75WxD5mdNc",
        "colab_type": "code",
        "colab": {},
        "outputId": "90c63d6d-1cf6-411c-ec63-423930b75245"
      },
      "source": [
        "name = 'Dracula'\n",
        "age = 4000\n",
        "if name == 'Alice':\n",
        "    print('Hi, Alice.')\n",
        "elif age < 12:\n",
        "    print('You are not Alice, kiddo.')\n",
        "elif age > 100:\n",
        "    print('You are not Alice, grannie.')\n",
        "elif age > 2000:\n",
        "    print('Unlike you, Alice is not an undead, immortal vampire.')"
      ],
      "execution_count": 0,
      "outputs": [
        {
          "output_type": "stream",
          "text": [
            "You are not Alice, grannie.\n"
          ],
          "name": "stdout"
        }
      ]
    },
    {
      "cell_type": "markdown",
      "metadata": {
        "id": "0Dt8V6G-mdNe",
        "colab_type": "text"
      },
      "source": [
        "## elif statements\n",
        "- You can have an else statement after the last elif statement\n",
        "- This case is guaranteed that at least one (and only one) of the clauses will be executed\n",
        "- If the conditions in every if and elif statement are False, then the else clause is executed. "
      ]
    },
    {
      "cell_type": "code",
      "metadata": {
        "id": "y8idQpH6mdNg",
        "colab_type": "code",
        "colab": {},
        "outputId": "778e4e5a-9169-4ad9-c57b-b1e5c07dad4a"
      },
      "source": [
        "name = 'Bob'\n",
        "age = 30\n",
        "if name == 'Alice':\n",
        "    print('Hi, Alice.')\n",
        "elif age < 12:\n",
        "    print('You are not Alice, kiddo.')\n",
        "else:\n",
        "    print('You are neither Alice nor a little kid.')"
      ],
      "execution_count": 0,
      "outputs": [
        {
          "output_type": "stream",
          "text": [
            "You are neither Alice nor a little kid.\n"
          ],
          "name": "stdout"
        }
      ]
    },
    {
      "cell_type": "markdown",
      "metadata": {
        "id": "shxRIxgUmdNj",
        "colab_type": "text"
      },
      "source": [
        "![flowchart_alice_4](https://github.com/SoIllEconomist/ds4b/blob/master/python_ds4b/python_basics/week_2/files/flowchart_alice_4.png?raw=1)"
      ]
    },
    {
      "cell_type": "markdown",
      "metadata": {
        "id": "bTq6WxWOmdNk",
        "colab_type": "text"
      },
      "source": [
        "# while Loop Staements\n",
        "\n",
        "- Make a block of code execute over and over again with a `while` statement\n",
        "- Code inside the `while` clause will be executed as long as the `while` statement’s condition is `True`\n",
        "- `while` statement always consists of the following:\n",
        "\n",
        "    1. The while keyword\n",
        "    2. A condition (that is, an expression that evaluates to True or False)\n",
        "    3. A colon\n",
        "    4. Starting on the next line, an indented block of code (**while clause**)"
      ]
    },
    {
      "cell_type": "markdown",
      "metadata": {
        "id": "z8D-2axjmdNm",
        "colab_type": "text"
      },
      "source": [
        "## while Loop\n",
        "- `while` statement looks similar to `if` statements\n",
        "- The difference is how the behave.\n",
        "    - `if`: program execution continues after the `if` statement\n",
        "    - `while`: program execution jumps back to the start of the `while` statement"
      ]
    },
    {
      "cell_type": "markdown",
      "metadata": {
        "id": "0nUWhkHnmdNn",
        "colab_type": "text"
      },
      "source": [
        "## Comparison of if and while "
      ]
    },
    {
      "cell_type": "code",
      "metadata": {
        "id": "-aGqvKZhmdNo",
        "colab_type": "code",
        "colab": {},
        "outputId": "459664d7-979c-4c80-8823-5b2b175bdf7d"
      },
      "source": [
        "# if statement\n",
        "spam = 0\n",
        "if spam < 5:\n",
        "    print('Hello world!')\n",
        "    spam += 1 # Equiv to spam = spam + 1"
      ],
      "execution_count": 0,
      "outputs": [
        {
          "output_type": "stream",
          "text": [
            "Hello world!\n"
          ],
          "name": "stdout"
        }
      ]
    },
    {
      "cell_type": "code",
      "metadata": {
        "id": "03uwIG07mdNs",
        "colab_type": "code",
        "colab": {},
        "outputId": "aecf4789-314d-459d-a2da-81160716c39e"
      },
      "source": [
        "# while statement\n",
        "spam = 0\n",
        "while spam < 5:\n",
        "    print('Hello world!')\n",
        "    spam += 1"
      ],
      "execution_count": 0,
      "outputs": [
        {
          "output_type": "stream",
          "text": [
            "Hello world!\n",
            "Hello world!\n",
            "Hello world!\n",
            "Hello world!\n",
            "Hello world!\n"
          ],
          "name": "stdout"
        }
      ]
    },
    {
      "cell_type": "markdown",
      "metadata": {
        "id": "fmC2h6vGmdNv",
        "colab_type": "text"
      },
      "source": [
        "## if statement flowchart\n",
        "\n",
        "![flowchart_if](https://github.com/SoIllEconomist/ds4b/blob/master/python_ds4b/python_basics/week_2/files/flowchart_if.png?raw=1)"
      ]
    },
    {
      "cell_type": "markdown",
      "metadata": {
        "id": "KW45GXfHmdNw",
        "colab_type": "text"
      },
      "source": [
        "## while statement flowchart\n",
        "\n",
        "![flowchart_while](https://github.com/SoIllEconomist/ds4b/blob/master/python_ds4b/python_basics/week_2/files/flowchart_while.png?raw=1)"
      ]
    },
    {
      "cell_type": "code",
      "metadata": {
        "id": "lzFlrf7jmdNw",
        "colab_type": "code",
        "colab": {},
        "outputId": "cde37be0-8935-4187-9b73-9fc1ff81e18f"
      },
      "source": [
        "# while loop example Explanation\n",
        "name = '' # Empty string\n",
        "while name != 'your name': # while not equal to 'your name'\n",
        "    print('Please type your name')\n",
        "    name = input() # input assigned to name variable\n",
        "print('Thank you!') # when condition becomes `True` print this"
      ],
      "execution_count": 0,
      "outputs": [
        {
          "output_type": "stream",
          "text": [
            "Please type your name\n",
            "your name\n",
            "Thank you!\n"
          ],
          "name": "stdout"
        }
      ]
    },
    {
      "cell_type": "markdown",
      "metadata": {
        "id": "Bez55mlmmdNz",
        "colab_type": "text"
      },
      "source": [
        "## break statements\n",
        "   - To get out of a `while` loop early, use a `break` statement\n",
        "   - If execution reaches a `break` staement, it exits the loop"
      ]
    },
    {
      "cell_type": "code",
      "metadata": {
        "id": "DoQmFsUgmdNz",
        "colab_type": "code",
        "colab": {},
        "outputId": "c6bf85d3-33a7-47f2-c59d-e5bf2280b69b"
      },
      "source": [
        "# break statement explanation\n",
        "name = ''\n",
        "while True: # Create infinite loop (!dangerous!)\n",
        "    print('Type your name.')\n",
        "    name = input() # input assigned to name variable\n",
        "    if name == 'your name': # Check if name equal to 'your name'\n",
        "        break # If this condition is true break (move on to next part)\n",
        "print('Thank you!') # End by printing thank you"
      ],
      "execution_count": 0,
      "outputs": [
        {
          "output_type": "stream",
          "text": [
            "Type your name.\n",
            "your name\n",
            "Thank you!\n"
          ],
          "name": "stdout"
        }
      ]
    },
    {
      "cell_type": "markdown",
      "metadata": {
        "id": "w6fCG7IWmdN2",
        "colab_type": "text"
      },
      "source": [
        "## break flowchart\n",
        "\n",
        "![flowchart_break](https://github.com/SoIllEconomist/ds4b/blob/master/python_ds4b/python_basics/week_2/files/flowchart_break.jpg?raw=1)"
      ]
    },
    {
      "cell_type": "markdown",
      "metadata": {
        "id": "mz-Jb-8pmdN3",
        "colab_type": "text"
      },
      "source": [
        "## continue statements\n",
        "- Similar to `break`, `continue` resides inside of a loop\n",
        "- When the execution reaches `continue`, program execution jumps back to the start of the loop and reevalueates the loop's condition."
      ]
    },
    {
      "cell_type": "code",
      "metadata": {
        "id": "44PlawMhmdN4",
        "colab_type": "code",
        "colab": {},
        "outputId": "5d4d7cfb-c4a6-41d1-d1e6-7ce27df9eb0d"
      },
      "source": [
        "while True:\n",
        "  print('Who are you?')\n",
        "  name = input()\n",
        "  if name != 'Bob': # If user give name beside bob     \n",
        "    continue        # jump back to start of loop\n",
        "  print('Hello, Bob. What is the password?') \n",
        "  password = input()# If they make it past if statement request password\n",
        "  if password == 'tofu':\n",
        "    break           # If give correct password break the loop\n",
        "print('Access granted.') # Print access granted"
      ],
      "execution_count": 0,
      "outputs": [
        {
          "output_type": "stream",
          "text": [
            "Who are you?\n",
            "Name\n",
            "Who are you?\n",
            "Bob\n",
            "Hello, Bob. What is the password?\n",
            "tofu\n",
            "Access granted.\n"
          ],
          "name": "stdout"
        }
      ]
    },
    {
      "cell_type": "markdown",
      "metadata": {
        "id": "p6yxKSDCmdN6",
        "colab_type": "text"
      },
      "source": [
        "# for Loops and range() function\n",
        "- `for` statement looks for something like for `i in range(5):` and always includes:\n",
        "    1. `for` keyword\n",
        "    2. variable name\n",
        "    3. `in` keyword\n",
        "    4. calls the `range()` function\n",
        "    5. starting line, an indented block of code (**for clause**)"
      ]
    },
    {
      "cell_type": "code",
      "metadata": {
        "id": "a7wjfhLYmdN7",
        "colab_type": "code",
        "colab": {},
        "outputId": "32515b46-f123-4356-ec72-af80dc9f2931"
      },
      "source": [
        "print('My name is')\n",
        "for i in range(5):\n",
        "    print(\"Jimmy Five Times (\" + str(i) + \")\")"
      ],
      "execution_count": 0,
      "outputs": [
        {
          "output_type": "stream",
          "text": [
            "My name is\n",
            "Jimmy Five Times (0)\n",
            "Jimmy Five Times (1)\n",
            "Jimmy Five Times (2)\n",
            "Jimmy Five Times (3)\n",
            "Jimmy Five Times (4)\n"
          ],
          "name": "stdout"
        }
      ]
    },
    {
      "cell_type": "markdown",
      "metadata": {
        "id": "tYQZIa_dmdN9",
        "colab_type": "text"
      },
      "source": [
        "The code in the `for` loop clause runs five times."
      ]
    },
    {
      "cell_type": "markdown",
      "metadata": {
        "id": "8Bj0QkmrmdN-",
        "colab_type": "text"
      },
      "source": [
        "![flowchart_range](https://github.com/SoIllEconomist/ds4b/blob/master/python_ds4b/python_basics/week_2/files/flowchart_range.png?raw=1)"
      ]
    },
    {
      "cell_type": "code",
      "metadata": {
        "id": "xdV6HrLHmdN_",
        "colab_type": "code",
        "colab": {},
        "outputId": "4094af4f-2a87-4d2b-e40c-213d123634a8"
      },
      "source": [
        "total = 0\n",
        "for num in range(101):\n",
        "    total = total + num\n",
        "print(total)"
      ],
      "execution_count": 0,
      "outputs": [
        {
          "output_type": "stream",
          "text": [
            "5050\n"
          ],
          "name": "stdout"
        }
      ]
    },
    {
      "cell_type": "markdown",
      "metadata": {
        "id": "Yj8DwsJVmdOB",
        "colab_type": "text"
      },
      "source": [
        "## starting, stopping, stepping with range()\n",
        "\n",
        "- (some) Functions can call multiple arguments separated by a comma\n",
        "- `range()` lets you pass a sequence of integers\n",
        "    - start value, stop value, and step argument\n",
        "    "
      ]
    },
    {
      "cell_type": "code",
      "metadata": {
        "id": "hx8DsdnEmdOC",
        "colab_type": "code",
        "colab": {},
        "outputId": "34066f31-3a56-434a-91f1-6de86be2c071"
      },
      "source": [
        "for i in range(0, 21, 2):\n",
        "    print(i)"
      ],
      "execution_count": 0,
      "outputs": [
        {
          "output_type": "stream",
          "text": [
            "0\n",
            "2\n",
            "4\n",
            "6\n",
            "8\n",
            "10\n",
            "12\n",
            "14\n",
            "16\n",
            "18\n",
            "20\n"
          ],
          "name": "stdout"
        }
      ]
    },
    {
      "cell_type": "code",
      "metadata": {
        "id": "y3q9lN_emdOF",
        "colab_type": "code",
        "colab": {},
        "outputId": "a19a0214-87ca-4dd2-d9e7-b3173146c03f"
      },
      "source": [
        "for i in range(10,-2, -1): # Create a countdown\n",
        "    print(i)"
      ],
      "execution_count": 0,
      "outputs": [
        {
          "output_type": "stream",
          "text": [
            "10\n",
            "9\n",
            "8\n",
            "7\n",
            "6\n",
            "5\n",
            "4\n",
            "3\n",
            "2\n",
            "1\n",
            "0\n",
            "-1\n"
          ],
          "name": "stdout"
        }
      ]
    },
    {
      "cell_type": "markdown",
      "metadata": {
        "id": "mOahdH_qmdOL",
        "colab_type": "text"
      },
      "source": [
        "# Importing Modules\n",
        "\n",
        "- Python programs can call a basic set of functions called **built-in functions**, including the `print()`, `input()`, and `len()`\n",
        "- Python also comes with a set of **modules** called the **standard library**\n",
        "- Each module is a Python program that contains a related group of functions that can be embedded in your programs\n",
        "- Before you can use the functions in a module, you must import the module with an import statement"
      ]
    },
    {
      "cell_type": "markdown",
      "metadata": {
        "id": "keefgW_FmdOM",
        "colab_type": "text"
      },
      "source": [
        "## Importing Modules\n",
        "- An `import` statement consists of the following:\n",
        "    1. The `import` keyword\n",
        "    2. The name of the module\n",
        "    3. (Optional) more module names, as long as they are separated by commas"
      ]
    },
    {
      "cell_type": "markdown",
      "metadata": {
        "id": "chIZYowGmdON",
        "colab_type": "text"
      },
      "source": [
        "## Random module\n",
        "- Once you import a module, you can use the functions of that module\n",
        "- Give the following a try:"
      ]
    },
    {
      "cell_type": "code",
      "metadata": {
        "id": "BuDqmI61mdON",
        "colab_type": "code",
        "colab": {},
        "outputId": "74d8aa36-ac92-4714-d36f-6453ef20e424"
      },
      "source": [
        "import random\n",
        "for i in range(5):\n",
        "    print(random.randint(1,10))"
      ],
      "execution_count": 0,
      "outputs": [
        {
          "output_type": "stream",
          "text": [
            "4\n",
            "3\n",
            "1\n",
            "3\n",
            "5\n"
          ],
          "name": "stdout"
        }
      ]
    },
    {
      "cell_type": "markdown",
      "metadata": {
        "id": "C_tn-HRcmdOQ",
        "colab_type": "text"
      },
      "source": [
        "When you run this program, the output will look similar (but not exactly like above)"
      ]
    },
    {
      "cell_type": "markdown",
      "metadata": {
        "id": "78xvBh5PmdOR",
        "colab_type": "text"
      },
      "source": [
        "## random Module\n",
        "- `random.randint()` function call gives a random integer between the two integers you pass it.\n",
        "- Since `randint()` is in the `random` module, you must first type `random.` in front of the function.\n",
        "    - This tells Python to look in the `random` module"
      ]
    },
    {
      "cell_type": "markdown",
      "metadata": {
        "id": "OkqBVElUmdOS",
        "colab_type": "text"
      },
      "source": [
        "## Importing multiple modules"
      ]
    },
    {
      "cell_type": "code",
      "metadata": {
        "id": "BHudrZDdmdOS",
        "colab_type": "code",
        "colab": {}
      },
      "source": [
        "# After running this line we'll be able to use the 4 modules\n",
        "import random, sys, os, math"
      ],
      "execution_count": 0,
      "outputs": []
    },
    {
      "cell_type": "markdown",
      "metadata": {
        "id": "-qGCRfZ9mdOU",
        "colab_type": "text"
      },
      "source": [
        "## from import Statements\n",
        "- It is possible to import only the functions from a specific module\n",
        "    - **Using the full name makes your code more readable**"
      ]
    },
    {
      "cell_type": "code",
      "metadata": {
        "id": "TVeb75xZmdOV",
        "colab_type": "code",
        "colab": {},
        "outputId": "8ca9686d-edbd-4905-8843-ff3b984d654e"
      },
      "source": [
        "# star implies importing ALL functions from random\n",
        "#from random import * \n",
        "# Here we are only importing the square root function from\n",
        "# the math module\n",
        "from math import sqrt \n",
        "print(sqrt(4))"
      ],
      "execution_count": 0,
      "outputs": [
        {
          "output_type": "stream",
          "text": [
            "2.0\n"
          ],
          "name": "stdout"
        }
      ]
    },
    {
      "cell_type": "markdown",
      "metadata": {
        "id": "3O59eUhNmdOY",
        "colab_type": "text"
      },
      "source": [
        "# Ending a program with sys.exit()\n",
        "- A program traditionally terminates at the end of the program.\n",
        "- You can cause the program to terminate (exit) by calling the `sys.exit()` function.\n",
        "- Since this module is in the `sys` module, you'll need to import it first"
      ]
    },
    {
      "cell_type": "code",
      "metadata": {
        "id": "6gIfafJWmdOZ",
        "colab_type": "code",
        "colab": {}
      },
      "source": [
        "import sys\n",
        "while True:\n",
        "    print(\"Type exit to exit.\")\n",
        "    response = input()\n",
        "    if response == 'exit':\n",
        "        sys.exit()\n",
        "    print(\"You typed \" + response + \".\")"
      ],
      "execution_count": 0,
      "outputs": []
    },
    {
      "cell_type": "markdown",
      "metadata": {
        "id": "S7sxzoNgmdOc",
        "colab_type": "text"
      },
      "source": [
        "This program has an infinite loop with no `break`.\n",
        "The only way to sop the program is if the user enters `exit` causing `sys.exit()` to be called"
      ]
    }
  ]
}