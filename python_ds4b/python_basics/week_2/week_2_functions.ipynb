{
  "nbformat": 4,
  "nbformat_minor": 0,
  "metadata": {
    "kernelspec": {
      "display_name": "Python 3",
      "language": "python",
      "name": "python3"
    },
    "language_info": {
      "codemirror_mode": {
        "name": "ipython",
        "version": 3
      },
      "file_extension": ".py",
      "mimetype": "text/x-python",
      "name": "python",
      "nbconvert_exporter": "python",
      "pygments_lexer": "ipython3",
      "version": "3.6.5"
    },
    "colab": {
      "name": "week_2_functions.ipynb",
      "provenance": [],
      "include_colab_link": true
    }
  },
  "cells": [
    {
      "cell_type": "markdown",
      "metadata": {
        "id": "view-in-github",
        "colab_type": "text"
      },
      "source": [
        "<a href=\"https://colab.research.google.com/github/SoIllEconomist/ds4b/blob/master/python_ds4b/python_basics/week_2/week_2_functions.ipynb\" target=\"_parent\"><img src=\"https://colab.research.google.com/assets/colab-badge.svg\" alt=\"Open In Colab\"/></a>"
      ]
    },
    {
      "cell_type": "markdown",
      "metadata": {
        "id": "naOSvuZomnAv",
        "colab_type": "text"
      },
      "source": [
        "# Functions\n",
        "\n",
        "- We've already seen the `print()`, `input()`, and `len()` functions\n",
        "    - These are builtin functions provided by Python\n",
        "- **Functions** are similar to mini-programs"
      ]
    },
    {
      "cell_type": "code",
      "metadata": {
        "id": "eRDzerhHmnAy",
        "colab_type": "code",
        "colab": {}
      },
      "source": [
        "def hello(): # def statement which defines the hello function\n",
        "    print('Hello world') # body of the function\n",
        "    print('Hello Hal')\n",
        "    print('Goodbye!')\n"
      ],
      "execution_count": 0,
      "outputs": []
    },
    {
      "cell_type": "markdown",
      "metadata": {
        "id": "_QIBDKcWmnA3",
        "colab_type": "text"
      },
      "source": [
        "## Function Calls\n",
        "- A function call is the function's name followed by parentheses\n",
        "    - It is possible for there to be a number of arguments in between"
      ]
    },
    {
      "cell_type": "code",
      "metadata": {
        "id": "lCablU4mmnA4",
        "colab_type": "code",
        "colab": {},
        "outputId": "2bcf3efc-de32-4150-b53d-9a5cb9082384"
      },
      "source": [
        "hello() # These are function calls\n",
        "hello() # It does not have any arguments\n",
        "hello()"
      ],
      "execution_count": 0,
      "outputs": [
        {
          "output_type": "stream",
          "text": [
            "Hello world\n",
            "Hello Hal\n",
            "Goodbye!\n",
            "Hello world\n",
            "Hello Hal\n",
            "Goodbye!\n",
            "Hello world\n",
            "Hello Hal\n",
            "Goodbye!\n"
          ],
          "name": "stdout"
        }
      ]
    },
    {
      "cell_type": "code",
      "metadata": {
        "id": "iBVe8eY0mnA7",
        "colab_type": "code",
        "colab": {},
        "outputId": "b9c82c7e-7d48-4be8-a8e8-31c7e6894aeb"
      },
      "source": [
        "    print('Hello world') # body of the function\n",
        "    print('Hello Hal')\n",
        "    print('Goodbye!')\n",
        "    print('Hello world') # body of the function\n",
        "    print('Hello Hal')\n",
        "    print('Goodbye!')\n",
        "    print('Hello world') # body of the function\n",
        "    print('Hello Hal')\n",
        "    print('Goodbye!')"
      ],
      "execution_count": 0,
      "outputs": [
        {
          "output_type": "stream",
          "text": [
            "Hello world\n",
            "Hello Hal\n",
            "Goodbye!\n",
            "Hello world\n",
            "Hello Hal\n",
            "Goodbye!\n",
            "Hello world\n",
            "Hello Hal\n",
            "Goodbye!\n"
          ],
          "name": "stdout"
        }
      ]
    },
    {
      "cell_type": "markdown",
      "metadata": {
        "id": "DTURZO52mnA_",
        "colab_type": "text"
      },
      "source": [
        "- Since we called the program three times, the code is executed three times."
      ]
    },
    {
      "cell_type": "markdown",
      "metadata": {
        "id": "wCn5411SmnBA",
        "colab_type": "text"
      },
      "source": [
        "# def Statements with Parameters\n",
        "- When you call the `print()` or `len()` function\n",
        "    - You pass in values called **arguments** between the parentheses\n",
        "- you can define your own functions that accept arguments"
      ]
    },
    {
      "cell_type": "code",
      "metadata": {
        "id": "GpmIU7YHmnBB",
        "colab_type": "code",
        "colab": {}
      },
      "source": [
        "def hello(name='Hal'): # (1)\n",
        "    print('Hello ' + name) # (2)"
      ],
      "execution_count": 0,
      "outputs": []
    },
    {
      "cell_type": "code",
      "metadata": {
        "id": "VFLz4ZqxmnBD",
        "colab_type": "code",
        "colab": {},
        "outputId": "eeb584e1-996a-4ba4-919d-912ded86f13e"
      },
      "source": [
        "name"
      ],
      "execution_count": 0,
      "outputs": [
        {
          "output_type": "error",
          "ename": "NameError",
          "evalue": "name 'name' is not defined",
          "traceback": [
            "\u001b[0;31m---------------------------------------------------------------------------\u001b[0m",
            "\u001b[0;31mNameError\u001b[0m                                 Traceback (most recent call last)",
            "\u001b[0;32m<ipython-input-5-9bc0cb2ed6de>\u001b[0m in \u001b[0;36m<module>\u001b[0;34m()\u001b[0m\n\u001b[0;32m----> 1\u001b[0;31m \u001b[0mname\u001b[0m\u001b[0;34m\u001b[0m\u001b[0m\n\u001b[0m",
            "\u001b[0;31mNameError\u001b[0m: name 'name' is not defined"
          ]
        }
      ]
    },
    {
      "cell_type": "markdown",
      "metadata": {
        "id": "PKaTnLttmnBG",
        "colab_type": "text"
      },
      "source": [
        "1. A parameter is a variable that an argument is store in when the function is called\n",
        "2. Program executed enters the function, and the variable is passed\n",
        "3. The program is executed and the variable is automatically set"
      ]
    },
    {
      "cell_type": "code",
      "metadata": {
        "id": "dGr-qM_RmnBH",
        "colab_type": "code",
        "colab": {},
        "outputId": "43faa9df-038d-4691-d375-23b289786789"
      },
      "source": [
        "hello()"
      ],
      "execution_count": 0,
      "outputs": [
        {
          "output_type": "stream",
          "text": [
            "Hello Hal\n"
          ],
          "name": "stdout"
        }
      ]
    },
    {
      "cell_type": "markdown",
      "metadata": {
        "id": "f0VvimzGmnBJ",
        "colab_type": "text"
      },
      "source": [
        "# def Statements\n",
        "- Important thing to note about parameters is that the value stored in a parameter is forgotten when the function returns."
      ]
    },
    {
      "cell_type": "markdown",
      "metadata": {
        "id": "-XWVfk_TmnBP",
        "colab_type": "text"
      },
      "source": [
        "# Return Values and return Statement\n",
        "- When you call a function and pass it an argument the function call evaluates to an integer value\n",
        "- The value of a function call evaluates to is called a **return value**\n",
        "- When creating a function use the `def` statement\n",
        "    - Specify what the return value should be with a `return` statement"
      ]
    },
    {
      "cell_type": "markdown",
      "metadata": {
        "id": "TcfF2nAAmnBQ",
        "colab_type": "text"
      },
      "source": [
        "## Return Values and return Statement\n",
        "- A `return` statement consists of the following:\n",
        "    1. `return` keyword\n",
        "    2. value of expression that the function should return"
      ]
    },
    {
      "cell_type": "code",
      "metadata": {
        "id": "_bSV97OImnBS",
        "colab_type": "code",
        "colab": {}
      },
      "source": [
        "def times(x,y):\n",
        "    return x * y"
      ],
      "execution_count": 0,
      "outputs": []
    },
    {
      "cell_type": "code",
      "metadata": {
        "id": "d266NLWKmnBX",
        "colab_type": "code",
        "colab": {}
      },
      "source": [
        "answer = times(3,2)"
      ],
      "execution_count": 0,
      "outputs": []
    },
    {
      "cell_type": "code",
      "metadata": {
        "id": "pjVL-bJzmnBa",
        "colab_type": "code",
        "colab": {},
        "outputId": "4797f402-d4d2-492b-b277-71dce592609c"
      },
      "source": [
        "answer"
      ],
      "execution_count": 0,
      "outputs": [
        {
          "output_type": "execute_result",
          "data": {
            "text/plain": [
              "6"
            ]
          },
          "metadata": {
            "tags": []
          },
          "execution_count": 14
        }
      ]
    },
    {
      "cell_type": "markdown",
      "metadata": {
        "id": "ws3Vo5rLmnBd",
        "colab_type": "text"
      },
      "source": [
        "## Let's Create a Magic 8 Ball"
      ]
    },
    {
      "cell_type": "code",
      "metadata": {
        "id": "SYLNy6_smnBf",
        "colab_type": "code",
        "colab": {}
      },
      "source": [
        "def magic_8_ball(answer):\n",
        "    if answer == 1:\n",
        "        return 'It is certain'\n",
        "    elif answer == 2:\n",
        "        return 'It is decided'\n",
        "    elif answer == 3:\n",
        "        return 'Yes'\n",
        "    elif answer == 4:\n",
        "        return 'Hazy'\n",
        "    elif answer == 5:\n",
        "        return 'Ask again later'\n",
        "    elif answer == 6:\n",
        "        return 'Concentrate and ask again'\n",
        "    elif answer == 7:\n",
        "        return 'NO'\n",
        "    elif answer == 8:\n",
        "        return 'Not looking good'\n",
        "    elif answer == 9:\n",
        "        return 'Doubtful'"
      ],
      "execution_count": 0,
      "outputs": []
    },
    {
      "cell_type": "code",
      "metadata": {
        "id": "Ejkg3Zh7mnBi",
        "colab_type": "code",
        "colab": {},
        "outputId": "06af1c36-667c-45fd-e646-6398b36b7801"
      },
      "source": [
        "import random\n",
        "r = random.randint(1,9) # creates random int\n",
        "fortune = magic_8_ball(r)\n",
        "print(fortune)"
      ],
      "execution_count": 0,
      "outputs": [
        {
          "output_type": "stream",
          "text": [
            "Concentrate and ask again\n"
          ],
          "name": "stdout"
        }
      ]
    },
    {
      "cell_type": "code",
      "metadata": {
        "id": "rczO0-7zmnBl",
        "colab_type": "code",
        "colab": {},
        "outputId": "fad3d1e2-8e7b-449f-e174-cc85c3fe49dc"
      },
      "source": [
        "print(magic_8_ball(random.randint(1,9)))"
      ],
      "execution_count": 0,
      "outputs": [
        {
          "output_type": "stream",
          "text": [
            "Doubtful\n"
          ],
          "name": "stdout"
        }
      ]
    },
    {
      "cell_type": "markdown",
      "metadata": {
        "id": "brWBCE-jmnBo",
        "colab_type": "text"
      },
      "source": [
        "## None Value\n",
        "- `None` represents the absence of a value.\n",
        "- `None` is the only value of the `NoneType`\n",
        "- `None` must be typed with a capital **N**\n"
      ]
    },
    {
      "cell_type": "markdown",
      "metadata": {
        "id": "vpl6HCs9mnBp",
        "colab_type": "text"
      },
      "source": [
        "# Exception Handling\n",
        "\n",
        "- Getting an error (or **exception**) means that the program crashes\n",
        "- You don't want this actually happening\n",
        "- You want the program\n",
        "    1. detect errors\n",
        "    2. handle them\n",
        "    3. continue to run"
      ]
    },
    {
      "cell_type": "code",
      "metadata": {
        "id": "pw2EKfVHmnBq",
        "colab_type": "code",
        "colab": {}
      },
      "source": [
        "def spam(divide_by):\n",
        "    return 42 / divide_by\n"
      ],
      "execution_count": 0,
      "outputs": []
    },
    {
      "cell_type": "code",
      "metadata": {
        "id": "oed9d5rUmnBt",
        "colab_type": "code",
        "colab": {},
        "outputId": "8a0a147c-34fa-4e6e-d970-a6e04cd47eb6"
      },
      "source": [
        "print(spam(2))\n",
        "print(spam(12))\n",
        "print(spam(0))"
      ],
      "execution_count": 0,
      "outputs": [
        {
          "output_type": "stream",
          "text": [
            "21.0\n",
            "3.5\n"
          ],
          "name": "stdout"
        },
        {
          "output_type": "error",
          "ename": "ZeroDivisionError",
          "evalue": "division by zero",
          "traceback": [
            "\u001b[0;31m---------------------------------------------------------------------------\u001b[0m",
            "\u001b[0;31mZeroDivisionError\u001b[0m                         Traceback (most recent call last)",
            "\u001b[0;32m<ipython-input-23-440330e9084a>\u001b[0m in \u001b[0;36m<module>\u001b[0;34m()\u001b[0m\n\u001b[1;32m      1\u001b[0m \u001b[0mprint\u001b[0m\u001b[0;34m(\u001b[0m\u001b[0mspam\u001b[0m\u001b[0;34m(\u001b[0m\u001b[0;36m2\u001b[0m\u001b[0;34m)\u001b[0m\u001b[0;34m)\u001b[0m\u001b[0;34m\u001b[0m\u001b[0m\n\u001b[1;32m      2\u001b[0m \u001b[0mprint\u001b[0m\u001b[0;34m(\u001b[0m\u001b[0mspam\u001b[0m\u001b[0;34m(\u001b[0m\u001b[0;36m12\u001b[0m\u001b[0;34m)\u001b[0m\u001b[0;34m)\u001b[0m\u001b[0;34m\u001b[0m\u001b[0m\n\u001b[0;32m----> 3\u001b[0;31m \u001b[0mprint\u001b[0m\u001b[0;34m(\u001b[0m\u001b[0mspam\u001b[0m\u001b[0;34m(\u001b[0m\u001b[0;36m0\u001b[0m\u001b[0;34m)\u001b[0m\u001b[0;34m)\u001b[0m\u001b[0;34m\u001b[0m\u001b[0m\n\u001b[0m",
            "\u001b[0;32m<ipython-input-22-d16fcfa3bc5b>\u001b[0m in \u001b[0;36mspam\u001b[0;34m(divide_by)\u001b[0m\n\u001b[1;32m      1\u001b[0m \u001b[0;32mdef\u001b[0m \u001b[0mspam\u001b[0m\u001b[0;34m(\u001b[0m\u001b[0mdivide_by\u001b[0m\u001b[0;34m)\u001b[0m\u001b[0;34m:\u001b[0m\u001b[0;34m\u001b[0m\u001b[0m\n\u001b[0;32m----> 2\u001b[0;31m     \u001b[0;32mreturn\u001b[0m \u001b[0;36m42\u001b[0m \u001b[0;34m/\u001b[0m \u001b[0mdivide_by\u001b[0m\u001b[0;34m\u001b[0m\u001b[0m\n\u001b[0m",
            "\u001b[0;31mZeroDivisionError\u001b[0m: division by zero"
          ]
        }
      ]
    },
    {
      "cell_type": "markdown",
      "metadata": {
        "id": "2BRqKSrcmnBw",
        "colab_type": "text"
      },
      "source": [
        "- A `ZeroDivisionError` happens whenever you try to divide a number by zero"
      ]
    },
    {
      "cell_type": "markdown",
      "metadata": {
        "id": "ySnw1KjumnBx",
        "colab_type": "text"
      },
      "source": [
        "## Error Handling\n",
        "\n",
        "- Errors can be handled with `try` and `except` statements\n",
        "- Code that could potentially have an error is put in a try clause\n",
        "    - The program execution moves to the start of the following `except` clause if an error happens\n"
      ]
    },
    {
      "cell_type": "code",
      "metadata": {
        "id": "aCjCu0I9mnBy",
        "colab_type": "code",
        "colab": {}
      },
      "source": [
        "def spam_2(divide_by):\n",
        "    try:\n",
        "        return 42 / divide_by\n",
        "    except ZeroDivisionError:\n",
        "        print('Error: Cannot divide by zero. Sorry!')\n",
        "        "
      ],
      "execution_count": 0,
      "outputs": []
    },
    {
      "cell_type": "code",
      "metadata": {
        "scrolled": true,
        "id": "KqkSWF7_mnB1",
        "colab_type": "code",
        "colab": {},
        "outputId": "5e6f35d3-45f1-41b2-dc71-e5ad58c87bd5"
      },
      "source": [
        "print(spam_2(2))\n",
        "print(spam_2(12))\n",
        "print(spam_2(0))"
      ],
      "execution_count": 0,
      "outputs": [
        {
          "output_type": "stream",
          "text": [
            "21.0\n",
            "3.5\n",
            "Error: Cannot divide by zero. Sorry!\n",
            "None\n"
          ],
          "name": "stdout"
        }
      ]
    },
    {
      "cell_type": "markdown",
      "metadata": {
        "id": "73fLeN4fmnB4",
        "colab_type": "text"
      },
      "source": [
        "# Short Program Example"
      ]
    },
    {
      "cell_type": "code",
      "metadata": {
        "id": "N29rZqI6mnB5",
        "colab_type": "code",
        "colab": {}
      },
      "source": [
        "# This is a guess the number game.\n",
        "def guess_num():\n",
        "    print('What is your name?')\n",
        "    name = input()\n",
        "    print('=============\\n')\n",
        "    import random\n",
        "    secret_number = random.randint(1, 20) # Random int stored between 1-20\n",
        "    print('Hello ' + name + '. \\nI am thinking of a number between 1 and 20.')\n",
        "\n",
        "    # Ask the player to guess 6 times.\n",
        "    for guesses_taken in range(1, 7): # Guess only 6 trys\n",
        "        print('Take a guess.')\n",
        "        guess = int(input()) # Make sure convert input str to int\n",
        "\n",
        "        if guess < secret_number: # Check to see if guess is < or > secret\n",
        "            print('Your guess is too low.')\n",
        "        elif guess > secret_number:\n",
        "            print('Your guess is too high.')\n",
        "        else:\n",
        "            break    # This condition is the correct guess!\n",
        "\n",
        "    if guess == secret_number: # Check if final guess is correct or incorrect\n",
        "        print('Good job! You guessed my number in ' + str(guesses_taken) + \n",
        "              ' guesses!')\n",
        "    else:\n",
        "        print('Nope. The number I was thinking of was ' + str(secret_number))\n"
      ],
      "execution_count": 0,
      "outputs": []
    },
    {
      "cell_type": "code",
      "metadata": {
        "id": "2qWisXckmnB9",
        "colab_type": "code",
        "colab": {},
        "outputId": "157fbb15-cff2-4f6c-c12f-5a58dc4b4ad7"
      },
      "source": [
        "guess_num()"
      ],
      "execution_count": 0,
      "outputs": [
        {
          "output_type": "stream",
          "text": [
            "What is your name?\n",
            ";lkj\n",
            "=============\n",
            "\n",
            "Hello ;lkj. \n",
            "I am thinking of a number between 1 and 20.\n",
            "Take a guess.\n",
            "0\n",
            "Your guess is too low.\n",
            "Take a guess.\n",
            "1\n",
            "Your guess is too low.\n",
            "Take a guess.\n",
            "7\n",
            "Your guess is too low.\n",
            "Take a guess.\n",
            "9\n",
            "Your guess is too low.\n",
            "Take a guess.\n",
            "13\n",
            "Your guess is too high.\n",
            "Take a guess.\n",
            "12\n",
            "Your guess is too high.\n",
            "Nope. The number I was thinking of was 11\n"
          ],
          "name": "stdout"
        }
      ]
    },
    {
      "cell_type": "markdown",
      "metadata": {
        "id": "Db0nJOgXmnCB",
        "colab_type": "text"
      },
      "source": [
        "# Overview of Functions\n",
        "\n",
        "- Primary way to compartmentalize code into logical groups\n",
        "- Variables in functions exist in their own local scopes, the code in one function cannot directly affect the values of variables in other functions\n",
        "- Functions are a great tool to help you organize your code\n",
        "- Think of them as black boxes: \n",
        "    - They have inputs in the form of parameters \n",
        "    - outputs in the form of return values\n",
        "    - the code in them doesn’t affect variables in other functions"
      ]
    },
    {
      "cell_type": "code",
      "metadata": {
        "id": "Qhwk3JjumnCC",
        "colab_type": "code",
        "colab": {}
      },
      "source": [
        ""
      ],
      "execution_count": 0,
      "outputs": []
    },
    {
      "cell_type": "code",
      "metadata": {
        "id": "pyPi7i3UmnCE",
        "colab_type": "code",
        "colab": {}
      },
      "source": [
        ""
      ],
      "execution_count": 0,
      "outputs": []
    }
  ]
}