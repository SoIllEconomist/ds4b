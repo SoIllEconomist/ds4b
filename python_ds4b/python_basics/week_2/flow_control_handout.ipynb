{
  "nbformat": 4,
  "nbformat_minor": 0,
  "metadata": {
    "celltoolbar": "Slideshow",
    "kernelspec": {
      "display_name": "Python 3",
      "language": "python",
      "name": "python3"
    },
    "language_info": {
      "codemirror_mode": {
        "name": "ipython",
        "version": 3
      },
      "file_extension": ".py",
      "mimetype": "text/x-python",
      "name": "python",
      "nbconvert_exporter": "python",
      "pygments_lexer": "ipython3",
      "version": "3.6.5"
    },
    "colab": {
      "name": "flow_control_handout.ipynb",
      "provenance": [],
      "include_colab_link": true
    }
  },
  "cells": [
    {
      "cell_type": "markdown",
      "metadata": {
        "id": "view-in-github",
        "colab_type": "text"
      },
      "source": [
        "<a href=\"https://colab.research.google.com/github/SoIllEconomist/ds4b/blob/master/python_ds4b/python_basics/week_2/flow_control_handout.ipynb\" target=\"_parent\"><img src=\"https://colab.research.google.com/assets/colab-badge.svg\" alt=\"Open In Colab\"/></a>"
      ]
    },
    {
      "cell_type": "markdown",
      "metadata": {
        "id": "qsXkSZBmmVlQ",
        "colab_type": "text"
      },
      "source": [
        "# Flow Control\n",
        "\n",
        "- A program is just a series of instructions\n",
        "- Strength of programming isn’t just running one instruction after another \n",
        "- Based on how the expressions evaluate, the program can decide to skip instructions, repeat them, or choose one of several instructions to run\n",
        "- Flow control statements can decide which instructions to execute under which conditions\n"
      ]
    },
    {
      "cell_type": "markdown",
      "metadata": {
        "id": "auaE5LsomVlW",
        "colab_type": "text"
      },
      "source": [
        "## Flow Control\n",
        "\n",
        "- Flow control statements directly correspond to the symbols in a flowchart\n",
        "- What to do if it's raining?"
      ]
    },
    {
      "cell_type": "markdown",
      "metadata": {
        "id": "ZukTL9jGmVlY",
        "colab_type": "text"
      },
      "source": [
        "## Flow Control\n",
        "- There is more than one way to go from the start to the end.\n",
        "- Flowcharts represent these branching points with diamonds, while the other steps are represented with rectangles. The starting and ending steps are represented with rounded rectangles.\n",
        "\n",
        "- But before you learn about flow control statements, you first need to learn how to represent those yes and no options, and you need to understand how to write those branching points as Python code. \n",
        "- To do this we need Boolean values, comparison operators, and Boolean operators."
      ]
    },
    {
      "cell_type": "markdown",
      "metadata": {
        "id": "JYNSq4E-mVla",
        "colab_type": "text"
      },
      "source": [
        "# Boolean Values\n",
        "- While the integer, floating-point, and string data types have an unlimited number of possible values\n",
        "- Boolean data type has only two values: `True` and `False` "
      ]
    },
    {
      "cell_type": "code",
      "metadata": {
        "id": "WDFsIUm-mVlb",
        "colab_type": "code",
        "colab": {}
      },
      "source": [
        "spam = True"
      ],
      "execution_count": 0,
      "outputs": []
    },
    {
      "cell_type": "code",
      "metadata": {
        "id": "RVgP3Z_LmVlh",
        "colab_type": "code",
        "colab": {},
        "outputId": "b62af611-aad9-4987-d24f-d49f0cbb737e"
      },
      "source": [
        "spam"
      ],
      "execution_count": 0,
      "outputs": [
        {
          "output_type": "execute_result",
          "data": {
            "text/plain": [
              "True"
            ]
          },
          "metadata": {
            "tags": []
          },
          "execution_count": 2
        }
      ]
    },
    {
      "cell_type": "markdown",
      "metadata": {
        "id": "knC1qDPomVlo",
        "colab_type": "text"
      },
      "source": [
        "## Boolean Values (Errors and Protected keywords)"
      ]
    },
    {
      "cell_type": "code",
      "metadata": {
        "id": "V9A-mJtqmVlr",
        "colab_type": "code",
        "colab": {},
        "outputId": "6dec6b0d-aef7-4392-a083-b7ffd788d38a"
      },
      "source": [
        "# Boolean vaules must start with capital T or F\n",
        "true"
      ],
      "execution_count": 0,
      "outputs": [
        {
          "output_type": "error",
          "ename": "NameError",
          "evalue": "name 'true' is not defined",
          "traceback": [
            "\u001b[0;31m---------------------------------------------------------------------------\u001b[0m",
            "\u001b[0;31mNameError\u001b[0m                                 Traceback (most recent call last)",
            "\u001b[0;32m<ipython-input-3-cae9d639713c>\u001b[0m in \u001b[0;36m<module>\u001b[0;34m()\u001b[0m\n\u001b[1;32m      1\u001b[0m \u001b[0;31m# Boolean vaules must start with capital T or F\u001b[0m\u001b[0;34m\u001b[0m\u001b[0;34m\u001b[0m\u001b[0m\n\u001b[0;32m----> 2\u001b[0;31m \u001b[0mtrue\u001b[0m\u001b[0;34m\u001b[0m\u001b[0m\n\u001b[0m",
            "\u001b[0;31mNameError\u001b[0m: name 'true' is not defined"
          ]
        }
      ]
    },
    {
      "cell_type": "code",
      "metadata": {
        "id": "A1vZJ_49mVlx",
        "colab_type": "code",
        "colab": {},
        "outputId": "a5cb230d-0ffb-4cc5-e127-0e4391b47b9a"
      },
      "source": [
        "True = 2 + 4 # Booleans are protected in Python"
      ],
      "execution_count": 0,
      "outputs": [
        {
          "output_type": "error",
          "ename": "SyntaxError",
          "evalue": "can't assign to keyword (<ipython-input-4-bb6e53e42985>, line 1)",
          "traceback": [
            "\u001b[0;36m  File \u001b[0;32m\"<ipython-input-4-bb6e53e42985>\"\u001b[0;36m, line \u001b[0;32m1\u001b[0m\n\u001b[0;31m    True = 2 + 4 # Booleans are protected in Python\u001b[0m\n\u001b[0m                                                   ^\u001b[0m\n\u001b[0;31mSyntaxError\u001b[0m\u001b[0;31m:\u001b[0m can't assign to keyword\n"
          ]
        }
      ]
    },
    {
      "cell_type": "markdown",
      "metadata": {
        "id": "nNU_hVA7mVl3",
        "colab_type": "text"
      },
      "source": [
        "# Comparsison Operators\n",
        "\n",
        "- **Comparision operators** comepate two values and evaluate down to a single Boolean value\n",
        "\n",
        "| Operator | Meaning                  |\n",
        "|----------|--------------------------|\n",
        "| ==       | Equal to                 |\n",
        "| !=       | Not equal to             |\n",
        "| <        | Less than                |\n",
        "| >        | Greater than             |\n",
        "| <=       | Less than or equal to    |\n",
        "| >=       | Greater than or equal to |\n",
        "\n",
        "- These operators evaluate to `True` and `False`"
      ]
    },
    {
      "cell_type": "markdown",
      "metadata": {
        "id": "yzAWjCqtmVl4",
        "colab_type": "text"
      },
      "source": [
        "## Comparison Operator Examples"
      ]
    },
    {
      "cell_type": "code",
      "metadata": {
        "id": "P0ntWNpomVl5",
        "colab_type": "code",
        "colab": {},
        "outputId": "b6fe1e47-a1ec-4ef7-9aa5-b78392abb37c"
      },
      "source": [
        "42 == 42"
      ],
      "execution_count": 0,
      "outputs": [
        {
          "output_type": "execute_result",
          "data": {
            "text/plain": [
              "True"
            ]
          },
          "metadata": {
            "tags": []
          },
          "execution_count": 5
        }
      ]
    },
    {
      "cell_type": "code",
      "metadata": {
        "id": "QXrseoSomVl9",
        "colab_type": "code",
        "colab": {},
        "outputId": "85ec3d0c-aed9-4e56-8c54-8e33548b809a"
      },
      "source": [
        "42 == 43"
      ],
      "execution_count": 0,
      "outputs": [
        {
          "output_type": "execute_result",
          "data": {
            "text/plain": [
              "False"
            ]
          },
          "metadata": {
            "tags": []
          },
          "execution_count": 6
        }
      ]
    },
    {
      "cell_type": "code",
      "metadata": {
        "id": "H0Nsm2SKmVmH",
        "colab_type": "code",
        "colab": {},
        "outputId": "5c2c3f69-ab99-471b-8bcd-8b9233b18bd1"
      },
      "source": [
        "2 != 3"
      ],
      "execution_count": 0,
      "outputs": [
        {
          "output_type": "execute_result",
          "data": {
            "text/plain": [
              "True"
            ]
          },
          "metadata": {
            "tags": []
          },
          "execution_count": 7
        }
      ]
    },
    {
      "cell_type": "code",
      "metadata": {
        "id": "3-icF0YFmVmK",
        "colab_type": "code",
        "colab": {},
        "outputId": "abd47d7d-5fca-4a9e-a8c1-11cd13f26690"
      },
      "source": [
        "2 != 2"
      ],
      "execution_count": 0,
      "outputs": [
        {
          "output_type": "execute_result",
          "data": {
            "text/plain": [
              "False"
            ]
          },
          "metadata": {
            "tags": []
          },
          "execution_count": 8
        }
      ]
    },
    {
      "cell_type": "markdown",
      "metadata": {
        "id": "UkecUULGmVmO",
        "colab_type": "text"
      },
      "source": [
        "# Boolean Operators\n",
        "\n",
        "- The three Boolean operators (`and`, `or`, and `not`) are used to compare Boolean values. \n",
        "- Like comparison operators, they evaluate these expressions down to a Boolean value\n"
      ]
    },
    {
      "cell_type": "markdown",
      "metadata": {
        "id": "GNYmsYj9mVmP",
        "colab_type": "text"
      },
      "source": [
        "## Binary Boolean Operators\n",
        "\n",
        "- The `and` and `or` operators always take two Boolean values (or expressions), so they’re considered binary operators. \n",
        "- The `and` operator evaluates an expression to `True` if both Boolean values are `True`; otherwise, it evaluates to `False`. "
      ]
    },
    {
      "cell_type": "code",
      "metadata": {
        "id": "OJ2wFKPsmVmQ",
        "colab_type": "code",
        "colab": {},
        "outputId": "8f43077e-4d5d-4efd-d0fb-bac72a3192c6"
      },
      "source": [
        "True and True"
      ],
      "execution_count": 0,
      "outputs": [
        {
          "output_type": "execute_result",
          "data": {
            "text/plain": [
              "True"
            ]
          },
          "metadata": {
            "tags": []
          },
          "execution_count": 9
        }
      ]
    },
    {
      "cell_type": "code",
      "metadata": {
        "id": "EJO9sYNJmVmT",
        "colab_type": "code",
        "colab": {},
        "outputId": "796c790f-5967-40f3-a26a-6f27b5862a17"
      },
      "source": [
        "True and False"
      ],
      "execution_count": 0,
      "outputs": [
        {
          "output_type": "execute_result",
          "data": {
            "text/plain": [
              "False"
            ]
          },
          "metadata": {
            "tags": []
          },
          "execution_count": 10
        }
      ]
    },
    {
      "cell_type": "markdown",
      "metadata": {
        "id": "uzjkQXFBmVmX",
        "colab_type": "text"
      },
      "source": [
        "## Binary Boolean Table\n",
        "| Expression      | Evaluates |\n",
        "|-----------------|-----------|\n",
        "| True and True   | True      |\n",
        "| True and False  | False     |\n",
        "| False and True  | False     |\n",
        "| False and False | False     |\n",
        "| True or True    | True      |\n",
        "| True or False   | True      |\n",
        "| False or True   | True      |\n",
        "| False or False  | False     |"
      ]
    },
    {
      "cell_type": "markdown",
      "metadata": {
        "id": "VCfym9yqmVma",
        "colab_type": "text"
      },
      "source": [
        "## not Operator\n",
        "-  `not` operator operates on only one Boolean value (or expression)\n",
        "- `not` operator simply evaluates to the opposite Boolean value"
      ]
    },
    {
      "cell_type": "code",
      "metadata": {
        "id": "zFxktHWdmVmb",
        "colab_type": "code",
        "colab": {},
        "outputId": "399971be-dddb-45a1-bab3-35f797fa76ca"
      },
      "source": [
        "not True"
      ],
      "execution_count": 0,
      "outputs": [
        {
          "output_type": "execute_result",
          "data": {
            "text/plain": [
              "False"
            ]
          },
          "metadata": {
            "tags": []
          },
          "execution_count": 11
        }
      ]
    },
    {
      "cell_type": "code",
      "metadata": {
        "id": "LU8jOxGLmVme",
        "colab_type": "code",
        "colab": {},
        "outputId": "b1488138-9f8f-44e9-cf01-09d5cf154e2e"
      },
      "source": [
        "not False"
      ],
      "execution_count": 0,
      "outputs": [
        {
          "output_type": "execute_result",
          "data": {
            "text/plain": [
              "True"
            ]
          },
          "metadata": {
            "tags": []
          },
          "execution_count": 12
        }
      ]
    },
    {
      "cell_type": "markdown",
      "metadata": {
        "id": "xuZE20zlmVmj",
        "colab_type": "text"
      },
      "source": [
        "# Booleans and Comparision Operators\n",
        "- Comparison operators evaluate to Boolean values, you can use them in expressions with the Boolean operators"
      ]
    },
    {
      "cell_type": "code",
      "metadata": {
        "id": "TfEdKV52mVmm",
        "colab_type": "code",
        "colab": {},
        "outputId": "7c89e9f0-4c9f-46b7-ceeb-85ef14cfd819"
      },
      "source": [
        "(4 < 5) and (5 < 6)"
      ],
      "execution_count": 0,
      "outputs": [
        {
          "output_type": "execute_result",
          "data": {
            "text/plain": [
              "True"
            ]
          },
          "metadata": {
            "tags": []
          },
          "execution_count": 13
        }
      ]
    },
    {
      "cell_type": "code",
      "metadata": {
        "id": "6qKKJpi1mVmt",
        "colab_type": "code",
        "colab": {},
        "outputId": "52af0b2a-c0f7-4c55-c6aa-63f88fc547b8"
      },
      "source": [
        "(4<5) and (9<6)"
      ],
      "execution_count": 0,
      "outputs": [
        {
          "output_type": "execute_result",
          "data": {
            "text/plain": [
              "False"
            ]
          },
          "metadata": {
            "tags": []
          },
          "execution_count": 14
        }
      ]
    },
    {
      "cell_type": "code",
      "metadata": {
        "id": "MwxHsGv5mVmw",
        "colab_type": "code",
        "colab": {},
        "outputId": "6d00db9c-b77f-4ec6-a51d-fce45541f715"
      },
      "source": [
        "(1==2) or (2 == 2)"
      ],
      "execution_count": 0,
      "outputs": [
        {
          "output_type": "execute_result",
          "data": {
            "text/plain": [
              "True"
            ]
          },
          "metadata": {
            "tags": []
          },
          "execution_count": 15
        }
      ]
    },
    {
      "cell_type": "markdown",
      "metadata": {
        "id": "PVW0yLg8mVmz",
        "colab_type": "text"
      },
      "source": [
        "- The computer will evaluate the left expression first, and then it will evaluate the right expression\n",
        "- When it knows the Boolean value for each, it will then evaluate the whole expression down to one Boolean value. "
      ]
    },
    {
      "cell_type": "markdown",
      "metadata": {
        "id": "jKbiPHffmVm0",
        "colab_type": "text"
      },
      "source": [
        "# Elements of Flow Control\n",
        "- Flow control statements often start with a part called the **condition**\n",
        "- Followed by a block of code called the **clause** "
      ]
    },
    {
      "cell_type": "markdown",
      "metadata": {
        "id": "GMRxT-KwmVm1",
        "colab_type": "text"
      },
      "source": [
        "## Conditions\n",
        "\n",
        "- The Boolean expressions you’ve seen so far could all be considered conditions\n",
        "- Flow control statement decides what to do based on whether its condition is `True` or `False`"
      ]
    },
    {
      "cell_type": "markdown",
      "metadata": {
        "id": "XYajjTt7mVm2",
        "colab_type": "text"
      },
      "source": [
        "## Blocks of Code\n",
        "\n",
        "- Code can be grouped together in blocks\n",
        "- Block begins and ends from the indentation of the lines of code\n",
        "- There are three rules for blocks:\n",
        "\n",
        "     1. Blocks begin when the indentation increases\n",
        "     2. Blocks can contain other blocks\n",
        "     3. Blocks end when the indentation decreases to zero or to a containing block’s indentation."
      ]
    },
    {
      "cell_type": "code",
      "metadata": {
        "id": "M4hHKB3JmVm3",
        "colab_type": "code",
        "colab": {},
        "outputId": "bbcc2bdb-b8ac-4eef-cae7-34f09f9ad586"
      },
      "source": [
        "user = 'Bob' # User input\n",
        "password = 'swordfish' # Password input\n",
        "if user == 'Bob':\n",
        "    print('Hello ' + user)\n",
        "    if password == 'swordfish':\n",
        "        print('Access granted.')\n",
        "    else:\n",
        "        print('Wrong password.')"
      ],
      "execution_count": 0,
      "outputs": [
        {
          "output_type": "stream",
          "text": [
            "Hello Bob\n",
            "Access granted.\n"
          ],
          "name": "stdout"
        }
      ]
    },
    {
      "cell_type": "markdown",
      "metadata": {
        "id": "q8AWzLTLmVm_",
        "colab_type": "text"
      },
      "source": [
        "# if Statements\n",
        "\n",
        "- The most common type of flow control statement is the if statement\n",
        "- An if statement’s clause executes if the statement’s condition is True\n",
        "- The clause is skipped if the condition is False\n"
      ]
    },
    {
      "cell_type": "markdown",
      "metadata": {
        "id": "cha8nUmbmVnA",
        "colab_type": "text"
      },
      "source": [
        "## if Statements\n",
        "\n",
        "- if statements consists of the following parts:\n",
        "    1. the `if` keyword\n",
        "    2. a condition (Expression evaluating to `True` or `False`)\n",
        "    3. a colon\n",
        "    4. starting on the next line, and indetned block of code (**if clause**)"
      ]
    },
    {
      "cell_type": "code",
      "metadata": {
        "id": "j5kjj2IKmVnB",
        "colab_type": "code",
        "colab": {}
      },
      "source": [
        "name = 'Bob'\n",
        "if name == 'Alice':\n",
        "    print('Hi, Alice.')"
      ],
      "execution_count": 0,
      "outputs": []
    },
    {
      "cell_type": "markdown",
      "metadata": {
        "id": "w4FgtVt-mVnD",
        "colab_type": "text"
      },
      "source": [
        "## else Statements\n",
        "\n",
        "- else clause is executed only when the if statement’s condition is False - else statements consists of the following:\n",
        "        \n",
        "     1. The else keyword\n",
        "     2. A colon\n",
        "     3. Starting on the next line, an indented block of code (**else clause**)"
      ]
    },
    {
      "cell_type": "code",
      "metadata": {
        "id": "gj2dPLvQmVnE",
        "colab_type": "code",
        "colab": {},
        "outputId": "2b5cd945-b96a-4a79-ae73-85a7075a655a"
      },
      "source": [
        "name = 'Bob'\n",
        "if name == 'Alice':\n",
        "    print('Hi, Alice.')\n",
        "else:\n",
        "    print('STRANGER DANGER!!!')"
      ],
      "execution_count": 0,
      "outputs": [
        {
          "output_type": "stream",
          "text": [
            "STRANGER DANGER!!!\n"
          ],
          "name": "stdout"
        }
      ]
    },
    {
      "cell_type": "markdown",
      "metadata": {
        "id": "mE2WaSdKmVnH",
        "colab_type": "text"
      },
      "source": [
        "## elif Statements\n",
        "- The elif statement is an “else if” statement that always follows an if or another elif statement\n",
        "- It provides another condition that is checked only if all of the previous conditions were False\n",
        "- elif statement always consists of the following:\n",
        "    1. The elif keyword\n",
        "    2. A condition (that is, an expression that evaluates to True or False)\n",
        "    3. A colon\n",
        "    4. Starting on the next line, an indented block of code (**elif clause**)"
      ]
    },
    {
      "cell_type": "code",
      "metadata": {
        "id": "bYeklrGHmVnH",
        "colab_type": "code",
        "colab": {},
        "outputId": "f5f9472b-11eb-427d-940f-5f6493ae0386"
      },
      "source": [
        "name = 'Alice'\n",
        "age = 80\n",
        "if name == 'Alice':\n",
        "    print('Hi, Alice.')\n",
        "elif age < 10:\n",
        "    print('Stranger Danger!')"
      ],
      "execution_count": 0,
      "outputs": [
        {
          "output_type": "stream",
          "text": [
            "Hi, Alice.\n"
          ],
          "name": "stdout"
        }
      ]
    },
    {
      "cell_type": "code",
      "metadata": {
        "id": "TN5knf6umVnM",
        "colab_type": "code",
        "colab": {},
        "outputId": "8fffc6aa-3232-481a-c779-6080fb21471b"
      },
      "source": [
        "name = 'Dracula'\n",
        "age = 4000\n",
        "if name == 'Alice':\n",
        "    print('Hi, Alice.')\n",
        "elif age < 12:\n",
        "    print('You are not Alice, kiddo.')\n",
        "elif age > 2000:\n",
        "    print('Unlike you, Alice is not an undead, immortal vampire.')\n",
        "elif age > 100:\n",
        "    print('You are not Alice, grannie.')"
      ],
      "execution_count": 0,
      "outputs": [
        {
          "output_type": "stream",
          "text": [
            "Unlike you, Alice is not an undead, immortal vampire.\n"
          ],
          "name": "stdout"
        }
      ]
    },
    {
      "cell_type": "markdown",
      "metadata": {
        "id": "idtd_pQgmVnO",
        "colab_type": "text"
      },
      "source": [
        "## elif statements\n",
        "- The order of the elif statements does matter, HOWEVER!!! \n",
        "- We can arrange the code so a bug forms"
      ]
    },
    {
      "cell_type": "code",
      "metadata": {
        "id": "x8lDdro1mVnP",
        "colab_type": "code",
        "colab": {},
        "outputId": "6043d87d-31a7-4e6f-806a-c48f834ddebb"
      },
      "source": [
        "name = 'Dracula'\n",
        "age = 4000\n",
        "if name == 'Alice':\n",
        "    print('Hi, Alice.')\n",
        "elif age < 12:\n",
        "    print('You are not Alice, kiddo.')\n",
        "elif age > 100:\n",
        "    print('You are not Alice, grannie.')\n",
        "elif age > 2000:\n",
        "    print('Unlike you, Alice is not an undead, immortal vampire.')"
      ],
      "execution_count": 0,
      "outputs": [
        {
          "output_type": "stream",
          "text": [
            "You are not Alice, grannie.\n"
          ],
          "name": "stdout"
        }
      ]
    },
    {
      "cell_type": "markdown",
      "metadata": {
        "id": "EDLVaea4mVnV",
        "colab_type": "text"
      },
      "source": [
        "## elif statements\n",
        "- You can have an else statement after the last elif statement\n",
        "- This case is guaranteed that at least one (and only one) of the clauses will be executed\n",
        "- If the conditions in every if and elif statement are False, then the else clause is executed. "
      ]
    },
    {
      "cell_type": "code",
      "metadata": {
        "id": "JtQvmoHBmVnW",
        "colab_type": "code",
        "colab": {},
        "outputId": "6876cd90-63a4-4d20-a980-17b069bd4a72"
      },
      "source": [
        "name = 'Bob'\n",
        "age = 30\n",
        "if name == 'Alice':\n",
        "    print('Hi, Alice.')\n",
        "elif age < 12:\n",
        "    print('You are not Alice, kiddo.')\n",
        "else:\n",
        "    print('You are neither Alice nor a little kid.')"
      ],
      "execution_count": 0,
      "outputs": [
        {
          "output_type": "stream",
          "text": [
            "You are neither Alice nor a little kid.\n"
          ],
          "name": "stdout"
        }
      ]
    },
    {
      "cell_type": "markdown",
      "metadata": {
        "id": "tLYXBkB2mVnZ",
        "colab_type": "text"
      },
      "source": [
        "# while Loop Staements\n",
        "\n",
        "- Make a block of code execute over and over again with a `while` statement\n",
        "- Code inside the `while` clause will be executed as long as the `while` statement’s condition is `True`\n",
        "- `while` statement always consists of the following:\n",
        "\n",
        "    1. The while keyword\n",
        "    2. A condition (that is, an expression that evaluates to True or False)\n",
        "    3. A colon\n",
        "    4. Starting on the next line, an indented block of code (**while clause**)"
      ]
    },
    {
      "cell_type": "markdown",
      "metadata": {
        "id": "Ppc5h5FOmVna",
        "colab_type": "text"
      },
      "source": [
        "## while Loop\n",
        "- `while` statement looks similar to `if` statements\n",
        "- The difference is how the behave.\n",
        "    - `if`: program execution continues after the `if` statement\n",
        "    - `while`: program execution jumps back to the start of the `while` statement"
      ]
    },
    {
      "cell_type": "markdown",
      "metadata": {
        "id": "-coq2SqjmVnb",
        "colab_type": "text"
      },
      "source": [
        "## Comparison of if and while "
      ]
    },
    {
      "cell_type": "code",
      "metadata": {
        "id": "-P2W-oWNmVnb",
        "colab_type": "code",
        "colab": {},
        "outputId": "1f0938d6-3822-47ed-dc93-d051c33f6511"
      },
      "source": [
        "# if statement\n",
        "spam = 0\n",
        "if spam < 5:\n",
        "    print('Hello world!')\n",
        "    spam += 1 # Equiv to spam = spam + 1"
      ],
      "execution_count": 0,
      "outputs": [
        {
          "output_type": "stream",
          "text": [
            "Hello world!\n"
          ],
          "name": "stdout"
        }
      ]
    },
    {
      "cell_type": "code",
      "metadata": {
        "id": "Cw2FX8RWmVnf",
        "colab_type": "code",
        "colab": {},
        "outputId": "550b65b6-d931-41c6-c496-a24722898a1f"
      },
      "source": [
        "# while statement\n",
        "spam = 0\n",
        "while spam < 5:\n",
        "    print('Hello world!')\n",
        "    spam += 1"
      ],
      "execution_count": 0,
      "outputs": [
        {
          "output_type": "stream",
          "text": [
            "Hello world!\n",
            "Hello world!\n",
            "Hello world!\n",
            "Hello world!\n",
            "Hello world!\n"
          ],
          "name": "stdout"
        }
      ]
    },
    {
      "cell_type": "code",
      "metadata": {
        "id": "99Q8_WNimVni",
        "colab_type": "code",
        "colab": {},
        "outputId": "65372559-d1cf-48d6-8583-f90b071b7398"
      },
      "source": [
        "# while loop example Explanation\n",
        "name = '' # Empty string\n",
        "while name != 'your name': # while not equal to 'your name'\n",
        "    print('Please type your name')\n",
        "    name = input() # input assigned to name variable\n",
        "print('Thank you!') # when condition becomes `True` print this"
      ],
      "execution_count": 0,
      "outputs": [
        {
          "output_type": "stream",
          "text": [
            "Please type your name\n",
            "your name\n",
            "Thank you!\n"
          ],
          "name": "stdout"
        }
      ]
    },
    {
      "cell_type": "markdown",
      "metadata": {
        "id": "QAMv99eemVnl",
        "colab_type": "text"
      },
      "source": [
        "## break statements\n",
        "   - To get out of a `while` loop early, use a `break` statement\n",
        "   - If execution reaches a `break` staement, it exits the loop"
      ]
    },
    {
      "cell_type": "code",
      "metadata": {
        "id": "pN7HSahYmVnm",
        "colab_type": "code",
        "colab": {},
        "outputId": "871d2056-3eb4-47cf-ee7d-398657a7674e"
      },
      "source": [
        "# break statement explanation\n",
        "while True: # Create infinite loop (!dangerous!)\n",
        "    print('Type your name.')\n",
        "    name = input() # input assigned to name variable\n",
        "    if name == 'your name': # Check if name equal to 'your name'\n",
        "        break # If this condition is true break (move on to next part)\n",
        "print('Thank you!') # End by printing thank you"
      ],
      "execution_count": 0,
      "outputs": [
        {
          "output_type": "stream",
          "text": [
            "Type your name.\n",
            "your name\n",
            "Thank you!\n"
          ],
          "name": "stdout"
        }
      ]
    },
    {
      "cell_type": "markdown",
      "metadata": {
        "id": "7GHp4WvwmVno",
        "colab_type": "text"
      },
      "source": [
        "## continue statements\n",
        "- Similar to `break`, `continue` resides inside of a loop\n",
        "- When the execution reaches `continue`, program execution jumps back to the start of the loop and reevalueates the loop's condition."
      ]
    },
    {
      "cell_type": "code",
      "metadata": {
        "id": "oBI3gcpgmVnp",
        "colab_type": "code",
        "colab": {},
        "outputId": "c2573321-3927-4290-d81e-57116fcd6ec1"
      },
      "source": [
        "while True:\n",
        "  print('Who are you?')\n",
        "  name = input()\n",
        "  if name != 'Bob': # If user give name beside bob     \n",
        "    continue        # jump back to start of loop\n",
        "  print('Hello, Bob. What is the password?') \n",
        "  password = input()# If they make it past if statement request password\n",
        "  if password == 'tofu':\n",
        "    break           # If give correct password break the loop\n",
        "print('Access granted.') # Print access granted"
      ],
      "execution_count": 0,
      "outputs": [
        {
          "output_type": "stream",
          "text": [
            "Who are you?\n",
            "Name\n",
            "Who are you?\n",
            "Bob\n",
            "Hello, Bob. What is the password?\n",
            "tofu\n",
            "Access granted.\n"
          ],
          "name": "stdout"
        }
      ]
    },
    {
      "cell_type": "markdown",
      "metadata": {
        "id": "pXDQmJFAmVns",
        "colab_type": "text"
      },
      "source": [
        "# for Loops and range() function\n",
        "- `for` statement looks for something like for `i in range(5):` and always includes:\n",
        "    1. `for` keyword\n",
        "    2. variable name\n",
        "    3. `in` keyword\n",
        "    4. calls the `range()` function\n",
        "    5. starting line, an indented block of code (**for clause**)"
      ]
    },
    {
      "cell_type": "code",
      "metadata": {
        "id": "zC2AmoSmmVns",
        "colab_type": "code",
        "colab": {},
        "outputId": "5f075e43-3b75-45ba-9f36-e9e06a3c78c8"
      },
      "source": [
        "print('My name is')\n",
        "for i in range(5):\n",
        "    print(\"Jimmy Five Times (\" + str(i) + \")\")"
      ],
      "execution_count": 0,
      "outputs": [
        {
          "output_type": "stream",
          "text": [
            "My name is\n",
            "Jimmy Five Times (0)\n",
            "Jimmy Five Times (1)\n",
            "Jimmy Five Times (2)\n",
            "Jimmy Five Times (3)\n",
            "Jimmy Five Times (4)\n"
          ],
          "name": "stdout"
        }
      ]
    },
    {
      "cell_type": "markdown",
      "metadata": {
        "id": "gJ4s4d_KmVnw",
        "colab_type": "text"
      },
      "source": [
        "The code in the `for` loop clause runs five times."
      ]
    },
    {
      "cell_type": "code",
      "metadata": {
        "id": "oanCW3yKmVnw",
        "colab_type": "code",
        "colab": {},
        "outputId": "1267bc75-ed31-441b-f2ff-e4f756beee66"
      },
      "source": [
        "total = 0\n",
        "for num in range(101):\n",
        "    total = total + num\n",
        "print(total)"
      ],
      "execution_count": 0,
      "outputs": [
        {
          "output_type": "stream",
          "text": [
            "5050\n"
          ],
          "name": "stdout"
        }
      ]
    },
    {
      "cell_type": "markdown",
      "metadata": {
        "id": "VJY88ZN_mVnz",
        "colab_type": "text"
      },
      "source": [
        "## starting, stopping, stepping with range()\n",
        "\n",
        "- (some) Functions can call multiple arguments separated by a comma\n",
        "- `range()` lets you pass a sequence of integers\n",
        "    - start value, stop value, and step argument\n",
        "    "
      ]
    },
    {
      "cell_type": "code",
      "metadata": {
        "id": "IjenppWHmVnz",
        "colab_type": "code",
        "colab": {},
        "outputId": "928a9c76-81d8-4dc9-d8f6-638b9e7e5b3f"
      },
      "source": [
        "for i in range(0, 21, 4):\n",
        "    print(i)"
      ],
      "execution_count": 0,
      "outputs": [
        {
          "output_type": "stream",
          "text": [
            "0\n",
            "4\n",
            "8\n",
            "12\n",
            "16\n",
            "20\n"
          ],
          "name": "stdout"
        }
      ]
    },
    {
      "cell_type": "code",
      "metadata": {
        "id": "LupZ1nlamVn1",
        "colab_type": "code",
        "colab": {},
        "outputId": "8355b889-06a6-40f3-efcb-6f52b215b619"
      },
      "source": [
        "for i in range(10,-1, -1): # Create a countdown\n",
        "    print(i)"
      ],
      "execution_count": 0,
      "outputs": [
        {
          "output_type": "stream",
          "text": [
            "10\n",
            "9\n",
            "8\n",
            "7\n",
            "6\n",
            "5\n",
            "4\n",
            "3\n",
            "2\n",
            "1\n",
            "0\n"
          ],
          "name": "stdout"
        }
      ]
    },
    {
      "cell_type": "markdown",
      "metadata": {
        "id": "9FoBVrbymVn3",
        "colab_type": "text"
      },
      "source": [
        "# Importing Modules\n",
        "\n",
        "- Python programs can call a basic set of functions called **built-in functions**, including the `print()`, `input()`, and `len()`\n",
        "- Python also comes with a set of **modules** called the **standard library**\n",
        "- Each module is a Python program that contains a related group of functions that can be embedded in your programs\n",
        "- Before you can use the functions in a module, you must import the module with an import statement"
      ]
    },
    {
      "cell_type": "markdown",
      "metadata": {
        "id": "ADV4S1_1mVn4",
        "colab_type": "text"
      },
      "source": [
        "## Importing Modules\n",
        "- An `import` statement consists of the following:\n",
        "    1. The `import` keyword\n",
        "    2. The name of the module\n",
        "    3. (Optional) more module names, as long as they are separated by commas"
      ]
    },
    {
      "cell_type": "markdown",
      "metadata": {
        "id": "hk-0kR2FmVn5",
        "colab_type": "text"
      },
      "source": [
        "## Random module\n",
        "- Once you import a module, you can use the functions of that module\n",
        "- Give the following a try:"
      ]
    },
    {
      "cell_type": "code",
      "metadata": {
        "id": "94sqAnJzmVn5",
        "colab_type": "code",
        "colab": {},
        "outputId": "101c4dcb-1728-49a2-fec1-2845b1c5685a"
      },
      "source": [
        "import random\n",
        "for i in range(5):\n",
        "    print(random.randint(1,10))"
      ],
      "execution_count": 0,
      "outputs": [
        {
          "output_type": "stream",
          "text": [
            "4\n",
            "3\n",
            "1\n",
            "3\n",
            "5\n"
          ],
          "name": "stdout"
        }
      ]
    },
    {
      "cell_type": "markdown",
      "metadata": {
        "id": "IyyOi7k5mVn8",
        "colab_type": "text"
      },
      "source": [
        "When you run this program, the output will look similar (but not exactly like above)"
      ]
    },
    {
      "cell_type": "markdown",
      "metadata": {
        "id": "8BeYeqpOmVn-",
        "colab_type": "text"
      },
      "source": [
        "## random Module\n",
        "- `random.randint()` function call gives a random integer between the two integers you pass it.\n",
        "- Since `randint()` is in the `random` module, you must first type `random.` in front of the function.\n",
        "    - This tells Python to look in the `random` module"
      ]
    },
    {
      "cell_type": "markdown",
      "metadata": {
        "id": "x2teNLaCmVn_",
        "colab_type": "text"
      },
      "source": [
        "## Importing multiple modules"
      ]
    },
    {
      "cell_type": "code",
      "metadata": {
        "id": "vxn7xYsNmVoA",
        "colab_type": "code",
        "colab": {}
      },
      "source": [
        "# After running this line we'll be able to use the 4 modules\n",
        "import random, sys, os, math"
      ],
      "execution_count": 0,
      "outputs": []
    },
    {
      "cell_type": "markdown",
      "metadata": {
        "id": "M0QSRkXpmVoE",
        "colab_type": "text"
      },
      "source": [
        "## from import Statements\n",
        "- It is possible to import only the functions from a specific module\n",
        "    - **Using the full name makes your code more readable**"
      ]
    },
    {
      "cell_type": "code",
      "metadata": {
        "id": "iw3aONrvmVoF",
        "colab_type": "code",
        "colab": {}
      },
      "source": [
        "# star implies importing ALL functions from random\n",
        "from random import * \n",
        "# Here we are only importing the square root function from\n",
        "# the math module\n",
        "from math import sqrt "
      ],
      "execution_count": 0,
      "outputs": []
    },
    {
      "cell_type": "markdown",
      "metadata": {
        "id": "LX7i91-ymVoH",
        "colab_type": "text"
      },
      "source": [
        "# Ending a program with sys.exit()\n",
        "- A program traditionally terminates at the end of the program.\n",
        "- You can cause the program to terminate (exit) by calling the `sys.exit()` function.\n",
        "- Since this module is in the `sys` module, you'll need to import it first"
      ]
    },
    {
      "cell_type": "code",
      "metadata": {
        "id": "rReykFv4mVoH",
        "colab_type": "code",
        "colab": {}
      },
      "source": [
        "import sys\n",
        "while True:\n",
        "    print(\"Type exit to exit.\")\n",
        "    response = input()\n",
        "    if response == 'exit':\n",
        "        sys.exit()\n",
        "    print(\"You typed \" + response + \".\")"
      ],
      "execution_count": 0,
      "outputs": []
    },
    {
      "cell_type": "markdown",
      "metadata": {
        "id": "sZTGqiI0mVoJ",
        "colab_type": "text"
      },
      "source": [
        "This program has an infinite loop with no `break`.\n",
        "The only way to sop the program is if the user enters `exit` causing `sys.exit()` to be called"
      ]
    }
  ]
}