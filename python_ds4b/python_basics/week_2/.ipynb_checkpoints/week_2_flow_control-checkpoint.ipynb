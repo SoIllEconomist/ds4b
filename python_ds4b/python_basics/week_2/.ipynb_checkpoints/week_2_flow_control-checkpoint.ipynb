{
 "cells": [
  {
   "cell_type": "markdown",
   "metadata": {
    "slideshow": {
     "slide_type": "slide"
    }
   },
   "source": [
    "# Flow Control\n",
    "\n",
    "- A program is just a series of instructions\n",
    "- Strength of programming isn’t just running one instruction after another \n",
    "- Based on how the expressions evaluate, the program can decide to skip instructions, repeat them, or choose one of several instructions to run\n",
    "- Flow control statements can decide which instructions to execute under which conditions\n"
   ]
  },
  {
   "cell_type": "markdown",
   "metadata": {
    "slideshow": {
     "slide_type": "slide"
    }
   },
   "source": [
    "## Flow Control\n",
    "\n",
    "- Flow control statements directly correspond to the symbols in a flowchart\n",
    "- What to do if it's raining?"
   ]
  },
  {
   "cell_type": "markdown",
   "metadata": {
    "slideshow": {
     "slide_type": "slide"
    }
   },
   "source": [
    "![flowchart_rain](files\\flowchart_rain.jpg)"
   ]
  },
  {
   "cell_type": "markdown",
   "metadata": {
    "slideshow": {
     "slide_type": "slide"
    }
   },
   "source": [
    "## Flow Control\n",
    "- There is more than one way to go from the start to the end.\n",
    "- Flowcharts represent these branching points with diamonds, while the other steps are represented with rectangles. The starting and ending steps are represented with rounded rectangles.\n",
    "\n",
    "- But before you learn about flow control statements, you first need to learn how to represent those yes and no options, and you need to understand how to write those branching points as Python code. \n",
    "- To do this we need Boolean values, comparison operators, and Boolean operators."
   ]
  },
  {
   "cell_type": "markdown",
   "metadata": {
    "slideshow": {
     "slide_type": "slide"
    }
   },
   "source": [
    "# Boolean Values\n",
    "- While the integer, floating-point, and string data types have an unlimited number of possible values\n",
    "- Boolean data type has only two values: `True` and `False` "
   ]
  },
  {
   "cell_type": "code",
   "execution_count": 1,
   "metadata": {},
   "outputs": [],
   "source": [
    "spam = True"
   ]
  },
  {
   "cell_type": "code",
   "execution_count": 2,
   "metadata": {},
   "outputs": [
    {
     "data": {
      "text/plain": [
       "True"
      ]
     },
     "execution_count": 2,
     "metadata": {},
     "output_type": "execute_result"
    }
   ],
   "source": [
    "spam"
   ]
  },
  {
   "cell_type": "markdown",
   "metadata": {
    "slideshow": {
     "slide_type": "slide"
    }
   },
   "source": [
    "## Boolean Values (Errors and Protected keywords)"
   ]
  },
  {
   "cell_type": "code",
   "execution_count": 3,
   "metadata": {},
   "outputs": [
    {
     "ename": "NameError",
     "evalue": "name 'true' is not defined",
     "output_type": "error",
     "traceback": [
      "\u001b[0;31m---------------------------------------------------------------------------\u001b[0m",
      "\u001b[0;31mNameError\u001b[0m                                 Traceback (most recent call last)",
      "\u001b[0;32m<ipython-input-3-cae9d639713c>\u001b[0m in \u001b[0;36m<module>\u001b[0;34m()\u001b[0m\n\u001b[1;32m      1\u001b[0m \u001b[0;31m# Boolean vaules must start with capital T or F\u001b[0m\u001b[0;34m\u001b[0m\u001b[0;34m\u001b[0m\u001b[0m\n\u001b[0;32m----> 2\u001b[0;31m \u001b[0mtrue\u001b[0m\u001b[0;34m\u001b[0m\u001b[0m\n\u001b[0m",
      "\u001b[0;31mNameError\u001b[0m: name 'true' is not defined"
     ]
    }
   ],
   "source": [
    "# Boolean vaules must start with capital T or F\n",
    "true"
   ]
  },
  {
   "cell_type": "code",
   "execution_count": 4,
   "metadata": {},
   "outputs": [
    {
     "ename": "SyntaxError",
     "evalue": "can't assign to keyword (<ipython-input-4-bb6e53e42985>, line 1)",
     "output_type": "error",
     "traceback": [
      "\u001b[0;36m  File \u001b[0;32m\"<ipython-input-4-bb6e53e42985>\"\u001b[0;36m, line \u001b[0;32m1\u001b[0m\n\u001b[0;31m    True = 2 + 4 # Booleans are protected in Python\u001b[0m\n\u001b[0m                                                   ^\u001b[0m\n\u001b[0;31mSyntaxError\u001b[0m\u001b[0;31m:\u001b[0m can't assign to keyword\n"
     ]
    }
   ],
   "source": [
    "True = 2 + 4 # Booleans are protected in Python"
   ]
  },
  {
   "cell_type": "markdown",
   "metadata": {
    "slideshow": {
     "slide_type": "slide"
    }
   },
   "source": [
    "# Comparsison Operators\n",
    "\n",
    "- **Comparision operators** comepate two values and evaluate down to a single Boolean value\n",
    "\n",
    "| Operator | Meaning                  |\n",
    "|----------|--------------------------|\n",
    "| ==       | Equal to                 |\n",
    "| !=       | Not equal to             |\n",
    "| <        | Less than                |\n",
    "| >        | Greater than             |\n",
    "| <=       | Less than or equal to    |\n",
    "| >=       | Greater than or equal to |\n",
    "\n",
    "- These operators evaluate to `True` and `False`"
   ]
  },
  {
   "cell_type": "markdown",
   "metadata": {
    "slideshow": {
     "slide_type": "slide"
    }
   },
   "source": [
    "## Comparison Operator Examples"
   ]
  },
  {
   "cell_type": "code",
   "execution_count": 5,
   "metadata": {},
   "outputs": [
    {
     "data": {
      "text/plain": [
       "True"
      ]
     },
     "execution_count": 5,
     "metadata": {},
     "output_type": "execute_result"
    }
   ],
   "source": [
    "42 == 42"
   ]
  },
  {
   "cell_type": "code",
   "execution_count": 6,
   "metadata": {},
   "outputs": [
    {
     "data": {
      "text/plain": [
       "False"
      ]
     },
     "execution_count": 6,
     "metadata": {},
     "output_type": "execute_result"
    }
   ],
   "source": [
    "42 == 43"
   ]
  },
  {
   "cell_type": "code",
   "execution_count": 7,
   "metadata": {},
   "outputs": [
    {
     "data": {
      "text/plain": [
       "True"
      ]
     },
     "execution_count": 7,
     "metadata": {},
     "output_type": "execute_result"
    }
   ],
   "source": [
    "2 != 3"
   ]
  },
  {
   "cell_type": "code",
   "execution_count": 8,
   "metadata": {},
   "outputs": [
    {
     "data": {
      "text/plain": [
       "False"
      ]
     },
     "execution_count": 8,
     "metadata": {},
     "output_type": "execute_result"
    }
   ],
   "source": [
    "2 != 2"
   ]
  },
  {
   "cell_type": "markdown",
   "metadata": {
    "slideshow": {
     "slide_type": "slide"
    }
   },
   "source": [
    "# Boolean Operators\n",
    "\n",
    "- The three Boolean operators (`and`, `or`, and `not`) are used to compare Boolean values. \n",
    "- Like comparison operators, they evaluate these expressions down to a Boolean value\n"
   ]
  },
  {
   "cell_type": "markdown",
   "metadata": {
    "slideshow": {
     "slide_type": "slide"
    }
   },
   "source": [
    "## Binary Boolean Operators\n",
    "\n",
    "- The `and` and `or` operators always take two Boolean values (or expressions), so they’re considered binary operators. \n",
    "- The `and` operator evaluates an expression to `True` if both Boolean values are `True`; otherwise, it evaluates to `False`. "
   ]
  },
  {
   "cell_type": "code",
   "execution_count": 9,
   "metadata": {},
   "outputs": [
    {
     "data": {
      "text/plain": [
       "True"
      ]
     },
     "execution_count": 9,
     "metadata": {},
     "output_type": "execute_result"
    }
   ],
   "source": [
    "True and True"
   ]
  },
  {
   "cell_type": "code",
   "execution_count": 10,
   "metadata": {},
   "outputs": [
    {
     "data": {
      "text/plain": [
       "False"
      ]
     },
     "execution_count": 10,
     "metadata": {},
     "output_type": "execute_result"
    }
   ],
   "source": [
    "True and False"
   ]
  },
  {
   "cell_type": "markdown",
   "metadata": {
    "slideshow": {
     "slide_type": "slide"
    }
   },
   "source": [
    "## Binary Boolean Table\n",
    "| Expression      | Evaluates |\n",
    "|-----------------|-----------|\n",
    "| True and True   | True      |\n",
    "| True and False  | False     |\n",
    "| False and True  | False     |\n",
    "| False and False | False     |\n",
    "| True or True    | True      |\n",
    "| True or False   | True      |\n",
    "| False or True   | True      |\n",
    "| False or False  | False     |"
   ]
  },
  {
   "cell_type": "markdown",
   "metadata": {
    "slideshow": {
     "slide_type": "slide"
    }
   },
   "source": [
    "## not Operator\n",
    "-  `not` operator operates on only one Boolean value (or expression)\n",
    "- `not` operator simply evaluates to the opposite Boolean value"
   ]
  },
  {
   "cell_type": "code",
   "execution_count": 11,
   "metadata": {},
   "outputs": [
    {
     "data": {
      "text/plain": [
       "False"
      ]
     },
     "execution_count": 11,
     "metadata": {},
     "output_type": "execute_result"
    }
   ],
   "source": [
    "not True"
   ]
  },
  {
   "cell_type": "code",
   "execution_count": 12,
   "metadata": {},
   "outputs": [
    {
     "data": {
      "text/plain": [
       "True"
      ]
     },
     "execution_count": 12,
     "metadata": {},
     "output_type": "execute_result"
    }
   ],
   "source": [
    "not False"
   ]
  },
  {
   "cell_type": "markdown",
   "metadata": {
    "slideshow": {
     "slide_type": "slide"
    }
   },
   "source": [
    "# Booleans and Comparision Operators\n",
    "- Comparison operators evaluate to Boolean values, you can use them in expressions with the Boolean operators"
   ]
  },
  {
   "cell_type": "code",
   "execution_count": 13,
   "metadata": {},
   "outputs": [
    {
     "data": {
      "text/plain": [
       "True"
      ]
     },
     "execution_count": 13,
     "metadata": {},
     "output_type": "execute_result"
    }
   ],
   "source": [
    "(4 < 5) and (5 < 6)"
   ]
  },
  {
   "cell_type": "code",
   "execution_count": 14,
   "metadata": {},
   "outputs": [
    {
     "data": {
      "text/plain": [
       "False"
      ]
     },
     "execution_count": 14,
     "metadata": {},
     "output_type": "execute_result"
    }
   ],
   "source": [
    "(4<5) and (9<6)"
   ]
  },
  {
   "cell_type": "code",
   "execution_count": 15,
   "metadata": {},
   "outputs": [
    {
     "data": {
      "text/plain": [
       "True"
      ]
     },
     "execution_count": 15,
     "metadata": {},
     "output_type": "execute_result"
    }
   ],
   "source": [
    "(1==2) or (2 == 2)"
   ]
  },
  {
   "cell_type": "markdown",
   "metadata": {},
   "source": [
    "- The computer will evaluate the left expression first, and then it will evaluate the right expression\n",
    "- When it knows the Boolean value for each, it will then evaluate the whole expression down to one Boolean value. "
   ]
  },
  {
   "cell_type": "markdown",
   "metadata": {
    "slideshow": {
     "slide_type": "slide"
    }
   },
   "source": [
    "# Elements of Flow Control\n",
    "- Flow control statements often start with a part called the **condition**\n",
    "- Followed by a block of code called the **clause** "
   ]
  },
  {
   "cell_type": "markdown",
   "metadata": {
    "slideshow": {
     "slide_type": "slide"
    }
   },
   "source": [
    "## Conditions\n",
    "\n",
    "- The Boolean expressions you’ve seen so far could all be considered conditions\n",
    "- Flow control statement decides what to do based on whether its condition is `True` or `False`"
   ]
  },
  {
   "cell_type": "markdown",
   "metadata": {
    "slideshow": {
     "slide_type": "slide"
    }
   },
   "source": [
    "## Blocks of Code\n",
    "\n",
    "- Code can be grouped together in blocks\n",
    "- Block begins and ends from the indentation of the lines of code\n",
    "- There are three rules for blocks:\n",
    "\n",
    "     1. Blocks begin when the indentation increases\n",
    "     2. Blocks can contain other blocks\n",
    "     3. Blocks end when the indentation decreases to zero or to a containing block’s indentation."
   ]
  },
  {
   "cell_type": "markdown",
   "metadata": {
    "slideshow": {
     "slide_type": "slide"
    }
   },
   "source": [
    "## Let's play with passwords\n",
    "\n",
    "![source giphy.com](files/monty_python_password.gif)"
   ]
  },
  {
   "cell_type": "code",
   "execution_count": 16,
   "metadata": {
    "slideshow": {
     "slide_type": "slide"
    }
   },
   "outputs": [
    {
     "name": "stdout",
     "output_type": "stream",
     "text": [
      "Hello Bob\n",
      "Access granted.\n"
     ]
    }
   ],
   "source": [
    "user = 'Bob' # User input\n",
    "password = 'swordfish' # Password input\n",
    "if user == 'Bob':\n",
    "    print('Hello ' + user)\n",
    "    if password == 'swordfish':\n",
    "        print('Access granted.')\n",
    "    else:\n",
    "        print('Wrong password.')"
   ]
  },
  {
   "cell_type": "markdown",
   "metadata": {
    "slideshow": {
     "slide_type": "slide"
    }
   },
   "source": [
    "# if Statements\n",
    "\n",
    "- The most common type of flow control statement is the if statement\n",
    "- An if statement’s clause executes if the statement’s condition is True\n",
    "- The clause is skipped if the condition is False\n"
   ]
  },
  {
   "cell_type": "markdown",
   "metadata": {
    "slideshow": {
     "slide_type": "slide"
    }
   },
   "source": [
    "## if Statements\n",
    "\n",
    "- if statements consists of the following parts:\n",
    "    1. the `if` keyword\n",
    "    2. a condition (Expression evaluating to `True` or `False`)\n",
    "    3. a colon\n",
    "    4. starting on the next line, and indetned block of code (**if clause**)"
   ]
  },
  {
   "cell_type": "code",
   "execution_count": 17,
   "metadata": {
    "slideshow": {
     "slide_type": "slide"
    }
   },
   "outputs": [],
   "source": [
    "name = 'Bob'\n",
    "if name == 'Alice':\n",
    "    print('Hi, Alice.')"
   ]
  },
  {
   "cell_type": "markdown",
   "metadata": {},
   "source": [
    "![flowchart_alice](files/flowchart_alice.jpg)"
   ]
  },
  {
   "cell_type": "markdown",
   "metadata": {
    "slideshow": {
     "slide_type": "slide"
    }
   },
   "source": [
    "## else Statements\n",
    "\n",
    "- else clause is executed only when the if statement’s condition is False - else statements consists of the following:\n",
    "        \n",
    "     1. The else keyword\n",
    "     2. A colon\n",
    "     3. Starting on the next line, an indented block of code (**else clause**)"
   ]
  },
  {
   "cell_type": "code",
   "execution_count": 18,
   "metadata": {
    "slideshow": {
     "slide_type": "slide"
    }
   },
   "outputs": [
    {
     "name": "stdout",
     "output_type": "stream",
     "text": [
      "STRANGER DANGER!!!\n"
     ]
    }
   ],
   "source": [
    "name = 'Bob'\n",
    "if name == 'Alice':\n",
    "    print('Hi, Alice.')\n",
    "else:\n",
    "    print('STRANGER DANGER!!!')"
   ]
  },
  {
   "cell_type": "markdown",
   "metadata": {
    "slideshow": {
     "slide_type": "slide"
    }
   },
   "source": [
    "![flowchart_alice_2](files/flowchart_alice_2.png)"
   ]
  },
  {
   "cell_type": "markdown",
   "metadata": {
    "slideshow": {
     "slide_type": "slide"
    }
   },
   "source": [
    "## elif Statements\n",
    "- The elif statement is an “else if” statement that always follows an if or another elif statement\n",
    "- It provides another condition that is checked only if all of the previous conditions were False\n",
    "- elif statement always consists of the following:\n",
    "    1. The elif keyword\n",
    "    2. A condition (that is, an expression that evaluates to True or False)\n",
    "    3. A colon\n",
    "    4. Starting on the next line, an indented block of code (**elif clause**)"
   ]
  },
  {
   "cell_type": "code",
   "execution_count": 19,
   "metadata": {
    "slideshow": {
     "slide_type": "slide"
    }
   },
   "outputs": [
    {
     "name": "stdout",
     "output_type": "stream",
     "text": [
      "Hi, Alice.\n"
     ]
    }
   ],
   "source": [
    "name = 'Alice'\n",
    "age = 80\n",
    "if name == 'Alice':\n",
    "    print('Hi, Alice.')\n",
    "elif age < 10:\n",
    "    print('Stranger Danger!')"
   ]
  },
  {
   "cell_type": "markdown",
   "metadata": {
    "slideshow": {
     "slide_type": "slide"
    }
   },
   "source": [
    "![flowchart_alice_3](files/flowchart_alice_3.png)"
   ]
  },
  {
   "cell_type": "code",
   "execution_count": 20,
   "metadata": {
    "slideshow": {
     "slide_type": "slide"
    }
   },
   "outputs": [
    {
     "name": "stdout",
     "output_type": "stream",
     "text": [
      "Unlike you, Alice is not an undead, immortal vampire.\n"
     ]
    }
   ],
   "source": [
    "name = 'Dracula'\n",
    "age = 4000\n",
    "if name == 'Alice':\n",
    "    print('Hi, Alice.')\n",
    "elif age < 12:\n",
    "    print('You are not Alice, kiddo.')\n",
    "elif age > 2000:\n",
    "    print('Unlike you, Alice is not an undead, immortal vampire.')\n",
    "elif age > 100:\n",
    "    print('You are not Alice, grannie.')"
   ]
  },
  {
   "cell_type": "markdown",
   "metadata": {
    "slideshow": {
     "slide_type": "slide"
    }
   },
   "source": [
    "![flowchart_dracula](files/flowchart_dracula.png)"
   ]
  },
  {
   "cell_type": "markdown",
   "metadata": {
    "slideshow": {
     "slide_type": "slide"
    }
   },
   "source": [
    "## elif statements\n",
    "- The order of the elif statements does matter, HOWEVER!!! \n",
    "- We can arrange the code so a bug forms"
   ]
  },
  {
   "cell_type": "code",
   "execution_count": 21,
   "metadata": {
    "slideshow": {
     "slide_type": "-"
    }
   },
   "outputs": [
    {
     "name": "stdout",
     "output_type": "stream",
     "text": [
      "You are not Alice, grannie.\n"
     ]
    }
   ],
   "source": [
    "name = 'Dracula'\n",
    "age = 4000\n",
    "if name == 'Alice':\n",
    "    print('Hi, Alice.')\n",
    "elif age < 12:\n",
    "    print('You are not Alice, kiddo.')\n",
    "elif age > 100:\n",
    "    print('You are not Alice, grannie.')\n",
    "elif age > 2000:\n",
    "    print('Unlike you, Alice is not an undead, immortal vampire.')"
   ]
  },
  {
   "cell_type": "markdown",
   "metadata": {
    "slideshow": {
     "slide_type": "slide"
    }
   },
   "source": [
    "## elif statements\n",
    "- You can have an else statement after the last elif statement\n",
    "- This case is guaranteed that at least one (and only one) of the clauses will be executed\n",
    "- If the conditions in every if and elif statement are False, then the else clause is executed. "
   ]
  },
  {
   "cell_type": "code",
   "execution_count": 22,
   "metadata": {},
   "outputs": [
    {
     "name": "stdout",
     "output_type": "stream",
     "text": [
      "You are neither Alice nor a little kid.\n"
     ]
    }
   ],
   "source": [
    "name = 'Bob'\n",
    "age = 30\n",
    "if name == 'Alice':\n",
    "    print('Hi, Alice.')\n",
    "elif age < 12:\n",
    "    print('You are not Alice, kiddo.')\n",
    "else:\n",
    "    print('You are neither Alice nor a little kid.')"
   ]
  },
  {
   "cell_type": "markdown",
   "metadata": {
    "slideshow": {
     "slide_type": "slide"
    }
   },
   "source": [
    "![flowchart_alice_4](files/flowchart_alice_4.png)"
   ]
  },
  {
   "cell_type": "markdown",
   "metadata": {
    "slideshow": {
     "slide_type": "slide"
    }
   },
   "source": [
    "# while Loop Staements\n",
    "\n",
    "- Make a block of code execute over and over again with a `while` statement\n",
    "- Code inside the `while` clause will be executed as long as the `while` statement’s condition is `True`\n",
    "- `while` statement always consists of the following:\n",
    "\n",
    "    1. The while keyword\n",
    "    2. A condition (that is, an expression that evaluates to True or False)\n",
    "    3. A colon\n",
    "    4. Starting on the next line, an indented block of code (**while clause**)"
   ]
  },
  {
   "cell_type": "markdown",
   "metadata": {
    "slideshow": {
     "slide_type": "slide"
    }
   },
   "source": [
    "## while Loop\n",
    "- `while` statement looks similar to `if` statements\n",
    "- The difference is how the behave.\n",
    "    - `if`: program execution continues after the `if` statement\n",
    "    - `while`: program execution jumps back to the start of the `while` statement"
   ]
  },
  {
   "cell_type": "markdown",
   "metadata": {
    "slideshow": {
     "slide_type": "slide"
    }
   },
   "source": [
    "## Comparison of if and while "
   ]
  },
  {
   "cell_type": "code",
   "execution_count": 23,
   "metadata": {},
   "outputs": [
    {
     "name": "stdout",
     "output_type": "stream",
     "text": [
      "Hello world!\n"
     ]
    }
   ],
   "source": [
    "# if statement\n",
    "spam = 0\n",
    "if spam < 5:\n",
    "    print('Hello world!')\n",
    "    spam += 1 # Equiv to spam = spam + 1"
   ]
  },
  {
   "cell_type": "code",
   "execution_count": 24,
   "metadata": {},
   "outputs": [
    {
     "name": "stdout",
     "output_type": "stream",
     "text": [
      "Hello world!\n",
      "Hello world!\n",
      "Hello world!\n",
      "Hello world!\n",
      "Hello world!\n"
     ]
    }
   ],
   "source": [
    "# while statement\n",
    "spam = 0\n",
    "while spam < 5:\n",
    "    print('Hello world!')\n",
    "    spam += 1"
   ]
  },
  {
   "cell_type": "markdown",
   "metadata": {
    "slideshow": {
     "slide_type": "slide"
    }
   },
   "source": [
    "## if statement flowchart\n",
    "\n",
    "![flowchart_if](files/flowchart_if.png)"
   ]
  },
  {
   "cell_type": "markdown",
   "metadata": {
    "slideshow": {
     "slide_type": "slide"
    }
   },
   "source": [
    "## while statement flowchart\n",
    "\n",
    "![flowchart_while](files/flowchart_while.png)"
   ]
  },
  {
   "cell_type": "code",
   "execution_count": 25,
   "metadata": {
    "slideshow": {
     "slide_type": "slide"
    }
   },
   "outputs": [
    {
     "name": "stdout",
     "output_type": "stream",
     "text": [
      "Please type your name\n",
      "your name\n",
      "Thank you!\n"
     ]
    }
   ],
   "source": [
    "# while loop example Explanation\n",
    "name = '' # Empty string\n",
    "while name != 'your name': # while not equal to 'your name'\n",
    "    print('Please type your name')\n",
    "    name = input() # input assigned to name variable\n",
    "print('Thank you!') # when condition becomes `True` print this"
   ]
  },
  {
   "cell_type": "markdown",
   "metadata": {
    "slideshow": {
     "slide_type": "slide"
    }
   },
   "source": [
    "## break statements\n",
    "   - To get out of a `while` loop early, use a `break` statement\n",
    "   - If execution reaches a `break` staement, it exits the loop"
   ]
  },
  {
   "cell_type": "code",
   "execution_count": 26,
   "metadata": {},
   "outputs": [
    {
     "name": "stdout",
     "output_type": "stream",
     "text": [
      "Type your name.\n",
      "your name\n",
      "Thank you!\n"
     ]
    }
   ],
   "source": [
    "# break statement explanation\n",
    "while True: # Create infinite loop (!dangerous!)\n",
    "    print('Type your name.')\n",
    "    name = input() # input assigned to name variable\n",
    "    if name == 'your name': # Check if name equal to 'your name'\n",
    "        break # If this condition is true break (move on to next part)\n",
    "print('Thank you!') # End by printing thank you"
   ]
  },
  {
   "cell_type": "markdown",
   "metadata": {
    "slideshow": {
     "slide_type": "slide"
    }
   },
   "source": [
    "## break flowchart\n",
    "\n",
    "![flowchart_break](files/flowchart_break.jpg)"
   ]
  },
  {
   "cell_type": "markdown",
   "metadata": {
    "slideshow": {
     "slide_type": "slide"
    }
   },
   "source": [
    "## continue statements\n",
    "- Similar to `break`, `continue` resides inside of a loop\n",
    "- When the execution reaches `continue`, program execution jumps back to the start of the loop and reevalueates the loop's condition."
   ]
  },
  {
   "cell_type": "code",
   "execution_count": 27,
   "metadata": {
    "slideshow": {
     "slide_type": "slide"
    }
   },
   "outputs": [
    {
     "name": "stdout",
     "output_type": "stream",
     "text": [
      "Who are you?\n",
      "Name\n",
      "Who are you?\n",
      "Bob\n",
      "Hello, Bob. What is the password?\n",
      "tofu\n",
      "Access granted.\n"
     ]
    }
   ],
   "source": [
    "while True:\n",
    "  print('Who are you?')\n",
    "  name = input()\n",
    "  if name != 'Bob': # If user give name beside bob     \n",
    "    continue        # jump back to start of loop\n",
    "  print('Hello, Bob. What is the password?') \n",
    "  password = input()# If they make it past if statement request password\n",
    "  if password == 'tofu':\n",
    "    break           # If give correct password break the loop\n",
    "print('Access granted.') # Print access granted"
   ]
  },
  {
   "cell_type": "markdown",
   "metadata": {
    "slideshow": {
     "slide_type": "slide"
    }
   },
   "source": [
    "# for Loops and range() function\n",
    "- `for` statement looks for something like for `i in range(5):` and always includes:\n",
    "    1. `for` keyword\n",
    "    2. variable name\n",
    "    3. `in` keyword\n",
    "    4. calls the `range()` function\n",
    "    5. starting line, an indented block of code (**for clause**)"
   ]
  },
  {
   "cell_type": "code",
   "execution_count": 28,
   "metadata": {
    "slideshow": {
     "slide_type": "slide"
    }
   },
   "outputs": [
    {
     "name": "stdout",
     "output_type": "stream",
     "text": [
      "My name is\n",
      "Jimmy Five Times (0)\n",
      "Jimmy Five Times (1)\n",
      "Jimmy Five Times (2)\n",
      "Jimmy Five Times (3)\n",
      "Jimmy Five Times (4)\n"
     ]
    }
   ],
   "source": [
    "print('My name is')\n",
    "for i in range(5):\n",
    "    print(\"Jimmy Five Times (\" + str(i) + \")\")"
   ]
  },
  {
   "cell_type": "markdown",
   "metadata": {},
   "source": [
    "The code in the `for` loop clause runs five times."
   ]
  },
  {
   "cell_type": "markdown",
   "metadata": {
    "slideshow": {
     "slide_type": "slide"
    }
   },
   "source": [
    "![flowchart_range](files/flowchart_range.png)"
   ]
  },
  {
   "cell_type": "code",
   "execution_count": 29,
   "metadata": {
    "slideshow": {
     "slide_type": "slide"
    }
   },
   "outputs": [
    {
     "name": "stdout",
     "output_type": "stream",
     "text": [
      "5050\n"
     ]
    }
   ],
   "source": [
    "total = 0\n",
    "for num in range(101):\n",
    "    total = total + num\n",
    "print(total)"
   ]
  },
  {
   "cell_type": "markdown",
   "metadata": {
    "slideshow": {
     "slide_type": "slide"
    }
   },
   "source": [
    "## starting, stopping, stepping with range()\n",
    "\n",
    "- (some) Functions can call multiple arguments separated by a comma\n",
    "- `range()` lets you pass a sequence of integers\n",
    "    - start value, stop value, and step argument\n",
    "    "
   ]
  },
  {
   "cell_type": "code",
   "execution_count": 30,
   "metadata": {},
   "outputs": [
    {
     "name": "stdout",
     "output_type": "stream",
     "text": [
      "0\n",
      "4\n",
      "8\n",
      "12\n",
      "16\n",
      "20\n"
     ]
    }
   ],
   "source": [
    "for i in range(0, 21, 4):\n",
    "    print(i)"
   ]
  },
  {
   "cell_type": "code",
   "execution_count": 31,
   "metadata": {},
   "outputs": [
    {
     "name": "stdout",
     "output_type": "stream",
     "text": [
      "10\n",
      "9\n",
      "8\n",
      "7\n",
      "6\n",
      "5\n",
      "4\n",
      "3\n",
      "2\n",
      "1\n",
      "0\n"
     ]
    }
   ],
   "source": [
    "for i in range(10,-1, -1): # Create a countdown\n",
    "    print(i)"
   ]
  },
  {
   "cell_type": "markdown",
   "metadata": {
    "slideshow": {
     "slide_type": "slide"
    }
   },
   "source": [
    "# Importing Modules\n",
    "\n",
    "- Python programs can call a basic set of functions called **built-in functions**, including the `print()`, `input()`, and `len()`\n",
    "- Python also comes with a set of **modules** called the **standard library**\n",
    "- Each module is a Python program that contains a related group of functions that can be embedded in your programs\n",
    "- Before you can use the functions in a module, you must import the module with an import statement"
   ]
  },
  {
   "cell_type": "markdown",
   "metadata": {
    "slideshow": {
     "slide_type": "slide"
    }
   },
   "source": [
    "## Importing Modules\n",
    "- An `import` statement consists of the following:\n",
    "    1. The `import` keyword\n",
    "    2. The name of the module\n",
    "    3. (Optional) more module names, as long as they are separated by commas"
   ]
  },
  {
   "cell_type": "markdown",
   "metadata": {
    "slideshow": {
     "slide_type": "slide"
    }
   },
   "source": [
    "## Random module\n",
    "- Once you import a module, you can use the functions of that module\n",
    "- Give the following a try:"
   ]
  },
  {
   "cell_type": "code",
   "execution_count": 32,
   "metadata": {},
   "outputs": [
    {
     "name": "stdout",
     "output_type": "stream",
     "text": [
      "4\n",
      "3\n",
      "1\n",
      "3\n",
      "5\n"
     ]
    }
   ],
   "source": [
    "import random\n",
    "for i in range(5):\n",
    "    print(random.randint(1,10))"
   ]
  },
  {
   "cell_type": "markdown",
   "metadata": {},
   "source": [
    "When you run this program, the output will look similar (but not exactly like above)"
   ]
  },
  {
   "cell_type": "markdown",
   "metadata": {
    "slideshow": {
     "slide_type": "slide"
    }
   },
   "source": [
    "## random Module\n",
    "- `random.randint()` function call gives a random integer between the two integers you pass it.\n",
    "- Since `randint()` is in the `random` module, you must first type `random.` in front of the function.\n",
    "    - This tells Python to look in the `random` module"
   ]
  },
  {
   "cell_type": "markdown",
   "metadata": {
    "slideshow": {
     "slide_type": "slide"
    }
   },
   "source": [
    "## Importing multiple modules"
   ]
  },
  {
   "cell_type": "code",
   "execution_count": 33,
   "metadata": {},
   "outputs": [],
   "source": [
    "# After running this line we'll be able to use the 4 modules\n",
    "import random, sys, os, math"
   ]
  },
  {
   "cell_type": "markdown",
   "metadata": {
    "slideshow": {
     "slide_type": "slide"
    }
   },
   "source": [
    "## from import Statements\n",
    "- It is possible to import only the functions from a specific module\n",
    "    - **Using the full name makes your code more readable**"
   ]
  },
  {
   "cell_type": "code",
   "execution_count": 34,
   "metadata": {},
   "outputs": [],
   "source": [
    "# star implies importing ALL functions from random\n",
    "from random import * \n",
    "# Here we are only importing the square root function from\n",
    "# the math module\n",
    "from math import sqrt "
   ]
  },
  {
   "cell_type": "markdown",
   "metadata": {
    "slideshow": {
     "slide_type": "slide"
    }
   },
   "source": [
    "# Ending a program with sys.exit()\n",
    "- A program traditionally terminates at the end of the program.\n",
    "- You can cause the program to terminate (exit) by calling the `sys.exit()` function.\n",
    "- Since this module is in the `sys` module, you'll need to import it first"
   ]
  },
  {
   "cell_type": "code",
   "execution_count": null,
   "metadata": {},
   "outputs": [],
   "source": [
    "import sys\n",
    "while True:\n",
    "    print(\"Type exit to exit.\")\n",
    "    response = input()\n",
    "    if response == 'exit':\n",
    "        sys.exit()\n",
    "    print(\"You typed \" + response + \".\")"
   ]
  },
  {
   "cell_type": "markdown",
   "metadata": {},
   "source": [
    "This program has an infinite loop with no `break`.\n",
    "The only way to sop the program is if the user enters `exit` causing `sys.exit()` to be called"
   ]
  }
 ],
 "metadata": {
  "celltoolbar": "Slideshow",
  "kernelspec": {
   "display_name": "Python 3",
   "language": "python",
   "name": "python3"
  },
  "language_info": {
   "codemirror_mode": {
    "name": "ipython",
    "version": 3
   },
   "file_extension": ".py",
   "mimetype": "text/x-python",
   "name": "python",
   "nbconvert_exporter": "python",
   "pygments_lexer": "ipython3",
   "version": "3.6.5"
  }
 },
 "nbformat": 4,
 "nbformat_minor": 2
}
