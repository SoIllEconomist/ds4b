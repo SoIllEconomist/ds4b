{
 "cells": [
  {
   "cell_type": "markdown",
   "metadata": {
    "slideshow": {
     "slide_type": "slide"
    }
   },
   "source": [
    "# Functions\n",
    "\n",
    "- We've already seen the `print()`, `input()`, and `len()` functions\n",
    "    - These are builtin functions provided by Python\n",
    "- **Functions** are similar to mini-programs"
   ]
  },
  {
   "cell_type": "code",
   "execution_count": 2,
   "metadata": {},
   "outputs": [],
   "source": [
    "def hello(): # def statement which defines the hello function\n",
    "    print('Hello world') # body of the function\n",
    "    print('Hello Hal')\n",
    "    print('Goodbye!')\n"
   ]
  },
  {
   "cell_type": "markdown",
   "metadata": {
    "slideshow": {
     "slide_type": "slide"
    }
   },
   "source": [
    "## Function Calls\n",
    "- A function call is the function's name followed by parentheses\n",
    "    - It is possible for there to be a number of arguments in between"
   ]
  },
  {
   "cell_type": "code",
   "execution_count": 3,
   "metadata": {
    "slideshow": {
     "slide_type": "slide"
    }
   },
   "outputs": [
    {
     "name": "stdout",
     "output_type": "stream",
     "text": [
      "Hello world\n",
      "Hello Hal\n",
      "Goodbye!\n",
      "Hello world\n",
      "Hello Hal\n",
      "Goodbye!\n",
      "Hello world\n",
      "Hello Hal\n",
      "Goodbye!\n"
     ]
    }
   ],
   "source": [
    "hello() # These are function calls\n",
    "hello() # It does not have any arguments\n",
    "hello()"
   ]
  },
  {
   "cell_type": "code",
   "execution_count": null,
   "metadata": {},
   "outputs": [],
   "source": [
    "    print('Hello world') # body of the function\n",
    "    print('Hello Hal')\n",
    "    print('Goodbye!')\n",
    "    print('Hello world') # body of the function\n",
    "    print('Hello Hal')\n",
    "    print('Goodbye!')\n",
    "    print('Hello world') # body of the function\n",
    "    print('Hello Hal')\n",
    "    print('Goodbye!')"
   ]
  },
  {
   "cell_type": "markdown",
   "metadata": {},
   "source": [
    "- Since we called the program three times, the code is executed three times."
   ]
  },
  {
   "cell_type": "markdown",
   "metadata": {
    "slideshow": {
     "slide_type": "slide"
    }
   },
   "source": [
    "# def Statements with Parameters\n",
    "- When you call the `print()` or `len()` function\n",
    "    - You pass in values called **arguments** between the parentheses\n",
    "- you can define your own functions that accept arguments"
   ]
  },
  {
   "cell_type": "code",
   "execution_count": 5,
   "metadata": {},
   "outputs": [],
   "source": [
    "def hello(name): # (1)\n",
    "    print('Hello ' + name) # (2)"
   ]
  },
  {
   "cell_type": "markdown",
   "metadata": {},
   "source": [
    "1. A parameter is a variable that an argument is store in when the function is called\n",
    "2. Program executed enters the function, and the variable is passed\n",
    "3. The program is executed and the variable is automatically set"
   ]
  },
  {
   "cell_type": "code",
   "execution_count": 6,
   "metadata": {},
   "outputs": [
    {
     "name": "stdout",
     "output_type": "stream",
     "text": [
      "Hello Eli\n"
     ]
    }
   ],
   "source": [
    "hello(\"Eli\")"
   ]
  },
  {
   "cell_type": "markdown",
   "metadata": {
    "slideshow": {
     "slide_type": "slide"
    }
   },
   "source": [
    "# def Statements\n",
    "- Important thing to note about parameters is that the value stored in a parameter is forgotten when the function returns."
   ]
  },
  {
   "cell_type": "markdown",
   "metadata": {
    "slideshow": {
     "slide_type": "slide"
    }
   },
   "source": [
    "# Return Values and return Statement\n",
    "- When you call a function and pass it an argument the function call evaluates to an integer value\n",
    "- The value of a function call evaluates to is called a **return value**\n",
    "- When creating a function use the `def` statement\n",
    "    - Specify what the return value should be with a `return` statement"
   ]
  },
  {
   "cell_type": "markdown",
   "metadata": {
    "slideshow": {
     "slide_type": "slide"
    }
   },
   "source": [
    "## Return Values and return Statement\n",
    "- A `return` statement consists of the following:\n",
    "    1. `return` keyword\n",
    "    2. value of expression that the function should return"
   ]
  },
  {
   "cell_type": "markdown",
   "metadata": {
    "slideshow": {
     "slide_type": "slide"
    }
   },
   "source": [
    "## Let's Create a Magic 8 Ball"
   ]
  },
  {
   "cell_type": "code",
   "execution_count": 11,
   "metadata": {},
   "outputs": [],
   "source": [
    "import random\n",
    "def magic_8_ball(answer):\n",
    "    if answer == 1:\n",
    "        return 'It is certain'\n",
    "    elif answer == 2:\n",
    "        return 'It is decided'\n",
    "    elif answer == 3:\n",
    "        return 'Yes'\n",
    "    elif answer == 4:\n",
    "        return 'Hazy'\n",
    "    elif answer == 5:\n",
    "        return 'Ask again later'\n",
    "    elif answer == 6:\n",
    "        return 'Concentrate and ask again'\n",
    "    elif answer == 7:\n",
    "        return 'NO'\n",
    "    elif answer == 8:\n",
    "        return 'Not looking good'\n",
    "    elif answer == 9:\n",
    "        return 'Doubtful'"
   ]
  },
  {
   "cell_type": "code",
   "execution_count": 12,
   "metadata": {
    "slideshow": {
     "slide_type": "slide"
    }
   },
   "outputs": [
    {
     "name": "stdout",
     "output_type": "stream",
     "text": [
      "Yes\n"
     ]
    }
   ],
   "source": [
    "r = random.randint(1,9)\n",
    "fortune = magic_8_ball(r)\n",
    "print(fortune)"
   ]
  },
  {
   "cell_type": "code",
   "execution_count": 13,
   "metadata": {},
   "outputs": [
    {
     "name": "stdout",
     "output_type": "stream",
     "text": [
      "Doubtful\n"
     ]
    }
   ],
   "source": [
    "print(magic_8_ball(random.randint(1,9)))"
   ]
  },
  {
   "cell_type": "markdown",
   "metadata": {
    "slideshow": {
     "slide_type": "slide"
    }
   },
   "source": [
    "## None Value\n",
    "- `None` represents the absence of a value.\n",
    "- `None` is the only value of the `NoneType`\n",
    "- `None` must be typed with a capital **N**\n"
   ]
  },
  {
   "cell_type": "markdown",
   "metadata": {
    "slideshow": {
     "slide_type": "slide"
    }
   },
   "source": [
    "# Exception Handling\n",
    "\n",
    "- Getting an error (or **exception**) means that the program crashes\n",
    "- You don't want this actually happening\n",
    "- You want the program\n",
    "    1. detect errors\n",
    "    2. handle them\n",
    "    3. continue to run"
   ]
  },
  {
   "cell_type": "code",
   "execution_count": 14,
   "metadata": {
    "slideshow": {
     "slide_type": "slide"
    }
   },
   "outputs": [],
   "source": [
    "def spam(divide_by):\n",
    "    return 42 / divide_by\n"
   ]
  },
  {
   "cell_type": "code",
   "execution_count": 15,
   "metadata": {},
   "outputs": [
    {
     "name": "stdout",
     "output_type": "stream",
     "text": [
      "21.0\n",
      "3.5\n"
     ]
    },
    {
     "ename": "ZeroDivisionError",
     "evalue": "division by zero",
     "output_type": "error",
     "traceback": [
      "\u001b[0;31m---------------------------------------------------------------------------\u001b[0m",
      "\u001b[0;31mZeroDivisionError\u001b[0m                         Traceback (most recent call last)",
      "\u001b[0;32m<ipython-input-15-440330e9084a>\u001b[0m in \u001b[0;36m<module>\u001b[0;34m()\u001b[0m\n\u001b[1;32m      1\u001b[0m \u001b[0mprint\u001b[0m\u001b[0;34m(\u001b[0m\u001b[0mspam\u001b[0m\u001b[0;34m(\u001b[0m\u001b[0;36m2\u001b[0m\u001b[0;34m)\u001b[0m\u001b[0;34m)\u001b[0m\u001b[0;34m\u001b[0m\u001b[0m\n\u001b[1;32m      2\u001b[0m \u001b[0mprint\u001b[0m\u001b[0;34m(\u001b[0m\u001b[0mspam\u001b[0m\u001b[0;34m(\u001b[0m\u001b[0;36m12\u001b[0m\u001b[0;34m)\u001b[0m\u001b[0;34m)\u001b[0m\u001b[0;34m\u001b[0m\u001b[0m\n\u001b[0;32m----> 3\u001b[0;31m \u001b[0mprint\u001b[0m\u001b[0;34m(\u001b[0m\u001b[0mspam\u001b[0m\u001b[0;34m(\u001b[0m\u001b[0;36m0\u001b[0m\u001b[0;34m)\u001b[0m\u001b[0;34m)\u001b[0m\u001b[0;34m\u001b[0m\u001b[0m\n\u001b[0m",
      "\u001b[0;32m<ipython-input-14-d16fcfa3bc5b>\u001b[0m in \u001b[0;36mspam\u001b[0;34m(divide_by)\u001b[0m\n\u001b[1;32m      1\u001b[0m \u001b[0;32mdef\u001b[0m \u001b[0mspam\u001b[0m\u001b[0;34m(\u001b[0m\u001b[0mdivide_by\u001b[0m\u001b[0;34m)\u001b[0m\u001b[0;34m:\u001b[0m\u001b[0;34m\u001b[0m\u001b[0m\n\u001b[0;32m----> 2\u001b[0;31m     \u001b[0;32mreturn\u001b[0m \u001b[0;36m42\u001b[0m \u001b[0;34m/\u001b[0m \u001b[0mdivide_by\u001b[0m\u001b[0;34m\u001b[0m\u001b[0m\n\u001b[0m",
      "\u001b[0;31mZeroDivisionError\u001b[0m: division by zero"
     ]
    }
   ],
   "source": [
    "print(spam(2))\n",
    "print(spam(12))\n",
    "print(spam(0))"
   ]
  },
  {
   "cell_type": "markdown",
   "metadata": {},
   "source": [
    "- A `ZeroDivisionError` happens whenever you try to divide a number by zero"
   ]
  },
  {
   "cell_type": "markdown",
   "metadata": {
    "slideshow": {
     "slide_type": "slide"
    }
   },
   "source": [
    "## Error Handling\n",
    "\n",
    "- Errors can be handled with `try` and `except` statements\n",
    "- Code that could potentially have an error is put in a try clause\n",
    "    - The program execution moves to the start of the following `except` clause if an error happens\n"
   ]
  },
  {
   "cell_type": "code",
   "execution_count": 21,
   "metadata": {
    "slideshow": {
     "slide_type": "slide"
    }
   },
   "outputs": [],
   "source": [
    "def spam_2(divide_by):\n",
    "    try:\n",
    "        return 42 / divide_by\n",
    "    except ZeroDivisionError:\n",
    "        print('Error: Invalid argument.')\n",
    "        "
   ]
  },
  {
   "cell_type": "code",
   "execution_count": 23,
   "metadata": {
    "scrolled": true
   },
   "outputs": [
    {
     "name": "stdout",
     "output_type": "stream",
     "text": [
      "21.0\n",
      "3.5\n",
      "Error: Invalid argument.\n",
      "None\n"
     ]
    }
   ],
   "source": [
    "print(spam_2(2))\n",
    "print(spam_2(12))\n",
    "print(spam_2(0))"
   ]
  },
  {
   "cell_type": "markdown",
   "metadata": {
    "slideshow": {
     "slide_type": "slide"
    }
   },
   "source": [
    "# Short Program Example"
   ]
  },
  {
   "cell_type": "code",
   "execution_count": 1,
   "metadata": {},
   "outputs": [],
   "source": [
    "# This is a guess the number game.\n",
    "def guess_num():\n",
    "    print('What is your name?')\n",
    "    name = input()\n",
    "    print('=============')\n",
    "    import random\n",
    "    secret_number = random.randint(1, 20) # Random int stored between 1-20\n",
    "    print('Hello ' + name + '. \\nI am thinking of a number between 1 and 20.')\n",
    "\n",
    "    # Ask the player to guess 6 times.\n",
    "    for guesses_taken in range(1, 7): # Guess only 6 trys\n",
    "        print('Take a guess.')\n",
    "        guess = int(input()) # Make sure convert input str to int\n",
    "\n",
    "        if guess < secret_number: # Check to see if guess is < or > secret\n",
    "            print('Your guess is too low.')\n",
    "        elif guess > secret_number:\n",
    "            print('Your guess is too high.')\n",
    "        else:\n",
    "            break    # This condition is the correct guess!\n",
    "\n",
    "    if guess == secret_number: # Check if final guess is correct or incorrect\n",
    "        print('Good job! You guessed my number in ' + str(guesses_taken) + \n",
    "              ' guesses!')\n",
    "    else:\n",
    "        print('Nope. The number I was thinking of was ' + str(secret_number))\n"
   ]
  },
  {
   "cell_type": "code",
   "execution_count": null,
   "metadata": {},
   "outputs": [
    {
     "name": "stdout",
     "output_type": "stream",
     "text": [
      "What is your name?\n"
     ]
    }
   ],
   "source": [
    "guess_num()"
   ]
  },
  {
   "cell_type": "markdown",
   "metadata": {
    "slideshow": {
     "slide_type": "slide"
    }
   },
   "source": [
    "# Overview of Functions\n",
    "\n",
    "- Primary way to compartmentalize code into logical groups\n",
    "- Variables in functions exist in their own local scopes, the code in one function cannot directly affect the values of variables in other functions\n",
    "- Functions are a great tool to help you organize your code\n",
    "- Think of them as black boxes: \n",
    "    - They have inputs in the form of parameters \n",
    "    - outputs in the form of return values\n",
    "    - the code in them doesn’t affect variables in other functions"
   ]
  }
 ],
 "metadata": {
  "celltoolbar": "Slideshow",
  "kernelspec": {
   "display_name": "Python 3",
   "language": "python",
   "name": "python3"
  },
  "language_info": {
   "codemirror_mode": {
    "name": "ipython",
    "version": 3
   },
   "file_extension": ".py",
   "mimetype": "text/x-python",
   "name": "python",
   "nbconvert_exporter": "python",
   "pygments_lexer": "ipython3",
   "version": "3.6.5"
  }
 },
 "nbformat": 4,
 "nbformat_minor": 2
}
