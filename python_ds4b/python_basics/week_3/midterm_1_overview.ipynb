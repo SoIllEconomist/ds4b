{
  "nbformat": 4,
  "nbformat_minor": 0,
  "metadata": {
    "kernelspec": {
      "display_name": "Python 3",
      "language": "python",
      "name": "python3"
    },
    "language_info": {
      "codemirror_mode": {
        "name": "ipython",
        "version": 3
      },
      "file_extension": ".py",
      "mimetype": "text/x-python",
      "name": "python",
      "nbconvert_exporter": "python",
      "pygments_lexer": "ipython3",
      "version": "3.6.5"
    },
    "colab": {
      "name": "midterm_1_overview.ipynb",
      "provenance": [],
      "include_colab_link": true
    }
  },
  "cells": [
    {
      "cell_type": "markdown",
      "metadata": {
        "id": "view-in-github",
        "colab_type": "text"
      },
      "source": [
        "<a href=\"https://colab.research.google.com/github/SoIllEconomist/ds4b/blob/master/python_ds4b/python_basics/week_3/midterm_1_overview.ipynb\" target=\"_parent\"><img src=\"https://colab.research.google.com/assets/colab-badge.svg\" alt=\"Open In Colab\"/></a>"
      ]
    },
    {
      "cell_type": "markdown",
      "metadata": {
        "id": "kIMRLYDem8tL",
        "colab_type": "text"
      },
      "source": [
        "# Discussion of Midterms\n",
        "- First Exam will be solo in-class coding\n",
        "    - Coding ability\n",
        "- Second Exam will start group projects (Why?)\n",
        "    - Agile Methodology (For group projects)\n",
        "        - Student groups (pair programming)"
      ]
    },
    {
      "cell_type": "markdown",
      "metadata": {
        "id": "4xi3FbdQm8tO",
        "colab_type": "text"
      },
      "source": [
        "# Midterm 1 Overview\n",
        "\n",
        "- **Worth 10% of final grade**\n",
        "- Contain 5 programming problems\n",
        "    - 3 Easy\n",
        "    - 1 Medium\n",
        "    - 1 Hard\n",
        "    - Turned in on time"
      ]
    },
    {
      "cell_type": "markdown",
      "metadata": {
        "id": "AWpa5Wsgm8tQ",
        "colab_type": "text"
      },
      "source": [
        "## Where to practice?\n",
        "- www.practicepython.org\n",
        "- https://www.w3resource.com/python-exercises/\n",
        "- **Go to Practice Python**"
      ]
    },
    {
      "cell_type": "markdown",
      "metadata": {
        "id": "kGJe9A-Mm8tR",
        "colab_type": "text"
      },
      "source": [
        "## Potential Exam Problems\n",
        "- There will be 10 possible exam questions\n",
        "- **The Easy** \n",
        "    - Three of these\n",
        "        1. Character Input\n",
        "        2. Odd or Even\n",
        "        3. List Ends\n",
        "        4. Max of 3\n",
        "    --------------\n",
        "- **The Medium** \n",
        "    - One of these\n",
        "        5. List Less than 10\n",
        "        6. Divisors\n",
        "    --------------\n",
        "- **The Hard** \n",
        "    - One of these\n",
        "        7. Rock Paper Scissors\n",
        "        8. Guessing Game"
      ]
    },
    {
      "cell_type": "markdown",
      "metadata": {
        "id": "014YbC_Um8tS",
        "colab_type": "text"
      },
      "source": [
        "## How will they be graded?\n",
        "\n",
        "| Part             | Overview                                | Easy | Medium | Hard |\n",
        "|------------------|-----------------------------------------|------|--------|------|\n",
        "| Specification    | Followed instructions; Code runs        | 10   | 15     | 20   |\n",
        "| Readability      | Clean code                              | 5    | 5      | 5    |\n",
        "| Reusability      | Created a function (using def)          | 5    | 5      | 5    |\n",
        "| Documentation    | Student used comments and/or docstrings | 5    | 5      | 5    |\n",
        "| Delivery         | Turned in by end of class time          | -    | 10     | -    |\n"
      ]
    },
    {
      "cell_type": "code",
      "metadata": {
        "id": "G0w38AOJm8tT",
        "colab_type": "code",
        "colab": {}
      },
      "source": [
        ""
      ],
      "execution_count": 0,
      "outputs": []
    },
    {
      "cell_type": "code",
      "metadata": {
        "id": "ZJ3Yh07-m8tX",
        "colab_type": "code",
        "colab": {}
      },
      "source": [
        "################\n",
        "#Your code HERE#\n",
        "################"
      ],
      "execution_count": 0,
      "outputs": []
    },
    {
      "cell_type": "code",
      "metadata": {
        "id": "K12gNxT-m8ta",
        "colab_type": "code",
        "colab": {}
      },
      "source": [
        ""
      ],
      "execution_count": 0,
      "outputs": []
    },
    {
      "cell_type": "code",
      "metadata": {
        "id": "bjtqgxO6m8td",
        "colab_type": "code",
        "colab": {}
      },
      "source": [
        ""
      ],
      "execution_count": 0,
      "outputs": []
    },
    {
      "cell_type": "code",
      "metadata": {
        "id": "boxN4-JLm8th",
        "colab_type": "code",
        "colab": {}
      },
      "source": [
        ""
      ],
      "execution_count": 0,
      "outputs": []
    }
  ]
}