{
 "cells": [
  {
   "cell_type": "markdown",
   "metadata": {},
   "source": [
    "# Discussion of Midterms\n",
    "- First Exam will be solo in-class coding\n",
    "    - Coding ability\n",
    "- Second Exam will start group projects (Why?)\n",
    "    - Agile Methodology (For group projects)\n",
    "        - Student groups (pair programming)"
   ]
  },
  {
   "cell_type": "markdown",
   "metadata": {},
   "source": [
    "# Midterm 1 Overview\n",
    "\n",
    "- **Worth 10% of final grade**\n",
    "- Contain 5 programming problems\n",
    "    - 3 Easy\n",
    "    - 1 Medium\n",
    "    - 1 Hard\n",
    "    - Turned in on time"
   ]
  },
  {
   "cell_type": "markdown",
   "metadata": {},
   "source": [
    "## Where to practice?\n",
    "- www.practicepython.org\n",
    "- https://www.w3resource.com/python-exercises/\n",
    "- **Go to Practice Python**"
   ]
  },
  {
   "cell_type": "markdown",
   "metadata": {},
   "source": [
    "## Potential Exam Problems\n",
    "- There will be 10 possible exam questions\n",
    "- **The Easy** \n",
    "    - Three of these\n",
    "        1. Character Input\n",
    "        2. Odd or Even\n",
    "        3. List Ends\n",
    "        4. Max of 3\n",
    "    --------------\n",
    "- **The Medium** \n",
    "    - One of these\n",
    "        5. List Less than 10\n",
    "        6. Divisors\n",
    "    --------------\n",
    "- **The Hard** \n",
    "    - One of these\n",
    "        7. Rock Paper Scissors\n",
    "        8. Guessing Game"
   ]
  },
  {
   "cell_type": "markdown",
   "metadata": {},
   "source": [
    "## How will they be graded?\n",
    "\n",
    "| Part             | Overview                                | Easy | Medium | Hard |\n",
    "|------------------|-----------------------------------------|------|--------|------|\n",
    "| Specification    | Followed instructions; Code runs        | 10   | 15     | 20   |\n",
    "| Readability      | Clean code                              | 5    | 5      | 5    |\n",
    "| Reusability      | Created a function (using def)          | 5    | 5      | 5    |\n",
    "| Documentation    | Student used comments and/or docstrings | 5    | 5      | 5    |\n",
    "| Delivery         | Turned in by end of class time          | -    | 10     | -    |\n"
   ]
  },
  {
   "cell_type": "code",
   "execution_count": null,
   "metadata": {},
   "outputs": [],
   "source": []
  },
  {
   "cell_type": "code",
   "execution_count": null,
   "metadata": {},
   "outputs": [],
   "source": [
    "################\n",
    "#Your code HERE#\n",
    "################"
   ]
  },
  {
   "cell_type": "code",
   "execution_count": null,
   "metadata": {},
   "outputs": [],
   "source": []
  },
  {
   "cell_type": "code",
   "execution_count": null,
   "metadata": {},
   "outputs": [],
   "source": []
  },
  {
   "cell_type": "code",
   "execution_count": null,
   "metadata": {},
   "outputs": [],
   "source": []
  }
 ],
 "metadata": {
  "kernelspec": {
   "display_name": "Python 3",
   "language": "python",
   "name": "python3"
  },
  "language_info": {
   "codemirror_mode": {
    "name": "ipython",
    "version": 3
   },
   "file_extension": ".py",
   "mimetype": "text/x-python",
   "name": "python",
   "nbconvert_exporter": "python",
   "pygments_lexer": "ipython3",
   "version": "3.6.5"
  }
 },
 "nbformat": 4,
 "nbformat_minor": 2
}
