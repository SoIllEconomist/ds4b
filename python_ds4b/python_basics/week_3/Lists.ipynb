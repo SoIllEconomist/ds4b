{
  "nbformat": 4,
  "nbformat_minor": 0,
  "metadata": {
    "kernelspec": {
      "display_name": "Python 3",
      "language": "python",
      "name": "python3"
    },
    "language_info": {
      "codemirror_mode": {
        "name": "ipython",
        "version": 3
      },
      "file_extension": ".py",
      "mimetype": "text/x-python",
      "name": "python",
      "nbconvert_exporter": "python",
      "pygments_lexer": "ipython3",
      "version": "3.6.5"
    },
    "colab": {
      "name": "Lists.ipynb",
      "provenance": [],
      "include_colab_link": true
    }
  },
  "cells": [
    {
      "cell_type": "markdown",
      "metadata": {
        "id": "view-in-github",
        "colab_type": "text"
      },
      "source": [
        "<a href=\"https://colab.research.google.com/github/SoIllEconomist/ds4b/blob/master/python_ds4b/python_basics/week_3/Lists.ipynb\" target=\"_parent\"><img src=\"https://colab.research.google.com/assets/colab-badge.svg\" alt=\"Open In Colab\"/></a>"
      ]
    },
    {
      "cell_type": "markdown",
      "metadata": {
        "id": "c8bGecKkmxSZ",
        "colab_type": "text"
      },
      "source": [
        "# Lists\n",
        "- Before you can begin writing programs are lists and tuples\n",
        "- Lists and tuples can contain multiple values\n",
        "    - write programs that handle large amounts of data\n",
        "- In this class we'll discuss list basics"
      ]
    },
    {
      "cell_type": "markdown",
      "metadata": {
        "id": "l4Z5N8LImxSh",
        "colab_type": "text"
      },
      "source": [
        "## List Data Type\n",
        "- **list** is a value that contains multiple values in an ordered sequence"
      ]
    },
    {
      "cell_type": "code",
      "metadata": {
        "id": "S9VcdQiFmxSi",
        "colab_type": "code",
        "colab": {}
      },
      "source": [
        "[1,2,3]"
      ],
      "execution_count": 0,
      "outputs": []
    },
    {
      "cell_type": "code",
      "metadata": {
        "id": "WV5V1k01mxSn",
        "colab_type": "code",
        "colab": {}
      },
      "source": [
        "['Bob', 'Jane', 'cat', 'hat']"
      ],
      "execution_count": 0,
      "outputs": []
    },
    {
      "cell_type": "code",
      "metadata": {
        "id": "sGbSSPkYmxSr",
        "colab_type": "code",
        "colab": {}
      },
      "source": [
        "['bob', 2,True, None, 3.4]"
      ],
      "execution_count": 0,
      "outputs": []
    },
    {
      "cell_type": "code",
      "metadata": {
        "id": "AMq3Ai4GmxSv",
        "colab_type": "code",
        "colab": {}
      },
      "source": [
        "spam = ['Bob', 'Jane', 'cat', 'hat']"
      ],
      "execution_count": 0,
      "outputs": []
    },
    {
      "cell_type": "code",
      "metadata": {
        "id": "0jFbmLFwmxSz",
        "colab_type": "code",
        "colab": {},
        "outputId": "e12c4f5b-ae04-4ec1-b6b6-5ab02913a2d3"
      },
      "source": [
        "spam"
      ],
      "execution_count": 0,
      "outputs": [
        {
          "output_type": "execute_result",
          "data": {
            "text/plain": [
              "['Bob', 'Jane', 'cat', 'hat']"
            ]
          },
          "metadata": {
            "tags": []
          },
          "execution_count": 2
        }
      ]
    },
    {
      "cell_type": "markdown",
      "metadata": {
        "id": "e3vMbrPVmxS4",
        "colab_type": "text"
      },
      "source": [
        "## Getting Values in a List (using index)"
      ]
    },
    {
      "cell_type": "code",
      "metadata": {
        "id": "dooxV3ZGmxS5",
        "colab_type": "code",
        "colab": {},
        "outputId": "7ae190c0-2576-4d6a-dbfa-99ce80916889"
      },
      "source": [
        "spam[0]"
      ],
      "execution_count": 0,
      "outputs": [
        {
          "output_type": "execute_result",
          "data": {
            "text/plain": [
              "'Bob'"
            ]
          },
          "metadata": {
            "tags": []
          },
          "execution_count": 3
        }
      ]
    },
    {
      "cell_type": "code",
      "metadata": {
        "id": "Duu54WAUmxS8",
        "colab_type": "code",
        "colab": {},
        "outputId": "03085f44-2a13-44bb-eb09-2ee8831ca9fc"
      },
      "source": [
        "spam[1]"
      ],
      "execution_count": 0,
      "outputs": [
        {
          "output_type": "execute_result",
          "data": {
            "text/plain": [
              "'Jane'"
            ]
          },
          "metadata": {
            "tags": []
          },
          "execution_count": 4
        }
      ]
    },
    {
      "cell_type": "code",
      "metadata": {
        "id": "JXbwm0uNmxTA",
        "colab_type": "code",
        "colab": {},
        "outputId": "9453b8ce-68b5-41d8-941b-b899b40a0ed9"
      },
      "source": [
        "'Hello ' + spam[0]"
      ],
      "execution_count": 0,
      "outputs": [
        {
          "output_type": "execute_result",
          "data": {
            "text/plain": [
              "'Hello Bob'"
            ]
          },
          "metadata": {
            "tags": []
          },
          "execution_count": 5
        }
      ]
    },
    {
      "cell_type": "code",
      "metadata": {
        "scrolled": true,
        "id": "7OPpyONhmxTE",
        "colab_type": "code",
        "colab": {},
        "outputId": "4a2a7ec4-e45b-44f2-bf5a-eaf1f4a74e60"
      },
      "source": [
        "spam[0] + ' married ' + spam[1] + ' for her ' + spam[3] + '.'"
      ],
      "execution_count": 0,
      "outputs": [
        {
          "output_type": "execute_result",
          "data": {
            "text/plain": [
              "'Bob married Jane for her hat.'"
            ]
          },
          "metadata": {
            "tags": []
          },
          "execution_count": 6
        }
      ]
    },
    {
      "cell_type": "markdown",
      "metadata": {
        "id": "GEBpSO-JmxTI",
        "colab_type": "text"
      },
      "source": [
        "## IndexError\n",
        "- Python gives an `IndexError` if you use an index that exceeds the number of values in your list"
      ]
    },
    {
      "cell_type": "code",
      "metadata": {
        "id": "2bbY8zaSmxTK",
        "colab_type": "code",
        "colab": {},
        "outputId": "6e653ec6-5199-4aac-fa9a-a29cd8d99435"
      },
      "source": [
        "spam[100] # you do not have 100 values inside of the list"
      ],
      "execution_count": 0,
      "outputs": [
        {
          "output_type": "error",
          "ename": "IndexError",
          "evalue": "list index out of range",
          "traceback": [
            "\u001b[0;31m---------------------------------------------------------------------------\u001b[0m",
            "\u001b[0;31mIndexError\u001b[0m                                Traceback (most recent call last)",
            "\u001b[0;32m<ipython-input-7-f414c51131a5>\u001b[0m in \u001b[0;36m<module>\u001b[0;34m()\u001b[0m\n\u001b[0;32m----> 1\u001b[0;31m \u001b[0mspam\u001b[0m\u001b[0;34m[\u001b[0m\u001b[0;36m100\u001b[0m\u001b[0;34m]\u001b[0m \u001b[0;31m# you do not have 100 values inside of the list\u001b[0m\u001b[0;34m\u001b[0m\u001b[0m\n\u001b[0m",
            "\u001b[0;31mIndexError\u001b[0m: list index out of range"
          ]
        }
      ]
    },
    {
      "cell_type": "markdown",
      "metadata": {
        "id": "r7bmYrHgmxTN",
        "colab_type": "text"
      },
      "source": [
        "## List of Lists"
      ]
    },
    {
      "cell_type": "code",
      "metadata": {
        "id": "7Y0X2VdwmxTO",
        "colab_type": "code",
        "colab": {}
      },
      "source": [
        "spam = [['Bob', 'Jane'], [1,2,3,100]]"
      ],
      "execution_count": 0,
      "outputs": []
    },
    {
      "cell_type": "code",
      "metadata": {
        "id": "9Eb7QwlSmxTS",
        "colab_type": "code",
        "colab": {},
        "outputId": "c4c19358-3fa4-498b-e614-51946560da0f"
      },
      "source": [
        "spam[0]"
      ],
      "execution_count": 0,
      "outputs": [
        {
          "output_type": "execute_result",
          "data": {
            "text/plain": [
              "['Bob', 'Jane']"
            ]
          },
          "metadata": {
            "tags": []
          },
          "execution_count": 11
        }
      ]
    },
    {
      "cell_type": "code",
      "metadata": {
        "id": "NUyTH16hmxTV",
        "colab_type": "code",
        "colab": {},
        "outputId": "eaaf89a0-70a1-4d5b-a4be-87e5ab831141"
      },
      "source": [
        "spam[1]"
      ],
      "execution_count": 0,
      "outputs": [
        {
          "output_type": "execute_result",
          "data": {
            "text/plain": [
              "[1, 2, 3, 100]"
            ]
          },
          "metadata": {
            "tags": []
          },
          "execution_count": 12
        }
      ]
    },
    {
      "cell_type": "code",
      "metadata": {
        "id": "wsoD5AkqmxTa",
        "colab_type": "code",
        "colab": {},
        "outputId": "a0e0f584-262a-44e6-cd38-9d002de36e68"
      },
      "source": [
        "spam[0][1]"
      ],
      "execution_count": 0,
      "outputs": [
        {
          "output_type": "execute_result",
          "data": {
            "text/plain": [
              "'Jane'"
            ]
          },
          "metadata": {
            "tags": []
          },
          "execution_count": 13
        }
      ]
    },
    {
      "cell_type": "markdown",
      "metadata": {
        "id": "_bnT5TAnmxTe",
        "colab_type": "text"
      },
      "source": [
        "- First index dictates which list\n",
        "    - Second indicates within the list value"
      ]
    },
    {
      "cell_type": "markdown",
      "metadata": {
        "id": "zDKBe_fNmxTf",
        "colab_type": "text"
      },
      "source": [
        "# Negative Indexes\n",
        "- Indexes start at 0 and go up\n",
        "- `-1` refers to the last index in a list\n",
        "    - `-2` the secod to last"
      ]
    },
    {
      "cell_type": "code",
      "metadata": {
        "id": "iUotKvFBmxTk",
        "colab_type": "code",
        "colab": {}
      },
      "source": [
        "spam = ['Bob', 'Jane', 'cat', 'hat']"
      ],
      "execution_count": 0,
      "outputs": []
    },
    {
      "cell_type": "code",
      "metadata": {
        "id": "qbOdjSwvmxTo",
        "colab_type": "code",
        "colab": {}
      },
      "source": [
        "spam_2 = (1,2,3) # Tuple"
      ],
      "execution_count": 0,
      "outputs": []
    },
    {
      "cell_type": "code",
      "metadata": {
        "id": "sHDVTKuRmxTs",
        "colab_type": "code",
        "colab": {}
      },
      "source": [
        "spam_2 = list(spam_2)"
      ],
      "execution_count": 0,
      "outputs": []
    },
    {
      "cell_type": "code",
      "metadata": {
        "id": "6CKbuyAemxTv",
        "colab_type": "code",
        "colab": {},
        "outputId": "09ab1eef-74f1-4b9a-a5e0-fb23247bed65"
      },
      "source": [
        "spam_2"
      ],
      "execution_count": 0,
      "outputs": [
        {
          "output_type": "execute_result",
          "data": {
            "text/plain": [
              "[1, 2, 3]"
            ]
          },
          "metadata": {
            "tags": []
          },
          "execution_count": 27
        }
      ]
    },
    {
      "cell_type": "code",
      "metadata": {
        "id": "NzBdYYeamxT5",
        "colab_type": "code",
        "colab": {},
        "outputId": "7e41b90e-d3ec-4e40-cdef-436c12feadc0"
      },
      "source": [
        "spam"
      ],
      "execution_count": 0,
      "outputs": [
        {
          "output_type": "execute_result",
          "data": {
            "text/plain": [
              "['Bob', 'Jane', 'cat', 'hat']"
            ]
          },
          "metadata": {
            "tags": []
          },
          "execution_count": 15
        }
      ]
    },
    {
      "cell_type": "code",
      "metadata": {
        "id": "u5cHMIRvmxUA",
        "colab_type": "code",
        "colab": {},
        "outputId": "439d8904-c2f7-4ec2-94e0-86535eaf283a"
      },
      "source": [
        "spam[-1]"
      ],
      "execution_count": 0,
      "outputs": [
        {
          "output_type": "execute_result",
          "data": {
            "text/plain": [
              "'hat'"
            ]
          },
          "metadata": {
            "tags": []
          },
          "execution_count": 16
        }
      ]
    },
    {
      "cell_type": "code",
      "metadata": {
        "id": "-qZERUOTmxUE",
        "colab_type": "code",
        "colab": {},
        "outputId": "7aeb82c1-9dc0-467c-ea5e-d7a06c493094"
      },
      "source": [
        "spam[-3]"
      ],
      "execution_count": 0,
      "outputs": [
        {
          "output_type": "execute_result",
          "data": {
            "text/plain": [
              "'Jane'"
            ]
          },
          "metadata": {
            "tags": []
          },
          "execution_count": 17
        }
      ]
    },
    {
      "cell_type": "code",
      "metadata": {
        "id": "UT6eATTLmxUI",
        "colab_type": "code",
        "colab": {},
        "outputId": "5926be0f-7fa5-4033-8726-6c787bfdabad"
      },
      "source": [
        "'The ' + spam[-2] + ' was wearing a ' + spam[-1] + '.'"
      ],
      "execution_count": 0,
      "outputs": [
        {
          "output_type": "execute_result",
          "data": {
            "text/plain": [
              "'The cat was wearing a hat.'"
            ]
          },
          "metadata": {
            "tags": []
          },
          "execution_count": 20
        }
      ]
    },
    {
      "cell_type": "markdown",
      "metadata": {
        "id": "EBfB5wfdmxUL",
        "colab_type": "text"
      },
      "source": [
        "# Slicing\n",
        "- Using an index can get a single value\n",
        "    - **Slicing** can get several values"
      ]
    },
    {
      "cell_type": "code",
      "metadata": {
        "id": "CVwvUzzRmxUM",
        "colab_type": "code",
        "colab": {},
        "outputId": "73359c99-aaa3-476a-bb57-e8daf1ebd209"
      },
      "source": [
        "spam"
      ],
      "execution_count": 0,
      "outputs": [
        {
          "output_type": "execute_result",
          "data": {
            "text/plain": [
              "['Bob', 'Jane', 'cat', 'hat']"
            ]
          },
          "metadata": {
            "tags": []
          },
          "execution_count": 29
        }
      ]
    },
    {
      "cell_type": "code",
      "metadata": {
        "id": "RnMcTySCmxUR",
        "colab_type": "code",
        "colab": {},
        "outputId": "8d028095-8c27-403f-87e3-a821a787c412"
      },
      "source": [
        "spam[2] # list with an index (one integer)\n"
      ],
      "execution_count": 0,
      "outputs": [
        {
          "output_type": "execute_result",
          "data": {
            "text/plain": [
              "'cat'"
            ]
          },
          "metadata": {
            "tags": []
          },
          "execution_count": 32
        }
      ]
    },
    {
      "cell_type": "code",
      "metadata": {
        "id": "ya9enSvcmxUU",
        "colab_type": "code",
        "colab": {},
        "outputId": "01374e2b-8ad9-4bd3-e539-9f7bd820fcaf"
      },
      "source": [
        "spam[1:] # list with a slice (two integers)"
      ],
      "execution_count": 0,
      "outputs": [
        {
          "output_type": "execute_result",
          "data": {
            "text/plain": [
              "['Jane', 'cat', 'hat']"
            ]
          },
          "metadata": {
            "tags": []
          },
          "execution_count": 33
        }
      ]
    },
    {
      "cell_type": "markdown",
      "metadata": {
        "id": "0zZkK4H6mxUX",
        "colab_type": "text"
      },
      "source": [
        "## Slicing\n",
        "- First integer is the index where the slice starts\n",
        "- Second is the index where the slice ends\n",
        "    - Slice goes **up to, but not including** the second integer"
      ]
    },
    {
      "cell_type": "code",
      "metadata": {
        "id": "bEC-BkLMmxUY",
        "colab_type": "code",
        "colab": {},
        "outputId": "f6a77b02-4fb1-4b7f-8023-90d784f0f86b"
      },
      "source": [
        "spam[0:4]"
      ],
      "execution_count": 0,
      "outputs": [
        {
          "output_type": "execute_result",
          "data": {
            "text/plain": [
              "['Bob', 'Jane', 'cat', 'hat']"
            ]
          },
          "metadata": {
            "tags": []
          },
          "execution_count": 36
        }
      ]
    },
    {
      "cell_type": "code",
      "metadata": {
        "id": "hZ_DOiqkmxUb",
        "colab_type": "code",
        "colab": {},
        "outputId": "58c667d8-582f-4d2f-ff97-10a88b697856"
      },
      "source": [
        "spam[1:3]"
      ],
      "execution_count": 0,
      "outputs": [
        {
          "output_type": "execute_result",
          "data": {
            "text/plain": [
              "['Jane', 'cat']"
            ]
          },
          "metadata": {
            "tags": []
          },
          "execution_count": 37
        }
      ]
    },
    {
      "cell_type": "code",
      "metadata": {
        "id": "r3N94wOnmxUe",
        "colab_type": "code",
        "colab": {},
        "outputId": "3754b973-41fa-4546-a778-881766611baa"
      },
      "source": [
        "spam[0:-1]"
      ],
      "execution_count": 0,
      "outputs": [
        {
          "output_type": "execute_result",
          "data": {
            "text/plain": [
              "['Bob', 'Jane', 'cat']"
            ]
          },
          "metadata": {
            "tags": []
          },
          "execution_count": 38
        }
      ]
    },
    {
      "cell_type": "markdown",
      "metadata": {
        "id": "Ta57GRonmxUj",
        "colab_type": "text"
      },
      "source": [
        "## Slicing\n",
        "- You can leave one or both indexes out on either side of the colon\n",
        "- Leaving out the first is the same as using `0`\n",
        "- Leaving out the second is same a using the length of the list"
      ]
    },
    {
      "cell_type": "code",
      "metadata": {
        "id": "RnebYZyNmxUk",
        "colab_type": "code",
        "colab": {},
        "outputId": "921e165a-349c-4a37-c745-86236f91c433"
      },
      "source": [
        "spam[:2] # 0 up to 2"
      ],
      "execution_count": 0,
      "outputs": [
        {
          "output_type": "execute_result",
          "data": {
            "text/plain": [
              "['Bob', 'Jane']"
            ]
          },
          "metadata": {
            "tags": []
          },
          "execution_count": 39
        }
      ]
    },
    {
      "cell_type": "code",
      "metadata": {
        "id": "L_VfaICmmxUt",
        "colab_type": "code",
        "colab": {},
        "outputId": "a9eefcd3-a165-4596-fda7-9a1e1549f23d"
      },
      "source": [
        "spam[2:] # from 2 to the end"
      ],
      "execution_count": 0,
      "outputs": [
        {
          "output_type": "execute_result",
          "data": {
            "text/plain": [
              "['cat', 'hat']"
            ]
          },
          "metadata": {
            "tags": []
          },
          "execution_count": 40
        }
      ]
    },
    {
      "cell_type": "code",
      "metadata": {
        "id": "OuvlGknBmxUw",
        "colab_type": "code",
        "colab": {},
        "outputId": "b0a23a1c-ede2-4830-915c-953a4dc4f155"
      },
      "source": [
        "spam[:] # all"
      ],
      "execution_count": 0,
      "outputs": [
        {
          "output_type": "execute_result",
          "data": {
            "text/plain": [
              "['Bob', 'Jane', 'cat', 'hat']"
            ]
          },
          "metadata": {
            "tags": []
          },
          "execution_count": 42
        }
      ]
    },
    {
      "cell_type": "code",
      "metadata": {
        "id": "Wfg6zaOjmxUz",
        "colab_type": "code",
        "colab": {},
        "outputId": "c84b26bb-fb11-48c6-bedf-e2d1d76a7147"
      },
      "source": [
        "spam[::-1]"
      ],
      "execution_count": 0,
      "outputs": [
        {
          "output_type": "execute_result",
          "data": {
            "text/plain": [
              "['hat', 'cat', 'Jane', 'Bob']"
            ]
          },
          "metadata": {
            "tags": []
          },
          "execution_count": 43
        }
      ]
    },
    {
      "cell_type": "markdown",
      "metadata": {
        "id": "B-JMu2MwmxU1",
        "colab_type": "text"
      },
      "source": [
        "# Length of a list\n",
        "- `len()` function returns the number of values that are in a list"
      ]
    },
    {
      "cell_type": "code",
      "metadata": {
        "id": "_WCggzyvmxU2",
        "colab_type": "code",
        "colab": {},
        "outputId": "34ec58e9-066d-4cfa-c78b-95675f58d9cc"
      },
      "source": [
        "spam"
      ],
      "execution_count": 0,
      "outputs": [
        {
          "output_type": "execute_result",
          "data": {
            "text/plain": [
              "['Bob', 'Jane', 'cat', 'hat']"
            ]
          },
          "metadata": {
            "tags": []
          },
          "execution_count": 44
        }
      ]
    },
    {
      "cell_type": "code",
      "metadata": {
        "id": "FJjEZcQMmxU5",
        "colab_type": "code",
        "colab": {},
        "outputId": "13b9125a-4f8e-4d01-b750-cca2965491f2"
      },
      "source": [
        "spam"
      ],
      "execution_count": 0,
      "outputs": [
        {
          "output_type": "execute_result",
          "data": {
            "text/plain": [
              "['Bob', 'Jane', 'cat', 'hat']"
            ]
          },
          "metadata": {
            "tags": []
          },
          "execution_count": 50
        }
      ]
    },
    {
      "cell_type": "markdown",
      "metadata": {
        "id": "9_cU6YhQmxVF",
        "colab_type": "text"
      },
      "source": [
        "# Changing Values\n",
        "- You can use an index of a list to change the value"
      ]
    },
    {
      "cell_type": "code",
      "metadata": {
        "id": "23L8eL_TmxVH",
        "colab_type": "code",
        "colab": {},
        "outputId": "f5350102-82d8-47dd-8c94-d492b8a66587"
      },
      "source": [
        "spam"
      ],
      "execution_count": 0,
      "outputs": [
        {
          "output_type": "execute_result",
          "data": {
            "text/plain": [
              "['Bob', 'Jane', 'cat', 'hat']"
            ]
          },
          "metadata": {
            "tags": []
          },
          "execution_count": 51
        }
      ]
    },
    {
      "cell_type": "code",
      "metadata": {
        "id": "aplQz53kmxVJ",
        "colab_type": "code",
        "colab": {}
      },
      "source": [
        "spam[2] = 'reddie'"
      ],
      "execution_count": 0,
      "outputs": []
    },
    {
      "cell_type": "code",
      "metadata": {
        "id": "ALoqdd6gmxVM",
        "colab_type": "code",
        "colab": {},
        "outputId": "2bf965de-c89d-472e-c166-938350e24d2a"
      },
      "source": [
        "spam"
      ],
      "execution_count": 0,
      "outputs": [
        {
          "output_type": "execute_result",
          "data": {
            "text/plain": [
              "['Bob', 'Jane', 'reddie', 'hat']"
            ]
          },
          "metadata": {
            "tags": []
          },
          "execution_count": 53
        }
      ]
    },
    {
      "cell_type": "code",
      "metadata": {
        "id": "Ai46buarmxVP",
        "colab_type": "code",
        "colab": {}
      },
      "source": [
        "spam[1] = spam[3]"
      ],
      "execution_count": 0,
      "outputs": []
    },
    {
      "cell_type": "code",
      "metadata": {
        "id": "7luwY6SamxVR",
        "colab_type": "code",
        "colab": {},
        "outputId": "eedfd74a-a47d-428c-9bbe-4e71368c55d9"
      },
      "source": [
        "spam"
      ],
      "execution_count": 0,
      "outputs": [
        {
          "output_type": "execute_result",
          "data": {
            "text/plain": [
              "['Bob', 'hat', 'reddie', 'hat']"
            ]
          },
          "metadata": {
            "tags": []
          },
          "execution_count": 55
        }
      ]
    },
    {
      "cell_type": "code",
      "metadata": {
        "id": "5LfevOo_mxVU",
        "colab_type": "code",
        "colab": {},
        "outputId": "d5ccf75b-af54-4572-d093-9cf0e6a5e78f"
      },
      "source": [
        "set(spam)"
      ],
      "execution_count": 0,
      "outputs": [
        {
          "output_type": "execute_result",
          "data": {
            "text/plain": [
              "{'Bob', 'hat', 'reddie'}"
            ]
          },
          "metadata": {
            "tags": []
          },
          "execution_count": 56
        }
      ]
    },
    {
      "cell_type": "markdown",
      "metadata": {
        "id": "NUaC0bi9mxVe",
        "colab_type": "text"
      },
      "source": [
        "# List Concatenation\n",
        "- Use the `+` operator to combine lists together\n",
        "- Use the `*` operator to replicate a list"
      ]
    },
    {
      "cell_type": "code",
      "metadata": {
        "id": "d1xpOk0SmxVf",
        "colab_type": "code",
        "colab": {},
        "outputId": "665b45c5-2e97-4990-a57e-9ab4cbd35781"
      },
      "source": [
        "[1,2,3] + ['a', 'b', 'c']"
      ],
      "execution_count": 0,
      "outputs": [
        {
          "output_type": "execute_result",
          "data": {
            "text/plain": [
              "[1, 2, 3, 'a', 'b', 'c']"
            ]
          },
          "metadata": {
            "tags": []
          },
          "execution_count": 57
        }
      ]
    },
    {
      "cell_type": "code",
      "metadata": {
        "id": "UCBHEfAhmxVr",
        "colab_type": "code",
        "colab": {},
        "outputId": "2c71dbaa-61b3-48c5-a78c-df194c3ce6db"
      },
      "source": [
        "['a', 'b', 'c'] * 3"
      ],
      "execution_count": 0,
      "outputs": [
        {
          "output_type": "execute_result",
          "data": {
            "text/plain": [
              "['a', 'b', 'c', 'a', 'b', 'c', 'a', 'b', 'c']"
            ]
          },
          "metadata": {
            "tags": []
          },
          "execution_count": 58
        }
      ]
    },
    {
      "cell_type": "code",
      "metadata": {
        "id": "1jXkuvdQmxV0",
        "colab_type": "code",
        "colab": {}
      },
      "source": [
        "spam = [1,2,3]"
      ],
      "execution_count": 0,
      "outputs": []
    },
    {
      "cell_type": "code",
      "metadata": {
        "id": "Dw3uorQImxV3",
        "colab_type": "code",
        "colab": {}
      },
      "source": [
        "spam = spam + ['x','y','z']"
      ],
      "execution_count": 0,
      "outputs": []
    },
    {
      "cell_type": "code",
      "metadata": {
        "id": "eSe9LGXYmxV7",
        "colab_type": "code",
        "colab": {},
        "outputId": "bf34b0dd-6667-4c1c-c14a-8d60c71ced63"
      },
      "source": [
        "spam"
      ],
      "execution_count": 0,
      "outputs": [
        {
          "output_type": "execute_result",
          "data": {
            "text/plain": [
              "[1, 2, 3, 'x', 'y', 'z']"
            ]
          },
          "metadata": {
            "tags": []
          },
          "execution_count": 61
        }
      ]
    },
    {
      "cell_type": "markdown",
      "metadata": {
        "id": "QnojCeD-mxWA",
        "colab_type": "text"
      },
      "source": [
        "# Remove Values from Lists\n",
        "- The `del` statement will delete values at a specified index\n",
        "- The `.pop` method will remove (or pop) the last value in the list\n",
        "    - Or pop the value indicated by the index\n"
      ]
    },
    {
      "cell_type": "code",
      "metadata": {
        "id": "xA3erOFkmxWB",
        "colab_type": "code",
        "colab": {}
      },
      "source": [
        "del spam[1]"
      ],
      "execution_count": 0,
      "outputs": []
    },
    {
      "cell_type": "code",
      "metadata": {
        "id": "eTpr_dzxmxWD",
        "colab_type": "code",
        "colab": {},
        "outputId": "07657c6e-5707-4794-cd46-49ecb40ecba4"
      },
      "source": [
        "spam"
      ],
      "execution_count": 0,
      "outputs": [
        {
          "output_type": "execute_result",
          "data": {
            "text/plain": [
              "[1, 3, 'x', 'y', 'z']"
            ]
          },
          "metadata": {
            "tags": []
          },
          "execution_count": 63
        }
      ]
    },
    {
      "cell_type": "code",
      "metadata": {
        "id": "9ef7imQJmxWF",
        "colab_type": "code",
        "colab": {},
        "outputId": "328a8e18-0cf2-41eb-96e9-0d9ca0447d59"
      },
      "source": [
        "spam.pop(2)"
      ],
      "execution_count": 0,
      "outputs": [
        {
          "output_type": "execute_result",
          "data": {
            "text/plain": [
              "'x'"
            ]
          },
          "metadata": {
            "tags": []
          },
          "execution_count": 64
        }
      ]
    },
    {
      "cell_type": "code",
      "metadata": {
        "id": "KnVOsPWymxWI",
        "colab_type": "code",
        "colab": {},
        "outputId": "993d8cc4-8aff-427a-b83b-b140f9ca8074"
      },
      "source": [
        "spam"
      ],
      "execution_count": 0,
      "outputs": [
        {
          "output_type": "execute_result",
          "data": {
            "text/plain": [
              "[1, 3, 'y', 'z']"
            ]
          },
          "metadata": {
            "tags": []
          },
          "execution_count": 66
        }
      ]
    },
    {
      "cell_type": "code",
      "metadata": {
        "id": "_I3YUMTKmxWK",
        "colab_type": "code",
        "colab": {}
      },
      "source": [
        "var_1 = spam.pop(2)"
      ],
      "execution_count": 0,
      "outputs": []
    },
    {
      "cell_type": "code",
      "metadata": {
        "id": "VN5sK_ZYmxWN",
        "colab_type": "code",
        "colab": {},
        "outputId": "b51fbbb9-0be6-46d5-8fcd-df417d4c8e96"
      },
      "source": [
        "var_1"
      ],
      "execution_count": 0,
      "outputs": [
        {
          "output_type": "execute_result",
          "data": {
            "text/plain": [
              "'y'"
            ]
          },
          "metadata": {
            "tags": []
          },
          "execution_count": 68
        }
      ]
    },
    {
      "cell_type": "markdown",
      "metadata": {
        "id": "Kv80kXdEmxWP",
        "colab_type": "text"
      },
      "source": [
        "# For loops and Lists\n",
        "- A common technique is to use the `enumerate(LIST)` with a for loop to iterate over the number of items in a list and the contents of the list"
      ]
    },
    {
      "cell_type": "code",
      "metadata": {
        "id": "4EDNuBsrmxWQ",
        "colab_type": "code",
        "colab": {},
        "outputId": "95ebcf55-2b08-4e07-96dd-9dba607d912d"
      },
      "source": [
        "students_list = ['Bob', 'Zelda', 'Jim', 'Eli']\n",
        "\n",
        "for i, name in enumerate(students_list):\n",
        "    print('Index ' + str(i) + ' in students_list is: ' + name)"
      ],
      "execution_count": 0,
      "outputs": [
        {
          "output_type": "stream",
          "text": [
            "Index 0 in students_list is: Bob\n",
            "Index 1 in students_list is: Zelda\n",
            "Index 2 in students_list is: Jim\n",
            "Index 3 in students_list is: Eli\n"
          ],
          "name": "stdout"
        }
      ]
    },
    {
      "cell_type": "code",
      "metadata": {
        "id": "iAK3GBhMmxWT",
        "colab_type": "code",
        "colab": {},
        "outputId": "65011726-5de8-4501-ec8f-893832d7a1f6"
      },
      "source": [
        "students_list = []\n",
        "\n",
        "while True: # Create infinite loop\n",
        "    print('Enter the name of a student ' + # Create intro message\n",
        "          str(len(students_list) + 1) + \n",
        "          '(Or press enter to stop.):')\n",
        "    name = input() # Get input\n",
        "    if name == '':\n",
        "        break\n",
        "    students_list = students_list + [name] # list concatenation\n",
        "    \n",
        "print('Student List')\n",
        "print('============')\n",
        "for i, name in enumerate(students_list): # For loop + enumerate\n",
        "    print(str(i + 1)+'. ' + name)\n",
        "    "
      ],
      "execution_count": 0,
      "outputs": [
        {
          "output_type": "stream",
          "text": [
            "Enter the name of a student 1(Or press enter to stop.):\n",
            "Bob\n",
            "Enter the name of a student 2(Or press enter to stop.):\n",
            "Tony\n",
            "Enter the name of a student 3(Or press enter to stop.):\n",
            "Eli\n",
            "Enter the name of a student 4(Or press enter to stop.):\n",
            "Jim\n",
            "Enter the name of a student 5(Or press enter to stop.):\n",
            "Xu\n",
            "Enter the name of a student 6(Or press enter to stop.):\n",
            "\n",
            "Student List\n",
            "============\n",
            "1. Bob\n",
            "2. Tony\n",
            "3. Eli\n",
            "4. Jim\n",
            "5. Xu\n"
          ],
          "name": "stdout"
        }
      ]
    },
    {
      "cell_type": "markdown",
      "metadata": {
        "id": "-h5ol-XXmxWV",
        "colab_type": "text"
      },
      "source": [
        "# in and not in operators\n",
        "- Determine a values is/isn't in a list with the `in` and `not in` operators"
      ]
    },
    {
      "cell_type": "code",
      "metadata": {
        "id": "-0mG1QCmmxWW",
        "colab_type": "code",
        "colab": {}
      },
      "source": [
        "students_list = ['Bob', 'Xu', 'Eli', 'Jim']"
      ],
      "execution_count": 0,
      "outputs": []
    },
    {
      "cell_type": "code",
      "metadata": {
        "id": "b4Z4Z_oPmxWY",
        "colab_type": "code",
        "colab": {}
      },
      "source": [
        "'Bob' in students_list"
      ],
      "execution_count": 0,
      "outputs": []
    },
    {
      "cell_type": "code",
      "metadata": {
        "id": "SWwqSzStmxWa",
        "colab_type": "code",
        "colab": {}
      },
      "source": [
        "'Zelda' in students_list"
      ],
      "execution_count": 0,
      "outputs": []
    },
    {
      "cell_type": "code",
      "metadata": {
        "id": "x_y2ogpymxWe",
        "colab_type": "code",
        "colab": {}
      },
      "source": [
        "'Eli' not in students_list"
      ],
      "execution_count": 0,
      "outputs": []
    },
    {
      "cell_type": "code",
      "metadata": {
        "id": "Umk4T7NGmxWi",
        "colab_type": "code",
        "colab": {}
      },
      "source": [
        "'Alex' not in students_list"
      ],
      "execution_count": 0,
      "outputs": []
    },
    {
      "cell_type": "markdown",
      "metadata": {
        "id": "OfV64zuomxWl",
        "colab_type": "text"
      },
      "source": [
        "## Example of in (not in)"
      ]
    },
    {
      "cell_type": "code",
      "metadata": {
        "id": "i5KDttawmxWm",
        "colab_type": "code",
        "colab": {}
      },
      "source": [
        "def student_enroll():\n",
        "    students_list = ['Bob', 'Dylan', 'Eli', 'Carolyn', 'Xu']\n",
        "    print('Enter a student name')\n",
        "    name = input()\n",
        "    if name not in students_list:\n",
        "        print(name + ' is NOT enrolled in your class.')\n",
        "    else:\n",
        "        print(name + ' is enrolled in your class.')\n"
      ],
      "execution_count": 0,
      "outputs": []
    },
    {
      "cell_type": "code",
      "metadata": {
        "id": "MtXgbVX2mxWp",
        "colab_type": "code",
        "colab": {}
      },
      "source": [
        "student_enroll()"
      ],
      "execution_count": 0,
      "outputs": []
    },
    {
      "cell_type": "code",
      "metadata": {
        "id": "Km3CtT_0mxWr",
        "colab_type": "code",
        "colab": {}
      },
      "source": [
        "student_enroll()"
      ],
      "execution_count": 0,
      "outputs": []
    },
    {
      "cell_type": "markdown",
      "metadata": {
        "id": "D0XtiF66mxWt",
        "colab_type": "text"
      },
      "source": [
        "# Multiple Assignment\n",
        "- **muliple assignment** allows you to assign mulitple variables with the values in a list in one line of code."
      ]
    },
    {
      "cell_type": "code",
      "metadata": {
        "id": "T94LyfyvmxWu",
        "colab_type": "code",
        "colab": {}
      },
      "source": [
        "colors = ['blue', 'green', 'pink']"
      ],
      "execution_count": 0,
      "outputs": []
    },
    {
      "cell_type": "code",
      "metadata": {
        "id": "WMxGBjyYmxWw",
        "colab_type": "code",
        "colab": {}
      },
      "source": [
        "water = colors[0]\n",
        "frog = colors[1]\n",
        "flower = colors[2]"
      ],
      "execution_count": 0,
      "outputs": []
    },
    {
      "cell_type": "code",
      "metadata": {
        "id": "U568-stsmxWy",
        "colab_type": "code",
        "colab": {}
      },
      "source": [
        "water, frog, flower = colors"
      ],
      "execution_count": 0,
      "outputs": []
    },
    {
      "cell_type": "code",
      "metadata": {
        "id": "RF8evdpCmxW1",
        "colab_type": "code",
        "colab": {}
      },
      "source": [
        "water"
      ],
      "execution_count": 0,
      "outputs": []
    },
    {
      "cell_type": "code",
      "metadata": {
        "id": "H_xZ7dVYmxW3",
        "colab_type": "code",
        "colab": {}
      },
      "source": [
        "x,y = 1, 2"
      ],
      "execution_count": 0,
      "outputs": []
    },
    {
      "cell_type": "code",
      "metadata": {
        "id": "RjvBfqxGmxW5",
        "colab_type": "code",
        "colab": {}
      },
      "source": [
        "x"
      ],
      "execution_count": 0,
      "outputs": []
    },
    {
      "cell_type": "code",
      "metadata": {
        "id": "VcTcppUwmxW7",
        "colab_type": "code",
        "colab": {}
      },
      "source": [
        "y"
      ],
      "execution_count": 0,
      "outputs": []
    },
    {
      "cell_type": "markdown",
      "metadata": {
        "id": "vivnkW4DmxW9",
        "colab_type": "text"
      },
      "source": [
        "# Augmented assignment statement table\n",
        "| Augmented Statement | Equivalent      |\n",
        "|---------------------|-----------------|\n",
        "| spam += 1           | spam = spam + 1 |\n",
        "| spam -= 1           | spam = spam - 1 |\n",
        "| spam *= 1           | spam = spam * 1 |\n",
        "| spam /=             | spam = spam / 1 |\n",
        "| spam %=             | spam = spam % 1 |\n"
      ]
    },
    {
      "cell_type": "code",
      "metadata": {
        "id": "mSJLxBcimxW-",
        "colab_type": "code",
        "colab": {}
      },
      "source": [
        "spam = 'Hello'"
      ],
      "execution_count": 0,
      "outputs": []
    },
    {
      "cell_type": "code",
      "metadata": {
        "id": "R8Phmvp0mxXA",
        "colab_type": "code",
        "colab": {}
      },
      "source": [
        "spam += ' world!'"
      ],
      "execution_count": 0,
      "outputs": []
    },
    {
      "cell_type": "code",
      "metadata": {
        "id": "yyz3jv9tmxXC",
        "colab_type": "code",
        "colab": {}
      },
      "source": [
        "spam"
      ],
      "execution_count": 0,
      "outputs": []
    },
    {
      "cell_type": "code",
      "metadata": {
        "id": "oiSft8GvmxXF",
        "colab_type": "code",
        "colab": {}
      },
      "source": [
        "student = ['Bill!']\n",
        "student *= 5"
      ],
      "execution_count": 0,
      "outputs": []
    },
    {
      "cell_type": "code",
      "metadata": {
        "id": "6Z0r9xrtmxXH",
        "colab_type": "code",
        "colab": {}
      },
      "source": [
        "student"
      ],
      "execution_count": 0,
      "outputs": []
    },
    {
      "cell_type": "markdown",
      "metadata": {
        "id": "YM2ciJyVmxXI",
        "colab_type": "text"
      },
      "source": [
        "# Methods\n",
        "- **methods** is a function except it is attached to the end of an object"
      ]
    },
    {
      "cell_type": "code",
      "metadata": {
        "id": "2GiH_8mimxXJ",
        "colab_type": "code",
        "colab": {}
      },
      "source": [
        "students_list"
      ],
      "execution_count": 0,
      "outputs": []
    },
    {
      "cell_type": "code",
      "metadata": {
        "id": "OjkfgD6amxXM",
        "colab_type": "code",
        "colab": {}
      },
      "source": [
        "students_list.index('Jim') # If value exists in list, give index"
      ],
      "execution_count": 0,
      "outputs": []
    },
    {
      "cell_type": "code",
      "metadata": {
        "id": "ylX7iGkXmxXN",
        "colab_type": "code",
        "colab": {}
      },
      "source": [
        "students_list.index('Xu') # If it's not in the list gives error"
      ],
      "execution_count": 0,
      "outputs": []
    },
    {
      "cell_type": "code",
      "metadata": {
        "id": "X26f9rAjmxXP",
        "colab_type": "code",
        "colab": {}
      },
      "source": [
        "students_list_2 = students_list + ['Bob']"
      ],
      "execution_count": 0,
      "outputs": []
    },
    {
      "cell_type": "code",
      "metadata": {
        "id": "1JGZa5UvmxXg",
        "colab_type": "code",
        "colab": {}
      },
      "source": [
        "students_list_2"
      ],
      "execution_count": 0,
      "outputs": []
    },
    {
      "cell_type": "code",
      "metadata": {
        "id": "EEBiGuNamxXk",
        "colab_type": "code",
        "colab": {}
      },
      "source": [
        "students_list_2.index('Bob') # If duplicate, stops at first"
      ],
      "execution_count": 0,
      "outputs": []
    },
    {
      "cell_type": "markdown",
      "metadata": {
        "id": "Vf6pb7mtmxXu",
        "colab_type": "text"
      },
      "source": [
        "# Adding values to Lists\n",
        "- Besides using `+` we can use the `append` and `insert` methods\n",
        "- `append`: adds value to the end of the list\n",
        "- `insert`: first argument index for new value, second value to be added"
      ]
    },
    {
      "cell_type": "code",
      "metadata": {
        "id": "RBIgWILKmxXv",
        "colab_type": "code",
        "colab": {}
      },
      "source": [
        "students_list"
      ],
      "execution_count": 0,
      "outputs": []
    },
    {
      "cell_type": "code",
      "metadata": {
        "id": "086Z40GkmxXx",
        "colab_type": "code",
        "colab": {}
      },
      "source": [
        "students_list.append('Xu') # adds Xu to end of the list"
      ],
      "execution_count": 0,
      "outputs": []
    },
    {
      "cell_type": "code",
      "metadata": {
        "id": "CwKhe1u4mxX0",
        "colab_type": "code",
        "colab": {}
      },
      "source": [
        "students_list.insert(1, 'NEW')"
      ],
      "execution_count": 0,
      "outputs": []
    },
    {
      "cell_type": "code",
      "metadata": {
        "id": "5clj7NJKmxX2",
        "colab_type": "code",
        "colab": {}
      },
      "source": [
        "students_list.insert(2, 'NEW')"
      ],
      "execution_count": 0,
      "outputs": []
    },
    {
      "cell_type": "code",
      "metadata": {
        "id": "Hdym_nx1mxX8",
        "colab_type": "code",
        "colab": {}
      },
      "source": [
        "students_list"
      ],
      "execution_count": 0,
      "outputs": []
    },
    {
      "cell_type": "markdown",
      "metadata": {
        "id": "NKSa5Ib_mxX-",
        "colab_type": "text"
      },
      "source": [
        "# Removing value from Lists\n",
        "- `remove` method is passed to the value to be removed from the list\n",
        "    - Removes the first occurance of the value"
      ]
    },
    {
      "cell_type": "code",
      "metadata": {
        "id": "v2IyW-gmmxX_",
        "colab_type": "code",
        "colab": {}
      },
      "source": [
        "students_list.remove('NEW')"
      ],
      "execution_count": 0,
      "outputs": []
    },
    {
      "cell_type": "code",
      "metadata": {
        "id": "H_4_v51ImxYB",
        "colab_type": "code",
        "colab": {}
      },
      "source": [
        "students_list"
      ],
      "execution_count": 0,
      "outputs": []
    },
    {
      "cell_type": "markdown",
      "metadata": {
        "id": "RyuLpiJ9mxYS",
        "colab_type": "text"
      },
      "source": [
        "# Sorting Values in a List\n",
        "- The `sort` method allows numbers or strings to be sorted within a list"
      ]
    },
    {
      "cell_type": "code",
      "metadata": {
        "id": "MZZUzUhamxYS",
        "colab_type": "code",
        "colab": {}
      },
      "source": [
        "students_list.sort()"
      ],
      "execution_count": 0,
      "outputs": []
    },
    {
      "cell_type": "code",
      "metadata": {
        "id": "XNupf3tHmxYT",
        "colab_type": "code",
        "colab": {}
      },
      "source": [
        "students_list"
      ],
      "execution_count": 0,
      "outputs": []
    },
    {
      "cell_type": "code",
      "metadata": {
        "id": "QXnFTwdlmxYW",
        "colab_type": "code",
        "colab": {}
      },
      "source": [
        "numbers = [9,8,39, 23,1,2,4,6,3]"
      ],
      "execution_count": 0,
      "outputs": []
    },
    {
      "cell_type": "code",
      "metadata": {
        "id": "Mf9zrXO9mxYY",
        "colab_type": "code",
        "colab": {}
      },
      "source": [
        "numbers.sort()"
      ],
      "execution_count": 0,
      "outputs": []
    },
    {
      "cell_type": "code",
      "metadata": {
        "id": "s2FJMJ9SmxYZ",
        "colab_type": "code",
        "colab": {}
      },
      "source": [
        "numbers"
      ],
      "execution_count": 0,
      "outputs": []
    },
    {
      "cell_type": "code",
      "metadata": {
        "id": "GyzZwCAymxYb",
        "colab_type": "code",
        "colab": {}
      },
      "source": [
        "students_list.sort(reverse=True)\n",
        "students_list"
      ],
      "execution_count": 0,
      "outputs": []
    },
    {
      "cell_type": "markdown",
      "metadata": {
        "id": "1NI471DWmxYc",
        "colab_type": "text"
      },
      "source": [
        "# Magic 8 Ball (Again)"
      ]
    },
    {
      "cell_type": "code",
      "metadata": {
        "id": "bV4upY8dmxYc",
        "colab_type": "code",
        "colab": {}
      },
      "source": [
        "def magic_8_ball():\n",
        "    import random\n",
        "    message = ['Certain', \n",
        "               'Decidedly so', \n",
        "              'Try again',\n",
        "              'No',\n",
        "              'Outlook is not good',\n",
        "              'Doubtful',\n",
        "              'Yes']\n",
        "    print(message[random.randint(0, len(message)-1)])\n",
        "\n",
        "magic_8_ball()"
      ],
      "execution_count": 0,
      "outputs": []
    },
    {
      "cell_type": "code",
      "metadata": {
        "id": "AvKZmSshmxYe",
        "colab_type": "code",
        "colab": {}
      },
      "source": [
        ""
      ],
      "execution_count": 0,
      "outputs": []
    },
    {
      "cell_type": "code",
      "metadata": {
        "id": "yoM6c7o-mxYg",
        "colab_type": "code",
        "colab": {}
      },
      "source": [
        ""
      ],
      "execution_count": 0,
      "outputs": []
    },
    {
      "cell_type": "code",
      "metadata": {
        "id": "tg2KHhB1mxYh",
        "colab_type": "code",
        "colab": {}
      },
      "source": [
        ""
      ],
      "execution_count": 0,
      "outputs": []
    },
    {
      "cell_type": "code",
      "metadata": {
        "id": "hPF_IfPWmxYi",
        "colab_type": "code",
        "colab": {}
      },
      "source": [
        ""
      ],
      "execution_count": 0,
      "outputs": []
    }
  ]
}