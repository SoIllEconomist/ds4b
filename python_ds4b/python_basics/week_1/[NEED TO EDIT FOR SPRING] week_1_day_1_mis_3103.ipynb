{
  "nbformat": 4,
  "nbformat_minor": 0,
  "metadata": {
    "kernelspec": {
      "display_name": "Python 3",
      "language": "python",
      "name": "python3"
    },
    "language_info": {
      "codemirror_mode": {
        "name": "ipython",
        "version": 3
      },
      "file_extension": ".py",
      "mimetype": "text/x-python",
      "name": "python",
      "nbconvert_exporter": "python",
      "pygments_lexer": "ipython3",
      "version": "3.6.5"
    },
    "colab": {
      "name": "[NEED TO EDIT FOR SPRING] week_1_day_1_mis_3103.ipynb",
      "provenance": [],
      "include_colab_link": true
    }
  },
  "cells": [
    {
      "cell_type": "markdown",
      "metadata": {
        "id": "view-in-github",
        "colab_type": "text"
      },
      "source": [
        "<a href=\"https://colab.research.google.com/github/SoIllEconomist/ds4b/blob/master/python_ds4b/python_basics/week_1/%5BNEED%20TO%20EDIT%20FOR%20SPRING%5D%20week_1_day_1_mis_3103.ipynb\" target=\"_parent\"><img src=\"https://colab.research.google.com/assets/colab-badge.svg\" alt=\"Open In Colab\"/></a>"
      ]
    },
    {
      "cell_type": "markdown",
      "metadata": {
        "id": "z56psOI2mMkb",
        "colab_type": "text"
      },
      "source": [
        "# MIS 3153 - Data Management\n",
        "\n",
        "- Week 1 Overview:\n",
        "    - Course Introduction\n",
        "    - Syllabus\n",
        "    - Atom\n",
        "    - Taste of Py(thon)"
      ]
    },
    {
      "cell_type": "markdown",
      "metadata": {
        "id": "poZF51cHmMkk",
        "colab_type": "text"
      },
      "source": [
        "# Course Introduction\n",
        "\n",
        "The course can be broken down into three parts:\n",
        "\n",
        "1. Python Basics\n",
        "2. Application Development\n",
        "3. Dealing with Data"
      ]
    },
    {
      "cell_type": "markdown",
      "metadata": {
        "id": "njS1wN89mMkl",
        "colab_type": "text"
      },
      "source": [
        "# Course Material\n",
        "\n",
        "- (Optional) Brownley, Clinton W. Foundations for Analytics with Python: From Non-Programmer to Hacker. \" O'Reilly Media, Inc.\", 2016.\n",
        "- (Optional) Sweigart, Al. Automate the boring stuff with Python: practical programming for total beginners. No Starch Press, 2015.\n"
      ]
    },
    {
      "cell_type": "markdown",
      "metadata": {
        "id": "7wxlyxjnmMko",
        "colab_type": "text"
      },
      "source": [
        "# What you will learn\n",
        "\n",
        "- Moving and renaming thousands of files and sorting them into folders\n",
        "\n",
        "- Filling out online forms, no typing required\n",
        "\n",
        "- Downloading files or copy text from a website whenever it updates\n",
        "\n",
        "- Having your computer text you custom notifications\n",
        "\n",
        "- Updating or formatting Excel spreadsheets\n",
        "\n",
        "- Checking your email and sending out prewritten responses\n",
        "\n",
        "<strong><center>These tasks are simple but time-consuming<center/><strong/>\n"
      ]
    },
    {
      "cell_type": "markdown",
      "metadata": {
        "id": "EuXj-1rbmMkq",
        "colab_type": "text"
      },
      "source": [
        "# What is programming?\n",
        "\n",
        "- Programs use basic instructions as building blocks. E.g.,\n",
        "\n",
        "    - “Do this; then do that.”\n",
        "\n",
        "    - “If this condition is true, perform this action; otherwise, do that action.”\n",
        "\n",
        "    - “Do this action that number of times.”\n",
        "\n",
        "    - “Keep doing that until this condition is true.”"
      ]
    },
    {
      "cell_type": "markdown",
      "metadata": {
        "id": "HzrawJcimMkr",
        "colab_type": "text"
      },
      "source": [
        "# What is Python and Why use it?\n",
        "\n",
        "- Python refers to the Python programming language\n",
        "- Python interpreter is free to download and there are versions for Linux, OS X, and Windows\n",
        "- Python is a general-purpose dynamic programming language that focuses on code readability"
      ]
    },
    {
      "cell_type": "markdown",
      "metadata": {
        "id": "DcCGhn3DmMkv",
        "colab_type": "text"
      },
      "source": [
        "# Programming is Creative\n",
        "\n",
        "- Start with a basic idea of what you want to do \n",
        "- Take stock of the skills available to you\n",
        "- Start building your program\n",
        "- Once finished building your program, you can beautify your code (if you want)\n",
        "- The difference between programming and other creative activities is that when programming, you have all the raw materials you need in your computer; you don’t need to buy any additional material \n",
        "- When your program is written, it can easily be shared online with the entire world"
      ]
    },
    {
      "cell_type": "markdown",
      "metadata": {
        "id": "Wkv7UiZPmMkw",
        "colab_type": "text"
      },
      "source": [
        "# Taste of Py\n",
        "\n",
        "Follow along by opening up Jupyter.\n",
        "\n",
        "or\n",
        "\n",
        "Go to jupyter.org/try"
      ]
    },
    {
      "cell_type": "code",
      "metadata": {
        "id": "l8YgChtimMky",
        "colab_type": "code",
        "colab": {}
      },
      "source": [
        ""
      ],
      "execution_count": 0,
      "outputs": []
    }
  ]
}