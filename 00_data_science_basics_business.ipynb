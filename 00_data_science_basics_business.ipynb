{
  "nbformat": 4,
  "nbformat_minor": 0,
  "metadata": {
    "colab": {
      "name": "00_data_science_basics_business.ipynb",
      "provenance": [],
      "collapsed_sections": [],
      "include_colab_link": true
    },
    "kernelspec": {
      "name": "python3",
      "display_name": "Python 3"
    }
  },
  "cells": [
    {
      "cell_type": "markdown",
      "metadata": {
        "id": "view-in-github",
        "colab_type": "text"
      },
      "source": [
        "<a href=\"https://colab.research.google.com/github/SoIllEconomist/ds4b/blob/master/00_data_science_basics_business.ipynb\" target=\"_parent\"><img src=\"https://colab.research.google.com/assets/colab-badge.svg\" alt=\"Open In Colab\"/></a>"
      ]
    },
    {
      "cell_type": "markdown",
      "metadata": {
        "id": "eijvK8hh0Ps-",
        "colab_type": "text"
      },
      "source": [
        "# Data Science Basics for Business\n",
        "\n",
        "## Types of Data Science\n",
        "\n",
        "1. Descriptive Analytics (Business Intelligence): Get useful data in front\n",
        "of the right people in the form of dashboards, reports, and emails\n",
        "  - Which customers have churned?\n",
        "  - Which homes have sold in a given locaAon, and do homes of a\n",
        " certain size sell more quickly?\n",
        "\n",
        "1. Predictive Analytics (Machine Learning): Put data science models continuously into production\n",
        "  - Which customers may churn?\n",
        "  - How much will a home sell for, given its location and number of rooms?\n",
        "\n",
        "1. Prescriptive Analytics (Decision Science): Use data to help a company make decisions\n",
        "  - What should we do about the particular types of customers that are prone to churn?\n",
        "  - How should we market a home to sell quickly, given its location and number of rooms?\n",
        "\n",
        "## Standard Data Science Workflow\n",
        "1. Data Collection: Compile data from different sources and store it for efficient access\n",
        "1. Exploration and Visualization: Explore and visualize data through dashboards\n",
        "1. Experimentation and Prediction: The buzziest topic in data science - machine learning\n",
        "\n",
        "## Building a Data Science Team\n",
        "Your team members require different skills for different purposes.\n",
        "\n",
        "| **Data Engineer**       | **Data Analyst**            | **Machine Learning Engineer**                    | **Data Scientist**                              |\n",
        "|-------------------------|-----------------------------|--------------------------------------------------|-------------------------------------------------|\n",
        "| Store and maintain data | Visualize and describe data | Write production-level code to predict with data | Build custom models to drive business decisions |\n",
        "| SQL/Java/Scala/Python   | SQL/BI Tools/ Spreadsheets  | Python/Java/R                                    | Python/R/SQL                                    |\n",
        "\n",
        "## Data Science Team Organizational Models\n",
        "\n",
        "### Centralized/isolated\n",
        "\n",
        "The data team is the owner of data and answers requests from other teams.\n",
        "\n",
        "!(Centralized data team structure chart)[centralized_team.png]\n",
        "\n",
        "### Embedded\n",
        "Data Experts are dispersed accross an organization and report to functional leaders\n",
        "\n",
        "!(embedded data team structure chart)[embedded_team.png]\n",
        "\n",
        "### Hybrid\n",
        "Data experts sit with functional teams and also report to the Chief Data Scientist - so data is an organizational priority.\n",
        "\n",
        "!(Hybrid data team structure chart)[hybrid_team.png]\n",
        "\n",
        "## Exploration and Visualization\n",
        "The type of dashboard you should use depends on what you'll be using it for. \n",
        "\n",
        "### Common Dashboard Elements\n",
        "\n",
        "| **Type**          | **What is it best for?**       | **Example**              |\n",
        "|-------------------|--------------------------------|--------------------------|\n",
        "| Time series       | Tracking a value over time.    | Monthly active users     |\n",
        "| Stacked bar chart | Tracking composition over time | Web Traffic Source       |\n",
        "| Bar Chart         | Categorical comparison         | Page visit length by age |\n",
        "\n",
        "\n",
        "### Popular Dashboard Tools\n",
        "| **Spreadsheets** | **BI Tools** | **Customized Tools** |\n",
        "|------------------|--------------|----------------------|\n",
        "| Excel            | Power BI     | R Shiny              |\n",
        "| Sheets (Google)  | Tableau      | d3.js                |\n",
        "|                  | Looker       | Plotly/Bokeh         |\n",
        "\n",
        "### When you should request a dashboard\n",
        "1. When you'll use it multiple times\n",
        "1. When you'll need the information updated regularly\n",
        "1. When the request will always be the same\n",
        "\n",
        "## Experimentation and Prediction\n",
        "### Machine Learning\n",
        "Machine learning is an application of artificial intelligence (AI) that builds algorithms ad statistical models to train data to address specific questions without explicit instructions. \n",
        "\n",
        "|             | **Supervised Machine Learning**                                      | **Unsupervised Machine Learning**                                   |\n",
        "|-------------|----------------------------------------------------------------------|---------------------------------------------------------------------|\n",
        "| **Purpose** | Makes predictions from data with labels and features                 | Makes predictions by clustering data with no labels into categories |\n",
        "| **Example** | Recommendation systems, email subject optimization, churn prediction | Image segmentation, customer segmentation                           |\n",
        "\n",
        "### Special Topics in Machine Learning\n",
        "\n",
        "1. Time series forecasting is a technique for predicting events through a sequence of time and can captuer seasonality or periodic events.\n",
        "1. Natural Language Processing (NLP) allows computer to process and analyze large amounts of natural langauge data. \n",
        "  - Text as input data\n",
        "  - Word counts track the importance of words in a text\n",
        "  - Word embeddings create features that group similar words\n",
        "\n",
        "| **Deep Learning / Neural Networks** enables unsupervised machine learning using data that is unstructured or unlabeled. | **Explainable AI** is an emerging field in machine learning that applies AI such that results can be easily understood. |\n",
        "|-------------------------------------------------------------------------------------------------------------------------|-------------------------------------------------------------------------------------------------------------------------|\n",
        "| Highly accurate predictions                                                                                             | Understandable by humans                                                                                                |\n",
        "| Better for \"What?\"                                                                                                      | Better for \"Why?\"                                                                                                       |\n",
        "\n",
        "\n",
        "\n"
      ]
    },
    {
      "cell_type": "code",
      "metadata": {
        "id": "e8BOLnKj0OdZ",
        "colab_type": "code",
        "colab": {}
      },
      "source": [
        ""
      ],
      "execution_count": 0,
      "outputs": []
    }
  ]
}